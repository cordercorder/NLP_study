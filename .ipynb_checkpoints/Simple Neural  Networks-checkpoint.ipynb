{
 "cells": [
  {
   "cell_type": "code",
   "execution_count": 5,
   "metadata": {},
   "outputs": [],
   "source": [
    "import numpy as np"
   ]
  },
  {
   "cell_type": "code",
   "execution_count": 3,
   "metadata": {},
   "outputs": [],
   "source": [
    "class NeuralNetWorks:\n",
    "    \n",
    "    def __init__(self,input_vec_num,hidden_vec_num,output_vec_num,learning_rate,activator):\n",
    "        self.input_vec_num=input_vec_num\n",
    "        self.output_vec_num=output_vec_num\n",
    "        self.learning_rate=learning_rate\n",
    "        self.activator=activator\n",
    "        self.weight=[]\n",
    "        pre=input_vec_num\n",
    "        for d in hidden_vec_num:\n",
    "            self.weight.append()\n",
    "        \n",
    "        "
   ]
  },
  {
   "cell_type": "code",
   "execution_count": null,
   "metadata": {},
   "outputs": [],
   "source": []
  }
 ],
 "metadata": {
  "kernelspec": {
   "display_name": "Python 3",
   "language": "python",
   "name": "python3"
  },
  "language_info": {
   "codemirror_mode": {
    "name": "ipython",
    "version": 3
   },
   "file_extension": ".py",
   "mimetype": "text/x-python",
   "name": "python",
   "nbconvert_exporter": "python",
   "pygments_lexer": "ipython3",
   "version": "3.7.0"
  }
 },
 "nbformat": 4,
 "nbformat_minor": 2
}
