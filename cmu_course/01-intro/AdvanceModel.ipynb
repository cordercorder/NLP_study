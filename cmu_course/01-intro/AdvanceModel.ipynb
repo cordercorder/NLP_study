{
 "cells": [
  {
   "cell_type": "code",
   "execution_count": 1,
   "metadata": {},
   "outputs": [],
   "source": [
    "from collections import defaultdict\n",
    "\n",
    "import time \n",
    "import random\n",
    "import numpy as np\n",
    "\n",
    "import torch\n",
    "import torch.nn as nn"
   ]
  },
  {
   "cell_type": "code",
   "execution_count": 2,
   "metadata": {},
   "outputs": [],
   "source": [
    "gpu_id = \"2\"\n",
    "device = torch.device(\"cuda:\" + gpu_id if torch.cuda.is_available() else \"cpu\")"
   ]
  },
  {
   "cell_type": "code",
   "execution_count": 3,
   "metadata": {},
   "outputs": [],
   "source": [
    "word2index = defaultdict(lambda : len(word2index))\n",
    "tag2index = defaultdict(lambda : len(tag2index))"
   ]
  },
  {
   "cell_type": "code",
   "execution_count": 4,
   "metadata": {},
   "outputs": [],
   "source": [
    "def read_data(data_path, sep):\n",
    "    \n",
    "    with open(data_path) as f:\n",
    "        \n",
    "        data = f.read().split(\"\\n\")\n",
    "        \n",
    "        for line in data:\n",
    "            tmp = line.lower().strip().split(sep)\n",
    "            \n",
    "            if len(tmp) != 2:\n",
    "                continue\n",
    "            \n",
    "            tag, sentence = tmp\n",
    "            yield ([word2index[word] for word in sentence.split()], tag2index[tag])"
   ]
  },
  {
   "cell_type": "code",
   "execution_count": 5,
   "metadata": {},
   "outputs": [],
   "source": [
    "train_data = list(read_data(\"../../cmu_data/classes/train.txt\", \" ||| \"))\n",
    "UNK = word2index[\"unk\"]\n",
    "word2index = defaultdict(lambda : UNK, word2index)\n",
    "dev = list(read_data(\"../../cmu_data/classes/test.txt\", \" ||| \"))\n",
    "vocab_size = len(word2index)\n",
    "tag_size = len(tag2index)"
   ]
  },
  {
   "cell_type": "code",
   "execution_count": 19,
   "metadata": {},
   "outputs": [],
   "source": [
    "test_drop = nn.Dropout()\n",
    "test_tmp = torch.randn(2, 3)"
   ]
  },
  {
   "cell_type": "code",
   "execution_count": 20,
   "metadata": {},
   "outputs": [
    {
     "data": {
      "text/plain": [
       "tensor([[ 3.3618, -0.5447,  1.3796],\n",
       "        [ 0.0000,  1.4963, -0.0000]])"
      ]
     },
     "execution_count": 20,
     "metadata": {},
     "output_type": "execute_result"
    }
   ],
   "source": [
    "test_drop(test_tmp)"
   ]
  },
  {
   "cell_type": "code",
   "execution_count": 21,
   "metadata": {},
   "outputs": [],
   "source": [
    "test_drop = nn.Dropout(1)\n",
    "test_tmp = torch.randn(2, 3)"
   ]
  },
  {
   "cell_type": "code",
   "execution_count": 22,
   "metadata": {},
   "outputs": [
    {
     "data": {
      "text/plain": [
       "tensor([[0., -0., 0.],\n",
       "        [0., 0., -0.]])"
      ]
     },
     "execution_count": 22,
     "metadata": {},
     "output_type": "execute_result"
    }
   ],
   "source": [
    "test_drop(test_tmp)"
   ]
  },
  {
   "cell_type": "code",
   "execution_count": 71,
   "metadata": {},
   "outputs": [],
   "source": [
    "class AdvanceModel(nn.Module):\n",
    "    \n",
    "    def __init__(self, vocab_size, embedding_size1, embedding_size2, tag_size):\n",
    "        \n",
    "        super(AdvanceModel, self).__init__()\n",
    "        \n",
    "        self.embedding = nn.Embedding(vocab_size, embedding_size1)\n",
    "        self.fc1 = nn.Linear(embedding_size1, embedding_size2)\n",
    "        self.activation1 = nn.ReLU()\n",
    "        self.dropout = nn.Dropout()\n",
    "        \n",
    "        self.fc2 = nn.Linear(embedding_size2, tag_size)\n",
    "    \n",
    "    def forward(self, inputs):\n",
    "        # inputs: (input_length, )\n",
    "        \n",
    "        inputs = self.embedding(inputs) # (input_length, embedding_size1)\n",
    "        \n",
    "        inputs = self.fc1(inputs) # (input_length, embedding_size2)\n",
    "        inputs = self.dropout(inputs)\n",
    "        inputs = self.activation1(inputs)\n",
    "        \n",
    "        inputs = torch.sum(inputs, dim=0, keepdim=True) # (1, embedding_size2)\n",
    "        \n",
    "        outputs = self.fc2(inputs) # (1, tag_size)\n",
    "        \n",
    "        return outputs"
   ]
  },
  {
   "cell_type": "code",
   "execution_count": 72,
   "metadata": {},
   "outputs": [],
   "source": [
    "Embedding_size1, Embedding_size2 = 64, 64"
   ]
  },
  {
   "cell_type": "code",
   "execution_count": 73,
   "metadata": {},
   "outputs": [],
   "source": [
    "net = AdvanceModel(vocab_size, Embedding_size1, Embedding_size2, tag_size).to(device)"
   ]
  },
  {
   "cell_type": "code",
   "execution_count": 74,
   "metadata": {},
   "outputs": [],
   "source": [
    "criterion = nn.CrossEntropyLoss()\n",
    "optimizer = torch.optim.Adam(net.parameters())"
   ]
  },
  {
   "cell_type": "code",
   "execution_count": 75,
   "metadata": {},
   "outputs": [],
   "source": [
    "loss_trace = []\n",
    "acc_trace = []"
   ]
  },
  {
   "cell_type": "code",
   "execution_count": 76,
   "metadata": {},
   "outputs": [],
   "source": [
    "train_tensor = [(torch.tensor(sent).to(device), torch.tensor([tag]).to(device)) for sent, tag in train_data]\n",
    "dev_tensor = [(torch.tensor(sent).to(device), tag) for sent, tag in dev]"
   ]
  },
  {
   "cell_type": "code",
   "execution_count": 77,
   "metadata": {},
   "outputs": [
    {
     "name": "stdout",
     "output_type": "stream",
     "text": [
      "Epoch: 0, time: 13.028997421264648, loss: 1.7022782320484575\n",
      "Epoch: 0, acc: 0.3434389140271493\n",
      "Epoch: 1, time: 11.055860996246338, loss: 1.4856566462582081\n",
      "Epoch: 1, acc: 0.34434389140271493\n",
      "Epoch: 2, time: 10.957271337509155, loss: 1.3610662461331722\n",
      "Epoch: 2, acc: 0.38823529411764707\n",
      "Epoch: 3, time: 14.936198234558105, loss: 1.2570562823658131\n",
      "Epoch: 3, acc: 0.3760180995475113\n",
      "Epoch: 4, time: 22.30114507675171, loss: 1.1555872045488755\n",
      "Epoch: 4, acc: 0.3733031674208145\n",
      "Epoch: 5, time: 23.79137945175171, loss: 1.0493458346734068\n",
      "Epoch: 5, acc: 0.3904977375565611\n",
      "Epoch: 6, time: 16.75532579421997, loss: 0.9648016182895861\n",
      "Epoch: 6, acc: 0.37013574660633486\n",
      "Epoch: 7, time: 24.51083993911743, loss: 0.8730994540049558\n",
      "Epoch: 7, acc: 0.3751131221719457\n",
      "Epoch: 8, time: 23.000749826431274, loss: 0.7946950390993588\n",
      "Epoch: 8, acc: 0.37013574660633486\n",
      "Epoch: 9, time: 22.63004994392395, loss: 0.7157773185847393\n",
      "Epoch: 9, acc: 0.3565610859728507\n",
      "Epoch: 10, time: 23.67009735107422, loss: 0.6660016309230676\n",
      "Epoch: 10, acc: 0.3665158371040724\n",
      "Epoch: 11, time: 13.01247525215149, loss: 0.601325892825593\n",
      "Epoch: 11, acc: 0.3669683257918552\n",
      "Epoch: 12, time: 11.029852628707886, loss: 0.5513991165330328\n",
      "Epoch: 12, acc: 0.36334841628959275\n",
      "Epoch: 13, time: 14.158763408660889, loss: 0.5044025857288658\n",
      "Epoch: 13, acc: 0.37013574660633486\n",
      "Epoch: 14, time: 23.289639949798584, loss: 0.44544443702092773\n",
      "Epoch: 14, acc: 0.3420814479638009\n",
      "Epoch: 15, time: 18.200987815856934, loss: 0.4257531569682885\n",
      "Epoch: 15, acc: 0.3339366515837104\n",
      "Epoch: 16, time: 19.404943704605103, loss: 0.39681624330065524\n",
      "Epoch: 16, acc: 0.3497737556561086\n",
      "Epoch: 17, time: 20.843302249908447, loss: 0.3585843159761704\n",
      "Epoch: 17, acc: 0.34615384615384615\n",
      "Epoch: 18, time: 21.58523154258728, loss: 0.33687022805037836\n",
      "Epoch: 18, acc: 0.33122171945701356\n",
      "Epoch: 19, time: 16.369640588760376, loss: 0.30815845200331854\n",
      "Epoch: 19, acc: 0.35248868778280545\n",
      "Epoch: 20, time: 26.908040761947632, loss: 0.2873108261373864\n",
      "Epoch: 20, acc: 0.32714932126696833\n",
      "Epoch: 21, time: 26.866632223129272, loss: 0.276367772972165\n",
      "Epoch: 21, acc: 0.3334841628959276\n",
      "Epoch: 22, time: 25.371541738510132, loss: 0.24851805058861326\n",
      "Epoch: 22, acc: 0.33619909502262446\n",
      "Epoch: 23, time: 24.8325252532959, loss: 0.22792832989682538\n",
      "Epoch: 23, acc: 0.3334841628959276\n",
      "Epoch: 24, time: 26.06713318824768, loss: 0.22782594118325505\n",
      "Epoch: 24, acc: 0.33710407239819007\n",
      "Epoch: 25, time: 26.27533268928528, loss: 0.20446124633043622\n",
      "Epoch: 25, acc: 0.3266968325791855\n",
      "Epoch: 26, time: 25.798274517059326, loss: 0.20227298901672736\n",
      "Epoch: 26, acc: 0.3167420814479638\n",
      "Epoch: 27, time: 23.423412799835205, loss: 0.19014799842985217\n",
      "Epoch: 27, acc: 0.3180995475113122\n",
      "Epoch: 28, time: 21.309542655944824, loss: 0.19927845556223936\n",
      "Epoch: 28, acc: 0.33167420814479637\n",
      "Epoch: 29, time: 15.402640581130981, loss: 0.19479054789665357\n",
      "Epoch: 29, acc: 0.33619909502262446\n",
      "Epoch: 30, time: 22.991791009902954, loss: 0.17705357345549644\n",
      "Epoch: 30, acc: 0.33076923076923076\n",
      "Epoch: 31, time: 21.487178802490234, loss: 0.1734355491127835\n",
      "Epoch: 31, acc: 0.32760180995475113\n",
      "Epoch: 32, time: 20.090725421905518, loss: 0.16818795090542116\n",
      "Epoch: 32, acc: 0.33619909502262446\n",
      "Epoch: 33, time: 21.783883094787598, loss: 0.16302199368246295\n",
      "Epoch: 33, acc: 0.33212669683257917\n",
      "Epoch: 34, time: 25.873093366622925, loss: 0.14670337276259213\n",
      "Epoch: 34, acc: 0.32805429864253394\n",
      "Epoch: 35, time: 22.591750621795654, loss: 0.1584183940148785\n",
      "Epoch: 35, acc: 0.318552036199095\n",
      "Epoch: 36, time: 25.677872896194458, loss: 0.16065373578321293\n",
      "Epoch: 36, acc: 0.33122171945701356\n",
      "Epoch: 37, time: 21.07821536064148, loss: 0.15775758397300232\n",
      "Epoch: 37, acc: 0.3208144796380091\n",
      "Epoch: 38, time: 21.207108736038208, loss: 0.15036307760489903\n",
      "Epoch: 38, acc: 0.3199095022624434\n",
      "Epoch: 39, time: 25.89202880859375, loss: 0.14164652754722706\n",
      "Epoch: 39, acc: 0.32895927601809954\n",
      "Epoch: 40, time: 26.35362482070923, loss: 0.13787561592978184\n",
      "Epoch: 40, acc: 0.3244343891402715\n",
      "Epoch: 41, time: 23.645978212356567, loss: 0.14102339403300934\n",
      "Epoch: 41, acc: 0.3230769230769231\n",
      "Epoch: 42, time: 25.480883359909058, loss: 0.15214177708674312\n",
      "Epoch: 42, acc: 0.32986425339366515\n",
      "Epoch: 43, time: 25.587828636169434, loss: 0.14512916124020991\n",
      "Epoch: 43, acc: 0.32895927601809954\n",
      "Epoch: 44, time: 20.206045150756836, loss: 0.12189169270370141\n",
      "Epoch: 44, acc: 0.3248868778280543\n",
      "Epoch: 45, time: 25.325836181640625, loss: 0.14393835377625244\n",
      "Epoch: 45, acc: 0.34479638009049773\n",
      "Epoch: 46, time: 24.78927445411682, loss: 0.11844880199530737\n",
      "Epoch: 46, acc: 0.3352941176470588\n",
      "Epoch: 47, time: 26.808542013168335, loss: 0.12715004781169087\n",
      "Epoch: 47, acc: 0.3402714932126697\n",
      "Epoch: 48, time: 26.43107509613037, loss: 0.12496107939627149\n",
      "Epoch: 48, acc: 0.32805429864253394\n",
      "Epoch: 49, time: 25.918047189712524, loss: 0.13113489680904336\n",
      "Epoch: 49, acc: 0.3352941176470588\n"
     ]
    }
   ],
   "source": [
    "EPOCH = 50\n",
    "\n",
    "for epoch in range(EPOCH):\n",
    "    \n",
    "    random.shuffle(train_tensor)\n",
    "    \n",
    "    start_time = time.time()\n",
    "    train_loss = 0.0\n",
    "    \n",
    "    net.train()\n",
    "    \n",
    "    for sent, tag in train_tensor:\n",
    "        \n",
    "        \n",
    "        output = net(sent)\n",
    "        loss = criterion(output, tag)\n",
    "        train_loss += loss.item()\n",
    "        \n",
    "        optimizer.zero_grad()\n",
    "        loss.backward()\n",
    "        optimizer.step()\n",
    "    \n",
    "    loss_trace.append(train_loss / len(train_tensor))\n",
    "    \n",
    "    print(\"Epoch: {}, time: {}, loss: {}\".format(epoch, time.time() - start_time, train_loss / len(train_tensor)))\n",
    "    \n",
    "    correct_num = 0\n",
    "    \n",
    "    with torch.no_grad():\n",
    "        net.eval()\n",
    "        \n",
    "        for sent, tag in dev_tensor:\n",
    "            \n",
    "            output = net(sent)\n",
    "            pred = torch.argmax(output, dim=1) # (1, )\n",
    "            \n",
    "            if pred[0] == tag:\n",
    "                correct_num += 1\n",
    "    \n",
    "    acc_trace.append(correct_num / len(dev_tensor))\n",
    "    print(\"Epoch: {}, acc: {}\".format(epoch, correct_num / len(dev_tensor)))"
   ]
  },
  {
   "cell_type": "code",
   "execution_count": 78,
   "metadata": {},
   "outputs": [],
   "source": [
    "import matplotlib.pyplot as plt"
   ]
  },
  {
   "cell_type": "code",
   "execution_count": 79,
   "metadata": {},
   "outputs": [
    {
     "data": {
      "text/plain": [
       "<matplotlib.legend.Legend at 0x7fe3bd70cf90>"
      ]
     },
     "execution_count": 79,
     "metadata": {},
     "output_type": "execute_result"
    },
    {
     "data": {
      "image/png": "[encoded data removed]",
      "text/plain": [
       "<Figure size 432x288 with 1 Axes>"
      ]
     },
     "metadata": {
      "needs_background": "light"
     },
     "output_type": "display_data"
    }
   ],
   "source": [
    "plt.plot(loss_trace, label=\"loss trace\")\n",
    "plt.xlabel(\"epoch\")\n",
    "plt.ylabel(\"loss\")\n",
    "plt.grid()\n",
    "plt.legend()"
   ]
  },
  {
   "cell_type": "code",
   "execution_count": 80,
   "metadata": {},
   "outputs": [
    {
     "data": {
      "text/plain": [
       "<matplotlib.legend.Legend at 0x7fe3bd73e5d0>"
      ]
     },
     "execution_count": 80,
     "metadata": {},
     "output_type": "execute_result"
    },
    {
     "data": {
      "image/png": "[encoded data removed]",
      "text/plain": [
       "<Figure size 432x288 with 1 Axes>"
      ]
     },
     "metadata": {
      "needs_background": "light"
     },
     "output_type": "display_data"
    }
   ],
   "source": [
    "plt.plot(acc_trace, label=\"acc trace\")\n",
    "plt.xlabel(\"epoch\")\n",
    "plt.ylabel(\"acc\")\n",
    "plt.grid()\n",
    "plt.legend()"
   ]
  },
  {
   "cell_type": "code",
   "execution_count": 81,
   "metadata": {},
   "outputs": [],
   "source": [
    "from torch.utils.tensorboard import SummaryWriter"
   ]
  },
  {
   "cell_type": "code",
   "execution_count": 82,
   "metadata": {},
   "outputs": [],
   "source": [
    "writer = SummaryWriter(\"/data/rrjin/run/cmu_nlp_course/01-intro\")"
   ]
  },
  {
   "cell_type": "code",
   "execution_count": 85,
   "metadata": {},
   "outputs": [],
   "source": [
    "writer.add_graph(net, train_tensor[0][0])"
   ]
  },
  {
   "cell_type": "code",
   "execution_count": 86,
   "metadata": {},
   "outputs": [],
   "source": [
    "writer.close()"
   ]
  },
  {
   "cell_type": "code",
   "execution_count": null,
   "metadata": {},
   "outputs": [],
   "source": []
  }
 ],
 "metadata": {
  "kernelspec": {
   "display_name": "Python 3",
   "language": "python",
   "name": "python3"
  },
  "language_info": {
   "codemirror_mode": {
    "name": "ipython",
    "version": 3
   },
   "file_extension": ".py",
   "mimetype": "text/x-python",
   "name": "python",
   "nbconvert_exporter": "python",
   "pygments_lexer": "ipython3",
   "version": "3.7.7"
  }
 },
 "nbformat": 4,
 "nbformat_minor": 4
}
