{
 "cells": [
  {
   "cell_type": "code",
   "execution_count": 1,
   "metadata": {},
   "outputs": [],
   "source": [
    "from collections import defaultdict\n",
    "\n",
    "import time \n",
    "import random\n",
    "import numpy as np\n",
    "\n",
    "import torch\n",
    "import torch.nn as nn"
   ]
  },
  {
   "cell_type": "code",
   "execution_count": 4,
   "metadata": {},
   "outputs": [],
   "source": [
    "gpu_id = \"2\""
   ]
  },
  {
   "cell_type": "code",
   "execution_count": 5,
   "metadata": {},
   "outputs": [],
   "source": [
    "device = torch.device(\"cuda:\" + gpu_id if torch.cuda.is_available() else \"cpu\")"
   ]
  },
  {
   "cell_type": "code",
   "execution_count": 8,
   "metadata": {},
   "outputs": [
    {
     "data": {
      "text/plain": [
       "0"
      ]
     },
     "execution_count": 8,
     "metadata": {},
     "output_type": "execute_result"
    }
   ],
   "source": [
    "torch.cuda.memory_allocated()"
   ]
  },
  {
   "cell_type": "code",
   "execution_count": 46,
   "metadata": {},
   "outputs": [],
   "source": [
    "word2index = defaultdict(lambda : len(word2index))\n",
    "tag2index = defaultdict(lambda : len(tag2index))"
   ]
  },
  {
   "cell_type": "code",
   "execution_count": 47,
   "metadata": {},
   "outputs": [],
   "source": [
    "def read_data(data_path, sep):\n",
    "    \n",
    "    with open(data_path) as f:\n",
    "        \n",
    "        data = f.read().split(\"\\n\")\n",
    "        \n",
    "        for line in data:\n",
    "            tmp = line.lower().strip().split(sep)\n",
    "            \n",
    "            if len(tmp) != 2:\n",
    "                continue\n",
    "            \n",
    "            tag, sentence = tmp\n",
    "            yield ([word2index[word] for word in sentence.split()], tag2index[tag])"
   ]
  },
  {
   "cell_type": "code",
   "execution_count": 48,
   "metadata": {},
   "outputs": [],
   "source": [
    "train_data = list(read_data(\"../../cmu_data/classes/train.txt\", \" ||| \"))"
   ]
  },
  {
   "cell_type": "code",
   "execution_count": 51,
   "metadata": {},
   "outputs": [],
   "source": [
    "UNK = word2index[\"unk\"]"
   ]
  },
  {
   "cell_type": "code",
   "execution_count": 52,
   "metadata": {},
   "outputs": [
    {
     "data": {
      "text/plain": [
       "(8544, 16580)"
      ]
     },
     "execution_count": 52,
     "metadata": {},
     "output_type": "execute_result"
    }
   ],
   "source": [
    "len(train_data), len(word2index)"
   ]
  },
  {
   "cell_type": "code",
   "execution_count": 53,
   "metadata": {},
   "outputs": [],
   "source": [
    "word2index = defaultdict(lambda : UNK, word2index)"
   ]
  },
  {
   "cell_type": "code",
   "execution_count": 54,
   "metadata": {},
   "outputs": [],
   "source": [
    "dev = list(read_data(\"../../cmu_data/classes/test.txt\", \" ||| \"))"
   ]
  },
  {
   "cell_type": "code",
   "execution_count": 56,
   "metadata": {},
   "outputs": [
    {
     "data": {
      "text/plain": [
       "defaultdict(<function __main__.<lambda>()>,\n",
       "            {'3': 0, '4': 1, '2': 2, '1': 3, '0': 4})"
      ]
     },
     "execution_count": 56,
     "metadata": {},
     "output_type": "execute_result"
    }
   ],
   "source": [
    "tag2index"
   ]
  },
  {
   "cell_type": "code",
   "execution_count": 57,
   "metadata": {},
   "outputs": [],
   "source": [
    "vocab_size = len(word2index)\n",
    "tag_size = len(tag2index)"
   ]
  },
  {
   "cell_type": "code",
   "execution_count": 17,
   "metadata": {},
   "outputs": [],
   "source": [
    "class BasicModel(nn.Module):\n",
    "    \n",
    "    def __init__(self, vocab_size, tag_size):\n",
    "        \n",
    "        super(BasicModel, self).__init__()\n",
    "        \n",
    "        self.embedding = nn.Embedding(vocab_size, tag_size)\n",
    "        self.b = nn.Parameter(torch.zeros(size=(tag_size, )))\n",
    "        \n",
    "    \n",
    "    def forward(self, inputs):\n",
    "        \n",
    "        # inputs: (input_length, )\n",
    "        \n",
    "        inputs = self.embedding(inputs) # (input_length, tag_size)\n",
    "        inputs = torch.sum(inputs, dim=0) # (tag_size, )\n",
    "        outputs = inputs + self.b # (tag_size, )\n",
    "        \n",
    "        outputs = torch.unsqueeze(outputs, dim=0) # (1, tag_size)\n",
    "        return outputs"
   ]
  },
  {
   "cell_type": "code",
   "execution_count": 66,
   "metadata": {},
   "outputs": [],
   "source": [
    "test_tmp = torch.randn(size=(2, 3))"
   ]
  },
  {
   "cell_type": "code",
   "execution_count": 67,
   "metadata": {},
   "outputs": [],
   "source": [
    "test_id = torch.argmax(test_tmp, dim=1)"
   ]
  },
  {
   "cell_type": "code",
   "execution_count": 68,
   "metadata": {},
   "outputs": [
    {
     "data": {
      "text/plain": [
       "tensor([0, 1])"
      ]
     },
     "execution_count": 68,
     "metadata": {},
     "output_type": "execute_result"
    }
   ],
   "source": [
    "test_id"
   ]
  },
  {
   "cell_type": "code",
   "execution_count": 73,
   "metadata": {},
   "outputs": [
    {
     "data": {
      "text/plain": [
       "tensor([[ 2.2257,  0.7270],\n",
       "        [-0.7519,  0.0926]])"
      ]
     },
     "execution_count": 73,
     "metadata": {},
     "output_type": "execute_result"
    }
   ],
   "source": [
    "test_tmp[:, test_id]"
   ]
  },
  {
   "cell_type": "code",
   "execution_count": 71,
   "metadata": {},
   "outputs": [
    {
     "data": {
      "text/plain": [
       "tensor([[ 2.2257,  0.7270, -1.4132],\n",
       "        [-0.7519,  0.0926, -0.0769]])"
      ]
     },
     "execution_count": 71,
     "metadata": {},
     "output_type": "execute_result"
    }
   ],
   "source": [
    "test_tmp"
   ]
  },
  {
   "cell_type": "code",
   "execution_count": 74,
   "metadata": {},
   "outputs": [],
   "source": [
    "test_tmp = np.random.randn(2, 3)"
   ]
  },
  {
   "cell_type": "code",
   "execution_count": 75,
   "metadata": {},
   "outputs": [],
   "source": [
    "test_id = np.argmax(test_tmp, axis=1)"
   ]
  },
  {
   "cell_type": "code",
   "execution_count": 80,
   "metadata": {},
   "outputs": [
    {
     "data": {
      "text/plain": [
       "array([1.88198468, 1.27670283])"
      ]
     },
     "execution_count": 80,
     "metadata": {},
     "output_type": "execute_result"
    }
   ],
   "source": [
    "test_tmp[[0, 1], test_id]"
   ]
  },
  {
   "cell_type": "code",
   "execution_count": 81,
   "metadata": {},
   "outputs": [
    {
     "data": {
      "text/plain": [
       "array([[1.88198468, 1.88198468],\n",
       "       [1.27670283, 1.27670283]])"
      ]
     },
     "execution_count": 81,
     "metadata": {},
     "output_type": "execute_result"
    }
   ],
   "source": [
    "test_tmp[:, test_id]"
   ]
  },
  {
   "cell_type": "code",
   "execution_count": 84,
   "metadata": {},
   "outputs": [
    {
     "data": {
      "text/plain": [
       "array([1.88198468, 1.27670283])"
      ]
     },
     "execution_count": 84,
     "metadata": {},
     "output_type": "execute_result"
    }
   ],
   "source": [
    "test_tmp[np.arange(test_tmp.ndim), test_id]"
   ]
  },
  {
   "cell_type": "code",
   "execution_count": 90,
   "metadata": {},
   "outputs": [],
   "source": [
    "EPOCH = 50"
   ]
  },
  {
   "cell_type": "code",
   "execution_count": 91,
   "metadata": {},
   "outputs": [],
   "source": [
    "net = BasicModel(vocab_size, tag_size).to(device)"
   ]
  },
  {
   "cell_type": "code",
   "execution_count": 92,
   "metadata": {},
   "outputs": [],
   "source": [
    "criterion = nn.CrossEntropyLoss()\n",
    "optimizer = torch.optim.Adam(net.parameters())\n",
    "loss_trace = []\n",
    "acc_trace = []"
   ]
  },
  {
   "cell_type": "code",
   "execution_count": 93,
   "metadata": {},
   "outputs": [
    {
     "name": "stdout",
     "output_type": "stream",
     "text": [
      "Epoch: 0, time: 13.438459873199463, loss: 4.2323214290027025\n",
      "Epoch: 0, acc: 0.267420814479638\n",
      "Epoch: 1, time: 12.216273784637451, loss: 3.2354667585609964\n",
      "Epoch: 1, acc: 0.2828054298642534\n",
      "Epoch: 2, time: 12.59132719039917, loss: 2.6072510319795943\n",
      "Epoch: 2, acc: 0.2981900452488688\n",
      "Epoch: 3, time: 13.714014291763306, loss: 2.1634173640832635\n",
      "Epoch: 3, acc: 0.3036199095022624\n",
      "Epoch: 4, time: 12.726889848709106, loss: 1.8265127337285691\n",
      "Epoch: 4, acc: 0.30995475113122173\n",
      "Epoch: 5, time: 12.731423139572144, loss: 1.561475701436635\n",
      "Epoch: 5, acc: 0.3171945701357466\n",
      "Epoch: 6, time: 12.265281677246094, loss: 1.3480246700850065\n",
      "Epoch: 6, acc: 0.31131221719457014\n",
      "Epoch: 7, time: 11.142706871032715, loss: 1.173356274129236\n",
      "Epoch: 7, acc: 0.3217194570135747\n",
      "Epoch: 8, time: 15.682672023773193, loss: 1.02896311318337\n",
      "Epoch: 8, acc: 0.3257918552036199\n",
      "Epoch: 9, time: 15.773892641067505, loss: 0.9089722383716898\n",
      "Epoch: 9, acc: 0.3384615384615385\n",
      "Epoch: 10, time: 12.670617818832397, loss: 0.8083028947695355\n",
      "Epoch: 10, acc: 0.33710407239819007\n",
      "Epoch: 11, time: 15.693193912506104, loss: 0.7220569473494752\n",
      "Epoch: 11, acc: 0.3416289592760181\n",
      "Epoch: 12, time: 16.814116716384888, loss: 0.6485231925577595\n",
      "Epoch: 12, acc: 0.3416289592760181\n",
      "Epoch: 13, time: 15.317641496658325, loss: 0.5834681017053782\n",
      "Epoch: 13, acc: 0.3425339366515837\n",
      "Epoch: 14, time: 12.651477575302124, loss: 0.529321312776361\n",
      "Epoch: 14, acc: 0.35248868778280545\n",
      "Epoch: 15, time: 15.9774010181427, loss: 0.48055562463993196\n",
      "Epoch: 15, acc: 0.3552036199095023\n",
      "Epoch: 16, time: 15.415570259094238, loss: 0.43786922319381705\n",
      "Epoch: 16, acc: 0.3547511312217195\n",
      "Epoch: 17, time: 14.226284742355347, loss: 0.39999588041406947\n",
      "Epoch: 17, acc: 0.3570135746606335\n",
      "Epoch: 18, time: 15.5634925365448, loss: 0.3675429733090315\n",
      "Epoch: 18, acc: 0.36153846153846153\n",
      "Epoch: 19, time: 16.372972011566162, loss: 0.3376128741136758\n",
      "Epoch: 19, acc: 0.3669683257918552\n",
      "Epoch: 20, time: 14.463919878005981, loss: 0.3112344135664258\n",
      "Epoch: 20, acc: 0.37013574660633486\n",
      "Epoch: 21, time: 8.814849615097046, loss: 0.2882325660177693\n",
      "Epoch: 21, acc: 0.36968325791855206\n",
      "Epoch: 22, time: 11.802958011627197, loss: 0.26702084511980295\n",
      "Epoch: 22, acc: 0.3728506787330317\n",
      "Epoch: 23, time: 15.324627161026001, loss: 0.2480784697177395\n",
      "Epoch: 23, acc: 0.36742081447963804\n",
      "Epoch: 24, time: 16.22981357574463, loss: 0.2314512765650717\n",
      "Epoch: 24, acc: 0.36923076923076925\n",
      "Epoch: 25, time: 13.844128131866455, loss: 0.21612000533833395\n",
      "Epoch: 25, acc: 0.37058823529411766\n",
      "Epoch: 26, time: 15.502424478530884, loss: 0.20185838852067423\n",
      "Epoch: 26, acc: 0.36606334841628957\n",
      "Epoch: 27, time: 13.78633427619934, loss: 0.18910181404789092\n",
      "Epoch: 27, acc: 0.37104072398190047\n",
      "Epoch: 28, time: 10.013539552688599, loss: 0.17823509128806456\n",
      "Epoch: 28, acc: 0.3669683257918552\n",
      "Epoch: 29, time: 9.747406959533691, loss: 0.16706902269657797\n",
      "Epoch: 29, acc: 0.3751131221719457\n",
      "Epoch: 30, time: 13.266010284423828, loss: 0.1576406556529166\n",
      "Epoch: 30, acc: 0.3751131221719457\n",
      "Epoch: 31, time: 14.36112928390503, loss: 0.14866531795432616\n",
      "Epoch: 31, acc: 0.3751131221719457\n",
      "Epoch: 32, time: 14.055135726928711, loss: 0.14074141748352212\n",
      "Epoch: 32, acc: 0.3719457013574661\n",
      "Epoch: 33, time: 16.01894187927246, loss: 0.1326188672022643\n",
      "Epoch: 33, acc: 0.36877828054298645\n",
      "Epoch: 34, time: 14.446908712387085, loss: 0.1262344449174491\n",
      "Epoch: 34, acc: 0.3742081447963801\n",
      "Epoch: 35, time: 14.661072731018066, loss: 0.11932905813937192\n",
      "Epoch: 35, acc: 0.37013574660633486\n",
      "Epoch: 36, time: 13.633145809173584, loss: 0.11364818515499615\n",
      "Epoch: 36, acc: 0.37058823529411766\n",
      "Epoch: 37, time: 14.231784105300903, loss: 0.10778156694920589\n",
      "Epoch: 37, acc: 0.37013574660633486\n",
      "Epoch: 38, time: 7.173603296279907, loss: 0.10256052570778759\n",
      "Epoch: 38, acc: 0.36832579185520364\n",
      "Epoch: 39, time: 13.750574588775635, loss: 0.0977686815302538\n",
      "Epoch: 39, acc: 0.37058823529411766\n",
      "Epoch: 40, time: 11.659472227096558, loss: 0.09326849401825912\n",
      "Epoch: 40, acc: 0.36968325791855206\n",
      "Epoch: 41, time: 6.2627294063568115, loss: 0.0888603693718269\n",
      "Epoch: 41, acc: 0.3719457013574661\n",
      "Epoch: 42, time: 11.560708045959473, loss: 0.08518583175762696\n",
      "Epoch: 42, acc: 0.36742081447963804\n",
      "Epoch: 43, time: 11.656903266906738, loss: 0.08128473740730663\n",
      "Epoch: 43, acc: 0.36877828054298645\n",
      "Epoch: 44, time: 14.102603197097778, loss: 0.07782841691671441\n",
      "Epoch: 44, acc: 0.37013574660633486\n",
      "Epoch: 45, time: 13.84466290473938, loss: 0.0745295986323552\n",
      "Epoch: 45, acc: 0.36606334841628957\n",
      "Epoch: 46, time: 9.841096878051758, loss: 0.07146778932291682\n",
      "Epoch: 46, acc: 0.37149321266968327\n",
      "Epoch: 47, time: 13.467298984527588, loss: 0.06846690753451178\n",
      "Epoch: 47, acc: 0.36877828054298645\n",
      "Epoch: 48, time: 14.18323016166687, loss: 0.06559673708359744\n",
      "Epoch: 48, acc: 0.3719457013574661\n",
      "Epoch: 49, time: 14.41722846031189, loss: 0.06285877391798003\n",
      "Epoch: 49, acc: 0.3733031674208145\n"
     ]
    }
   ],
   "source": [
    "for epoch in range(EPOCH):\n",
    "    \n",
    "    random.shuffle(train_data)\n",
    "    \n",
    "    train_loss = 0.0\n",
    "    start_time = time.time()\n",
    "    \n",
    "    for sent, tag in train_data:\n",
    "        \n",
    "        sent = torch.tensor(sent).to(device)\n",
    "        tag = torch.tensor([tag]).to(device)\n",
    "        \n",
    "        output = net(sent)\n",
    "        loss = criterion(output, tag)\n",
    "        train_loss += loss.item()\n",
    "        \n",
    "        optimizer.zero_grad()\n",
    "        loss.backward()\n",
    "        optimizer.step()\n",
    "        \n",
    "    loss_trace.append(train_loss / len(train_data))\n",
    "    \n",
    "    print(\"Epoch: {}, time: {}, loss: {}\".format(epoch, time.time() - start_time, train_loss / len(train_data)))\n",
    "    \n",
    "    correct_num = 0\n",
    "    \n",
    "    with torch.no_grad():\n",
    "        \n",
    "        for sent, tag in dev:\n",
    "            \n",
    "            sent = torch.tensor(sent).to(device)\n",
    "            \n",
    "            output = net(sent)\n",
    "            \n",
    "            pred_id = torch.argmax(output, dim=1)\n",
    "            \n",
    "            if pred_id[0] == tag:\n",
    "                correct_num += 1\n",
    "    \n",
    "    print(\"Epoch: {}, acc: {}\".format(epoch, correct_num / len(dev)))\n",
    "    \n",
    "    acc_trace.append(correct_num / len(dev))"
   ]
  },
  {
   "cell_type": "code",
   "execution_count": 94,
   "metadata": {},
   "outputs": [],
   "source": [
    "import matplotlib.pyplot as plt"
   ]
  },
  {
   "cell_type": "code",
   "execution_count": 95,
   "metadata": {},
   "outputs": [
    {
     "data": {
      "text/plain": [
       "<matplotlib.legend.Legend at 0x7fe4bc1b91d0>"
      ]
     },
     "execution_count": 95,
     "metadata": {},
     "output_type": "execute_result"
    },
    {
     "data": {
      "image/png": "[encoded data removed]",
      "text/plain": [
       "<Figure size 432x288 with 1 Axes>"
      ]
     },
     "metadata": {
      "needs_background": "light"
     },
     "output_type": "display_data"
    }
   ],
   "source": [
    "plt.plot(loss_trace, label=\"loss trace\")\n",
    "plt.xlabel(\"epoch\")\n",
    "plt.ylabel(\"loss\")\n",
    "plt.grid()\n",
    "plt.legend()"
   ]
  },
  {
   "cell_type": "code",
   "execution_count": 96,
   "metadata": {},
   "outputs": [
    {
     "data": {
      "text/plain": [
       "<matplotlib.legend.Legend at 0x7fe49fc61dd0>"
      ]
     },
     "execution_count": 96,
     "metadata": {},
     "output_type": "execute_result"
    },
    {
     "data": {
      "image/png": "[encoded data removed]",
      "text/plain": [
       "<Figure size 432x288 with 1 Axes>"
      ]
     },
     "metadata": {
      "needs_background": "light"
     },
     "output_type": "display_data"
    }
   ],
   "source": [
    "plt.plot(acc_trace, label=\"acc trace\")\n",
    "plt.xlabel(\"epoch\")\n",
    "plt.ylabel(\"acc\")\n",
    "plt.grid()\n",
    "plt.legend()"
   ]
  },
  {
   "cell_type": "code",
   "execution_count": null,
   "metadata": {},
   "outputs": [],
   "source": []
  }
 ],
 "metadata": {
  "kernelspec": {
   "display_name": "Python 3",
   "language": "python",
   "name": "python3"
  },
  "language_info": {
   "codemirror_mode": {
    "name": "ipython",
    "version": 3
   },
   "file_extension": ".py",
   "mimetype": "text/x-python",
   "name": "python",
   "nbconvert_exporter": "python",
   "pygments_lexer": "ipython3",
   "version": "3.7.7"
  }
 },
 "nbformat": 4,
 "nbformat_minor": 4
}
