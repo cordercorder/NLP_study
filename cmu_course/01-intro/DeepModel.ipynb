{
 "cells": [
  {
   "cell_type": "code",
   "execution_count": 1,
   "metadata": {},
   "outputs": [],
   "source": [
    "from collections import defaultdict\n",
    "\n",
    "import time \n",
    "import random\n",
    "import numpy as np\n",
    "\n",
    "import torch\n",
    "import torch.nn as nn"
   ]
  },
  {
   "cell_type": "code",
   "execution_count": 2,
   "metadata": {},
   "outputs": [],
   "source": [
    "gpu_id = \"2\""
   ]
  },
  {
   "cell_type": "code",
   "execution_count": 3,
   "metadata": {},
   "outputs": [],
   "source": [
    "device = torch.device(\"cuda:\" + gpu_id if torch.cuda.is_available() else \"cpu\")"
   ]
  },
  {
   "cell_type": "code",
   "execution_count": 4,
   "metadata": {},
   "outputs": [
    {
     "data": {
      "text/plain": [
       "device(type='cuda', index=2)"
      ]
     },
     "execution_count": 4,
     "metadata": {},
     "output_type": "execute_result"
    }
   ],
   "source": [
    "device"
   ]
  },
  {
   "cell_type": "code",
   "execution_count": 5,
   "metadata": {},
   "outputs": [],
   "source": [
    "word2index = defaultdict(lambda : len(word2index))\n",
    "tag2index = defaultdict(lambda : len(tag2index))"
   ]
  },
  {
   "cell_type": "code",
   "execution_count": 6,
   "metadata": {},
   "outputs": [],
   "source": [
    "def read_data(data_path, sep):\n",
    "    \n",
    "    with open(data_path) as f:\n",
    "        \n",
    "        data = f.read().split(\"\\n\")\n",
    "        \n",
    "        for line in data:\n",
    "            tmp = line.lower().strip().split(sep)\n",
    "            \n",
    "            if len(tmp) != 2:\n",
    "                continue\n",
    "            \n",
    "            tag, sentence = tmp\n",
    "            yield ([word2index[word] for word in sentence.split()], tag2index[tag])"
   ]
  },
  {
   "cell_type": "code",
   "execution_count": 7,
   "metadata": {},
   "outputs": [],
   "source": [
    "train_data = list(read_data(\"../../cmu_data/classes/train.txt\", \" ||| \"))\n",
    "UNK = word2index[\"unk\"]\n",
    "word2index = defaultdict(lambda : UNK, word2index)\n",
    "dev = list(read_data(\"../../cmu_data/classes/test.txt\", \" ||| \"))\n",
    "vocab_size = len(word2index)\n",
    "tag_size = len(tag2index)"
   ]
  },
  {
   "cell_type": "code",
   "execution_count": 48,
   "metadata": {},
   "outputs": [],
   "source": [
    "class DeepModel(nn.Module):\n",
    "    \n",
    "    def __init__(self, vocab_size: int, embedding_size: int, h_size_list: list, tag_size: int):\n",
    "        \n",
    "        super(DeepModel, self).__init__()\n",
    "        \n",
    "        self.h_size_list = h_size_list\n",
    "        \n",
    "        self.embedding = nn.Embedding(vocab_size, embedding_size) # (input_length, embedding_size)\n",
    "        \n",
    "        self.linear = nn.ModuleList([\n",
    "            nn.Linear(embedding_size if i == 0 else self.h_size_list[i-1], self.h_size_list[i])\n",
    "            for i in range(len(self.h_size_list))\n",
    "        ])\n",
    "        \n",
    "        self.output_layer = nn.Linear(self.h_size_list[-1], tag_size)\n",
    "        \n",
    "        self.init_weights()\n",
    "        \n",
    "    def init_weights(self):\n",
    "        \n",
    "        nn.init.xavier_normal_(self.embedding.weight)\n",
    "        \n",
    "        for h_layer in self.linear:\n",
    "            nn.init.xavier_normal_(h_layer.weight)\n",
    "            \n",
    "        nn.init.xavier_normal_(self.output_layer.weight)\n",
    "    \n",
    "    def forward(self, inputs: torch.tensor):\n",
    "        \n",
    "        # inputs:(input_length, )\n",
    "        \n",
    "        inputs = self.embedding(inputs) # (input_length, embedding_size)\n",
    "        \n",
    "        inputs = torch.sum(inputs, dim=0, keepdim=True) # (1, embedding_size)\n",
    "        \n",
    "        for h_layer in self.linear:\n",
    "            \n",
    "            inputs = torch.tanh(h_layer(inputs))\n",
    "        \n",
    "        outputs = self.output_layer(inputs) # (1, tag_size)\n",
    "        return outputs"
   ]
  },
  {
   "cell_type": "code",
   "execution_count": 61,
   "metadata": {},
   "outputs": [],
   "source": [
    "net = DeepModel(vocab_size, 16, [16, 64, 16], tag_size).to(device)"
   ]
  },
  {
   "cell_type": "code",
   "execution_count": 62,
   "metadata": {},
   "outputs": [
    {
     "data": {
      "text/plain": [
       "<bound method Module.modules of DeepModel(\n",
       "  (embedding): Embedding(18646, 16)\n",
       "  (linear): ModuleList(\n",
       "    (0): Linear(in_features=16, out_features=16, bias=True)\n",
       "    (1): Linear(in_features=16, out_features=64, bias=True)\n",
       "    (2): Linear(in_features=64, out_features=16, bias=True)\n",
       "  )\n",
       "  (output_layer): Linear(in_features=16, out_features=5, bias=True)\n",
       ")>"
      ]
     },
     "execution_count": 62,
     "metadata": {},
     "output_type": "execute_result"
    }
   ],
   "source": [
    "net.modules"
   ]
  },
  {
   "cell_type": "code",
   "execution_count": 63,
   "metadata": {},
   "outputs": [],
   "source": [
    "criterion = nn.CrossEntropyLoss()\n",
    "optimizer = torch.optim.Adam(net.parameters())"
   ]
  },
  {
   "cell_type": "code",
   "execution_count": 64,
   "metadata": {},
   "outputs": [],
   "source": [
    "loss_trace = []\n",
    "acc_trace_train = []\n",
    "acc_trace_dev = []"
   ]
  },
  {
   "cell_type": "code",
   "execution_count": 65,
   "metadata": {},
   "outputs": [],
   "source": [
    "train_tensor = [(torch.tensor(sent).to(device), torch.tensor([tag]).to(device)) for sent, tag in train_data]\n",
    "dev_tensor = [(torch.tensor(sent).to(device), tag) for sent, tag in dev]"
   ]
  },
  {
   "cell_type": "code",
   "execution_count": 66,
   "metadata": {},
   "outputs": [
    {
     "name": "stdout",
     "output_type": "stream",
     "text": [
      "Epoch: 0, time: 22.975870847702026 seconds, loss: 1.4288367323423927\n",
      "Epoch: 0, acc of train data :0.363998127340824\n",
      "Epoch: 0, acc of test data: 0.35203619909502265\n",
      "Epoch: 1, time: 23.739068031311035 seconds, loss: 1.028080288432399\n",
      "Epoch: 1, acc of train data :0.5671816479400749\n",
      "Epoch: 1, acc of test data: 0.35203619909502265\n",
      "Epoch: 2, time: 21.70251488685608 seconds, loss: 0.6718227121602284\n",
      "Epoch: 2, acc of train data :0.7546816479400749\n",
      "Epoch: 2, acc of test data: 0.35203619909502265\n",
      "Epoch: 3, time: 21.432896852493286 seconds, loss: 0.4355378988641925\n",
      "Epoch: 3, acc of train data :0.8484316479400749\n",
      "Epoch: 3, acc of test data: 0.35203619909502265\n",
      "Epoch: 4, time: 29.21060872077942 seconds, loss: 0.2948433886446087\n",
      "Epoch: 4, acc of train data :0.9019194756554307\n",
      "Epoch: 4, acc of test data: 0.35203619909502265\n",
      "Epoch: 5, time: 34.92006707191467 seconds, loss: 0.2100969050846966\n",
      "Epoch: 5, acc of train data :0.9302434456928839\n",
      "Epoch: 5, acc of test data: 0.35203619909502265\n",
      "Epoch: 6, time: 35.21189618110657 seconds, loss: 0.15612622245113725\n",
      "Epoch: 6, acc of train data :0.9489700374531835\n",
      "Epoch: 6, acc of test data: 0.35203619909502265\n",
      "Epoch: 7, time: 32.446205377578735 seconds, loss: 0.12019106715024634\n",
      "Epoch: 7, acc of train data :0.9610252808988764\n",
      "Epoch: 7, acc of test data: 0.35203619909502265\n",
      "Epoch: 8, time: 20.145884037017822 seconds, loss: 0.09149325335544817\n",
      "Epoch: 8, acc of train data :0.973314606741573\n",
      "Epoch: 8, acc of test data: 0.35203619909502265\n",
      "Epoch: 9, time: 32.36455821990967 seconds, loss: 0.07775155104668846\n",
      "Epoch: 9, acc of train data :0.9740168539325843\n",
      "Epoch: 9, acc of test data: 0.35203619909502265\n",
      "Epoch: 10, time: 34.985483169555664 seconds, loss: 0.057656359666965425\n",
      "Epoch: 10, acc of train data :0.9808052434456929\n",
      "Epoch: 10, acc of test data: 0.35203619909502265\n",
      "Epoch: 11, time: 27.93326997756958 seconds, loss: 0.04984386559673463\n",
      "Epoch: 11, acc of train data :0.9836142322097379\n",
      "Epoch: 11, acc of test data: 0.35203619909502265\n",
      "Epoch: 12, time: 18.413084983825684 seconds, loss: 0.04035281852473704\n",
      "Epoch: 12, acc of train data :0.9878277153558053\n",
      "Epoch: 12, acc of test data: 0.35203619909502265\n",
      "Epoch: 13, time: 38.01598596572876 seconds, loss: 0.037297455845086765\n",
      "Epoch: 13, acc of train data :0.9878277153558053\n",
      "Epoch: 13, acc of test data: 0.35203619909502265\n",
      "Epoch: 14, time: 39.055490255355835 seconds, loss: 0.026810633960399736\n",
      "Epoch: 14, acc of train data :0.9914559925093633\n",
      "Epoch: 14, acc of test data: 0.35203619909502265\n",
      "Epoch: 15, time: 38.907883644104004 seconds, loss: 0.022043690043553877\n",
      "Epoch: 15, acc of train data :0.9936797752808989\n",
      "Epoch: 15, acc of test data: 0.35203619909502265\n",
      "Epoch: 16, time: 39.48450040817261 seconds, loss: 0.023037744344173747\n",
      "Epoch: 16, acc of train data :0.9928604868913857\n",
      "Epoch: 16, acc of test data: 0.35203619909502265\n",
      "Epoch: 17, time: 28.518866062164307 seconds, loss: 0.021203155918849095\n",
      "Epoch: 17, acc of train data :0.9932116104868914\n",
      "Epoch: 17, acc of test data: 0.35203619909502265\n",
      "Epoch: 18, time: 26.234737157821655 seconds, loss: 0.020829583737957343\n",
      "Epoch: 18, acc of train data :0.993562734082397\n",
      "Epoch: 18, acc of test data: 0.35203619909502265\n",
      "Epoch: 19, time: 32.956876039505005 seconds, loss: 0.01585811223095276\n",
      "Epoch: 19, acc of train data :0.9950842696629213\n",
      "Epoch: 19, acc of test data: 0.35203619909502265\n",
      "Epoch: 20, time: 33.98534178733826 seconds, loss: 0.017091320932246325\n",
      "Epoch: 20, acc of train data :0.995435393258427\n",
      "Epoch: 20, acc of test data: 0.35203619909502265\n",
      "Epoch: 21, time: 26.986786127090454 seconds, loss: 0.015986538307273878\n",
      "Epoch: 21, acc of train data :0.9943820224719101\n",
      "Epoch: 21, acc of test data: 0.35203619909502265\n",
      "Epoch: 22, time: 18.625404119491577 seconds, loss: 0.010280892671494003\n",
      "Epoch: 22, acc of train data :0.9969569288389513\n",
      "Epoch: 22, acc of test data: 0.35203619909502265\n",
      "Epoch: 23, time: 22.14574933052063 seconds, loss: 0.011776941092440698\n",
      "Epoch: 23, acc of train data :0.9963717228464419\n",
      "Epoch: 23, acc of test data: 0.35203619909502265\n",
      "Epoch: 24, time: 19.4514102935791 seconds, loss: 0.010382084838683239\n",
      "Epoch: 24, acc of train data :0.9971910112359551\n",
      "Epoch: 24, acc of test data: 0.35203619909502265\n",
      "Epoch: 25, time: 20.952556848526 seconds, loss: 0.00659238329429305\n",
      "Epoch: 25, acc of train data :0.9984784644194756\n",
      "Epoch: 25, acc of test data: 0.35203619909502265\n",
      "Epoch: 26, time: 18.653398036956787 seconds, loss: 0.006676098129499271\n",
      "Epoch: 26, acc of train data :0.9974250936329588\n",
      "Epoch: 26, acc of test data: 0.35203619909502265\n",
      "Epoch: 27, time: 31.449254274368286 seconds, loss: 0.006534801468197326\n",
      "Epoch: 27, acc of train data :0.9980102996254682\n",
      "Epoch: 27, acc of test data: 0.35203619909502265\n",
      "Epoch: 28, time: 23.593196630477905 seconds, loss: 0.008470754889066746\n",
      "Epoch: 28, acc of train data :0.9976591760299626\n",
      "Epoch: 28, acc of test data: 0.35203619909502265\n",
      "Epoch: 29, time: 35.283153772354126 seconds, loss: 0.007003011286593555\n",
      "Epoch: 29, acc of train data :0.9976591760299626\n",
      "Epoch: 29, acc of test data: 0.35203619909502265\n",
      "Epoch: 30, time: 26.537145853042603 seconds, loss: 0.006938851462879431\n",
      "Epoch: 30, acc of train data :0.9974250936329588\n",
      "Epoch: 30, acc of test data: 0.35203619909502265\n",
      "Epoch: 31, time: 19.32500147819519 seconds, loss: 0.007881291824556914\n",
      "Epoch: 31, acc of train data :0.9976591760299626\n",
      "Epoch: 31, acc of test data: 0.35203619909502265\n",
      "Epoch: 32, time: 29.033223390579224 seconds, loss: 0.0027126493246367807\n",
      "Epoch: 32, acc of train data :0.9989466292134831\n",
      "Epoch: 32, acc of test data: 0.35203619909502265\n",
      "Epoch: 33, time: 35.81060814857483 seconds, loss: 0.0035124515716949208\n",
      "Epoch: 33, acc of train data :0.9992977528089888\n",
      "Epoch: 33, acc of test data: 0.35203619909502265\n",
      "Epoch: 34, time: 33.95041489601135 seconds, loss: 0.0010554696736710795\n",
      "Epoch: 34, acc of train data :0.9996488764044944\n",
      "Epoch: 34, acc of test data: 0.35203619909502265\n",
      "Epoch: 35, time: 28.650933027267456 seconds, loss: 0.0037427698907334258\n",
      "Epoch: 35, acc of train data :0.9989466292134831\n",
      "Epoch: 35, acc of test data: 0.35203619909502265\n",
      "Epoch: 36, time: 25.237404823303223 seconds, loss: 0.003662742255778795\n",
      "Epoch: 36, acc of train data :0.9990636704119851\n",
      "Epoch: 36, acc of test data: 0.35203619909502265\n",
      "Epoch: 37, time: 28.987342357635498 seconds, loss: 0.009071272857180249\n",
      "Epoch: 37, acc of train data :0.9982443820224719\n",
      "Epoch: 37, acc of test data: 0.35203619909502265\n",
      "Epoch: 38, time: 23.20413327217102 seconds, loss: 0.011144546491934566\n",
      "Epoch: 38, acc of train data :0.9975421348314607\n",
      "Epoch: 38, acc of test data: 0.35203619909502265\n",
      "Epoch: 39, time: 36.23274564743042 seconds, loss: 0.0060735709323418725\n",
      "Epoch: 39, acc of train data :0.9984784644194756\n",
      "Epoch: 39, acc of test data: 0.35203619909502265\n",
      "Epoch: 40, time: 33.09075355529785 seconds, loss: 0.0026552392246571373\n",
      "Epoch: 40, acc of train data :0.9994147940074907\n",
      "Epoch: 40, acc of test data: 0.35203619909502265\n",
      "Epoch: 41, time: 33.959550619125366 seconds, loss: 0.005376147476028414\n",
      "Epoch: 41, acc of train data :0.9984784644194756\n",
      "Epoch: 41, acc of test data: 0.35203619909502265\n",
      "Epoch: 42, time: 24.138970613479614 seconds, loss: 0.005110475566056784\n",
      "Epoch: 42, acc of train data :0.9985955056179775\n",
      "Epoch: 42, acc of test data: 0.35203619909502265\n",
      "Epoch: 43, time: 28.03111481666565 seconds, loss: 0.001933576629849409\n",
      "Epoch: 43, acc of train data :0.9992977528089888\n",
      "Epoch: 43, acc of test data: 0.35203619909502265\n",
      "Epoch: 44, time: 26.383742809295654 seconds, loss: 0.004633943630514966\n",
      "Epoch: 44, acc of train data :0.9987125468164794\n",
      "Epoch: 44, acc of test data: 0.35203619909502265\n",
      "Epoch: 45, time: 21.059536695480347 seconds, loss: 0.0013865314089180378\n",
      "Epoch: 45, acc of train data :0.9995318352059925\n",
      "Epoch: 45, acc of test data: 0.35203619909502265\n",
      "Epoch: 46, time: 21.418827295303345 seconds, loss: 0.0005959118629216255\n",
      "Epoch: 46, acc of train data :0.9998829588014981\n",
      "Epoch: 46, acc of test data: 0.35203619909502265\n",
      "Epoch: 47, time: 31.589706420898438 seconds, loss: 0.0037839717828155903\n",
      "Epoch: 47, acc of train data :0.9989466292134831\n",
      "Epoch: 47, acc of test data: 0.35203619909502265\n",
      "Epoch: 48, time: 34.01854109764099 seconds, loss: 0.007100491794977295\n",
      "Epoch: 48, acc of train data :0.9983614232209738\n",
      "Epoch: 48, acc of test data: 0.35203619909502265\n",
      "Epoch: 49, time: 36.96472477912903 seconds, loss: 0.003979709850491656\n",
      "Epoch: 49, acc of train data :0.9982443820224719\n",
      "Epoch: 49, acc of test data: 0.35203619909502265\n"
     ]
    }
   ],
   "source": [
    "EPOCH = 50\n",
    "\n",
    "for epoch in range(EPOCH):\n",
    "    \n",
    "    random.shuffle(train_tensor)\n",
    "    \n",
    "    start_time = time.time()\n",
    "    train_loss = 0.0\n",
    "    \n",
    "    net.train()\n",
    "    \n",
    "    correct_num_train = 0\n",
    "    \n",
    "    for sent, tag in train_tensor:\n",
    "        \n",
    "        \n",
    "        output = net(sent)\n",
    "        \n",
    "        pred = torch.argmax(output, dim=1)\n",
    "        if pred[0] == tag[0]:\n",
    "            correct_num_train += 1\n",
    "        \n",
    "        loss = criterion(output, tag)\n",
    "        train_loss += loss.item()\n",
    "        \n",
    "        optimizer.zero_grad()\n",
    "        loss.backward()\n",
    "        optimizer.step()\n",
    "    \n",
    "    loss_trace.append(train_loss / len(train_tensor))\n",
    "    \n",
    "    print(\"Epoch: {}, time: {} seconds, loss: {}\".format(epoch, time.time() - start_time, train_loss / len(train_tensor)))\n",
    "    print(\"Epoch: {}, acc of train data :{}\".format(epoch, correct_num_train / len(train_tensor)))\n",
    "    \n",
    "    acc_trace_train.append(correct_num_train / len(train_tensor))\n",
    "    \n",
    "    correct_num_dev = 0\n",
    "    \n",
    "    with torch.no_grad():\n",
    "        net.eval()\n",
    "        \n",
    "        for sent, tag in dev_tensor:\n",
    "            \n",
    "            output = net(sent)\n",
    "            pred = torch.argmax(output, dim=1) # (1, )\n",
    "            \n",
    "            if pred[0] == tag:\n",
    "                correct_num_dev += 1\n",
    "    \n",
    "    acc_trace_dev.append(correct_num_dev / len(dev_tensor))\n",
    "    print(\"Epoch: {}, acc of test data: {}\".format(epoch, correct_num / len(dev_tensor)))"
   ]
  },
  {
   "cell_type": "code",
   "execution_count": 67,
   "metadata": {},
   "outputs": [],
   "source": [
    "import matplotlib.pyplot as plt"
   ]
  },
  {
   "cell_type": "code",
   "execution_count": 68,
   "metadata": {},
   "outputs": [
    {
     "data": {
      "text/plain": [
       "<matplotlib.legend.Legend at 0x7fa0ec1e1e50>"
      ]
     },
     "execution_count": 68,
     "metadata": {},
     "output_type": "execute_result"
    },
    {
     "data": {
      "image/png": "[encoded data removed]",
      "text/plain": [
       "<Figure size 432x288 with 1 Axes>"
      ]
     },
     "metadata": {
      "needs_background": "light"
     },
     "output_type": "display_data"
    }
   ],
   "source": [
    "plt.plot(loss_trace, label=\"loss trace\")\n",
    "plt.xlabel(\"epoch\")\n",
    "plt.ylabel(\"loss\")\n",
    "plt.grid()\n",
    "plt.legend()"
   ]
  },
  {
   "cell_type": "code",
   "execution_count": 69,
   "metadata": {},
   "outputs": [
    {
     "data": {
      "text/plain": [
       "<matplotlib.legend.Legend at 0x7fa0ec143990>"
      ]
     },
     "execution_count": 69,
     "metadata": {},
     "output_type": "execute_result"
    },
    {
     "data": {
      "image/png": "[encoded data removed]",
      "text/plain": [
       "<Figure size 432x288 with 1 Axes>"
      ]
     },
     "metadata": {
      "needs_background": "light"
     },
     "output_type": "display_data"
    }
   ],
   "source": [
    "plt.plot(acc_trace_train, label=\"acc trace\")\n",
    "plt.xlabel(\"epoch\")\n",
    "plt.ylabel(\"acc of train data\")\n",
    "plt.grid()\n",
    "plt.legend()"
   ]
  },
  {
   "cell_type": "code",
   "execution_count": 70,
   "metadata": {},
   "outputs": [
    {
     "data": {
      "text/plain": [
       "<matplotlib.legend.Legend at 0x7fa0ec120690>"
      ]
     },
     "execution_count": 70,
     "metadata": {},
     "output_type": "execute_result"
    },
    {
     "data": {
      "image/png": "[encoded data removed]",
      "text/plain": [
       "<Figure size 432x288 with 1 Axes>"
      ]
     },
     "metadata": {
      "needs_background": "light"
     },
     "output_type": "display_data"
    }
   ],
   "source": [
    "plt.plot(acc_trace_dev, label=\"acc trace\")\n",
    "plt.xlabel(\"epoch\")\n",
    "plt.ylabel(\"acc of dev data\")\n",
    "plt.grid()\n",
    "plt.legend()"
   ]
  },
  {
   "cell_type": "code",
   "execution_count": null,
   "metadata": {},
   "outputs": [],
   "source": []
  }
 ],
 "metadata": {
  "kernelspec": {
   "display_name": "Python 3",
   "language": "python",
   "name": "python3"
  },
  "language_info": {
   "codemirror_mode": {
    "name": "ipython",
    "version": 3
   },
   "file_extension": ".py",
   "mimetype": "text/x-python",
   "name": "python",
   "nbconvert_exporter": "python",
   "pygments_lexer": "ipython3",
   "version": "3.7.7"
  }
 },
 "nbformat": 4,
 "nbformat_minor": 4
}
