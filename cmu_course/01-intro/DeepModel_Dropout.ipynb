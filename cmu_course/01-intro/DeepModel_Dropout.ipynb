{
 "cells": [
  {
   "cell_type": "code",
   "execution_count": 1,
   "metadata": {},
   "outputs": [],
   "source": [
    "from collections import defaultdict\n",
    "\n",
    "import time \n",
    "import random\n",
    "import numpy as np\n",
    "\n",
    "import torch\n",
    "import torch.nn as nn"
   ]
  },
  {
   "cell_type": "code",
   "execution_count": 2,
   "metadata": {},
   "outputs": [],
   "source": [
    "gpu_id = \"1\""
   ]
  },
  {
   "cell_type": "code",
   "execution_count": 3,
   "metadata": {},
   "outputs": [],
   "source": [
    "device = torch.device(\"cuda:\" + gpu_id if torch.cuda.is_available() else \"cpu\")"
   ]
  },
  {
   "cell_type": "code",
   "execution_count": 4,
   "metadata": {},
   "outputs": [
    {
     "data": {
      "text/plain": [
       "device(type='cuda', index=1)"
      ]
     },
     "execution_count": 4,
     "metadata": {},
     "output_type": "execute_result"
    }
   ],
   "source": [
    "device"
   ]
  },
  {
   "cell_type": "code",
   "execution_count": 5,
   "metadata": {},
   "outputs": [],
   "source": [
    "word2index = defaultdict(lambda : len(word2index))\n",
    "tag2index = defaultdict(lambda : len(tag2index))"
   ]
  },
  {
   "cell_type": "code",
   "execution_count": 6,
   "metadata": {},
   "outputs": [],
   "source": [
    "def read_data(data_path, sep):\n",
    "    \n",
    "    with open(data_path) as f:\n",
    "        \n",
    "        data = f.read().split(\"\\n\")\n",
    "        \n",
    "        for line in data:\n",
    "            tmp = line.lower().strip().split(sep)\n",
    "            \n",
    "            if len(tmp) != 2:\n",
    "                continue\n",
    "            \n",
    "            tag, sentence = tmp\n",
    "            yield ([word2index[word] for word in sentence.split()], tag2index[tag])"
   ]
  },
  {
   "cell_type": "code",
   "execution_count": 7,
   "metadata": {},
   "outputs": [],
   "source": [
    "train_data = list(read_data(\"../../cmu_data/classes/train.txt\", \" ||| \"))\n",
    "UNK = word2index[\"unk\"]\n",
    "word2index = defaultdict(lambda : UNK, word2index)\n",
    "dev = list(read_data(\"../../cmu_data/classes/test.txt\", \" ||| \"))\n",
    "vocab_size = len(word2index)\n",
    "tag_size = len(tag2index)"
   ]
  },
  {
   "cell_type": "code",
   "execution_count": 14,
   "metadata": {},
   "outputs": [],
   "source": [
    "class DeepModel_Dropout(nn.Module):\n",
    "    \n",
    "    def __init__(self, vocab_size: int, embedding_size: int, h_size_list: list, tag_size: int):\n",
    "        \n",
    "        super(DeepModel_Dropout, self).__init__()\n",
    "        \n",
    "        self.h_size_list = h_size_list\n",
    "        \n",
    "        self.embedding = nn.Embedding(vocab_size, embedding_size) # (input_length, embedding_size)\n",
    "        \n",
    "        self.linear = nn.ModuleList([\n",
    "            nn.Linear(embedding_size if i == 0 else self.h_size_list[i-1], self.h_size_list[i])\n",
    "            for i in range(len(self.h_size_list))\n",
    "        ])\n",
    "        \n",
    "        self.dropout = nn.Dropout()\n",
    "        \n",
    "        self.output_layer = nn.Linear(self.h_size_list[-1], tag_size)\n",
    "        \n",
    "        self.init_weights()\n",
    "        \n",
    "    def init_weights(self):\n",
    "        \n",
    "        nn.init.xavier_normal_(self.embedding.weight)\n",
    "        \n",
    "        for h_layer in self.linear:\n",
    "            nn.init.xavier_normal_(h_layer.weight)\n",
    "            \n",
    "        nn.init.xavier_normal_(self.output_layer.weight)\n",
    "    \n",
    "    def forward(self, inputs: torch.tensor):\n",
    "        \n",
    "        # inputs:(input_length, )\n",
    "        \n",
    "        inputs = self.embedding(inputs) # (input_length, embedding_size)\n",
    "        \n",
    "        inputs = torch.sum(inputs, dim=0, keepdim=True) # (1, embedding_size)\n",
    "        \n",
    "        for h_layer in self.linear:\n",
    "            \n",
    "            inputs = torch.tanh(h_layer(inputs))\n",
    "            self.dropout(inputs)\n",
    "        \n",
    "        outputs = self.output_layer(inputs) # (1, tag_size)\n",
    "        return outputs"
   ]
  },
  {
   "cell_type": "code",
   "execution_count": 32,
   "metadata": {},
   "outputs": [],
   "source": [
    "net = DeepModel_Dropout(vocab_size, 16, [16, 16, 16], tag_size).to(device)"
   ]
  },
  {
   "cell_type": "code",
   "execution_count": 33,
   "metadata": {},
   "outputs": [
    {
     "data": {
      "text/plain": [
       "<bound method Module.modules of DeepModel_Dropout(\n",
       "  (embedding): Embedding(18646, 16)\n",
       "  (linear): ModuleList(\n",
       "    (0): Linear(in_features=16, out_features=16, bias=True)\n",
       "    (1): Linear(in_features=16, out_features=16, bias=True)\n",
       "    (2): Linear(in_features=16, out_features=16, bias=True)\n",
       "  )\n",
       "  (dropout): Dropout(p=0.5)\n",
       "  (output_layer): Linear(in_features=16, out_features=5, bias=True)\n",
       ")>"
      ]
     },
     "execution_count": 33,
     "metadata": {},
     "output_type": "execute_result"
    }
   ],
   "source": [
    "net.modules"
   ]
  },
  {
   "cell_type": "code",
   "execution_count": 34,
   "metadata": {},
   "outputs": [],
   "source": [
    "criterion = nn.CrossEntropyLoss()\n",
    "optimizer = torch.optim.Adam(net.parameters())"
   ]
  },
  {
   "cell_type": "code",
   "execution_count": 35,
   "metadata": {},
   "outputs": [],
   "source": [
    "loss_trace = []\n",
    "acc_trace_dev = []\n",
    "acc_trace_train = []"
   ]
  },
  {
   "cell_type": "code",
   "execution_count": 36,
   "metadata": {},
   "outputs": [],
   "source": [
    "train_tensor = [(torch.tensor(sent).to(device), torch.tensor([tag]).to(device)) for sent, tag in train_data]\n",
    "dev_tensor = [(torch.tensor(sent).to(device), tag) for sent, tag in dev]"
   ]
  },
  {
   "cell_type": "code",
   "execution_count": 37,
   "metadata": {},
   "outputs": [
    {
     "name": "stdout",
     "output_type": "stream",
     "text": [
      "Epoch: 0, time: 38.19147324562073 seconds, loss: 1.420920485616679\n",
      "Epoch: 0, acc of train data :0.3657537453183521\n",
      "Epoch: 0, acc of test data: 0.4158371040723982\n",
      "Epoch: 1, time: 37.3149037361145 seconds, loss: 0.9779579123335608\n",
      "Epoch: 1, acc of train data :0.6006554307116105\n",
      "Epoch: 1, acc of test data: 0.39773755656108595\n",
      "Epoch: 2, time: 37.040273904800415 seconds, loss: 0.6038207867521137\n",
      "Epoch: 2, acc of train data :0.7855805243445693\n",
      "Epoch: 2, acc of test data: 0.39819004524886875\n",
      "Epoch: 3, time: 38.66896629333496 seconds, loss: 0.37695637627850087\n",
      "Epoch: 3, acc of train data :0.8735955056179775\n",
      "Epoch: 3, acc of test data: 0.3769230769230769\n",
      "Epoch: 4, time: 38.93959450721741 seconds, loss: 0.2548108620478419\n",
      "Epoch: 4, acc of train data :0.9119850187265918\n",
      "Epoch: 4, acc of test data: 0.36606334841628957\n",
      "Epoch: 5, time: 21.91142702102661 seconds, loss: 0.17013324166505078\n",
      "Epoch: 5, acc of train data :0.943937265917603\n",
      "Epoch: 5, acc of test data: 0.36470588235294116\n",
      "Epoch: 6, time: 18.785834312438965 seconds, loss: 0.12604403502067155\n",
      "Epoch: 6, acc of train data :0.9578651685393258\n",
      "Epoch: 6, acc of test data: 0.36334841628959275\n",
      "Epoch: 7, time: 18.72225570678711 seconds, loss: 0.08922256866281622\n",
      "Epoch: 7, acc of train data :0.9707397003745318\n",
      "Epoch: 7, acc of test data: 0.3610859728506787\n",
      "Epoch: 8, time: 18.7104709148407 seconds, loss: 0.06778289494889506\n",
      "Epoch: 8, acc of train data :0.9774110486891385\n",
      "Epoch: 8, acc of test data: 0.3588235294117647\n",
      "Epoch: 9, time: 18.73551034927368 seconds, loss: 0.05224976549099447\n",
      "Epoch: 9, acc of train data :0.982560861423221\n",
      "Epoch: 9, acc of test data: 0.3597285067873303\n",
      "Epoch: 10, time: 18.798605918884277 seconds, loss: 0.04591168996909361\n",
      "Epoch: 10, acc of train data :0.986189138576779\n",
      "Epoch: 10, acc of test data: 0.3597285067873303\n",
      "Epoch: 11, time: 22.223239421844482 seconds, loss: 0.034290732599599534\n",
      "Epoch: 11, acc of train data :0.9894662921348315\n",
      "Epoch: 11, acc of test data: 0.3547511312217195\n",
      "Epoch: 12, time: 22.335297107696533 seconds, loss: 0.029002170158682693\n",
      "Epoch: 12, acc of train data :0.9915730337078652\n",
      "Epoch: 12, acc of test data: 0.36425339366515835\n",
      "Epoch: 13, time: 23.527392625808716 seconds, loss: 0.023157143839791918\n",
      "Epoch: 13, acc of train data :0.9916900749063671\n",
      "Epoch: 13, acc of test data: 0.35429864253393667\n",
      "Epoch: 14, time: 22.923633337020874 seconds, loss: 0.020677188739236376\n",
      "Epoch: 14, acc of train data :0.9916900749063671\n",
      "Epoch: 14, acc of test data: 0.3416289592760181\n",
      "Epoch: 15, time: 23.21725869178772 seconds, loss: 0.014962219678507315\n",
      "Epoch: 15, acc of train data :0.9957865168539326\n",
      "Epoch: 15, acc of test data: 0.35203619909502265\n",
      "Epoch: 16, time: 23.40665602684021 seconds, loss: 0.01142041420054793\n",
      "Epoch: 16, acc of train data :0.9968398876404494\n",
      "Epoch: 16, acc of test data: 0.3601809954751131\n",
      "Epoch: 17, time: 23.780752897262573 seconds, loss: 0.01433106880174594\n",
      "Epoch: 17, acc of train data :0.9959035580524345\n",
      "Epoch: 17, acc of test data: 0.3565610859728507\n",
      "Epoch: 18, time: 23.51463508605957 seconds, loss: 0.009274198223700684\n",
      "Epoch: 18, acc of train data :0.9969569288389513\n",
      "Epoch: 18, acc of test data: 0.36877828054298645\n",
      "Epoch: 19, time: 23.408388376235962 seconds, loss: 0.010090609963578677\n",
      "Epoch: 19, acc of train data :0.9966058052434457\n",
      "Epoch: 19, acc of test data: 0.35203619909502265\n",
      "Epoch: 20, time: 22.944198846817017 seconds, loss: 0.006597682150004062\n",
      "Epoch: 20, acc of train data :0.9976591760299626\n",
      "Epoch: 20, acc of test data: 0.3502262443438914\n",
      "Epoch: 21, time: 22.561829566955566 seconds, loss: 0.008292187842425336\n",
      "Epoch: 21, acc of train data :0.9971910112359551\n",
      "Epoch: 21, acc of test data: 0.34570135746606334\n",
      "Epoch: 22, time: 21.83736515045166 seconds, loss: 0.007546426791153597\n",
      "Epoch: 22, acc of train data :0.9977762172284644\n",
      "Epoch: 22, acc of test data: 0.33031674208144796\n",
      "Epoch: 23, time: 24.248533248901367 seconds, loss: 0.0053172259964746485\n",
      "Epoch: 23, acc of train data :0.9982443820224719\n",
      "Epoch: 23, acc of test data: 0.3384615384615385\n",
      "Epoch: 24, time: 19.73961615562439 seconds, loss: 0.004529363332727875\n",
      "Epoch: 24, acc of train data :0.9987125468164794\n",
      "Epoch: 24, acc of test data: 0.33212669683257917\n",
      "Epoch: 25, time: 19.647579431533813 seconds, loss: 0.002916310415062565\n",
      "Epoch: 25, acc of train data :0.9989466292134831\n",
      "Epoch: 25, acc of test data: 0.34479638009049773\n",
      "Epoch: 26, time: 30.254753828048706 seconds, loss: 0.0076752858103884295\n",
      "Epoch: 26, acc of train data :0.9980102996254682\n",
      "Epoch: 26, acc of test data: 0.33212669683257917\n",
      "Epoch: 27, time: 39.283862352371216 seconds, loss: 0.007678175812468546\n",
      "Epoch: 27, acc of train data :0.9976591760299626\n",
      "Epoch: 27, acc of test data: 0.34570135746606334\n",
      "Epoch: 28, time: 39.2326865196228 seconds, loss: 0.004316318375564247\n",
      "Epoch: 28, acc of train data :0.9984784644194756\n",
      "Epoch: 28, acc of test data: 0.3434389140271493\n",
      "Epoch: 29, time: 29.95728588104248 seconds, loss: 0.002689812304486943\n",
      "Epoch: 29, acc of train data :0.9985955056179775\n",
      "Epoch: 29, acc of test data: 0.3420814479638009\n",
      "Epoch: 30, time: 37.22610592842102 seconds, loss: 0.003629488249619802\n",
      "Epoch: 30, acc of train data :0.9985955056179775\n",
      "Epoch: 30, acc of test data: 0.34434389140271493\n",
      "Epoch: 31, time: 24.883311986923218 seconds, loss: 0.00818247063441223\n",
      "Epoch: 31, acc of train data :0.9976591760299626\n",
      "Epoch: 31, acc of test data: 0.34524886877828054\n",
      "Epoch: 32, time: 29.140039682388306 seconds, loss: 0.004305042103211978\n",
      "Epoch: 32, acc of train data :0.9987125468164794\n",
      "Epoch: 32, acc of test data: 0.3407239819004525\n",
      "Epoch: 33, time: 37.311349868774414 seconds, loss: 0.004718384799662601\n",
      "Epoch: 33, acc of train data :0.9984784644194756\n",
      "Epoch: 33, acc of test data: 0.3434389140271493\n",
      "Epoch: 34, time: 38.238037109375 seconds, loss: 0.005462204946784044\n",
      "Epoch: 34, acc of train data :0.9984784644194756\n",
      "Epoch: 34, acc of test data: 0.3434389140271493\n",
      "Epoch: 35, time: 38.74060821533203 seconds, loss: 0.0012114360258820352\n",
      "Epoch: 35, acc of train data :0.9995318352059925\n",
      "Epoch: 35, acc of test data: 0.34524886877828054\n",
      "Epoch: 36, time: 38.226714849472046 seconds, loss: 0.002228725520189335\n",
      "Epoch: 36, acc of train data :0.9995318352059925\n",
      "Epoch: 36, acc of test data: 0.3334841628959276\n",
      "Epoch: 37, time: 38.33104634284973 seconds, loss: 0.005901950840534789\n",
      "Epoch: 37, acc of train data :0.9987125468164794\n",
      "Epoch: 37, acc of test data: 0.34615384615384615\n",
      "Epoch: 38, time: 39.3620548248291 seconds, loss: 0.0061318661724583485\n",
      "Epoch: 38, acc of train data :0.9989466292134831\n",
      "Epoch: 38, acc of test data: 0.3416289592760181\n",
      "Epoch: 39, time: 38.67066812515259 seconds, loss: 0.001873045490029153\n",
      "Epoch: 39, acc of train data :0.9994147940074907\n",
      "Epoch: 39, acc of test data: 0.3425339366515837\n",
      "Epoch: 40, time: 39.220412254333496 seconds, loss: 0.0027239116166861317\n",
      "Epoch: 40, acc of train data :0.9992977528089888\n",
      "Epoch: 40, acc of test data: 0.32760180995475113\n",
      "Epoch: 41, time: 38.26305603981018 seconds, loss: 0.003196189996231808\n",
      "Epoch: 41, acc of train data :0.9987125468164794\n",
      "Epoch: 41, acc of test data: 0.3380090497737557\n",
      "Epoch: 42, time: 31.447213172912598 seconds, loss: 0.0017121020104554708\n",
      "Epoch: 42, acc of train data :0.9992977528089888\n",
      "Epoch: 42, acc of test data: 0.3389140271493213\n",
      "Epoch: 43, time: 38.03835463523865 seconds, loss: 0.0009088228815950258\n",
      "Epoch: 43, acc of train data :0.9997659176029963\n",
      "Epoch: 43, acc of test data: 0.32760180995475113\n",
      "Epoch: 44, time: 38.187477827072144 seconds, loss: 0.003592370824420943\n",
      "Epoch: 44, acc of train data :0.9992977528089888\n",
      "Epoch: 44, acc of test data: 0.3438914027149321\n",
      "Epoch: 45, time: 37.6087908744812 seconds, loss: 0.0056221050660261946\n",
      "Epoch: 45, acc of train data :0.9983614232209738\n",
      "Epoch: 45, acc of test data: 0.33665158371040727\n",
      "Epoch: 46, time: 39.36246085166931 seconds, loss: 0.0006703253877296876\n",
      "Epoch: 46, acc of train data :0.9994147940074907\n",
      "Epoch: 46, acc of test data: 0.351131221719457\n",
      "Epoch: 47, time: 38.75613284111023 seconds, loss: 0.0024393892913275443\n",
      "Epoch: 47, acc of train data :0.9992977528089888\n",
      "Epoch: 47, acc of test data: 0.3429864253393665\n",
      "Epoch: 48, time: 37.12574529647827 seconds, loss: 9.319761049434934e-05\n",
      "Epoch: 48, acc of train data :1.0\n",
      "Epoch: 48, acc of test data: 0.3416289592760181\n",
      "Epoch: 49, time: 21.497177362442017 seconds, loss: 0.0017658049861590068\n",
      "Epoch: 49, acc of train data :0.9995318352059925\n",
      "Epoch: 49, acc of test data: 0.35248868778280545\n"
     ]
    }
   ],
   "source": [
    "EPOCH = 50\n",
    "\n",
    "for epoch in range(EPOCH):\n",
    "    \n",
    "    random.shuffle(train_tensor)\n",
    "    \n",
    "    start_time = time.time()\n",
    "    train_loss = 0.0\n",
    "    \n",
    "    net.train()\n",
    "    \n",
    "    correct_num_train = 0\n",
    "    \n",
    "    for sent, tag in train_tensor:\n",
    "        \n",
    "        \n",
    "        output = net(sent)\n",
    "        \n",
    "        pred = torch.argmax(output, dim=1)\n",
    "        \n",
    "        if pred[0] == tag[0]:\n",
    "            correct_num_train += 1\n",
    "        \n",
    "        loss = criterion(output, tag)\n",
    "        train_loss += loss.item()\n",
    "        \n",
    "        optimizer.zero_grad()\n",
    "        loss.backward()\n",
    "        optimizer.step()\n",
    "    \n",
    "    loss_trace.append(train_loss / len(train_tensor))\n",
    "    \n",
    "    print(\"Epoch: {}, time: {} seconds, loss: {}\".format(epoch, time.time() - start_time, train_loss / len(train_tensor)))\n",
    "    print(\"Epoch: {}, acc of train data :{}\".format(epoch, correct_num_train / len(train_tensor)))\n",
    "    \n",
    "    acc_trace_train.append(correct_num_train / len(train_tensor))\n",
    "    \n",
    "    correct_num_dev = 0\n",
    "    \n",
    "    with torch.no_grad():\n",
    "        net.eval()\n",
    "        \n",
    "        for sent, tag in dev_tensor:\n",
    "            \n",
    "            output = net(sent)\n",
    "            pred = torch.argmax(output, dim=1) # (1, )\n",
    "            \n",
    "            if pred[0] == tag:\n",
    "                correct_num_dev += 1\n",
    "    \n",
    "    acc_trace_dev.append(correct_num_dev / len(dev_tensor))\n",
    "    print(\"Epoch: {}, acc of test data: {}\".format(epoch, correct_num_dev / len(dev_tensor)))"
   ]
  },
  {
   "cell_type": "code",
   "execution_count": 38,
   "metadata": {},
   "outputs": [],
   "source": [
    "import matplotlib.pyplot as plt"
   ]
  },
  {
   "cell_type": "code",
   "execution_count": 39,
   "metadata": {},
   "outputs": [
    {
     "data": {
      "text/plain": [
       "<matplotlib.legend.Legend at 0x7fa3fc591310>"
      ]
     },
     "execution_count": 39,
     "metadata": {},
     "output_type": "execute_result"
    },
    {
     "data": {
      "image/png": "[encoded data removed]",
      "text/plain": [
       "<Figure size 432x288 with 1 Axes>"
      ]
     },
     "metadata": {
      "needs_background": "light"
     },
     "output_type": "display_data"
    }
   ],
   "source": [
    "plt.plot(loss_trace, label=\"loss trace\")\n",
    "plt.xlabel(\"epoch\")\n",
    "plt.ylabel(\"loss\")\n",
    "plt.grid()\n",
    "plt.legend()"
   ]
  },
  {
   "cell_type": "code",
   "execution_count": 40,
   "metadata": {},
   "outputs": [
    {
     "data": {
      "text/plain": [
       "<matplotlib.legend.Legend at 0x7fa3fc4cdb10>"
      ]
     },
     "execution_count": 40,
     "metadata": {},
     "output_type": "execute_result"
    },
    {
     "data": {
      "image/png": "[encoded data removed]",
      "text/plain": [
       "<Figure size 432x288 with 1 Axes>"
      ]
     },
     "metadata": {
      "needs_background": "light"
     },
     "output_type": "display_data"
    }
   ],
   "source": [
    "plt.plot(acc_trace_train, label=\"acc trace\")\n",
    "plt.xlabel(\"epoch\")\n",
    "plt.ylabel(\"acc of train data\")\n",
    "plt.grid()\n",
    "plt.legend()"
   ]
  },
  {
   "cell_type": "code",
   "execution_count": 41,
   "metadata": {},
   "outputs": [
    {
     "data": {
      "text/plain": [
       "<matplotlib.legend.Legend at 0x7fa3fc44a190>"
      ]
     },
     "execution_count": 41,
     "metadata": {},
     "output_type": "execute_result"
    },
    {
     "data": {
      "image/png": "[encoded data removed]",
      "text/plain": [
       "<Figure size 432x288 with 1 Axes>"
      ]
     },
     "metadata": {
      "needs_background": "light"
     },
     "output_type": "display_data"
    }
   ],
   "source": [
    "plt.plot(acc_trace_dev, label=\"acc trace\")\n",
    "plt.xlabel(\"epoch\")\n",
    "plt.ylabel(\"acc of dev data\")\n",
    "plt.grid()\n",
    "plt.legend()"
   ]
  },
  {
   "cell_type": "code",
   "execution_count": null,
   "metadata": {},
   "outputs": [],
   "source": []
  }
 ],
 "metadata": {
  "kernelspec": {
   "display_name": "Python 3",
   "language": "python",
   "name": "python3"
  },
  "language_info": {
   "codemirror_mode": {
    "name": "ipython",
    "version": 3
   },
   "file_extension": ".py",
   "mimetype": "text/x-python",
   "name": "python",
   "nbconvert_exporter": "python",
   "pygments_lexer": "ipython3",
   "version": "3.7.7"
  }
 },
 "nbformat": 4,
 "nbformat_minor": 4
}
