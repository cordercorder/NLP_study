{
 "cells": [
  {
   "cell_type": "code",
   "execution_count": 1,
   "metadata": {},
   "outputs": [],
   "source": [
    "import time\n",
    "import random\n",
    "import numpy as np\n",
    "import torch\n",
    "from collections import defaultdict"
   ]
  },
  {
   "cell_type": "code",
   "execution_count": 119,
   "metadata": {},
   "outputs": [],
   "source": [
    "word2index = defaultdict(lambda : len(word2index))"
   ]
  },
  {
   "cell_type": "code",
   "execution_count": 120,
   "metadata": {},
   "outputs": [],
   "source": [
    "tag2index = defaultdict(lambda : len(tag2index))"
   ]
  },
  {
   "cell_type": "code",
   "execution_count": 121,
   "metadata": {},
   "outputs": [],
   "source": [
    "def read_data(file_name):\n",
    "    with open(file_name) as f:\n",
    "        for line in f:\n",
    "            label, sentence = line.lower().strip().split(\" ||| \")\n",
    "            yield ([word2index[word] for word in sentence.split()], tag2index[label])"
   ]
  },
  {
   "cell_type": "code",
   "execution_count": 122,
   "metadata": {},
   "outputs": [],
   "source": [
    "train = list(read_data(\"../../cmu_course_data/classes/train.txt\"))"
   ]
  },
  {
   "cell_type": "code",
   "execution_count": 123,
   "metadata": {},
   "outputs": [],
   "source": [
    "UNK = word2index[\"UNK\"]"
   ]
  },
  {
   "cell_type": "code",
   "execution_count": 124,
   "metadata": {},
   "outputs": [],
   "source": [
    "word2index = defaultdict(lambda : UNK, word2index)"
   ]
  },
  {
   "cell_type": "code",
   "execution_count": 125,
   "metadata": {},
   "outputs": [
    {
     "data": {
      "text/plain": [
       "16580"
      ]
     },
     "execution_count": 125,
     "metadata": {},
     "output_type": "execute_result"
    }
   ],
   "source": [
    "len(word2index)"
   ]
  },
  {
   "cell_type": "code",
   "execution_count": 126,
   "metadata": {},
   "outputs": [],
   "source": [
    "dev = list(read_data(\"../../cmu_course_data/classes/dev.txt\"))"
   ]
  },
  {
   "cell_type": "code",
   "execution_count": 127,
   "metadata": {},
   "outputs": [
    {
     "data": {
      "text/plain": [
       "17612"
      ]
     },
     "execution_count": 127,
     "metadata": {},
     "output_type": "execute_result"
    }
   ],
   "source": [
    "len(word2index)"
   ]
  },
  {
   "cell_type": "code",
   "execution_count": 128,
   "metadata": {},
   "outputs": [],
   "source": [
    "words_num = len(word2index)\n",
    "tags_num = len(tag2index)"
   ]
  },
  {
   "cell_type": "code",
   "execution_count": 129,
   "metadata": {},
   "outputs": [
    {
     "data": {
      "text/plain": [
       "[0,\n",
       " 1,\n",
       " 2,\n",
       " 3,\n",
       " 4,\n",
       " 5,\n",
       " 0,\n",
       " 6,\n",
       " 7,\n",
       " 8,\n",
       " 9,\n",
       " 10,\n",
       " 11,\n",
       " 12,\n",
       " 13,\n",
       " 14,\n",
       " 15,\n",
       " 8,\n",
       " 16,\n",
       " 4,\n",
       " 17,\n",
       " 18,\n",
       " 19,\n",
       " 20,\n",
       " 21,\n",
       " 22,\n",
       " 23,\n",
       " 24,\n",
       " 25,\n",
       " 26,\n",
       " 27,\n",
       " 28,\n",
       " 29,\n",
       " 30,\n",
       " 31,\n",
       " 32]"
      ]
     },
     "execution_count": 129,
     "metadata": {},
     "output_type": "execute_result"
    }
   ],
   "source": [
    "train[0][0]"
   ]
  },
  {
   "cell_type": "code",
   "execution_count": 130,
   "metadata": {},
   "outputs": [],
   "source": [
    "class Net(torch.nn.Module):\n",
    "    \n",
    "    def __init__(self, vocab_num, embedding_dim, tags_num):\n",
    "        \n",
    "        super(Net, self).__init__()\n",
    "        \n",
    "        self.embedding = torch.nn.Embedding(vocab_num, embedding_dim) # output will be (input_length, embedding_dim)\n",
    "        self.fc = torch.nn.Linear(embedding_dim, tags_num)\n",
    "    \n",
    "    def forward(self, x):\n",
    "        # x (input_length)\n",
    "        \n",
    "        x = self.embedding(x) # x (input_length, embedding_dim)\n",
    "        x = torch.mean(x, dim=0, keepdim=True) # x (1, embedding_dim)\n",
    "        x = self.fc(x) # x (1, tags_num)\n",
    "        return x"
   ]
  },
  {
   "cell_type": "code",
   "execution_count": 131,
   "metadata": {},
   "outputs": [],
   "source": [
    "Embedding_size = 128"
   ]
  },
  {
   "cell_type": "code",
   "execution_count": 132,
   "metadata": {},
   "outputs": [],
   "source": [
    "net = Net(words_num, Embedding_size, tags_num)"
   ]
  },
  {
   "cell_type": "code",
   "execution_count": 133,
   "metadata": {},
   "outputs": [
    {
     "name": "stdout",
     "output_type": "stream",
     "text": [
      "Net(\n",
      "  (embedding): Embedding(17612, 128)\n",
      "  (fc): Linear(in_features=128, out_features=5, bias=True)\n",
      ")\n"
     ]
    }
   ],
   "source": [
    "print(net)"
   ]
  },
  {
   "cell_type": "code",
   "execution_count": 134,
   "metadata": {},
   "outputs": [],
   "source": [
    "criterion = torch.nn.CrossEntropyLoss()"
   ]
  },
  {
   "cell_type": "code",
   "execution_count": 135,
   "metadata": {},
   "outputs": [],
   "source": [
    "optimizer = torch.optim.Adam(net.parameters(), lr=0.001)"
   ]
  },
  {
   "cell_type": "code",
   "execution_count": 136,
   "metadata": {},
   "outputs": [],
   "source": [
    "EPOCH = 50"
   ]
  },
  {
   "cell_type": "code",
   "execution_count": 137,
   "metadata": {},
   "outputs": [],
   "source": [
    "cal_pred = torch.nn.Softmax(dim=0)"
   ]
  },
  {
   "cell_type": "code",
   "execution_count": 138,
   "metadata": {},
   "outputs": [],
   "source": [
    "loss_trace = []\n",
    "acc_trace = []"
   ]
  },
  {
   "cell_type": "code",
   "execution_count": 139,
   "metadata": {
    "scrolled": true
   },
   "outputs": [
    {
     "name": "stdout",
     "output_type": "stream",
     "text": [
      "Epoch: 0, time: 374.40219473838806, loss: 1.5091973212669685\n",
      "Epoch: 0, test accuracy: 0.36330608537693004\n",
      "Epoch: 1, time: 401.25621604919434, loss: 1.2542389366053714\n",
      "Epoch: 1, test accuracy: 0.3960036330608538\n",
      "Epoch: 2, time: 402.28519225120544, loss: 1.0122748883321186\n",
      "Epoch: 2, test accuracy: 0.3823796548592189\n",
      "Epoch: 3, time: 401.9675030708313, loss: 0.8003358568058794\n",
      "Epoch: 3, test accuracy: 0.36603088101725706\n",
      "Epoch: 4, time: 401.92529821395874, loss: 0.624837956773842\n",
      "Epoch: 4, test accuracy: 0.3569482288828338\n",
      "Epoch: 5, time: 402.0224723815918, loss: 0.48613677641502323\n",
      "Epoch: 5, test accuracy: 0.3496821071752952\n",
      "Epoch: 6, time: 403.5144748687744, loss: 0.3818990976218463\n",
      "Epoch: 6, test accuracy: 0.3333333333333333\n",
      "Epoch: 7, time: 403.0511975288391, loss: 0.30141036178530106\n",
      "Epoch: 7, test accuracy: 0.34514078110808355\n",
      "Epoch: 8, time: 402.99790143966675, loss: 0.23829518173270664\n",
      "Epoch: 8, test accuracy: 0.33969118982742963\n",
      "Epoch: 9, time: 403.07351779937744, loss: 0.1882775829110395\n",
      "Epoch: 9, test accuracy: 0.33424159854677565\n",
      "Epoch: 10, time: 404.03424644470215, loss: 0.15282241717926603\n",
      "Epoch: 10, test accuracy: 0.33060853769300635\n",
      "Epoch: 11, time: 404.42861461639404, loss: 0.12295598567214457\n",
      "Epoch: 11, test accuracy: 0.3260672116257947\n",
      "Epoch: 12, time: 405.968496799469, loss: 0.09915516951778323\n",
      "Epoch: 12, test accuracy: 0.3315168029064487\n",
      "Epoch: 13, time: 405.1410782337189, loss: 0.08305867850049099\n",
      "Epoch: 13, test accuracy: 0.32879200726612173\n",
      "Epoch: 14, time: 405.8698482513428, loss: 0.06501766045557247\n",
      "Epoch: 14, test accuracy: 0.3333333333333333\n",
      "Epoch: 15, time: 406.5442085266113, loss: 0.05274837923460567\n",
      "Epoch: 15, test accuracy: 0.33424159854677565\n",
      "Epoch: 16, time: 405.81359601020813, loss: 0.045547490174507786\n",
      "Epoch: 16, test accuracy: 0.329700272479564\n",
      "Epoch: 17, time: 406.97956895828247, loss: 0.036166152791141895\n",
      "Epoch: 17, test accuracy: 0.32697547683923706\n",
      "Epoch: 18, time: 406.8354251384735, loss: 0.030372200489065564\n",
      "Epoch: 18, test accuracy: 0.329700272479564\n",
      "Epoch: 19, time: 406.7551758289337, loss: 0.023126106883606508\n",
      "Epoch: 19, test accuracy: 0.33605812897366033\n",
      "Epoch: 20, time: 407.9967358112335, loss: 0.019926825266278543\n",
      "Epoch: 20, test accuracy: 0.33242506811989103\n",
      "Epoch: 21, time: 406.7790496349335, loss: 0.015473172112765547\n",
      "Epoch: 21, test accuracy: 0.3242506811989101\n",
      "Epoch: 22, time: 405.8280327320099, loss: 0.014031983737435715\n",
      "Epoch: 22, test accuracy: 0.3315168029064487\n",
      "Epoch: 23, time: 406.5426278114319, loss: 0.011154092120176456\n",
      "Epoch: 23, test accuracy: 0.33242506811989103\n",
      "Epoch: 24, time: 407.5285999774933, loss: 0.00832010788284409\n",
      "Epoch: 24, test accuracy: 0.33060853769300635\n",
      "Epoch: 25, time: 406.9485149383545, loss: 0.007115263396360719\n",
      "Epoch: 25, test accuracy: 0.32334241598546776\n",
      "Epoch: 26, time: 407.37507700920105, loss: 0.006444208070597258\n",
      "Epoch: 26, test accuracy: 0.33060853769300635\n",
      "Epoch: 27, time: 408.176953792572, loss: 0.003974837109890727\n",
      "Epoch: 27, test accuracy: 0.3242506811989101\n",
      "Epoch: 28, time: 407.8384895324707, loss: 0.004118199697539876\n",
      "Epoch: 28, test accuracy: 0.3260672116257947\n",
      "Epoch: 29, time: 408.5560269355774, loss: 0.0028613292663915023\n",
      "Epoch: 29, test accuracy: 0.329700272479564\n",
      "Epoch: 30, time: 408.3273606300354, loss: 0.0024748903303935103\n",
      "Epoch: 30, test accuracy: 0.3206176203451408\n",
      "Epoch: 31, time: 408.77728152275085, loss: 0.0023962083025596344\n",
      "Epoch: 31, test accuracy: 0.32334241598546776\n",
      "Epoch: 32, time: 408.93190145492554, loss: 0.0015589897944442445\n",
      "Epoch: 32, test accuracy: 0.32334241598546776\n",
      "Epoch: 33, time: 409.05208587646484, loss: 0.0013426505521395343\n",
      "Epoch: 33, test accuracy: 0.3215258855585831\n",
      "Epoch: 34, time: 410.51396560668945, loss: 0.0012627538367871868\n",
      "Epoch: 34, test accuracy: 0.31970935513169846\n",
      "Epoch: 35, time: 409.85883140563965, loss: 0.001213394480678825\n",
      "Epoch: 35, test accuracy: 0.3188010899182561\n",
      "Epoch: 36, time: 410.4321174621582, loss: 0.0007024603664232611\n",
      "Epoch: 36, test accuracy: 0.3188010899182561\n",
      "Epoch: 37, time: 410.63979053497314, loss: 0.0011554636227590598\n",
      "Epoch: 37, test accuracy: 0.32515894641235243\n",
      "Epoch: 38, time: 409.87192821502686, loss: 0.0003572654069951509\n",
      "Epoch: 38, test accuracy: 0.32515894641235243\n",
      "Epoch: 39, time: 410.6164186000824, loss: 0.0010337591330272942\n",
      "Epoch: 39, test accuracy: 0.3188010899182561\n",
      "Epoch: 40, time: 411.04792952537537, loss: 0.00032781112306040535\n",
      "Epoch: 40, test accuracy: 0.32515894641235243\n",
      "Epoch: 41, time: 412.240505695343, loss: 0.0004339792246349709\n",
      "Epoch: 41, test accuracy: 0.3215258855585831\n",
      "Epoch: 42, time: 412.00228214263916, loss: 0.0003966039546015467\n",
      "Epoch: 42, test accuracy: 0.32697547683923706\n",
      "Epoch: 43, time: 411.8143286705017, loss: 0.00047381142106642\n",
      "Epoch: 43, test accuracy: 0.3242506811989101\n",
      "Epoch: 44, time: 413.38604259490967, loss: 8.978951232087332e-05\n",
      "Epoch: 44, test accuracy: 0.3169845594913715\n",
      "Epoch: 45, time: 412.753134727478, loss: 0.00030572834668597904\n",
      "Epoch: 45, test accuracy: 0.3142597638510445\n",
      "Epoch: 46, time: 413.4393994808197, loss: 0.000287709197055153\n",
      "Epoch: 46, test accuracy: 0.3215258855585831\n",
      "Epoch: 47, time: 413.8812839984894, loss: 3.638818844589536e-05\n",
      "Epoch: 47, test accuracy: 0.3242506811989101\n",
      "Epoch: 48, time: 414.24467873573303, loss: 0.00010777803965436812\n",
      "Epoch: 48, test accuracy: 0.3260672116257947\n",
      "Epoch: 49, time: 414.762975692749, loss: 0.00022442293768303652\n",
      "Epoch: 49, test accuracy: 0.3215258855585831\n"
     ]
    }
   ],
   "source": [
    "for epoch in range(EPOCH):\n",
    "    \n",
    "    random.shuffle(train)\n",
    "    \n",
    "    train_loss = 0.0\n",
    "    st = time.time()\n",
    "    \n",
    "    for word_list, label in train:\n",
    "        \n",
    "        optimizer.zero_grad()\n",
    "        output = net(torch.tensor(word_list))\n",
    "        loss = criterion(output, torch.unsqueeze(torch.tensor(label), dim=0))\n",
    "        \n",
    "        train_loss += loss.item()\n",
    "        loss.backward()\n",
    "        optimizer.step()\n",
    "        \n",
    "#         print(loss.item())\n",
    "    print(\"Epoch: {}, time: {}, loss: {}\".format(epoch, time.time() - st, train_loss / len(train)))\n",
    "    loss_trace.append(train_loss / len(train))\n",
    "    \n",
    "    correct_num = 0\n",
    "    \n",
    "    with torch.no_grad():\n",
    "    \n",
    "        for test_word_list, test_label in dev:\n",
    "            \n",
    "            output = net(torch.tensor(test_word_list))\n",
    "\n",
    "            output = torch.squeeze(output, dim=0)\n",
    "            \n",
    "            pred = cal_pred(output)\n",
    "            \n",
    "            if torch.argmax(pred).item() == test_label:\n",
    "                correct_num += 1\n",
    "\n",
    "    print(\"Epoch: {}, test accuracy: {}\".format(epoch, correct_num / len(dev)))\n",
    "    acc_trace.append(correct_num / len(dev))"
   ]
  },
  {
   "cell_type": "code",
   "execution_count": 146,
   "metadata": {},
   "outputs": [],
   "source": [
    "import matplotlib.pyplot as plt\n",
    "%matplotlib inline"
   ]
  },
  {
   "cell_type": "code",
   "execution_count": 151,
   "metadata": {},
   "outputs": [
    {
     "data": {
      "image/png": "[encoded data removed]",
      "text/plain": [
       "<Figure size 432x288 with 1 Axes>"
      ]
     },
     "metadata": {
      "needs_background": "light"
     },
     "output_type": "display_data"
    }
   ],
   "source": [
    "plt.plot(loss_trace, label=\"loss trace\", color=\"r\")\n",
    "plt.xlabel(\"epoch\")\n",
    "plt.ylabel(\"loss\")\n",
    "plt.grid()\n",
    "plt.legend()\n",
    "plt.show()"
   ]
  },
  {
   "cell_type": "code",
   "execution_count": 152,
   "metadata": {},
   "outputs": [
    {
     "data": {
      "image/png": "[encoded data removed]",
      "text/plain": [
       "<Figure size 432x288 with 1 Axes>"
      ]
     },
     "metadata": {
      "needs_background": "light"
     },
     "output_type": "display_data"
    }
   ],
   "source": [
    "plt.plot(acc_trace, label=\"acc trace\")\n",
    "plt.xlabel(\"epoch\")\n",
    "plt.ylabel(\"loss\")\n",
    "plt.grid()\n",
    "plt.legend()\n",
    "plt.show()"
   ]
  },
  {
   "cell_type": "code",
   "execution_count": null,
   "metadata": {},
   "outputs": [],
   "source": []
  }
 ],
 "metadata": {
  "kernelspec": {
   "display_name": "Python 3",
   "language": "python",
   "name": "python3"
  },
  "language_info": {
   "codemirror_mode": {
    "name": "ipython",
    "version": 3
   },
   "file_extension": ".py",
   "mimetype": "text/x-python",
   "name": "python",
   "nbconvert_exporter": "python",
   "pygments_lexer": "ipython3",
   "version": "3.7.7"
  }
 },
 "nbformat": 4,
 "nbformat_minor": 4
}
