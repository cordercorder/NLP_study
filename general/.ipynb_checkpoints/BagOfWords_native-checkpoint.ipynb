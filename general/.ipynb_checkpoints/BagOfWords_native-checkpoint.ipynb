{
 "cells": [
  {
   "cell_type": "code",
   "execution_count": 142,
   "metadata": {},
   "outputs": [],
   "source": [
    "sentences = []\n",
    "# sentences.append('hello world   ')\n",
    "# sentences.append('Bag of Words')\n",
    "# sentences.append('hello natural language processing')\n",
    "# sentences.append('natural language processing')\n",
    "# sentences.append('hello to the cruel world')\n",
    "sentences.append('John likes to watch movies Mary likes movies too')\n",
    "sentences.append('John also likes to watch football games')"
   ]
  },
  {
   "cell_type": "code",
   "execution_count": 143,
   "metadata": {},
   "outputs": [
    {
     "data": {
      "text/plain": [
       "['John likes to watch movies Mary likes movies too',\n",
       " 'John also likes to watch football games']"
      ]
     },
     "execution_count": 143,
     "metadata": {},
     "output_type": "execute_result"
    }
   ],
   "source": [
    "sentences"
   ]
  },
  {
   "cell_type": "code",
   "execution_count": 144,
   "metadata": {},
   "outputs": [],
   "source": [
    "def generate_wordlist_from_sentence(sentence):\n",
    "    ans = []\n",
    "    lst = 0\n",
    "    for i, ch in enumerate(sentence):\n",
    "        if ch == ' ' or ch == '\\n':\n",
    "            if lst < i:\n",
    "                ans.append(sentence[lst:i].lower())\n",
    "            lst = i+1\n",
    "    if ch != ' ' and ch != '\\n':\n",
    "        ans.append(sentence[lst:i+1].lower())\n",
    "    return ans"
   ]
  },
  {
   "cell_type": "code",
   "execution_count": 145,
   "metadata": {},
   "outputs": [
    {
     "data": {
      "text/plain": [
       "['john', 'likes', 'to', 'watch', 'movies', 'mary', 'likes', 'movies', 'too']"
      ]
     },
     "execution_count": 145,
     "metadata": {},
     "output_type": "execute_result"
    }
   ],
   "source": [
    "generate_wordlist_from_sentence(sentences[0])"
   ]
  },
  {
   "cell_type": "code",
   "execution_count": 146,
   "metadata": {},
   "outputs": [],
   "source": [
    "word_count = dict()"
   ]
  },
  {
   "cell_type": "code",
   "execution_count": 147,
   "metadata": {},
   "outputs": [],
   "source": [
    "for sentence in sentences:\n",
    "    for word in generate_wordlist_from_sentence(sentence):\n",
    "        word_count[word] = word_count.get(word, 0)+1 "
   ]
  },
  {
   "cell_type": "code",
   "execution_count": 148,
   "metadata": {},
   "outputs": [
    {
     "data": {
      "text/plain": [
       "{'john': 2,\n",
       " 'likes': 3,\n",
       " 'to': 2,\n",
       " 'watch': 2,\n",
       " 'movies': 2,\n",
       " 'mary': 1,\n",
       " 'too': 1,\n",
       " 'also': 1,\n",
       " 'football': 1,\n",
       " 'games': 1}"
      ]
     },
     "execution_count": 148,
     "metadata": {},
     "output_type": "execute_result"
    }
   ],
   "source": [
    "word_count"
   ]
  },
  {
   "cell_type": "code",
   "execution_count": 149,
   "metadata": {},
   "outputs": [],
   "source": [
    "representation_of_sentece = []"
   ]
  },
  {
   "cell_type": "code",
   "execution_count": 150,
   "metadata": {},
   "outputs": [
    {
     "data": {
      "text/plain": [
       "['John likes to watch movies Mary likes movies too',\n",
       " 'John also likes to watch football games']"
      ]
     },
     "execution_count": 150,
     "metadata": {},
     "output_type": "execute_result"
    }
   ],
   "source": [
    "sentences"
   ]
  },
  {
   "cell_type": "code",
   "execution_count": 151,
   "metadata": {},
   "outputs": [
    {
     "name": "stdout",
     "output_type": "stream",
     "text": [
      "John likes to watch movies Mary likes movies too\n",
      "John also likes to watch football games\n"
     ]
    }
   ],
   "source": [
    "for i, item in enumerate(sentences):\n",
    "    print(item)"
   ]
  },
  {
   "cell_type": "code",
   "execution_count": 152,
   "metadata": {},
   "outputs": [
    {
     "name": "stdout",
     "output_type": "stream",
     "text": [
      "John likes to watch movies Mary likes movies too\n",
      "John also likes to watch football games\n"
     ]
    }
   ],
   "source": [
    "for i, sentence in enumerate(sentences):\n",
    "    representation_of_sentece.append([0]*len(word_count))\n",
    "    tmp_word_count = {}\n",
    "    print(sentence)\n",
    "    for word in generate_wordlist_from_sentence(sentence):\n",
    "        tmp_word_count[word] = tmp_word_count.get(word, 0)+1\n",
    "    \n",
    "    for j, item in enumerate(tmp_word_count.keys()):\n",
    "        representation_of_sentece[i][j] = tmp_word_count[item]"
   ]
  },
  {
   "cell_type": "code",
   "execution_count": 156,
   "metadata": {},
   "outputs": [
    {
     "data": {
      "text/plain": [
       "[[1, 2, 1, 1, 2, 1, 1, 0, 0, 0], [1, 1, 1, 1, 1, 1, 1, 0, 0, 0]]"
      ]
     },
     "execution_count": 156,
     "metadata": {},
     "output_type": "execute_result"
    }
   ],
   "source": [
    "representation_of_sentece"
   ]
  }
 ],
 "metadata": {
  "kernelspec": {
   "display_name": "Python 3",
   "language": "python",
   "name": "python3"
  },
  "language_info": {
   "codemirror_mode": {
    "name": "ipython",
    "version": 3
   },
   "file_extension": ".py",
   "mimetype": "text/x-python",
   "name": "python",
   "nbconvert_exporter": "python",
   "pygments_lexer": "ipython3",
   "version": "3.7.0"
  }
 },
 "nbformat": 4,
 "nbformat_minor": 2
}
