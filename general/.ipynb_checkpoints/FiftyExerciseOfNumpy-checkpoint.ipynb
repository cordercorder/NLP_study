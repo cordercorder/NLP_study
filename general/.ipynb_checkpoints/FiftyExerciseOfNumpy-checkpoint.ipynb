{
 "cells": [
  {
   "cell_type": "code",
   "execution_count": 1,
   "metadata": {},
   "outputs": [],
   "source": [
    "import numpy as np"
   ]
  },
  {
   "cell_type": "markdown",
   "metadata": {},
   "source": [
    "1. numpy version"
   ]
  },
  {
   "cell_type": "code",
   "execution_count": 2,
   "metadata": {},
   "outputs": [
    {
     "data": {
      "text/plain": [
       "'1.18.1'"
      ]
     },
     "execution_count": 2,
     "metadata": {},
     "output_type": "execute_result"
    }
   ],
   "source": [
    "np.__version__"
   ]
  },
  {
   "cell_type": "markdown",
   "metadata": {},
   "source": [
    "2. numpy configuration"
   ]
  },
  {
   "cell_type": "code",
   "execution_count": 3,
   "metadata": {},
   "outputs": [
    {
     "name": "stdout",
     "output_type": "stream",
     "text": [
      "blas_mkl_info:\n",
      "    libraries = ['mkl_rt']\n",
      "    library_dirs = ['D:/program/Anaconda3/envs/ml2\\\\Library\\\\lib']\n",
      "    define_macros = [('SCIPY_MKL_H', None), ('HAVE_CBLAS', None)]\n",
      "    include_dirs = ['C:\\\\Program Files (x86)\\\\IntelSWTools\\\\compilers_and_libraries_2019.0.117\\\\windows\\\\mkl', 'C:\\\\Program Files (x86)\\\\IntelSWTools\\\\compilers_and_libraries_2019.0.117\\\\windows\\\\mkl\\\\include', 'C:\\\\Program Files (x86)\\\\IntelSWTools\\\\compilers_and_libraries_2019.0.117\\\\windows\\\\mkl\\\\lib', 'D:/program/Anaconda3/envs/ml2\\\\Library\\\\include']\n",
      "blas_opt_info:\n",
      "    libraries = ['mkl_rt']\n",
      "    library_dirs = ['D:/program/Anaconda3/envs/ml2\\\\Library\\\\lib']\n",
      "    define_macros = [('SCIPY_MKL_H', None), ('HAVE_CBLAS', None)]\n",
      "    include_dirs = ['C:\\\\Program Files (x86)\\\\IntelSWTools\\\\compilers_and_libraries_2019.0.117\\\\windows\\\\mkl', 'C:\\\\Program Files (x86)\\\\IntelSWTools\\\\compilers_and_libraries_2019.0.117\\\\windows\\\\mkl\\\\include', 'C:\\\\Program Files (x86)\\\\IntelSWTools\\\\compilers_and_libraries_2019.0.117\\\\windows\\\\mkl\\\\lib', 'D:/program/Anaconda3/envs/ml2\\\\Library\\\\include']\n",
      "lapack_mkl_info:\n",
      "    libraries = ['mkl_rt']\n",
      "    library_dirs = ['D:/program/Anaconda3/envs/ml2\\\\Library\\\\lib']\n",
      "    define_macros = [('SCIPY_MKL_H', None), ('HAVE_CBLAS', None)]\n",
      "    include_dirs = ['C:\\\\Program Files (x86)\\\\IntelSWTools\\\\compilers_and_libraries_2019.0.117\\\\windows\\\\mkl', 'C:\\\\Program Files (x86)\\\\IntelSWTools\\\\compilers_and_libraries_2019.0.117\\\\windows\\\\mkl\\\\include', 'C:\\\\Program Files (x86)\\\\IntelSWTools\\\\compilers_and_libraries_2019.0.117\\\\windows\\\\mkl\\\\lib', 'D:/program/Anaconda3/envs/ml2\\\\Library\\\\include']\n",
      "lapack_opt_info:\n",
      "    libraries = ['mkl_rt']\n",
      "    library_dirs = ['D:/program/Anaconda3/envs/ml2\\\\Library\\\\lib']\n",
      "    define_macros = [('SCIPY_MKL_H', None), ('HAVE_CBLAS', None)]\n",
      "    include_dirs = ['C:\\\\Program Files (x86)\\\\IntelSWTools\\\\compilers_and_libraries_2019.0.117\\\\windows\\\\mkl', 'C:\\\\Program Files (x86)\\\\IntelSWTools\\\\compilers_and_libraries_2019.0.117\\\\windows\\\\mkl\\\\include', 'C:\\\\Program Files (x86)\\\\IntelSWTools\\\\compilers_and_libraries_2019.0.117\\\\windows\\\\mkl\\\\lib', 'D:/program/Anaconda3/envs/ml2\\\\Library\\\\include']\n"
     ]
    }
   ],
   "source": [
    "np.show_config()"
   ]
  },
  {
   "cell_type": "markdown",
   "metadata": {},
   "source": [
    "3. create a zero vector of size 10"
   ]
  },
  {
   "cell_type": "code",
   "execution_count": 4,
   "metadata": {},
   "outputs": [],
   "source": [
    "a = np.zeros(10)"
   ]
  },
  {
   "cell_type": "code",
   "execution_count": 5,
   "metadata": {},
   "outputs": [],
   "source": [
    "b = np.zeros((10, 12))"
   ]
  },
  {
   "cell_type": "code",
   "execution_count": 6,
   "metadata": {},
   "outputs": [
    {
     "data": {
      "text/plain": [
       "120"
      ]
     },
     "execution_count": 6,
     "metadata": {},
     "output_type": "execute_result"
    }
   ],
   "source": [
    "b.size"
   ]
  },
  {
   "cell_type": "code",
   "execution_count": 7,
   "metadata": {},
   "outputs": [
    {
     "data": {
      "text/plain": [
       "dtype('float64')"
      ]
     },
     "execution_count": 7,
     "metadata": {},
     "output_type": "execute_result"
    }
   ],
   "source": [
    "b.dtype"
   ]
  },
  {
   "cell_type": "code",
   "execution_count": 8,
   "metadata": {},
   "outputs": [
    {
     "data": {
      "text/plain": [
       "8"
      ]
     },
     "execution_count": 8,
     "metadata": {},
     "output_type": "execute_result"
    }
   ],
   "source": [
    "b.itemsize"
   ]
  },
  {
   "cell_type": "code",
   "execution_count": 9,
   "metadata": {},
   "outputs": [],
   "source": [
    "c = np.zeros(5, dtype=np.int64)"
   ]
  },
  {
   "cell_type": "code",
   "execution_count": 10,
   "metadata": {},
   "outputs": [
    {
     "data": {
      "text/plain": [
       "8"
      ]
     },
     "execution_count": 10,
     "metadata": {},
     "output_type": "execute_result"
    }
   ],
   "source": [
    "c.itemsize"
   ]
  },
  {
   "cell_type": "markdown",
   "metadata": {},
   "source": [
    "4. View the memory size occupied by the array c"
   ]
  },
  {
   "cell_type": "code",
   "execution_count": 11,
   "metadata": {},
   "outputs": [
    {
     "data": {
      "text/plain": [
       "40"
      ]
     },
     "execution_count": 11,
     "metadata": {},
     "output_type": "execute_result"
    }
   ],
   "source": [
    "c.itemsize * c.size"
   ]
  },
  {
   "cell_type": "markdown",
   "metadata": {},
   "source": [
    "5. How to get the documentation of the numpy add function from the command line?\n",
    "```\n",
    "%run `python -c \"import numpy; numpy.info(numpy.add)\"`\n",
    "```"
   ]
  },
  {
   "cell_type": "markdown",
   "metadata": {},
   "source": [
    "6. Create a zero vector of size 10 but the fifth value which is 1"
   ]
  },
  {
   "cell_type": "code",
   "execution_count": 12,
   "metadata": {},
   "outputs": [],
   "source": [
    "a = np.zeros(10)\n",
    "a[4] = 1"
   ]
  },
  {
   "cell_type": "code",
   "execution_count": 13,
   "metadata": {},
   "outputs": [
    {
     "data": {
      "text/plain": [
       "array([0., 0., 0., 0., 1., 0., 0., 0., 0., 0.])"
      ]
     },
     "execution_count": 13,
     "metadata": {},
     "output_type": "execute_result"
    }
   ],
   "source": [
    "a"
   ]
  },
  {
   "cell_type": "markdown",
   "metadata": {},
   "source": [
    "7. Create a vector with values ranging from 10 to 49"
   ]
  },
  {
   "cell_type": "code",
   "execution_count": 14,
   "metadata": {},
   "outputs": [
    {
     "data": {
      "text/plain": [
       "array([10, 11, 12, 13, 14, 15, 16, 17, 18, 19, 20, 21, 22, 23, 24, 25, 26,\n",
       "       27, 28, 29, 30, 31, 32, 33, 34, 35, 36, 37, 38, 39, 40, 41, 42, 43,\n",
       "       44, 45, 46, 47, 48, 49])"
      ]
     },
     "execution_count": 14,
     "metadata": {},
     "output_type": "execute_result"
    }
   ],
   "source": [
    "a = np.arange(10, 50)\n",
    "a"
   ]
  },
  {
   "cell_type": "markdown",
   "metadata": {},
   "source": [
    "8. Reverse a vector (first element becomes last)"
   ]
  },
  {
   "cell_type": "code",
   "execution_count": 15,
   "metadata": {},
   "outputs": [],
   "source": [
    "a = np.array([[1,2,3,4,5],[1,2,3,4,5]])\n",
    "a[1] += 5"
   ]
  },
  {
   "cell_type": "code",
   "execution_count": 16,
   "metadata": {},
   "outputs": [
    {
     "data": {
      "text/plain": [
       "array([[ 1,  2,  3,  4,  5],\n",
       "       [ 6,  7,  8,  9, 10]])"
      ]
     },
     "execution_count": 16,
     "metadata": {},
     "output_type": "execute_result"
    }
   ],
   "source": [
    "a"
   ]
  },
  {
   "cell_type": "code",
   "execution_count": 17,
   "metadata": {},
   "outputs": [
    {
     "data": {
      "text/plain": [
       "array([[10,  9,  8,  7,  6],\n",
       "       [ 5,  4,  3,  2,  1]])"
      ]
     },
     "execution_count": 17,
     "metadata": {},
     "output_type": "execute_result"
    }
   ],
   "source": [
    "a[::-1,::-1]"
   ]
  },
  {
   "cell_type": "markdown",
   "metadata": {},
   "source": [
    "9. Create a 3x3 matrix with values ranging from 0 to 8"
   ]
  },
  {
   "cell_type": "code",
   "execution_count": 18,
   "metadata": {},
   "outputs": [],
   "source": [
    "a = np.arange(0, 9)"
   ]
  },
  {
   "cell_type": "code",
   "execution_count": 19,
   "metadata": {},
   "outputs": [],
   "source": [
    "b = a.reshape((3, 3))"
   ]
  },
  {
   "cell_type": "code",
   "execution_count": 20,
   "metadata": {},
   "outputs": [
    {
     "data": {
      "text/plain": [
       "array([[0, 1, 2],\n",
       "       [3, 4, 5],\n",
       "       [6, 7, 8]])"
      ]
     },
     "execution_count": 20,
     "metadata": {},
     "output_type": "execute_result"
    }
   ],
   "source": [
    "b"
   ]
  },
  {
   "cell_type": "code",
   "execution_count": 21,
   "metadata": {},
   "outputs": [
    {
     "data": {
      "text/plain": [
       "array([[0, 1, 2],\n",
       "       [3, 4, 5],\n",
       "       [6, 7, 8]])"
      ]
     },
     "execution_count": 21,
     "metadata": {},
     "output_type": "execute_result"
    }
   ],
   "source": [
    "np.reshape(a, (3, 3))"
   ]
  },
  {
   "cell_type": "markdown",
   "metadata": {},
   "source": [
    "10. Find indices of non-zero elements from [1,2,0,0,4,0]"
   ]
  },
  {
   "cell_type": "code",
   "execution_count": 22,
   "metadata": {},
   "outputs": [],
   "source": [
    "a = np.array([1, 2, 0, 0, 4, 0])\n",
    "idx = np.nonzero(a)"
   ]
  },
  {
   "cell_type": "code",
   "execution_count": 23,
   "metadata": {},
   "outputs": [
    {
     "data": {
      "text/plain": [
       "(array([0, 1, 4], dtype=int64),)"
      ]
     },
     "execution_count": 23,
     "metadata": {},
     "output_type": "execute_result"
    }
   ],
   "source": [
    "idx"
   ]
  },
  {
   "cell_type": "markdown",
   "metadata": {},
   "source": [
    "11. Create a $3 \\times 3$ identity matrix"
   ]
  },
  {
   "cell_type": "code",
   "execution_count": 24,
   "metadata": {},
   "outputs": [
    {
     "data": {
      "text/plain": [
       "array([[1., 0., 0.],\n",
       "       [0., 1., 0.],\n",
       "       [0., 0., 1.]])"
      ]
     },
     "execution_count": 24,
     "metadata": {},
     "output_type": "execute_result"
    }
   ],
   "source": [
    "a = np.eye(3, 3)\n",
    "a"
   ]
  },
  {
   "cell_type": "markdown",
   "metadata": {},
   "source": [
    "12. Create a $3 \\times 3 \\times 3$ array with random values"
   ]
  },
  {
   "cell_type": "code",
   "execution_count": 25,
   "metadata": {},
   "outputs": [],
   "source": [
    "a = np.random.randn(3, 3, 3)"
   ]
  },
  {
   "cell_type": "markdown",
   "metadata": {},
   "source": [
    "13. Create a $10 \\times 10$ array with random values and find the minimum and maximum values"
   ]
  },
  {
   "cell_type": "code",
   "execution_count": 26,
   "metadata": {},
   "outputs": [
    {
     "data": {
      "text/plain": [
       "(-2.380934631371813, 3.2966188083371217)"
      ]
     },
     "execution_count": 26,
     "metadata": {},
     "output_type": "execute_result"
    }
   ],
   "source": [
    "a = np.random.randn(10, 10)\n",
    "min_value = np.min(a)\n",
    "max_value = np.max(a)\n",
    "min_value, max_value"
   ]
  },
  {
   "cell_type": "markdown",
   "metadata": {},
   "source": [
    "14. Create a random vector of size 30 and find the mean value"
   ]
  },
  {
   "cell_type": "code",
   "execution_count": 27,
   "metadata": {},
   "outputs": [
    {
     "data": {
      "text/plain": [
       "-0.20525492947441631"
      ]
     },
     "execution_count": 27,
     "metadata": {},
     "output_type": "execute_result"
    }
   ],
   "source": [
    "a = np.random.randn(30)\n",
    "mean_value = np.mean(a)\n",
    "mean_value"
   ]
  },
  {
   "cell_type": "markdown",
   "metadata": {},
   "source": [
    "15. Create a 2d array with 1 on the border and 0 inside"
   ]
  },
  {
   "cell_type": "code",
   "execution_count": 28,
   "metadata": {},
   "outputs": [
    {
     "data": {
      "text/plain": [
       "array([[1., 1., 1., 1., 1., 1., 1., 1., 1., 1.],\n",
       "       [1., 0., 0., 0., 0., 0., 0., 0., 0., 1.],\n",
       "       [1., 0., 0., 0., 0., 0., 0., 0., 0., 1.],\n",
       "       [1., 0., 0., 0., 0., 0., 0., 0., 0., 1.],\n",
       "       [1., 0., 0., 0., 0., 0., 0., 0., 0., 1.],\n",
       "       [1., 0., 0., 0., 0., 0., 0., 0., 0., 1.],\n",
       "       [1., 0., 0., 0., 0., 0., 0., 0., 0., 1.],\n",
       "       [1., 0., 0., 0., 0., 0., 0., 0., 0., 1.],\n",
       "       [1., 0., 0., 0., 0., 0., 0., 0., 0., 1.],\n",
       "       [1., 1., 1., 1., 1., 1., 1., 1., 1., 1.]])"
      ]
     },
     "execution_count": 28,
     "metadata": {},
     "output_type": "execute_result"
    }
   ],
   "source": [
    "a = np.ones((10, 10))\n",
    "a[1:-1,1:-1] = 0\n",
    "a"
   ]
  },
  {
   "cell_type": "code",
   "execution_count": 29,
   "metadata": {},
   "outputs": [
    {
     "data": {
      "text/plain": [
       "array([1., 0., 0., 0., 0., 0., 0., 0., 0., 1.])"
      ]
     },
     "execution_count": 29,
     "metadata": {},
     "output_type": "execute_result"
    }
   ],
   "source": [
    "a[1:-1][2]"
   ]
  },
  {
   "cell_type": "code",
   "execution_count": 30,
   "metadata": {},
   "outputs": [
    {
     "data": {
      "text/plain": [
       "array([0., 0., 0., 0., 0., 0., 0., 0.])"
      ]
     },
     "execution_count": 30,
     "metadata": {},
     "output_type": "execute_result"
    }
   ],
   "source": [
    "a[1:-1, 2]"
   ]
  },
  {
   "cell_type": "code",
   "execution_count": 31,
   "metadata": {},
   "outputs": [],
   "source": [
    "a = np.reshape(np.arange(100), (10, 10))"
   ]
  },
  {
   "cell_type": "code",
   "execution_count": 32,
   "metadata": {},
   "outputs": [
    {
     "data": {
      "text/plain": [
       "array([[ 0,  1,  2,  3,  4,  5,  6,  7,  8,  9],\n",
       "       [10, 11, 12, 13, 14, 15, 16, 17, 18, 19],\n",
       "       [20, 21, 22, 23, 24, 25, 26, 27, 28, 29],\n",
       "       [30, 31, 32, 33, 34, 35, 36, 37, 38, 39],\n",
       "       [40, 41, 42, 43, 44, 45, 46, 47, 48, 49],\n",
       "       [50, 51, 52, 53, 54, 55, 56, 57, 58, 59],\n",
       "       [60, 61, 62, 63, 64, 65, 66, 67, 68, 69],\n",
       "       [70, 71, 72, 73, 74, 75, 76, 77, 78, 79],\n",
       "       [80, 81, 82, 83, 84, 85, 86, 87, 88, 89],\n",
       "       [90, 91, 92, 93, 94, 95, 96, 97, 98, 99]])"
      ]
     },
     "execution_count": 32,
     "metadata": {},
     "output_type": "execute_result"
    }
   ],
   "source": [
    "a"
   ]
  },
  {
   "cell_type": "code",
   "execution_count": 33,
   "metadata": {},
   "outputs": [
    {
     "data": {
      "text/plain": [
       "array([[10, 11, 12, 13, 14, 15, 16, 17, 18, 19],\n",
       "       [20, 21, 22, 23, 24, 25, 26, 27, 28, 29],\n",
       "       [30, 31, 32, 33, 34, 35, 36, 37, 38, 39],\n",
       "       [40, 41, 42, 43, 44, 45, 46, 47, 48, 49],\n",
       "       [50, 51, 52, 53, 54, 55, 56, 57, 58, 59],\n",
       "       [60, 61, 62, 63, 64, 65, 66, 67, 68, 69],\n",
       "       [70, 71, 72, 73, 74, 75, 76, 77, 78, 79],\n",
       "       [80, 81, 82, 83, 84, 85, 86, 87, 88, 89]])"
      ]
     },
     "execution_count": 33,
     "metadata": {},
     "output_type": "execute_result"
    }
   ],
   "source": [
    "a[1:-1]"
   ]
  },
  {
   "cell_type": "code",
   "execution_count": 34,
   "metadata": {},
   "outputs": [
    {
     "data": {
      "text/plain": [
       "array([30, 31, 32, 33, 34, 35, 36, 37, 38, 39])"
      ]
     },
     "execution_count": 34,
     "metadata": {},
     "output_type": "execute_result"
    }
   ],
   "source": [
    "a[1:-1][2]"
   ]
  },
  {
   "cell_type": "code",
   "execution_count": 35,
   "metadata": {},
   "outputs": [
    {
     "data": {
      "text/plain": [
       "array([12, 22, 32, 42, 52, 62, 72, 82])"
      ]
     },
     "execution_count": 35,
     "metadata": {},
     "output_type": "execute_result"
    }
   ],
   "source": [
    "a[1:-1, 2]"
   ]
  },
  {
   "cell_type": "markdown",
   "metadata": {},
   "source": [
    "16. How to add a border (filled with 0's) around an existing array?"
   ]
  },
  {
   "cell_type": "code",
   "execution_count": 36,
   "metadata": {},
   "outputs": [
    {
     "data": {
      "text/plain": [
       "array([[0., 0., 0., 0., 0.],\n",
       "       [0., 1., 1., 1., 0.],\n",
       "       [0., 1., 1., 1., 0.],\n",
       "       [0., 1., 1., 1., 0.],\n",
       "       [0., 0., 0., 0., 0.]])"
      ]
     },
     "execution_count": 36,
     "metadata": {},
     "output_type": "execute_result"
    }
   ],
   "source": [
    "a = np.ones((3, 3))\n",
    "a = np.pad(a, pad_width=1)\n",
    "a"
   ]
  },
  {
   "cell_type": "markdown",
   "metadata": {},
   "source": [
    "17. What is the result of the following expression? \n",
    "\n",
    "```python\n",
    "print(0 * np.nan)\n",
    "print(np.nan == np.nan)\n",
    "print(np.inf > np.nan)\n",
    "print(np.nan - np.nan)\n",
    "print(np.nan in set([np.nan]))\n",
    "print(0.3 == 3 * 0.1)\n",
    "```"
   ]
  },
  {
   "cell_type": "code",
   "execution_count": 37,
   "metadata": {},
   "outputs": [
    {
     "data": {
      "text/plain": [
       "nan"
      ]
     },
     "execution_count": 37,
     "metadata": {},
     "output_type": "execute_result"
    }
   ],
   "source": [
    "0 * np.nan"
   ]
  },
  {
   "cell_type": "code",
   "execution_count": 38,
   "metadata": {},
   "outputs": [
    {
     "data": {
      "text/plain": [
       "False"
      ]
     },
     "execution_count": 38,
     "metadata": {},
     "output_type": "execute_result"
    }
   ],
   "source": [
    "np.nan == np.nan"
   ]
  },
  {
   "cell_type": "code",
   "execution_count": 39,
   "metadata": {},
   "outputs": [
    {
     "data": {
      "text/plain": [
       "False"
      ]
     },
     "execution_count": 39,
     "metadata": {},
     "output_type": "execute_result"
    }
   ],
   "source": [
    "np.inf > np.nan"
   ]
  },
  {
   "cell_type": "code",
   "execution_count": 40,
   "metadata": {},
   "outputs": [
    {
     "data": {
      "text/plain": [
       "nan"
      ]
     },
     "execution_count": 40,
     "metadata": {},
     "output_type": "execute_result"
    }
   ],
   "source": [
    "np.nan - np.nan"
   ]
  },
  {
   "cell_type": "code",
   "execution_count": 41,
   "metadata": {},
   "outputs": [
    {
     "data": {
      "text/plain": [
       "True"
      ]
     },
     "execution_count": 41,
     "metadata": {},
     "output_type": "execute_result"
    }
   ],
   "source": [
    "np.nan in set([np.nan])"
   ]
  },
  {
   "cell_type": "code",
   "execution_count": 42,
   "metadata": {},
   "outputs": [
    {
     "data": {
      "text/plain": [
       "False"
      ]
     },
     "execution_count": 42,
     "metadata": {},
     "output_type": "execute_result"
    }
   ],
   "source": [
    "0.3 == (3 * 0.1)"
   ]
  },
  {
   "cell_type": "code",
   "execution_count": 43,
   "metadata": {},
   "outputs": [],
   "source": [
    "x = 3 * 0.1"
   ]
  },
  {
   "cell_type": "code",
   "execution_count": 44,
   "metadata": {},
   "outputs": [
    {
     "data": {
      "text/plain": [
       "0.30000000000000004"
      ]
     },
     "execution_count": 44,
     "metadata": {},
     "output_type": "execute_result"
    }
   ],
   "source": [
    "x"
   ]
  },
  {
   "cell_type": "markdown",
   "metadata": {},
   "source": [
    "18. Create a $5 \\times 5$ matrix with values 1,2,3,4 just below the diagonal"
   ]
  },
  {
   "cell_type": "code",
   "execution_count": 45,
   "metadata": {},
   "outputs": [
    {
     "data": {
      "text/plain": [
       "array([[0, 0, 0, 0, 0],\n",
       "       [1, 0, 0, 0, 0],\n",
       "       [0, 2, 0, 0, 0],\n",
       "       [0, 0, 3, 0, 0],\n",
       "       [0, 0, 0, 4, 0]])"
      ]
     },
     "execution_count": 45,
     "metadata": {},
     "output_type": "execute_result"
    }
   ],
   "source": [
    "np.diag(np.arange(1, 5), -1)"
   ]
  },
  {
   "cell_type": "markdown",
   "metadata": {},
   "source": [
    "19. Create a $8 \\times 8$ matrix and fill it with a checkerboard pattern"
   ]
  },
  {
   "cell_type": "code",
   "execution_count": 46,
   "metadata": {},
   "outputs": [],
   "source": [
    "a = np.zeros((8, 8), dtype=np.int)"
   ]
  },
  {
   "cell_type": "code",
   "execution_count": 48,
   "metadata": {},
   "outputs": [],
   "source": [
    "a[1::2, ::2] = 1"
   ]
  },
  {
   "cell_type": "code",
   "execution_count": 49,
   "metadata": {},
   "outputs": [
    {
     "data": {
      "text/plain": [
       "array([[0, 0, 0, 0, 0, 0, 0, 0],\n",
       "       [1, 0, 1, 0, 1, 0, 1, 0],\n",
       "       [0, 0, 0, 0, 0, 0, 0, 0],\n",
       "       [1, 0, 1, 0, 1, 0, 1, 0],\n",
       "       [0, 0, 0, 0, 0, 0, 0, 0],\n",
       "       [1, 0, 1, 0, 1, 0, 1, 0],\n",
       "       [0, 0, 0, 0, 0, 0, 0, 0],\n",
       "       [1, 0, 1, 0, 1, 0, 1, 0]])"
      ]
     },
     "execution_count": 49,
     "metadata": {},
     "output_type": "execute_result"
    }
   ],
   "source": [
    "a"
   ]
  },
  {
   "cell_type": "code",
   "execution_count": 50,
   "metadata": {},
   "outputs": [],
   "source": [
    "a[::2, 1::2] = 1"
   ]
  },
  {
   "cell_type": "code",
   "execution_count": 51,
   "metadata": {},
   "outputs": [
    {
     "data": {
      "text/plain": [
       "array([[0, 1, 0, 1, 0, 1, 0, 1],\n",
       "       [1, 0, 1, 0, 1, 0, 1, 0],\n",
       "       [0, 1, 0, 1, 0, 1, 0, 1],\n",
       "       [1, 0, 1, 0, 1, 0, 1, 0],\n",
       "       [0, 1, 0, 1, 0, 1, 0, 1],\n",
       "       [1, 0, 1, 0, 1, 0, 1, 0],\n",
       "       [0, 1, 0, 1, 0, 1, 0, 1],\n",
       "       [1, 0, 1, 0, 1, 0, 1, 0]])"
      ]
     },
     "execution_count": 51,
     "metadata": {},
     "output_type": "execute_result"
    }
   ],
   "source": [
    "a"
   ]
  },
  {
   "cell_type": "markdown",
   "metadata": {},
   "source": [
    "20. Consider a (6,7,8) shape array, what is the index (x,y,z) of the 100th element?"
   ]
  },
  {
   "cell_type": "code",
   "execution_count": 53,
   "metadata": {},
   "outputs": [
    {
     "data": {
      "text/plain": [
       "(1, 5, 3)"
      ]
     },
     "execution_count": 53,
     "metadata": {},
     "output_type": "execute_result"
    }
   ],
   "source": [
    "np.unravel_index(99, (6, 7, 8))"
   ]
  },
  {
   "cell_type": "markdown",
   "metadata": {},
   "source": [
    "21. Create a checkerboard $8 \\times 8$ matrix using the tile function "
   ]
  },
  {
   "cell_type": "code",
   "execution_count": 56,
   "metadata": {},
   "outputs": [
    {
     "data": {
      "text/plain": [
       "array([[0, 1, 0, 1, 0, 1, 0, 1],\n",
       "       [1, 0, 1, 0, 1, 0, 1, 0],\n",
       "       [0, 1, 0, 1, 0, 1, 0, 1],\n",
       "       [1, 0, 1, 0, 1, 0, 1, 0],\n",
       "       [0, 1, 0, 1, 0, 1, 0, 1],\n",
       "       [1, 0, 1, 0, 1, 0, 1, 0],\n",
       "       [0, 1, 0, 1, 0, 1, 0, 1],\n",
       "       [1, 0, 1, 0, 1, 0, 1, 0]])"
      ]
     },
     "execution_count": 56,
     "metadata": {},
     "output_type": "execute_result"
    }
   ],
   "source": [
    "a = np.tile(np.array([[0, 1], [1, 0]]), (4, 4))\n",
    "a"
   ]
  },
  {
   "attachments": {
    "%E5%9B%BE%E7%89%87.png": {
     "image/png": "[encoded data removed]"
    }
   },
   "cell_type": "markdown",
   "metadata": {},
   "source": [
    "22. Normalize a $5 \\times 5$ random matrix\n",
    "\n",
    "\n",
    "以下资料摘自知乎：[https://www.zhihu.com/question/37069477/answer/132387124](https://www.zhihu.com/question/37069477/answer/132387124)\n",
    "\n",
    "### 矩阵的标准化\n",
    "\n",
    "矩阵标准化的目的是，通过标准化处理，得到均值为0，标准差为1的服从标准正态分布的数据。\n",
    "\n",
    "矩阵的标准化使用的公式为:${x}' = \\frac{x - \\mu }{\\sigma }$\n",
    "\n",
    "### 为什么要进行矩阵的标准化\n",
    "\n",
    "在一些实际问题中，我们得到的样本数据都是多个维度的，即一个样本是用多个特征来表征的。比如在预测房价的问题中，影响房价$y$的因素有房子面积$x_1$、卧室数量$x_2$等，我们得到的样本数据就是$(x_1, x_2, ..., x_n)$这些样本点，这里的$x_1, x_2,... , x_n$又被称为特征。很显然，这些特征的量纲和数值得量级都是不一样的，在预测房价时，如果直接使用原始的数据值，那么他们对房价的影响程度将是不一样的，**而通过标准化处理，可以使得不同的特征具有相同的尺度（Scale）**。这样，在使用梯度下降法学习参数的时候，不同特征对参数的影响程度就一样了。\n",
    "\n",
    "- 简言之，当原始数据不同维度上的特征的尺度（单位）不一致时，需要标准化步骤对数据进行预处理\n",
    "- 下图中以二维数据为例：左图表示的是原始数据；中间的是中心化后的数据，数据被移动大原点周围；右图将中心化后的数据除以标准差，得到为标准化的数据，可以看出每个维度上的尺度是一致的（红色线段的长度表示尺度）\n",
    "\n",
    "![%E5%9B%BE%E7%89%87.png](attachment:%E5%9B%BE%E7%89%87.png)\n",
    "\n",
    "在不同的问题中，中心化和标准化有着不同的意义\n",
    "\n",
    "- 在训练神经网络的过程中，通过将数据标准化，能够加速权重参数的收敛\n",
    "- 另外，对于主成分分析（PCA）问题，也需要对数据进行中心化和标准化等预处理步骤"
   ]
  },
  {
   "cell_type": "code",
   "execution_count": 73,
   "metadata": {},
   "outputs": [],
   "source": [
    "a = np.random.rand(5, 5)\n",
    "a = (a - np.mean(a)) / np.std(a)"
   ]
  },
  {
   "cell_type": "code",
   "execution_count": 74,
   "metadata": {},
   "outputs": [
    {
     "data": {
      "text/plain": [
       "array([[ 1.50643674, -0.66358791,  0.36422279, -0.92908162,  0.11137236],\n",
       "       [ 1.62811333, -0.9857123 , -1.26904728,  0.39543894,  0.11091102],\n",
       "       [-1.29706059, -0.94973881, -0.94026159,  0.91704301, -0.29657623],\n",
       "       [-0.57809083,  0.61237692,  1.14853668,  0.24016374, -1.22513639],\n",
       "       [-0.78789206, -1.18223102,  1.60511943,  0.86904179,  1.59563989]])"
      ]
     },
     "execution_count": 74,
     "metadata": {},
     "output_type": "execute_result"
    }
   ],
   "source": [
    "a"
   ]
  },
  {
   "cell_type": "code",
   "execution_count": 82,
   "metadata": {},
   "outputs": [
    {
     "data": {
      "image/png": "[encoded data removed]",
      "text/plain": [
       "<Figure size 432x288 with 1 Axes>"
      ]
     },
     "metadata": {
      "needs_background": "light"
     },
     "output_type": "display_data"
    },
    {
     "data": {
      "image/png": "[encoded data removed]",
      "text/plain": [
       "<Figure size 432x288 with 1 Axes>"
      ]
     },
     "metadata": {
      "needs_background": "light"
     },
     "output_type": "display_data"
    }
   ],
   "source": [
    "import matplotlib.pyplot as plt\n",
    "\n",
    "x = np.random.normal(90, 50, 200)\n",
    "plt.hist(x, bins=20, density=True)\n",
    "plt.show()\n",
    "x = (x - np.mean(x)) / np.std(x)\n",
    "plt.hist(x, bins=20, density=True, color='g')\n",
    "plt.show()"
   ]
  },
  {
   "cell_type": "markdown",
   "metadata": {},
   "source": [
    "23. Create a custom dtype that describes a color as four unsigned bytes (RGBA) "
   ]
  },
  {
   "cell_type": "code",
   "execution_count": 90,
   "metadata": {},
   "outputs": [
    {
     "data": {
      "text/plain": [
       "array([(1, 2, 3, 4), (5, 6, 7, 8)],\n",
       "      dtype=[('r', 'u1'), ('g', 'u1'), ('b', 'u1'), ('a', 'u1')])"
      ]
     },
     "execution_count": 90,
     "metadata": {},
     "output_type": "execute_result"
    }
   ],
   "source": [
    "color = np.dtype([('r', np.ubyte), ('g', np.ubyte), ('b', np.ubyte), ('a', np.ubyte)]) # np.ubyte is unsigned char(Platform-defined)\n",
    "a = np.array([(1, 2, 3, 4),(5, 6, 7, 8)], dtype=color)\n",
    "a"
   ]
  },
  {
   "cell_type": "markdown",
   "metadata": {},
   "source": [
    "24. Multiply a $5 \\times 3$ matrix by a $3 \\times 2$ matrix (real matrix product)"
   ]
  },
  {
   "cell_type": "code",
   "execution_count": 91,
   "metadata": {},
   "outputs": [
    {
     "data": {
      "text/plain": [
       "array([[-0.07278267, -0.14197937],\n",
       "       [ 0.17364853,  3.02024266],\n",
       "       [ 0.36401777,  0.17715857],\n",
       "       [-2.12726072, -4.12243967],\n",
       "       [ 0.31926865,  1.17366926]])"
      ]
     },
     "execution_count": 91,
     "metadata": {},
     "output_type": "execute_result"
    }
   ],
   "source": [
    "a = np.random.randn(5, 3)\n",
    "b = np.random.randn(3, 2)\n",
    "c = np.dot(a, b)\n",
    "c"
   ]
  },
  {
   "cell_type": "markdown",
   "metadata": {},
   "source": [
    "25. Given a 1D array, negate all elements which are between 3rd element (inclusive) and 8th element (exclusive)"
   ]
  },
  {
   "cell_type": "code",
   "execution_count": 94,
   "metadata": {},
   "outputs": [],
   "source": [
    "a = np.arange(10)\n",
    "a[np.arange(2, 7)] *= -1"
   ]
  },
  {
   "cell_type": "code",
   "execution_count": 95,
   "metadata": {},
   "outputs": [
    {
     "data": {
      "text/plain": [
       "array([ 0,  1, -2, -3, -4, -5, -6,  7,  8,  9])"
      ]
     },
     "execution_count": 95,
     "metadata": {},
     "output_type": "execute_result"
    }
   ],
   "source": [
    "a"
   ]
  },
  {
   "cell_type": "markdown",
   "metadata": {},
   "source": [
    "26. What is the output of the following script?\n",
    "\n",
    "```python\n",
    "print(sum(range(5),-1)) # 9\n",
    "\n",
    "\n",
    "from numpy import *\n",
    "print(sum(range(5),-1)) # 10\n",
    "```"
   ]
  },
  {
   "cell_type": "markdown",
   "metadata": {},
   "source": [
    "27. Consider an integer vector Z, which of these expressions are legal?\n",
    "\n",
    "```python\n",
    "Z**Z # true\n",
    "2 << Z >> 2  # true\n",
    "Z <- Z # true\n",
    "1j*Z # true\n",
    "Z/1/1 # true\n",
    "Z<Z>Z # false\n",
    "```"
   ]
  },
  {
   "cell_type": "markdown",
   "metadata": {},
   "source": [
    "28. What are the result of the following expressions?\n",
    "```python\n",
    "print(np.array(0) / np.array(0)) # nan, not a number\n",
    "print(np.array(0) // np.array(0)) # 0\n",
    "print(np.array([np.nan]).astype(int).astype(float)) # [-2.14748365e+09]\n",
    "```"
   ]
  },
  {
   "cell_type": "markdown",
   "metadata": {},
   "source": [
    "29. How to round away from zero a float array ? "
   ]
  },
  {
   "cell_type": "code",
   "execution_count": 101,
   "metadata": {},
   "outputs": [
    {
     "name": "stdout",
     "output_type": "stream",
     "text": [
      "[-1.66111815  0.16902516  0.63958102  0.97408365 -0.53839686 -0.32587295\n",
      " -0.77371178  0.53575323  0.32791973 -0.53818659]\n",
      "[-2.  0.  1.  1. -1. -0. -1.  1.  0. -1.]\n"
     ]
    }
   ],
   "source": [
    "a = np.random.randn(10)\n",
    "b = np.round(a)\n",
    "print(a)\n",
    "print(b)"
   ]
  },
  {
   "cell_type": "markdown",
   "metadata": {},
   "source": [
    "30. How to find common values between two arrays?"
   ]
  },
  {
   "cell_type": "code",
   "execution_count": 103,
   "metadata": {},
   "outputs": [
    {
     "name": "stdout",
     "output_type": "stream",
     "text": [
      "[0 2 9 3 1]\n",
      "[8 2 5 4 5]\n"
     ]
    },
    {
     "data": {
      "text/plain": [
       "array([2])"
      ]
     },
     "execution_count": 103,
     "metadata": {},
     "output_type": "execute_result"
    }
   ],
   "source": [
    "a = np.random.randint(0, 10, 5)\n",
    "b = np.random.randint(0, 10, 5)\n",
    "print(a, b, sep='\\n')\n",
    "np.intersect1d(a, b)"
   ]
  },
  {
   "cell_type": "markdown",
   "metadata": {},
   "source": [
    "31. How to ignore all numpy warnings (not recommended)?\n",
    "\n",
    "```python\n",
    "pass this question\n",
    "```"
   ]
  },
  {
   "cell_type": "markdown",
   "metadata": {},
   "source": [
    "32. Is the following expressions true?\n",
    "```python\n",
    "np.sqrt(-1) == np.emath.sqrt(-1) # false\n",
    "```"
   ]
  },
  {
   "cell_type": "code",
   "execution_count": 106,
   "metadata": {},
   "outputs": [
    {
     "data": {
      "text/plain": [
       "1j"
      ]
     },
     "execution_count": 106,
     "metadata": {},
     "output_type": "execute_result"
    }
   ],
   "source": [
    "np.emath.sqrt(-1)"
   ]
  },
  {
   "cell_type": "markdown",
   "metadata": {},
   "source": [
    "33. How to get the dates of yesterday, today and tomorrow?\n",
    "\n",
    "The most basic way to create datetimes is from strings in ISO 8601 date or datetime format. The unit for internal storage is automatically selected from the form of the string, and can be either a date unit or a time unit. The date units are years (‘Y’), months (‘M’), weeks (‘W’), and days (‘D’), while the time units are hours (‘h’), minutes (‘m’), seconds (‘s’), milliseconds (‘ms’), and some additional SI-prefix seconds-based units."
   ]
  },
  {
   "cell_type": "code",
   "execution_count": 107,
   "metadata": {},
   "outputs": [
    {
     "data": {
      "text/plain": [
       "numpy.datetime64('2020-03-02')"
      ]
     },
     "execution_count": 107,
     "metadata": {},
     "output_type": "execute_result"
    }
   ],
   "source": [
    "np.datetime64('today')"
   ]
  },
  {
   "cell_type": "code",
   "execution_count": 109,
   "metadata": {},
   "outputs": [
    {
     "data": {
      "text/plain": [
       "array(['2020-02-20', '2020-02-21', '2020-02-22', '2020-02-23',\n",
       "       '2020-02-24', '2020-02-25', '2020-02-26', '2020-02-27',\n",
       "       '2020-02-28', '2020-02-29', '2020-03-01', '2020-03-02'],\n",
       "      dtype='datetime64[D]')"
      ]
     },
     "execution_count": 109,
     "metadata": {},
     "output_type": "execute_result"
    }
   ],
   "source": [
    "np.arange('2020-02-20', '2020-03-03', dtype=np.datetime64)"
   ]
  },
  {
   "cell_type": "code",
   "execution_count": 110,
   "metadata": {},
   "outputs": [
    {
     "data": {
      "text/plain": [
       "numpy.timedelta64(365,'D')"
      ]
     },
     "execution_count": 110,
     "metadata": {},
     "output_type": "execute_result"
    }
   ],
   "source": [
    "np.datetime64('2020-12-31') - np.datetime64('2020-01-01')"
   ]
  },
  {
   "cell_type": "code",
   "execution_count": 113,
   "metadata": {},
   "outputs": [
    {
     "data": {
      "text/plain": [
       "numpy.datetime64('2020-03-03')"
      ]
     },
     "execution_count": 113,
     "metadata": {},
     "output_type": "execute_result"
    }
   ],
   "source": [
    "np.datetime64('2020-02-02') + np.timedelta64(30)"
   ]
  },
  {
   "cell_type": "code",
   "execution_count": 116,
   "metadata": {},
   "outputs": [],
   "source": [
    "a = np.datetime64('today') - np.timedelta64(1, 'D')\n",
    "b = np.datetime64('today')\n",
    "c = np.datetime64('today') + np.timedelta64(1, 'D')"
   ]
  },
  {
   "cell_type": "code",
   "execution_count": 117,
   "metadata": {},
   "outputs": [
    {
     "data": {
      "text/plain": [
       "(numpy.datetime64('2020-03-01'),\n",
       " numpy.datetime64('2020-03-02'),\n",
       " numpy.datetime64('2020-03-03'))"
      ]
     },
     "execution_count": 117,
     "metadata": {},
     "output_type": "execute_result"
    }
   ],
   "source": [
    "a, b, c"
   ]
  },
  {
   "cell_type": "markdown",
   "metadata": {},
   "source": [
    "34. How to get all the dates corresponding to the month of July 2016?"
   ]
  },
  {
   "cell_type": "code",
   "execution_count": 118,
   "metadata": {},
   "outputs": [
    {
     "data": {
      "text/plain": [
       "array(['2016-07-01', '2016-07-02', '2016-07-03', '2016-07-04',\n",
       "       '2016-07-05', '2016-07-06', '2016-07-07', '2016-07-08',\n",
       "       '2016-07-09', '2016-07-10', '2016-07-11', '2016-07-12',\n",
       "       '2016-07-13', '2016-07-14', '2016-07-15', '2016-07-16',\n",
       "       '2016-07-17', '2016-07-18', '2016-07-19', '2016-07-20',\n",
       "       '2016-07-21', '2016-07-22', '2016-07-23', '2016-07-24',\n",
       "       '2016-07-25', '2016-07-26', '2016-07-27', '2016-07-28',\n",
       "       '2016-07-29', '2016-07-30', '2016-07-31'], dtype='datetime64[D]')"
      ]
     },
     "execution_count": 118,
     "metadata": {},
     "output_type": "execute_result"
    }
   ],
   "source": [
    "np.arange('2016-07-01', '2016-08-01', dtype=np.datetime64)"
   ]
  },
  {
   "cell_type": "markdown",
   "metadata": {},
   "source": [
    "35. How to compute $((A+B) \\times (-A/2))$ in place ~~(without copy)~~? \n",
    "\n",
    "\n",
    "```python\n",
    "np.divide(a, 2, out=a) # TypeError: No loop matching the specified signature and casting was found for ufunc true_divide\n",
    "\n",
    "```\n",
    "\n",
    "**maybe some thing wrong with this numpy version**"
   ]
  },
  {
   "cell_type": "code",
   "execution_count": 133,
   "metadata": {},
   "outputs": [],
   "source": [
    "a = np.arange(1, 10)\n",
    "b = np.arange(11, 20)"
   ]
  },
  {
   "cell_type": "code",
   "execution_count": 135,
   "metadata": {},
   "outputs": [
    {
     "name": "stdout",
     "output_type": "stream",
     "text": [
      "[12 14 16 18 20 22 24 26 28]\n",
      "[-0.5 -1.  -1.5 -2.  -2.5 -3.  -3.5 -4.  -4.5]\n"
     ]
    },
    {
     "data": {
      "text/plain": [
       "array([  -6.,  -14.,  -24.,  -36.,  -50.,  -66.,  -84., -104., -126.])"
      ]
     },
     "execution_count": 135,
     "metadata": {},
     "output_type": "execute_result"
    }
   ],
   "source": [
    "tmp1 = np.add(a, b)\n",
    "tmp2 = np.divide(-a, 2)\n",
    "print(tmp1, tmp2, sep='\\n')\n",
    "ans = np.multiply(tmp1, tmp2)\n",
    "ans"
   ]
  },
  {
   "cell_type": "markdown",
   "metadata": {},
   "source": [
    "36. Extract the integer part of a random array using 5 different methods"
   ]
  },
  {
   "cell_type": "code",
   "execution_count": 136,
   "metadata": {},
   "outputs": [
    {
     "data": {
      "text/plain": [
       "array([[ 0.24794216, -0.50992031,  0.2389261 ],\n",
       "       [ 0.80555179, -0.97464044, -1.18506983],\n",
       "       [ 0.33632391, -0.87789976,  0.6799485 ]])"
      ]
     },
     "execution_count": 136,
     "metadata": {},
     "output_type": "execute_result"
    }
   ],
   "source": [
    "a = np.random.randn(3, 3)\n",
    "a"
   ]
  },
  {
   "cell_type": "code",
   "execution_count": 137,
   "metadata": {},
   "outputs": [
    {
     "data": {
      "text/plain": [
       "array([[ 0., -1.,  0.],\n",
       "       [ 0., -1., -2.],\n",
       "       [ 0., -1.,  0.]])"
      ]
     },
     "execution_count": 137,
     "metadata": {},
     "output_type": "execute_result"
    }
   ],
   "source": [
    "a - a % 1"
   ]
  },
  {
   "cell_type": "code",
   "execution_count": 138,
   "metadata": {},
   "outputs": [
    {
     "data": {
      "text/plain": [
       "array([[ 0., -1.,  0.],\n",
       "       [ 0., -1., -2.],\n",
       "       [ 0., -1.,  0.]])"
      ]
     },
     "execution_count": 138,
     "metadata": {},
     "output_type": "execute_result"
    }
   ],
   "source": [
    "np.floor(a)"
   ]
  },
  {
   "cell_type": "code",
   "execution_count": 139,
   "metadata": {},
   "outputs": [
    {
     "data": {
      "text/plain": [
       "array([[ 0., -1.,  0.],\n",
       "       [ 0., -1., -2.],\n",
       "       [ 0., -1.,  0.]])"
      ]
     },
     "execution_count": 139,
     "metadata": {},
     "output_type": "execute_result"
    }
   ],
   "source": [
    "np.ceil(a) - 1"
   ]
  },
  {
   "cell_type": "code",
   "execution_count": 141,
   "metadata": {},
   "outputs": [
    {
     "data": {
      "text/plain": [
       "array([[ 0,  0,  0],\n",
       "       [ 0,  0, -1],\n",
       "       [ 0,  0,  0]])"
      ]
     },
     "execution_count": 141,
     "metadata": {},
     "output_type": "execute_result"
    }
   ],
   "source": [
    "a.astype(np.int) # real integer part"
   ]
  },
  {
   "cell_type": "code",
   "execution_count": 143,
   "metadata": {},
   "outputs": [
    {
     "data": {
      "text/plain": [
       "array([[ 0., -0.,  0.],\n",
       "       [ 0., -0., -1.],\n",
       "       [ 0., -0.,  0.]])"
      ]
     },
     "execution_count": 143,
     "metadata": {},
     "output_type": "execute_result"
    }
   ],
   "source": [
    "np.trunc(a)"
   ]
  },
  {
   "cell_type": "markdown",
   "metadata": {},
   "source": [
    "37. Create a $5 \\times 5$ matrix with row values ranging from 0 to 4"
   ]
  },
  {
   "cell_type": "code",
   "execution_count": 144,
   "metadata": {},
   "outputs": [
    {
     "data": {
      "text/plain": [
       "array([[0., 1., 2., 3., 4.],\n",
       "       [0., 1., 2., 3., 4.],\n",
       "       [0., 1., 2., 3., 4.],\n",
       "       [0., 1., 2., 3., 4.],\n",
       "       [0., 1., 2., 3., 4.]])"
      ]
     },
     "execution_count": 144,
     "metadata": {},
     "output_type": "execute_result"
    }
   ],
   "source": [
    "a = np.zeros((5, 5))\n",
    "a[:, :] = np.arange(5)\n",
    "a"
   ]
  },
  {
   "cell_type": "markdown",
   "metadata": {},
   "source": [
    "38. Consider a generator function that generates 10 integers and use it to build an array"
   ]
  },
  {
   "cell_type": "code",
   "execution_count": 148,
   "metadata": {},
   "outputs": [],
   "source": [
    "def fun(number):\n",
    "    \"\"\"\n",
    "    return a iterator\n",
    "    \"\"\"\n",
    "    for i in range(number):\n",
    "        yield i\n",
    "\n",
    "a = np.fromiter(fun(10), dtype=np.int64)"
   ]
  },
  {
   "cell_type": "code",
   "execution_count": 149,
   "metadata": {},
   "outputs": [
    {
     "data": {
      "text/plain": [
       "array([0, 1, 2, 3, 4, 5, 6, 7, 8, 9], dtype=int64)"
      ]
     },
     "execution_count": 149,
     "metadata": {},
     "output_type": "execute_result"
    }
   ],
   "source": [
    "a"
   ]
  },
  {
   "cell_type": "markdown",
   "metadata": {},
   "source": [
    "39. Create a vector of size 10 with values ranging from 0 to 1, both excluded "
   ]
  },
  {
   "cell_type": "code",
   "execution_count": 151,
   "metadata": {},
   "outputs": [
    {
     "data": {
      "text/plain": [
       "array([ 1.,  2.,  3.,  4.,  5.,  6.,  7.,  8.,  9., 10.])"
      ]
     },
     "execution_count": 151,
     "metadata": {},
     "output_type": "execute_result"
    }
   ],
   "source": [
    "a = np.linspace(0, 10, 11)[1:]\n",
    "a"
   ]
  },
  {
   "cell_type": "markdown",
   "metadata": {},
   "source": [
    "40. Create a random vector of size 10 and sort it "
   ]
  },
  {
   "cell_type": "code",
   "execution_count": 152,
   "metadata": {},
   "outputs": [
    {
     "data": {
      "text/plain": [
       "array([-0.49023099, -0.46796075, -0.3617602 , -0.24642228,  0.03037017,\n",
       "        0.14709237,  0.60815385,  0.64910862,  0.71263019,  2.22259233])"
      ]
     },
     "execution_count": 152,
     "metadata": {},
     "output_type": "execute_result"
    }
   ],
   "source": [
    "a = np.random.randn(10)\n",
    "a = np.sort(a)\n",
    "a"
   ]
  },
  {
   "cell_type": "markdown",
   "metadata": {},
   "source": [
    "41. How to sum a small array faster than np.sum?\n",
    "\n",
    "When the argument is a numpy array, `np.sum` ultimately calls `add.reduce` to do the work. The overhead of handling its argument and dispatching to `add.reduce` is why `np.sum` is slower."
   ]
  },
  {
   "cell_type": "code",
   "execution_count": 153,
   "metadata": {},
   "outputs": [
    {
     "data": {
      "text/plain": [
       "45"
      ]
     },
     "execution_count": 153,
     "metadata": {},
     "output_type": "execute_result"
    }
   ],
   "source": [
    "a = np.arange(10)\n",
    "np.add.reduce(a)"
   ]
  },
  {
   "cell_type": "markdown",
   "metadata": {},
   "source": [
    "42. Consider two random array A and B, check if they are equal"
   ]
  },
  {
   "cell_type": "code",
   "execution_count": 154,
   "metadata": {},
   "outputs": [],
   "source": [
    "a = np.random.randn(3, 3)\n",
    "b = np.random.randn(3, 3)"
   ]
  },
  {
   "cell_type": "code",
   "execution_count": 155,
   "metadata": {},
   "outputs": [
    {
     "data": {
      "text/plain": [
       "False"
      ]
     },
     "execution_count": 155,
     "metadata": {},
     "output_type": "execute_result"
    }
   ],
   "source": [
    "np.allclose(a, b)"
   ]
  },
  {
   "cell_type": "code",
   "execution_count": 156,
   "metadata": {},
   "outputs": [
    {
     "data": {
      "text/plain": [
       "False"
      ]
     },
     "execution_count": 156,
     "metadata": {},
     "output_type": "execute_result"
    }
   ],
   "source": [
    "np.array_equal(a, b)"
   ]
  },
  {
   "cell_type": "markdown",
   "metadata": {},
   "source": [
    "43. Make an array immutable (read-only) "
   ]
  },
  {
   "cell_type": "code",
   "execution_count": 158,
   "metadata": {},
   "outputs": [],
   "source": [
    "a = np.array([1, 2, 3])\n",
    "a.flags.writeable = False"
   ]
  },
  {
   "cell_type": "markdown",
   "metadata": {},
   "source": [
    "```python\n",
    "a[0] = 1 #ValueError: assignment destination is read-only\n",
    "```"
   ]
  },
  {
   "cell_type": "markdown",
   "metadata": {},
   "source": [
    "44. Consider a random $10 \\times 2$ matrix representing cartesian coordinates, convert them to polar coordinates "
   ]
  },
  {
   "cell_type": "code",
   "execution_count": 160,
   "metadata": {},
   "outputs": [],
   "source": [
    "a = np.random.randn(10, 2)"
   ]
  },
  {
   "cell_type": "code",
   "execution_count": 161,
   "metadata": {},
   "outputs": [],
   "source": [
    "x, y = a[:, 0], a[:, 1]"
   ]
  },
  {
   "cell_type": "code",
   "execution_count": 162,
   "metadata": {},
   "outputs": [
    {
     "data": {
      "text/plain": [
       "array([-1.19696101,  1.08312579, -0.19303779, -0.46301662, -1.28425522,\n",
       "       -1.36159092, -1.38722783,  0.30679527, -0.77827331,  0.75855391])"
      ]
     },
     "execution_count": 162,
     "metadata": {},
     "output_type": "execute_result"
    }
   ],
   "source": [
    "x"
   ]
  },
  {
   "cell_type": "code",
   "execution_count": 163,
   "metadata": {},
   "outputs": [
    {
     "data": {
      "text/plain": [
       "array([ 1.44957653, -0.87746818, -1.39704571,  0.8433756 ,  0.11841807,\n",
       "       -0.14295079,  0.16203039,  0.70701725,  2.31088755, -0.88407489])"
      ]
     },
     "execution_count": 163,
     "metadata": {},
     "output_type": "execute_result"
    }
   ],
   "source": [
    "y"
   ]
  },
  {
   "cell_type": "code",
   "execution_count": 164,
   "metadata": {},
   "outputs": [
    {
     "data": {
      "text/plain": [
       "array([[-1.19696101,  1.44957653],\n",
       "       [ 1.08312579, -0.87746818],\n",
       "       [-0.19303779, -1.39704571],\n",
       "       [-0.46301662,  0.8433756 ],\n",
       "       [-1.28425522,  0.11841807],\n",
       "       [-1.36159092, -0.14295079],\n",
       "       [-1.38722783,  0.16203039],\n",
       "       [ 0.30679527,  0.70701725],\n",
       "       [-0.77827331,  2.31088755],\n",
       "       [ 0.75855391, -0.88407489]])"
      ]
     },
     "execution_count": 164,
     "metadata": {},
     "output_type": "execute_result"
    }
   ],
   "source": [
    "a"
   ]
  },
  {
   "cell_type": "code",
   "execution_count": 165,
   "metadata": {},
   "outputs": [],
   "source": [
    "r = np.sqrt(x**2 + y**2)"
   ]
  },
  {
   "cell_type": "code",
   "execution_count": 166,
   "metadata": {},
   "outputs": [],
   "source": [
    "angle = np.arctan2(y, x)"
   ]
  },
  {
   "cell_type": "code",
   "execution_count": 167,
   "metadata": {},
   "outputs": [
    {
     "data": {
      "text/plain": [
       "(array([1.87989036, 1.39395548, 1.41031922, 0.96211579, 1.28970319,\n",
       "        1.36907441, 1.39665848, 0.77071183, 2.4384238 , 1.16490019]),\n",
       " array([ 2.26103147, -0.68088481, -1.70810261,  2.07287457,  3.04964507,\n",
       "        -3.03698781,  3.02531794,  1.16138713,  1.89565056, -0.86166464]))"
      ]
     },
     "execution_count": 167,
     "metadata": {},
     "output_type": "execute_result"
    }
   ],
   "source": [
    "r, angle"
   ]
  },
  {
   "cell_type": "markdown",
   "metadata": {},
   "source": [
    "45. Create random vector of size 10 and replace the maximum value by 0"
   ]
  },
  {
   "cell_type": "code",
   "execution_count": 168,
   "metadata": {},
   "outputs": [],
   "source": [
    "a = np.random.randn(10)\n",
    "idx = np.argmax(a)"
   ]
  },
  {
   "cell_type": "code",
   "execution_count": 170,
   "metadata": {},
   "outputs": [
    {
     "data": {
      "text/plain": [
       "(array([ 2.11624155,  0.10379525,  0.14441119, -1.72477788,  0.44371955,\n",
       "        -1.06322561, -0.7576234 , -0.16865745,  0.20168969, -0.97418986]),\n",
       " 0)"
      ]
     },
     "execution_count": 170,
     "metadata": {},
     "output_type": "execute_result"
    }
   ],
   "source": [
    "a, idx"
   ]
  },
  {
   "cell_type": "code",
   "execution_count": 171,
   "metadata": {},
   "outputs": [],
   "source": [
    "a[idx] = 0"
   ]
  },
  {
   "cell_type": "code",
   "execution_count": 172,
   "metadata": {},
   "outputs": [
    {
     "data": {
      "text/plain": [
       "array([ 0.        ,  0.10379525,  0.14441119, -1.72477788,  0.44371955,\n",
       "       -1.06322561, -0.7576234 , -0.16865745,  0.20168969, -0.97418986])"
      ]
     },
     "execution_count": 172,
     "metadata": {},
     "output_type": "execute_result"
    }
   ],
   "source": [
    "a"
   ]
  },
  {
   "cell_type": "markdown",
   "metadata": {},
   "source": [
    "46. Create a structured array with x and y coordinates covering the $[0,1] \\times [0,1]$ area"
   ]
  },
  {
   "cell_type": "code",
   "execution_count": 179,
   "metadata": {},
   "outputs": [
    {
     "data": {
      "text/plain": [
       "[array([[0.  , 0.25, 0.5 , 0.75, 1.  ],\n",
       "        [0.  , 0.25, 0.5 , 0.75, 1.  ],\n",
       "        [0.  , 0.25, 0.5 , 0.75, 1.  ],\n",
       "        [0.  , 0.25, 0.5 , 0.75, 1.  ],\n",
       "        [0.  , 0.25, 0.5 , 0.75, 1.  ]]),\n",
       " array([[0.  , 0.  , 0.  , 0.  , 0.  ],\n",
       "        [0.25, 0.25, 0.25, 0.25, 0.25],\n",
       "        [0.5 , 0.5 , 0.5 , 0.5 , 0.5 ],\n",
       "        [0.75, 0.75, 0.75, 0.75, 0.75],\n",
       "        [1.  , 1.  , 1.  , 1.  , 1.  ]])]"
      ]
     },
     "execution_count": 179,
     "metadata": {},
     "output_type": "execute_result"
    }
   ],
   "source": [
    "a = np.meshgrid(np.linspace(0, 1, 5), np.linspace(0, 1, 5))\n",
    "a"
   ]
  },
  {
   "cell_type": "code",
   "execution_count": 180,
   "metadata": {},
   "outputs": [],
   "source": [
    "new_type = np.dtype([('x', np.float64), ('y', np.float64)])\n",
    "a = np.zeros((5, 5), dtype=new_type)"
   ]
  },
  {
   "cell_type": "code",
   "execution_count": 181,
   "metadata": {},
   "outputs": [
    {
     "data": {
      "text/plain": [
       "array([[(0., 0.), (0., 0.), (0., 0.), (0., 0.), (0., 0.)],\n",
       "       [(0., 0.), (0., 0.), (0., 0.), (0., 0.), (0., 0.)],\n",
       "       [(0., 0.), (0., 0.), (0., 0.), (0., 0.), (0., 0.)],\n",
       "       [(0., 0.), (0., 0.), (0., 0.), (0., 0.), (0., 0.)],\n",
       "       [(0., 0.), (0., 0.), (0., 0.), (0., 0.), (0., 0.)]],\n",
       "      dtype=[('x', '<f8'), ('y', '<f8')])"
      ]
     },
     "execution_count": 181,
     "metadata": {},
     "output_type": "execute_result"
    }
   ],
   "source": [
    "a"
   ]
  },
  {
   "cell_type": "code",
   "execution_count": 183,
   "metadata": {},
   "outputs": [],
   "source": [
    "a['x'], a['y'] = np.meshgrid(np.linspace(0, 1, 5), np.linspace(0, 1, 5))"
   ]
  },
  {
   "cell_type": "code",
   "execution_count": 184,
   "metadata": {},
   "outputs": [
    {
     "data": {
      "text/plain": [
       "array([[(0.  , 0.  ), (0.25, 0.  ), (0.5 , 0.  ), (0.75, 0.  ),\n",
       "        (1.  , 0.  )],\n",
       "       [(0.  , 0.25), (0.25, 0.25), (0.5 , 0.25), (0.75, 0.25),\n",
       "        (1.  , 0.25)],\n",
       "       [(0.  , 0.5 ), (0.25, 0.5 ), (0.5 , 0.5 ), (0.75, 0.5 ),\n",
       "        (1.  , 0.5 )],\n",
       "       [(0.  , 0.75), (0.25, 0.75), (0.5 , 0.75), (0.75, 0.75),\n",
       "        (1.  , 0.75)],\n",
       "       [(0.  , 1.  ), (0.25, 1.  ), (0.5 , 1.  ), (0.75, 1.  ),\n",
       "        (1.  , 1.  )]], dtype=[('x', '<f8'), ('y', '<f8')])"
      ]
     },
     "execution_count": 184,
     "metadata": {},
     "output_type": "execute_result"
    }
   ],
   "source": [
    "a"
   ]
  },
  {
   "cell_type": "markdown",
   "metadata": {},
   "source": [
    "47. Given two arrays, X and Y, construct the Cauchy matrix $C (C_{ij} = 1 / (x_i - y_j))$"
   ]
  },
  {
   "cell_type": "code",
   "execution_count": 186,
   "metadata": {},
   "outputs": [],
   "source": [
    "x = np.random.randn(3)\n",
    "y = np.random.randn(4)\n",
    "c = 1.0 / np.subtract.outer(x, y)"
   ]
  },
  {
   "cell_type": "code",
   "execution_count": 187,
   "metadata": {},
   "outputs": [
    {
     "data": {
      "text/plain": [
       "array([[ 2.64223234, -2.45296282,  2.81641176,  2.03988708],\n",
       "       [-1.26975105, -0.63544752, -1.23310327, -1.47972644],\n",
       "       [-1.51331458, -0.69111402, -1.46154541, -1.82134176]])"
      ]
     },
     "execution_count": 187,
     "metadata": {},
     "output_type": "execute_result"
    }
   ],
   "source": [
    "c"
   ]
  },
  {
   "cell_type": "markdown",
   "metadata": {},
   "source": [
    "48. Print the minimum and maximum representable value for each numpy scalar type"
   ]
  },
  {
   "cell_type": "code",
   "execution_count": 192,
   "metadata": {},
   "outputs": [
    {
     "name": "stdout",
     "output_type": "stream",
     "text": [
      "type name: <class 'numpy.int64'>, minimun: -9223372036854775808, maximun: 9223372036854775807\n",
      "type name: <class 'numpy.int8'>, minimun: -128, maximun: 127\n",
      "type name: <class 'numpy.int16'>, minimun: -32768, maximun: 32767\n",
      "type name: <class 'numpy.int32'>, minimun: -2147483648, maximun: 2147483647\n",
      "type name: <class 'numpy.int64'>, minimun: -9223372036854775808, maximun: 9223372036854775807\n"
     ]
    }
   ],
   "source": [
    "for t in [np.int0, np.int8, np.int16, np.int32,  np.int64]:\n",
    "    print('type name: {0}, minimun: {1}, maximun: {2}'.format(t, np.iinfo(t).min, np.iinfo(t).max))"
   ]
  },
  {
   "cell_type": "code",
   "execution_count": 193,
   "metadata": {},
   "outputs": [
    {
     "name": "stdout",
     "output_type": "stream",
     "text": [
      "type name: <class 'numpy.float16'>, minimun: -65504.0, maximun: 65504.0\n",
      "type name: <class 'numpy.float32'>, minimun: -3.4028234663852886e+38, maximun: 3.4028234663852886e+38\n",
      "type name: <class 'numpy.float64'>, minimun: -1.7976931348623157e+308, maximun: 1.7976931348623157e+308\n"
     ]
    }
   ],
   "source": [
    "for t in [np.float16, np.float32, np.float64]:\n",
    "    print('type name: {0}, minimun: {1}, maximun: {2}'.format(t, np.finfo(t).min, np.finfo(t).max))"
   ]
  },
  {
   "cell_type": "markdown",
   "metadata": {},
   "source": [
    "49. How to print all the values of an array (without summarization)?"
   ]
  },
  {
   "cell_type": "code",
   "execution_count": 195,
   "metadata": {},
   "outputs": [
    {
     "name": "stdout",
     "output_type": "stream",
     "text": [
      "[[-1.16752577e+00  1.26474763e+00  3.00889198e-01 -6.84512762e-01\n",
      "  -1.39914048e+00 -6.05791793e-01  5.83307242e-01 -1.31277339e+00\n",
      "   2.46667246e+00  1.72048907e+00  5.84001696e-01 -8.46004454e-01\n",
      "   6.68084960e-01 -3.95472606e-01  1.07543671e+00 -6.17672910e-01\n",
      "  -2.97498157e+00 -1.04422282e+00 -1.13196369e-01  7.83551283e-01\n",
      "   1.05061097e+00  1.62575453e+00  1.24323202e+00  1.42336591e-01\n",
      "  -1.93970353e-01  6.68976680e-01 -1.73781335e+00  6.17079294e-01\n",
      "  -5.82198225e-01  6.87453216e-02  5.27118946e-01 -4.61176977e-01\n",
      "  -9.31850696e-01 -5.67745086e-01  2.09624415e-01  1.07658763e+00\n",
      "   1.92134326e-01  1.81628990e+00  3.63076240e-01  2.93005385e-01\n",
      "  -9.47437933e-02 -1.75518793e+00 -1.14220223e+00  1.07007671e+00\n",
      "  -8.50861482e-01  1.79757084e+00  1.50283254e+00  7.83519709e-02\n",
      "  -1.45342261e+00  2.18391836e+00 -3.18358553e-01  1.03643039e+00\n",
      "   1.95471610e-01  1.39114817e+00 -1.35148404e+00 -7.49503150e-02\n",
      "  -2.35274696e+00  2.03431460e+00 -7.25432606e-02  2.90414905e-01\n",
      "  -4.74312324e-01  2.39946056e-01  4.75129209e-01 -5.92531283e-01\n",
      "   5.76698644e-01 -4.13881178e-01 -1.17011059e-01 -3.15517390e-01\n",
      "  -5.42998818e-01  1.95686997e-01  4.48137984e-01 -6.81594676e-01\n",
      "  -3.52778957e-01  1.15877594e+00 -2.57280705e-01  1.09894580e+00\n",
      "   1.14026778e+00  8.85557657e-01  5.39372263e-01 -1.51436717e+00\n",
      "  -1.90596647e+00 -8.27667378e-01  1.73633914e+00  1.63562181e+00\n",
      "  -5.55034554e-01  2.77546618e-01 -4.56202174e-01  1.10393684e-01\n",
      "   7.45288991e-01  3.39797853e-01  4.96201501e-01 -5.64484660e-01\n",
      "   5.18308056e-01  5.28040923e-01  1.23628242e+00 -9.57179054e-01\n",
      "  -8.92015861e-02  8.75275131e-01 -1.15935630e+00 -1.30174193e+00]\n",
      " [ 1.80756322e-01  4.25370658e-01 -2.25898633e-01 -1.44242235e-01\n",
      "   1.01166821e+00  1.78141129e-01  6.32869892e-01  1.18444922e+00\n",
      "   9.21079426e-01 -6.72744422e-01  8.61818542e-01 -6.65541990e-01\n",
      "   2.77609477e+00  7.87463921e-01  2.05662837e+00  4.44988176e-01\n",
      "   3.55873234e-01  3.94256464e-01  1.30416708e+00  1.64621986e+00\n",
      "  -5.29828871e-01  1.83516722e+00 -5.70539837e-01  1.23428515e+00\n",
      "   1.13564418e+00  5.10096706e-01  1.64996859e+00 -2.02945162e-01\n",
      "  -7.08643593e-01 -1.07589403e-01  4.49649141e-01 -1.66660169e-01\n",
      "  -3.86756807e-01 -1.49627461e-01  1.15782869e+00 -2.57284684e+00\n",
      "   3.98936437e-01 -2.04772081e+00 -1.03772785e+00 -1.83514206e+00\n",
      "   9.70229536e-01 -2.49724493e-01 -1.38117613e-01 -2.36240276e+00\n",
      "   1.24578391e-01 -6.94362588e-01 -1.43600953e+00  1.02527370e-02\n",
      "   5.78668567e-02  2.70540769e-01 -8.02816256e-01  6.20185053e-02\n",
      "  -2.41729757e+00  1.01627127e+00 -6.68386306e-01  1.44796795e+00\n",
      "  -1.26550521e+00  1.48419353e+00  3.23645038e-01 -1.96660781e+00\n",
      "  -7.86907432e-01  7.69898393e-01 -2.21188531e+00  1.05016389e+00\n",
      "  -5.40727432e-01 -3.43118641e-01  1.17913679e+00 -8.21299291e-01\n",
      "  -1.43537627e+00  2.52330863e-03 -1.06231005e+00  2.18832131e-01\n",
      "   2.22592285e+00 -9.58511343e-01  1.53437342e+00 -4.62701861e-01\n",
      "   5.38469048e-01  6.43830191e-01 -8.47948330e-01  1.75049320e+00\n",
      "  -1.48736840e-01  3.81654581e-01  7.31915022e-01 -5.62645315e-01\n",
      "   5.58507046e-02 -6.90813389e-01 -6.26255797e-01 -3.56071311e-01\n",
      "   1.25018195e+00 -8.93059191e-01  2.05984531e-02  3.38343419e-01\n",
      "   4.13706134e-01  8.92952505e-01 -1.83526702e+00  7.43731785e-01\n",
      "   1.13705395e-01 -8.01404231e-01  7.51518035e-03 -3.16339988e-01]\n",
      " [-5.87901820e-01  9.94729541e-01  1.29202154e+00 -4.29567542e-01\n",
      "  -1.03748131e+00  4.51321737e-02  2.14955366e-01 -6.79335249e-02\n",
      "  -1.22871953e+00  1.15995447e+00  6.11448104e-01 -1.75691749e+00\n",
      "   6.87539939e-01  1.06334636e+00 -4.31633125e-01 -4.76581838e-01\n",
      "   4.63100829e-01  1.51098786e+00  3.97855877e-01  1.22475253e+00\n",
      "   4.12572227e-01  5.88354807e-01  4.14883471e-01  7.65448212e-01\n",
      "   1.61332441e-02  2.70676116e+00  1.79255636e+00  3.09128783e+00\n",
      "  -1.40571744e+00  2.39593226e-01  2.48178772e+00  1.71439114e+00\n",
      "   8.69634608e-01  8.17910149e-01  4.10691519e-01 -1.26272646e+00\n",
      "  -1.30749383e+00  5.61009932e-01 -4.37419114e-01 -6.08918150e-01\n",
      "  -6.81379010e-01 -8.04334307e-01  9.09583730e-01  4.54458577e-01\n",
      "  -4.31120370e-01  7.74163110e-01 -3.44689036e-01  6.99428706e-02\n",
      "   1.16198653e+00 -4.70205574e-01 -1.01534401e-01  1.24625298e+00\n",
      "  -4.01012641e-02  2.16615703e-02  1.08848768e+00  7.27889397e-01\n",
      "   9.77168198e-02 -1.86324034e+00  7.76178323e-01  1.76118668e-01\n",
      "  -4.46171315e-01 -1.00373386e+00  1.25815447e+00  1.05229502e+00\n",
      "   4.59242584e-01  4.15601835e-01 -9.54086066e-01 -1.75291997e+00\n",
      "  -4.08410051e-01 -1.29444398e+00  5.19901126e-01  1.04749896e+00\n",
      "   2.19559373e-01  4.84886447e-01 -2.04537704e+00  7.37733094e-01\n",
      "   1.87171633e-01 -6.48678525e-01  1.93909980e-02  9.54835962e-02\n",
      "   7.04306599e-01  3.75752623e-01  1.61908579e-01  8.25188684e-01\n",
      "   1.11231717e+00 -6.83965217e-01  7.03044287e-01  1.40844771e+00\n",
      "  -1.87864991e+00 -3.56941108e-01 -3.37007594e-01 -1.28326291e+00\n",
      "  -2.51621171e+00  3.80273491e-01 -8.75382278e-01  2.22117326e-01\n",
      "  -7.28051304e-01  4.76503616e-01  1.20275646e+00  6.41674634e-01]\n",
      " [-1.52500651e-01 -7.83369255e-01  2.34594824e+00 -7.38600421e-01\n",
      "  -1.11939574e+00  9.18065521e-01 -3.26941706e+00  5.25573211e-01\n",
      "   4.29376546e-01  8.85633385e-01  7.25227578e-01  6.14222177e-01\n",
      "  -1.77626715e+00 -1.63528553e-01  8.33406063e-01  1.03815227e+00\n",
      "   1.29044772e+00  6.39627643e-01  1.01458169e+00 -5.64974339e-01\n",
      "  -2.40633170e-01  3.67254860e-01  1.01543353e+00  6.04275042e-01\n",
      "   1.45999069e-01 -2.82147592e-01  7.62828883e-01  9.67780015e-01\n",
      "   1.15612654e+00  4.68439039e-01  7.25125935e-01 -1.36618945e-01\n",
      "   7.79037467e-01  8.94648457e-01  2.29052475e+00 -3.60832393e-01\n",
      "   2.53638922e-01  1.21714287e+00  5.49884015e-01 -1.87638485e-01\n",
      "   1.07167641e+00 -2.90919133e-01  7.47216846e-01 -3.57134202e-01\n",
      "   6.66816162e-01 -1.01933089e+00  2.08806331e-01 -4.67691014e-01\n",
      "   8.86874844e-01 -7.00024919e-01 -1.37783540e+00 -7.69597998e-01\n",
      "   5.02820433e-01  1.24888050e+00  5.81823033e-01  6.46718596e-01\n",
      "   1.58421790e+00  6.74852632e-01  9.89509358e-01 -1.54622052e-01\n",
      "  -4.42565610e-01 -1.79868019e+00  1.50461288e+00 -1.92406629e-01\n",
      "   1.15272430e+00  1.19152140e+00  9.83740786e-01  8.92720344e-01\n",
      "  -7.91997760e-01  1.14582809e+00 -1.36438322e-01 -8.40554855e-01\n",
      "  -5.24336484e-01 -2.00103563e+00 -2.22616122e-01 -1.15590348e+00\n",
      "  -1.69136766e+00  3.34361427e-01  4.96352319e-01 -2.32615014e+00\n",
      "   1.41742132e-01 -5.77389141e-01 -2.58028525e-01 -2.18626072e+00\n",
      "  -3.31589197e-01 -2.02151516e+00  1.00904448e+00 -2.59936438e-01\n",
      "  -8.03845277e-01 -1.06817430e+00  1.98565582e+00 -1.09712091e-03\n",
      "  -1.78969373e+00 -3.80295247e-02 -1.49804348e-01 -1.61346443e-01\n",
      "   2.71428766e-01 -9.60782782e-02  2.27754531e-01  1.43450581e-02]\n",
      " [-1.18999967e+00 -1.65008270e+00  1.22804636e+00 -1.05076005e+00\n",
      "  -6.85270255e-01 -1.70225054e+00  1.14373253e+00 -7.48087806e-01\n",
      "   1.68860009e-01 -6.20357131e-01 -1.22203243e+00  4.63547139e-01\n",
      "  -1.25758168e+00 -5.83605888e-01 -1.37547420e+00  6.54721439e-01\n",
      "  -7.01506970e-01 -4.77489369e-01 -9.20305490e-01 -8.15794921e-03\n",
      "  -1.54543065e+00 -2.41380234e-01  2.20857816e-01 -1.54533369e+00\n",
      "  -6.14046068e-01 -1.83104255e+00 -1.66214088e+00  5.84117276e-01\n",
      "  -2.92601773e-01 -1.65888686e+00 -1.07901847e+00 -4.84492972e-01\n",
      "   7.69967088e-01 -1.25528006e+00  1.15270011e+00  5.87697626e-01\n",
      "  -1.20738372e+00  4.49659052e-01  8.00246202e-01 -6.23556147e-01\n",
      "   2.98188437e-01 -1.81329134e-01  3.43063830e-01 -1.41349959e-01\n",
      "   1.52397942e+00 -2.72918337e+00 -2.58028868e-01  5.35307742e-01\n",
      "  -4.84255065e-01  1.42616633e-01 -7.43643059e-01 -1.86699745e-01\n",
      "  -4.61991679e-01  1.43152231e+00 -5.41619251e-01  1.41411242e+00\n",
      "   5.21869601e-01  1.29984389e+00  8.29860756e-01  1.04280369e+00\n",
      "  -7.99868576e-01 -1.70319097e+00 -8.23080296e-02  1.05570903e+00\n",
      "   8.31227254e-02  2.39877387e+00  1.46159125e+00 -1.01629796e+00\n",
      "   1.47574510e+00  8.83156931e-01  8.79743638e-01  1.90675096e+00\n",
      "  -4.54016620e-03 -2.96930080e-01  9.58905821e-01  1.02235624e-01\n",
      "  -1.16754365e-01 -8.98689032e-02 -8.28061706e-01  2.75386638e-02\n",
      "   1.78879888e+00  5.14359473e-01  2.15015043e+00  9.29093516e-01\n",
      "  -3.67665428e-01  3.00159195e-01 -2.02744469e-01 -3.72720160e-01\n",
      "  -1.43254869e+00  1.40532607e+00  1.07283325e+00 -1.38621254e+00\n",
      "   1.72292410e+00  2.65565102e-01  8.33329956e-01 -5.13830073e-01\n",
      "   2.87414408e-01  4.33692764e-01  8.39551231e-01  2.16710500e-01]\n",
      " [ 1.70722707e-01 -2.56767127e-02  1.28160873e+00  8.05217269e-01\n",
      "  -6.59485561e-01 -2.78722224e-01  1.19136586e+00 -8.68644607e-01\n",
      "  -4.88221110e-01 -5.45418705e-01  5.72672504e-01  8.66140754e-02\n",
      "  -1.76002736e-01 -8.65301342e-02  1.23674837e+00  1.54078337e-01\n",
      "   4.95581248e-01 -5.81134660e-01  8.45784301e-01  3.48949890e-01\n",
      "  -5.95490719e-01  2.12734954e-01 -4.98528960e-01 -5.93744688e-01\n",
      "  -3.22402267e-01 -3.34175479e-01  1.11930176e-01  1.69122603e+00\n",
      "   4.66106033e-01 -3.05453710e-01  8.83195018e-01 -2.28893682e+00\n",
      "   1.20108521e+00 -5.93383907e-01  1.47837532e-01 -1.76695209e+00\n",
      "   3.45565921e-01 -6.87370405e-01  1.49986689e+00  5.50525714e-01\n",
      "  -6.13175734e-01  7.87827043e-01 -1.63966143e+00 -1.46187255e-01\n",
      "   2.63699958e+00 -1.23558870e-01 -6.64948440e-02  1.29056655e+00\n",
      "   7.18394707e-01 -8.13663220e-01 -1.11079746e+00  3.21786783e-01\n",
      "   2.97982957e+00  1.58013408e+00  2.06187479e-01 -1.74627992e+00\n",
      "  -6.11246883e-01 -5.40855242e-01 -1.29295244e+00 -3.69089495e-01\n",
      "   3.56067841e-01 -1.41604706e+00  1.41821587e+00  5.72450754e-01\n",
      "  -1.50573827e+00  4.06692742e-01  8.18304641e-01 -1.55403847e+00\n",
      "   2.94334437e-01 -1.85776087e+00 -5.14525997e-01 -1.28985242e-02\n",
      "   1.37746900e+00 -9.10939667e-01  4.09643471e-01 -1.66754578e+00\n",
      "   1.75019311e+00 -1.88806334e-01 -1.06938285e+00 -8.22326383e-01\n",
      "   7.70870278e-01  2.51167800e-01 -2.13392351e-01  4.42193266e-01\n",
      "   5.13976831e-01  4.83055318e-01  3.52530727e-01  1.37843858e-01\n",
      "  -1.20136295e+00  1.94237302e-02  1.30263838e-01  1.67119793e+00\n",
      "  -1.11852442e+00 -8.02581584e-01  1.91954846e-01 -2.79018587e-01\n",
      "  -4.54672355e-01  4.11926943e-01  9.03507710e-01 -4.74214210e-01]\n",
      " [-3.47623097e-01 -1.07413654e+00 -6.02646719e-01  2.19700948e-01\n",
      "  -7.02858601e-01 -4.17493031e-01 -8.16093026e-01  1.25994010e+00\n",
      "  -2.16310601e+00 -4.00537505e-02  9.91163358e-02 -1.26710614e+00\n",
      "   5.59133847e-01  7.03147754e-01 -7.07835431e-01 -3.21238086e-01\n",
      "  -4.51617363e-01 -1.07871723e-01  2.37575936e-01  1.36866328e+00\n",
      "  -2.71725237e-01  6.67440110e-02 -2.04043015e+00 -4.56955729e-01\n",
      "  -2.74599713e+00  2.87599841e-01 -2.25135489e+00  1.24891820e+00\n",
      "  -9.46855160e-01 -1.13382091e-04  2.92694488e-01 -1.82020888e+00\n",
      "  -2.67370145e+00 -9.45002564e-02 -4.47716457e-01  7.68750243e-01\n",
      "  -1.28328446e+00 -7.57376200e-01 -1.56955207e+00 -2.14347053e+00\n",
      "   6.99395118e-02 -2.43061169e+00  1.04369105e-01  8.65644111e-01\n",
      "   7.05057187e-01  1.66729171e-01 -5.98539374e-01 -9.65273116e-01\n",
      "  -8.15308676e-01  2.65565496e-01 -8.63130956e-01 -1.14526512e+00\n",
      "   9.66769035e-01  2.29798533e+00 -4.01753248e-01 -5.10941676e-01\n",
      "  -1.02530014e+00 -8.46226403e-01 -1.22516685e-01 -1.15219471e+00\n",
      "   1.23683328e+00 -9.97896017e-01  1.60904865e+00 -1.27767394e+00\n",
      "   9.68199674e-01  6.89277343e-01 -2.01056135e-01  2.38725614e-01\n",
      "  -2.37181692e-01  1.75518714e+00  3.48909917e-01  3.23675663e-01\n",
      "   9.09597233e-01 -9.24119504e-01  1.09366722e+00 -1.58675565e-01\n",
      "  -6.42323091e-01  1.24195429e+00  7.13284002e-01  4.42999613e-01\n",
      "   2.78341794e-01  1.30026912e+00 -7.75933661e-01 -1.05307079e+00\n",
      "  -1.91268145e+00 -3.39467294e-01  4.12563761e-01  1.93971710e+00\n",
      "   1.30561091e+00  1.06327148e+00  5.97668566e-01  9.07899385e-01\n",
      "  -2.63180566e-01  1.42830995e-01 -1.19586355e+00 -3.47303468e-01\n",
      "  -2.75994829e-02  1.59824768e+00 -1.32566048e+00 -7.81548318e-01]\n",
      " [ 9.53940716e-01 -6.24936801e-01  2.68356228e-01  3.60489129e-01\n",
      "   3.99739326e-01 -3.13111958e-01 -2.41682620e-01  5.40753964e-01\n",
      "   5.26565675e-01  1.09875427e-01 -7.02880014e-01  6.78083847e-01\n",
      "   4.73722422e-01 -1.92237668e+00 -7.73611361e-01 -4.46456823e-01\n",
      "   8.99522405e-01  7.17923988e-03  1.58218970e+00  3.42756790e-01\n",
      "  -1.51975802e+00 -1.26545292e+00  1.15103608e+00  5.38740444e-01\n",
      "  -1.64766459e+00 -3.45426854e-01 -2.33758546e-01 -4.69852451e-01\n",
      "   3.35829898e-01 -1.84102321e+00  7.72418042e-01  2.73522304e-01\n",
      "   2.42704263e-01 -2.16510133e+00 -5.15759297e-01  1.14648763e+00\n",
      "  -1.51342011e+00  2.19831454e+00 -1.72455792e+00 -1.17663465e+00\n",
      "  -3.19533902e-01  9.49714276e-02  1.90628036e+00  1.52954790e+00\n",
      "  -6.22575916e-02  1.89997476e-01 -9.10344467e-01  5.10027048e-01\n",
      "  -2.19621896e+00  7.07820175e-01  1.25133982e+00 -4.12495040e-01\n",
      "  -1.12517860e-01  3.82605145e-01  7.95693992e-01  5.70571450e-02\n",
      "   1.57322396e+00 -1.36328848e+00  1.22894996e+00 -1.66296122e-01\n",
      "  -8.90046201e-03 -4.47726793e-01  1.90989279e+00 -4.85739441e-01\n",
      "  -4.21681647e-02 -2.69211901e-01  7.16026995e-02  4.92305594e-01\n",
      "   1.04958737e+00  1.25644638e+00 -1.08181972e+00  8.77322760e-01\n",
      "   5.26168574e-01  9.93151631e-02 -5.24430068e-01  6.45959189e-01\n",
      "  -8.28631304e-01 -1.68143257e+00 -1.23571390e+00 -5.18011584e-02\n",
      "   8.70843043e-01  6.51579650e-01  8.42103244e-01 -6.91551102e-02\n",
      "   7.21459639e-01  3.82346154e-01  1.01833390e+00  7.81020729e-01\n",
      "  -1.00635724e+00  1.83831682e+00 -1.30416482e+00 -4.72249291e-01\n",
      "   9.26619517e-01  3.62946099e-01  5.90880083e-01  1.65265358e+00\n",
      "  -5.27082024e-01 -2.62710029e-01  6.47666804e-01 -3.24081996e-01]\n",
      " [ 1.02814519e+00  7.89587871e-01  1.68477652e+00  6.18050352e-01\n",
      "  -7.61902532e-01  3.23640413e-02  1.56105666e+00 -9.42125772e-01\n",
      "   3.28859278e-01  1.10138452e+00  5.47303759e-01 -1.81784457e+00\n",
      "  -7.09966639e-01 -1.98092528e-01  4.12497244e-01  9.13260130e-01\n",
      "  -9.10348741e-01  3.99510645e-01 -1.46653959e+00 -1.15276803e+00\n",
      "   2.14837659e-01 -4.65568332e-02 -7.19683272e-01  7.02674251e-01\n",
      "  -3.84615871e-01  5.20427302e-01  3.82834754e-01 -9.06481548e-01\n",
      "   1.07616948e+00 -1.99439132e-02 -1.07714368e+00  6.97730270e-01\n",
      "  -1.62011174e+00  1.03879880e+00  1.46389627e+00 -1.91881314e+00\n",
      "  -3.14447467e-01 -3.80542970e-02 -1.01768081e+00  6.21202125e-01\n",
      "  -8.28663372e-01  4.37481780e-01 -5.98288414e-01 -3.20357481e+00\n",
      "   2.37142194e-01  2.37116950e-01  1.30319076e+00  4.39449264e-01\n",
      "  -1.47268007e+00  4.22313312e-01 -1.01069438e+00 -1.47977440e+00\n",
      "   1.35547917e-01  1.20710945e+00  2.10603768e+00 -9.49354172e-01\n",
      "  -9.97711805e-01 -1.62711947e+00 -1.79530058e+00  1.66308543e+00\n",
      "  -6.62701950e-01  3.95818800e-01 -4.54220141e-01  2.34817527e-01\n",
      "  -3.30841525e-01 -5.97467307e-01  2.64187530e-01 -1.84842295e+00\n",
      "   1.79549764e+00 -7.31465119e-01  1.37363464e+00  5.55991814e-01\n",
      "  -2.32198778e-01  2.12654483e+00 -1.25391090e+00  4.58825653e-01\n",
      "   2.79783189e-01 -5.47249250e-02 -1.63941732e+00  2.83258513e+00\n",
      "   5.90497567e-02  1.66462219e-02 -3.53890723e-01 -1.51105387e-01\n",
      "   4.96805638e-01 -1.91395979e-01  1.52110561e+00 -1.32417898e+00\n",
      "   8.68183583e-01  1.13999033e+00  9.83258190e-01  5.25713862e-01\n",
      "   6.21538256e-01 -1.34138879e+00 -1.12939031e+00 -1.46111645e+00\n",
      "  -6.57137482e-01  8.44878065e-01 -9.93189895e-01 -7.93880996e-01]\n",
      " [ 5.87546564e-01  3.96797795e-01  9.80918393e-01  3.94460855e-01\n",
      "   1.12916088e-02  2.37907012e-01  2.85631510e-01  1.38573386e-01\n",
      "   4.26050674e+00  1.11028552e+00  1.41175704e+00  2.05987452e+00\n",
      "  -2.05469488e-01 -1.28769686e-01 -6.37276410e-01  2.16617705e-01\n",
      "   2.24507540e+00  7.39521989e-01 -1.52296106e-01 -5.55355461e-01\n",
      "   5.95559380e-01 -6.42501984e-01 -1.60137993e-01  6.06135899e-01\n",
      "  -1.63946150e-01 -1.71030067e-02 -1.35905776e+00 -1.51144785e+00\n",
      "   9.69652733e-01  7.54326470e-01 -6.89176969e-01 -1.96582814e+00\n",
      "  -1.80749108e+00 -1.53889983e+00 -3.41229103e-01 -5.27020422e-01\n",
      "  -4.26813539e-01  1.06838342e-01 -3.08176583e-01 -2.18768225e+00\n",
      "   6.04900793e-02 -7.36546245e-01 -7.95579854e-01 -9.56709501e-01\n",
      "   1.58006132e+00 -1.16063885e+00 -2.58650073e-01  1.14413083e+00\n",
      "   1.42633803e+00 -5.85720407e-01  4.27827272e-01  5.62718669e-01\n",
      "  -3.81152517e-01  1.41516070e+00  2.12766931e-01 -5.42587527e-01\n",
      "   5.27495562e-02  1.08274791e+00 -1.40269683e+00 -8.99491311e-02\n",
      "  -1.56702832e+00 -1.96718892e+00 -2.68438589e-01  2.23187792e-01\n",
      "   7.09916992e-01  4.05608135e-01 -1.59706102e+00 -1.24441222e-02\n",
      "  -6.16902817e-01 -2.08639717e-01  1.41077601e-01  1.26659175e+00\n",
      "  -7.96751816e-02  5.82374875e-01  1.81265227e+00 -5.34721953e-01\n",
      "  -7.47422461e-02 -8.51019843e-01  1.52626715e-01  8.39638272e-02\n",
      "  -1.50787646e+00 -2.50405257e-01 -4.01937340e-01 -5.59733544e-02\n",
      "   1.28339969e+00  1.59845527e-01  1.64908926e+00 -1.55987065e+00\n",
      "  -1.01440014e+00  9.02848410e-01  2.36233551e+00  3.89886945e-01\n",
      "   3.68523450e-01  3.11763586e-02 -5.70738671e-01 -4.81753097e-01\n",
      "  -7.78627030e-01 -8.95033881e-02 -9.96723316e-01  2.65240672e-01]\n",
      " [ 2.86939936e-01  6.43322576e-01  1.92078087e+00  4.12414907e-01\n",
      "  -3.37464489e-01 -5.07512016e-01 -1.89952124e-01 -1.90527564e-01\n",
      "  -1.02247143e+00 -7.93690869e-02  1.25231695e+00 -1.49179589e+00\n",
      "   8.22360459e-01  1.28789361e+00 -4.70814260e-02 -8.94106796e-01\n",
      "  -5.11124978e-01  1.18333174e+00 -1.52073208e+00 -9.19882703e-01\n",
      "   3.16927993e-01 -8.34100309e-02 -1.36184526e+00 -8.65579295e-02\n",
      "   1.79187283e+00  7.98949077e-02 -4.27195148e-02  1.28360814e+00\n",
      "   2.15621450e-01  1.15382524e-01  6.06070541e-01 -2.67197328e+00\n",
      "   1.93919973e+00 -2.46777069e-01  2.73392430e+00 -1.54269677e+00\n",
      "   1.68479987e+00  2.70038867e-01 -7.50938159e-01  3.04675300e-01\n",
      "   5.88752220e-01 -2.04709008e-02  3.53757589e-01  3.61827885e-01\n",
      "  -5.57489697e-01 -1.92367076e+00  4.76428777e-01 -2.14339207e-01\n",
      "  -1.58843128e+00  1.56155723e+00 -1.18728016e+00 -1.12611987e+00\n",
      "  -8.34146216e-01  3.21098593e-01  8.39153250e-02 -2.59696791e+00\n",
      "  -1.99487649e+00  1.05570874e+00 -2.14935039e+00 -2.05152024e+00\n",
      "  -3.64133593e-02  1.22873966e+00  4.18608629e-01  4.37100539e-01\n",
      "  -1.28246047e+00  2.53497146e-01  1.53691904e+00 -1.27905622e+00\n",
      "   1.01490233e-01 -1.24651469e-01 -2.59794932e-01 -1.07591745e+00\n",
      "   1.19964651e+00  2.90679212e-02  5.72403775e-01 -6.07714839e-02\n",
      "  -1.25594068e+00 -6.13747655e-01 -5.74220619e-01 -6.94617349e-01\n",
      "  -2.60366819e+00  1.20837161e+00 -3.45036172e-02  1.37010458e+00\n",
      "  -6.97537308e-01  6.51387216e-03 -1.63189998e-01  8.79161444e-01\n",
      "   4.40520694e-01 -9.35099708e-01 -1.21600344e+00 -1.87131043e-01\n",
      "  -2.94558644e-01 -9.73119325e-01  9.16254492e-01 -3.65374893e-01\n",
      "  -7.36763062e-01 -4.34239905e-01 -8.57023545e-01 -2.41225136e-01]\n",
      " [-7.11378894e-01  5.31958310e-01 -3.56337950e-02 -6.55961370e-01\n",
      "   9.66093574e-01 -6.48533152e-03 -1.27053295e+00  1.07814141e+00\n",
      "   3.66284285e-01  5.47764173e-01  1.19864900e-01  1.70441522e-01\n",
      "  -1.33920541e+00  7.39760921e-01 -5.66124956e-03  1.29278099e+00\n",
      "   1.69968099e+00  2.65790116e-01 -4.26104527e-01 -4.88671798e-01\n",
      "  -6.66576889e-01 -6.08290016e-01  6.49689728e-01  4.73793693e-01\n",
      "   2.75506170e+00 -2.27107811e-02  9.14331239e-01  8.53421096e-01\n",
      "   5.78130269e-01  1.22402440e+00  1.95409983e+00 -1.80660847e-01\n",
      "  -7.27403977e-02 -1.12543665e+00 -5.27022270e-01  1.42337705e+00\n",
      "  -8.02190145e-01  2.95076281e-02 -7.27522636e-01  1.12922553e+00\n",
      "   1.40388477e+00 -1.09299999e+00 -1.26229037e+00  2.21566290e-01\n",
      "  -7.06462801e-01 -4.15596135e-01 -1.59054527e+00 -3.13261806e-03\n",
      "  -1.71963943e-01  6.43496020e-01  2.52006844e-01  1.51120073e+00\n",
      "  -1.33989719e+00  3.33024514e-01 -8.06067661e-01  6.05722720e-01\n",
      "   6.33212350e-01  9.62909964e-02 -4.89599931e-01  4.50513825e-01\n",
      "  -2.04614818e-01  1.43401056e+00 -6.52725801e-01  4.49884262e-01\n",
      "  -2.26198774e+00 -6.14857158e-01  1.26568164e+00 -1.07502902e+00\n",
      "   3.16560859e-01 -1.76401518e-01  5.93181295e-02  7.63644212e-01\n",
      "   9.73015833e-01  5.49613473e-01  7.94150597e-01 -1.53089175e+00\n",
      "  -1.56795148e+00 -1.08657315e+00 -2.51802971e+00 -1.43951882e+00\n",
      "  -6.09932234e-01  5.28199960e-01  1.09325125e+00  7.43148414e-01\n",
      "   1.52817565e-01 -1.08996702e+00  3.51549652e-01 -1.72855078e+00\n",
      "   6.41077995e-01 -4.77365381e-01 -1.27714574e-01  1.27919367e+00\n",
      "   9.12546539e-01 -8.80320829e-01  1.40921050e+00 -7.10212694e-01\n",
      "   6.99664425e-01  1.15260323e+00 -1.30899209e-01  1.97485125e-01]\n",
      " [ 3.11542677e-01  7.11507224e-01  9.98089959e-02 -5.02598968e-01\n",
      "   1.55363549e+00 -3.90951245e-01  4.33836550e-01  1.90145935e+00\n",
      "   3.19521104e-01 -4.67251133e-01  8.28180370e-01 -4.29460142e-01\n",
      "  -1.62066263e+00 -8.60999775e-01  2.08109534e-01 -4.66364169e-02\n",
      "  -1.19183896e+00  1.58097903e-01  8.72299270e-01  1.77794255e+00\n",
      "  -2.87309891e-01  3.88978720e-01 -7.33697276e-01 -5.14451842e-01\n",
      "   8.29579432e-01  1.18735159e+00 -8.36285387e-01 -9.02996126e-01\n",
      "  -2.11347642e-01 -2.36446582e-01  5.16638253e-01  9.57107953e-01\n",
      "   3.81968965e-01  4.31738817e-01  1.45431976e+00  9.07469171e-01\n",
      "  -1.82024919e+00 -6.90636561e-01 -1.03352834e+00 -5.08352595e-01\n",
      "   1.79265418e+00  1.27502408e+00 -4.90063620e-01  1.18828665e-01\n",
      "  -5.11361595e-01  5.35920596e-01  6.07167986e-02 -1.76509787e+00\n",
      "  -1.89333648e+00 -2.80861895e-01 -1.02857242e+00  4.18869186e-01\n",
      "  -3.31029709e-01  9.81385534e-01  1.07242790e+00 -1.54876238e-01\n",
      "   6.66345497e-01 -6.19967053e-03  5.39222829e-01  1.87744543e-01\n",
      "   1.67430079e+00  1.85331690e-02 -3.91854486e-01  2.82465492e-01\n",
      "  -4.17563876e-01 -1.94071610e+00 -1.69545913e-01 -1.06170960e+00\n",
      "   3.93169131e-01 -9.41792993e-01  7.75768925e-01  1.37119666e-01\n",
      "  -1.23746532e+00 -1.00412590e+00  5.58235934e-01 -2.83984488e-01\n",
      "   7.97470392e-01  1.04942570e+00  1.20381273e+00  3.38068569e-01\n",
      "  -4.84822828e-01  1.29283821e+00 -6.12300312e-02  5.63986996e-01\n",
      "  -3.53647431e-03  3.72950095e-02  9.46397967e-02  7.20268091e-01\n",
      "   1.05881743e+00 -3.64671206e-01  1.13290700e+00 -5.42352437e-01\n",
      "  -1.76507965e+00  1.42991079e+00 -1.29661138e+00  1.46714090e-01\n",
      "   4.29078480e-01 -3.19869495e-01  4.58086155e-01  9.11972355e-01]\n",
      " [ 3.35429112e-01  1.19080051e+00  4.61796407e-01  1.00949662e-01\n",
      "  -7.41097890e-01  1.10524901e+00  1.59555807e+00  2.29398227e+00\n",
      "  -1.62515440e+00  4.58222627e-01  7.07746825e-02  1.58694701e-01\n",
      "  -7.66035569e-01  1.50357349e+00 -3.91157273e-01  4.53109087e-01\n",
      "   4.43902303e-01  2.02358648e-01 -6.53039903e-01  5.04806034e-01\n",
      "   9.24010948e-01 -1.75626937e+00  5.86692829e-01  6.08226534e-01\n",
      "   1.10519735e+00 -1.62998205e+00  6.47427047e-02 -7.84803684e-01\n",
      "  -1.07875283e+00  3.31971202e-02  6.16718335e-01 -1.43988486e+00\n",
      "  -1.47693446e+00  1.02874798e-01 -3.05831531e-01 -1.09845547e+00\n",
      "   1.28161745e+00 -1.24381387e+00 -1.31636510e-01 -4.86922376e-01\n",
      "  -1.03778343e-01 -2.26795440e+00  3.26952599e-01 -7.07622808e-01\n",
      "  -8.63892436e-01  2.30825581e-03  1.87503978e-01 -4.05689335e-02\n",
      "  -1.13257476e+00  4.42266685e-01 -4.95083437e-01 -2.29987837e-01\n",
      "  -6.10045852e-01  8.27970455e-01  1.21823803e+00 -8.30316777e-01\n",
      "  -5.42127027e-01  9.38822189e-01 -4.42265147e-01  9.50306762e-02\n",
      "   8.32545807e-01 -3.80043452e-02 -1.21033156e+00  4.87200125e-02\n",
      "   2.37122358e+00 -9.79100321e-01  8.99161895e-01  6.31565767e-01\n",
      "  -1.89747524e-01 -5.72839481e-02 -2.61230763e-02  2.38037063e-01\n",
      "   6.28052419e-01 -1.31870158e+00 -4.84648698e-01  4.95226198e-01\n",
      "   7.15099778e-01 -4.73455899e-01 -4.31778839e-01 -1.96998632e+00\n",
      "   6.79689994e-01  1.29301312e+00  9.54131161e-01 -2.36112585e+00\n",
      "   9.57622544e-02 -6.65852812e-01 -1.71153549e-01  1.14063354e-01\n",
      "  -1.60540816e+00  2.00655597e-01 -2.27209150e-01 -9.99050680e-01\n",
      "  -1.48079847e+00 -1.85729763e+00 -1.28140893e+00 -2.23473365e+00\n",
      "   9.54121361e-01 -1.89470396e+00  6.04549969e-01 -6.87691007e-01]\n",
      " [-4.04742117e-01  6.57452776e-01  2.24580542e-02  1.45889220e+00\n",
      "  -1.40394036e+00  3.27024196e-01 -1.08875070e+00  2.92398922e-01\n",
      "   1.60706132e+00  1.12363727e+00 -1.02127446e+00  2.66067480e-01\n",
      "  -4.56299355e-01  2.25173143e-01 -8.24010315e-01  3.80812820e-01\n",
      "   6.78809712e-01  4.34148107e-01  9.68243248e-01  6.70294691e-01\n",
      "  -5.54267000e-01  1.12610937e+00 -1.08687321e+00 -1.26685214e+00\n",
      "  -1.11085665e+00 -5.68859728e-01  9.75596620e-01  5.14097970e-01\n",
      "  -1.08144757e-01 -7.84312466e-01  8.73748893e-01 -1.59789016e+00\n",
      "  -9.73780923e-02 -8.97628387e-01  1.53073806e+00 -9.50672471e-01\n",
      "  -5.87873307e-01 -5.30355455e-02 -8.65623165e-01 -2.15499447e-01\n",
      "  -7.36093345e-01 -1.59343536e-01 -5.85993044e-02 -8.10909928e-01\n",
      "  -1.54104086e+00 -4.33321956e-01  3.26343191e-01 -1.06344933e+00\n",
      "  -1.27070767e-01  1.50867154e+00 -3.29733195e-01  7.26387908e-01\n",
      "   1.16316975e+00 -1.68243550e+00  1.44092989e+00  3.38725940e-01\n",
      "  -4.74289693e-01 -1.17191688e+00 -2.10257241e-01 -9.75513024e-01\n",
      "   1.60262229e+00  3.79802076e-02  3.75012155e-01  3.23686059e-01\n",
      "  -1.55495632e-01 -3.12688249e-01  8.55873969e-01 -1.30975198e+00\n",
      "  -2.84356490e-01  7.29558950e-01 -2.19226448e-01  1.49300225e+00\n",
      "  -6.09430918e-01  8.95748166e-01 -1.78648657e+00  1.09424857e-01\n",
      "  -1.60837283e-01 -3.46099491e-01 -2.60569002e-01  5.25462146e-01\n",
      "  -1.19674090e-01  1.36534831e-02  1.20909159e+00 -2.30803679e+00\n",
      "   5.35625090e-01  5.98892352e-01 -8.85657959e-01 -5.90126395e-01\n",
      "   7.37942260e-01 -1.18499516e+00  3.34601929e-01  2.24234141e-01\n",
      "  -6.33302630e-01  4.80447338e-01 -3.87862830e-01  4.07692869e-02\n",
      "   2.05230037e-01 -6.75118592e-01  8.62896246e-01  7.06454889e-01]\n",
      " [ 1.79059304e-01 -1.38202618e+00  9.88682600e-01  1.46965244e-01\n",
      "   1.90184979e+00  9.98133664e-02 -1.17106272e+00 -6.67622736e-01\n",
      "   1.20242831e-01 -4.90101876e-01  8.74477133e-01  2.47749736e+00\n",
      "  -8.72649886e-01  4.63756615e-01  7.85651708e-01 -1.05621523e+00\n",
      "   8.65089255e-01 -6.20882451e-01  6.08977511e-01 -9.71609401e-01\n",
      "   2.76501878e+00 -4.69946885e-03 -2.79806449e-02 -7.79663871e-01\n",
      "  -5.42689904e-01 -5.86836911e-01  8.74844728e-01  9.90717331e-01\n",
      "  -2.18360165e+00 -5.56200533e-02 -1.18970440e-01  1.91135958e+00\n",
      "  -2.78420987e+00  3.43544213e-01 -2.36495123e-01  2.23384249e-01\n",
      "   2.98057185e-01  4.41251961e-01 -1.00936087e+00  5.90061686e-01\n",
      "  -7.02790804e-01 -1.07097319e-01 -1.92643546e+00 -2.25911823e-01\n",
      "   7.72191809e-01 -6.58091306e-02  5.00337941e-01  7.86059269e-02\n",
      "   5.59543081e-01 -2.43690765e-01  1.53864574e+00  2.67947506e-01\n",
      "   2.50170325e+00 -6.70579749e-01  1.13066602e+00  1.88759519e-01\n",
      "   1.14765849e+00 -3.62992014e-01 -1.33166173e+00 -1.75874943e-01\n",
      "  -6.81692871e-02  8.24219482e-01 -1.64966189e+00  2.04988737e-01\n",
      "  -1.15485767e-01  1.81692349e+00 -8.52639925e-01  6.21204680e-01\n",
      "   2.40347910e-02  5.62306765e-01 -2.07718081e+00  8.67622423e-01\n",
      "   3.76048282e-01 -4.44507854e-01 -1.39217276e+00 -3.92813637e-01\n",
      "   8.19189604e-01 -5.19595651e-01  8.87268816e-02  1.29890086e+00\n",
      "  -3.95968649e-01 -6.88227539e-01  5.59084835e-01  2.07313607e-02\n",
      "  -1.35332254e+00 -5.35156512e-02 -2.16389849e-01  3.30306406e-01\n",
      "  -7.52427507e-02 -2.90522816e-01  2.76002292e-01 -9.98768167e-01\n",
      "   5.31059277e-02 -6.19227274e-01  2.88300677e-02  2.06421862e-01\n",
      "  -3.52529885e-01  1.18771114e+00 -3.50720435e-01 -6.47302826e-01]\n",
      " [-2.79797303e-01  5.40780153e-01  6.93505272e-01  1.10028726e+00\n",
      "  -1.02829201e+00  3.27605752e-01  3.79813427e-01  1.22491806e+00\n",
      "   5.36716922e-01  2.06533047e+00  1.34963504e-01  5.78584715e-01\n",
      "   1.45567609e+00  9.98535247e-02  8.40530818e-01 -1.67169549e+00\n",
      "   6.62623567e-01 -1.23343994e+00  2.51894980e+00  7.44924624e-01\n",
      "   3.08748963e-02  2.10246805e+00 -6.80337926e-02 -1.11437999e+00\n",
      "  -1.64813426e+00 -1.09796587e-01 -3.11903575e-01 -1.79490136e+00\n",
      "  -9.27294624e-01  1.63860162e+00  1.12051890e+00 -4.85771187e-02\n",
      "  -6.78468865e-01  8.61355831e-01  2.35619379e-01 -9.11823008e-01\n",
      "   5.50928378e-01  1.22044981e-01  1.73248448e+00  1.75954440e-01\n",
      "   1.90664486e+00 -1.77932166e+00 -1.32294366e-01  1.34487458e+00\n",
      "   4.67871908e-01  7.61461817e-01 -1.12948475e+00 -1.54908320e+00\n",
      "  -5.84491242e-01 -3.13270753e-01 -4.47271549e-01  1.52987266e+00\n",
      "  -2.73725328e-01  1.57657932e+00  1.49378004e+00  7.54027808e-01\n",
      "  -7.84049374e-01 -9.19387285e-01  2.85464569e+00  1.78224116e+00\n",
      "  -1.02368954e-03 -7.27672328e-01  1.85601920e-03 -4.49082247e-03\n",
      "   8.02405919e-01 -3.29534080e-01 -4.60979256e-01 -1.77864553e-01\n",
      "   3.95902611e-01 -1.01505015e+00  5.53602438e-01  1.09274216e-01\n",
      "   5.72735188e-01  1.08545790e+00  8.09905216e-01  2.16952211e+00\n",
      "   2.87261835e-01 -1.29272892e+00  7.50044111e-01 -1.14202941e+00\n",
      "  -1.08543513e+00 -1.21906506e+00  2.56919615e-01  8.90005509e-03\n",
      "  -7.96991990e-01 -7.68125904e-01 -3.17159740e+00 -4.56753978e-01\n",
      "   3.65287417e-01  4.41277400e-01 -9.21739734e-02 -1.79519604e+00\n",
      "   4.32331005e-01  1.07505379e+00  3.54952519e-01  1.87806389e-01\n",
      "  -3.43122740e-01  1.04256391e+00 -1.23115559e+00 -1.95652041e-01]\n",
      " [ 1.15668001e+00  1.47878313e+00  5.89616669e-01  1.00493074e+00\n",
      "   6.83669888e-01  8.29767973e-01  1.22172932e+00 -1.45586249e+00\n",
      "   2.67253690e-01  5.60799323e-01 -3.11062759e-01  7.64377863e-01\n",
      "   2.90994362e-01 -2.04778359e+00  1.18100433e-01 -7.11993066e-01\n",
      "  -1.05875263e-02 -4.61031151e-02  2.31699130e-01  3.97234131e-01\n",
      "  -2.98810119e-01 -4.30194077e-02  7.79219762e-01  2.89369089e-01\n",
      "   5.80627240e-02 -2.69141445e-01 -1.34023301e+00 -1.26552432e+00\n",
      "   7.99207421e-01  9.23175408e-01  1.84110863e-01 -7.26005985e-02\n",
      "   7.74536015e-01  9.15671246e-01 -1.26970414e+00  6.17851512e-01\n",
      "   1.49012764e-01 -1.51309985e+00 -1.07377140e+00  1.69139221e+00\n",
      "   1.59410580e+00 -9.81249817e-01 -1.11761915e+00 -7.73431455e-01\n",
      "   4.87685459e-01 -8.00780089e-01 -7.46660233e-01 -1.02401941e+00\n",
      "   1.03529520e+00  9.00242126e-01 -3.93580685e-01  8.72176785e-01\n",
      "  -1.39732836e+00 -1.85607095e-01 -3.52261261e-01  3.59563293e-01\n",
      "  -5.78019939e-01 -3.52209480e-01 -1.46411911e+00 -4.79559222e-01\n",
      "  -1.33556494e+00 -6.42237687e-01  9.54987854e-01 -4.58405736e-01\n",
      "   1.28259082e-03  2.81844650e-01 -8.21591657e-01 -3.81929472e-01\n",
      "   2.02401307e-01  2.50663032e-01  4.82056587e-01  1.08856669e-02\n",
      "   1.08692385e+00 -1.02248131e+00 -1.24527647e+00 -8.04816453e-01\n",
      "   1.70710878e+00 -1.65578038e-02  7.81456007e-01 -7.55215140e-01\n",
      "   7.99897203e-01  2.10145179e+00 -1.03678388e+00 -5.88740153e-01\n",
      "  -9.05784475e-01 -9.09668019e-01  6.79321300e-01  1.60021724e+00\n",
      "   7.10146987e-01  1.64887766e+00  7.42108356e-01  4.73038026e-01\n",
      "   5.71286295e-02 -7.60511781e-02 -8.92592331e-01 -1.09597691e+00\n",
      "  -5.74392825e-01 -2.86106558e-01  7.04934329e-01 -4.74199400e-01]\n",
      " [-1.66818189e-02  4.07865151e-01  1.57761007e+00 -7.22734394e-02\n",
      "   7.29394351e-01  3.71696515e-02  9.63266784e-01 -1.10616550e+00\n",
      "  -4.72592320e-01  3.98773828e-01  1.55674497e+00  1.21449869e+00\n",
      "   2.78835757e-03 -1.15448401e+00 -1.21227059e+00 -4.96088112e-01\n",
      "   1.83152818e+00  5.57235917e-01 -2.17236381e-01  7.05964797e-01\n",
      "  -1.57143713e+00  5.20162087e-01  4.60371413e-01 -2.82069370e-01\n",
      "   1.69866979e-01 -1.09027489e+00  1.63092730e-01 -3.93375993e-01\n",
      "  -1.46617203e+00  1.18192571e+00 -8.67299228e-02 -2.28931457e+00\n",
      "   1.16840958e-01  6.23448007e-01  3.15574681e-01 -8.72719339e-01\n",
      "  -7.24683192e-01 -1.19314119e+00  7.59919771e-01  5.13603899e-01\n",
      "  -5.92398338e-01  1.42360139e+00  9.49770301e-01  2.29693559e-01\n",
      "  -1.28739529e+00 -6.60220463e-02  1.17443576e+00  6.13296303e-01\n",
      "  -1.63850663e-01 -1.15377690e+00 -6.35681921e-01  8.02661303e-01\n",
      "  -7.06231342e-02  7.60513837e-01 -1.00101226e+00  2.09016919e-01\n",
      "   5.94045449e-01 -2.06922663e-03  7.91767221e-01 -1.40568455e+00\n",
      "   9.32849344e-01 -2.32353893e+00 -8.46008896e-02 -4.74213611e-01\n",
      "  -8.19922258e-01 -2.63764802e-01 -1.78863328e-01 -1.52138092e-01\n",
      "  -4.53384983e-01 -1.63147170e+00  9.70440035e-01  5.05248967e-01\n",
      "  -1.35029071e+00  6.22115566e-01 -1.35973015e+00 -2.17466181e+00\n",
      "   1.03731455e+00  1.19334566e+00  1.01611653e+00  6.92756850e-01\n",
      "  -1.12580530e+00 -1.83917939e+00 -7.43492509e-01  4.24972093e-01\n",
      "   6.57632925e-01  1.31935677e+00 -5.60393241e-01  7.22415230e-01\n",
      "  -7.86187137e-02  2.80833185e-01 -9.71537191e-01 -2.68842365e-01\n",
      "   1.06983898e+00 -3.56364529e-01 -2.51473247e+00 -6.89372157e-02\n",
      "  -1.45909111e+00 -8.62072408e-01 -1.05080740e+00 -2.77538318e-01]\n",
      " [ 1.32886035e+00 -1.93042459e-01  8.41579023e-01  1.08782948e+00\n",
      "   6.29679916e-01  6.22015543e-01  8.12758618e-02 -3.35415291e-01\n",
      "  -1.72346049e-01 -2.24653516e-01 -1.49156100e+00  1.83961669e-01\n",
      "   1.54965693e-01 -1.61413139e-01 -4.32954953e-02 -4.01495358e-01\n",
      "  -2.11411218e+00  7.96969123e-01 -1.29403712e+00 -1.83043791e-01\n",
      "   2.60272142e+00  6.82581067e-01 -6.95789328e-01  9.07954732e-01\n",
      "   9.51960102e-01  1.24492973e+00 -1.06787592e+00 -1.35495772e-01\n",
      "   1.62972732e-01  6.10658249e-01  1.42559571e+00  8.37606844e-01\n",
      "  -3.42971738e+00 -5.36659251e-01 -1.24136108e+00  8.99358963e-01\n",
      "   1.17374371e-01 -1.03590575e+00  4.65961309e-01  3.17941125e-01\n",
      "   4.01244477e-01 -4.89858853e-01  1.25715366e+00 -1.77887874e+00\n",
      "  -5.73795521e-01 -2.55196837e-02 -4.18970765e-01 -2.56005296e-01\n",
      "   1.12917542e+00 -5.29308712e-01  1.67520620e+00  1.39402387e+00\n",
      "   5.16255833e-01 -8.51900274e-01 -1.15780236e+00 -5.96191181e-01\n",
      "  -1.21977970e+00 -5.66541613e-01  3.47842040e-02 -8.36556602e-01\n",
      "  -1.49280069e+00  1.90143598e-01 -8.24663582e-01 -4.91961568e-01\n",
      "   4.48552533e-01 -2.45674268e-01  1.12000233e-01  3.07612928e-01\n",
      "   1.56360767e-02 -3.90779306e-01  7.91679789e-01  5.57323766e-01\n",
      "  -2.31697741e-01 -1.42236312e+00  9.97998005e-01 -1.94870705e+00\n",
      "   4.67632422e-01 -1.03333034e+00  1.68682646e+00 -6.68510504e-01\n",
      "   8.37902780e-01 -1.79828948e+00  1.03396328e+00  1.54162886e+00\n",
      "  -2.28714818e+00 -1.18849037e+00 -1.53073377e-01  3.00592096e-01\n",
      "   1.07165331e+00 -1.21649601e+00 -2.63424562e-01 -1.38976842e-01\n",
      "   1.11829247e+00  1.53669271e+00  2.13101181e-01  3.74736449e-01\n",
      "   1.62555969e+00 -2.60821034e-01  2.99265104e-01 -1.82606372e+00]\n",
      " [-1.42533169e+00 -9.78256595e-01  7.95482573e-01  1.67528744e+00\n",
      "  -1.62584201e-01  2.94388839e-01  6.50633938e-01  1.82994793e+00\n",
      "  -6.33041624e-01 -9.73661528e-01 -8.30032816e-01 -2.75466203e-01\n",
      "  -2.02329706e+00  1.60938227e+00  3.19069523e-01  9.88017969e-01\n",
      "  -8.25660619e-01 -2.65235661e-02  6.87511335e-01 -7.83496331e-01\n",
      "  -4.47857816e-01  1.44542376e-01  1.94229241e-01  3.51503302e-01\n",
      "   1.08375698e+00 -1.52467708e+00 -1.51096121e+00  4.99453666e-01\n",
      "  -3.47202395e-01  5.57464772e-01  1.67021279e+00 -4.68305176e-01\n",
      "   9.32681399e-01  9.58883857e-01 -8.38614203e-01  4.56337689e-01\n",
      "   1.97309876e+00  9.14983205e-01 -1.32579307e+00 -4.66155475e-02\n",
      "   2.16530227e+00 -1.64106223e-01 -6.37485587e-01 -4.68825526e-02\n",
      "  -3.91326041e-01  1.06642617e+00 -2.13069925e-01  2.05830984e-01\n",
      "   6.67381809e-01 -9.07544977e-01  1.15108544e+00 -4.99248537e-01\n",
      "  -3.69747340e-01 -8.15318592e-01  3.45118346e+00  2.19585877e-02\n",
      "   6.87562551e-02  2.90464957e-01 -1.66146409e+00 -7.27125714e-02\n",
      "   5.08610323e-01  2.07545751e+00  1.34853309e+00 -1.68350378e+00\n",
      "   4.79561772e-01 -1.01257251e+00 -1.63848190e-01 -8.33456290e-01\n",
      "   4.49164832e-01 -5.31918017e-01  6.31928803e-01 -1.58698157e-01\n",
      "   1.70577782e+00 -1.53436582e-01  1.80069955e-01  9.63313787e-01\n",
      "  -8.04541122e-01 -1.66458536e+00  1.91723227e+00  7.08911818e-01\n",
      "  -1.98919797e+00  2.35892860e-01  5.37816363e-01  2.84901205e-01\n",
      "  -2.09845676e-01 -1.03354569e+00  5.94679291e-01 -8.42451243e-01\n",
      "   1.46071690e+00  1.13294823e+00 -3.03597800e+00 -1.63704974e+00\n",
      "   7.38641315e-01 -4.27569426e-01  2.64038601e+00 -7.96355460e-01\n",
      "   1.17167510e+00 -1.62817150e+00 -1.71386723e+00 -4.00687234e-01]\n",
      " [-1.54797758e+00 -6.30300807e-01 -2.04436312e+00 -4.80051146e-02\n",
      "  -1.18975563e+00  3.11844213e-01 -1.42917564e+00  9.68271574e-01\n",
      "   5.32284791e-01 -2.14947703e+00  2.56340790e+00 -5.30051782e-01\n",
      "  -7.54038866e-01  1.15519007e+00  6.97769166e-01  6.96580448e-01\n",
      "  -7.85382421e-02  3.36148031e-01 -8.46104752e-01 -6.26090032e-01\n",
      "   1.72752266e+00  2.50986255e+00  7.43097071e-01 -5.97056721e-01\n",
      "  -6.30421799e-01 -1.54320626e+00  1.25977766e-01 -7.04390030e-01\n",
      "   1.97644865e+00  4.99802615e-01  6.75236256e-01  1.43489856e+00\n",
      "  -2.62731029e-01 -6.19159445e-01  2.61025137e-01 -9.13414996e-01\n",
      "   1.60238592e-01 -8.05111630e-01  8.12757761e-01  1.14751348e+00\n",
      "  -1.24113034e-01 -6.38828044e-01 -5.20332040e-01  1.50921747e+00\n",
      "  -8.27961308e-01 -7.69129182e-02 -7.55216841e-01 -1.06569806e+00\n",
      "  -3.16664143e-01  2.05393736e+00 -4.66091357e-01  1.83411818e+00\n",
      "  -6.22912058e-01  1.81575694e-01 -1.00092547e+00 -7.10120680e-01\n",
      "  -1.11656545e-01  4.46392121e-03  1.43052850e-01 -6.89111414e-01\n",
      "  -2.54319533e-01 -8.32994882e-01 -7.43722380e-01 -1.58481997e-01\n",
      "  -7.61735095e-01 -3.57066523e-01  8.20213898e-01 -7.02055357e-01\n",
      "  -5.35199885e-01  1.45364969e-02 -9.96843522e-01 -2.03327515e+00\n",
      "  -4.32295192e-01 -7.41995611e-01  1.98152328e+00 -3.66753734e-01\n",
      "  -1.13044081e+00 -1.28811272e-01 -1.37968060e-01 -2.15267460e+00\n",
      "   1.34340978e+00  2.31445020e+00  1.14020314e+00  1.33591136e+00\n",
      "   5.23215794e-01  2.65484925e-01 -5.06720718e-01 -6.63025230e-02\n",
      "   1.12900655e+00  4.91065550e-01 -1.09725313e+00  2.79090422e+00\n",
      "  -3.64163687e+00  7.55011633e-02 -2.78331499e-02 -1.85068418e-01\n",
      "   1.41376133e+00 -3.06859292e-01  1.25396557e+00 -8.27580274e-01]\n",
      " [-7.38359201e-01 -1.36571436e+00 -7.00686733e-01 -4.49797717e-02\n",
      "  -4.55664481e-02 -8.06187492e-01 -7.37840812e-02 -1.90770354e-01\n",
      "   1.38031952e-01 -8.83163541e-02 -9.26953373e-01  1.19086500e+00\n",
      "  -1.00337603e+00  4.89897867e-01  9.40303745e-01 -1.01160272e-01\n",
      "  -7.61743270e-01  9.20729798e-01  9.59058734e-01  2.02926089e+00\n",
      "   1.35424800e+00  7.89596835e-02 -1.75483307e+00 -1.15167932e+00\n",
      "  -1.74313349e+00  1.52188909e+00 -2.16360201e-01 -4.59643556e-01\n",
      "  -7.24069419e-02  3.51538821e-01  6.95465460e-02  7.41362317e-01\n",
      "   3.21690211e-01 -1.17522249e+00  2.05249270e+00  2.83919278e-01\n",
      "  -8.90595498e-01  7.52809647e-01 -1.51149108e-01 -1.58337102e+00\n",
      "  -1.80041642e-01  1.15587989e+00 -9.35074303e-02  3.56076493e-02\n",
      "  -3.04116948e-01 -5.02555861e-01 -6.17569199e-01 -2.32057093e-01\n",
      "  -1.10688599e+00  7.54605209e-01  7.12565968e-02  1.57799581e+00\n",
      "   1.25597129e+00 -3.57035610e-01 -1.31362180e-01  1.28460906e-01\n",
      "  -2.84772423e-01  8.16056701e-02  2.64132386e-01 -4.51643648e-01\n",
      "   3.13581365e-01 -4.92287876e-01  9.69291750e-01 -1.75333759e+00\n",
      "  -7.77383057e-01 -5.94386692e-02  4.52325029e-01 -5.26444822e-01\n",
      "  -7.57754771e-01  7.11793574e-01  1.15450238e+00 -5.56075796e-01\n",
      "  -6.31910318e-01 -3.94335842e-01  8.64947865e-01 -1.38663292e-01\n",
      "   1.05516356e+00 -1.40452875e+00 -9.72478613e-01  7.63181446e-01\n",
      "   1.01156479e+00 -1.63279099e+00  2.96632581e-01  3.78700054e-03\n",
      "   1.10943199e+00  2.01061114e+00  1.55957139e+00 -1.24083522e-01\n",
      "   1.28534434e+00 -1.20675389e+00  1.08230381e+00  1.46037339e+00\n",
      "  -1.41729412e+00  1.12298882e+00  5.87707395e-01 -4.41574172e-02\n",
      "  -4.66137968e-01 -8.84708057e-01 -8.56704045e-01  3.55253329e-01]\n",
      " [ 1.22602457e+00  5.37887661e-02 -1.63007543e+00  6.96619577e-01\n",
      "   8.67168649e-01 -9.73543163e-01 -8.04770527e-01 -6.54870391e-01\n",
      "   3.16000173e-01  1.65459770e+00 -2.08893531e-01 -2.22306917e-01\n",
      "   2.90769146e+00 -1.02220109e+00  1.69134076e+00 -1.75266098e+00\n",
      "   6.71123623e-01 -4.28109620e-01  8.00815716e-01  8.62228542e-01\n",
      "  -5.95440165e-01  3.99053625e-01 -1.48498298e+00  8.41538396e-01\n",
      "  -5.26122392e-02 -2.04226642e+00  5.81354136e-03  1.89532050e-01\n",
      "  -1.18328371e+00 -2.35559192e-01  4.26043853e-01 -4.21162720e-01\n",
      "   1.40641514e+00  3.87364850e-01  1.08372373e+00 -7.85409465e-01\n",
      "   1.10853112e+00 -6.93906250e-01 -1.28840670e+00 -7.29083936e-01\n",
      "   6.57428190e-01  9.44372964e-01  6.96402907e-02  4.49346128e-01\n",
      "  -3.59987914e-02 -3.41729089e-01  2.08996131e+00  4.66736447e-01\n",
      "   5.07726083e-01 -1.90633458e+00 -2.69587981e-01  3.25566047e-01\n",
      "  -1.06794150e+00  3.55637568e-01 -5.97332524e-01  8.96659692e-02\n",
      "   1.19588610e-01 -6.05630970e-01  1.46019320e+00 -8.64693647e-01\n",
      "  -7.19606559e-01 -2.92906938e-01 -7.48865823e-01 -1.31879092e+00\n",
      "   1.18099892e+00  3.22331583e-01 -5.12372027e-02 -1.12502826e+00\n",
      "   6.06505466e-01  3.47023350e-02  4.26468888e-02 -9.40192554e-01\n",
      "  -2.27370564e-01  1.68022276e+00  8.44666387e-01 -1.57693254e+00\n",
      "  -1.28244642e-01 -7.13705979e-01  1.22886459e-01  1.77331492e-01\n",
      "  -1.02573772e+00  8.31973514e-01 -6.54442264e-01  2.57565885e-01\n",
      "   4.85641501e-01  1.09366313e+00 -5.96132958e-01 -1.22572563e-01\n",
      "  -2.44393965e+00 -5.25373691e-01  1.71653194e+00 -9.63975277e-01\n",
      "   4.53750321e-01  4.06276191e-01  1.12285022e-01  1.38902458e+00\n",
      "  -4.29930204e-01 -1.54131784e+00  6.25678404e-01 -5.79790711e-01]\n",
      " [ 7.38960381e-01 -1.86125359e-01 -1.82759476e+00  1.28268542e+00\n",
      "   1.65788745e+00  9.48916048e-01 -2.71461843e-01 -3.04602329e-01\n",
      "   1.06879626e+00 -2.75985656e-01 -1.48105097e-01  6.72031234e-01\n",
      "   2.25695767e+00  2.25825077e+00 -1.22579915e+00 -1.57334817e-01\n",
      "  -2.21961434e-01  5.12119459e-01 -5.72526604e-01 -5.84010813e-01\n",
      "   2.07216577e-02  5.69208848e-01 -2.02804604e+00 -3.51637139e-01\n",
      "   1.95182366e+00 -7.84694339e-02  1.91397339e-01 -5.37960424e-02\n",
      "   4.72305760e-01  4.20736976e-01  1.97565374e-01  1.49911376e+00\n",
      "  -1.31968972e+00  8.52941185e-01  7.71340939e-01  7.25925029e-01\n",
      "  -8.77826980e-01 -2.16024568e+00 -3.33513774e-01  9.48508869e-01\n",
      "   8.36636549e-01 -9.54148292e-01  2.75269472e-02 -2.66871553e-01\n",
      "  -1.93525639e+00  3.37863104e-01  2.45166841e-01  1.38689377e-01\n",
      "   2.17631812e-01  5.77496044e-01  5.19924884e-01  1.12090267e+00\n",
      "  -1.12715205e+00  3.59266206e-01 -1.61721433e-01 -7.35756252e-01\n",
      "   8.71605425e-01 -5.22484306e-01  4.26030606e-01 -2.57726064e-01\n",
      "   5.82950508e-01 -1.47637781e+00 -5.34763766e-01  3.87099897e-01\n",
      "   6.70123022e-01 -6.10611128e-01  7.73459055e-01 -1.07298694e+00\n",
      "   2.82233463e-01  2.31814425e-01 -2.12872463e-01 -9.93938126e-01\n",
      "   4.11814011e-01  1.21711228e-01 -1.91380324e+00 -3.42557712e-01\n",
      "  -1.42823324e+00 -9.71436125e-02 -1.27252053e-01  9.73033151e-01\n",
      "  -1.15698021e+00  5.72361671e-01  7.48339997e-01  1.87754858e+00\n",
      "   7.33567670e-01  1.43152193e-01 -7.01421970e-02  1.13161181e+00\n",
      "   4.82915429e-01  1.79179052e+00  8.50454042e-01 -6.35247684e-01\n",
      "   1.05760325e+00  3.79386306e-01 -6.25689987e-01  1.03777197e+00\n",
      "   5.99487858e-01  1.16478942e+00 -5.61171452e-01  2.39070148e+00]\n",
      " [-1.05009053e-01 -8.03155992e-01 -9.51065298e-01 -1.96021448e+00\n",
      "   1.13379564e+00  8.26388718e-02 -5.05648263e-01  2.09058720e+00\n",
      "  -1.75563568e+00 -2.93566375e-01  5.35151011e-01  1.11497720e+00\n",
      "  -8.44147480e-01 -1.58064575e+00 -5.48003296e-01 -8.79143768e-01\n",
      "  -1.99146793e-01  1.69497054e+00 -9.36819581e-01 -2.87174706e-01\n",
      "  -4.85119077e-01  1.62761921e+00  2.79779185e-01  5.94254490e-01\n",
      "  -2.38192359e-01  1.18718099e+00  6.97547602e-01  1.68566530e+00\n",
      "   1.18887812e+00 -1.41710548e+00  1.31768302e+00  6.70247779e-01\n",
      "  -1.30514214e+00 -2.09082165e+00 -3.70786055e-01 -2.73944172e-01\n",
      "   7.76484562e-01 -1.11997939e+00  1.27733659e+00 -2.40470124e-02\n",
      "   1.18540382e+00  4.10065115e-01  1.81091870e-01  2.41345888e-02\n",
      "  -7.04311341e-01 -8.30339987e-01  6.14936259e-01 -1.83425552e-01\n",
      "   9.27944256e-01 -2.74480286e-01 -1.62916462e-01 -1.63127355e+00\n",
      "  -1.39519017e+00  1.52915941e+00 -9.28625583e-02 -9.91311675e-01\n",
      "   2.44886426e+00  2.50906111e-01 -8.02992715e-01 -8.76053171e-01\n",
      "  -2.62624634e-01 -1.48703825e-02  4.73670997e-02 -1.02501518e+00\n",
      "  -1.48132868e+00 -2.65980505e-01  2.16422975e-01 -4.18778448e-01\n",
      "  -7.14001320e-01  3.57205942e-01  8.32595192e-01 -4.10685391e-01\n",
      "  -1.07173556e+00 -1.32857285e+00  4.20523663e-01 -5.52833548e-01\n",
      "   2.53060496e+00  1.40113712e+00  4.09518297e-02 -1.51229728e+00\n",
      "   1.28804674e+00  1.42627199e+00  1.36898189e-01  7.00603144e-01\n",
      "   5.25171192e-01  3.56334089e-01  9.33350544e-01  9.92069010e-01\n",
      "   1.00840301e+00  5.80535357e-01  7.60415031e-01 -1.83821054e-01\n",
      "  -8.77387904e-02  3.25366133e-01 -8.71456246e-02  4.76440222e-01\n",
      "  -3.42353357e-01 -5.66809611e-01 -7.77315338e-01  2.79866902e-01]\n",
      " [ 1.13188250e+00 -7.67999013e-01  1.81127551e+00  1.18370288e+00\n",
      "  -9.69804154e-01 -3.11077162e-01  9.08902518e-02  8.74578031e-01\n",
      "  -1.64070023e+00 -7.95742478e-01 -1.07667114e+00 -4.69429670e-01\n",
      "  -1.22022414e+00  9.77929425e-02  2.67801518e-01 -1.78514942e+00\n",
      "  -1.12549417e+00  5.82089909e-01  2.20797541e-01 -8.62540759e-01\n",
      "   8.56281791e-01 -5.87577680e-02  1.40345152e+00  1.60649362e+00\n",
      "   2.25621227e-01 -6.57012489e-01 -5.13855325e-01 -2.26243133e-01\n",
      "  -1.17371958e+00 -2.94701496e-01  1.25277105e+00 -2.77907113e-01\n",
      "  -1.05131820e-01 -5.47658552e-01 -9.25019249e-01  1.01611336e+00\n",
      "  -3.11594191e-01 -2.68630999e-01 -1.12028024e+00 -1.20549732e-02\n",
      "   1.33513616e+00 -7.03314178e-02 -4.38362431e-01  1.60356313e+00\n",
      "   1.31139871e+00 -2.31170861e-01  4.04306778e-01 -5.81450247e-01\n",
      "   3.01162868e-01 -1.10904968e+00 -1.60758696e+00  1.10672016e-01\n",
      "   6.91659950e-01  1.43350402e-01  1.03355107e+00  3.78322503e-01\n",
      "   9.57752941e-01 -7.05873248e-01 -2.28366013e-01 -9.42454155e-01\n",
      "  -9.38035579e-01  1.18538498e+00  2.44094498e+00 -1.44079120e-01\n",
      "  -6.82423666e-01  3.27551955e-01  1.06774075e+00 -1.06605875e+00\n",
      "   1.21241021e+00 -2.19591235e+00 -1.61695025e-01 -1.74639130e+00\n",
      "  -1.34808338e+00  6.22095403e-01 -4.63013233e-01 -1.50855567e+00\n",
      "  -2.68943539e-02  5.54742863e-01 -4.27754674e-01 -6.49363753e-03\n",
      "   3.73420918e-01  2.17714060e-01  9.78735224e-01 -6.65067156e-02\n",
      "  -1.47375651e+00  3.73968515e-01  1.02723627e+00  2.98443972e-01\n",
      "   1.09085786e+00 -7.96061824e-01  2.09564662e-01  2.53484030e-01\n",
      "  -1.40886090e+00  1.06677473e+00 -7.27188436e-01 -1.36479578e-01\n",
      "  -1.19374778e+00 -8.60285925e-03  5.54807978e-01  4.63442101e-01]\n",
      " [ 2.86890219e-01  3.11068900e-01 -1.55971450e+00  1.20826402e+00\n",
      "  -3.46308750e-01 -6.24728650e-01 -1.80141999e-01 -2.30054318e+00\n",
      "  -9.53639147e-01  4.23773410e-01  2.54724434e-01 -8.53482868e-01\n",
      "   1.74081958e-01  1.40654187e+00  1.07658053e+00 -1.21150962e+00\n",
      "   1.68030672e-01 -9.14664898e-01  1.17399606e+00 -1.19887363e+00\n",
      "   1.57018407e-01  1.45671687e+00  1.94308984e-01 -1.13190519e+00\n",
      "   3.66127106e-01 -2.72984201e-01  1.30645197e+00  1.27511826e+00\n",
      "  -3.32324380e-01 -9.83703929e-01 -3.65642013e-01  5.10843771e-03\n",
      "  -5.13600536e-02 -9.91726635e-01 -2.84682317e-01  2.27828268e+00\n",
      "   1.34813588e+00  5.59961724e-01 -2.74822443e-01 -1.14746712e+00\n",
      "  -5.64998996e-01  1.15072217e-01 -6.31033037e-02 -1.58389272e+00\n",
      "   1.03653750e+00  4.57274962e-01 -1.39746467e+00 -3.39178429e-01\n",
      "  -1.83383874e+00 -1.45764358e+00 -1.14838114e+00 -4.69821720e-01\n",
      "  -1.28792087e+00 -3.87795634e-01  3.82274234e-01 -1.14799372e-02\n",
      "   1.70800971e+00  4.94035365e-01  1.23119655e+00 -4.46582710e-01\n",
      "   5.42924799e-02 -4.76019369e-01  9.37128764e-01  2.88781417e-01\n",
      "   1.18733792e+00 -1.68962156e+00  5.93284362e-01  2.18072632e-02\n",
      "  -6.50034116e-01 -9.48224651e-01 -5.91805158e-01  7.59977600e-01\n",
      "  -1.14651335e-01  1.73155222e-01  1.66992107e+00 -1.07600654e+00\n",
      "  -4.22702733e-01 -1.46370492e+00  4.98125040e-01 -1.17164857e+00\n",
      "  -3.89554869e-01 -8.30201082e-01  1.54607400e+00 -5.48135713e-01\n",
      "  -7.98869818e-01 -1.05528123e+00  6.65097867e-01  1.78742791e+00\n",
      "  -8.84167321e-01  8.22376425e-01  8.21903298e-01  3.15612213e-01\n",
      "  -1.26070368e+00 -1.06599674e+00 -1.08055955e+00 -4.32742760e-01\n",
      "   1.63254415e+00  1.76895700e+00  1.34593165e+00 -8.66712072e-01]\n",
      " [ 3.53727649e-01  2.77924529e-02  1.61460258e+00 -1.81107201e+00\n",
      "  -1.21243648e+00 -1.60861164e-01  2.66782325e-01  2.46563120e-01\n",
      "   1.61458756e-01 -6.00912643e-02  3.09150936e-01  1.08670761e+00\n",
      "   3.25032646e-01  1.40674740e+00 -1.99411870e+00 -5.84416080e-01\n",
      "  -2.33155684e+00  9.55264891e-02  3.43917293e-01  1.65440977e+00\n",
      "   5.36277411e-02  2.41186772e-01  6.37663196e-01 -1.47200191e+00\n",
      "   4.37410873e-01  7.04048849e-01  2.57754265e+00 -4.06273093e-01\n",
      "   3.75773015e-02  2.30366914e-01 -1.56656437e+00 -1.48071264e+00\n",
      "  -6.77124299e-01 -5.76124310e-01 -3.26408893e-01 -7.06688660e-01\n",
      "  -4.98565222e-01  4.48669336e-01  1.11852751e-02  1.98094456e+00\n",
      "   1.70777942e+00  6.45284873e-01  2.83343311e-01 -7.88384184e-01\n",
      "   7.17285972e-01  1.00461398e+00  6.28819853e-04  1.03150675e-01\n",
      "  -2.00656516e+00  1.92227174e-01 -4.13973482e-01  1.24668319e+00\n",
      "  -1.13881079e-01  5.30150668e-01  8.31071719e-01 -1.80177186e+00\n",
      "  -2.12541375e+00  4.95101449e-01  2.30421670e+00  1.00370502e+00\n",
      "  -1.10581950e+00 -1.45508115e+00 -2.05918000e+00  5.96133219e-01\n",
      "   4.11670226e-01 -3.85411394e-01 -8.63114813e-01  1.52599609e+00\n",
      "  -1.58451886e+00  5.49618278e-01 -1.20787529e+00 -1.70528407e+00\n",
      "   3.84681193e-02 -1.33583793e-01  8.63097423e-01  1.56965732e+00\n",
      "  -6.56065020e-01 -6.00075906e-01 -8.16031927e-01  2.61051706e-01\n",
      "  -7.20525093e-01  8.36245531e-01  3.79713401e-01 -2.24277393e+00\n",
      "   4.42155901e-01  4.42303169e-01  2.96540471e-02 -1.64450592e+00\n",
      "   1.15862422e+00  1.17001597e+00 -4.02788770e-01 -1.17707151e+00\n",
      "   6.42849705e-01 -2.13759885e+00 -3.78717831e-01  9.07338806e-01\n",
      "   1.02457503e+00 -4.06166211e-01 -4.35622407e-01  1.18561793e+00]\n",
      " [ 6.02683880e-01  3.13584245e-01  5.19873748e-01  7.12742221e-01\n",
      "   4.30954360e-01  8.18281249e-01 -2.09063908e-01 -5.54497902e-01\n",
      "   2.09315670e+00 -3.77981440e-01 -1.00903833e+00  1.24122675e+00\n",
      "  -4.54568801e-01 -1.00060264e+00  1.80732568e+00 -4.04374186e-01\n",
      "   1.15603217e+00  9.38275282e-01  1.96323161e+00  2.39312534e-01\n",
      "  -5.71638312e-02  4.50475541e-01 -1.20405277e+00  8.55769028e-01\n",
      "   1.92313029e-01  5.23123601e-01  1.45221353e+00  7.12218561e-01\n",
      "  -2.15387639e+00 -1.94559008e+00 -1.07271334e-01  9.08744010e-02\n",
      "   7.13290922e-01  1.93659581e+00 -4.01683377e-01  1.57045480e+00\n",
      "   3.04175176e-01  4.84677959e-01  2.09907697e-01 -2.94951223e+00\n",
      "   1.62589589e+00 -6.83028652e-01 -1.03958914e-03 -8.71508027e-01\n",
      "   3.91510649e-01 -8.48318720e-01  1.38579451e-01  8.92747081e-01\n",
      "  -1.05800855e-01 -1.44670639e+00 -1.22277746e+00 -1.08041345e+00\n",
      "  -4.67902555e-01 -1.53479111e-01 -5.55946203e-01  6.43709596e-01\n",
      "   3.56922980e-01 -1.24715930e+00 -1.03097022e-01 -1.67614134e+00\n",
      "  -2.57971971e-01 -5.25862223e-01 -1.37817814e+00  6.18029890e-01\n",
      "  -1.04216115e+00  6.57155216e-01  2.39539077e+00  1.44715496e+00\n",
      "  -5.34373103e-01  1.45734714e+00 -5.78310081e-01  6.15027298e-01\n",
      "   3.84417630e-01 -8.37260013e-01  9.44194937e-01  2.09638178e+00\n",
      "   1.33927354e+00 -3.24606152e-01 -5.51050053e-01  1.00660083e-01\n",
      "   3.87951755e-01  1.15192886e+00  4.54544443e-01 -1.20207231e+00\n",
      "   1.66419559e+00 -6.13588741e-01 -8.60132101e-02 -6.41000701e-02\n",
      "   2.37082019e-01 -7.87578209e-01 -4.22032463e-01  2.31047618e-01\n",
      "   1.95472659e-01 -8.41225778e-01  2.60966994e-01 -1.07532099e-01\n",
      "  -4.41088516e-01 -7.02651409e-03  1.80485631e+00 -7.27767789e-01]\n",
      " [-7.61510770e-01 -5.36403979e-01  3.63164627e-01  1.69411891e+00\n",
      "  -4.29968426e-01 -7.15020919e-01  1.37321144e+00  2.17659356e-01\n",
      "   1.08581333e-01  1.50985400e+00 -7.01564673e-01 -4.81301635e-01\n",
      "  -8.52579185e-01  2.10210660e+00 -2.30200346e+00  1.01314977e+00\n",
      "   7.78437466e-01  1.68146435e-01  1.01254801e+00  6.19704306e-01\n",
      "  -4.08219265e-01 -4.36510924e-01  1.12062178e+00 -1.37556024e+00\n",
      "  -1.60009644e+00  1.19955367e+00 -1.29487157e+00 -2.24003114e+00\n",
      "   7.20786001e-01 -1.07367116e+00  1.15168145e+00 -1.29708718e-01\n",
      "   1.32471519e+00  9.92201783e-01  3.17586141e-01  8.87924399e-01\n",
      "  -1.46470794e+00 -7.80084871e-01 -1.18891972e+00 -5.92438029e-01\n",
      "   1.66812420e-01 -2.07904476e+00  1.15555274e+00 -4.48950388e-01\n",
      "  -6.82456368e-01 -3.14951499e-01  3.53727885e-01  1.11436828e+00\n",
      "   2.13319910e-01  4.32131879e-01 -1.56000092e+00  2.80857626e-01\n",
      "   2.96720047e+00 -5.29448032e-01 -2.79778443e+00 -6.05412487e-02\n",
      "   7.56747365e-01  4.66918530e-01 -2.09136441e+00  4.52144675e-01\n",
      "  -9.18643849e-01 -6.39723074e-01  6.31046479e-01 -4.80776099e-01\n",
      "  -1.88005915e+00 -1.26960041e+00  7.06596541e-02 -1.01785188e+00\n",
      "  -2.92512614e+00 -4.98461826e-01 -6.92299043e-01 -2.46709713e+00\n",
      "  -1.65399135e-01 -4.89662402e-01 -8.71383250e-01  1.19992497e+00\n",
      "   3.37264172e-01  9.33885652e-01  9.99201599e-01 -1.03882390e-01\n",
      "   6.68885125e-01  2.22232650e+00  5.68403168e-01 -8.61419508e-04\n",
      "   4.15186977e-01  1.27979673e+00 -2.90168608e-01 -8.51331263e-02\n",
      "   3.45640651e-01 -4.72694795e-01  1.65016371e+00 -3.42492006e-02\n",
      "  -4.60763619e-01  1.28681702e+00 -7.25726847e-02 -4.46282549e-01\n",
      "   8.02108645e-01 -4.66304372e-03 -1.13255385e+00 -4.04796255e-02]\n",
      " [ 1.04301360e-01 -1.11843387e+00 -4.87907987e-01 -4.67242240e-01\n",
      "  -1.81549420e+00 -5.10620379e-02  5.87919640e-01 -4.55221513e-01\n",
      "   9.44806367e-01 -1.65308418e+00 -1.10919054e-01  4.18889088e-01\n",
      "   7.87697495e-01 -4.91635511e-01  3.38845656e-01 -2.52075380e-01\n",
      "   2.43044729e-01  5.79289113e-02  8.75447372e-01 -6.44737290e-01\n",
      "  -1.47843461e-01 -3.67489558e-01  1.05714114e+00  5.11097785e-01\n",
      "  -1.28375882e+00  8.51953170e-01  1.37764791e-04 -2.21223219e-01\n",
      "  -2.46343783e-01 -2.48680490e-01 -1.07239518e+00 -1.87414227e+00\n",
      "   1.62850765e-01  1.40398074e-02  4.72876660e-01 -1.15914255e-01\n",
      "  -7.84755019e-01 -7.25209741e-01 -1.05688431e+00  2.00615416e+00\n",
      "  -1.25466498e+00 -4.45882134e-01 -7.64263701e-01 -3.71919252e-01\n",
      "   3.93439504e-01 -2.43623076e+00  2.09668798e+00 -2.79272321e-01\n",
      "   1.02866086e+00  9.12182097e-01  5.48897423e-01 -5.92334749e-01\n",
      "   1.34506752e+00 -4.78645558e-01 -1.59673622e+00 -8.41279299e-01\n",
      "   1.12122536e+00  6.31628128e-02 -1.44705478e+00 -2.01366573e-01\n",
      "   1.50513464e+00 -4.52097460e-01  1.36423111e-01 -4.44223491e-01\n",
      "  -1.08615027e+00  6.86219225e-01  1.76519681e+00  8.78611507e-01\n",
      "  -5.19007929e-01 -2.94799524e-01 -3.07811689e+00 -1.12677954e+00\n",
      "  -2.58600218e+00  1.35952834e+00 -2.76413229e-01  2.91274398e-01\n",
      "  -3.22215665e-02  8.14519543e-02 -2.09954771e+00 -2.57794137e-01\n",
      "   1.91230110e+00 -4.09890321e-01 -5.62445946e-01  1.00644322e+00\n",
      "   1.13680493e+00 -4.66888441e-01 -7.20309178e-01  1.07018008e+00\n",
      "   1.17223133e+00  5.31712893e-01 -2.16651048e+00  4.38312311e-01\n",
      "  -1.98233488e-01 -7.63702122e-01 -6.35964003e-01  9.18968995e-01\n",
      "  -7.25238926e-01  1.75160181e-01  1.38915209e-01  1.16738273e+00]\n",
      " [ 1.11827909e+00  5.93878170e-02 -3.56632987e-01  5.70262001e-02\n",
      "  -7.55084600e-02 -1.16408998e+00  3.07499744e-01  2.62899480e+00\n",
      "   1.56424030e+00 -1.70374048e+00  3.60278129e-01  6.54788753e-01\n",
      "   8.24596829e-01 -1.16927761e+00  1.32407786e+00 -3.68246898e-01\n",
      "  -3.39846696e-01  2.30067801e-01  5.06981988e-01  1.40283989e+00\n",
      "   3.42704195e+00 -5.02551738e-02  5.82317462e-01 -1.34095065e+00\n",
      "  -7.64712117e-01  1.66317000e+00 -2.42292746e-01 -8.59586764e-01\n",
      "   3.00211033e-01 -3.62147990e-01 -6.24939464e-01 -2.09928007e-01\n",
      "   1.21714489e+00  1.03478889e-01  5.30737977e-02 -5.35580417e-02\n",
      "   1.31258839e-02  5.36228359e-03  1.63386988e+00 -2.66628045e+00\n",
      "  -4.02144932e-01 -1.11092919e+00  1.39587574e-01 -6.77710318e-02\n",
      "   1.89557515e-01  9.98472744e-02  2.38262311e-01  8.32390457e-01\n",
      "   4.72442127e-01 -5.12960301e-01 -2.03242039e-01 -9.75858616e-01\n",
      "   1.38441103e+00  9.59598752e-01  2.42721164e-01  8.52737523e-01\n",
      "   3.18718483e-01  2.52969092e+00  4.28744482e-01 -9.66599521e-01\n",
      "  -1.40554955e-01  1.58838648e+00  8.46081165e-01  3.75454658e-01\n",
      "   8.65349648e-01  1.60659799e+00 -8.62900862e-01 -1.62072675e-01\n",
      "   9.87682091e-01  7.76053124e-01 -2.16408539e+00 -2.46501033e+00\n",
      "   1.29822871e-01 -3.66726815e-01 -2.37700785e-01  1.44685422e+00\n",
      "   1.26213963e+00  9.47582707e-01 -1.87768216e+00  5.56703487e-01\n",
      "  -7.17453603e-02 -1.98701415e-01 -1.73601891e+00  2.63565722e-02\n",
      "  -5.93430057e-01  6.30248300e-01  8.26725842e-02  1.64862562e+00\n",
      "   9.37396846e-01 -1.95279574e+00  2.09962144e-01  4.51668623e-01\n",
      "  -2.57935512e-01 -8.69710702e-01 -5.64332472e-02  8.60320402e-02\n",
      "   1.42980537e+00  1.40841904e+00 -2.53486673e+00 -2.98260857e-01]\n",
      " [-5.82233887e-01 -1.07458954e+00  8.73205050e-01 -1.16335500e-01\n",
      "  -3.43437881e-01 -1.40628171e-01 -4.40688886e-01 -1.51303093e-01\n",
      "  -2.12593772e-01  1.81352943e+00  2.82148973e-02 -3.07447879e-01\n",
      "   2.78251285e-01  1.45715049e+00 -1.72401040e+00  1.15979511e+00\n",
      "  -6.76668758e-01  2.16450436e-01 -1.87879430e+00  8.52163345e-01\n",
      "  -4.92856032e-02 -6.73780178e-01  2.51480654e+00 -2.58033072e-01\n",
      "   2.43361181e-01 -4.95053889e-01  2.52712492e-01  9.78489648e-01\n",
      "  -6.85830014e-01 -1.24556643e+00  8.89226170e-01 -5.70027890e-01\n",
      "   1.54679977e+00  6.87175142e-01 -1.37802598e+00 -8.81844552e-01\n",
      "  -1.95550110e-01 -1.51009909e+00 -4.38786729e-01  9.87282479e-01\n",
      "   6.94072663e-01 -3.52465315e-01 -8.13000947e-01 -3.47195840e-02\n",
      "  -1.78783514e+00 -1.26642963e+00  1.24491490e+00  6.50525631e-01\n",
      "  -8.27705605e-01 -3.04365664e-01 -2.37984204e-01 -8.49879596e-01\n",
      "  -1.21995743e+00 -6.51558699e-01 -1.16424125e+00 -3.83660448e-01\n",
      "   1.78631544e+00  7.95399716e-01  4.15818115e-01 -1.93245314e+00\n",
      "  -3.32707857e-01  1.54830184e+00  5.58000727e-01 -1.67280051e+00\n",
      "   4.66603444e-01 -6.77791583e-01 -1.13674641e+00 -2.41128578e+00\n",
      "   8.62015983e-01  6.64646430e-02  1.38822945e-01 -4.59000313e-01\n",
      "   4.50551511e-01 -1.84034580e+00 -9.80206830e-01 -8.63217683e-01\n",
      "   7.32079431e-01  1.24784370e-01 -1.02337436e+00 -1.51285821e+00\n",
      "  -1.31065330e+00  3.88156610e-01 -1.13708033e+00  2.63826383e-01\n",
      "  -6.43302896e-01 -7.11146424e-01  5.48198899e-01  9.57742903e-01\n",
      "  -7.90688750e-01 -2.57178855e+00 -9.48535986e-01  1.27040133e+00\n",
      "   6.60327702e-01  6.45702298e-01 -1.97632683e+00  1.71211567e+00\n",
      "   5.85075575e-01  2.51568604e+00 -9.30445167e-01 -7.58739286e-01]\n",
      " [ 7.51789745e-01 -1.78052553e+00 -1.80763648e-01 -8.47553749e-02\n",
      "   2.28904770e-01  7.90853075e-01 -2.30513273e-01 -9.51094435e-01\n",
      "   6.76258799e-01 -1.04652459e+00 -6.78581095e-02 -2.77961831e+00\n",
      "   1.31122894e+00  1.91461092e-01 -6.29204033e-01  6.92190398e-01\n",
      "  -1.06604335e+00 -1.33957216e-01  1.24176967e+00 -2.77469327e-01\n",
      "   1.38604840e+00  1.74869511e+00 -4.25254728e-01 -5.13907673e-01\n",
      "  -1.20351625e+00 -3.46996250e-01 -2.00050545e+00 -1.81432157e+00\n",
      "   4.06446321e-02  3.12897055e-01  7.17411672e-01  1.23473685e+00\n",
      "  -9.06866049e-01  1.88889581e-01 -2.57711878e+00  3.95459983e-01\n",
      "  -1.46403913e-01  5.10829975e-01 -5.21376955e-01  1.50181643e+00\n",
      "   1.63571641e-02 -3.54576217e-01 -1.05301923e-01  8.20257851e-01\n",
      "   1.81619200e+00 -2.62550503e-01 -1.77796734e+00 -2.19724149e-01\n",
      "   2.39398399e+00  3.39692650e-02  1.16604464e+00  6.97641373e-01\n",
      "   4.36198406e-01 -1.18756313e-01  1.70695658e-01 -2.05818955e+00\n",
      "   8.24481153e-01 -7.90912706e-01 -2.29827282e+00 -3.33217786e+00\n",
      "   2.24417449e+00 -8.72371472e-01 -3.31551390e+00  1.21474455e-01\n",
      "  -1.90146713e-01 -1.25066430e-01  6.09233199e-01  1.58610793e+00\n",
      "   1.38642438e+00  4.37489055e-01  6.89572604e-01 -1.14113960e+00\n",
      "  -2.10986485e-01  1.28196178e-01  6.16993091e-01  5.05277444e-01\n",
      "  -1.62650997e+00 -9.84408676e-01 -2.77387617e-01  3.81994065e-02\n",
      "  -2.33974060e+00 -6.31066437e-01  3.19002740e-01 -1.66268649e-01\n",
      "   1.59144911e+00 -1.60697220e+00  1.17561150e+00 -4.72932410e-01\n",
      "   3.99444775e-01  2.06904669e-01  2.04251150e+00  4.64398457e-01\n",
      "   1.09507224e+00 -1.76776967e+00  1.50032551e+00 -1.34693440e+00\n",
      "   6.64040088e-01 -4.09401249e-01  9.44764808e-02  9.28445740e-02]\n",
      " [ 9.34186120e-01 -2.19021143e+00  1.64383124e+00 -7.82989133e-02\n",
      "   3.58378492e-01 -5.96036825e-01 -9.20454944e-01 -2.20919097e-01\n",
      "  -1.82337861e+00 -9.43808078e-01  2.80798110e-02  6.64159064e-01\n",
      "  -3.54258426e-01  1.44260476e+00  7.92554793e-01  2.24693371e+00\n",
      "  -3.11366309e-01  8.68645091e-01 -1.83588387e+00  9.17517087e-01\n",
      "   1.10396100e-01 -1.72354264e+00 -1.75495193e-01  6.09587935e-01\n",
      "  -3.29643919e-01 -1.28909460e+00  7.98489723e-02  6.50298778e-01\n",
      "   3.69102390e-01  6.53990712e-01 -5.05549864e-01 -9.59769553e-01\n",
      "   2.36345933e+00  8.55775289e-01 -6.20379440e-01 -1.82578634e-01\n",
      "   7.53807376e-01  5.54896423e-01  1.22720824e-01 -9.64334566e-01\n",
      "   1.09640601e-01 -1.45916766e+00  1.77855829e+00  2.71570994e-01\n",
      "  -2.61426749e-01 -3.03513931e-01 -2.21074924e-01  2.53078832e-01\n",
      "   2.55417602e+00 -1.79514288e-01 -6.38478751e-01  3.18299618e+00\n",
      "   5.07761371e-01  1.22584214e+00 -1.99554590e+00  6.51004905e-01\n",
      "  -1.35280694e+00 -1.81707788e+00  1.17861766e-01  7.04541026e-01\n",
      "   4.71648867e-01 -1.64624905e-01  1.05129005e+00  1.57714388e+00\n",
      "   8.80189230e-01 -7.97565467e-01  2.87674990e-01  1.15229463e-01\n",
      "   9.59458901e-01 -7.12928223e-01 -1.73903865e-01 -5.29537699e-01\n",
      "   1.01227439e+00 -1.30066656e+00 -1.34302399e+00 -6.62213746e-01\n",
      "  -8.17057590e-01  3.72643667e-01  8.54202260e-01 -1.65522151e-01\n",
      "   5.59655946e-01  3.08337210e-01 -1.27649070e-01 -1.25077153e+00\n",
      "  -1.45163813e+00 -1.12803256e+00 -9.24240918e-01  1.19309824e+00\n",
      "  -4.15970790e-01  2.46524754e+00  2.44919754e+00  4.19523780e-01\n",
      "   7.47001487e-01  1.30475819e-01  4.52266225e-02  5.15070708e-01\n",
      "   1.75019843e+00 -7.76708403e-01 -7.15397037e-02  1.00857539e+00]\n",
      " [ 1.47639952e+00  5.43815643e-02 -8.86030278e-01 -1.06830441e+00\n",
      "  -7.22826662e-02 -1.04401923e+00  2.07045597e-01 -5.73851230e-01\n",
      "  -5.03380196e-01 -2.88083087e-01 -2.57198120e-01  4.74121490e-01\n",
      "  -6.29467673e-01 -5.83606881e-01  1.13793030e+00  6.55320953e-01\n",
      "   1.44345740e+00  7.30563478e-01 -6.95017286e-01  1.50592360e+00\n",
      "   1.25907229e+00  5.84015981e-01  8.75476152e-01  5.55125838e-01\n",
      "  -1.10711985e+00 -4.96960581e-01  1.31785004e+00 -1.66479913e+00\n",
      "  -2.70445061e-01  1.87738080e+00  1.89389601e-01  2.00498904e+00\n",
      "  -1.06276099e+00 -5.31011496e-01 -2.78289550e-01  7.05746439e-01\n",
      "   2.26677168e-01  4.76623968e-01  6.93564248e-01 -4.60685486e-01\n",
      "   1.45732148e+00 -9.63900300e-01  1.65045361e+00  1.65180882e+00\n",
      "   9.66409775e-01  8.03013100e-01  5.34874899e-01 -1.34509526e-01\n",
      "   9.27034170e-02 -1.21177852e+00  1.67014203e+00 -1.15028174e+00\n",
      "   7.89107116e-01  1.83824507e+00 -8.57985058e-01  1.62636276e+00\n",
      "  -6.63464275e-01 -8.02810398e-01 -1.85089319e+00  2.46770796e-01\n",
      "  -7.18433160e-01 -1.75685956e-01  9.18636364e-01 -1.16039149e+00\n",
      "   1.47735087e+00 -1.40660218e+00 -7.24557918e-01  2.21665648e+00\n",
      "   1.54535524e+00  2.88429718e-02  1.20449185e+00  2.01155493e-01\n",
      "   7.65814178e-01 -9.01062689e-01  1.63500070e+00  1.94591004e+00\n",
      "  -1.33423524e-01  3.98955792e-02  1.21197705e-02  4.29333553e-01\n",
      "   3.65522530e-01 -6.09907551e-01 -8.63313053e-01 -8.32223557e-01\n",
      "   5.86047060e-01 -5.08373914e-01  1.54845259e+00  7.84131368e-01\n",
      "  -1.52807794e-01 -7.25006124e-02 -2.68485127e-01  1.48089470e+00\n",
      "  -6.08926326e-01  2.37803993e-01 -3.94097173e-01  2.35716582e-01\n",
      "   1.71973366e+00 -1.15427008e+00 -8.87626102e-01  6.40750221e-01]\n",
      " [ 2.25594235e+00 -2.07787102e+00  1.11405876e+00  3.59259232e-01\n",
      "  -8.79425040e-01  1.58720635e+00  1.88975444e-01 -2.65707437e+00\n",
      "   2.03959800e-01 -4.22480373e-01 -1.46312510e+00  1.17452040e+00\n",
      "  -1.07187087e+00  8.04159413e-01  1.92445410e+00  6.00980749e-01\n",
      "   4.42444122e-01 -3.33891450e-02  7.41917189e-01  1.16501404e+00\n",
      "  -6.90861515e-01  1.60229107e+00 -1.24710453e-01 -6.91420093e-02\n",
      "   5.26928756e-01  4.16507092e-01  8.31076061e-01 -2.61740354e-01\n",
      "  -2.10464809e+00  2.96109379e-01 -1.32403842e+00  4.77507672e-02\n",
      "   3.92843828e-01  6.35814791e-01 -3.47777320e-01 -1.31473650e+00\n",
      "   6.87554082e-01  6.90844791e-02  3.39588466e-02 -2.42822492e+00\n",
      "   1.02790476e+00 -8.10868735e-02  8.16022839e-01 -9.49385830e-01\n",
      "  -1.63845162e+00  4.98507650e-01 -1.72961871e-01  1.08525038e-01\n",
      "  -1.00025313e+00 -6.81586804e-02 -1.59366178e-01 -2.85563995e-01\n",
      "  -1.07018927e+00  5.30903785e-01  2.10467929e+00  6.87310879e-01\n",
      "  -5.12966357e-01 -5.56957658e-01  9.72112609e-03  2.16835800e+00\n",
      "   1.14702528e+00  2.62748017e-01  9.00032751e-01 -1.07030730e+00\n",
      "  -1.94707712e+00 -4.10563313e-01  2.19591603e-01  1.38098619e+00\n",
      "  -1.29321296e+00 -3.39749042e-01  2.32423716e-01  1.48246877e-01\n",
      "  -9.00873262e-01 -1.47818677e+00  1.21610678e-02 -1.50721809e+00\n",
      "   4.43369413e-01 -3.43018033e-01  1.36381318e+00  4.67759746e-01\n",
      "   1.23689333e+00  8.87593366e-01  3.45370088e-01  7.01279110e-01\n",
      "  -9.90519303e-01  8.90736374e-01  1.06328793e+00 -1.31016456e+00\n",
      "  -1.58277435e+00 -4.51830641e-02  9.63327102e-01  1.95152587e-01\n",
      "   8.20961465e-01 -2.90937155e-01 -1.80460286e+00 -1.81635393e-01\n",
      "  -2.25061191e+00  1.45484533e+00  7.29784587e-01  4.13384088e-01]\n",
      " [ 5.76457351e-01 -4.24281652e-01 -2.93603915e-01  5.74623167e-01\n",
      "   4.10415408e-01  1.41849292e+00 -1.93259457e-01  2.67454450e-01\n",
      "   6.81365326e-01 -1.16735174e+00 -4.91332234e-01 -2.48641802e-02\n",
      "  -1.15431309e+00 -1.94858942e-01  4.49441319e-01  1.13039918e-01\n",
      "   1.71353512e+00  7.10088155e-01  1.39492045e+00  9.25555926e-01\n",
      "   1.71507907e+00 -5.61619231e-01  7.60185637e-01 -5.43237061e-01\n",
      "  -1.06259143e+00  2.15629605e+00 -7.55791528e-01  6.28440543e-01\n",
      "   3.95621935e-02 -5.78121007e-01 -6.46997985e-01  2.14075277e-01\n",
      "  -1.20243406e+00 -6.30313842e-01  1.75396687e+00  1.00904877e+00\n",
      "   7.96068423e-02  1.06276113e+00 -4.56129858e-01 -2.17616719e+00\n",
      "  -1.97785116e+00 -1.22784089e-01 -4.31326059e-01  7.80873232e-02\n",
      "   6.05656046e-01 -5.50921722e-02 -4.26186084e-01 -1.01401993e+00\n",
      "  -2.63913511e-01  1.89870296e+00 -2.43834701e+00  4.49174754e-01\n",
      "  -3.12016835e-01  6.64369082e-01 -7.16834652e-01  5.30338093e-01\n",
      "   2.70882937e-02 -4.14132046e-01 -1.31287912e-01  6.90701485e-01\n",
      "   2.99926128e-02  2.06017323e-01  1.14006024e+00 -1.23037270e+00\n",
      "   1.00631561e+00 -2.46177123e-01 -7.02481422e-01  4.91265458e-01\n",
      "  -6.85301895e-01 -8.54157708e-01  5.53260230e-01 -7.17425270e-01\n",
      "  -1.15669322e+00 -6.09316064e-01  1.40065109e-01 -1.17185703e+00\n",
      "   7.04680101e-01 -4.22280811e-01 -6.60287409e-01  1.24618212e+00\n",
      "   8.27055823e-02 -4.39498397e-02  5.34031999e-02  4.25323847e-01\n",
      "  -4.54582734e-01 -6.16588113e-02  9.91403992e-01 -3.90150821e-01\n",
      "   9.59015581e-01  9.79655610e-01 -9.73220878e-01 -3.11056331e-01\n",
      "   1.03278736e-01 -3.73035335e-01  5.97631143e-01 -1.21804307e+00\n",
      "  -8.07061258e-01  9.37699211e-01  6.34379047e-01 -9.53705704e-01]\n",
      " [-1.90186289e+00 -4.45874177e-01 -1.96358734e+00  9.49711864e-01\n",
      "   1.17792521e+00  2.81674112e-01  1.74565600e-01  4.42235652e-01\n",
      "  -1.13567911e+00 -1.21119821e+00 -7.38887009e-02 -7.77952806e-01\n",
      "   4.56359003e-01 -1.66043290e-03 -1.23945118e+00  3.53071296e-01\n",
      "  -5.49584872e-01 -6.98327495e-01 -3.67476120e-02 -1.36852915e+00\n",
      "   1.12299452e+00  3.71168879e-01 -2.31784272e-01  2.52186625e-01\n",
      "   4.32052522e-01 -1.58679795e+00  3.20608889e-01 -1.26540882e+00\n",
      "  -4.18486855e-01 -8.57709960e-01  4.93560865e-01 -2.80130765e-01\n",
      "   3.40917806e-01  2.36305815e-01 -2.37353814e+00 -8.36905483e-02\n",
      "  -8.56228995e-01  3.67994919e-01  8.20919015e-02  1.03055632e+00\n",
      "  -1.08956359e+00  3.60181153e-01  1.11760555e+00  4.32216103e-02\n",
      "   7.05593392e-01 -1.55944844e+00  1.67134669e-01  1.08074594e-02\n",
      "  -2.79284131e-01  1.18100490e+00 -7.62700524e-01 -1.30487652e+00\n",
      "   8.60440560e-01  2.63120434e+00 -4.75661844e-02  3.70064321e-01\n",
      "  -1.07920019e+00 -1.47879609e+00  3.68690192e-01  2.69633493e+00\n",
      "  -9.50580714e-02 -1.04910671e+00 -7.40158792e-01  1.08467738e+00\n",
      "  -1.32134901e+00  7.94348232e-01 -5.24851633e-01 -1.94523123e+00\n",
      "  -1.08833268e-01  1.28237934e+00  1.07907151e+00  1.06876450e+00\n",
      "  -3.56704135e+00 -5.46722583e-01 -8.29245718e-01  1.46426375e-01\n",
      "   1.39110394e+00  2.93512900e-01  1.46139363e+00  6.85093984e-02\n",
      "  -1.91740941e-01 -2.91256327e-01 -4.12749188e-01 -9.18535000e-01\n",
      "  -3.36025879e-01 -8.20938003e-02  1.20532565e-01 -9.06123450e-01\n",
      "  -1.36919001e-01  7.46409577e-01 -2.07826300e-01  2.30807686e-01\n",
      "   1.83163892e+00 -3.85095892e-01 -4.58178736e-01  1.54203497e+00\n",
      "  -1.35159351e+00 -1.07731319e+00  1.10299586e+00  5.99216915e-01]\n",
      " [-2.01670164e+00  1.02353012e+00 -2.92471154e-01  2.58240271e-01\n",
      "  -1.61541740e+00 -5.94598379e-01  4.19017215e-01  6.44094187e-01\n",
      "  -3.61896953e-02 -1.85967473e+00 -2.71446551e-01 -1.99469694e-01\n",
      "   7.48692778e-01 -6.37161227e-01 -7.02771023e-01  1.20537166e+00\n",
      "   1.71093466e+00 -1.22374073e+00 -1.30487975e-01  1.07001526e+00\n",
      "  -1.58651306e+00 -2.14628661e+00  1.14419810e+00 -1.46112171e+00\n",
      "   7.80283041e-01 -1.54059391e+00 -7.23519165e-01 -1.40267765e+00\n",
      "   1.16977300e+00  3.16211144e-01  3.42336496e-01  9.82525982e-01\n",
      "   4.47926789e-01 -1.09904054e+00  1.50616142e+00  1.38207337e+00\n",
      "  -1.55875262e+00 -8.91087137e-01 -4.89013409e-01 -1.20306921e+00\n",
      "  -9.22500831e-01  1.16616039e+00 -9.82442970e-01  5.20432436e-01\n",
      "  -6.10956066e-01  8.83619295e-01 -6.45955346e-01 -6.94526474e-01\n",
      "  -5.48213723e-01 -1.86261439e+00 -1.72949606e+00  1.29490387e+00\n",
      "   1.23930264e+00  1.69782623e+00 -3.42020689e-01  4.28456404e-01\n",
      "  -6.40542115e-01 -8.52977688e-01 -2.58992904e-01  1.90748425e+00\n",
      "   1.18402259e+00  1.39841877e+00  3.61895518e-01  1.22357422e+00\n",
      "  -5.64989162e-01  2.65116148e-01 -1.38337308e+00  8.82045853e-02\n",
      "  -1.08022554e-01 -9.89186485e-01 -1.47872000e+00 -2.88505889e-01\n",
      "   1.87824464e-01  2.88061952e-01  9.63410528e-01  3.28553204e-01\n",
      "   4.46212576e-02 -7.12650434e-01  2.54995038e-01 -1.38488881e-01\n",
      "  -4.43987264e-01  3.52060560e-02 -1.94017638e-01  7.13803224e-01\n",
      "   1.22595108e-01  4.69246246e-01 -6.98444852e-01 -2.41645927e-01\n",
      "   1.73048011e-01  1.80849666e-01 -8.25923154e-01 -7.47036210e-01\n",
      "  -2.04993524e-02 -1.00642382e+00  4.23755729e-01  2.12846929e+00\n",
      "  -6.57390267e-01 -1.10789581e+00  2.98129614e-02  6.01536309e-01]\n",
      " [-3.83471639e-01 -1.11171339e+00  2.25421581e+00  2.20340913e-01\n",
      "   2.19562961e+00  5.05092057e-01  1.05321038e+00 -6.71995002e-01\n",
      "   8.95669174e-01 -7.73510005e-01  4.76950179e-01 -2.02076933e-01\n",
      "   3.61077306e-01  8.53060483e-02 -1.82069498e-01  8.01755494e-01\n",
      "   6.15429526e-01 -1.04450810e-01  4.67340213e-01 -6.12182531e-01\n",
      "  -2.21486587e-01 -6.67843287e-01  1.00333968e+00  1.75281823e-01\n",
      "  -5.40914885e-01  2.86911273e-01  3.91672858e-01  1.14567308e-01\n",
      "   1.07128977e-01  2.48026422e-01 -1.86654111e-01 -1.09117990e+00\n",
      "   9.30188412e-01 -4.04402845e-01 -4.02929290e-01 -4.77573311e-01\n",
      "   8.76077283e-01  1.91760083e-01  6.20073357e-01  5.49012326e-01\n",
      "  -4.41001022e-01  2.05131642e+00 -4.05058595e-01 -1.49681589e-01\n",
      "  -8.79134114e-01  6.65879943e-01 -1.32782704e+00  3.00952164e-01\n",
      "  -2.96095481e+00  1.71030882e+00 -3.25192845e-01  4.58369068e-01\n",
      "  -8.95618480e-01  1.77428731e+00 -1.16050796e+00 -1.06475799e-01\n",
      "  -1.15099619e+00 -3.34310656e-01  2.05815990e+00 -1.83727260e-02\n",
      "   1.08677050e+00  2.29617820e+00  1.88487583e-01 -2.97163264e+00\n",
      "  -1.78143938e+00  1.55784005e-01 -5.43679241e-01 -5.09672377e-01\n",
      "   3.35098079e-01 -5.24324567e-01  5.44518226e-01  4.32743686e-01\n",
      "  -5.36879220e-01 -1.44073086e+00 -2.11309117e-01  1.47298602e+00\n",
      "  -2.91971066e-01  6.50526842e-01 -1.63693452e-01  2.05815229e-01\n",
      "  -7.28998503e-01 -5.50301431e-01  5.39867515e-01 -3.61990793e-01\n",
      "  -4.60955987e-01  2.72063428e-01 -1.22758614e+00  1.14494159e+00\n",
      "   2.04044344e-01  1.81411077e+00  1.35921024e+00  9.96581130e-01\n",
      "  -8.74853511e-01  5.11605767e-01 -2.01626619e-01  1.15996971e-01\n",
      "   2.38133384e-01 -1.27521015e+00 -1.09061876e+00 -4.22504946e-01]\n",
      " [-2.04386977e+00 -1.34430987e-01 -4.35339864e-02  1.26770156e-01\n",
      "   8.98213915e-01  2.33819903e+00 -3.91778269e-01  2.62816989e-01\n",
      "   2.07256956e+00  7.85676242e-01 -1.07606235e+00 -3.52655950e-01\n",
      "  -7.02847915e-01  6.91658722e-01 -4.50436785e-01  8.13632308e-03\n",
      "  -8.22633569e-03 -8.21502104e-01  1.11748515e+00 -1.02986255e+00\n",
      "  -1.44167227e+00 -1.60992722e+00 -1.28492361e-01 -1.07358231e+00\n",
      "  -1.22989894e+00  1.22324055e-01 -3.43459104e-01  4.00960538e-01\n",
      "  -2.08204790e-01  7.88479431e-01  4.83426184e-01  3.47913918e-01\n",
      "  -1.54639100e+00 -1.20728130e-01 -6.30194084e-01 -2.82602283e-01\n",
      "  -7.07550113e-01  9.11598412e-01 -1.85538835e+00  2.48256402e-01\n",
      "   1.10094310e+00  1.76871174e+00 -2.88392957e-01 -1.42609471e+00\n",
      "  -5.87250854e-01 -4.09890624e-01 -1.44961256e+00  2.16920472e+00\n",
      "  -4.36826989e-02 -3.60409466e-01  3.21585979e-01 -5.94832945e-02\n",
      "  -3.41951842e-01  2.52693730e-02  1.69846272e-01  3.17310186e+00\n",
      "   2.92314880e-01  2.64059111e+00 -2.91854444e+00 -9.10199272e-01\n",
      "  -4.82674977e-01 -7.82006486e-02 -2.10459665e-01  1.74456417e+00\n",
      "  -4.17539995e-01 -1.88422986e+00 -1.41235319e-01 -1.75361937e+00\n",
      "   5.41010645e-01 -4.34151720e-02 -1.68207039e+00  1.17325442e+00\n",
      "  -2.56130513e-01  2.21020474e+00  3.75585453e-01  4.90035822e-01\n",
      "   1.21926327e+00  1.30229025e+00 -8.21293274e-01  1.67996867e+00\n",
      "  -7.95287363e-01  5.32055148e-01 -2.63603119e-01 -1.09523940e+00\n",
      "   2.06363728e-02 -1.24660703e+00  2.68833344e-02  1.39084891e+00\n",
      "  -8.55814464e-01  2.00399823e+00  5.90526163e-01 -1.54075420e+00\n",
      "   5.63994083e-01 -4.05024759e-01  2.09251767e-01  1.17500101e+00\n",
      "   4.04689276e-01  1.81428323e-01 -6.79899187e-01 -2.00306109e+00]\n",
      " [ 1.07014411e-02 -1.33331320e+00  1.52948695e-01  7.65985040e-02\n",
      "  -1.54053472e+00 -2.47564175e+00  6.92626847e-01 -6.83657709e-01\n",
      "  -1.47836719e+00  4.64488650e-01 -1.21835131e+00  9.21853886e-01\n",
      "  -1.01810158e+00 -4.79658464e-01 -5.20492024e-01  8.43937372e-01\n",
      "   7.01106797e-02 -3.06588476e-01  1.09345614e+00  1.22090869e+00\n",
      "   1.24265905e+00 -1.35978050e+00  6.36063563e-01  5.22441176e-02\n",
      "   9.87128243e-01  2.29114026e+00  1.22000881e+00 -2.12500029e+00\n",
      "  -8.47105837e-01 -9.29077707e-01  4.96552663e-01 -1.20354249e-02\n",
      "   2.33984143e+00  2.58695894e+00  8.97677045e-01 -1.29134233e-01\n",
      "  -5.40635669e-01  5.74368574e-01  1.63469532e+00  8.01460445e-02\n",
      "  -5.81646315e-01  2.06901564e-01  7.31761378e-02 -6.57358306e-01\n",
      "  -5.01099700e-01  7.67028189e-01  1.83764607e+00 -6.20273359e-01\n",
      "  -2.89680655e+00 -7.31734520e-01  3.28799369e-01 -7.06010063e-01\n",
      "  -5.50922641e-01 -4.42409545e-02  1.89840013e+00  9.32795916e-02\n",
      "  -5.50392875e-01  1.03495719e+00 -1.24183556e+00  9.20851192e-01\n",
      "  -6.14933295e-01 -8.64571909e-01 -2.40932443e+00 -9.81874331e-01\n",
      "   9.99655686e-02 -6.46708060e-01 -1.14680592e+00 -8.44638486e-02\n",
      "  -4.54917140e-01  9.84462063e-01  1.24958764e+00 -1.56062914e+00\n",
      "   3.32439062e-01  2.11816124e+00  7.24300457e-01 -1.04394296e-01\n",
      "  -1.53604794e-01  2.67832478e-02 -2.26189943e-01  1.10170011e+00\n",
      "   1.65500188e+00 -3.78667017e-01 -3.67206142e-01 -1.59448657e+00\n",
      "   5.50592632e-01  1.24773333e+00  2.58949474e-01 -4.13422201e-01\n",
      "  -4.69888271e-01  6.32061908e-01  5.36268829e-02  1.25600799e+00\n",
      "  -8.50477552e-01  8.51493486e-01  1.16537395e+00  1.19148771e+00\n",
      "  -9.99242855e-02 -3.03137876e-01 -3.18904889e-01  1.71960161e+00]\n",
      " [ 3.58013234e-01  4.95651506e-01  8.27609554e-01  2.00313793e-01\n",
      "   2.23865059e-02  1.29183573e+00  3.03237266e-01  8.17154283e-01\n",
      "   7.09929870e-03  6.03719164e-01  8.49620625e-01 -2.09981728e-01\n",
      "   1.66242049e-01  1.54111251e+00  1.70506970e+00 -2.44804019e-01\n",
      "  -8.00044418e-01  1.83971969e-01 -6.16202113e-01 -8.69849594e-01\n",
      "  -7.06790182e-01 -1.25366124e-01  1.60526064e+00 -8.56814254e-01\n",
      "   8.66336735e-01  3.96492358e-01  1.03267025e+00  1.38792371e+00\n",
      "  -1.79552985e+00 -1.64410854e+00  8.31737571e-02  5.67833700e-01\n",
      "  -1.20662407e+00 -5.44158087e-01 -7.81720039e-01 -7.51881021e-01\n",
      "   7.75268932e-01  7.69031573e-01  3.69298069e-01 -1.84321198e-01\n",
      "  -1.57518947e+00  1.23783943e+00  9.47540689e-01  1.32332566e+00\n",
      "  -4.33856124e-01  2.04454329e-01 -7.94939061e-01  1.89176925e+00\n",
      "  -1.48984198e+00  4.16600792e-01  3.33038711e-01  2.83375260e-04\n",
      "  -1.34200274e+00 -3.43268696e-01 -9.44606492e-01 -9.76027519e-01\n",
      "   1.41245290e+00 -2.78556396e-01 -2.41103814e+00  1.16636160e+00\n",
      "  -9.75957213e-03  6.26391246e-01  3.65779374e-01 -5.43455196e-01\n",
      "  -1.63912736e-01  9.26837863e-01  1.34272195e+00 -2.20617821e+00\n",
      "  -7.20338089e-01 -2.78925155e-01  9.22270647e-01 -6.49665613e-01\n",
      "   8.90424275e-01  1.19380995e+00 -6.40696620e-01 -7.27289425e-01\n",
      "   1.17452224e+00  4.13754149e-01  1.61454636e+00 -9.42906859e-01\n",
      "  -5.27479403e-02 -7.19393220e-01  1.36455338e+00  8.63193488e-01\n",
      "  -3.76467700e-01  7.34583550e-01  1.70860287e+00  1.03916633e+00\n",
      "   3.42978573e-01  2.61839137e+00  1.75238727e+00 -8.15455445e-01\n",
      "  -1.51516557e+00  4.39054370e-01  1.07369829e+00 -2.56778924e-01\n",
      "  -1.96328976e+00 -1.14767039e+00 -2.66274378e-01  1.00749308e+00]\n",
      " [-4.00032362e-01  3.59165229e-01  1.20877310e+00  2.65955709e+00\n",
      "  -1.67871003e+00 -5.26360645e-02  1.67322300e+00 -1.01144636e+00\n",
      "  -3.21740214e-01  4.04227772e-01  4.66296670e-02 -1.30690152e+00\n",
      "   3.13436992e-04 -1.07213838e+00  2.29491475e+00 -2.44411423e-01\n",
      "  -1.05921507e+00  3.14287297e-03 -5.76194993e-01 -5.13549970e-02\n",
      "   1.25631642e+00 -1.46640087e+00 -1.36956086e+00 -6.29916045e-01\n",
      "  -5.00240014e-01  8.44427562e-01 -5.95067124e-01 -3.98975372e-01\n",
      "   7.24422932e-01  2.48025890e-01  1.11217914e-01 -6.91490124e-01\n",
      "  -1.21015473e+00 -2.10636160e+00 -2.03979836e+00  8.41337411e-01\n",
      "  -8.36498162e-01 -7.75695313e-01 -9.72689314e-01 -1.14997921e+00\n",
      "  -1.04023878e+00 -1.13231043e-01 -4.34991222e-02 -2.15709299e-01\n",
      "  -9.71133844e-01 -1.51282197e+00 -1.19304502e+00  9.75094421e-01\n",
      "  -1.40522552e+00  9.35277444e-01 -3.45175956e-01  1.61120402e-01\n",
      "   1.62329606e+00 -1.00710787e+00  3.03101562e-01 -1.08050819e+00\n",
      "   3.13846201e-01 -7.39913330e-01 -1.58528461e+00 -1.86926597e+00\n",
      "   1.91774006e+00  8.51227289e-01  1.94851354e+00  4.26100336e-01\n",
      "   7.38066058e-01  9.45935998e-01  1.52146570e+00 -1.46280049e-01\n",
      "  -1.80280303e-01  3.21270383e-01  4.02139347e-01 -1.38143888e+00\n",
      "  -1.11218718e-01  7.09249625e-02  5.33079925e-01 -2.56078336e-01\n",
      "   7.57710750e-01  4.29802318e-01  6.45771391e-01 -1.16459926e+00\n",
      "  -1.36303558e-01 -4.25420146e-01 -1.26482577e+00  3.63304655e-01\n",
      "   3.63171984e-01  1.79854767e+00  3.34726541e-02  4.52812491e-02\n",
      "  -3.71348394e-01  6.83816299e-01  3.60417497e-01 -7.10796489e-03\n",
      "   1.47995359e+00  8.58938335e-01 -7.60038621e-01 -5.92611537e-01\n",
      "   1.00704049e+00 -1.63238980e+00 -6.31414203e-01  1.34007315e+00]\n",
      " [-2.46117875e-01  1.63813143e-02  6.39630419e-01 -3.82721229e-01\n",
      "   5.11233473e-01 -3.63891594e-01  4.54023661e-01  3.70763893e-01\n",
      "   2.00365250e-01  2.17852321e+00 -1.01192137e+00  1.03190330e+00\n",
      "  -4.00010220e-01  2.66044005e-01 -9.99754485e-01 -5.51832954e-01\n",
      "  -2.55776262e-01 -3.19873665e-01 -1.03255810e+00 -2.13330443e-01\n",
      "  -6.51592590e-01  1.32231238e+00 -1.00099598e+00  8.44114129e-01\n",
      "   1.52755279e+00 -1.43742968e-01 -1.42387580e+00  1.78776883e+00\n",
      "   1.69950994e+00  1.98081123e-01  1.65352803e+00  6.91310062e-01\n",
      "   7.66318223e-01  6.39583899e-02  1.40611453e+00  3.57430060e-01\n",
      "   1.43730730e-01  7.47194900e-01  2.61370641e+00  7.81851780e-01\n",
      "  -1.07711436e+00  3.76663527e-01 -1.25331605e+00 -1.57610916e-02\n",
      "   1.29712455e+00 -3.12485966e-01  1.03593121e+00 -6.13331639e-01\n",
      "   1.41170173e+00  5.46833240e-01  9.85632741e-03 -6.52792375e-01\n",
      "  -2.05858488e+00  2.22232569e-02  7.47808339e-01  1.12656663e+00\n",
      "  -2.79489277e-01 -7.76155488e-01 -5.47973245e-01  8.45771048e-01\n",
      "   4.90189859e-01 -6.53344832e-03 -6.31114670e-01 -1.21007981e+00\n",
      "  -9.86335827e-02  8.29817593e-01 -8.58269843e-02  8.19793492e-01\n",
      "   3.99285679e-01 -1.02404386e-01 -4.42571207e-02 -7.54792397e-01\n",
      "   1.80551377e+00  7.19355289e-01  9.16308422e-01 -3.75629040e-01\n",
      "  -8.69902831e-01  9.20715263e-01  4.10539425e-01  1.19853756e-01\n",
      "  -6.04204459e-02  7.91365070e-01  7.44551052e-01 -1.40457468e+00\n",
      "   2.29368771e-01 -1.21764070e+00  1.47220515e+00  5.59457626e-01\n",
      "   6.97513543e-01 -1.00726301e-01  1.31172308e+00  6.53535872e-01\n",
      "  -9.44771046e-01 -1.15865163e+00 -3.23377347e-01  1.08059417e+00\n",
      "   6.43479159e-01 -1.65564350e+00  7.78640723e-01  1.45032637e+00]\n",
      " [ 1.09279441e+00 -2.07725747e+00 -9.86921099e-01 -2.20105766e-01\n",
      "  -5.42824042e-02 -1.86930142e-01 -1.65438671e+00 -7.09098224e-01\n",
      "  -1.46119135e-01 -8.06374684e-01 -2.35333540e-01 -1.07094216e+00\n",
      "   6.35341508e-01 -4.66869039e-02  6.18445565e-01 -5.98832820e-01\n",
      "  -8.46693843e-01  1.33256429e+00  3.38215228e-01 -3.00953104e-02\n",
      "  -2.79624958e-01  3.86305315e-01 -9.02188635e-01 -5.05190952e-01\n",
      "  -4.37917642e-01 -2.10129905e+00  3.58406393e-01  7.52518941e-01\n",
      "   9.15838537e-01 -7.53275879e-01 -5.74364950e-01 -6.46994595e-01\n",
      "  -1.22229427e+00 -1.57643712e-02 -7.60737129e-01  1.66155357e+00\n",
      "  -4.31788737e-01 -1.87481684e-01  8.32671117e-01  1.65199847e+00\n",
      "  -1.44622541e-01  1.02098781e+00 -2.92601784e-01 -2.68308971e-01\n",
      "  -2.71490085e-01  1.23870131e+00  1.57565457e+00  8.64927835e-01\n",
      "   4.66527847e-01 -4.31322021e-01 -2.73299569e-01 -1.47759196e+00\n",
      "  -1.79390073e+00 -5.47252379e-01  1.31348415e+00  1.65087434e-01\n",
      "   7.71381210e-01 -4.47220324e-02  1.34006376e+00 -6.31951691e-01\n",
      "  -7.39953148e-02  5.59915166e-01  6.72472525e-01 -8.70648979e-01\n",
      "  -1.35256481e+00 -9.79985015e-01 -3.02150637e-02 -1.64830608e+00\n",
      "  -5.46385975e-02 -7.22095367e-01 -4.83454188e-02  1.73020143e+00\n",
      "  -1.03386250e+00  5.08970625e-01  3.66982630e-01  4.01228034e-01\n",
      "  -3.46324851e-01  8.43182832e-01  7.87488924e-01 -7.66907381e-01\n",
      "  -6.29879911e-03 -2.25610934e-01 -1.11121513e+00  1.10437211e+00\n",
      "   5.74165583e-01  1.69454508e-01 -4.86912368e-01  3.41157752e-01\n",
      "  -3.77113627e-01 -1.18982346e+00 -6.50110743e-01 -1.25781492e+00\n",
      "   5.30198326e-01 -1.10088622e-01  2.08965901e+00  1.83159790e+00\n",
      "  -1.37146600e+00 -5.96956598e-01  6.82739580e-01  1.36780293e+00]\n",
      " [ 1.86842389e+00  4.62762830e-01 -1.73064563e+00  9.36169576e-01\n",
      "   1.94329658e+00 -1.24688212e+00  9.94448467e-01  7.65938656e-01\n",
      "   8.03682599e-02  8.92920445e-01  1.94231971e-01  6.71787001e-01\n",
      "   6.94437384e-01  1.45510232e-01  3.21084835e-01  5.67894301e-01\n",
      "  -2.50218061e+00  1.09723213e+00 -6.28009531e-01 -1.03366000e+00\n",
      "   3.37829541e-01 -1.16164432e+00 -1.12361182e+00  2.05129442e-01\n",
      "   1.89879618e-01 -1.63340683e+00  1.30559465e+00  2.94798631e-01\n",
      "  -1.50401765e-01 -1.77468269e-01 -4.44541275e-01 -1.25365491e-01\n",
      "   5.39576479e-01 -5.12217593e-01  1.05022163e+00  6.49231615e-01\n",
      "   4.95649893e-01 -1.10053971e+00  1.42513153e+00 -6.14385285e-02\n",
      "   1.03675071e+00 -8.35898426e-01 -6.04609574e-01 -1.01297083e+00\n",
      "  -1.21489906e-01  2.91426227e-01 -1.92082324e-01  1.31103884e+00\n",
      "   4.20854276e-01  6.61487767e-01  8.21105957e-02 -8.80418144e-01\n",
      "   5.60366443e-01  2.25976609e-01  1.02092750e+00  2.85997350e+00\n",
      "   2.89746311e-01  3.87787280e-01  1.09218290e+00  1.92904501e-02\n",
      "  -9.75826520e-01 -8.54547911e-01 -2.07689656e-01 -1.75825795e-01\n",
      "  -8.79242937e-02  1.31409247e+00 -2.73480785e-01  1.15281111e+00\n",
      "   6.91504011e-01 -3.97966152e-02 -1.72269513e+00 -6.98431289e-02\n",
      "  -5.11605953e-01 -1.06135815e+00  1.69563066e+00  9.50879833e-01\n",
      "  -4.99703991e-01 -2.14072675e+00 -6.19802903e-01  2.01796226e+00\n",
      "   1.60451850e-01  8.84354356e-01  9.57355090e-01 -1.13243303e+00\n",
      "  -8.83365986e-01 -2.07158735e-01 -6.77318895e-01  1.05151534e+00\n",
      "   9.97148971e-01  4.49431880e-01 -1.38102254e+00 -2.34652625e-01\n",
      "   6.00800246e-01 -3.18438110e-01  1.24746062e+00  8.82881437e-03\n",
      "   8.33983004e-01  1.56728004e+00  4.43291066e-01 -5.70131947e-02]\n",
      " [ 3.68938659e-02  1.88861289e+00 -1.97177449e+00 -2.18798740e-01\n",
      "   1.00146404e+00  7.53033085e-01  5.88893633e-01 -1.09605487e+00\n",
      "   5.45969900e-02  1.73507645e+00 -1.43039160e+00  6.16744513e-01\n",
      "  -1.12578134e+00 -7.19465302e-01  4.56719241e-01 -3.39608908e-01\n",
      "  -4.13724357e-01 -1.14980343e+00 -8.67440380e-01  6.62094150e-01\n",
      "  -8.50095088e-01  4.34062942e-01 -2.03176573e+00  5.05290388e-01\n",
      "   1.01204205e-01  1.36704445e+00  4.10590663e-01 -7.58977319e-01\n",
      "   1.15680495e+00  2.24624214e-01 -8.67706870e-02  9.96503905e-01\n",
      "  -1.11481368e+00 -1.57214342e-01  2.05155648e-01  4.61820756e-01\n",
      "   5.09695157e-01  6.55930948e-01  6.21789890e-01 -1.36333071e+00\n",
      "   1.05444689e-01  9.86138407e-01  9.99979566e-01 -3.92436546e-01\n",
      "  -1.05403029e+00  2.38948389e-01  3.34648988e-01 -9.53826057e-01\n",
      "   1.40206894e+00 -1.30387540e+00 -1.13034804e+00 -1.13717013e+00\n",
      "  -4.54990626e-01 -1.85822792e-01  2.24647786e-01  1.25181523e-02\n",
      "  -6.20752379e-01  1.27962299e+00  5.89392529e-01 -5.42774751e-01\n",
      "   1.79078887e+00  1.00202545e+00  7.85010451e-01  3.80115860e-01\n",
      "  -2.14363211e-01 -8.93035992e-02 -1.09502037e+00 -3.84118560e-01\n",
      "  -1.58888648e+00  1.01389981e+00  3.64369284e-01 -1.48587478e+00\n",
      "  -2.48137705e-01 -1.05616331e+00 -1.70412708e+00 -1.58336554e+00\n",
      "   7.63404363e-02  9.74961814e-01 -6.08869588e-01 -7.25697138e-01\n",
      "  -2.28653440e+00  1.31043489e+00  2.10754952e-01  1.53404495e+00\n",
      "   5.87909626e-01 -3.96771702e-01  1.01932473e+00  2.17861751e-01\n",
      "  -1.42162432e+00 -1.94235830e-01 -4.41638204e-01  8.77413418e-01\n",
      "  -1.71314627e+00 -5.67701610e-01 -5.99015779e-02 -1.79641150e-01\n",
      "   1.91108105e+00 -1.75097156e-01 -3.17395547e-01  1.08243546e+00]\n",
      " [ 3.96364412e-01  1.86409157e-01  5.91787414e-01  2.25041212e-01\n",
      "  -1.97778469e-01  6.89530088e-01 -2.07453820e+00 -4.65235439e-02\n",
      "   4.17193127e-01 -2.17259167e-01  1.07641602e+00  7.66785700e-01\n",
      "   7.51370008e-01 -2.83060300e-02  4.51687286e-01  8.65467798e-01\n",
      "   4.51802536e-01 -2.05018011e+00  1.37178707e+00 -1.97794018e-01\n",
      "  -7.23238247e-01  1.67891111e-01 -1.32282494e-01  6.13874650e-01\n",
      "  -4.96917315e-02  9.81749089e-01  4.26587361e-01  2.96324338e-01\n",
      "   1.73561378e+00  4.25779202e-02  3.36490201e-01  9.61847722e-01\n",
      "   3.92076067e-01  1.93343701e-01 -2.65847546e-01  1.20734465e+00\n",
      "  -8.30370397e-01 -1.62001992e+00 -9.83111496e-01 -1.85260739e+00\n",
      "  -6.33979075e-01 -6.86135511e-01 -8.28141891e-01 -2.45064111e+00\n",
      "  -4.33892274e-01  7.51731108e-01 -1.64999595e+00  1.12511865e-01\n",
      "  -1.17329651e-01 -8.32901703e-01  1.27251945e+00  1.26837652e+00\n",
      "  -4.16471183e-01  1.41481043e+00 -1.81816845e-01 -1.37533300e-01\n",
      "   1.82244290e+00 -1.26186414e+00  2.18671500e-01 -1.42006593e+00\n",
      "   5.60572726e-01  1.75289120e+00 -1.09625274e+00  1.05453546e-01\n",
      "  -1.37291453e-01  1.75191300e+00  8.86809404e-01 -2.05410776e-01\n",
      "   4.57780898e-01  1.02725604e+00  1.77465859e+00  6.50566143e-01\n",
      "  -1.60580734e-01 -6.95857152e-02 -4.67879210e-02  1.78835644e-01\n",
      "   6.91292070e-01  9.78702483e-01 -3.49775076e-01  9.74090427e-01\n",
      "   3.31677037e-01 -4.71487527e-01  1.02184619e+00 -8.45524773e-01\n",
      "   1.39982298e+00  1.35138496e+00  1.13267065e-01 -2.02395098e+00\n",
      "   6.54489696e-01  2.02308217e+00  6.74573869e-02  1.80817687e-01\n",
      "   1.74346639e-01  2.97709140e-01  2.45715966e+00  3.75169960e-01\n",
      "   7.39349722e-01 -6.34508664e-01  1.03983372e+00  4.23738165e-01]\n",
      " [-3.29111396e-01  1.03090844e-01 -1.45570324e+00  6.67061338e-01\n",
      "   1.75783939e-01 -7.22301587e-01  8.50862571e-01  1.03525848e+00\n",
      "  -1.35145719e+00  1.90011962e-02  4.02145966e-01  2.01960396e-01\n",
      "  -1.83002028e+00  1.09426848e+00  8.97114165e-01 -8.09153071e-01\n",
      "  -1.12116354e+00 -7.09289819e-01  7.48894559e-01 -4.69872985e-01\n",
      "  -1.26154550e-01  1.16321949e+00  2.00417273e+00  5.44279493e-01\n",
      "   7.31922079e-01 -1.18436490e+00  1.17547014e+00 -4.97192359e-01\n",
      "  -4.83309463e-01 -6.42675458e-01 -2.95614261e-01 -1.05807622e+00\n",
      "   1.21781028e-01 -6.23183451e-01 -9.49791397e-01 -1.61944647e-01\n",
      "   1.67900350e+00 -1.99999135e-01 -1.01336736e+00  4.30508162e-01\n",
      "  -3.51164905e-01 -4.81465574e-01 -3.64465722e-01 -3.35354878e-01\n",
      "  -1.19015111e+00 -1.44758742e+00  3.55260590e-02  1.11025057e-01\n",
      "  -6.70990864e-02 -4.04878224e-01  6.62527618e-01  9.39383750e-01\n",
      "   1.00280459e+00 -1.68296938e-01  1.97690020e-01  8.02202544e-01\n",
      "  -8.10444421e-01 -8.07664781e-01 -3.69906948e-01 -1.53891681e-01\n",
      "   1.97568476e-01 -1.04653330e+00  1.07511187e+00 -1.16697750e+00\n",
      "   1.23880278e+00 -3.34690424e-01  2.60075752e+00  5.60829723e-01\n",
      "  -1.10513724e+00  2.32139417e-01  8.85367092e-01 -7.86625686e-01\n",
      "   1.97931293e-01  4.17349506e-01  3.39672305e-01  1.48987715e+00\n",
      "   3.98920360e-01 -1.51206405e+00  2.18475215e+00 -8.65346473e-01\n",
      "   1.00022260e+00 -8.62990309e-01 -1.22374229e+00 -1.70312130e-01\n",
      "   4.39353560e-01  1.44647945e+00  3.28320517e-01  1.10920216e-01\n",
      "  -2.03038167e+00 -1.66625640e-01 -7.21407558e-01  1.61534134e+00\n",
      "   7.80707449e-01  5.88950961e-01  9.26714111e-01 -3.80193880e-01\n",
      "   1.20358130e-01  3.17066806e-01  1.73002223e+00  1.12972949e+00]\n",
      " [ 1.99432947e-01  1.71434370e-01  1.13331993e+00 -1.13969327e+00\n",
      "  -1.14583219e+00 -7.38951615e-01  7.87862172e-01 -4.07887712e-01\n",
      "   1.29713163e-01  5.87398503e-01 -3.34032480e-01  1.10187713e-01\n",
      "  -1.28339897e+00  2.36244345e-01 -1.07191386e+00  3.16638242e-02\n",
      "  -3.77093632e-01 -8.60328691e-01 -8.45590190e-01 -4.17985298e-01\n",
      "   8.82065360e-01  6.82630640e-01 -7.10997091e-02  9.06920813e-01\n",
      "  -1.80044693e+00  3.92304192e-01 -5.12082352e-01 -1.40042179e+00\n",
      "  -4.45576562e-01 -5.59958367e-02  2.47375124e-01  1.19442648e+00\n",
      "   8.27032147e-02 -8.24229762e-01  1.38356600e+00  1.10383580e+00\n",
      "  -3.20120592e-01  7.93624985e-01  3.93481818e-01  3.19565463e+00\n",
      "   8.15772997e-01  8.61272724e-01  1.70886742e+00 -1.02508610e+00\n",
      "  -8.42597741e-01  6.92499368e-02  1.08778167e+00 -4.19278425e-01\n",
      "   1.90778186e+00  1.44110622e-01  8.21501113e-01  8.12923790e-01\n",
      "  -4.86316370e-01 -1.56483691e+00 -4.74778401e-01  6.49471458e-01\n",
      "  -1.33780138e+00 -1.14657896e+00 -2.91885474e-01  7.54506619e-01\n",
      "  -1.66284855e+00 -1.42846939e+00 -1.26360027e+00 -6.07821852e-01\n",
      "   1.39253668e+00  8.18448754e-01 -3.82005362e-01  8.87462540e-01\n",
      "  -1.53568414e+00  1.11194966e+00 -1.76580846e-01  6.93687464e-01\n",
      "   1.31139704e-01  7.17403864e-01  8.84170567e-03 -2.79235194e-01\n",
      "  -1.38066776e-01  4.44220291e-01  1.01662442e+00 -8.30419910e-01\n",
      "  -1.12699395e+00  6.18254846e-01 -6.71021536e-01  6.77606755e-01\n",
      "  -2.33172427e+00 -1.24322025e+00  1.27533556e-03  9.95129717e-01\n",
      "   1.66877903e-01 -5.23528831e-01  1.01342636e+00  4.43043044e-01\n",
      "  -8.41447983e-01 -1.46522548e+00 -7.45460826e-01  6.34914116e-01\n",
      "  -6.41846030e-01  1.35856370e+00 -1.07064711e-01 -3.01208317e-01]\n",
      " [-1.20221033e+00  1.21031478e-03  2.33677903e+00  5.63874220e-01\n",
      "   1.27610105e+00  3.10169578e+00 -1.70593394e+00  2.07122760e+00\n",
      "  -3.34589659e-01 -7.52526614e-01 -6.06859416e-01 -5.60397303e-01\n",
      "   2.07833529e-01  5.20652114e-01 -4.73037756e-01 -1.90818397e-01\n",
      "   1.38534147e+00 -1.88587873e-01  5.16843020e-01 -4.42235261e-02\n",
      "  -1.22740342e+00  5.92059055e-01  1.94769170e+00 -1.43940870e+00\n",
      "   1.41579172e+00 -9.58406445e-01  1.02385579e+00  7.65377956e-01\n",
      "  -5.61988944e-04  7.35338921e-01 -1.35254290e+00  1.12926102e+00\n",
      "   2.00235317e+00  2.66025523e-01 -2.11647939e-01  3.20544326e-01\n",
      "  -3.01324157e-01  2.65767760e+00  2.23958460e-01  8.48002719e-01\n",
      "   9.32619039e-02  8.12261293e-01  5.56486507e-01  4.06991411e-01\n",
      "  -2.26871637e+00 -4.09930158e-01 -1.09720458e-01 -6.59918231e-01\n",
      "   6.11596489e-01  1.76457644e-01 -4.34121974e-01 -2.99386969e-01\n",
      "  -4.30184354e-01 -8.55885690e-02 -9.61267028e-01  3.60259611e-01\n",
      "  -7.68453479e-01  1.64045824e+00  1.42736939e-01  8.81446774e-01\n",
      "   7.04106336e-02  1.11021794e+00 -1.61281883e+00 -1.01833829e-01\n",
      "  -6.82173242e-01  8.29654431e-01  1.42051609e+00  5.11849031e-02\n",
      "   1.34382395e+00  4.12126694e-01  1.01823944e+00 -1.22021737e+00\n",
      "  -5.48917529e-01 -9.97418715e-01  9.84547564e-01 -1.10889218e+00\n",
      "   2.41132323e-01 -3.31070927e-01  7.86570872e-01  1.04941118e+00\n",
      "   6.65514470e-01  5.40342364e-01 -8.97802041e-01 -9.11359566e-01\n",
      "  -8.43994606e-01  8.43139815e-01 -1.14542436e-02 -1.47189182e+00\n",
      "   1.74395157e+00  1.42576065e+00  1.41889620e+00  4.68121420e-02\n",
      "   6.11315023e-01 -5.90390725e-01 -7.69293376e-01 -1.16802895e+00\n",
      "   1.84165400e+00  7.89591453e-01 -6.25083619e-01 -6.93378955e-01]\n",
      " [ 1.95104836e+00 -5.14159797e-01  1.17268020e+00  3.29440560e-02\n",
      "   5.05529939e-01 -3.05562196e-01  9.18531839e-01 -3.66337538e-01\n",
      "  -3.52592518e-01  2.02591064e+00  8.97323455e-01 -3.77356677e-01\n",
      "  -5.18936546e-02  1.78567299e+00  1.23704212e+00 -6.50447475e-01\n",
      "   7.93547159e-01  3.20589689e-01 -1.67797362e-01  5.68952269e-01\n",
      "   7.47420944e-03  3.84931004e-01 -3.45785348e-01  9.29876984e-01\n",
      "  -3.06079610e-01  7.03795833e-01  1.63111645e+00 -1.05869081e+00\n",
      "   9.66320218e-01 -1.62400714e+00  1.18062290e+00 -7.35761605e-01\n",
      "   6.58720795e-01  5.58342292e-01 -1.95692126e-01  5.49117352e-01\n",
      "   7.09933056e-01  1.38880417e+00 -7.51363413e-01  1.17843463e+00\n",
      "  -3.61913802e-01 -1.11089678e+00  1.07290309e+00 -1.30218896e+00\n",
      "  -2.98428983e-01 -7.97631840e-01  6.12432421e-01 -9.83068897e-01\n",
      "   1.20834351e+00 -1.19943249e+00  1.01080751e+00  1.02318854e+00\n",
      "  -6.94227391e-01 -9.93306958e-02 -2.40289999e-01 -2.25279161e-01\n",
      "  -1.55066262e+00 -1.28935859e+00 -2.79896776e-01 -5.73135458e-01\n",
      "   2.21538129e+00 -1.38410756e+00  5.03636601e-01  4.06421837e-02\n",
      "  -3.27005628e-01  7.52158720e-01  1.15504533e+00  7.31920994e-02\n",
      "   4.64420862e-01 -8.20050832e-01 -2.48899254e-01  7.91203671e-01\n",
      "  -8.80212187e-01 -4.00988505e-01 -7.06051137e-01  8.48561085e-01\n",
      "   1.67784313e+00  8.68801153e-01 -1.03300350e+00  1.10327399e+00\n",
      "   1.56015591e-01  2.20759632e+00  1.57051902e+00  6.12700219e-01\n",
      "  -9.99267144e-01  1.29619041e+00  7.13101316e-01  2.54956047e-01\n",
      "   1.34777014e+00 -1.49069618e-01 -6.75835111e-01 -4.84170038e-01\n",
      "   1.25882255e+00  2.22262144e-01  8.72020212e-01  8.17948280e-01\n",
      "  -1.75968531e+00 -5.15785732e-01  7.47107694e-02 -1.26167485e+00]\n",
      " [-1.45308190e+00  1.00808628e+00 -1.82306715e-01 -5.68128411e-02\n",
      "   8.41307841e-01  1.08440908e+00  1.96874917e+00  8.35390304e-01\n",
      "  -8.18850968e-01 -3.44016472e-01  2.53179897e+00 -4.99876727e-01\n",
      "  -4.71265982e-01  4.51068667e-01  7.43583604e-02  7.98953803e-01\n",
      "   1.01970005e+00 -1.04414535e+00 -1.59675656e+00 -5.93896568e-02\n",
      "   1.49737028e+00 -8.69020173e-01 -2.61973177e-01  1.81231756e+00\n",
      "  -2.09955383e+00 -3.31865366e-01  1.06053791e+00  5.72545220e-01\n",
      "   6.79347210e-01  3.11599759e-01  2.21415407e-01 -7.06057228e-01\n",
      "   4.63587370e-01 -2.05434753e-01 -1.84268828e+00  1.36887724e+00\n",
      "  -2.08804307e+00  1.30992874e+00 -2.84931014e-01 -1.15835599e-01\n",
      "  -1.79320976e-01  8.13783184e-01  9.50384460e-01  4.69901941e-01\n",
      "   1.00430368e+00 -2.61681850e+00  3.54436329e-01  5.31797233e-01\n",
      "   1.01449663e-01  4.56743827e-01  1.34692570e+00 -8.54901804e-01\n",
      "  -4.75672731e-01 -1.20104010e+00 -4.68755907e-01  3.13918566e+00\n",
      "  -3.82422480e-01  7.58127699e-01  8.88223945e-01 -1.85384971e-01\n",
      "   2.31273452e-01 -1.52894860e+00 -1.08271203e+00 -1.65399049e+00\n",
      "  -6.71805553e-01 -2.69004537e-01  1.67759011e+00 -2.04894122e+00\n",
      "  -1.22981087e+00  3.15318984e-01  4.50354704e-01  6.54872532e-01\n",
      "  -8.61215516e-02 -6.78416083e-01 -1.59911448e+00 -5.06486191e-01\n",
      "   1.45144024e+00  1.12167332e+00  1.64663449e+00 -5.44954308e-01\n",
      "   4.79558594e-01  2.61654984e-02 -1.62069897e-01  6.72844261e-01\n",
      "  -3.74215815e-01 -5.22379508e-01 -7.26675069e-01 -2.66411773e+00\n",
      "  -1.69924736e-01 -1.93024380e+00 -1.20332937e+00  1.76820929e+00\n",
      "  -1.09615793e+00 -1.32560409e+00 -1.64029907e+00 -2.50495393e-01\n",
      "   1.60031777e+00  4.57591371e-01 -5.94947938e-01 -1.00285980e-01]\n",
      " [ 2.32770784e+00  6.89579642e-01  1.26091666e+00 -1.23246136e-01\n",
      "   5.55788121e-01 -1.33377373e+00 -6.34546682e-01 -9.97686042e-01\n",
      "   4.13727936e-01 -5.34794620e-01  3.82914585e-01  5.68415638e-01\n",
      "   7.94562889e-01  4.37540836e-01 -6.43799501e-01 -1.16064724e-01\n",
      "   4.09908781e-01 -7.88963808e-01  2.20396477e-01  1.02435253e-01\n",
      "   1.90553209e+00  4.81855750e-01 -1.25300616e+00 -7.86357784e-01\n",
      "   1.39201165e-01  1.18932341e-01 -1.28313366e+00 -1.07143867e-01\n",
      "  -2.92094546e-01  1.18775832e+00 -3.06850941e-02 -2.08693260e+00\n",
      "   1.68959673e+00  6.99771241e-01  5.26759112e-01  7.02915123e-01\n",
      "  -4.69580261e-01  5.19916013e-01 -1.61772531e+00  5.07373610e-02\n",
      "  -4.23070538e-01  4.65807293e-02  2.88628303e-01 -8.92077863e-01\n",
      "  -1.47308762e-01 -5.51924894e-01  4.75147657e-02  2.79866534e-01\n",
      "   2.32267647e+00  1.07875478e+00 -1.43580277e+00 -1.19734024e+00\n",
      "  -2.15004673e-01  3.88060304e-01  7.25068953e-01  6.73536934e-01\n",
      "  -8.38822794e-02  4.81319060e-01  3.35424597e-01 -1.13295747e+00\n",
      "  -9.23807691e-01 -1.55344934e+00 -2.24772743e-01  1.36291218e+00\n",
      "  -1.28535256e+00  6.23398193e-01 -1.53740469e+00 -8.69376972e-03\n",
      "  -4.11347369e-01 -6.32762662e-01 -5.69827647e-01  6.04164297e-01\n",
      "  -7.14793642e-01 -6.44591300e-01  9.61948997e-03 -9.35028090e-01\n",
      "   6.23540703e-01  1.24006226e+00  1.71038965e+00 -1.29846942e+00\n",
      "  -4.72470219e-01  1.08682472e+00  1.33459446e+00  1.28368157e+00\n",
      "  -1.25001787e+00 -2.20202843e+00 -2.29634860e-01  2.87712601e-01\n",
      "   8.12879351e-01 -7.25265138e-01  8.04112001e-01  1.19186335e-01\n",
      "   1.51413404e-01  6.74532808e-01  6.22868658e-01  1.13317834e-02\n",
      "  -1.38115179e+00 -6.47535732e-01 -1.28210160e+00 -6.94302123e-01]\n",
      " [ 3.86580179e-01 -9.61130013e-01  2.91031034e-01  1.92200356e+00\n",
      "   5.33091071e-01  1.77186205e-01  4.05203616e-01 -1.09071053e+00\n",
      "  -1.72524273e-01  3.03360414e-02 -3.56827938e-01  5.82519157e-01\n",
      "   4.79885568e-01  1.27420409e+00  4.70933528e-01  8.92285271e-01\n",
      "  -1.14238168e+00  4.35193751e-01  1.37591844e+00  2.03193230e-01\n",
      "  -1.42102096e+00 -5.19983086e-01 -1.37806468e-01  8.37145420e-01\n",
      "  -2.01885751e+00  1.59308052e+00 -3.24119030e-01  4.41985607e-01\n",
      "   1.64820426e+00 -5.08717142e-01 -1.52932720e+00 -5.75960711e-01\n",
      "   2.66132330e+00  1.04884415e+00  1.27543968e+00  1.15035621e+00\n",
      "  -6.96467765e-01  7.49779202e-01  8.24305653e-01  1.53109726e+00\n",
      "  -1.32439528e-01  8.21570140e-01  2.07545969e+00  3.46513800e-01\n",
      "   8.46732210e-01  1.34380203e+00  1.55850225e+00  3.25152527e-01\n",
      "   1.66201587e+00  8.45910024e-01  1.06719102e+00 -7.06526170e-01\n",
      "   7.44066349e-01  8.37356383e-02 -1.32098591e+00  1.02558696e+00\n",
      "   5.79579462e-01  6.11202876e-01  5.52306495e-01 -9.28078119e-01\n",
      "  -1.71500269e+00  1.31689048e+00 -1.27931453e+00  2.68318866e-02\n",
      "  -1.29771554e-01 -1.16145613e+00 -7.26393390e-01  5.47436388e-01\n",
      "   1.25509414e+00 -1.51716326e+00  5.48110548e-01 -1.02520835e+00\n",
      "   9.57405887e-01  1.27258845e+00 -1.25062069e+00  1.09627344e+00\n",
      "  -1.03413264e+00 -1.74881454e+00 -3.92331371e-01  3.28351430e-01\n",
      "   7.27441567e-01  1.79822214e+00  1.70129380e+00  1.10140139e+00\n",
      "  -1.23678313e+00 -8.32319379e-01 -1.72749860e+00 -1.17127519e+00\n",
      "   8.19671178e-02  2.13007202e-01  4.13245143e-01  7.47923864e-01\n",
      "  -6.45795983e-01 -1.12976711e+00 -5.57366301e-01 -1.42062078e+00\n",
      "  -1.21898233e+00 -1.36867432e+00  5.03182481e-01  1.08625976e+00]\n",
      " [-1.81899106e-01 -5.72811917e-01  1.10736088e+00 -2.29994320e+00\n",
      "   2.29860358e-01 -7.51182703e-01  5.69226994e-01 -1.04496520e+00\n",
      "  -1.64663548e-01 -1.93716405e+00 -9.10660426e-02 -2.72435535e-01\n",
      "   1.14199597e+00  1.01468443e+00  1.08181246e+00  7.55465250e-01\n",
      "  -5.87761666e-01  4.40432210e-01 -7.12210298e-01 -3.39150863e-01\n",
      "  -6.58052710e-01 -1.24812854e+00  3.86177319e-01  4.53219011e-01\n",
      "  -1.25295518e+00 -5.36076302e-01 -3.12047945e-01 -6.52934404e-01\n",
      "   5.24850647e-01 -1.43347574e+00 -1.24695792e+00 -1.44262216e+00\n",
      "  -7.24128875e-01  8.29243697e-01  5.76051232e-01  7.24814426e-01\n",
      "   8.37027436e-01  8.51771772e-01 -5.81002127e-01 -3.50196915e-01\n",
      "   3.40151355e-01  1.15754107e+00 -5.20095864e-01  4.90848623e-02\n",
      "  -1.95111007e+00  2.88668525e-01  7.41158153e-01  2.28253551e-01\n",
      "  -8.87507437e-01  1.29236648e+00  1.35651826e-01  8.85096226e-02\n",
      "  -6.85031015e-01  6.94759019e-01  5.14878916e-01 -1.50289607e+00\n",
      "   1.34476599e-01 -2.40462259e-01  8.48374902e-01  6.06884041e-01\n",
      "   2.40356826e-01  2.75161824e-01 -2.02601926e+00 -5.23387291e-01\n",
      "   3.16892864e+00  4.80666139e-01 -4.53818253e-01  9.79809115e-01\n",
      "  -5.93792559e-01 -1.71137484e+00  3.75665547e-01  9.76864098e-01\n",
      "  -1.62389113e+00  9.50944730e-01 -1.24759041e+00  4.70707219e-02\n",
      "   1.84468262e+00  8.45105283e-01  3.04750902e-01 -5.77310819e-01\n",
      "  -2.46602841e+00  3.08111720e-01  5.15641358e-01  1.23425820e-01\n",
      "  -1.86546425e+00  4.57964829e-01 -8.37445588e-01 -4.47895038e-01\n",
      "   4.23615498e-01  5.46454299e-01  1.28955300e+00 -8.95107346e-01\n",
      "   7.27093076e-01 -2.15242920e-01 -2.20082099e+00  5.76417577e-01\n",
      "  -1.33559425e-01 -6.28635619e-01  4.01779600e-01  2.40125819e-01]\n",
      " [ 3.99359598e-02  5.06134241e-01 -8.41990902e-02  5.44572207e-01\n",
      "  -8.32113492e-01 -1.89402195e-01  6.30668745e-01  1.19315505e+00\n",
      "  -1.04890174e-01  6.50585934e-01 -2.21541016e-01 -6.00123704e-01\n",
      "   9.13840087e-01 -1.27614851e+00 -1.22675171e+00 -5.62387341e-01\n",
      "   7.26948614e-01  1.34317756e+00  1.41913942e+00 -5.92758794e-01\n",
      "  -5.70710551e-01  1.45558316e+00 -1.46699102e-01 -1.43059945e+00\n",
      "  -7.89270216e-01  9.97517223e-01  7.86912297e-02 -6.40443596e-01\n",
      "  -2.16661471e+00 -1.04762769e+00 -2.94001867e-02 -8.02687084e-01\n",
      "   3.28271385e-02 -5.07436584e-01 -6.76479677e-02  9.50323040e-01\n",
      "   7.27855152e-01  3.27426424e-01 -1.99587148e-01  6.64625624e-01\n",
      "   4.48304115e-02  6.02296872e-01  1.88605898e-01  9.45900811e-01\n",
      "   3.37490198e-01 -1.27004511e+00  8.02965422e-01 -1.23809900e+00\n",
      "   3.90406457e-01 -4.79099879e-01  5.00614883e-01 -2.55001829e-03\n",
      "  -2.22344798e+00  8.72876934e-01  1.39894588e+00 -1.17804367e+00\n",
      "   1.02940941e+00 -1.00457782e+00  9.33151919e-01 -1.10429532e+00\n",
      "   2.67713041e-01  1.60622954e-01  1.35995577e+00  2.60530381e-01\n",
      "   1.17865532e+00 -6.05396363e-01  2.84982184e-01 -1.09307844e+00\n",
      "   9.51375997e-01  5.48434862e-01  9.32672111e-02  3.33463159e-01\n",
      "  -4.51310979e-01 -8.04213404e-02  5.32031006e-01 -2.15911476e-02\n",
      "   5.27413661e-01  1.10285706e+00 -2.97165584e+00  6.60801987e-01\n",
      "   6.06928773e-01 -9.48844365e-01  6.86385569e-01  3.89841101e-01\n",
      "   2.50156835e+00 -5.59885078e-01 -5.80435541e-01  1.25902312e-01\n",
      "   3.40367841e-01  1.35606520e-01 -3.91518884e-01 -7.77894005e-01\n",
      "   1.22253294e+00  6.04720178e-01  3.78779850e-01  6.30011542e-01\n",
      "   6.41048724e-01 -1.15930788e+00  6.37543594e-02 -1.39955606e+00]\n",
      " [ 4.77797270e-01 -4.78469959e-01  2.15398454e-01 -2.03268826e+00\n",
      "   2.61043093e+00  4.70999883e-01  2.68744993e-01  1.01372881e+00\n",
      "  -1.45922007e+00  1.25729437e+00  1.54323855e+00  8.67065112e-01\n",
      "   1.62118694e-01  7.64013962e-01  1.07593330e+00  6.02846788e-01\n",
      "  -6.54445949e-01  1.40289860e+00 -2.02333793e+00 -7.02793068e-02\n",
      "   2.69842371e-01 -6.33348364e-01 -1.52128886e-01 -1.01535669e+00\n",
      "   1.35797802e-01  1.34126063e-01  2.03837565e+00  1.28085063e-01\n",
      "   1.02305439e+00 -1.91258524e+00  6.57390945e-01  4.28551075e-01\n",
      "  -2.73425194e-01  9.87313468e-03 -1.85403666e-01  1.73224141e+00\n",
      "  -7.54884726e-01 -3.41677069e-01 -3.91203012e+00  4.11107238e-01\n",
      "  -6.16456717e-01 -3.33014293e-01  1.98456378e+00  2.03665741e+00\n",
      "   3.39693621e-01 -1.22278282e+00 -5.17226872e-01 -5.55759513e-01\n",
      "   1.00128083e+00  7.00305351e-01  3.03006432e-01 -3.93242884e-01\n",
      "  -1.25870272e+00 -6.97188954e-01  5.18417921e-01 -1.11087520e+00\n",
      "   2.22380632e-02  7.99308479e-01 -1.51165056e+00 -5.24287807e-01\n",
      "   1.84736420e+00  1.70679674e-01  2.12325293e-01  1.20576330e+00\n",
      "  -4.02561882e-01 -1.53039138e+00 -7.51204533e-01 -1.36426535e+00\n",
      "  -2.25112565e+00  3.36484063e+00  9.19241666e-01  1.45811640e+00\n",
      "   5.69959676e-01  1.71003274e+00 -2.75713338e-01  1.92284544e-01\n",
      "  -1.59095870e-03  1.04225480e+00 -2.24607628e-01 -7.95340948e-01\n",
      "   2.92850266e-02 -6.07144760e-01  1.45870897e+00 -1.78133687e-01\n",
      "  -1.08933460e+00  5.73651179e-01  2.39449204e-02 -8.02770433e-01\n",
      "   2.06608335e+00 -1.55467734e+00  6.02391975e-01 -7.03018012e-01\n",
      "   1.19488962e+00 -1.39613917e-01  5.69531221e-01 -3.20391517e-01\n",
      "  -4.64157193e-01 -8.93711381e-02  1.10852203e+00  7.63802029e-02]\n",
      " [-3.96644774e-01  2.13367474e+00  1.61733544e+00 -1.46304019e-01\n",
      "  -9.90523421e-01  2.45501418e-01 -1.64929285e+00 -1.91055920e+00\n",
      "  -1.38658142e+00 -2.27612923e-01  3.66531084e-03 -8.30482592e-01\n",
      "  -1.04356166e+00 -3.09465787e-01 -3.08444256e-01 -5.73108050e-01\n",
      "   1.29607136e+00 -1.25948905e+00  4.80676347e-01  6.76917573e-01\n",
      "   7.24483791e-01  5.16828179e-01  3.17211666e-01  6.01653249e-01\n",
      "   5.65970066e-01  3.52456461e-01  7.31530361e-01 -6.38313009e-01\n",
      "   7.80237677e-01  1.67520547e-01  1.51950004e+00  1.00825837e+00\n",
      "   4.32209244e-01 -1.02257253e-01  1.22025786e+00  5.70061158e-01\n",
      "  -5.36686575e-01 -3.92697161e-01  8.37629825e-01 -4.83135576e-02\n",
      "  -5.26572309e-01 -1.30694674e+00 -8.47056103e-01 -8.50777994e-01\n",
      "   7.97876729e-01  8.73454083e-02 -6.93150546e-01  7.71650145e-01\n",
      "   9.45724364e-01 -2.40498969e-01  1.09521288e+00 -9.97579845e-01\n",
      "  -1.09230364e+00 -4.82027632e-01 -5.73806679e-01  2.00792977e+00\n",
      "  -9.83577947e-01 -1.68427934e-01 -4.65488779e-01 -3.92735343e-01\n",
      "  -4.04240413e-01 -4.40992962e-01 -1.81898750e+00 -1.43463512e+00\n",
      "   1.74064087e+00 -1.32570804e+00  1.24006829e-01 -7.60314367e-01\n",
      "  -5.13413133e-01  1.06936682e+00  1.03287180e+00 -2.93100220e-01\n",
      "  -1.34456143e-01 -9.12546708e-01 -7.52253345e-01  3.86420158e-01\n",
      "   1.01342441e+00  8.26727459e-01  1.24868390e+00 -1.05443819e+00\n",
      "  -5.89488486e-01 -3.97569257e-01  1.04239655e+00 -3.13010964e-01\n",
      "   7.43565722e-01  1.12423053e+00 -1.01056327e+00 -6.68797784e-01\n",
      "  -2.81048483e-01 -2.60649098e-01 -1.00441732e+00 -3.41817916e-02\n",
      "   1.18289383e+00  3.34913309e-01 -1.61234580e-01  2.81951657e-02\n",
      "   4.30833172e-01  4.55954887e-01 -7.69207594e-01  5.27313748e-01]\n",
      " [-8.23866163e-01 -1.20740436e+00 -6.99985945e-01  1.54499866e+00\n",
      "  -6.22937706e-02 -2.78736129e+00  9.45618966e-01 -3.54174404e-01\n",
      "  -5.96673834e-02 -3.74217368e-01  6.04894733e-01  7.91250486e-01\n",
      "   6.90439959e-01  1.60487739e-01  2.01275487e+00  1.49253895e-01\n",
      "  -5.63828109e-01 -7.18292747e-01  2.35129521e-01 -2.46287058e-01\n",
      "   5.94819802e-01  1.92329987e-01 -1.31795563e+00 -2.47991763e-01\n",
      "   6.54452694e-01 -2.05011900e-01 -1.03007618e+00 -3.50467935e-01\n",
      "   8.44989337e-02  4.99714001e-01  8.42799181e-01  7.17496841e-01\n",
      "   1.68573854e-01  4.45716461e-01 -3.89966290e-01  6.98013538e-01\n",
      "   1.32444109e+00  9.30802814e-01  1.99842002e+00 -1.46968237e-01\n",
      "   1.01659434e-01 -8.95394219e-03 -1.18058214e+00 -6.33088319e-01\n",
      "   3.80843720e-01 -1.17197457e+00  4.75717494e-01  2.04030573e-01\n",
      "  -1.40496571e+00 -7.02844656e-01 -3.00331353e-01 -1.23179120e-01\n",
      "  -1.92060762e+00 -1.10526500e-01 -3.48450520e-01 -1.73783464e+00\n",
      "  -7.69689012e-02  1.50183297e+00  1.42753444e+00  6.39249068e-01\n",
      "   1.57240789e+00 -1.73777862e-01  1.22328375e+00  7.93543934e-01\n",
      "  -1.81019864e+00  1.41689733e-01  6.38636062e-01  2.50512074e-01\n",
      "   5.55650313e-01  3.61189402e-01  1.79508532e-01 -2.18884324e+00\n",
      "  -1.43232297e+00  4.71483488e-01  9.73559222e-01  1.34099943e+00\n",
      "  -3.31653562e-01  2.25445893e-01  1.21822434e+00 -5.91550200e-02\n",
      "  -1.47814393e-01  2.25902991e-01 -4.85616942e-02 -8.39756496e-01\n",
      "   2.21570029e-01 -1.14926685e+00 -1.17501898e-01 -1.73851383e+00\n",
      "   3.78979300e-01  6.57111578e-02 -7.21326970e-02  8.40943095e-01\n",
      "  -4.62648510e-01 -3.97437746e-01  2.12953777e-01 -1.09447146e+00\n",
      "   7.33378532e-01 -1.94634277e-01 -3.71081502e-01 -2.20318927e-01]\n",
      " [-1.47130873e+00 -1.58694966e+00  1.03748039e+00  6.45416644e-01\n",
      "   5.66761616e-01 -4.91005271e-01  3.92745183e-01  4.92339153e-01\n",
      "  -9.62923706e-01 -1.08471032e+00 -1.22137273e+00 -4.48743525e-02\n",
      "  -4.92698232e-01  9.15353554e-01  1.55506848e+00  3.50739373e-01\n",
      "   1.49968010e-01  1.68573101e+00 -8.19139133e-01  5.99484104e-01\n",
      "   9.17628429e-01  5.85510683e-01  1.57995100e-01  4.45603260e-01\n",
      "  -2.27829418e-01  1.00221845e+00 -1.69527406e+00  1.32064500e+00\n",
      "  -8.41319879e-01 -1.90673275e+00  4.34207953e-01  1.15043168e+00\n",
      "   1.59895059e+00  6.83517786e-01  2.59358868e+00  1.39063197e+00\n",
      "   1.30777358e+00  5.97826577e-01  5.86209342e-01 -5.30117437e-01\n",
      "  -5.94329910e-01 -9.88002615e-01  1.95766410e-01 -1.99161087e+00\n",
      "  -8.09941031e-01  1.50956221e+00  6.85605287e-01  1.22593087e-04\n",
      "  -1.58048608e-01 -1.02407884e+00  1.34415466e+00 -4.17795292e-01\n",
      "   1.07546518e+00  1.16019107e+00 -2.10917085e-01  6.10526858e-01\n",
      "   7.05932171e-01  1.82239175e-01 -2.05798562e-01  6.73969399e-01\n",
      "  -4.43697181e-01 -1.45506885e+00 -5.07971489e-01 -1.63802835e+00\n",
      "   2.62393002e-01  1.32331564e+00 -5.46987923e-01 -9.79237260e-01\n",
      "  -4.27107836e-01  8.94760413e-01  2.15360435e-02 -5.77925989e-02\n",
      "   1.85559512e+00 -1.46812405e+00 -1.96044032e+00 -5.95222462e-01\n",
      "   2.31262081e-01  7.57207663e-01 -2.75688919e-01  1.49879048e+00\n",
      "   2.56415878e-01  7.25214906e-01  7.04157154e-01 -1.23923055e+00\n",
      "   1.02874645e+00  1.25855422e+00 -3.59032677e-01 -1.82265832e-01\n",
      "  -3.02909104e-01  9.89723166e-01 -5.07580541e-01 -1.04682612e+00\n",
      "  -8.71909593e-01  1.62173568e-01 -9.16612858e-02 -8.78909182e-01\n",
      "  -3.80462083e-01 -1.62373667e+00 -2.07687552e-01 -8.09874981e-01]\n",
      " [-3.54052343e-01  4.45441414e-02  2.38056954e-01 -1.22139880e+00\n",
      "  -3.67207773e-01 -9.63832325e-01 -6.75264795e-01  1.60911939e+00\n",
      "   7.41329327e-01  9.54133076e-01  5.02094806e-01  8.52035631e-01\n",
      "  -9.58883280e-02  1.20690310e+00  5.60312696e-01 -2.10426865e-01\n",
      "  -1.13168657e+00 -8.56052689e-01 -1.11882732e+00 -2.88822998e+00\n",
      "  -7.52871944e-01 -1.83400684e+00 -7.16347756e-01  7.17184387e-01\n",
      "  -1.53463051e-01  9.62109886e-01  1.86837878e-03  6.81481581e-01\n",
      "   7.94544076e-02 -2.94425194e-01 -1.07637564e+00  3.33490607e-02\n",
      "   7.43139517e-01 -4.83678265e-01 -8.71680675e-01 -2.30830502e+00\n",
      "   5.77641367e-01 -5.47512428e-01  8.68065869e-01 -5.42542769e-01\n",
      "  -1.89432449e-02  9.29447906e-01  6.37885757e-01 -2.00188023e-01\n",
      "   1.54443851e+00 -1.41805348e+00 -2.05293346e-01  1.57676504e+00\n",
      "   1.11563919e+00  1.29513174e+00  2.16893567e+00  1.40683242e-01\n",
      "  -7.95387921e-01  1.59292218e-01 -1.20772133e+00  2.66762377e+00\n",
      "  -9.31752693e-01 -6.70420827e-01 -7.75854233e-01 -1.33489321e+00\n",
      "  -9.06882254e-01  1.51709784e-01 -3.03366124e+00  8.07947157e-01\n",
      "   1.54409081e+00  3.43552528e-01  9.30420632e-01  1.36001945e-01\n",
      "  -9.17842651e-01  1.24295079e+00  1.26190453e+00  2.51515923e-01\n",
      "  -3.60361546e-01 -1.29468873e+00 -1.97623620e+00  7.00054546e-01\n",
      "   7.79768384e-01  1.19326451e-01  4.60468610e-01  1.99956376e+00\n",
      "   1.26616615e+00  5.91511202e-01  1.93817345e-01 -6.35074774e-01\n",
      "  -1.40007018e+00  8.66542125e-01  1.45420364e+00  1.11150603e+00\n",
      "  -1.38276980e+00 -1.92005536e-01  1.10086798e+00 -8.55669092e-01\n",
      "  -9.40541715e-01  1.01880212e+00  5.11220632e-01  1.12359086e+00\n",
      "  -1.33823179e-01  4.99747539e-01  2.16835423e-01 -3.67832180e-01]\n",
      " [-7.36843953e-01  2.80416038e+00  1.17876408e+00 -6.23531157e-01\n",
      "   1.31879779e+00 -1.18377443e-01  3.39022188e-01 -1.14902212e+00\n",
      "  -1.02251672e+00  7.93176276e-01 -2.10014098e+00 -8.18442848e-01\n",
      "   6.98413925e-01 -9.99870765e-01 -1.20304750e+00 -1.37692701e+00\n",
      "  -4.74172414e-01  9.36997093e-01 -1.99928151e+00  1.43043389e+00\n",
      "   2.95822562e-01 -8.54348235e-01  1.07579473e+00  2.16919028e-01\n",
      "   1.83007176e+00  6.09581031e-01  1.93300403e+00 -1.77523488e+00\n",
      "  -2.39257500e-01 -6.01020449e-01  2.14192093e+00 -1.23973261e+00\n",
      "  -3.95233412e-01  8.31608959e-01 -1.31295444e+00  3.94680212e-03\n",
      "   4.57824545e-01  3.14826203e+00 -2.46789731e-02  2.89876787e-01\n",
      "  -7.21681504e-01  1.89432848e+00 -1.70677097e+00 -3.53887639e-02\n",
      "  -6.42023611e-01 -1.17993761e-01  1.89205136e+00  2.00467937e-01\n",
      "   1.51441783e+00 -1.01291007e+00  2.74030159e+00 -5.42327732e-01\n",
      "  -5.46171785e-02 -1.52094844e-01 -4.82442433e-01  6.92674783e-02\n",
      "   1.35591537e+00 -2.24150547e-01 -6.86906200e-02  6.88525119e-01\n",
      "   9.89815932e-01  3.25465609e-01 -1.89483355e+00  9.56729158e-01\n",
      "  -2.32311426e+00  7.40141409e-01 -1.25313616e+00 -3.06753030e-01\n",
      "  -2.81381024e-01  7.92246823e-01 -2.27235774e+00  4.39527929e-01\n",
      "   5.36374600e-01 -1.04072877e+00  1.08808837e+00  2.55986091e+00\n",
      "  -4.96410072e-01 -9.23521138e-01 -2.86705969e-01 -7.68465398e-01\n",
      "   1.48959543e-01  3.29771096e-01  9.52132148e-01 -1.48463933e+00\n",
      "   5.43798017e-01  4.20864264e-01  1.09173566e+00 -2.46025497e-01\n",
      "  -3.65323252e-02 -2.03491960e-01  2.29072359e-01  1.13167119e+00\n",
      "  -1.54088918e-01 -6.38168426e-03 -1.11540785e-02 -2.17177554e+00\n",
      "   1.61365716e+00 -7.93471037e-01  3.64600931e-01  1.58253111e+00]\n",
      " [ 1.12616479e+00  1.42021139e+00  5.68133581e-01 -2.31449165e-01\n",
      "   8.95880702e-01 -1.86851375e+00 -1.43871837e-01  8.77522982e-01\n",
      "   8.61149378e-01  5.18900663e-01  1.35740263e+00  1.28279711e+00\n",
      "  -6.11759071e-01 -1.39757238e+00  8.53601329e-01 -2.43353194e-01\n",
      "   5.75608339e-01  4.40958913e-02  1.39038865e+00  2.25936707e+00\n",
      "   1.73681373e-01  1.30207148e+00 -3.90587479e-01  4.30249713e-03\n",
      "   1.87888789e+00 -2.19759169e-01  6.00593112e-01  1.57909614e+00\n",
      "  -1.36140971e+00 -1.82648925e+00  6.58697237e-01  1.07043226e+00\n",
      "   2.99585495e-01 -1.84615402e+00 -7.13708493e-01  2.08868138e+00\n",
      "  -1.19953858e+00  1.43914706e+00  3.29562755e-01 -1.01840000e+00\n",
      "  -9.26261756e-02  6.62523849e-01  3.93116153e-01 -2.16247386e-01\n",
      "   2.83485812e-01 -7.10719853e-01  5.24228317e-01  8.46988725e-01\n",
      "   1.24480717e+00  1.43770805e+00  4.97586459e-01  3.22056247e-02\n",
      "   3.77341371e-01  1.49033142e+00 -6.65751530e-01 -4.29420240e-01\n",
      "  -4.51119651e-01  8.46935748e-01 -1.05566548e-01 -2.07971415e-01\n",
      "   8.77559744e-01  1.04123169e+00 -6.24850648e-01  2.97001470e-01\n",
      "  -1.22875435e+00 -1.40552042e+00  8.75578635e-01  4.40824474e-01\n",
      "   7.40654673e-01  4.46519220e-01  3.13631229e-02 -9.78302774e-02\n",
      "  -1.17046805e+00  1.79038120e-01  4.27191946e-01  4.05570888e-01\n",
      "   3.22957032e-01  4.30341544e-01 -1.43559478e+00 -5.82843507e-01\n",
      "  -1.03609065e+00  2.43286072e+00  4.11473698e-01  6.52704768e-01\n",
      "  -4.13545740e-01 -1.57242308e-02 -2.89954178e-01  1.06819317e+00\n",
      "   9.47007694e-01 -1.48491630e+00 -9.54926464e-01  9.92042233e-01\n",
      "  -1.77059319e+00  1.72656593e+00  8.57057547e-01 -7.37801272e-01\n",
      "   2.39674487e+00  1.34753459e-01  1.01000016e+00  7.92445921e-01]\n",
      " [-4.72723057e-01  6.41565012e-01 -1.20701466e+00  1.48993266e+00\n",
      "  -4.30664111e-01  8.73540196e-01  3.05567407e-01 -9.90759613e-02\n",
      "   3.97350609e-02  8.25685557e-01  2.45211492e-01  5.33999904e-01\n",
      "   1.38003879e+00  8.20956821e-01 -1.40370499e+00  1.29807199e+00\n",
      "   1.61260629e+00 -8.54330076e-01 -1.02829090e+00  3.33624871e-01\n",
      "   9.63287351e-01 -9.21396567e-01  1.63267426e+00  9.26617176e-01\n",
      "  -9.74655447e-01  1.56551255e-01  1.98767377e+00 -7.35625299e-01\n",
      "  -2.91192001e+00 -1.03802387e+00  3.58905598e+00 -2.02191486e+00\n",
      "   5.73426102e-02 -9.29685649e-01  1.61130413e+00  3.81390341e-01\n",
      "  -4.04429683e-01  3.46603729e-01 -1.62065846e-01 -1.16726480e+00\n",
      "   6.35478374e-01  9.92594262e-02  9.33241075e-02 -5.79317357e-02\n",
      "   6.39769099e-01 -7.58203839e-02 -2.97009329e-01 -3.06965715e-01\n",
      "  -2.78958702e-01 -9.46939408e-01 -1.54596270e+00 -2.76674016e-01\n",
      "  -1.31437983e-01  3.05683484e-01 -1.80414429e+00 -2.63438539e-01\n",
      "   3.32473793e-01 -2.14341507e+00  2.13334131e+00  7.17389168e-01\n",
      "  -2.08765489e+00  5.10858663e-01 -1.04337992e+00  4.15682341e-01\n",
      "   9.40721407e-01  3.44278181e-01  3.34025759e-01  1.15195416e+00\n",
      "   6.55939376e-01  6.88435380e-01 -5.29174782e-01  6.92088901e-01\n",
      "  -2.86756122e-01 -4.58811037e-01  2.45558230e+00  2.86701110e-01\n",
      "  -1.90289955e+00 -7.26751450e-01  5.00803301e-01  1.20286570e+00\n",
      "   7.72945794e-01  1.46328432e+00 -1.77135442e-01 -4.93514965e-01\n",
      "   1.55736725e+00 -2.70974477e-01  4.65017429e-01  8.70480847e-01\n",
      "  -3.76179533e-01  3.09376251e-01 -2.92829001e-01  6.31080563e-01\n",
      "   2.84257761e-01  7.09135254e-01  1.16673562e+00  1.55677225e+00\n",
      "  -8.58830475e-02  1.61849498e+00  2.87653076e-01 -1.29995712e+00]\n",
      " [-2.34720914e-02  6.26825674e-01 -1.64598989e-01  2.80998647e-02\n",
      "  -7.57644495e-01 -1.08075585e+00 -8.11455205e-01 -2.22431387e-01\n",
      "  -1.09734295e+00 -2.71362226e-01  2.17298171e-01 -4.74666442e-01\n",
      "  -1.32232885e-01  3.63304991e-01  1.18146076e-01 -7.23289862e-01\n",
      "  -4.48298294e-01 -1.41502383e-01  4.09332079e-01  1.31860363e+00\n",
      "   5.65768076e-02  1.00306156e+00  9.06060060e-01  2.96433801e-01\n",
      "  -1.27440053e+00 -3.05555887e-01  3.18964189e-01 -6.00310059e-01\n",
      "   2.37817641e+00  1.15538092e+00 -4.62244952e-01  1.29032670e+00\n",
      "  -3.63274328e-01  6.61191359e-02 -4.21802485e-01 -4.69177138e-01\n",
      "  -7.00828957e-02  4.27042495e-01 -7.55599230e-01 -8.29111033e-01\n",
      "  -1.69731321e+00 -1.11087632e-01 -4.89600900e-01  8.43731311e-01\n",
      "  -1.72883703e+00  1.25329092e-01 -8.74782324e-01 -1.79124668e+00\n",
      "  -1.93451791e+00 -1.02849445e+00  1.03414541e+00  2.65616762e-01\n",
      "   1.48525246e+00  3.60282307e-01  3.92192772e-01  2.04413231e-01\n",
      "   6.14888490e-01  9.87771539e-02 -8.47782530e-02  1.63551192e-02\n",
      "  -8.86371961e-01 -1.34529347e+00 -2.20906812e-01 -1.72364865e+00\n",
      "  -8.31617879e-01 -1.13001821e+00  6.05717731e-02 -3.98941349e-01\n",
      "   1.72205009e+00 -1.67395012e+00  8.40488573e-01  2.52983948e-01\n",
      "  -1.09554996e-01 -4.63582194e-01 -1.30789982e+00  1.09321064e-01\n",
      "   1.17941949e+00 -3.60890808e-01  6.81092634e-01  3.79420178e-01\n",
      "  -1.47435811e+00  8.99840846e-02 -1.40955325e+00 -1.14085835e+00\n",
      "   5.05972938e-02  2.06166254e+00  8.99307358e-02  2.06305862e+00\n",
      "   6.50809960e-01  4.86148573e-01  4.34169831e-01 -7.04274100e-01\n",
      "   5.36897556e-01  3.59367376e-01  8.26389983e-01 -5.30518470e-01\n",
      "   1.66787084e-01 -4.89277553e-01 -5.08085134e-01  5.94501298e-01]\n",
      " [ 1.47944799e+00  6.51305551e-01 -1.93208177e-01 -9.98999777e-01\n",
      "  -7.82635987e-01 -8.24555832e-01  1.41575109e+00 -2.90360788e+00\n",
      "  -2.54000087e-01  9.16061313e-01  2.07638338e-01  1.28391822e+00\n",
      "   4.87272922e-01  1.32392620e+00 -4.39692682e-01  3.27775094e-01\n",
      "  -1.54535291e+00  1.41748482e+00 -6.30942753e-01  1.30494937e+00\n",
      "   2.96911851e-01 -9.29275204e-01  4.35528732e-01 -4.09344358e-01\n",
      "   1.83313746e-01  1.37666707e+00  1.81242410e+00 -1.66170670e-01\n",
      "  -2.96241107e-01  1.88901570e+00  1.26631887e-01  9.86540175e-01\n",
      "  -5.02621615e-03 -7.61838944e-01 -4.71758911e-01  2.57540019e-01\n",
      "  -4.30423658e-01 -6.37314803e-01 -1.74051987e+00  1.91685081e-01\n",
      "   9.77297888e-01  1.63161537e+00  3.68560158e-01  1.58473726e+00\n",
      "   1.49208914e+00  1.16504786e+00 -2.19815853e-01  1.47519037e+00\n",
      "   2.72768191e+00  8.00176418e-01  1.43992927e-01 -3.78815852e-01\n",
      "  -2.20454296e-01 -1.39873014e+00  1.12567036e+00  1.86602179e-01\n",
      "  -6.10285548e-02 -1.81682337e+00  8.03387420e-01  2.29081094e-01\n",
      "   5.91509007e-01 -5.84370265e-01  1.96614506e-01 -5.17974865e-01\n",
      "  -6.41484266e-02  1.08965106e+00 -7.98986882e-01 -1.56863159e-01\n",
      "   3.85556620e-01 -2.46295550e-01  5.30251184e-01  2.20073100e+00\n",
      "   6.73121492e-01 -2.27464908e+00 -6.92938534e-01 -4.13184193e-01\n",
      "  -1.13150712e+00  1.76517202e-01  1.62885572e-01 -6.15569600e-03\n",
      "  -3.92219237e-01  4.95544184e-01 -1.66862496e+00 -4.59554282e-01\n",
      "  -8.16307922e-01  1.91585449e+00 -6.58639248e-01  7.74219879e-01\n",
      "   1.57510315e+00  1.68275456e+00  8.73538112e-01  5.95403119e-01\n",
      "  -6.81308329e-01 -9.90016671e-01 -1.32228045e-01  8.58977930e-01\n",
      "  -7.48707736e-01  5.55233544e-01  8.68946441e-01  1.52999479e+00]\n",
      " [-5.09957894e-01 -3.41814429e-01 -2.03170783e-01 -5.22203876e-01\n",
      "  -5.40523161e-02  4.70724478e-01  6.63359155e-01  1.49231274e-01\n",
      "  -5.24236732e-01  1.78308182e-02  7.31678579e-01  4.88916787e-02\n",
      "  -4.29308503e-01  4.53980216e-01  3.41341127e+00 -4.71151962e-01\n",
      "  -3.39600348e-01 -6.92787800e-01 -1.79787088e-01 -6.11667989e-01\n",
      "  -2.53539717e-01 -2.18891639e-01  4.07124534e-01 -1.29167278e+00\n",
      "  -1.35220146e+00 -2.17541072e-01  2.93915407e-02  1.12600948e+00\n",
      "  -1.72279382e+00 -1.20906946e+00  3.40732226e-01  1.61290346e-01\n",
      "   1.44931384e+00 -3.27112269e-01  1.31690410e+00 -4.13182463e-01\n",
      "   1.33576023e+00 -4.03524946e-01 -1.06778663e+00 -7.27954416e-01\n",
      "  -1.22953930e+00 -4.47411813e-01  1.76685334e+00  4.98063845e-03\n",
      "  -1.22589807e+00 -1.54042713e+00  1.81349166e+00  9.62880304e-01\n",
      "  -7.97454922e-01  3.57735821e-01 -1.08931988e+00 -5.44409382e-01\n",
      "  -2.88417353e-01  1.09186313e+00 -7.91011537e-01  2.39369702e-01\n",
      "   5.72871779e-01  9.66043746e-01 -7.76217031e-01  1.43239414e+00\n",
      "   1.64457785e+00  1.49455765e+00 -9.43863858e-01  1.32004968e-03\n",
      "  -1.21067680e+00 -7.26330448e-01  5.14224088e-02  4.19617353e-01\n",
      "  -6.30145249e-01 -4.72729161e-01 -2.34142750e-03  4.46230110e-01\n",
      "  -6.30204667e-01  1.42534030e-01  1.02655662e+00  5.60562717e-01\n",
      "   1.87368785e+00  1.05569464e+00 -3.08613356e-01 -7.53481350e-01\n",
      "   6.96110329e-01  7.73390588e-01  6.87718546e-01  2.38582242e-01\n",
      "   9.60502352e-01 -1.09825960e+00 -1.17324924e+00 -3.82098020e-01\n",
      "  -9.70997909e-01 -5.82592515e-02  5.90862461e-01  1.46714783e+00\n",
      "  -2.13547843e-01 -1.98919599e+00 -6.46494671e-01 -1.48492186e+00\n",
      "   1.05276015e+00 -1.32750214e-01  1.42964676e+00  1.54930959e+00]\n",
      " [ 1.55274756e+00  1.36955203e-01  6.67337367e-01  1.65519860e+00\n",
      "  -1.96321062e-01 -8.54238091e-01 -9.33634347e-01 -4.77940118e-01\n",
      "  -5.88177757e-01 -6.96029680e-01  1.66568635e+00  1.28052946e+00\n",
      "   4.84773062e-01  6.17112317e-01 -8.32654576e-02 -3.41487222e-01\n",
      "   2.77957938e-01 -9.86395817e-01  8.58136758e-01  1.29407117e+00\n",
      "  -1.60104065e+00  9.84918335e-02 -2.07064447e+00 -4.92891708e-02\n",
      "  -1.48501291e+00  4.54473666e-01  5.59791479e-01  8.34894154e-02\n",
      "   1.25404349e+00  6.44746485e-01 -4.12255907e-02 -8.09701793e-01\n",
      "  -3.96997973e-01  1.12137032e+00  4.24152184e-01  8.95108651e-01\n",
      "  -1.76632360e+00  8.52921440e-01  6.62773167e-01 -3.44790913e-01\n",
      "  -3.15118317e-01 -4.38524732e-01  3.01228688e-01 -1.88755899e-02\n",
      "  -1.15759606e+00  1.50955881e+00  1.07981624e+00 -1.58700162e-01\n",
      "   4.22626406e-01  1.81245827e+00  3.93983727e-01 -6.34026001e-01\n",
      "   8.57121038e-01 -6.78102399e-01 -2.56806586e-01  3.39095970e-01\n",
      "   1.67007656e-01  1.74923810e+00  6.95392913e-01 -6.73056172e-01\n",
      "   1.19108590e+00 -6.05574528e-01  5.12036671e-01  8.66495111e-01\n",
      "   3.57028652e-01 -1.09329407e-01  1.23172107e+00  6.21708851e-01\n",
      "   8.31077941e-01  6.74986428e-01 -5.08113944e-01 -1.15816373e+00\n",
      "  -7.82607622e-02  9.53608519e-01  6.22877055e-01  5.67788043e-01\n",
      "  -1.12623131e-01  7.26505244e-01  2.75615101e-02  1.64174661e-01\n",
      "   1.48361972e+00  1.13233992e-01 -7.69733589e-01  3.40992909e-02\n",
      "   1.92554741e-01 -2.96839496e-01  7.13741433e-01  1.07672265e+00\n",
      "   4.94332140e-01 -1.82722374e-01  2.20804265e-01 -1.79889126e+00\n",
      "  -1.08544579e+00  4.68075277e-01  1.89519796e+00  6.66934600e-01\n",
      "  -1.00226197e+00  9.66668406e-01 -9.95214994e-02 -1.28321888e+00]\n",
      " [ 1.11254984e+00  5.46350603e-01 -2.96071866e-01  1.84439485e+00\n",
      "  -6.72124836e-01 -8.82160203e-01 -4.94258452e-01 -1.09316836e+00\n",
      "  -9.52235986e-01 -2.15840395e-01 -8.27789383e-01 -8.78683186e-01\n",
      "  -8.89208962e-01  3.80347802e-01  1.45079918e+00 -1.39251396e-01\n",
      "  -4.51227807e-01  1.09929878e+00 -1.38850799e+00 -1.33485856e+00\n",
      "   4.69070700e-01 -1.50164097e+00 -4.16706089e-01  2.62700861e-01\n",
      "   8.80970261e-01 -1.20159712e+00  8.40460578e-01  1.19886333e+00\n",
      "   2.17989232e-01  4.51157220e-01 -1.33881996e+00  8.42827088e-01\n",
      "   4.30034602e-01 -4.86868485e-01 -1.04266361e+00 -5.47457793e-01\n",
      "  -1.97359860e+00 -1.30021027e+00 -1.71481061e+00 -1.06031520e+00\n",
      "   1.84458537e-01 -1.81914692e+00 -1.04338540e-01 -1.51098965e+00\n",
      "  -9.28871441e-01  7.95550328e-01 -8.13356178e-01 -1.49022140e+00\n",
      "   1.17734287e-01  3.94368797e-01 -7.63451429e-01  5.78670543e-01\n",
      "   8.59428317e-02 -6.31015067e-02  6.04049555e-01  8.62463689e-01\n",
      "   2.61038967e-01  1.05738555e+00 -4.71060398e-01  8.60190935e-01\n",
      "   3.95399764e-01 -4.00698845e-01  1.41251509e+00 -2.82803325e-01\n",
      "   8.19830098e-01 -3.53871242e-01 -1.54957336e+00  1.38702886e-01\n",
      "   9.37764947e-01 -3.11139236e-01  2.66859338e+00 -1.65777329e-01\n",
      "  -9.27172840e-01  2.11172624e-01  6.30276012e-02 -1.86847860e+00\n",
      "  -8.91528549e-02 -1.07244094e+00  1.51331619e-01 -2.45788140e-01\n",
      "  -2.16384389e+00  4.58990228e-01  8.19472295e-01 -6.17241477e-01\n",
      "  -4.32414501e-01 -4.16828533e-01  1.93095371e-01  5.01251835e-01\n",
      "  -4.49866887e-01  2.60335129e+00  3.49539217e+00  2.99108608e-01\n",
      "   7.32675512e-01  1.36384575e+00 -4.53803950e-01  1.25611983e-01\n",
      "  -3.08732250e-03 -4.50664228e-01 -6.72639876e-01  3.86704827e-01]\n",
      " [ 7.80232475e-01 -1.60319356e+00 -3.67840539e-01 -1.91140668e+00\n",
      "   3.48744291e-01 -5.56855219e-01 -4.22220253e-01  6.90029057e-01\n",
      "   1.02552359e+00  1.41575690e+00 -2.41323634e+00 -2.11344195e+00\n",
      "  -3.32367840e-01  1.98501649e+00  9.88474142e-01  1.28837289e-01\n",
      "  -2.91514253e-01  3.04643552e-01 -3.05570910e-01 -2.05878128e-01\n",
      "   7.17014679e-01 -1.58820204e-01  1.87310577e-01 -3.27179184e-01\n",
      "  -8.62882520e-01 -5.91226493e-01  1.38998478e+00 -5.23736276e-01\n",
      "   1.02946951e+00 -6.22167645e-01  3.08224491e-02  4.70149861e-01\n",
      "   1.42000866e+00 -9.93866238e-01  8.89503374e-01  1.21067461e+00\n",
      "  -6.74135161e-01 -1.53205327e+00  3.51736969e-01 -1.33723559e+00\n",
      "  -1.52432590e+00  5.77325262e-01 -6.33831893e-01 -4.55843480e-03\n",
      "   2.58234334e-01  7.78984294e-01 -9.16509322e-01 -1.18803334e+00\n",
      "   1.24041856e+00  6.51722428e-01  7.16192064e-01 -1.72615613e+00\n",
      "   9.45778770e-02  1.66493733e-01 -1.09274734e+00  2.43190859e-01\n",
      "   1.70371254e+00  4.91937712e-01 -1.16186949e+00  2.32181010e+00\n",
      "  -2.98211785e-01  1.18859352e-01 -1.12207419e+00 -2.82689935e-01\n",
      "  -1.62138511e-01  4.47496833e-02  2.84966368e-01  4.39080059e-01\n",
      "  -5.58436272e-01 -1.62093870e+00  1.78217999e-01  5.56483760e-01\n",
      "   9.43154655e-01 -8.27856087e-01  1.15549779e+00  2.51729322e-01\n",
      "   1.73164563e+00  1.65134583e+00 -2.71319442e-01 -7.96706249e-01\n",
      "   2.04763397e+00 -1.40510267e+00  4.92311862e-01  8.58287946e-01\n",
      "  -9.83216287e-02  7.39637701e-01 -9.22892925e-01  1.17287328e+00\n",
      "  -6.03160459e-01  1.65788473e+00 -1.98611930e+00  9.17820874e-01\n",
      "  -1.00415375e+00 -7.56522425e-01 -1.97442969e-01  7.41512344e-01\n",
      "   1.50840678e+00  6.76249644e-01 -6.79782981e-01  4.65462353e-01]\n",
      " [-1.04053341e+00  1.26339563e-01 -3.15125724e-02  8.34345222e-01\n",
      "  -2.37658317e+00 -6.70286649e-01  3.07843161e-01  9.49936033e-01\n",
      "  -7.20033675e-01 -1.62617155e+00  4.28021461e-02  1.01852467e+00\n",
      "   2.89100406e-01 -9.84440195e-01  9.75806865e-01  6.11322213e-01\n",
      "  -5.01596462e-01  3.44811196e-02 -7.27289756e-01  6.84649594e-01\n",
      "   4.47883686e-01 -4.37905971e-01 -8.58265355e-01  2.15086703e-01\n",
      "  -4.36329062e-01 -7.33963952e-01 -5.39817937e-02  2.03895431e-01\n",
      "   4.16152215e-02 -7.20528161e-01 -1.79483239e+00 -6.44198307e-01\n",
      "   1.03602658e+00  2.34714228e+00  7.95141101e-01  4.85297787e-01\n",
      "   1.08890841e+00 -1.33084119e+00 -2.05291281e+00  4.75415439e-03\n",
      "   2.69169139e-01 -6.37660985e-01  1.20601858e+00  1.43060156e-01\n",
      "   1.01218174e+00 -1.92879546e-01 -1.43139202e+00  5.12970546e-01\n",
      "   4.75965549e-01 -6.13135469e-01  6.17272326e-01  1.91384513e+00\n",
      "   1.28069336e+00 -1.35753331e-01  3.88540030e-01 -1.63277273e+00\n",
      "  -3.02893247e-01 -4.38959896e-01 -4.29914018e-01  1.19068395e+00\n",
      "  -6.46063314e-01  1.97760059e+00 -9.91415724e-01 -1.46682176e+00\n",
      "  -1.99345371e-01 -2.49703228e-01  6.77665606e-01  1.45586441e-01\n",
      "   1.86750171e+00 -7.26246706e-01  1.75182848e+00  1.68209516e+00\n",
      "   5.55976401e-01  5.85404844e-02 -6.28802021e-01  5.74218420e-01\n",
      "  -9.17870590e-01  1.30749738e+00 -2.43376707e-01  2.23562951e+00\n",
      "  -4.02682057e-01  9.04847768e-01  2.35249297e-01  8.22772415e-03\n",
      "  -1.52565283e+00 -3.94973779e-02  7.83983152e-01 -6.63772891e-01\n",
      "   8.64673406e-01  1.11841174e+00  2.73422562e-01 -3.36757969e-01\n",
      "   6.34207335e-01 -7.85531235e-01 -7.42294121e-01  2.01852283e+00\n",
      "   3.39325348e-01  2.97042908e-01  9.04823310e-01 -1.99350203e+00]\n",
      " [-9.48527318e-01 -4.44372261e-01 -1.34603580e+00 -5.17357118e-01\n",
      "   4.13545867e-02  7.21653087e-01  6.63851001e-01 -1.70021407e+00\n",
      "  -4.37958146e-01  3.42765076e-01 -8.51101716e-01 -1.72691554e+00\n",
      "  -2.32654740e+00  1.55524642e+00  2.45917310e+00 -1.30628773e+00\n",
      "  -1.82486546e+00 -4.59033821e-01 -7.26861243e-01  7.74853742e-01\n",
      "  -5.90390370e-01  1.34704601e+00 -7.06747211e-01 -3.88764973e-01\n",
      "  -1.71020741e+00 -6.69908044e-02  6.54095447e-01  8.83599456e-01\n",
      "  -3.42424529e-02  3.42625897e-01 -4.57290451e-01 -3.28259738e-01\n",
      "  -1.23073030e+00  1.98371101e-01 -1.14141486e+00  4.50046321e-01\n",
      "  -1.99659332e-01  1.02193660e-01  5.71050656e-01 -9.43621605e-01\n",
      "   9.97091531e-01 -9.82436531e-02  1.53312210e+00 -1.91233693e+00\n",
      "  -9.13414424e-01  4.28933838e-01  3.48063712e-01  6.31105606e-01\n",
      "  -7.85945101e-02  1.21335217e-01 -8.53855785e-01  1.39157832e+00\n",
      "   8.81870172e-02 -5.97712558e-01 -1.16920690e-01 -5.84611325e-01\n",
      "  -1.86854497e+00  9.75053622e-02 -8.65817326e-02 -1.68136577e-01\n",
      "   2.77401786e-01 -9.52617832e-01  9.42149828e-02 -2.51474683e-01\n",
      "   7.92362273e-01 -5.10117482e-01  6.49086143e-01  6.50174543e-01\n",
      "  -1.14134859e+00 -1.80178167e-01 -7.17000501e-01 -1.02520789e-02\n",
      "  -1.11440392e+00 -1.96284789e+00  3.78855554e-01  7.17926305e-02\n",
      "  -6.85362143e-01  1.36667029e+00 -1.09477529e+00 -7.70961553e-01\n",
      "  -7.42944858e-01 -6.22576752e-01  3.01824277e-02 -5.60243020e-02\n",
      "   7.76476405e-01  3.63060181e-01 -1.99486429e+00  7.90761934e-02\n",
      "  -1.13920825e+00  3.37032383e-01  1.09440479e+00  1.23625743e+00\n",
      "   2.15805749e+00  1.27800164e+00  1.22981848e-01 -1.28570924e+00\n",
      "  -1.63724194e-01 -1.09857810e+00  9.43633619e-01  2.51741552e+00]\n",
      " [ 8.17935220e-01  7.00943878e-01 -2.37951353e-01  7.44270264e-01\n",
      "   7.93007714e-01 -2.39239348e+00 -3.71584532e-01 -5.89768004e-01\n",
      "  -6.35595221e-01  8.21448813e-01  5.20640184e-01  9.76135918e-01\n",
      "   1.90651860e+00  7.98545294e-01  2.93438551e-01 -1.97508939e+00\n",
      "  -1.29542422e+00 -1.47614459e+00 -1.47181176e-01  1.24847140e+00\n",
      "  -8.76503336e-01 -3.45283379e-01  9.08615844e-01 -1.53218969e-01\n",
      "  -7.03715047e-01  2.66218222e-01 -1.62435586e+00  3.38949844e-01\n",
      "   1.27598410e+00  1.24743712e+00 -2.56052391e-01  2.29541072e+00\n",
      "  -6.20756497e-01 -1.89525037e+00 -6.61107607e-01 -1.95870504e+00\n",
      "  -5.71703808e-01  2.08581456e-01 -1.07148664e+00  1.00358837e+00\n",
      "  -1.64170298e+00  1.99167769e-01 -1.57733863e+00 -9.42176500e-01\n",
      "  -9.93947039e-01  1.34154921e+00  9.36467440e-01  6.95466961e-01\n",
      "   1.38362933e+00  3.46214601e-02 -3.98613778e-03  1.72115675e+00\n",
      "  -1.79235873e-01 -6.55511096e-02  1.83588906e+00  1.99599355e+00\n",
      "   3.71201510e-03 -2.99688594e+00 -1.01799629e-01 -5.98819121e-01\n",
      "  -1.88230704e+00 -2.01904627e+00 -8.29160224e-01 -3.30468068e-01\n",
      "  -1.29803618e+00 -9.73848459e-01  9.27863528e-01 -4.26159619e-02\n",
      "  -1.89777439e+00 -1.19282314e+00 -2.29324210e-02 -9.78469014e-01\n",
      "   6.63235745e-01  1.00999147e-01  9.65135111e-02  1.23861512e+00\n",
      "   1.20090304e+00 -1.28732017e+00  1.19921606e+00 -8.82728749e-02\n",
      "  -8.79459353e-01  2.00373486e+00  1.20500205e-02 -1.23419162e+00\n",
      "   7.09692185e-01  6.60246836e-01  8.03581546e-01 -6.43488186e-01\n",
      "   4.96100814e-01 -1.31794892e+00  1.07360017e+00 -3.03181939e-01\n",
      "  -1.76624660e+00  3.58221862e-01 -3.97429519e-01  2.00726949e-01\n",
      "   1.23000967e-01 -4.47716826e-01 -2.22084212e+00  1.87449264e+00]\n",
      " [ 7.75565449e-01 -9.99186356e-01  2.64983049e-01  1.79953816e-01\n",
      "  -9.30729309e-01 -4.94933497e-01  1.01672472e+00 -1.16920718e+00\n",
      "  -1.90982046e+00 -1.13947902e+00  1.07269178e-01  3.95799530e-02\n",
      "   2.61748462e+00  9.39919880e-01 -1.38222496e-01  2.34423340e+00\n",
      "   5.23159967e-01  3.92987649e-01  4.22617677e-01 -2.66257476e-01\n",
      "  -4.12865694e-01 -9.43069616e-01 -1.37703361e+00  3.13667960e-01\n",
      "  -5.79883877e-01  9.70443585e-02 -2.01680930e+00  1.05376863e-01\n",
      "  -1.78240154e+00  2.17690379e+00  5.64368959e-02  1.56712598e+00\n",
      "  -2.88913484e-01 -8.42964003e-01  1.31229433e+00 -8.90900067e-01\n",
      "  -3.87717239e-02  1.48252125e+00 -1.21806605e+00  1.84814178e+00\n",
      "   2.16183574e-01 -1.90520437e+00  5.30017949e-01 -6.26305145e-01\n",
      "   1.28661238e+00  1.25102639e+00 -3.70387827e-01  9.05797515e-01\n",
      "  -3.93142913e-01  1.64519248e+00 -5.12317057e-01 -8.49547172e-01\n",
      "   3.53646401e-01 -4.58789211e-01 -8.84454139e-01 -2.78056794e-01\n",
      "   2.15620362e-01 -1.05391696e+00 -3.53215372e-01  6.99092083e-02\n",
      "  -6.98610978e-01 -1.45476212e+00 -2.54706534e-01  1.29988851e+00\n",
      "   1.49419961e+00 -7.27351009e-01  1.58366652e-01  3.20910786e-01\n",
      "  -2.01951369e+00  5.76913793e-01 -3.84938540e-01 -4.21194977e-01\n",
      "  -1.20308658e+00 -1.19866340e+00  9.72182832e-01 -4.48666651e-01\n",
      "   9.08196121e-01  1.47720357e+00  1.43819862e+00  1.11369675e+00\n",
      "   2.45543298e+00  1.57394169e-01 -3.32313338e+00  1.04852129e+00\n",
      "   7.58783785e-02  4.89556835e-01  1.23078972e+00  5.90566822e-01\n",
      "  -1.28826186e+00 -1.37633728e+00 -8.70995132e-01  1.50683694e+00\n",
      "  -8.07207467e-01  1.54584797e-01 -9.98459046e-01  3.52098119e-01\n",
      "  -9.88126951e-01 -1.69434352e+00 -7.80393537e-01  8.36057709e-02]\n",
      " [ 7.17830295e-01  1.81534119e-01 -7.76852169e-01 -1.35855707e-01\n",
      "   9.31101766e-01  6.09709358e-01 -1.01149383e+00 -4.06008366e-01\n",
      "  -8.74787854e-01  2.76147806e+00 -1.71943726e+00 -7.04100827e-01\n",
      "   1.05441366e+00  1.19779602e+00  7.98473312e-01 -1.00126175e+00\n",
      "  -5.37068698e-01 -1.13060159e-01  1.73844970e+00  1.55337013e-01\n",
      "   3.56891655e-01 -2.02825518e-01 -2.10228539e-01  1.29989897e+00\n",
      "  -8.60527100e-01 -1.61360256e-01 -6.30360921e-01  3.22086024e-01\n",
      "  -1.84569421e+00 -6.50656725e-01 -1.66272575e+00  1.29695237e+00\n",
      "  -9.64172690e-01 -5.52686646e-01 -9.23443605e-01 -3.31684556e-01\n",
      "  -6.89791115e-01 -2.73257573e-01  4.79463767e-01  3.67025964e-01\n",
      "   3.38606932e-01  8.69844222e-01 -2.10025056e+00 -3.95961939e-01\n",
      "  -3.84208194e-01  1.98000385e+00  3.13724641e-01 -1.01906975e-01\n",
      "  -1.43264252e+00  1.00961864e+00 -4.62826133e-01 -2.95134920e-01\n",
      "   1.13171253e+00  1.02403563e+00  7.44769848e-01  5.12870785e-01\n",
      "  -1.08785072e+00 -9.89921022e-01 -1.54782927e-02 -5.56698734e-02\n",
      "   1.05218807e+00  7.26926984e-01 -8.88701347e-01 -1.25268434e+00\n",
      "  -6.78460454e-01  1.44755897e-01  1.60069083e+00  1.32222445e+00\n",
      "   2.66388527e-02  8.68636843e-02  4.40723311e-01 -4.18798702e-01\n",
      "   1.59543417e+00  6.80788763e-02  1.87660339e-01  1.41761494e-01\n",
      "   3.51114780e+00 -4.88895328e-02  1.23295198e+00 -4.44858152e-01\n",
      "   1.79560543e+00  4.15508177e-01  2.06776858e+00  1.27940816e+00\n",
      "  -5.61543556e-01 -2.09916703e+00 -8.00272819e-02  3.42114108e-01\n",
      "   1.27312938e+00 -1.28011230e+00  8.86263190e-01 -5.63371884e-01\n",
      "   1.02311218e+00  1.00103150e+00 -3.98100151e-01 -5.48756634e-01\n",
      "  -1.00693183e+00 -2.67573439e-01 -7.15381185e-01  1.33587984e+00]\n",
      " [ 7.39443474e-01 -1.19946991e+00 -9.92721949e-01 -4.07939806e-02\n",
      "  -1.98450245e-01 -5.23017668e-01 -4.72864772e-01  6.86314521e-01\n",
      "   1.32083772e-01 -1.47472271e+00  3.80451080e-02  9.27645916e-02\n",
      "  -2.08740744e+00  4.41539557e-02 -6.50374511e-01  1.05965342e+00\n",
      "  -1.60128041e-01 -5.33421173e-01 -1.91018511e-01 -5.27341511e-01\n",
      "   1.41087697e+00  1.61009809e-01 -6.93640330e-01 -1.69823028e+00\n",
      "  -3.87281529e-01  5.93309383e-01  1.81006496e+00 -5.67266952e-01\n",
      "  -1.70423842e+00  2.22924838e+00 -3.71833844e-01  3.93566356e-01\n",
      "   8.68969240e-02  1.80415728e+00 -2.71220755e-01  7.70887962e-02\n",
      "   1.94830038e-01 -8.21675767e-01  5.26293820e-01 -1.30282546e-01\n",
      "   9.56951405e-01  8.97830482e-01 -1.05945650e-01  1.78169092e-01\n",
      "  -7.60098708e-01  5.69917032e-01 -1.38331668e-01 -6.79954462e-01\n",
      "  -1.30567806e-01  2.00697082e-01 -4.45651021e-01  6.39192066e-01\n",
      "  -1.02534297e+00 -4.83171666e-01  9.15403686e-01 -1.42421741e-01\n",
      "  -1.70424365e-02 -1.17175075e+00 -6.20603080e-01 -4.70888555e-01\n",
      "  -7.17980766e-01  5.29951085e-01 -1.74115278e+00 -2.12307228e+00\n",
      "   2.15314158e+00  1.13809593e+00 -7.61156980e-01  7.76498455e-01\n",
      "  -3.47654921e-01 -6.97968448e-01 -2.11626593e-01 -1.36136816e+00\n",
      "  -7.28792417e-01  2.40971895e-01 -1.30632017e+00 -2.38010624e-01\n",
      "  -1.93163069e+00 -7.38110456e-02  3.56877606e-02  1.08566621e-01\n",
      "   5.69078211e-01 -3.66398133e-01  6.86686544e-01  3.94634953e-01\n",
      "  -2.32381532e-01 -5.09447449e-02  1.07424855e+00  1.64290396e+00\n",
      "  -1.62901922e+00  6.42706775e-02  5.03715860e-01  2.98128342e-01\n",
      "   1.88377475e+00  2.27583873e+00  1.09184337e+00 -1.62981589e+00\n",
      "   2.95467967e-01  1.59313839e+00  1.24203057e+00 -1.30455591e-01]\n",
      " [ 1.58451089e+00 -7.98620552e-01 -9.61010519e-01 -9.77301439e-01\n",
      "  -6.94422212e-01  1.19430804e+00 -1.81489170e+00  4.03490191e-01\n",
      "  -5.07470195e-01  1.27856841e+00 -6.73352648e-01 -4.87307700e-01\n",
      "  -9.49694624e-01 -2.39275136e+00 -1.22314466e+00  8.78395912e-01\n",
      "  -4.32778708e-01  4.84107201e-01 -7.80214357e-01 -7.65095141e-01\n",
      "  -4.72793595e-01  5.86049786e-01 -1.20848017e-01 -8.95902760e-01\n",
      "  -3.84288944e-01  5.02268199e-01 -3.77258699e-01 -6.36956310e-01\n",
      "  -1.78275199e+00  1.49516977e+00  9.18707874e-01 -5.52846023e-01\n",
      "  -2.65233558e+00 -4.52224661e-02 -1.07272553e-01 -1.88076204e+00\n",
      "  -2.08515832e+00  1.79581296e+00  8.61190165e-01  5.26328890e-01\n",
      "  -2.48272174e-01  7.10154365e-01  1.89231639e+00 -3.06953349e-01\n",
      "   4.94953222e-01  3.47600360e-01 -5.87897705e-02  3.55845714e-01\n",
      "  -1.01940121e+00  3.92261323e-01 -5.04129734e-01 -1.38269630e-01\n",
      "   1.22950981e+00 -1.06043670e+00 -1.75997482e+00 -4.73520131e-02\n",
      "  -7.99826935e-01 -1.10251873e+00  1.00067275e+00  1.02405524e-01\n",
      "   6.47598327e-01 -9.26492084e-01  2.52705764e+00 -5.20299166e-01\n",
      "  -7.74892034e-01  1.38396989e+00 -9.68438928e-01 -5.45459972e-01\n",
      "   5.19715233e-01 -1.53893800e+00  5.16349405e-01 -9.36631041e-01\n",
      "   7.27981887e-01 -4.42567470e-01  1.27064492e+00 -5.38390126e-01\n",
      "  -2.24882064e-01 -6.19918054e-02  1.46784231e-01 -4.95090523e-01\n",
      "  -1.09766041e+00 -1.70473452e-01  5.76741709e-01 -2.04727254e+00\n",
      "   1.34710645e+00 -6.02402830e-02  6.45762864e-01  7.22647405e-01\n",
      "   2.08017723e-01 -1.10078753e+00 -1.21821617e+00 -7.72814984e-01\n",
      "   8.31120378e-02  6.80390462e-01 -6.84249559e-01  1.60744455e+00\n",
      "  -1.35246218e+00  3.99423151e-01  5.22895662e-01  1.19909940e-01]\n",
      " [ 5.13845332e-01 -1.39328278e+00  1.50900172e+00 -1.44273567e+00\n",
      "   2.01482133e-01 -2.19374881e+00 -3.07583577e-01  9.91311144e-01\n",
      "  -8.46556719e-01 -6.56286742e-01  1.97351732e+00 -1.70566048e+00\n",
      "  -2.29699682e-01 -1.00269600e+00 -2.23214841e+00 -6.67563192e-01\n",
      "  -1.74509785e-01  4.90029418e-01 -3.67535818e-01  4.85349481e-02\n",
      "   1.56025614e+00  1.86248386e-01 -1.07916002e+00  1.14142334e+00\n",
      "   1.74190550e-01 -3.50809060e-01 -2.30327425e+00  4.04395636e-01\n",
      "   6.64615786e-01  4.95822531e-02  1.43548325e+00 -1.80926144e-01\n",
      "   1.04231838e-01 -2.66512736e-01  2.24591467e+00  6.66596086e-02\n",
      "  -1.09652593e+00 -2.97912500e-01  2.19106022e+00  5.68136637e-01\n",
      "   1.96009581e+00  2.40199008e+00 -3.19724919e-01 -1.39924718e+00\n",
      "   2.78550073e+00 -7.23152599e-01  2.21956011e-01  2.29353612e+00\n",
      "  -1.34867061e+00 -3.05389700e-01 -8.24991804e-01  5.80046288e-01\n",
      "  -7.71139255e-01 -1.24599213e+00  1.10710836e-01  7.84101422e-01\n",
      "   9.66690611e-01  1.96458709e+00 -5.25792736e-01  5.56200419e-01\n",
      "  -4.20157118e-01 -1.06723287e+00  8.66541054e-01 -1.74561664e-02\n",
      "  -1.73437092e-01 -6.98275601e-01  5.12149402e-01  2.56344293e-01\n",
      "  -3.37097681e-01 -4.10953754e-01 -7.33480130e-01  8.23578028e-01\n",
      "   1.14468728e+00 -7.75338388e-01  2.61299363e+00 -8.61352167e-02\n",
      "   7.04317517e-01  7.37197550e-01 -4.95532829e-01 -1.01141848e-01\n",
      "  -4.39949190e-01 -9.47923080e-01  1.03209625e-01 -3.87946003e-01\n",
      "  -1.56161883e+00  1.05573440e+00 -3.23116463e-01 -1.46540214e+00\n",
      "  -2.45019048e-01  2.31815834e-01 -6.40306438e-01  1.32015990e+00\n",
      "   1.18038413e-01  3.82879760e-01 -7.16616903e-01 -4.86547396e-01\n",
      "   1.50273232e+00 -3.33814625e-01  1.04849439e+00 -6.74763124e-01]\n",
      " [-3.01951484e-01  4.95477816e-01  8.13945680e-01 -1.22037147e-01\n",
      "   1.09889140e+00 -1.18855875e+00 -8.32619709e-01 -7.06674828e-01\n",
      "   9.44790033e-01  3.36096008e-01  3.29860256e-01  1.27730659e-02\n",
      "   1.11474881e+00  9.79971532e-01  1.33463849e+00 -8.12239739e-01\n",
      "  -1.57635648e+00 -8.20967888e-01  8.43691499e-01  1.34253560e+00\n",
      "  -1.01146342e+00  6.37524945e-01  1.48020603e+00 -3.54161337e-01\n",
      "  -6.32225899e-02  1.61944037e+00  5.77529089e-01 -3.67614246e-01\n",
      "   4.12132439e-01  1.72012872e+00  1.02315462e+00  9.30353786e-01\n",
      "  -1.08313926e+00  1.30495719e+00 -1.69026167e+00  1.49216653e-01\n",
      "  -1.10538633e+00  4.05861708e-01  1.20293944e-01  1.39834852e-01\n",
      "  -4.75282542e-01 -7.29017778e-01 -2.07626368e+00  5.72568863e-01\n",
      "  -1.34622936e+00  1.44131878e+00 -1.19920096e+00  6.12139973e-02\n",
      "  -1.08419187e+00 -1.03004762e+00 -7.94704998e-01 -9.14156933e-02\n",
      "   1.28348395e+00 -1.89981103e-01  4.20314337e-01 -5.28906541e-01\n",
      "   4.50921564e-01  4.94171092e-01 -4.95015087e-01 -9.17723502e-01\n",
      "   1.66234714e-01 -6.77547476e-01 -1.10795555e+00 -8.97910111e-01\n",
      "  -2.57075713e-01 -6.55238381e-01  2.05617054e-01 -2.35753219e-01\n",
      "   1.05242395e+00 -5.37595054e-01 -7.10090414e-01 -8.23519623e-01\n",
      "  -8.08225148e-01 -2.22841394e-01 -2.61854276e-01 -2.65992920e-01\n",
      "  -2.00773276e-01 -6.34237130e-01 -1.48588870e+00 -1.35431041e+00\n",
      "   9.06706680e-01  5.29696824e-01  2.88429744e-01 -8.38287173e-01\n",
      "  -5.68454523e-02 -5.73642848e-01  1.56038400e+00  8.86241763e-01\n",
      "  -1.60290727e-02  1.35318257e+00 -4.47573911e-01 -1.49958537e+00\n",
      "   6.22298738e-01  3.48248730e-01  2.01207964e-01 -6.02285470e-01\n",
      "  -3.95282347e-03  8.14955617e-01  8.26772910e-01 -5.23649955e-01]\n",
      " [-1.21320063e+00  2.73751578e+00 -5.58119074e-01 -1.00537993e+00\n",
      "  -9.87649903e-01  1.19719690e+00 -5.69499521e-01  1.22144495e+00\n",
      "   1.31918384e-01  4.49131716e-01  3.52803164e-01 -5.55598528e-01\n",
      "   4.34442286e-01 -1.49935554e-01 -3.21586419e-01 -1.16766044e+00\n",
      "  -2.99675127e+00 -2.05687717e+00 -6.18506170e-01  1.04368292e+00\n",
      "  -3.31171227e-01 -4.92196910e-01  1.12962168e+00 -1.11514305e-01\n",
      "  -5.37495609e-01 -1.18485145e+00  6.17717673e-01  5.15954893e-01\n",
      "  -4.79763884e-01 -4.74538120e-01 -9.54077419e-01  2.16960702e+00\n",
      "  -1.47820787e+00 -5.94573778e-01  4.33094977e-01 -6.31254643e-01\n",
      "   1.50845776e+00  3.49424195e-01 -6.10296360e-01  3.03953191e+00\n",
      "  -4.36912312e-01 -1.18614217e+00  2.83473094e-01  4.06397318e-01\n",
      "   1.28909424e+00  1.90406697e-01 -7.57288077e-01  4.66466478e-01\n",
      "  -8.58599826e-01  1.51339544e-01 -6.35392142e-01 -1.45216500e+00\n",
      "  -3.46078838e-01  3.72561387e-01 -1.31987694e+00 -4.87400141e-01\n",
      "  -8.79363482e-01  3.72060887e-01  4.74679759e-03  1.61323447e+00\n",
      "  -1.07990603e+00 -6.89173368e-01 -6.09858895e-02 -1.00677793e+00\n",
      "  -4.96428524e-01 -8.55822871e-01 -7.35873880e-01  6.79409109e-01\n",
      "  -1.50265930e+00  2.77326658e+00 -2.21292972e+00 -1.03517564e+00\n",
      "  -2.10020364e+00 -5.46886528e-01 -2.02551765e+00 -8.17365715e-01\n",
      "  -2.29243130e+00 -7.97379310e-01 -1.05289071e+00  1.38679582e+00\n",
      "  -1.06452687e+00  1.48227018e-01  7.07336218e-02 -1.29893044e+00\n",
      "  -8.42008483e-01 -3.72779146e-01  2.34853885e-01 -7.69757454e-01\n",
      "   9.81529281e-01  2.50230250e-01 -1.49301350e+00  1.24912433e+00\n",
      "   1.77135133e+00 -9.83798548e-01  1.10395844e+00  2.00307167e+00\n",
      "   1.34452079e+00  1.41499848e+00  2.51655959e-01  8.83146343e-01]\n",
      " [-5.88074942e-01  6.26236647e-01 -2.65071272e-01 -1.84320395e+00\n",
      "   4.36812083e-01  1.58480603e+00  1.24978607e-01 -7.61360940e-01\n",
      "  -4.10494270e-01  1.34564093e+00 -4.92875286e-02  1.97078178e-01\n",
      "  -1.43747959e+00  2.69111443e-01  6.15837579e-01  4.08749351e-01\n",
      "   8.05154836e-01 -3.91940309e-01  1.15273379e+00  2.52693509e-01\n",
      "  -8.99892200e-01 -7.81779659e-01  6.43385847e-01  9.62952513e-02\n",
      "   4.66079116e-03  4.99001737e-01  1.17367218e+00  8.38265550e-01\n",
      "   8.74364788e-01  1.45004942e+00  1.10392958e+00 -5.95206854e-01\n",
      "   6.29553986e-01  4.13853502e-01 -8.21028246e-01  1.08029715e+00\n",
      "   5.39348752e-01  4.08862341e-01 -9.02066458e-01 -1.11049530e+00\n",
      "   1.88124643e+00  1.06777427e+00  6.93282044e-01 -4.96354134e-01\n",
      "  -1.39259268e+00  3.05305827e-02  1.38944192e+00 -1.80602364e+00\n",
      "   1.55760335e-01  1.09173809e-01 -1.52023161e+00  1.25883765e+00\n",
      "   2.37719303e-01  6.48807830e-01 -6.24899771e-02 -2.85622318e-01\n",
      "   7.65341277e-02 -3.73562213e-01  1.08276358e+00 -7.42387630e-01\n",
      "  -8.25821674e-01 -1.42721755e+00 -1.23020996e+00 -5.86890599e-01\n",
      "   9.93278237e-01 -8.61765066e-01 -1.63252810e+00 -9.11716820e-01\n",
      "   2.44679427e-02 -5.67682835e-01 -8.81169283e-01 -3.84869004e-01\n",
      "  -1.91735430e+00  4.69633773e-01 -4.38617791e-01  7.63962288e-01\n",
      "  -4.21474229e-01  5.79558376e-01  6.46620144e-01  1.53046713e+00\n",
      "  -5.12721228e-01 -5.92830853e-01 -8.04077550e-01  2.89493531e-01\n",
      "  -9.62197280e-02  1.01754125e-01 -4.42212245e-01  1.81613888e-02\n",
      "   2.30031927e-01 -1.11065647e+00  4.34362882e-01  2.75579256e-01\n",
      "   5.66939429e-01  1.34026587e+00  2.19578215e+00 -7.77646466e-01\n",
      "   3.70973081e-01 -5.63375736e-01  6.44634669e-01 -7.92780940e-01]\n",
      " [ 2.20166614e-01 -2.50688972e-02  2.06855603e-01 -5.52245303e-01\n",
      "   6.26402916e-01 -1.92234063e+00  2.93409484e-01 -2.24298898e+00\n",
      "   9.67194308e-02  1.79197215e+00  3.70824801e-01 -1.43236156e+00\n",
      "   1.26816083e+00 -2.93710529e-01  2.98938221e-01 -4.25697128e-01\n",
      "   5.24733367e-02 -1.44972171e+00 -1.64514917e+00 -2.70013618e-01\n",
      "   1.79302503e+00  6.52084301e-01 -1.55063840e+00 -1.12203036e+00\n",
      "  -2.42522179e-01 -8.68798219e-01 -4.08735114e-01 -5.63071154e-01\n",
      "  -7.18823528e-02  2.02409960e+00  5.28922790e-01 -5.81664448e-01\n",
      "  -1.23999120e-01 -2.86702059e-01 -9.70081167e-01  2.31568754e-01\n",
      "  -2.99969579e-01  1.98775335e-01  1.09635944e+00  1.06748212e+00\n",
      "   1.14057590e+00 -2.64305830e-01 -1.29836799e+00  9.92674334e-01\n",
      "   9.50791540e-02 -7.98251027e-01  4.43185966e-01 -2.71388678e+00\n",
      "   2.78242089e-01  6.53805808e-01  2.95718437e+00  7.77599874e-01\n",
      "   8.68711141e-01  2.16511394e+00  5.16277076e-01 -1.34995975e+00\n",
      "   1.81625582e+00 -5.58560743e-01 -6.92173981e-01 -1.24088759e+00\n",
      "   3.91248143e-01  1.85283346e-01 -7.57088982e-01 -1.14620465e+00\n",
      "  -3.89982382e-01  2.99672858e-01  1.32814704e+00  9.08501559e-01\n",
      "  -8.76298798e-01 -1.90652773e+00  1.25914061e+00  1.02951481e+00\n",
      "  -1.27149945e+00  8.99309958e-01  1.11107866e-01  1.32738741e-03\n",
      "   1.97335047e+00  1.95361334e-01 -6.12671226e-01  2.40576043e-01\n",
      "  -1.37087520e-01  1.35853476e+00 -1.54843634e+00  1.06902455e-01\n",
      "   6.28974650e-01 -7.96079232e-01  5.48658692e-01  2.33383970e+00\n",
      "  -5.62647764e-01 -4.42464277e-01 -4.29756878e-01  6.13504398e-01\n",
      "   1.09799024e+00 -1.29627232e+00 -1.83423268e-01  1.05421141e+00\n",
      "   1.15360157e-01  7.97332688e-01  1.17982614e-01 -7.82894697e-01]\n",
      " [ 4.43650922e-01  1.60910161e-01  5.57917542e-01  7.56940728e-01\n",
      "  -9.84100423e-01  5.66418132e-02 -1.82833529e+00  1.11770590e+00\n",
      "   6.97967617e-01 -5.91637131e-01  1.62464140e+00  8.44542690e-01\n",
      "   2.60737877e+00 -4.49476530e-01 -9.73007679e-01 -6.61035148e-03\n",
      "  -1.76012599e-01  1.33500308e+00  1.59324405e+00 -1.94586073e+00\n",
      "   4.15551488e-01 -2.38848448e-01 -3.65306147e-02 -8.08619011e-01\n",
      "  -1.14920402e+00  1.63393536e+00 -2.08202188e+00  1.60296537e+00\n",
      "  -8.61511079e-01 -1.62925518e+00  1.40693918e+00  8.48202590e-01\n",
      "  -1.24503509e+00  9.70025986e-01 -2.72515978e-01  1.34155126e+00\n",
      "   7.50445704e-01 -1.12281455e-01  3.99367777e-01 -3.01657056e-01\n",
      "  -7.23305999e-01  1.41198528e+00 -8.20293235e-01  3.59669186e-02\n",
      "  -2.71608961e-01 -7.94117031e-01 -4.20642334e-01 -5.47984635e-01\n",
      "  -6.03415591e-02 -2.35128702e-01 -5.29779980e-01 -9.90197567e-01\n",
      "   9.85499357e-01  5.65931834e-01  4.36810761e-01 -1.47308131e+00\n",
      "   1.27845208e+00 -3.12951313e-01 -5.43793392e-01 -1.96599668e+00\n",
      "   3.16121082e-01 -5.58744269e-01  6.85129171e-01  1.24581035e+00\n",
      "  -6.25828363e-02 -1.53904843e+00  2.89321905e-01 -8.71751935e-01\n",
      "  -2.30947537e+00  8.91120415e-01 -6.85661496e-01  1.20118648e-01\n",
      "   1.11731000e-01 -1.65544790e+00 -1.39633949e-01  1.20192173e-01\n",
      "   2.57260707e-01 -5.29515982e-01  1.76911848e-02  9.18832456e-01\n",
      "   3.91749936e-01 -1.64093256e-01 -3.05253690e-01  1.09539158e+00\n",
      "  -2.40757824e+00 -5.32229783e-01 -9.69697531e-01 -3.29008865e-01\n",
      "  -1.44141846e-01  3.17792517e-03 -1.28432649e+00  8.11351561e-01\n",
      "   3.17419945e-01  1.33247062e+00 -3.38178725e-01 -8.27933840e-01\n",
      "  -2.33671970e+00  5.39566440e-01  1.60761459e+00  5.01363951e-01]\n",
      " [ 1.01797485e+00  6.52243183e-01 -4.43891238e-01  1.40888525e+00\n",
      "  -6.91092947e-01 -5.56125202e-01  1.05118543e+00 -4.46082808e-01\n",
      "   4.68963796e-01  1.02035579e+00  9.20374252e-01 -2.36872547e-01\n",
      "   8.12855326e-01 -1.11586268e+00 -8.33470605e-01 -2.06260283e-01\n",
      "   1.35464439e-01  6.69415436e-01  2.14798971e+00  8.49074810e-01\n",
      "  -4.80749665e-01  1.57186855e+00 -6.22362973e-01 -1.54185812e+00\n",
      "  -1.25062247e+00  9.19530572e-01  8.48088666e-01  9.40036840e-01\n",
      "   2.39681893e-01  2.14172558e-01  2.69608560e+00  1.90886688e+00\n",
      "   8.66823886e-01  5.61001005e-01 -7.00045308e-01  9.88350605e-02\n",
      "   1.66955951e+00  5.50002286e-01  2.99505115e-01 -4.87581758e-01\n",
      "   1.66732541e+00 -3.61423302e-01  9.50475278e-01  6.60091460e-01\n",
      "   4.58437479e-01 -1.49122745e+00  2.54024343e+00 -5.09039023e-01\n",
      "   7.23929745e-01  9.57599183e-01  1.54604288e-01 -7.89853430e-01\n",
      "   3.96908578e-01 -3.11384857e-01  1.11045102e-01 -7.03492044e-01\n",
      "   1.16595978e+00  8.73173069e-01 -1.24237606e-01 -9.19547579e-01\n",
      "  -1.31276115e+00  1.35290254e+00 -4.49436706e-01 -5.13992990e-01\n",
      "  -2.68140095e+00 -8.04728081e-01 -8.64164137e-01  3.95409557e-01\n",
      "   5.09061030e-01 -3.66070668e-01  3.85337041e-01  2.32920756e-01\n",
      "  -4.75069127e-01  2.39410176e-02  5.81698438e-01  1.45506789e+00\n",
      "   5.90556101e-01  1.22317994e+00 -8.56424728e-01  5.59560078e-01\n",
      "   1.68754840e+00 -1.03428835e+00 -2.61826061e-01  1.50747567e+00\n",
      "  -3.76333971e-01  1.86714752e-01  1.34628249e-01 -1.57444146e+00\n",
      "   2.03490150e+00  9.46370867e-01  1.41509673e-01  1.22374040e-01\n",
      "  -1.51050285e+00 -2.78267375e-01  1.44928210e-01 -5.01089494e-01\n",
      "   9.98440343e-01 -5.11524436e-01  2.77972603e-01  1.46908098e+00]\n",
      " [-3.83344377e-01 -1.19981488e+00  1.38172763e+00 -2.56570621e-01\n",
      "   8.05885009e-01  6.99746242e-02  1.70913626e-01 -4.60563028e-02\n",
      "  -4.46593868e-02 -1.00051387e+00  1.81670197e+00 -5.42373212e-01\n",
      "   6.14547872e-01 -1.06869174e+00  2.19559189e-01 -1.77259789e-01\n",
      "  -4.17106121e-01 -1.77946347e-01 -1.44569961e-01  1.70568533e+00\n",
      "  -2.44306056e+00 -8.44846018e-01  4.99496415e-01  6.00567561e-01\n",
      "  -2.30065265e-02  6.22447106e-01 -4.53497545e-01  5.59062812e-01\n",
      "  -1.62185850e-01  6.27769219e-01  5.68575745e-01 -2.66979207e+00\n",
      "   9.09291995e-01 -2.33127527e+00 -1.84584326e+00 -8.75810710e-01\n",
      "  -1.34763317e+00 -2.93535340e-01 -1.17403164e+00  2.45193350e-01\n",
      "  -1.50411398e+00 -3.79977477e-01  2.48624825e+00 -1.35810461e+00\n",
      "   9.60967114e-02  2.30501699e-01 -2.92414215e-01  1.63590251e+00\n",
      "  -2.05436424e+00 -9.12241945e-01 -2.18206886e+00  6.95109365e-01\n",
      "  -6.34486325e-02 -1.33050867e+00 -6.98530251e-01  1.77060578e+00\n",
      "  -3.92523715e-01  6.63103454e-01  1.87276174e-01  5.88147251e-01\n",
      "   2.42370315e+00 -6.08946434e-01 -3.88330008e-01 -7.58813439e-01\n",
      "  -8.78163061e-01 -2.64888315e-01  1.34419738e-01 -2.08380861e+00\n",
      "  -9.35887613e-01 -4.32363496e-01 -1.01973835e+00 -4.75429080e-01\n",
      "  -1.98963070e-01  3.14701979e+00 -4.15337459e-01  1.42907255e+00\n",
      "  -2.35144124e-01  2.30563947e+00 -1.64095043e+00  3.06509004e-01\n",
      "  -1.01373234e+00 -1.70520853e+00  1.81576731e+00 -4.57735989e-01\n",
      "  -2.48918002e-01  1.49093271e+00 -1.03068291e+00 -9.79624291e-01\n",
      "   1.46256213e+00 -2.92954748e+00  1.75628318e+00  1.49975900e-01\n",
      "   1.01082483e+00  1.53044355e+00 -7.04127504e-01  5.30988394e-01\n",
      "   1.50708623e+00  5.25797320e-01 -1.18135080e+00  8.48499864e-01]\n",
      " [-7.72909232e-01 -1.33509485e+00 -9.79680100e-02 -6.39345641e-01\n",
      "   7.52287050e-01 -1.19630291e+00  6.56281309e-01  7.36598724e-01\n",
      "  -1.68064531e-01  1.17222273e+00 -1.12020835e+00  9.53516848e-01\n",
      "   4.15528192e-01  2.66887046e+00  4.32526845e-01  4.83760915e-01\n",
      "  -7.89904778e-01  4.68208131e-01 -4.13644393e-01  7.89059462e-01\n",
      "  -2.87402997e-01  9.16175855e-01  1.44005060e+00 -3.42929504e-02\n",
      "  -9.31128078e-01 -5.05876932e-01 -1.74117779e+00  9.47808184e-03\n",
      "  -8.21375972e-01  4.59513183e-01  2.64754581e+00  1.29298555e+00\n",
      "   7.81203890e-01 -4.25232756e-01 -1.88269132e+00 -9.29966874e-01\n",
      "  -6.70089217e-02 -2.29692162e-01  4.02882910e-01 -1.41204677e+00\n",
      "  -4.84847831e-01 -5.00093373e-01 -1.93194975e+00  9.35158245e-01\n",
      "   7.85761110e-01  2.37073628e-01  8.34489549e-01 -1.71223075e+00\n",
      "  -2.52369037e-01 -2.20620140e-01 -6.20478569e-01  1.19567096e+00\n",
      "   1.17248842e-01  1.23348825e+00  1.37608300e+00 -1.41813764e+00\n",
      "   1.51754439e+00 -5.48300150e-01 -6.82672040e-01  1.38988472e+00\n",
      "  -2.36012977e+00 -1.16352459e-01  1.41787829e+00 -9.30750515e-02\n",
      "   1.36835706e-01 -2.60907961e-01  4.24430201e-01  6.62924280e-01\n",
      "  -1.31712143e+00  4.58380205e-03  5.46768378e-02  1.07729841e+00\n",
      "  -1.33171054e-01  6.05615592e-01 -2.49721721e-01  2.98879601e-01\n",
      "  -5.78704593e-01 -8.31652792e-01  1.01032519e+00  1.36668514e+00\n",
      "  -3.56318818e-01 -1.14724974e-01 -9.77461757e-01 -2.08355388e+00\n",
      "   6.69299352e-01  1.90847675e+00  1.63536605e-01  2.88939872e+00\n",
      "  -4.96876979e-01  8.32858191e-01  1.01944002e+00  2.14940600e+00\n",
      "  -8.54243887e-01 -8.74488929e-01  8.78231830e-01  1.57204146e-02\n",
      "  -1.01494615e+00 -8.45475927e-02  8.72333994e-01 -4.63262803e-01]\n",
      " [-1.25302931e+00  1.77040712e+00 -1.51654975e-01 -2.26851814e-01\n",
      "  -4.42531140e-01  8.95733814e-02  7.48969843e-01  5.46067886e-01\n",
      "   4.55350479e-01  6.65432598e-01  1.24169642e+00  7.76362449e-01\n",
      "  -4.14543973e-01  1.76915001e-01 -1.64516345e-01  4.02806458e-01\n",
      "   6.86337673e-01  1.90175543e-01  1.08180516e-02  1.05676513e-01\n",
      "   4.12032403e-01  1.28294086e-01  1.74533606e+00  3.25837953e-01\n",
      "  -9.50599112e-01  1.11469884e+00 -5.06731118e-02 -2.90682589e+00\n",
      "  -6.89638742e-01  4.73827870e-01 -2.26463952e+00 -1.47157712e+00\n",
      "   1.44800766e+00 -1.80073706e-02  4.11755500e-01  1.97864793e+00\n",
      "   9.78318826e-01 -1.18598271e+00  1.30973220e+00 -7.10987216e-01\n",
      "   1.72590560e+00 -2.10899477e+00  3.06758945e-01  1.37661372e+00\n",
      "   9.50757505e-01  3.16013056e-01 -1.61433756e-01 -4.36812905e-01\n",
      "   2.20367121e-01 -1.52884322e+00 -6.89717867e-03 -1.31095684e+00\n",
      "   3.98889243e-02 -9.21029187e-01  6.81098400e-02  3.14401124e-01\n",
      "   6.33566976e-02 -6.50615205e-01 -9.29373662e-01 -1.17156305e+00\n",
      "  -5.09365795e-01 -2.89433243e-01  8.97230026e-01  1.31574757e-01\n",
      "   1.42039899e-01 -2.97134501e-01 -2.17118651e-01 -5.91935587e-01\n",
      "   2.05872587e-01  1.62912656e+00  3.43770035e-02  6.82336793e-01\n",
      "  -5.78235686e-01  5.01843529e-02 -1.01123545e-01  1.34493823e-04\n",
      "   1.69245183e+00 -2.03936260e+00  1.90226345e-01  4.24161125e-01\n",
      "   1.00694035e+00  7.44965292e-02  1.33538935e+00 -1.21097023e+00\n",
      "   1.21365126e+00  7.88170904e-01  1.07254338e+00 -5.43319518e-01\n",
      "   5.60661545e-01 -1.26480934e+00  1.99305159e-01 -1.95525732e+00\n",
      "  -9.28801005e-01  1.25277078e+00  1.01999722e+00  6.61848438e-01\n",
      "   1.25761130e+00  5.20647456e-01 -6.82691730e-01 -5.78661729e-01]\n",
      " [ 1.38058920e+00 -1.97647352e-01 -1.13656097e+00  8.36395911e-01\n",
      "   1.09936990e+00  6.92935641e-02 -2.59793342e-02 -1.03211090e+00\n",
      "  -6.77900350e-01  4.94414807e-02  7.19562341e-01 -2.45783933e+00\n",
      "   1.20933197e-01  3.04395479e-01 -1.11479929e+00  1.67555516e+00\n",
      "   5.79589308e-01 -7.42762577e-01 -3.19665850e-01 -8.54212564e-02\n",
      "   6.30943841e-01 -1.46406138e+00  1.13927799e+00 -1.20977441e+00\n",
      "   1.89154923e+00 -7.67267026e-01 -4.24185015e-01  2.01286145e+00\n",
      "  -1.12079487e+00 -1.22250966e+00  6.43332637e-01  3.03247607e-01\n",
      "   7.58552644e-01 -6.92280347e-02  1.36928029e+00  1.48871058e-01\n",
      "   7.66886361e-01  1.47139905e-01 -3.90397547e-01  2.63191844e+00\n",
      "   9.71733101e-01  5.48854361e-01  8.75568353e-01 -1.30810953e+00\n",
      "   6.55240420e-01  7.31018735e-01 -1.11574386e+00 -2.32640757e-01\n",
      "  -1.45124918e+00  5.62913146e-01  2.53359331e-01  1.21498714e-01\n",
      "  -8.01041657e-01 -5.73792845e-02  6.15174305e-01  1.07630365e-03\n",
      "   5.43821830e-01  5.75314037e-01 -3.50589776e-01 -4.29625422e-01\n",
      "   8.46642422e-01  3.46039079e-01 -8.30558458e-01  1.56011116e+00\n",
      "   1.84559077e-01 -1.34853566e+00 -8.30738461e-02 -5.80071381e-01\n",
      "   5.55578733e-01  1.06577185e-01 -1.75962261e-01  1.43989115e+00\n",
      "   5.54988038e-01  4.15466872e-01  5.31797739e-01  1.66338524e+00\n",
      "  -2.34220285e-01  9.74749165e-01  1.62963929e+00  5.69766108e-01\n",
      "  -1.52102612e+00 -5.98050578e-01  1.95897408e+00  1.26808064e-01\n",
      "   7.26131670e-01  6.31068898e-02  8.75334747e-01 -1.97693031e-01\n",
      "   1.31094368e+00  1.08608890e+00  1.17978312e+00  2.71235144e-01\n",
      "   2.66162498e-02  1.12458162e+00  5.09516032e-01 -1.33286601e+00\n",
      "   1.71086746e+00  1.35260861e+00 -2.31179605e-01 -1.70198132e-01]\n",
      " [-1.34673854e+00  3.66967699e-01  1.43170319e+00 -1.27677839e+00\n",
      "   1.21905398e+00  1.09449292e-01  2.49184710e+00 -2.53583223e+00\n",
      "  -7.28133010e-01  4.57667982e-01 -2.17668199e-01 -6.29668208e-01\n",
      "   4.59614512e-01 -6.35278784e-01  2.28473343e-02  2.79774349e-01\n",
      "   1.07925476e+00 -2.05245416e-02 -4.08302718e-01  1.97533142e-01\n",
      "   1.61406191e+00 -1.20927025e+00 -1.79885503e+00  1.03647217e+00\n",
      "  -2.63663748e-01  1.76360215e+00  1.40917332e+00 -7.94267702e-01\n",
      "   7.66790044e-01  8.13665539e-01  5.36902112e-01 -4.77238278e-01\n",
      "   6.13815500e-01  1.30961193e+00 -5.70191373e-01 -6.15897195e-01\n",
      "   1.30843499e-01 -3.16640925e-01 -9.39938369e-01 -8.43445583e-01\n",
      "  -4.60370750e-01  6.93462062e-01 -6.86288383e-01  2.06052867e+00\n",
      "   2.26875405e+00  2.23595714e-01 -1.35962183e-01  1.53983533e+00\n",
      "  -1.18834847e+00 -1.21856055e+00  9.57807493e-01 -1.74903074e+00\n",
      "  -1.20680523e+00 -5.73037462e-01  3.73433432e-01  6.95871882e-01\n",
      "   2.57713876e-01  1.56019326e-01 -8.21053132e-01  2.37563120e-02\n",
      "  -5.51044396e-01  7.34128533e-01 -2.73429765e-02 -1.66596233e+00\n",
      "  -5.55314295e-01 -7.49153975e-01 -6.35577894e-01 -2.53463810e-01\n",
      "  -1.36460726e+00 -1.04656352e+00  3.79094343e-01 -2.07992599e-01\n",
      "  -1.22313035e-01 -2.16866731e+00 -1.34472945e+00 -3.74659603e-01\n",
      "  -2.06106229e+00  2.03231361e+00 -2.03872969e-02  4.33782031e-01\n",
      "  -9.96500855e-02  2.43999580e-01 -4.50779234e-01  1.03495261e+00\n",
      "   1.11127540e+00 -6.39369271e-01  1.41766574e+00  7.77919275e-01\n",
      "   2.88302405e-01 -5.72716553e-02 -9.47040280e-01  3.64809227e-01\n",
      "  -1.78562889e+00  1.55196953e+00 -2.47332334e-01 -6.77291439e-01\n",
      "   1.91991596e+00 -1.17988373e+00 -1.64119579e+00 -8.98919447e-01]\n",
      " [ 1.18543245e-01  1.31198733e-01 -2.41775668e-01 -4.03660687e-01\n",
      "  -2.60430647e-01 -4.49034982e-01  2.29089438e-01  5.52259661e-01\n",
      "  -1.42353517e+00 -1.27698312e+00 -3.16672133e-01  3.88266888e-01\n",
      "   3.44346926e-01 -5.23599570e-01 -5.61308250e-01 -3.06302915e-01\n",
      "   1.00090718e-01 -5.00590510e-03  1.49160955e+00  2.96570230e-02\n",
      "  -5.73814968e-01  2.56922935e-01  8.68301581e-01  2.91458251e-01\n",
      "  -1.18250859e+00 -9.67345523e-02 -4.42251595e-01  1.54862827e+00\n",
      "   1.20038418e+00  2.88938276e-01  1.06159544e+00  1.78822075e+00\n",
      "  -2.49882887e+00 -4.06671881e-01 -2.97811360e-01 -1.07760957e+00\n",
      "   1.61632000e-01 -5.86698527e-01  1.55926351e-01  2.65445170e-01\n",
      "  -1.92729756e+00  1.96908464e+00  7.25791246e-01 -5.45979670e-01\n",
      "  -4.50146829e-01 -5.86639563e-01  1.38627633e+00  5.94662231e-02\n",
      "   7.81781255e-01 -1.62765242e-01  6.93284998e-02  2.30405481e+00\n",
      "   2.33958264e-02  1.32946722e+00  1.44923763e+00 -1.10298333e+00\n",
      "   6.89343108e-01  1.96588661e+00 -2.25161159e+00 -2.30653740e+00\n",
      "  -6.03765171e-01 -2.38706757e-01 -1.69116216e+00  1.81947633e+00\n",
      "  -7.01220020e-01 -7.55087484e-01 -1.54673224e+00  1.20196037e+00\n",
      "  -6.45139004e-02 -1.22979048e+00  3.50997732e-01 -7.32270953e-01\n",
      "   1.94638540e+00  5.85429911e-01 -1.16302068e-01  4.84093840e-01\n",
      "   1.21026895e+00 -6.60181093e-03 -6.45223344e-01 -1.17224016e+00\n",
      "  -1.98852822e-01 -2.63183082e-01 -2.95312001e-01  1.26105162e+00\n",
      "   1.22207420e-01 -1.44869035e-01 -6.40649553e-01  2.75339138e+00\n",
      "  -1.94363350e-01  4.04877767e-01  1.56426611e-01  1.04959199e+00\n",
      "  -2.86016866e-01  4.51781728e-02  1.09624155e+00 -6.85684255e-02\n",
      "   1.44532656e+00  1.87953964e-03 -2.33792667e+00 -9.64313653e-01]\n",
      " [ 2.60574377e+00  1.42264904e+00  9.17459700e-01  1.65875243e+00\n",
      "  -4.57381702e-01 -4.71561358e-01 -7.59009632e-02 -5.13441045e-02\n",
      "   1.32772523e+00 -1.49171452e+00  2.54648470e-01  1.24954069e+00\n",
      "   3.11930858e-01 -3.18265749e-01 -7.70409706e-01  7.77200670e-01\n",
      "   1.26353634e+00 -1.14250436e+00 -1.40035470e+00 -1.84974448e+00\n",
      "  -6.46475775e-01 -2.30019557e-01 -1.54130902e-02 -4.70391819e-01\n",
      "  -4.01255465e-01  2.79756443e-01  1.39115979e-01  1.20258061e+00\n",
      "  -1.91257600e+00 -4.90127861e-02 -3.18524468e-01  8.11780378e-01\n",
      "   1.59116418e-01 -2.60533255e-02  2.16969140e-01 -1.08569124e+00\n",
      "  -8.80126592e-01 -2.27469698e-01 -3.26386487e-01 -5.79024709e-01\n",
      "   7.37111133e-01 -5.78956421e-01  2.36929600e-01  4.18404423e-01\n",
      "  -7.58377218e-01  2.83918065e-01 -2.56235719e-01  6.63346432e-01\n",
      "   5.86704087e-01 -1.15617171e-02  9.29237165e-01  7.07491134e-01\n",
      "   8.53328729e-01 -1.41907719e-02 -7.21302332e-03  3.06991391e-01\n",
      "  -2.28201317e+00 -1.35343545e+00  6.22622474e-01 -2.24201766e-01\n",
      "   3.32543758e-01  1.06190753e+00 -1.21305568e+00  9.77631376e-01\n",
      "   1.05078482e-01  4.41421087e-01  1.31372530e+00  4.11608666e-01\n",
      "  -4.21091399e-01 -1.61359576e-01 -1.82772954e+00  1.31796734e-02\n",
      "  -1.13582205e+00 -7.94046828e-01 -1.05400748e+00 -2.53134577e-01\n",
      "  -1.04695720e+00 -9.23369022e-02  1.81141702e-01  1.25290116e+00\n",
      "   1.10219930e+00  1.28179252e+00  3.53366749e-01  1.51450717e+00\n",
      "  -3.62106722e-01 -1.01389350e+00  2.01765139e+00 -3.20542412e-01\n",
      "   1.24884744e+00  3.50978565e-01  2.97019740e-01 -8.04928634e-01\n",
      "  -1.07279559e+00  3.94860914e-01 -7.21251873e-01 -5.25292444e-01\n",
      "   3.85851606e-01 -8.86628245e-01 -2.34043206e-01 -1.60097186e+00]\n",
      " [-9.26982953e-01  2.33608451e+00  1.92660911e+00  4.62749940e-01\n",
      "  -2.80440118e-01 -1.39674438e+00  2.10987875e-01 -1.14579120e-01\n",
      "  -1.32174717e+00 -7.28547588e-01  6.69530352e-01  2.04055525e+00\n",
      "  -3.57690912e-01  3.63527216e-02 -8.48516387e-01  2.31320279e-01\n",
      "   1.72781783e+00 -6.62216354e-01  1.00506153e+00 -6.66466642e-01\n",
      "   1.43280183e+00  1.95365670e-01 -4.53781082e-01  4.75152670e-01\n",
      "   8.68129993e-01 -2.03273949e-01  1.01024119e+00 -9.96915836e-01\n",
      "   1.26161178e+00  1.51443670e+00  2.17266949e+00 -1.72416772e-01\n",
      "  -1.29672002e+00  1.40537596e+00 -1.24995016e+00  1.03320109e+00\n",
      "  -6.61339564e-01  1.47768507e+00 -2.34159422e-01  1.19928297e+00\n",
      "   6.58993433e-01 -1.53155722e+00 -1.49900921e+00 -5.12682951e-01\n",
      "  -9.22734587e-02  9.83187866e-02  4.87759366e-01  2.09491592e+00\n",
      "   4.74183516e-01  1.16083307e+00  2.47153630e+00  1.96668890e+00\n",
      "   3.13710902e+00 -1.00377085e+00  9.30312727e-01  1.94548269e-01\n",
      "   1.35434553e+00  5.64629748e-01  1.09646409e+00 -2.22887260e-01\n",
      "   6.07241999e-02 -1.17232088e+00  2.05695856e-01  6.24220355e-01\n",
      "   1.89139580e+00  1.64402123e+00  6.95845820e-01  5.50925756e-01\n",
      "   1.43326766e+00 -9.60354206e-01  1.04664954e+00  2.04652440e-01\n",
      "   1.05271761e+00  2.65862565e+00 -6.86809713e-01 -1.54153004e+00\n",
      "   1.19030088e+00 -8.15201511e-01 -7.85064183e-01  1.25660289e+00\n",
      "   6.84802374e-01  3.57477949e-01  3.30674685e-01  1.28940010e+00\n",
      "   2.26855275e+00 -1.74320186e+00 -8.38325679e-01  1.48130894e+00\n",
      "   5.45281429e-01 -1.96970086e-01  2.51655133e-01 -2.07546638e-01\n",
      "  -8.99613138e-01 -1.30804125e-01 -8.74698450e-01 -6.65991444e-01\n",
      "   7.77615225e-02  9.73263189e-01 -1.14484760e+00 -5.44125882e-01]\n",
      " [ 1.78378169e+00 -1.27893205e+00  1.95706985e+00  8.33217410e-01\n",
      "   1.35670417e+00  4.90042725e-01 -1.13056559e-01  1.67748315e+00\n",
      "  -7.10735400e-01  1.10602880e+00  3.16023896e-01 -2.79626976e-01\n",
      "  -5.29600958e-01  2.74679374e-01 -5.38816558e-01 -7.81438787e-01\n",
      "  -1.99063720e-01 -4.25324166e-01  2.04473004e-01  5.52811207e-01\n",
      "   4.81112340e-01 -1.70420979e+00 -5.57662638e-01 -1.51556826e-01\n",
      "   3.12001366e-01 -1.10616538e+00  8.24068856e-01 -1.38096281e+00\n",
      "   4.50566676e-01  7.10362117e-01 -1.73458366e-01 -5.41344865e-04\n",
      "  -6.96439578e-01 -9.28883603e-01  1.62690837e-01 -1.30098334e+00\n",
      "  -7.57265212e-01  4.88179157e-01 -9.83592472e-01 -4.29627338e-01\n",
      "  -4.24354632e-01  1.25686766e+00 -3.23493037e-01 -5.72406114e-01\n",
      "  -5.98786784e-01  7.97095507e-01  8.57999457e-01 -4.42041707e-01\n",
      "   1.69873682e-01 -6.40790649e-02  9.74256053e-01  3.83044965e-01\n",
      "   1.75531168e+00 -1.26803695e+00  3.08477410e-02  5.37092851e-01\n",
      "  -9.41976421e-01 -7.19336592e-01 -5.04212820e-01  1.12463916e+00\n",
      "   7.47400828e-01  2.61865096e-01 -8.21470039e-01  7.52612680e-02\n",
      "  -1.18573647e-01  4.56158354e-01 -1.68030572e+00 -2.22813985e-01\n",
      "  -2.22708133e+00  7.20923000e-01  1.94422868e+00  8.67332938e-01\n",
      "   6.04236357e-01  2.57894780e-01  1.37035401e+00 -9.64727200e-01\n",
      "   1.05570082e+00  1.67470376e+00  3.26915579e-01 -1.93904512e+00\n",
      "  -7.34137133e-01  5.73406436e-01  1.88832094e+00  9.49576573e-01\n",
      "  -1.49225422e-01 -1.46994735e+00  6.66259063e-01  5.26094797e-01\n",
      "  -4.92647758e-02  6.62509739e-01 -9.65959159e-01 -6.32637903e-01\n",
      "   7.39014468e-01  5.75532579e-03 -4.26909492e-01 -1.48591010e-01\n",
      "   2.85754328e-01  8.84735401e-01  4.06717495e-01  1.15251697e+00]\n",
      " [ 9.78463260e-01  1.32139409e+00 -2.49432327e-01  8.40664586e-01\n",
      "  -6.86514047e-01 -1.34651590e+00  6.36702242e-01  4.37531755e-02\n",
      "   3.75625301e-03  1.50336647e+00 -7.10744431e-01  2.11683925e+00\n",
      "   6.39656840e-01  5.27230472e-02  3.13842795e-01  2.21393542e-01\n",
      "  -1.46223900e+00 -7.02876208e-02  3.54765118e-01  9.63327601e-01\n",
      "  -1.55119206e+00  1.90891435e-02  4.30587318e-01 -5.76295400e-02\n",
      "  -7.81729977e-01  1.05468757e+00  5.26570495e-02 -1.96280740e+00\n",
      "  -1.53922788e+00  1.49650868e-01  1.77041340e-01  1.94131298e+00\n",
      "  -1.31421232e+00  1.44753141e-01 -1.40423238e+00  9.53828336e-01\n",
      "   1.63932901e+00  2.20071968e+00  2.80177565e-01 -1.84125440e+00\n",
      "  -1.42469494e+00  1.62332676e+00  2.25855892e-01  4.54063606e-01\n",
      "   6.55590705e-01 -9.36026520e-01 -5.68103101e-01  7.36375519e-01\n",
      "  -1.37312266e-01  9.51882596e-01 -9.21460429e-01 -1.47868762e+00\n",
      "  -1.02328441e+00 -3.44912885e-01  5.55110835e-01 -1.67044717e+00\n",
      "  -4.12772103e-01  1.79380338e+00  1.55037028e+00  1.08971055e+00\n",
      "   9.80802349e-01  2.40322826e-01 -1.66457472e+00  2.71848913e-01\n",
      "   2.46504729e-01 -5.62475660e-01  3.20997078e-01 -6.59550420e-01\n",
      "  -6.41573111e-01 -3.60582644e-01 -6.25201011e-01  5.05511725e-02\n",
      "   8.91048015e-01 -3.00074966e-01  2.14403669e-01 -7.88981844e-01\n",
      "   2.09076680e-01  2.75681957e-01 -6.07184052e-01  8.48536674e-02\n",
      "   7.71781960e-01  1.42689098e+00  5.38848356e-01  1.07242333e+00\n",
      "   1.26471092e+00  7.62618085e-02 -7.31198713e-01  1.42893042e+00\n",
      "   7.08183765e-01  1.53433413e+00  8.86359514e-01  7.70050439e-01\n",
      "  -8.94244301e-01 -9.95332951e-01  1.48415844e+00  7.90274235e-01\n",
      "  -1.22000363e+00 -1.17607951e+00  4.09984902e-01  7.09597792e-01]\n",
      " [-4.25361996e-01  5.14894552e-01 -9.65997256e-01 -6.84240104e-01\n",
      "   1.80614815e+00  1.54843051e-01  1.64072143e-01 -5.92082475e-01\n",
      "  -3.39715435e-01  1.49689033e+00  2.30000331e+00  1.82123001e+00\n",
      "   3.90214564e-01 -4.58492558e-01 -2.69250292e+00  2.26180177e-02\n",
      "   1.69594532e-01 -1.82630149e-01  7.17303730e-01 -7.63704077e-01\n",
      "  -7.54449538e-01  1.65311846e+00  1.21228935e+00  7.17656812e-01\n",
      "  -2.44594897e-01 -6.08538437e-01 -6.90410950e-01  4.52145957e-02\n",
      "  -2.05192226e+00 -2.48348065e-01  1.06336377e+00  7.55493137e-01\n",
      "  -6.34844025e-01  7.80317516e-02  8.77455681e-01 -1.36948740e+00\n",
      "   4.32864297e-01 -7.39028361e-01  1.43915245e+00 -3.19689840e-01\n",
      "   8.19682828e-01 -5.15214071e-01  9.31020692e-01 -2.05638726e+00\n",
      "  -6.64876932e-01 -5.33915857e-01 -3.90740670e-01 -7.07399706e-01\n",
      "   4.51327876e-01 -5.11649160e-01 -1.42946890e+00  4.59837505e-01\n",
      "   3.58888901e-01  5.93724749e-01  1.13040191e+00  1.16022083e-01\n",
      "  -8.75624165e-01 -3.87299808e-01  2.40362401e-01 -5.56115893e-01\n",
      "   1.60295670e-01 -5.52890762e-01  2.19604558e-01  1.50204722e+00\n",
      "  -1.84777207e-01  8.73942514e-01  7.99969879e-01  1.08464238e+00\n",
      "   1.50306046e+00 -1.91045028e-01  1.02635475e+00 -6.34304181e-02\n",
      "   5.22697217e-01 -8.48903261e-01  1.01458151e+00  1.61408238e-01\n",
      "  -4.94990140e-01  5.73136732e-01 -2.03681363e-01  7.49453549e-01\n",
      "   8.03509374e-01 -7.94530221e-02 -1.17521994e+00 -4.60621048e-01\n",
      "   8.19212064e-01 -6.78738180e-01 -8.59777772e-02 -4.51412787e-01\n",
      "  -2.35181196e-02  3.74687406e-01  1.31087079e-01  1.90372272e+00\n",
      "  -3.27505946e-01  1.44737426e+00  4.96626164e-01  5.06450629e-01\n",
      "  -2.24340015e+00  1.08244380e+00 -6.81790104e-02 -5.26885927e-01]\n",
      " [-6.43653234e-01 -1.67249553e+00 -4.82647189e-01  1.52402772e+00\n",
      "  -9.26313439e-01  2.42539101e-01 -3.05879454e-01 -1.45081826e+00\n",
      "   1.41216981e+00  1.20907420e+00  7.01595653e-01  2.34596534e-01\n",
      "   9.03196431e-02 -9.05324831e-01  7.80466446e-01 -6.65743462e-01\n",
      "  -2.85117067e-01 -4.78311177e-02  6.16514756e-01  1.33281199e-01\n",
      "  -6.83101284e-01  1.70695128e+00  7.36373540e-01 -5.18358079e-02\n",
      "   4.69471991e-01 -6.30802711e-01  1.59259396e+00  1.10621395e-01\n",
      "  -3.68282712e-01 -1.09302735e+00  8.18252875e-01 -2.77516620e-01\n",
      "   1.74516214e+00  1.59658383e+00 -2.47902013e-01 -2.88613943e-01\n",
      "  -1.82656719e+00  1.24489042e+00  1.72536360e+00  7.98022075e-01\n",
      "   4.88720621e-01  4.25257804e-01 -2.03522777e+00  1.92244914e-01\n",
      "   4.57644832e-01 -6.55797772e-01  6.27508187e-01 -1.62177245e+00\n",
      "  -1.87474593e-01 -7.07884204e-01  9.87689970e-01 -9.79514439e-02\n",
      "   1.84208013e+00  1.20922343e+00  3.77896603e-01 -1.34811560e+00\n",
      "   9.07396850e-01  1.89144842e-01  2.78309706e-01  1.75790659e+00\n",
      "   1.76967668e+00 -3.65550486e-01  1.46322967e+00 -2.28996949e-01\n",
      "   4.13880331e-01  3.83635357e-01 -2.93084171e-01  9.98302256e-01\n",
      "  -1.52735924e+00 -7.36557318e-01  1.34038111e+00  7.21436897e-01\n",
      "  -1.74572399e-01  8.01461155e-01 -2.24014321e-01 -7.66775304e-01\n",
      "   3.78133892e-02  2.08249732e-02 -6.70451338e-01 -5.51515438e-01\n",
      "  -4.10121761e-01 -3.52423660e-02 -9.84287457e-01  1.21846796e-01\n",
      "  -1.14638403e-01  7.25654199e-01  2.55503441e-01 -4.43480030e-01\n",
      "   4.68219516e-01  9.29173912e-01 -6.59774782e-02 -2.18545758e-01\n",
      "  -1.75829903e+00 -1.85181111e+00  5.21267107e-01  1.09325217e+00\n",
      "  -1.01001342e+00 -3.79392495e-01 -1.23401501e-01  6.25900321e-01]]\n"
     ]
    }
   ],
   "source": [
    "import sys\n",
    "np.set_printoptions(threshold=sys.maxsize)\n",
    "a = np.random.randn(100, 100)\n",
    "print(a)"
   ]
  },
  {
   "cell_type": "markdown",
   "metadata": {},
   "source": [
    "50. How to find the closest value (to a given scalar) in a vector?"
   ]
  },
  {
   "cell_type": "code",
   "execution_count": 196,
   "metadata": {},
   "outputs": [],
   "source": [
    "a = np.random.randn(5, 5)\n",
    "x = np.random.randn()\n",
    "idx = np.abs(a - x).argmin()"
   ]
  },
  {
   "cell_type": "code",
   "execution_count": 197,
   "metadata": {},
   "outputs": [
    {
     "data": {
      "text/plain": [
       "7"
      ]
     },
     "execution_count": 197,
     "metadata": {},
     "output_type": "execute_result"
    }
   ],
   "source": [
    "idx"
   ]
  },
  {
   "cell_type": "code",
   "execution_count": 199,
   "metadata": {},
   "outputs": [
    {
     "data": {
      "text/plain": [
       "(1, 2)"
      ]
     },
     "execution_count": 199,
     "metadata": {},
     "output_type": "execute_result"
    }
   ],
   "source": [
    "np.unravel_index(7, (5, 5))"
   ]
  },
  {
   "cell_type": "code",
   "execution_count": 200,
   "metadata": {},
   "outputs": [
    {
     "data": {
      "text/plain": [
       "array([[-0.44390308,  0.96149262, -0.51704358,  0.46278177,  1.30381962],\n",
       "       [-0.23202531,  1.11892078,  0.02376638, -0.68356739,  0.11595399],\n",
       "       [-0.55812755, -0.31646532, -0.49481465, -1.24819821,  1.72541919],\n",
       "       [-1.14321854, -0.03519826,  1.5040496 ,  0.38989985, -0.89404195],\n",
       "       [-1.06301044,  1.341119  , -0.77685332,  0.37907923, -2.77648847]])"
      ]
     },
     "execution_count": 200,
     "metadata": {},
     "output_type": "execute_result"
    }
   ],
   "source": [
    "a"
   ]
  },
  {
   "cell_type": "code",
   "execution_count": 201,
   "metadata": {},
   "outputs": [
    {
     "data": {
      "text/plain": [
       "0.06138192216731814"
      ]
     },
     "execution_count": 201,
     "metadata": {},
     "output_type": "execute_result"
    }
   ],
   "source": [
    "x"
   ]
  },
  {
   "cell_type": "code",
   "execution_count": null,
   "metadata": {},
   "outputs": [],
   "source": []
  }
 ],
 "metadata": {
  "kernelspec": {
   "display_name": "Python 3",
   "language": "python",
   "name": "python3"
  },
  "language_info": {
   "codemirror_mode": {
    "name": "ipython",
    "version": 3
   },
   "file_extension": ".py",
   "mimetype": "text/x-python",
   "name": "python",
   "nbconvert_exporter": "python",
   "pygments_lexer": "ipython3",
   "version": "3.7.0"
  }
 },
 "nbformat": 4,
 "nbformat_minor": 4
}
