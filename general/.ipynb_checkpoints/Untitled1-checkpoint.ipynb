{
 "cells": [
  {
   "cell_type": "code",
   "execution_count": 1,
   "metadata": {},
   "outputs": [],
   "source": [
    "import numpy as np\n",
    "import os\n",
    "import scipy.sparse as sparse\n",
    "from zipfile import ZipFile as zf\n",
    "import pandas as pd"
   ]
  },
  {
   "cell_type": "code",
   "execution_count": 2,
   "metadata": {},
   "outputs": [],
   "source": [
    "file_path = \"D:\\jinrenren\\PyCharm\\distances2.zip\""
   ]
  },
  {
   "cell_type": "code",
   "execution_count": 9,
   "metadata": {},
   "outputs": [],
   "source": [
    "data = sparse.load_npz(os.path.join(\"D:\\jinrenren\\PyCharm\\distances2\", \"featural_upper_round1_sparse.npz\"))"
   ]
  },
  {
   "cell_type": "code",
   "execution_count": 10,
   "metadata": {},
   "outputs": [
    {
     "name": "stdout",
     "output_type": "stream",
     "text": [
      "float64\n"
     ]
    }
   ],
   "source": [
    "print(data.dtype)"
   ]
  },
  {
   "cell_type": "code",
   "execution_count": 11,
   "metadata": {},
   "outputs": [
    {
     "data": {
      "text/plain": [
       "<8070x8070 sparse matrix of type '<class 'numpy.float64'>'\n",
       "\twith 20973640 stored elements in Compressed Sparse Row format>"
      ]
     },
     "execution_count": 11,
     "metadata": {},
     "output_type": "execute_result"
    }
   ],
   "source": [
    "data"
   ]
  },
  {
   "cell_type": "code",
   "execution_count": 12,
   "metadata": {},
   "outputs": [
    {
     "name": "stdout",
     "output_type": "stream",
     "text": [
      "  (0, 1)\t0.6\n",
      "  (0, 2)\t0.5\n",
      "  (0, 3)\t0.6\n",
      "  (0, 4)\t0.4\n",
      "  (0, 5)\t0.6\n",
      "  (0, 6)\t0.5\n",
      "  (0, 7)\t0.4\n",
      "  (0, 8)\t0.6\n",
      "  (0, 9)\t0.7\n",
      "  (0, 10)\t0.6\n",
      "  (0, 11)\t0.5\n",
      "  (0, 12)\t0.4\n",
      "  (0, 13)\t0.7\n",
      "  (0, 14)\t0.5\n",
      "  (0, 15)\t0.3\n",
      "  (0, 16)\t0.6\n",
      "  (0, 17)\t0.7\n",
      "  (0, 18)\t0.6\n",
      "  (0, 19)\t0.4\n",
      "  (0, 20)\t0.7\n",
      "  (0, 21)\t0.4\n",
      "  (0, 22)\t0.5\n",
      "  (0, 23)\t0.6\n",
      "  (0, 24)\t0.7\n",
      "  (0, 25)\t0.5\n",
      "  :\t:\n",
      "  (7903, 8045)\t0.9\n",
      "  (7903, 8046)\t0.9\n",
      "  (7903, 8047)\t0.9\n",
      "  (7903, 8048)\t0.9\n",
      "  (7903, 8049)\t0.9\n",
      "  (7903, 8050)\t0.9\n",
      "  (7903, 8051)\t0.9\n",
      "  (7903, 8052)\t0.9\n",
      "  (7903, 8053)\t0.9\n",
      "  (7903, 8054)\t0.9\n",
      "  (7903, 8055)\t0.9\n",
      "  (7903, 8056)\t0.9\n",
      "  (7903, 8057)\t0.9\n",
      "  (7903, 8058)\t0.9\n",
      "  (7903, 8059)\t0.9\n",
      "  (7903, 8060)\t0.9\n",
      "  (7903, 8061)\t0.9\n",
      "  (7903, 8062)\t0.9\n",
      "  (7903, 8063)\t0.9\n",
      "  (7903, 8064)\t0.9\n",
      "  (7903, 8065)\t0.9\n",
      "  (7903, 8066)\t0.9\n",
      "  (7903, 8067)\t0.9\n",
      "  (7903, 8068)\t0.9\n",
      "  (7903, 8069)\t0.9\n"
     ]
    }
   ],
   "source": [
    "print(data)"
   ]
  },
  {
   "cell_type": "code",
   "execution_count": 13,
   "metadata": {},
   "outputs": [],
   "source": [
    "data = sparse.load_npz(os.path.join(\"D:\\jinrenren\\PyCharm\\distances2\", \"geographic_upper_round1_sparse.npz\"))"
   ]
  },
  {
   "cell_type": "code",
   "execution_count": 15,
   "metadata": {},
   "outputs": [
    {
     "name": "stdout",
     "output_type": "stream",
     "text": [
      "  (0, 1)\t0.1\n",
      "  (0, 2)\t0.1\n",
      "  (0, 3)\t1.0\n",
      "  (0, 4)\t0.1\n",
      "  (0, 5)\t0.1\n",
      "  (0, 6)\t0.1\n",
      "  (0, 8)\t0.3\n",
      "  (0, 9)\t0.1\n",
      "  (0, 10)\t0.1\n",
      "  (0, 11)\t0.1\n",
      "  (0, 12)\t0.1\n",
      "  (0, 13)\t0.1\n",
      "  (0, 14)\t0.1\n",
      "  (0, 17)\t0.1\n",
      "  (0, 19)\t0.1\n",
      "  (0, 20)\t0.1\n",
      "  (0, 21)\t0.1\n",
      "  (0, 22)\t0.1\n",
      "  (0, 23)\t0.2\n",
      "  (0, 24)\t0.1\n",
      "  (0, 25)\t0.1\n",
      "  (0, 26)\t0.1\n",
      "  (0, 27)\t0.1\n",
      "  (0, 31)\t0.1\n",
      "  (0, 32)\t0.1\n",
      "  :\t:\n",
      "  (8062, 8066)\t1.0\n",
      "  (8062, 8067)\t1.0\n",
      "  (8062, 8068)\t1.0\n",
      "  (8062, 8069)\t1.0\n",
      "  (8063, 8064)\t1.0\n",
      "  (8063, 8065)\t1.0\n",
      "  (8063, 8066)\t1.0\n",
      "  (8063, 8067)\t1.0\n",
      "  (8063, 8068)\t1.0\n",
      "  (8063, 8069)\t1.0\n",
      "  (8064, 8065)\t1.0\n",
      "  (8064, 8066)\t1.0\n",
      "  (8064, 8067)\t1.0\n",
      "  (8064, 8068)\t1.0\n",
      "  (8064, 8069)\t1.0\n",
      "  (8065, 8066)\t1.0\n",
      "  (8065, 8067)\t1.0\n",
      "  (8065, 8068)\t1.0\n",
      "  (8065, 8069)\t1.0\n",
      "  (8066, 8067)\t1.0\n",
      "  (8066, 8068)\t1.0\n",
      "  (8066, 8069)\t1.0\n",
      "  (8067, 8068)\t1.0\n",
      "  (8067, 8069)\t1.0\n",
      "  (8068, 8069)\t0.4\n"
     ]
    }
   ],
   "source": [
    "print(data)"
   ]
  },
  {
   "cell_type": "code",
   "execution_count": null,
   "metadata": {},
   "outputs": [],
   "source": []
  }
 ],
 "metadata": {
  "kernelspec": {
   "display_name": "Python 3",
   "language": "python",
   "name": "python3"
  },
  "language_info": {
   "codemirror_mode": {
    "name": "ipython",
    "version": 3
   },
   "file_extension": ".py",
   "mimetype": "text/x-python",
   "name": "python",
   "nbconvert_exporter": "python",
   "pygments_lexer": "ipython3",
   "version": "3.7.7"
  }
 },
 "nbformat": 4,
 "nbformat_minor": 4
}
