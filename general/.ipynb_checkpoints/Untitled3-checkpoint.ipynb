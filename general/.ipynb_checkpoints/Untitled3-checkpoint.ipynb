{
 "cells": [
  {
   "cell_type": "code",
   "execution_count": 3,
   "metadata": {},
   "outputs": [],
   "source": [
    "import lang2vec.lang2vec as l2v"
   ]
  },
  {
   "cell_type": "code",
   "execution_count": 4,
   "metadata": {},
   "outputs": [],
   "source": [
    "features = l2v.get_features([\"eng\", \"zho\"], \"syntax_wals\", header=True)"
   ]
  },
  {
   "cell_type": "code",
   "execution_count": 5,
   "metadata": {},
   "outputs": [
    {
     "data": {
      "text/plain": [
       "['S_SVO',\n",
       " 'S_SOV',\n",
       " 'S_VSO',\n",
       " 'S_VOS',\n",
       " 'S_OVS',\n",
       " 'S_OSV',\n",
       " 'S_SUBJECT_BEFORE_VERB',\n",
       " 'S_SUBJECT_AFTER_VERB',\n",
       " 'S_OBJECT_AFTER_VERB',\n",
       " 'S_OBJECT_BEFORE_VERB',\n",
       " 'S_SUBJECT_BEFORE_OBJECT',\n",
       " 'S_SUBJECT_AFTER_OBJECT',\n",
       " 'S_GENDER_MARK',\n",
       " 'S_SEX_MARK',\n",
       " 'S_DEFINITE_AFFIX',\n",
       " 'S_DEFINITE_WORD',\n",
       " 'S_INDEFINITE_AFFIX',\n",
       " 'S_INDEFINITE_WORD',\n",
       " 'S_POSSESSIVE_PREFIX',\n",
       " 'S_POSSESSIVE_SUFFIX',\n",
       " 'S_ADPOSITION_BEFORE_NOUN',\n",
       " 'S_ADPOSITION_AFTER_NOUN',\n",
       " 'S_POSSESSOR_BEFORE_NOUN',\n",
       " 'S_POSSESSOR_AFTER_NOUN',\n",
       " 'S_ADJECTIVE_BEFORE_NOUN',\n",
       " 'S_ADJECTIVE_AFTER_NOUN',\n",
       " 'S_DEMONSTRATIVE_WORD_BEFORE_NOUN',\n",
       " 'S_DEMONSTRATIVE_WORD_AFTER_NOUN',\n",
       " 'S_DEMONSTRATIVE_PREFIX',\n",
       " 'S_DEMONSTRATIVE_SUFFIX',\n",
       " 'S_NUMERAL_BEFORE_NOUN',\n",
       " 'S_NUMERAL_AFTER_NOUN',\n",
       " 'S_RELATIVE_BEFORE_NOUN',\n",
       " 'S_RELATIVE_AFTER_NOUN',\n",
       " 'S_RELATIVE_AROUND_NOUN',\n",
       " 'S_NOMINATIVE_VS_ACCUSATIVE_MARK',\n",
       " 'S_ERGATIVE_VS_ABSOLUTIVE_MARK',\n",
       " 'S_NEGATIVE_WORD_BEFORE_VERB',\n",
       " 'S_NEGATIVE_PREFIX',\n",
       " 'S_NEGATIVE_WORD_AFTER_VERB',\n",
       " 'S_NEGATIVE_SUFFIX',\n",
       " 'S_NEGATIVE_WORD_BEFORE_SUBJECT',\n",
       " 'S_NEGATIVE_WORD_AFTER_SUBJECT',\n",
       " 'S_NEGATIVE_WORD_BEFORE_OBJECT',\n",
       " 'S_NEGATIVE_WORD_AFTER_OBJECT',\n",
       " 'S_NEGATIVE_WORD_INITIAL',\n",
       " 'S_NEGATIVE_WORD_FINAL',\n",
       " 'S_NEGATIVE_WORD_ADJACENT_BEFORE_VERB',\n",
       " 'S_NEGATIVE_WORD_ADJACENT_AFTER_VERB',\n",
       " 'S_PLURAL_PREFIX',\n",
       " 'S_PLURAL_SUFFIX',\n",
       " 'S_PLURAL_WORD',\n",
       " 'S_OBJECT_HEADMARK',\n",
       " 'S_OBJECT_DEPMARK',\n",
       " 'S_POSSESSIVE_HEADMARK',\n",
       " 'S_POSSESSIVE_DEPMARK',\n",
       " 'S_TEND_HEADMARK',\n",
       " 'S_TEND_DEPMARK',\n",
       " 'S_TEND_PREFIX',\n",
       " 'S_TEND_SUFFIX',\n",
       " 'S_ANY_REDUP',\n",
       " 'S_CASE_PREFIX',\n",
       " 'S_CASE_SUFFIX',\n",
       " 'S_CASE_PROCLITIC',\n",
       " 'S_CASE_ENCLITIC',\n",
       " 'S_CASE_MARK',\n",
       " 'S_COMITATIVE_VS_INSTRUMENTAL_MARK',\n",
       " 'S_NUMCLASS_MARK',\n",
       " 'S_ADJECTIVE_WITHOUT_NOUN',\n",
       " 'S_PERFECTIVE_VS_IMPERFECTIVE_MARK',\n",
       " 'S_PAST_VS_PRESENT_MARK',\n",
       " 'S_FUTURE_AFFIX',\n",
       " 'S_TAM_PREFIX',\n",
       " 'S_TAM_SUFFIX',\n",
       " 'S_DEGREE_WORD_BEFORE_ADJECTIVE',\n",
       " 'S_DEGREE_WORD_AFTER_ADJECTIVE',\n",
       " 'S_POLARQ_MARK_INITIAL',\n",
       " 'S_POLARQ_MARK_FINAL',\n",
       " 'S_POLARQ_MARK_SECOND',\n",
       " 'S_POLARQ_WORD',\n",
       " 'S_POLARQ_AFFIX',\n",
       " 'S_SUBORDINATOR_WORD_BEFORE_CLAUSE',\n",
       " 'S_SUBORDINATOR_WORD_AFTER_CLAUSE',\n",
       " 'S_SUBORDINATOR_SUFFIX',\n",
       " 'S_PROSUBJECT_WORD',\n",
       " 'S_PROSUBJECT_AFFIX',\n",
       " 'S_PROSUBJECT_CLITIC',\n",
       " 'S_NEGATIVE_AFFIX',\n",
       " 'S_NEGATIVE_WORD',\n",
       " 'S_ANY_AGREEMENT_ON_ADJECTIVES',\n",
       " 'S_COMPLEMENTIZER_WORD_BEFORE_CLAUSE',\n",
       " 'S_COMPLEMENTIZER_WORD_AFTER_CLAUSE',\n",
       " 'S_VOX',\n",
       " 'S_XVO',\n",
       " 'S_XOV',\n",
       " 'S_OXV',\n",
       " 'S_OVX',\n",
       " 'S_OBLIQUE_AFTER_VERB',\n",
       " 'S_OBLIQUE_AFTER_OBJECT',\n",
       " 'S_OBLIQUE_BEFORE_VERB',\n",
       " 'S_OBLIQUE_BEFORE_OBJECT',\n",
       " 'S_ARTICLE_WORD_BEFORE_NOUN',\n",
       " 'S_ARTICLE_WORD_AFTER_NOUN']"
      ]
     },
     "execution_count": 5,
     "metadata": {},
     "output_type": "execute_result"
    }
   ],
   "source": [
    "features[\"CODE\"]"
   ]
  },
  {
   "cell_type": "code",
   "execution_count": 6,
   "metadata": {},
   "outputs": [
    {
     "data": {
      "text/plain": [
       "[1.0, 0.0, 0.0, 0.0, 0.0, 0.0]"
      ]
     },
     "execution_count": 6,
     "metadata": {},
     "output_type": "execute_result"
    }
   ],
   "source": [
    "features[\"eng\"][:6]"
   ]
  },
  {
   "cell_type": "code",
   "execution_count": 7,
   "metadata": {},
   "outputs": [
    {
     "data": {
      "text/plain": [
       "[1.0,\n",
       " 0.0,\n",
       " 0.0,\n",
       " 0.0,\n",
       " 0.0,\n",
       " 0.0,\n",
       " 1.0,\n",
       " 0.0,\n",
       " 1.0,\n",
       " 0.0,\n",
       " 1.0,\n",
       " 0.0,\n",
       " 0.0,\n",
       " 0.0,\n",
       " 0.0,\n",
       " 0.0,\n",
       " 0.0,\n",
       " 1.0,\n",
       " 0.0,\n",
       " 0.0,\n",
       " 1.0,\n",
       " 1.0,\n",
       " 1.0,\n",
       " 0.0,\n",
       " 1.0,\n",
       " 0.0,\n",
       " 1.0,\n",
       " 0.0,\n",
       " 0.0,\n",
       " 0.0,\n",
       " 1.0,\n",
       " 0.0,\n",
       " 1.0,\n",
       " 0.0,\n",
       " 0.0,\n",
       " 0.0,\n",
       " 0.0,\n",
       " 1.0,\n",
       " 0.0,\n",
       " 0.0,\n",
       " 0.0,\n",
       " 0.0,\n",
       " 1.0,\n",
       " 1.0,\n",
       " 0.0,\n",
       " 0.0,\n",
       " 0.0,\n",
       " 1.0,\n",
       " 0.0,\n",
       " 0.0,\n",
       " 1.0,\n",
       " 0.0,\n",
       " 0.0,\n",
       " 1.0,\n",
       " 0.0,\n",
       " 1.0,\n",
       " 0.0,\n",
       " 1.0,\n",
       " 0.0,\n",
       " 1.0,\n",
       " 1.0,\n",
       " 0.0,\n",
       " 0.0,\n",
       " 0.0,\n",
       " 0.0,\n",
       " 0.0,\n",
       " 1.0,\n",
       " 1.0,\n",
       " 0.0,\n",
       " 1.0,\n",
       " 0.0,\n",
       " 0.0,\n",
       " 0.0,\n",
       " 1.0,\n",
       " 1.0,\n",
       " 1.0,\n",
       " 0.0,\n",
       " 1.0,\n",
       " 0.0,\n",
       " 1.0,\n",
       " 0.0,\n",
       " '--',\n",
       " '--',\n",
       " '--',\n",
       " 1.0,\n",
       " 0.0,\n",
       " 0.0,\n",
       " 0.0,\n",
       " 1.0,\n",
       " '--',\n",
       " '--',\n",
       " '--',\n",
       " 0.0,\n",
       " 1.0,\n",
       " 0.0,\n",
       " 1.0,\n",
       " 0.0,\n",
       " 0.0,\n",
       " 1.0,\n",
       " 1.0,\n",
       " 1.0,\n",
       " '--',\n",
       " '--']"
      ]
     },
     "execution_count": 7,
     "metadata": {},
     "output_type": "execute_result"
    }
   ],
   "source": [
    "features[\"zho\"]"
   ]
  },
  {
   "cell_type": "code",
   "execution_count": 11,
   "metadata": {},
   "outputs": [],
   "source": [
    "features2 = l2v.get_features([\"jpn\", \"zho\"], \"phonology_wals\", header=True)"
   ]
  },
  {
   "cell_type": "code",
   "execution_count": 12,
   "metadata": {},
   "outputs": [
    {
     "data": {
      "text/plain": [
       "['P_VOICE',\n",
       " 'P_VOICED_PLOSIVES',\n",
       " 'P_VOICED_FRICATIVES',\n",
       " 'P_EJECTIVES',\n",
       " 'P_IMPLOSIVES',\n",
       " 'P_GLOTTALIZED_RESONANTS',\n",
       " 'P_UVULARS',\n",
       " 'P_UVULAR_STOPS',\n",
       " 'P_UVULAR_CONTINUANTS',\n",
       " 'P_LATERALS',\n",
       " 'P_LATERAL_L',\n",
       " 'P_LATERAL_OBSTRUENTS',\n",
       " 'P_NASAL_VOWELS',\n",
       " 'P_FRONT_ROUND_VOWELS',\n",
       " 'P_BILABIALS',\n",
       " 'P_FRICATIVES',\n",
       " 'P_NASALS',\n",
       " 'P_LABIAL_VELARS',\n",
       " 'P_CLICKS',\n",
       " 'P_TH',\n",
       " 'P_PHARYNGEALS',\n",
       " 'P_COMPLEX_ONSETS',\n",
       " 'P_TONE',\n",
       " 'P_VELAR_NASAL',\n",
       " 'P_VELAR_NASAL_INITIAL',\n",
       " 'P_CODAS',\n",
       " 'P_COMPLEX_CODAS',\n",
       " 'P_LONG_VOWELS']"
      ]
     },
     "execution_count": 12,
     "metadata": {},
     "output_type": "execute_result"
    }
   ],
   "source": [
    "features2[\"CODE\"]"
   ]
  },
  {
   "cell_type": "code",
   "execution_count": 16,
   "metadata": {},
   "outputs": [
    {
     "name": "stdout",
     "output_type": "stream",
     "text": [
      "P_VOICE\n",
      "P_VOICED_FRICATIVES\n",
      "P_BILABIALS\n",
      "P_FRICATIVES\n",
      "P_NASALS\n",
      "P_COMPLEX_ONSETS\n",
      "P_TONE\n"
     ]
    }
   ],
   "source": [
    "for i in range(len(features2[\"CODE\"])):\n",
    "    if features2[\"zho\"][i] == 1 and features2[\"jpn\"][i] == 1:\n",
    "        print(features2[\"CODE\"][i])"
   ]
  },
  {
   "cell_type": "code",
   "execution_count": 17,
   "metadata": {},
   "outputs": [],
   "source": [
    "features3 = l2v.get_features([\"ru\", \"zho\"], \"phonology_wals\", header=True)"
   ]
  },
  {
   "cell_type": "code",
   "execution_count": 19,
   "metadata": {},
   "outputs": [],
   "source": [
    "import pycountry"
   ]
  },
  {
   "cell_type": "code",
   "execution_count": 20,
   "metadata": {},
   "outputs": [
    {
     "data": {
      "text/plain": [
       "Language(alpha_2='ru', alpha_3='rus', name='Russian', scope='I', type='L')"
      ]
     },
     "execution_count": 20,
     "metadata": {},
     "output_type": "execute_result"
    }
   ],
   "source": [
    "pycountry.languages.get(alpha_2 = \"ru\")"
   ]
  },
  {
   "cell_type": "code",
   "execution_count": 21,
   "metadata": {},
   "outputs": [],
   "source": [
    "features3 = l2v.get_features([\"rus\", \"zho\"], \"phonology_wals\", header=True)"
   ]
  },
  {
   "cell_type": "code",
   "execution_count": 23,
   "metadata": {},
   "outputs": [
    {
     "name": "stdout",
     "output_type": "stream",
     "text": [
      "P_VOICE\n",
      "P_VOICED_FRICATIVES\n",
      "P_LATERALS\n",
      "P_LATERAL_L\n",
      "P_BILABIALS\n",
      "P_FRICATIVES\n",
      "P_NASALS\n",
      "P_COMPLEX_ONSETS\n"
     ]
    }
   ],
   "source": [
    "for i in range(len(features3[\"CODE\"])):\n",
    "    if features3[\"zho\"][i] == 1 and features3[\"rus\"][i] == 1:\n",
    "        print(features3[\"CODE\"][i])"
   ]
  },
  {
   "cell_type": "code",
   "execution_count": null,
   "metadata": {},
   "outputs": [],
   "source": []
  }
 ],
 "metadata": {
  "kernelspec": {
   "display_name": "Python 3",
   "language": "python",
   "name": "python3"
  },
  "language_info": {
   "codemirror_mode": {
    "name": "ipython",
    "version": 3
   },
   "file_extension": ".py",
   "mimetype": "text/x-python",
   "name": "python",
   "nbconvert_exporter": "python",
   "pygments_lexer": "ipython3",
   "version": "3.7.7"
  }
 },
 "nbformat": 4,
 "nbformat_minor": 4
}
