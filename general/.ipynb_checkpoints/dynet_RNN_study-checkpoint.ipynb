{
 "cells": [
  {
   "cell_type": "code",
   "execution_count": 1,
   "metadata": {},
   "outputs": [],
   "source": [
    "import dynet as dy"
   ]
  },
  {
   "cell_type": "code",
   "execution_count": 2,
   "metadata": {},
   "outputs": [],
   "source": [
    "pc = dy.ParameterCollection()\n",
    "NUM_LAYERS=2\n",
    "INPUT_DIM=50\n",
    "HIDDEN_DIM=10\n",
    "builder = dy.LSTMBuilder(NUM_LAYERS, INPUT_DIM, HIDDEN_DIM, pc)"
   ]
  },
  {
   "cell_type": "code",
   "execution_count": 3,
   "metadata": {},
   "outputs": [
    {
     "data": {
      "text/plain": [
       "<_dynet.VanillaLSTMBuilder at 0x2850be27410>"
      ]
     },
     "execution_count": 3,
     "metadata": {},
     "output_type": "execute_result"
    }
   ],
   "source": [
    "builder"
   ]
  },
  {
   "cell_type": "code",
   "execution_count": 4,
   "metadata": {},
   "outputs": [],
   "source": [
    "s0 = builder.initial_state()"
   ]
  },
  {
   "cell_type": "code",
   "execution_count": 5,
   "metadata": {},
   "outputs": [
    {
     "data": {
      "text/plain": [
       "<_dynet.RNNState at 0x2852e2608b8>"
      ]
     },
     "execution_count": 5,
     "metadata": {},
     "output_type": "execute_result"
    }
   ],
   "source": [
    "s0"
   ]
  },
  {
   "cell_type": "code",
   "execution_count": 6,
   "metadata": {},
   "outputs": [],
   "source": [
    "x1 = dy.vecInput(INPUT_DIM)"
   ]
  },
  {
   "cell_type": "code",
   "execution_count": 7,
   "metadata": {},
   "outputs": [],
   "source": [
    "s1 = s0.add_input(x1)"
   ]
  },
  {
   "cell_type": "code",
   "execution_count": 8,
   "metadata": {},
   "outputs": [
    {
     "data": {
      "text/plain": [
       "<_dynet.RNNState at 0x2852dfeb048>"
      ]
     },
     "execution_count": 8,
     "metadata": {},
     "output_type": "execute_result"
    }
   ],
   "source": [
    "s1"
   ]
  },
  {
   "cell_type": "code",
   "execution_count": 9,
   "metadata": {},
   "outputs": [],
   "source": [
    "y1 = s1.output()"
   ]
  },
  {
   "cell_type": "code",
   "execution_count": 10,
   "metadata": {},
   "outputs": [
    {
     "data": {
      "text/plain": [
       "expression 32/0"
      ]
     },
     "execution_count": 10,
     "metadata": {},
     "output_type": "execute_result"
    }
   ],
   "source": [
    "y1"
   ]
  },
  {
   "cell_type": "code",
   "execution_count": 11,
   "metadata": {},
   "outputs": [
    {
     "data": {
      "text/plain": [
       "array([0., 0., 0., 0., 0., 0., 0., 0., 0., 0.])"
      ]
     },
     "execution_count": 11,
     "metadata": {},
     "output_type": "execute_result"
    }
   ],
   "source": [
    "y1.npvalue()"
   ]
  },
  {
   "cell_type": "code",
   "execution_count": 14,
   "metadata": {},
   "outputs": [],
   "source": [
    "s2 = s1.add_input(x1)"
   ]
  },
  {
   "cell_type": "code",
   "execution_count": 15,
   "metadata": {},
   "outputs": [
    {
     "data": {
      "text/plain": [
       "<_dynet.RNNState at 0x2852e260b38>"
      ]
     },
     "execution_count": 15,
     "metadata": {},
     "output_type": "execute_result"
    }
   ],
   "source": [
    "s2"
   ]
  },
  {
   "cell_type": "markdown",
   "metadata": {},
   "source": [
    "s0 -> s1 -> s2"
   ]
  },
  {
   "cell_type": "code",
   "execution_count": 16,
   "metadata": {},
   "outputs": [],
   "source": [
    "y2 = s2.output()"
   ]
  },
  {
   "cell_type": "code",
   "execution_count": 17,
   "metadata": {},
   "outputs": [
    {
     "data": {
      "text/plain": [
       "expression 62/0"
      ]
     },
     "execution_count": 17,
     "metadata": {},
     "output_type": "execute_result"
    }
   ],
   "source": [
    "y2"
   ]
  },
  {
   "cell_type": "code",
   "execution_count": 18,
   "metadata": {},
   "outputs": [
    {
     "data": {
      "text/plain": [
       "(expression 47/0, expression 62/0)"
      ]
     },
     "execution_count": 18,
     "metadata": {},
     "output_type": "execute_result"
    }
   ],
   "source": [
    "s2.h()"
   ]
  },
  {
   "cell_type": "code",
   "execution_count": 19,
   "metadata": {},
   "outputs": [
    {
     "name": "stdout",
     "output_type": "stream",
     "text": [
      "expression 47/0\n",
      "expression 62/0\n"
     ]
    }
   ],
   "source": [
    "for item in s2.h():\n",
    "    print(item)"
   ]
  },
  {
   "cell_type": "code",
   "execution_count": 21,
   "metadata": {},
   "outputs": [
    {
     "data": {
      "text/plain": [
       "(expression 19/0, expression 32/0)"
      ]
     },
     "execution_count": 21,
     "metadata": {},
     "output_type": "execute_result"
    }
   ],
   "source": [
    "s1.h()"
   ]
  },
  {
   "cell_type": "code",
   "execution_count": 22,
   "metadata": {},
   "outputs": [],
   "source": [
    "rnnbuilder=dy.SimpleRNNBuilder(NUM_LAYERS, INPUT_DIM, HIDDEN_DIM, pc)"
   ]
  },
  {
   "cell_type": "code",
   "execution_count": 23,
   "metadata": {},
   "outputs": [],
   "source": [
    "# initialize a new graph, and a new sequence\n",
    "rs0 = rnnbuilder.initial_state()"
   ]
  },
  {
   "cell_type": "code",
   "execution_count": 24,
   "metadata": {},
   "outputs": [],
   "source": [
    "rs1 = rs0.add_input(x1)"
   ]
  },
  {
   "cell_type": "code",
   "execution_count": 25,
   "metadata": {},
   "outputs": [],
   "source": [
    "ry1 = rs1.output()"
   ]
  },
  {
   "cell_type": "markdown",
   "metadata": {},
   "source": [
    "`.s()`The internal state of the RNN"
   ]
  },
  {
   "cell_type": "code",
   "execution_count": 26,
   "metadata": {},
   "outputs": [
    {
     "data": {
      "text/plain": [
       "(expression 17/0, expression 30/0, expression 19/0, expression 32/0)"
      ]
     },
     "execution_count": 26,
     "metadata": {},
     "output_type": "execute_result"
    }
   ],
   "source": [
    "s1.s()"
   ]
  },
  {
   "cell_type": "code",
   "execution_count": 27,
   "metadata": {},
   "outputs": [
    {
     "data": {
      "text/plain": [
       "()"
      ]
     },
     "execution_count": 27,
     "metadata": {},
     "output_type": "execute_result"
    }
   ],
   "source": [
    "s0.s()"
   ]
  },
  {
   "cell_type": "code",
   "execution_count": 28,
   "metadata": {},
   "outputs": [
    {
     "data": {
      "text/plain": [
       "(expression 45/0, expression 60/0, expression 47/0, expression 62/0)"
      ]
     },
     "execution_count": 28,
     "metadata": {},
     "output_type": "execute_result"
    }
   ],
   "source": [
    "s2.s()"
   ]
  },
  {
   "cell_type": "code",
   "execution_count": 29,
   "metadata": {},
   "outputs": [],
   "source": [
    "rnnh = rs1.h()\n",
    "rnns = rs1.s()"
   ]
  },
  {
   "cell_type": "code",
   "execution_count": 31,
   "metadata": {},
   "outputs": [
    {
     "name": "stdout",
     "output_type": "stream",
     "text": [
      "(expression 70/0, expression 72/0)\n",
      "(expression 70/0, expression 72/0)\n"
     ]
    }
   ],
   "source": [
    "print(rnnh, rnns, sep=\"\\n\")"
   ]
  },
  {
   "cell_type": "code",
   "execution_count": 32,
   "metadata": {},
   "outputs": [],
   "source": [
    "lstm_h = s1.h()\n",
    "lstm_s = s1.s()"
   ]
  },
  {
   "cell_type": "code",
   "execution_count": 33,
   "metadata": {},
   "outputs": [
    {
     "name": "stdout",
     "output_type": "stream",
     "text": [
      "(expression 19/0, expression 32/0)\n",
      "(expression 17/0, expression 30/0, expression 19/0, expression 32/0)\n"
     ]
    }
   ],
   "source": [
    "print(lstm_h, lstm_s, sep=\"\\n\")"
   ]
  },
  {
   "cell_type": "markdown",
   "metadata": {},
   "source": [
    "The LSTM has two extra state expressions (one for each hidden layer) before the outputs h."
   ]
  },
  {
   "cell_type": "code",
   "execution_count": 35,
   "metadata": {},
   "outputs": [
    {
     "data": {
      "text/plain": [
       "((expression 47/0, expression 62/0),\n",
       " (expression 45/0, expression 60/0, expression 47/0, expression 62/0))"
      ]
     },
     "execution_count": 35,
     "metadata": {},
     "output_type": "execute_result"
    }
   ],
   "source": [
    "s2.h(), s2.s()"
   ]
  },
  {
   "cell_type": "code",
   "execution_count": 36,
   "metadata": {},
   "outputs": [],
   "source": [
    "s2 = s1.add_input(x1)"
   ]
  },
  {
   "cell_type": "code",
   "execution_count": 37,
   "metadata": {},
   "outputs": [
    {
     "data": {
      "text/plain": [
       "((expression 87/0, expression 102/0),\n",
       " (expression 85/0, expression 100/0, expression 87/0, expression 102/0))"
      ]
     },
     "execution_count": 37,
     "metadata": {},
     "output_type": "execute_result"
    }
   ],
   "source": [
    "s2.h(), s2.s()"
   ]
  },
  {
   "cell_type": "code",
   "execution_count": 38,
   "metadata": {},
   "outputs": [],
   "source": [
    "s3 = s2.add_input(x1)\n",
    "s4 = s3.add_input(x1)"
   ]
  },
  {
   "cell_type": "code",
   "execution_count": 39,
   "metadata": {},
   "outputs": [],
   "source": [
    "s5 = s3.add_input(x1)"
   ]
  },
  {
   "cell_type": "markdown",
   "metadata": {},
   "source": [
    "we now have two different sequences:\n",
    "`s0,s1,s2,s3,s4`\n",
    "`s0,s1,s2,s3,s5`\n",
    "the two sequences share parameters."
   ]
  },
  {
   "cell_type": "code",
   "execution_count": 40,
   "metadata": {},
   "outputs": [
    {
     "data": {
      "text/plain": [
       "True"
      ]
     },
     "execution_count": 40,
     "metadata": {},
     "output_type": "execute_result"
    }
   ],
   "source": [
    "s5.prev() == s3"
   ]
  },
  {
   "cell_type": "code",
   "execution_count": 41,
   "metadata": {},
   "outputs": [
    {
     "data": {
      "text/plain": [
       "True"
      ]
     },
     "execution_count": 41,
     "metadata": {},
     "output_type": "execute_result"
    }
   ],
   "source": [
    "s4.prev() == s3"
   ]
  },
  {
   "cell_type": "code",
   "execution_count": 42,
   "metadata": {},
   "outputs": [],
   "source": [
    "s6 = s3.prev().add_input(x1)"
   ]
  },
  {
   "cell_type": "markdown",
   "metadata": {},
   "source": [
    "s0,s1,s2,s6"
   ]
  },
  {
   "cell_type": "code",
   "execution_count": 43,
   "metadata": {},
   "outputs": [
    {
     "data": {
      "text/plain": [
       "((expression 207/0, expression 222/0),\n",
       " (expression 205/0, expression 220/0, expression 207/0, expression 222/0))"
      ]
     },
     "execution_count": 43,
     "metadata": {},
     "output_type": "execute_result"
    }
   ],
   "source": [
    "s6.h(), s6.s()"
   ]
  },
  {
   "cell_type": "code",
   "execution_count": 44,
   "metadata": {},
   "outputs": [],
   "source": [
    "state = rnnbuilder.initial_state()\n",
    "xs = [x1,x1,x1]\n",
    "states = state.add_inputs(xs)"
   ]
  },
  {
   "cell_type": "code",
   "execution_count": 45,
   "metadata": {},
   "outputs": [
    {
     "data": {
      "text/plain": [
       "[<_dynet.RNNState at 0x2852e1c2e08>,\n",
       " <_dynet.RNNState at 0x2852e1c2e58>,\n",
       " <_dynet.RNNState at 0x2852e1c2ea8>]"
      ]
     },
     "execution_count": 45,
     "metadata": {},
     "output_type": "execute_result"
    }
   ],
   "source": [
    "states"
   ]
  },
  {
   "cell_type": "code",
   "execution_count": 46,
   "metadata": {},
   "outputs": [
    {
     "name": "stdout",
     "output_type": "stream",
     "text": [
      "[expression 226/0, expression 230/0, expression 234/0] [(expression 224/0, expression 226/0), (expression 228/0, expression 230/0), (expression 232/0, expression 234/0)]\n"
     ]
    }
   ],
   "source": [
    "outputs = [s.output() for s in states]\n",
    "hs = [s.h() for s in states]\n",
    "print(outputs, hs)"
   ]
  },
  {
   "cell_type": "code",
   "execution_count": 47,
   "metadata": {},
   "outputs": [
    {
     "name": "stdout",
     "output_type": "stream",
     "text": [
      "[expression 238/0, expression 242/0, expression 246/0]\n"
     ]
    }
   ],
   "source": [
    "state = rnnbuilder.initial_state()\n",
    "xs = [x1,x1,x1]\n",
    "outputs = state.transduce(xs)\n",
    "print(outputs)"
   ]
  },
  {
   "cell_type": "code",
   "execution_count": 48,
   "metadata": {},
   "outputs": [
    {
     "data": {
      "text/plain": [
       "array([0., 0., 0., 0., 0., 0., 0., 0., 0., 0.])"
      ]
     },
     "execution_count": 48,
     "metadata": {},
     "output_type": "execute_result"
    }
   ],
   "source": [
    "outputs[0].npvalue()"
   ]
  },
  {
   "cell_type": "code",
   "execution_count": 49,
   "metadata": {},
   "outputs": [],
   "source": [
    "import random\n",
    "from collections import defaultdict\n",
    "from itertools import count\n",
    "import sys"
   ]
  },
  {
   "cell_type": "code",
   "execution_count": 53,
   "metadata": {},
   "outputs": [],
   "source": [
    "LAYERS = 1\n",
    "INPUT_DIM = 50\n",
    "HIDDEN_DIM = 50\n",
    "\n",
    "characters = list(\"abcdefghijklmnopqrstuvwxyz \")\n",
    "characters.append(\"<EOS>\")\n",
    "\n",
    "int2char = characters\n",
    "char2int = {c:i for i,c in enumerate(characters)}\n",
    "\n",
    "VOCAB_SIZE = len(characters)"
   ]
  },
  {
   "cell_type": "code",
   "execution_count": 54,
   "metadata": {},
   "outputs": [
    {
     "data": {
      "text/plain": [
       "{'a': 0,\n",
       " 'b': 1,\n",
       " 'c': 2,\n",
       " 'd': 3,\n",
       " 'e': 4,\n",
       " 'f': 5,\n",
       " 'g': 6,\n",
       " 'h': 7,\n",
       " 'i': 8,\n",
       " 'j': 9,\n",
       " 'k': 10,\n",
       " 'l': 11,\n",
       " 'm': 12,\n",
       " 'n': 13,\n",
       " 'o': 14,\n",
       " 'p': 15,\n",
       " 'q': 16,\n",
       " 'r': 17,\n",
       " 's': 18,\n",
       " 't': 19,\n",
       " 'u': 20,\n",
       " 'v': 21,\n",
       " 'w': 22,\n",
       " 'x': 23,\n",
       " 'y': 24,\n",
       " 'z': 25,\n",
       " ' ': 26,\n",
       " '<EOS>': 27}"
      ]
     },
     "execution_count": 54,
     "metadata": {},
     "output_type": "execute_result"
    }
   ],
   "source": [
    "char2int"
   ]
  },
  {
   "cell_type": "code",
   "execution_count": 55,
   "metadata": {},
   "outputs": [],
   "source": [
    "pc = dy.ParameterCollection()\n",
    "\n",
    "srnn = dy.SimpleRNNBuilder(LAYERS, INPUT_DIM, HIDDEN_DIM, pc)\n",
    "lstm = dy.LSTMBuilder(LAYERS, INPUT_DIM, HIDDEN_DIM, pc)"
   ]
  },
  {
   "cell_type": "markdown",
   "metadata": {},
   "source": [
    "add parameters for the hidden->output part for both lstm and srnn"
   ]
  },
  {
   "cell_type": "code",
   "execution_count": 58,
   "metadata": {},
   "outputs": [],
   "source": [
    "srnn = dy.SimpleRNNBuilder(LAYERS, INPUT_DIM, HIDDEN_DIM, pc)\n",
    "lstm = dy.LSTMBuilder(LAYERS, INPUT_DIM, HIDDEN_DIM, pc)\n",
    "params_lstm = {}\n",
    "params_srnn = {}\n",
    "for params in [params_lstm, params_srnn]:\n",
    "    params[\"lookup\"] = pc.add_lookup_parameters((VOCAB_SIZE, INPUT_DIM))\n",
    "    params[\"R\"] = pc.add_parameters((VOCAB_SIZE, HIDDEN_DIM))\n",
    "    params[\"bias\"] = pc.add_parameters((VOCAB_SIZE))"
   ]
  },
  {
   "cell_type": "markdown",
   "metadata": {},
   "source": [
    "return compute loss of RNN for one sentence"
   ]
  },
  {
   "cell_type": "code",
   "execution_count": 78,
   "metadata": {},
   "outputs": [],
   "source": [
    "def do_one_sentence(rnn, params, sentence):\n",
    "    # setup the sentence\n",
    "    dy.renew_cg()\n",
    "    s0 = rnn.initial_state()\n",
    "\n",
    "    R = params[\"R\"]\n",
    "    bias = params[\"bias\"]\n",
    "    lookup = params[\"lookup\"]\n",
    "    sentence = [\"<EOS>\"] + list(sentence) + [\"<EOS>\"]\n",
    "    sentence = [char2int[c] for c in sentence]  # one hot represectation\n",
    "    s = s0\n",
    "    loss = []\n",
    "    for char,next_char in zip(sentence,sentence[1:]):\n",
    "        s = s.add_input(lookup[char])  # create an Expression from row char\n",
    "#         print(s.output().npvalue().shape)\n",
    "#         print(R.npvalue().shape)\n",
    "        probs = dy.softmax(R*s.output() + bias)\n",
    "        loss.append( -dy.log(dy.pick(probs,next_char)))\n",
    "    loss = dy.esum(loss)\n",
    "    return loss"
   ]
  },
  {
   "cell_type": "markdown",
   "metadata": {},
   "source": [
    "generate from model:"
   ]
  },
  {
   "cell_type": "code",
   "execution_count": 79,
   "metadata": {},
   "outputs": [],
   "source": [
    "def generate(rnn, params):\n",
    "    def sample(probs):\n",
    "        rnd = random.random()\n",
    "        for i,p in enumerate(probs):\n",
    "            rnd -= p\n",
    "            if rnd <= 0: break\n",
    "        return i\n",
    "\n",
    "    # setup the sentence\n",
    "    dy.renew_cg()\n",
    "    s0 = rnn.initial_state()\n",
    "\n",
    "    R = params[\"R\"]\n",
    "    bias = params[\"bias\"]\n",
    "    lookup = params[\"lookup\"]\n",
    "\n",
    "    s = s0.add_input(lookup[char2int[\"<EOS>\"]])\n",
    "    out=[]\n",
    "    while True:\n",
    "        probs = dy.softmax(R*s.output() + bias)\n",
    "        probs = probs.vec_value()\n",
    "        next_char = sample(probs)\n",
    "        out.append(int2char[next_char])\n",
    "        if out[-1] == \"<EOS>\": break\n",
    "        s = s.add_input(lookup[next_char])\n",
    "    return \"\".join(out[:-1]) # strip the <EOS>"
   ]
  },
  {
   "cell_type": "markdown",
   "metadata": {},
   "source": [
    "train, and generate every 5 samples"
   ]
  },
  {
   "cell_type": "code",
   "execution_count": 80,
   "metadata": {},
   "outputs": [],
   "source": [
    "def train(rnn, params, sentence):\n",
    "    trainer = dy.SimpleSGDTrainer(pc)\n",
    "    for i in range(200):\n",
    "        loss = do_one_sentence(rnn, params, sentence)\n",
    "        loss_value = loss.value()\n",
    "        loss.backward()\n",
    "        trainer.update()\n",
    "        if i % 5 == 0:\n",
    "            print(\"%.10f\" % loss_value, end=\"\\t\")\n",
    "            print(generate(rnn, params))"
   ]
  },
  {
   "cell_type": "code",
   "execution_count": 81,
   "metadata": {},
   "outputs": [
    {
     "name": "stdout",
     "output_type": "stream",
     "text": [
      "0.0174368415\ta quick brown fox jumped over the lazy dog\n",
      "0.0172813181\ta quick brown fox jumped over the lazy dog\n",
      "0.0171286594\ta quick brown fox jumped over the lazy dog\n",
      "0.0169795789\ta quick brown fox jumped over the lazy dog\n",
      "0.0168315712\ta quick brown fox jumped over the lazy dog\n",
      "0.0166859496\ta quick brown fox jumped over the lazy dog\n",
      "0.0165432505\ta quick brown fox jumped over the lazy dog\n",
      "0.0164032970\ta quick brown fox jumped over the lazy dog\n",
      "0.0162657872\ta quick brown fox jumped over the lazy dog\n",
      "0.0161301866\ta quick brown fox jumped over the lazy dog\n",
      "0.0159962568\ta quick brown fox jumped over the lazy dog\n",
      "0.0158650093\ta quick brown fox jumped over the lazy dog\n",
      "0.0157360286\ta quick brown fox jumped over the lazy dog\n",
      "0.0156079428\ta quick brown fox jumped over the lazy dog\n",
      "0.0154845677\ta quick brown fox jumped over the lazy dog\n",
      "0.0153611340\ta quick brown fox jumped over the lazy dog\n",
      "0.0152393728\ta quick brown fox jumped over the lazy dog\n",
      "0.0151195750\ta quick brown fox jumped over the lazy dog\n",
      "0.0150030609\ta quick brown fox jumped over the lazy dog\n",
      "0.0148883350\ta quick brown fox jumped over the lazy dog\n",
      "0.0147740263\ta quick brown fox jumped over the lazy dog\n",
      "0.0146619240\ta quick brown fox jumped over the lazy dog\n",
      "0.0145504186\ta quick brown fox jumped over the lazy dog\n",
      "0.0144417183\ta quick brown fox jumped over the lazy dog\n",
      "0.0143351015\ta quick brown fox jumped over the lazy dog\n",
      "0.0142293228\ta quick brown fox jumped over the lazy dog\n",
      "0.0141250342\ta quick brown fox jumped over the lazy dog\n",
      "0.0140227713\ta quick brown fox jumped over the lazy dog\n",
      "0.0139200939\ta quick brown fox jumped over the lazy dog\n",
      "0.0138207544\ta quick brown fox jumped over the lazy dog\n",
      "0.0137224309\ta quick brown fox jumped over the lazy dog\n",
      "0.0136248199\ta quick brown fox jumped over the lazy dog\n",
      "0.0135298949\ta quick brown fox jumped over the lazy dog\n",
      "0.0134351468\ta quick brown fox jumped over the lazy dog\n",
      "0.0133428471\ta quick brown fox jumped over the lazy dog\n",
      "0.0132510811\ta quick brown fox jumped over the lazy dog\n",
      "0.0131592564\ta quick brown fox jumped over the lazy dog\n",
      "0.0130699975\ta quick brown fox jumped over the lazy dog\n",
      "0.0129821086\ta quick brown fox jumped over the lazy dog\n",
      "0.0128949359\ta quick brown fox jumped over the lazy dog\n"
     ]
    }
   ],
   "source": [
    "sentence = \"a quick brown fox jumped over the lazy dog\"\n",
    "train(srnn, params_srnn, sentence)"
   ]
  },
  {
   "cell_type": "code",
   "execution_count": 82,
   "metadata": {},
   "outputs": [
    {
     "name": "stdout",
     "output_type": "stream",
     "text": [
      "0.4231042266\ta quick brown fox jumped over the lay dog\n",
      "0.3977112472\ta quick brown fox jumped over the lazy dog\n",
      "0.3750352561\ta quick brown fox juped oover the lazy dog\n",
      "0.3546702266\ta quicc brrown fox jumped over the lazy dog\n",
      "0.3362885416\ta quick brown fox jumped over the lazy dog\n",
      "0.3196204901\ta quick brown fox jumped over the lazy dog\n",
      "0.3044435680\ta quick brown fox jumped ove the lazy dog\n",
      "0.2905706763\ta quick brown fox jumped over the lazy dog\n",
      "0.2778420150\ta quick brown fox jumped over the lazy dog\n",
      "0.2661255598\ta quick brown fox jumped over the lazy dog\n",
      "0.2553093135\ta quick brown fox jumped over the lazy dog\n",
      "0.2452945262\ta quick brown fox jumped over the lazy og\n",
      "0.2359956354\ta quick brown fox jumped over the lazy dog\n",
      "0.2273416668\ta quick brown fox jumped over the lazy dog\n",
      "0.2192698568\ta quick brown fox jumped over the lazy dog\n",
      "0.2117234468\ta quick brown fox jumped over the lazy dog\n",
      "0.2046546340\ta quick brown fox jumped oo\n",
      "0.1980202198\ta quick brown fox jumped over the lazy dog\n",
      "0.1917803586\ta qzuck brown fox jumped over the lazy dog\n",
      "0.1859032661\ta quick brown fox jumped over the lazy dog\n",
      "0.1803590953\ta quicc brown fox jumped over the lazy dog\n",
      "0.1751206815\ta quick brown fox jumped over the lazy dog\n",
      "0.1701616347\ta quick brown fox jumped over the lazy dog\n",
      "0.1654638052\ta quick brown fox jumped over the lazy dog\n",
      "0.1610057652\ta quick brown fox jumped over the lazy dog\n",
      "0.1567713618\ta quick brown fox jumped over the lazy dog\n",
      "0.1527424604\ta quick brown fox jumped over the lazy dog\n",
      "0.1489066929\ta quick brown fox jumped over the lazy dog\n",
      "0.1452493370\ta quick brown fox jumped over the lazy dog\n",
      "0.1417595446\ta quick brown fox jumped over the lazy dog\n",
      "0.1384257078\ta quick brown fox jumped over the lazy dog\n",
      "0.1352378130\ta quick brown fox jumped over the lazy dog\n",
      "0.1321865171\ta quick brown fox jumped over the lazy dog\n",
      "0.1292632073\ta quick brown fox jumped over the lazy dog\n",
      "0.1264612079\ta quick brown fox jumped over the lazy dog\n",
      "0.1237714663\ta quick brown fox jumped over the lazy dog\n",
      "0.1211898848\ta quick brown fox jumped over the lazy dog\n",
      "0.1187084764\ta quick brown fox jumped over the laza dog\n",
      "0.1163223907\ta quick brown fox jumped over the lzzy dog\n",
      "0.1140255034\ta quick brown fox jumped over the lazy dog\n"
     ]
    }
   ],
   "source": [
    "sentence = \"a quick brown fox jumped over the lazy dog\"\n",
    "train(lstm, params_lstm, sentence)"
   ]
  },
  {
   "cell_type": "code",
   "execution_count": null,
   "metadata": {},
   "outputs": [],
   "source": []
  }
 ],
 "metadata": {
  "kernelspec": {
   "display_name": "Python 3",
   "language": "python",
   "name": "python3"
  },
  "language_info": {
   "codemirror_mode": {
    "name": "ipython",
    "version": 3
   },
   "file_extension": ".py",
   "mimetype": "text/x-python",
   "name": "python",
   "nbconvert_exporter": "python",
   "pygments_lexer": "ipython3",
   "version": "3.7.0"
  }
 },
 "nbformat": 4,
 "nbformat_minor": 4
}
