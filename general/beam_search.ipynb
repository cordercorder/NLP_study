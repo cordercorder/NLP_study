{
 "cells": [
  {
   "cell_type": "code",
   "execution_count": 4,
   "metadata": {},
   "outputs": [],
   "source": [
    "import numpy as np\n",
    "import copy"
   ]
  },
  {
   "cell_type": "markdown",
   "metadata": {},
   "source": [
    "##  `beam-search`算法的简单实现\n",
    "\n",
    "`beam-search`算法：从根节点开始，选取所有可能的组合中概率最大的$k$个作为下一层的节点，再从这$k$个节点出发，继续拓展下一层的节点，直到结束\n",
    "\n",
    "\n",
    "由于所有的数都在$[0,1]$区间内，为了避免计算过程中浮点数下溢，对概率取了$log$，故概率相乘变成了$log$相加。"
   ]
  },
  {
   "cell_type": "markdown",
   "metadata": {},
   "source": [
    "`data`为二维矩阵（大小$m \\times n$），其中$m$为sequence的长度，$n$为vocabulary中单词的数目"
   ]
  },
  {
   "cell_type": "code",
   "execution_count": 43,
   "metadata": {},
   "outputs": [],
   "source": [
    "def beam_search(data, k):\n",
    "    \n",
    "    result = [([], 0)]\n",
    "\n",
    "    for row in data:\n",
    "        \n",
    "        candidate = []\n",
    "        \n",
    "        for i, (idx, probability) in enumerate(result):\n",
    "            \n",
    "            for j, item in enumerate(row):\n",
    "                \n",
    "                tmp = copy.deepcopy(idx)\n",
    "                tmp.append(j)\n",
    "                candidate.append((tmp, np.log(item) + probability))\n",
    "        \n",
    "        candidate.sort(key = lambda item : item[1], reverse=True)\n",
    "        \n",
    "        length = min(k, len(candidate))\n",
    "        result = candidate[:length]\n",
    "    \n",
    "    return result"
   ]
  },
  {
   "cell_type": "code",
   "execution_count": 44,
   "metadata": {},
   "outputs": [],
   "source": [
    "data = np.random.rand(5, 3)"
   ]
  },
  {
   "cell_type": "code",
   "execution_count": 45,
   "metadata": {},
   "outputs": [
    {
     "data": {
      "text/plain": [
       "array([[0.094742  , 0.44544714, 0.25012684],\n",
       "       [0.13840229, 0.67491734, 0.81412958],\n",
       "       [0.872261  , 0.5356123 , 0.90480932],\n",
       "       [0.59421089, 0.46646769, 0.89031485],\n",
       "       [0.85914675, 0.43550695, 0.52609387]])"
      ]
     },
     "execution_count": 45,
     "metadata": {},
     "output_type": "execute_result"
    }
   ],
   "source": [
    "data"
   ]
  },
  {
   "cell_type": "code",
   "execution_count": 46,
   "metadata": {},
   "outputs": [
    {
     "data": {
      "text/plain": [
       "[([1, 2, 2, 2, 0], -1.382339135043661), ([1, 2, 0, 2, 0], -1.418974661885764)]"
      ]
     },
     "execution_count": 46,
     "metadata": {},
     "output_type": "execute_result"
    }
   ],
   "source": [
    "beam_search(data, 2)"
   ]
  },
  {
   "cell_type": "code",
   "execution_count": null,
   "metadata": {},
   "outputs": [],
   "source": []
  }
 ],
 "metadata": {
  "kernelspec": {
   "display_name": "Python 3",
   "language": "python",
   "name": "python3"
  },
  "language_info": {
   "codemirror_mode": {
    "name": "ipython",
    "version": 3
   },
   "file_extension": ".py",
   "mimetype": "text/x-python",
   "name": "python",
   "nbconvert_exporter": "python",
   "pygments_lexer": "ipython3",
   "version": "3.7.0"
  }
 },
 "nbformat": 4,
 "nbformat_minor": 4
}
