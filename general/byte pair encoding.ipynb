{
 "cells": [
  {
   "cell_type": "markdown",
   "metadata": {},
   "source": [
    "# bytes-pair-encoding in NLP\n",
    "\n",
    "\n",
    "每次合并在语料中同一个词里面、相邻的、出现频率最高的两个子串。decoding的时候，根据生成的vocabulary做相应的替换"
   ]
  },
  {
   "cell_type": "code",
   "execution_count": 1,
   "metadata": {},
   "outputs": [],
   "source": [
    "import re, collections"
   ]
  },
  {
   "cell_type": "code",
   "execution_count": 60,
   "metadata": {},
   "outputs": [],
   "source": [
    "# 统计所有单词中每一对子串的出现频率（子串以空格分隔）\n",
    "def get_status(vocab):\n",
    "    pairs = collections.defaultdict(int)\n",
    "\n",
    "    for word, freq in vocab.items():\n",
    "        symbols = word.split()\n",
    "        \n",
    "        for i in range(len(symbols) - 1):\n",
    "            pairs[symbols[i], symbols[i+1]] += freq\n",
    "    \n",
    "    return pairs"
   ]
  },
  {
   "cell_type": "code",
   "execution_count": 61,
   "metadata": {},
   "outputs": [],
   "source": [
    "# 对原来的vocabulary中出现次数最多的一对子串进行替换，返回一个新的vocabulary\n",
    "def merge_vocab(pair, v_in):\n",
    "    v_out = {}\n",
    "#     for item in pair.item():\n",
    "#         print(item)\n",
    "#     print(\" \".join(pair))\n",
    "    \n",
    "    bigram = re.escape(\" \".join(pair)) # 对字符串中所有可能被解释为正则运算符的字符进行转义\n",
    "    \n",
    "#     print(bigram)\n",
    "    p = re.compile(r\"(?<!\\S)\" + bigram + r\"(?!\\S)\") # 在原有的vocabulary中匹配子串的匹配对象\n",
    "    \n",
    "#     print(p)\n",
    "\n",
    "    for word in v_in:\n",
    "        w_out = p.sub(\"\".join(pair), word) # 对原来的vocabulary中出现次数最多的一对子串进行替换\n",
    "        v_out[w_out] = v_in[word]\n",
    "\n",
    "    return v_out"
   ]
  },
  {
   "cell_type": "code",
   "execution_count": 62,
   "metadata": {},
   "outputs": [],
   "source": [
    "vocab = {\"l o w </w>\": 5, \"l o w e r </w>\": 2, \"n e w e s t </w>\": 6, \"w i d e s t </w>\": 3} # </w>作为结束符"
   ]
  },
  {
   "cell_type": "code",
   "execution_count": 63,
   "metadata": {},
   "outputs": [
    {
     "name": "stdout",
     "output_type": "stream",
     "text": [
      "('e', 's')\n",
      "('es', 't')\n",
      "('est', '</w>')\n",
      "('l', 'o')\n",
      "('lo', 'w')\n",
      "('n', 'e')\n",
      "('ne', 'w')\n",
      "('new', 'est</w>')\n",
      "('low', '</w>')\n",
      "('w', 'i')\n",
      "('wi', 'd')\n",
      "('wid', 'est</w>')\n",
      "('low', 'e')\n",
      "('lowe', 'r')\n",
      "('lower', '</w>')\n"
     ]
    }
   ],
   "source": [
    "while True:\n",
    "    pairs = get_status(vocab) # 统计所有单词中每一对子串的出现频率（子串以空格分隔）\n",
    "    \n",
    "    if not pairs:\n",
    "        break\n",
    "        \n",
    "    best = max(pairs, key=pairs.get) # 取出出现频率最高的一对子串\n",
    "    vocab = merge_vocab(best, vocab)\n",
    "    print(best)\n",
    "    \n",
    "#     print(\"\".join(best))\n",
    "#     print(pairs)\n",
    "#     print(best, pairs.get(best))"
   ]
  },
  {
   "cell_type": "code",
   "execution_count": null,
   "metadata": {},
   "outputs": [],
   "source": []
  }
 ],
 "metadata": {
  "kernelspec": {
   "display_name": "Python 3",
   "language": "python",
   "name": "python3"
  },
  "language_info": {
   "codemirror_mode": {
    "name": "ipython",
    "version": 3
   },
   "file_extension": ".py",
   "mimetype": "text/x-python",
   "name": "python",
   "nbconvert_exporter": "python",
   "pygments_lexer": "ipython3",
   "version": "3.7.0"
  }
 },
 "nbformat": 4,
 "nbformat_minor": 4
}
