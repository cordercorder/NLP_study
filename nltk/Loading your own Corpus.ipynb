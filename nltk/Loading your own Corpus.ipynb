{
 "cells": [
  {
   "cell_type": "markdown",
   "metadata": {},
   "source": [
    "# Loading your own Corpus"
   ]
  },
  {
   "cell_type": "code",
   "execution_count": 20,
   "metadata": {},
   "outputs": [],
   "source": [
    "from nltk.corpus import PlaintextCorpusReader\n",
    "import nltk"
   ]
  },
  {
   "cell_type": "code",
   "execution_count": 9,
   "metadata": {},
   "outputs": [],
   "source": [
    "corpus_root='C:/Users/金任任/Desktop'"
   ]
  },
  {
   "cell_type": "code",
   "execution_count": 10,
   "metadata": {},
   "outputs": [],
   "source": [
    "wordlists=PlaintextCorpusReader(corpus_root,'.*')"
   ]
  },
  {
   "cell_type": "code",
   "execution_count": 11,
   "metadata": {},
   "outputs": [
    {
     "data": {
      "text/plain": [
       "['51d287529822720e66d38ade71cb0a46f21fab9e.jpg',\n",
       " 'CodeCogsEqn.png',\n",
       " 'D.cpp',\n",
       " 'SoftwareQATestingCareerPackageNew.pdf',\n",
       " 'Triangle.cpp',\n",
       " 'bruteforce.cpp',\n",
       " 'datacheck.cpp',\n",
       " 'datagen.py',\n",
       " 'desktop.ini',\n",
       " 'desktop/000000.cpp',\n",
       " 'desktop/000000.exe',\n",
       " 'desktop/1.in',\n",
       " 'desktop/B.cpp',\n",
       " 'desktop/C.cpp',\n",
       " 'desktop/D',\n",
       " 'desktop/article_1.zip',\n",
       " 'desktop/article_1/bear.jpg',\n",
       " 'desktop/article_1/example.bib',\n",
       " 'desktop/article_1/main-blx.bib',\n",
       " 'desktop/article_1/main.aux',\n",
       " 'desktop/article_1/main.bbl',\n",
       " 'desktop/article_1/main.blg',\n",
       " 'desktop/article_1/main.fdb_latexmk',\n",
       " 'desktop/article_1/main.fls',\n",
       " 'desktop/article_1/main.log',\n",
       " 'desktop/article_1/main.pdf',\n",
       " 'desktop/article_1/main.run.xml',\n",
       " 'desktop/article_1/main.synctex.gz',\n",
       " 'desktop/article_1/main.tex',\n",
       " 'desktop/article_1/structure.tex',\n",
       " 'desktop/playwithsegment/1.in',\n",
       " 'desktop/playwithsegment/1.out',\n",
       " 'desktop/playwithsegment/2.in',\n",
       " 'desktop/playwithsegment/2.out',\n",
       " 'desktop/playwithsegment/3.in',\n",
       " 'desktop/playwithsegment/3.out',\n",
       " 'desktop/playwithsegment/4.in',\n",
       " 'desktop/playwithsegment/4.out',\n",
       " 'desktop/playwithsegment/5.in',\n",
       " 'desktop/playwithsegment/5.out',\n",
       " 'desktop/playwithsegment/6.in',\n",
       " 'desktop/playwithsegment/6.out',\n",
       " 'desktop/playwithsegment/7.in',\n",
       " 'desktop/playwithsegment/7.out',\n",
       " 'desktop/playwithsegment/datacheck.cpp',\n",
       " 'desktop/playwithsegment/datacheck.exe',\n",
       " 'desktop/playwithsegment/mkdata.cpp',\n",
       " 'desktop/playwithsegment/mkdata.exe',\n",
       " 'desktop/playwithsegment/mkdata2.cpp',\n",
       " 'desktop/playwithsegment/mkdata2.exe',\n",
       " 'desktop/playwithsegment/play_with_segment.cpp',\n",
       " 'desktop/playwithsegment/play_with_segment.exe',\n",
       " 'desktop/playwithsegment/playwithsegment.zip',\n",
       " 'desktop/problem2/1.in',\n",
       " 'desktop/problem2/1.out',\n",
       " 'desktop/problem2/2.in',\n",
       " 'desktop/problem2/2.out',\n",
       " 'desktop/problem2/3.in',\n",
       " 'desktop/problem2/3.out',\n",
       " 'desktop/problem2/CodeCogsEqn1.png',\n",
       " 'desktop/problem2/CodeCogsEqn2.png',\n",
       " 'desktop/problem2/CodeCogsEqn3.png',\n",
       " 'desktop/problem2/CodeCogsEqn4.png',\n",
       " 'desktop/problem2/CodeCogsEqn5.png',\n",
       " 'desktop/problem2/CodeCogsEqn6.png',\n",
       " 'desktop/problem2/bruteforce.cpp',\n",
       " 'desktop/problem2/bruteforce.exe',\n",
       " 'desktop/problem2/datacheck.cpp',\n",
       " 'desktop/problem2/datacheck.exe',\n",
       " 'desktop/problem2/mkdata.cpp',\n",
       " 'desktop/problem2/mkdata.exe',\n",
       " 'desktop/problem2/sample.in',\n",
       " 'desktop/problem2/sample.out',\n",
       " 'desktop/problem2/std.cpp',\n",
       " 'desktop/problem2/std.exe',\n",
       " 'desktop/statement/1.in',\n",
       " 'desktop/statement/1.out',\n",
       " 'desktop/statement/2.in',\n",
       " 'desktop/statement/2.out',\n",
       " 'desktop/statement/3.in',\n",
       " 'desktop/statement/3.out',\n",
       " 'desktop/statement/4.in',\n",
       " 'desktop/statement/4.out',\n",
       " 'desktop/statement/5.in',\n",
       " 'desktop/statement/5.out',\n",
       " 'desktop/statement/6.in',\n",
       " 'desktop/statement/6.out',\n",
       " 'desktop/statement/7.in',\n",
       " 'desktop/statement/7.out',\n",
       " 'desktop/statement/README',\n",
       " 'desktop/statement/bruteforce.cpp',\n",
       " 'desktop/statement/bruteforce.exe',\n",
       " 'desktop/statement/data.zip',\n",
       " 'desktop/statement/datacheck.cpp',\n",
       " 'desktop/statement/datacheck.exe',\n",
       " 'desktop/statement/mkdata.cpp',\n",
       " 'desktop/statement/mkdata.exe',\n",
       " 'desktop/statement/statement.aux',\n",
       " 'desktop/statement/statement.fdb_latexmk',\n",
       " 'desktop/statement/statement.fls',\n",
       " 'desktop/statement/statement.log',\n",
       " 'desktop/statement/statement.pdf',\n",
       " 'desktop/statement/statement.synctex.gz',\n",
       " 'desktop/statement/statement.tex',\n",
       " 'desktop/statement/std.cpp',\n",
       " 'desktop/statement/std.exe',\n",
       " 'desktop/test.exe',\n",
       " 'desktop/tmp.aux',\n",
       " 'desktop/tmp.fdb_latexmk',\n",
       " 'desktop/tmp.fls',\n",
       " 'desktop/tmp.log',\n",
       " 'desktop/tmp.out',\n",
       " 'desktop/tmp.pdf',\n",
       " 'desktop/tmp.synctex.gz',\n",
       " 'desktop/tmp.tex',\n",
       " 'desktop/火狐截图_2019-08-21T02-51-10.649Z.png',\n",
       " 'icpc19.pdf',\n",
       " 'index.png',\n",
       " 'mkdata.cpp',\n",
       " 'nlp.jpg',\n",
       " 'postman.pptx',\n",
       " 'problem_analysis.pdf',\n",
       " 'test.cpp',\n",
       " 'test.py',\n",
       " 'test2.cpp',\n",
       " 'test4.cpp',\n",
       " 'user.ratedList.json',\n",
       " 'v2-2d7e7afa165a114c80569ef56790258a_r.jpg',\n",
       " 'v2-e2850cdcb018aef8d359696270b5dcd4_hd.jpg',\n",
       " 'v2-ee7833b5619da23435cbc6fb9808480c_xl.jpg',\n",
       " 'xiamenG.cpp',\n",
       " 'zzh.png',\n",
       " '~$009out.txt',\n",
       " '~$1009in.txt',\n",
       " '~$2：2017程序设计实训报告(模版).doc',\n",
       " '~$3：程序设计实训参考选题.doc',\n",
       " '~$8：《普通本科高校、高等职业学校国家励志奖学金申请表》.doc',\n",
       " '~$ar Sir or Madam.docx',\n",
       " '~$in',\n",
       " '~$存器实验报告.docx',\n",
       " '~$学-第五版-上下册答案马文蔚.pdf',\n",
       " '~$简历（国奖答辩）.docx',\n",
       " '快速傅里叶变换学习总结.pdf',\n",
       " '捕获.JPG',\n",
       " '金任任(2019-2020-1)课表.pdf']"
      ]
     },
     "execution_count": 11,
     "metadata": {},
     "output_type": "execute_result"
    }
   ],
   "source": [
    "wordlists.fileids()"
   ]
  },
  {
   "cell_type": "code",
   "execution_count": 16,
   "metadata": {},
   "outputs": [
    {
     "data": {
      "text/plain": [
       "['#', 'include', '<', 'bits', '/', 'stdc', '++.', 'h', ...]"
      ]
     },
     "execution_count": 16,
     "metadata": {},
     "output_type": "execute_result"
    }
   ],
   "source": [
    "wordlists.words('D.cpp')"
   ]
  },
  {
   "cell_type": "code",
   "execution_count": 18,
   "metadata": {},
   "outputs": [
    {
     "data": {
      "text/plain": [
       "[['#', 'include', '<', 'bits', '/', 'stdc', '++.', 'h', '>'], ['using', 'namespace', 'std', ';'], ...]"
      ]
     },
     "execution_count": 18,
     "metadata": {},
     "output_type": "execute_result"
    }
   ],
   "source": [
    "wordlists.sents('D.cpp')"
   ]
  },
  {
   "cell_type": "code",
   "execution_count": 19,
   "metadata": {},
   "outputs": [
    {
     "data": {
      "text/plain": [
       "['from', 'cyaron', 'import', '*', '#', '引入CYaRon的库', ...]"
      ]
     },
     "execution_count": 19,
     "metadata": {},
     "output_type": "execute_result"
    }
   ],
   "source": [
    "wordlists.words('datagen.py')"
   ]
  },
  {
   "cell_type": "code",
   "execution_count": 24,
   "metadata": {},
   "outputs": [
    {
     "data": {
      "text/plain": [
       "FreqDist({' ': 1560, '\\r': 155, '\\n': 155, 'i': 123, 'n': 117, 't': 115, 's': 103, 'e': 96, '<': 85, ';': 77, ...})"
      ]
     },
     "execution_count": 24,
     "metadata": {},
     "output_type": "execute_result"
    }
   ],
   "source": [
    "nltk.FreqDist(wordlists.raw('D.cpp'))"
   ]
  },
  {
   "cell_type": "code",
   "execution_count": 25,
   "metadata": {},
   "outputs": [
    {
     "data": {
      "image/png": "[encoded data removed]",
      "text/plain": [
       "<Figure size 432x288 with 1 Axes>"
      ]
     },
     "metadata": {
      "needs_background": "light"
     },
     "output_type": "display_data"
    },
    {
     "data": {
      "text/plain": [
       "<matplotlib.axes._subplots.AxesSubplot at 0x294e8b0f128>"
      ]
     },
     "execution_count": 25,
     "metadata": {},
     "output_type": "execute_result"
    }
   ],
   "source": [
    "nltk.FreqDist(wordlists.raw('D.cpp')).plot()"
   ]
  },
  {
   "cell_type": "code",
   "execution_count": null,
   "metadata": {},
   "outputs": [],
   "source": []
  }
 ],
 "metadata": {
  "kernelspec": {
   "display_name": "Python 3",
   "language": "python",
   "name": "python3"
  },
  "language_info": {
   "codemirror_mode": {
    "name": "ipython",
    "version": 3
   },
   "file_extension": ".py",
   "mimetype": "text/x-python",
   "name": "python",
   "nbconvert_exporter": "python",
   "pygments_lexer": "ipython3",
   "version": "3.7.0"
  }
 },
 "nbformat": 4,
 "nbformat_minor": 2
}
