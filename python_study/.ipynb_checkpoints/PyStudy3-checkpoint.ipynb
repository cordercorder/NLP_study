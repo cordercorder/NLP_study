{
 "cells": [
  {
   "cell_type": "code",
   "execution_count": 1,
   "metadata": {},
   "outputs": [
    {
     "name": "stdout",
     "output_type": "stream",
     "text": [
      "58372157894138841460467367381088309829615040590155723062050142478905556336804236857833208887760802688405432951354994790080018734113196950021398436128\n",
      "58372157894138841460467367381088309829615040590155723062050142478905556336804236857833208887760802688405432951354994790080018734113196950021398436128\n",
      "Wall time: 234 ms\n"
     ]
    }
   ],
   "source": [
    "%%time\n",
    "C=[]\n",
    "for i in range(510):\n",
    "    C.append([])\n",
    "    for j in range(510):\n",
    "        C[i].append(0)\n",
    "\n",
    "C[0][0]=1\n",
    "for i in range(1,501):\n",
    "    for j in range(1,501):\n",
    "        C[i][j]=C[i-1][j]+C[i-1][j-1]\n",
    "\n",
    "print(C[500][250])\n",
    "print(max(C[500]))"
   ]
  },
  {
   "cell_type": "code",
   "execution_count": 2,
   "metadata": {},
   "outputs": [
    {
     "data": {
      "text/plain": [
       "149"
      ]
     },
     "execution_count": 2,
     "metadata": {},
     "output_type": "execute_result"
    }
   ],
   "source": [
    "len('58372157894138841460467367381088309829615040590155723062050142478905556336804236857833208887760802688405432951354994790080018734113196950021398436128')"
   ]
  },
  {
   "cell_type": "markdown",
   "metadata": {},
   "source": [
    "Here is a tiny function that returns the string it is given, or if it is longer than the specified length, it returns a shortened version with an indicator added:\n",
    "\n",
    "Here are a few examples calls:\n",
    "\n",
    "```python\n",
    "shorten('The Silkie') #return :'The Silkie'\n",
    "shorten(length=7,text='The Silkie') #return :'The ...'\n",
    "shorten('The Silkie',indicator='&',length=7) #return 'The Si&'\n",
    "shorten('The Silkie',7,'&') #return 'The Si&'\n",
    "```\n",
    "\n",
    "Because both length and indicator have default values, either or both can be omitted entirely, in which case the default is used—this is what happens in the first call. In the second call we use keyword arguments for both of the specified parameters, so we can order them as we like. The third call mixes both **positional and keyword arguments**. We used a positional first argument(**positional arguments** must always precede **keyword arguments**),and then two **keyword arguments**. The fourth call simply uses **positional arguments**."
   ]
  },
  {
   "cell_type": "markdown",
   "metadata": {},
   "source": [
    "We can add documentation to any function by using a docstring—this is simply a string that comes immediately after the `def` line, and before the function’s code proper begins. For example, here is the `shorten()` function we saw earlier,but this time reproduced in full:\n",
    "\n",
    "```python\n",
    "def shorten(text,length=25,indecator='...'):\n",
    "    \"\"\"Returns text or a truncated copy with the indicator addedtext is any string; length is the maximum length of the returnedstring (including any indicator); indicator is the string added atthe end to indicate that the text has been shortened\n",
    "    if len(text)>length:\n",
    "    \"\"\"\n",
    "        text=text[:(length-len(indecator))]+indecator\n",
    "    return text\n",
    "```"
   ]
  },
  {
   "cell_type": "code",
   "execution_count": 3,
   "metadata": {},
   "outputs": [],
   "source": [
    "def shorten(text,length=25,indecator='...'):\n",
    "    \n",
    "    \"\"\"Returns text or a truncated copy with the indicator addedtext is any string; length is the maximum length of the returnedstring (including any indicator); indicator is the string added atthe end to indicate that the text has been shortened\n",
    "    if len(text)>length:\n",
    "    \"\"\"\n",
    "    \n",
    "    if len(text)>length:\n",
    "        text=text[:(length-len(indecator))]+indecator\n",
    "    return text"
   ]
  },
  {
   "cell_type": "code",
   "execution_count": 4,
   "metadata": {},
   "outputs": [],
   "source": [
    "def phi(x):\n",
    "    ans=x\n",
    "    i=2\n",
    "    while True:\n",
    "        if i*i>x:\n",
    "            break\n",
    "        if x%i==0:\n",
    "            ans=ans//i*(i-1)\n",
    "            while x%i==0:\n",
    "                x//=i\n",
    "        i+=1\n",
    "    if x!=1:\n",
    "        ans=ans//x*(x-1)\n",
    "    return ans"
   ]
  },
  {
   "cell_type": "code",
   "execution_count": 5,
   "metadata": {},
   "outputs": [
    {
     "data": {
      "text/plain": [
       "40"
      ]
     },
     "execution_count": 5,
     "metadata": {},
     "output_type": "execute_result"
    }
   ],
   "source": [
    "phi(88)"
   ]
  },
  {
   "cell_type": "code",
   "execution_count": 6,
   "metadata": {},
   "outputs": [],
   "source": [
    "def append_if_even(x,lst=None):\n",
    "    if lst is None:\n",
    "        lst=[]\n",
    "    if x%2==0:\n",
    "        lst.append(x)\n",
    "    return lst"
   ]
  },
  {
   "cell_type": "code",
   "execution_count": 7,
   "metadata": {},
   "outputs": [
    {
     "data": {
      "text/plain": [
       "[2]"
      ]
     },
     "execution_count": 7,
     "metadata": {},
     "output_type": "execute_result"
    }
   ],
   "source": [
    "append_if_even(2)"
   ]
  },
  {
   "cell_type": "code",
   "execution_count": 8,
   "metadata": {},
   "outputs": [
    {
     "data": {
      "text/plain": [
       "[]"
      ]
     },
     "execution_count": 8,
     "metadata": {},
     "output_type": "execute_result"
    }
   ],
   "source": [
    "append_if_even(3)"
   ]
  },
  {
   "cell_type": "code",
   "execution_count": 9,
   "metadata": {},
   "outputs": [
    {
     "data": {
      "text/plain": [
       "'aaaaaaaaaaaaaaaaaaaaaa...'"
      ]
     },
     "execution_count": 9,
     "metadata": {},
     "output_type": "execute_result"
    }
   ],
   "source": [
    "shorten('aaaaaaaaaaaaaaaaaaaaaaaaaaaaaaaaadd')"
   ]
  },
  {
   "cell_type": "code",
   "execution_count": 10,
   "metadata": {},
   "outputs": [],
   "source": [
    "def product(*lst):\n",
    "    ans=1\n",
    "    for item in lst:\n",
    "        ans*=item\n",
    "    return ans"
   ]
  },
  {
   "cell_type": "code",
   "execution_count": 11,
   "metadata": {},
   "outputs": [
    {
     "data": {
      "text/plain": [
       "6"
      ]
     },
     "execution_count": 11,
     "metadata": {},
     "output_type": "execute_result"
    }
   ],
   "source": [
    "product(1,2,3)"
   ]
  },
  {
   "cell_type": "code",
   "execution_count": 12,
   "metadata": {},
   "outputs": [
    {
     "data": {
      "text/plain": [
       "1"
      ]
     },
     "execution_count": 12,
     "metadata": {},
     "output_type": "execute_result"
    }
   ],
   "source": [
    "product()"
   ]
  },
  {
   "cell_type": "markdown",
   "metadata": {},
   "source": [
    "We can have **keyword arguments** following positional arguments, as this function to calculate the sum of its arguments, each raised to the given power, shows:"
   ]
  },
  {
   "cell_type": "code",
   "execution_count": 13,
   "metadata": {},
   "outputs": [],
   "source": [
    "def sum_of_power(*lst,power=1):\n",
    "    ans=0\n",
    "    for item in lst:\n",
    "        ans+=(item**power)\n",
    "    return ans"
   ]
  },
  {
   "cell_type": "code",
   "execution_count": 14,
   "metadata": {},
   "outputs": [
    {
     "data": {
      "text/plain": [
       "31"
      ]
     },
     "execution_count": 14,
     "metadata": {},
     "output_type": "execute_result"
    }
   ],
   "source": [
    "sum_of_power(1,2,3,4,1,power=2)"
   ]
  },
  {
   "cell_type": "code",
   "execution_count": 15,
   "metadata": {},
   "outputs": [
    {
     "data": {
      "text/plain": [
       "11"
      ]
     },
     "execution_count": 15,
     "metadata": {},
     "output_type": "execute_result"
    }
   ],
   "source": [
    "sum_of_power(1,2,3,4,1)"
   ]
  },
  {
   "cell_type": "markdown",
   "metadata": {},
   "source": [
    "It is also possible to use `*` as a “parameter” in its own right. This is used to signify that there can be no positional arguments after the `*`, although keyword arguments are allowed. Here is a modified version of the `heron()` function. This time the function takes exactly three positional arguments, and has one optional keyword argument."
   ]
  },
  {
   "cell_type": "code",
   "execution_count": 16,
   "metadata": {},
   "outputs": [],
   "source": [
    "import math\n",
    "def heron2(a,b,c,*,unit='square meters'):\n",
    "    s=(a+b+c)/2\n",
    "    area=math.sqrt(s*(s-a)*(s-b)*(s-c))\n",
    "    return '{0} {1}'.format(area,unit)"
   ]
  },
  {
   "cell_type": "code",
   "execution_count": 17,
   "metadata": {},
   "outputs": [
    {
     "data": {
      "text/plain": [
       "'6.0 square meters'"
      ]
     },
     "execution_count": 17,
     "metadata": {},
     "output_type": "execute_result"
    }
   ],
   "source": [
    "heron2(3,4,5)"
   ]
  },
  {
   "cell_type": "code",
   "execution_count": 18,
   "metadata": {},
   "outputs": [
    {
     "data": {
      "text/plain": [
       "'180.0 sq. inches'"
      ]
     },
     "execution_count": 18,
     "metadata": {},
     "output_type": "execute_result"
    }
   ],
   "source": [
    "heron2(41,9,40,unit='sq. inches')"
   ]
  },
  {
   "cell_type": "code",
   "execution_count": 19,
   "metadata": {},
   "outputs": [
    {
     "ename": "TypeError",
     "evalue": "heron2() takes 3 positional arguments but 4 were given",
     "output_type": "error",
     "traceback": [
      "\u001b[1;31m---------------------------------------------------------------------------\u001b[0m",
      "\u001b[1;31mTypeError\u001b[0m                                 Traceback (most recent call last)",
      "\u001b[1;32m<ipython-input-19-5cf17aec44ba>\u001b[0m in \u001b[0;36m<module>\u001b[1;34m\u001b[0m\n\u001b[1;32m----> 1\u001b[1;33m \u001b[0mheron2\u001b[0m\u001b[1;33m(\u001b[0m\u001b[1;36m3\u001b[0m\u001b[1;33m,\u001b[0m\u001b[1;36m4\u001b[0m\u001b[1;33m,\u001b[0m\u001b[1;36m5\u001b[0m\u001b[1;33m,\u001b[0m\u001b[1;34m'sq. inches'\u001b[0m\u001b[1;33m)\u001b[0m\u001b[1;33m\u001b[0m\u001b[0m\n\u001b[0m",
      "\u001b[1;31mTypeError\u001b[0m: heron2() takes 3 positional arguments but 4 were given"
     ]
    }
   ],
   "source": [
    "heron2(3,4,5,'sq. inches')"
   ]
  },
  {
   "cell_type": "markdown",
   "metadata": {},
   "source": [
    "By making the `*` the first parameter we can prevent any positional arguments from being used, and force callers to use keyword arguments. Here is such a (fictitious) function’s signature:\n",
    "\n",
    "```python\n",
    "def print_setup(*, paper=\"Letter\", copies=1, color=False):\n",
    "```"
   ]
  },
  {
   "cell_type": "markdown",
   "metadata": {},
   "source": [
    "Here the options dictionary's key–value pairs are unpacked with each key’s value being assigned to the parameter whose name is the same as the key. If the dictionary contains a key for which there is no corresponding parameter, a `TypeError` is raised. Any argument for which the dictionary has no corresponding item is set to its default value—but if there is no default, a `TypeError` is raised.\n",
    "\n",
    "We can also use the mapping unpacking operator with parameters. This allows us to create functions that will accept as many keyword arguments as are given. Here is an `add_person_details()` function that takes Social Security number and surname positional arguments, and any number of keyword arguments:"
   ]
  },
  {
   "cell_type": "code",
   "execution_count": 20,
   "metadata": {},
   "outputs": [],
   "source": [
    "def add_person_details(snn,surname,**kwargs):\n",
    "    print('SNN=',snn)\n",
    "    print(' surname=',surname)\n",
    "    for key in sorted(kwargs):\n",
    "        print('{0}={1}'.format(key,kwargs[key]))"
   ]
  },
  {
   "cell_type": "code",
   "execution_count": 21,
   "metadata": {},
   "outputs": [
    {
     "name": "stdout",
     "output_type": "stream",
     "text": [
      "SNN= 1\n",
      " surname= hello\n",
      "age=47\n",
      "forename=Lexis\n"
     ]
    }
   ],
   "source": [
    "add_person_details(1,'hello',forename='Lexis',age=47)"
   ]
  },
  {
   "cell_type": "code",
   "execution_count": 22,
   "metadata": {},
   "outputs": [],
   "source": [
    "def add_person_details2(snn,surname=None,**kwargs):\n",
    "    print('SNN=',snn)\n",
    "    print(' surname=',surname)\n",
    "    for key in sorted(kwargs):\n",
    "        print('{0}={1}'.format(key,kwargs[key]))"
   ]
  },
  {
   "cell_type": "code",
   "execution_count": 23,
   "metadata": {},
   "outputs": [
    {
     "name": "stdout",
     "output_type": "stream",
     "text": [
      "SNN= 1\n",
      " surname= None\n",
      "age=47\n",
      "forename=Lexis\n"
     ]
    }
   ],
   "source": [
    "add_person_details2(1,forename='Lexis',age=47)"
   ]
  },
  {
   "cell_type": "code",
   "execution_count": 24,
   "metadata": {},
   "outputs": [
    {
     "name": "stdout",
     "output_type": "stream",
     "text": [
      "SNN= 1\n",
      " surname= nin\n",
      "age=47\n",
      "forename=Lexis\n"
     ]
    }
   ],
   "source": [
    "add_person_details2(1,'nin',forename='Lexis',age=47)"
   ]
  },
  {
   "cell_type": "code",
   "execution_count": 25,
   "metadata": {},
   "outputs": [
    {
     "name": "stdout",
     "output_type": "stream",
     "text": [
      "SNN= 1\n",
      " surname= sadasda\n",
      "age=47\n",
      "forename=Lexis\n"
     ]
    }
   ],
   "source": [
    "add_person_details2(1,surname='sadasda',forename='Lexis',age=47)"
   ]
  },
  {
   "cell_type": "code",
   "execution_count": 26,
   "metadata": {},
   "outputs": [],
   "source": [
    "def print_args(*args,**kwargs):\n",
    "    for i,arg in enumerate(args):\n",
    "        print('positional argument {0}={1}'.format(i,arg))\n",
    "    for key in kwargs:\n",
    "        print('keyword argument {0}={1}'.format(key,kwargs[key]))"
   ]
  },
  {
   "cell_type": "code",
   "execution_count": 27,
   "metadata": {},
   "outputs": [],
   "source": [
    "CO=1\n",
    "def test(x):\n",
    "     if x:\n",
    "        print(CO)\n",
    "        CO=2"
   ]
  },
  {
   "cell_type": "code",
   "execution_count": 28,
   "metadata": {},
   "outputs": [
    {
     "ename": "UnboundLocalError",
     "evalue": "local variable 'CO' referenced before assignment",
     "output_type": "error",
     "traceback": [
      "\u001b[1;31m---------------------------------------------------------------------------\u001b[0m",
      "\u001b[1;31mUnboundLocalError\u001b[0m                         Traceback (most recent call last)",
      "\u001b[1;32m<ipython-input-28-5ecaa58a3305>\u001b[0m in \u001b[0;36m<module>\u001b[1;34m\u001b[0m\n\u001b[1;32m----> 1\u001b[1;33m \u001b[0mtest\u001b[0m\u001b[1;33m(\u001b[0m\u001b[1;36m10\u001b[0m\u001b[1;33m)\u001b[0m\u001b[1;33m\u001b[0m\u001b[0m\n\u001b[0m",
      "\u001b[1;32m<ipython-input-27-89c14dede74a>\u001b[0m in \u001b[0;36mtest\u001b[1;34m(x)\u001b[0m\n\u001b[0;32m      2\u001b[0m \u001b[1;32mdef\u001b[0m \u001b[0mtest\u001b[0m\u001b[1;33m(\u001b[0m\u001b[0mx\u001b[0m\u001b[1;33m)\u001b[0m\u001b[1;33m:\u001b[0m\u001b[1;33m\u001b[0m\u001b[0m\n\u001b[0;32m      3\u001b[0m      \u001b[1;32mif\u001b[0m \u001b[0mx\u001b[0m\u001b[1;33m:\u001b[0m\u001b[1;33m\u001b[0m\u001b[0m\n\u001b[1;32m----> 4\u001b[1;33m         \u001b[0mprint\u001b[0m\u001b[1;33m(\u001b[0m\u001b[0mCO\u001b[0m\u001b[1;33m)\u001b[0m\u001b[1;33m\u001b[0m\u001b[0m\n\u001b[0m\u001b[0;32m      5\u001b[0m         \u001b[0mCO\u001b[0m\u001b[1;33m=\u001b[0m\u001b[1;36m2\u001b[0m\u001b[1;33m\u001b[0m\u001b[0m\n",
      "\u001b[1;31mUnboundLocalError\u001b[0m: local variable 'CO' referenced before assignment"
     ]
    }
   ],
   "source": [
    "test(10)\n"
   ]
  },
  {
   "cell_type": "code",
   "execution_count": 29,
   "metadata": {},
   "outputs": [
    {
     "data": {
      "text/plain": [
       "1"
      ]
     },
     "execution_count": 29,
     "metadata": {},
     "output_type": "execute_result"
    }
   ],
   "source": [
    "CO"
   ]
  },
  {
   "cell_type": "code",
   "execution_count": 30,
   "metadata": {},
   "outputs": [],
   "source": [
    "s='ok'\n",
    "def f():\n",
    "    print(s)\n",
    "    #s='Me too'\n",
    "    print(s)"
   ]
  },
  {
   "cell_type": "code",
   "execution_count": 31,
   "metadata": {},
   "outputs": [
    {
     "name": "stdout",
     "output_type": "stream",
     "text": [
      "ok\n",
      "ok\n"
     ]
    }
   ],
   "source": [
    "f()"
   ]
  },
  {
   "cell_type": "markdown",
   "metadata": {},
   "source": [
    "To make the above program work, we need to use “global” keyword. We only need to use global keyword in a function if we want to do assignments / change them. **global is not needed for printing and accessing**. Why? **Python “assumes” that we want a local variable due to the assignment to s inside of f()**, so the first print statement throws this error message. **Any variable which is changed or created inside of a function is local**, if it hasn’t been declared as a global variable. To tell Python, that we want to use the global variable, we have to use the keyword “global”, as can be seen in the following example:"
   ]
  },
  {
   "cell_type": "code",
   "execution_count": 32,
   "metadata": {},
   "outputs": [
    {
     "name": "stdout",
     "output_type": "stream",
     "text": [
      "ok\n"
     ]
    }
   ],
   "source": [
    "s='ok'\n",
    "def f2():\n",
    "    global s\n",
    "    s='okokok'\n",
    "    print(s)\n",
    "print(s)"
   ]
  },
  {
   "cell_type": "code",
   "execution_count": 33,
   "metadata": {},
   "outputs": [
    {
     "name": "stdout",
     "output_type": "stream",
     "text": [
      "okokok\n"
     ]
    }
   ],
   "source": [
    "f2()"
   ]
  },
  {
   "cell_type": "code",
   "execution_count": 34,
   "metadata": {},
   "outputs": [
    {
     "data": {
      "text/plain": [
       "'okokok'"
      ]
     },
     "execution_count": 34,
     "metadata": {},
     "output_type": "execute_result"
    }
   ],
   "source": [
    "s"
   ]
  },
  {
   "cell_type": "markdown",
   "metadata": {},
   "source": [
    "Lambda functions are functions created using the following syntax:\n",
    "```python\n",
    "lambda parameters: expression\n",
    "```\n",
    "The parameters are optional, and if supplied they are normally just comma-separated variable names, that is,positional arguments, although the complete argument syntax supported by `def` statements can be used. The expression can not contain branches or loops (although conditional expressions are allowed),and can not have a `return`(or `yield`) statement. The result of a `lambda expression` is an anonymous function. When a lambda function is called it returns the result of computing the expressionas as its result. If the expression is a tuple it should be enclosed in parentheses."
   ]
  },
  {
   "cell_type": "code",
   "execution_count": 35,
   "metadata": {},
   "outputs": [],
   "source": [
    "s=lambda x:'' if x==1 else 's'"
   ]
  },
  {
   "cell_type": "code",
   "execution_count": 36,
   "metadata": {},
   "outputs": [
    {
     "data": {
      "text/plain": [
       "''"
      ]
     },
     "execution_count": 36,
     "metadata": {},
     "output_type": "execute_result"
    }
   ],
   "source": [
    "s(1)"
   ]
  },
  {
   "cell_type": "code",
   "execution_count": 37,
   "metadata": {},
   "outputs": [
    {
     "data": {
      "text/plain": [
       "'s'"
      ]
     },
     "execution_count": 37,
     "metadata": {},
     "output_type": "execute_result"
    }
   ],
   "source": [
    "s(2)"
   ]
  },
  {
   "cell_type": "code",
   "execution_count": 38,
   "metadata": {},
   "outputs": [],
   "source": [
    "elements=[(2,12,'Mg'),(1,11,'Na'),(1,3,'Li'),(2,4,'Be')]"
   ]
  },
  {
   "cell_type": "code",
   "execution_count": 39,
   "metadata": {},
   "outputs": [
    {
     "data": {
      "text/plain": [
       "[(1, 3, 'Li'), (1, 11, 'Na'), (2, 4, 'Be'), (2, 12, 'Mg')]"
      ]
     },
     "execution_count": 39,
     "metadata": {},
     "output_type": "execute_result"
    }
   ],
   "source": [
    "sorted(elements)"
   ]
  },
  {
   "cell_type": "code",
   "execution_count": 40,
   "metadata": {},
   "outputs": [
    {
     "data": {
      "text/plain": [
       "[(2, 12, 'Mg'), (1, 11, 'Na'), (2, 4, 'Be'), (1, 3, 'Li')]"
      ]
     },
     "execution_count": 40,
     "metadata": {},
     "output_type": "execute_result"
    }
   ],
   "source": [
    "sorted(elements,key=lambda item: (item[1],item[2]),reverse=True)"
   ]
  },
  {
   "cell_type": "code",
   "execution_count": 41,
   "metadata": {},
   "outputs": [
    {
     "data": {
      "text/plain": [
       "[(2, 4, 'Be'), (1, 3, 'Li'), (2, 12, 'Mg'), (1, 11, 'Na')]"
      ]
     },
     "execution_count": 41,
     "metadata": {},
     "output_type": "execute_result"
    }
   ],
   "source": [
    "sorted(elements,key=lambda item:(item[2].lower(),item[1]))"
   ]
  },
  {
   "cell_type": "code",
   "execution_count": 42,
   "metadata": {},
   "outputs": [],
   "source": [
    "area=lambda w,h: 0.5*w*h"
   ]
  },
  {
   "cell_type": "code",
   "execution_count": 43,
   "metadata": {},
   "outputs": [
    {
     "data": {
      "text/plain": [
       "1.0"
      ]
     },
     "execution_count": 43,
     "metadata": {},
     "output_type": "execute_result"
    }
   ],
   "source": [
    "area(1,2)"
   ]
  },
  {
   "cell_type": "markdown",
   "metadata": {},
   "source": [
    "Another neat use of lambda functions is when we want to create default dictionaries. Recall from the previous chapter that if we access a default dictionary using a nonexistent key, a suitable item is created with the given key and with a default value. Here are a few examples:"
   ]
  },
  {
   "cell_type": "code",
   "execution_count": 44,
   "metadata": {},
   "outputs": [],
   "source": [
    "import collections"
   ]
  },
  {
   "cell_type": "code",
   "execution_count": 45,
   "metadata": {},
   "outputs": [],
   "source": [
    "minus_one_dict=collections.defaultdict(lambda: -1)"
   ]
  },
  {
   "cell_type": "code",
   "execution_count": 46,
   "metadata": {},
   "outputs": [],
   "source": [
    "point_zero_dict=collections.defaultdict(lambda: (0, 0))"
   ]
  },
  {
   "cell_type": "code",
   "execution_count": 47,
   "metadata": {},
   "outputs": [],
   "source": [
    "message_dict=collections.defaultdict(lambda: \"No message available\")"
   ]
  },
  {
   "cell_type": "code",
   "execution_count": 48,
   "metadata": {},
   "outputs": [
    {
     "data": {
      "text/plain": [
       "'No message available'"
      ]
     },
     "execution_count": 48,
     "metadata": {},
     "output_type": "execute_result"
    }
   ],
   "source": [
    "message_dict[1]"
   ]
  },
  {
   "cell_type": "code",
   "execution_count": 69,
   "metadata": {},
   "outputs": [],
   "source": [
    "def product(*args):    \n",
    "    ans=1\n",
    "    for item in args:\n",
    "        ans*=item\n",
    "    \n",
    "    assert ans,'0 argument'\n",
    "    \n",
    "    return ans"
   ]
  },
  {
   "cell_type": "code",
   "execution_count": 70,
   "metadata": {},
   "outputs": [
    {
     "data": {
      "text/plain": [
       "1"
      ]
     },
     "execution_count": 70,
     "metadata": {},
     "output_type": "execute_result"
    }
   ],
   "source": [
    "product()"
   ]
  },
  {
   "cell_type": "code",
   "execution_count": 71,
   "metadata": {},
   "outputs": [
    {
     "ename": "AssertionError",
     "evalue": "0 argument",
     "output_type": "error",
     "traceback": [
      "\u001b[1;31m---------------------------------------------------------------------------\u001b[0m",
      "\u001b[1;31mAssertionError\u001b[0m                            Traceback (most recent call last)",
      "\u001b[1;32m<ipython-input-71-594b424f02ab>\u001b[0m in \u001b[0;36m<module>\u001b[1;34m\u001b[0m\n\u001b[1;32m----> 1\u001b[1;33m \u001b[0mproduct\u001b[0m\u001b[1;33m(\u001b[0m\u001b[1;36m1\u001b[0m\u001b[1;33m,\u001b[0m\u001b[1;36m2\u001b[0m\u001b[1;33m,\u001b[0m\u001b[1;36m0\u001b[0m\u001b[1;33m)\u001b[0m\u001b[1;33m\u001b[0m\u001b[0m\n\u001b[0m",
      "\u001b[1;32m<ipython-input-69-bbc642668512>\u001b[0m in \u001b[0;36mproduct\u001b[1;34m(*args)\u001b[0m\n\u001b[0;32m      4\u001b[0m         \u001b[0mans\u001b[0m\u001b[1;33m*=\u001b[0m\u001b[0mitem\u001b[0m\u001b[1;33m\u001b[0m\u001b[0m\n\u001b[0;32m      5\u001b[0m \u001b[1;33m\u001b[0m\u001b[0m\n\u001b[1;32m----> 6\u001b[1;33m     \u001b[1;32massert\u001b[0m \u001b[0mans\u001b[0m\u001b[1;33m,\u001b[0m\u001b[1;34m'0 argument'\u001b[0m\u001b[1;33m\u001b[0m\u001b[0m\n\u001b[0m\u001b[0;32m      7\u001b[0m \u001b[1;33m\u001b[0m\u001b[0m\n\u001b[0;32m      8\u001b[0m     \u001b[1;32mreturn\u001b[0m \u001b[0mans\u001b[0m\u001b[1;33m\u001b[0m\u001b[0m\n",
      "\u001b[1;31mAssertionError\u001b[0m: 0 argument"
     ]
    }
   ],
   "source": [
    "product(1,2,0)"
   ]
  },
  {
   "cell_type": "markdown",
   "metadata": {},
   "source": [
    "Several syntaxes can be used when importing. For example:\n",
    "\n",
    "```python\n",
    "import importable\n",
    "import importable1,importable2, ... ,importableN\n",
    "import importable as preferred_name\n",
    "```\n",
    "Here are some other import syntaxes:\n",
    "```python\n",
    "from importable import object as preferred_name\n",
    "from importable import object1,object2, ... ,objectN\n",
    "from importable import (object1,object2, ... ,objectN)\n",
    "from importable import *\n",
    "```\n",
    "\n",
    "In the last syntax, the `*` means“import everything that is not private”,which in practical terms means either that every object in the module isimported except for those whose names begin with a leading underscore, or, if the module hasa global `__all__` variable that holds a list of names, that all the objects named in the `__all__` variable are imported."
   ]
  },
  {
   "cell_type": "code",
   "execution_count": 72,
   "metadata": {},
   "outputs": [],
   "source": [
    "import os"
   ]
  },
  {
   "cell_type": "code",
   "execution_count": 73,
   "metadata": {},
   "outputs": [
    {
     "data": {
      "text/plain": [
       "<function ntpath.basename(p)>"
      ]
     },
     "execution_count": 73,
     "metadata": {},
     "output_type": "execute_result"
    }
   ],
   "source": [
    "os.path.basename"
   ]
  },
  {
   "cell_type": "code",
   "execution_count": 74,
   "metadata": {},
   "outputs": [],
   "source": [
    "import sys"
   ]
  },
  {
   "cell_type": "markdown",
   "metadata": {},
   "source": [
    "A question that naturally arises is, how does Python know where to look for the modules and packages that are imported? The built-in sys module has a list called `sys.path` that holds a list of the directories that constitute the Python path. The first directory is the directory that contains the program itself, even if the program was invoked from another directory. If the `PYTHONPATH` environment variable is set, the paths specified in it are the next ones in the list, and the final paths are those needed to access Python’s standard library—these are set when Python is installed\n",
    "\n",
    "When we first import a module, if it isn’t built in, Python looks for the module in each path listed in `sys.path` in turn. One consequence of this is that if we create a module or program with the same name as one of Python’s library modules, ours will be found first, inevitably causing problems."
   ]
  },
  {
   "cell_type": "code",
   "execution_count": 75,
   "metadata": {},
   "outputs": [
    {
     "data": {
      "text/plain": [
       "['D:\\\\jinrenren\\\\JupyderWorkPlace\\\\NLTK',\n",
       " 'D:\\\\program\\\\Anaconda3\\\\envs\\\\ML\\\\python37.zip',\n",
       " 'D:\\\\program\\\\Anaconda3\\\\envs\\\\ML\\\\DLLs',\n",
       " 'D:\\\\program\\\\Anaconda3\\\\envs\\\\ML\\\\lib',\n",
       " 'D:\\\\program\\\\Anaconda3\\\\envs\\\\ML',\n",
       " '',\n",
       " 'D:\\\\program\\\\Anaconda3\\\\envs\\\\ML\\\\lib\\\\site-packages',\n",
       " 'D:\\\\program\\\\Anaconda3\\\\envs\\\\ML\\\\lib\\\\site-packages\\\\win32',\n",
       " 'D:\\\\program\\\\Anaconda3\\\\envs\\\\ML\\\\lib\\\\site-packages\\\\win32\\\\lib',\n",
       " 'D:\\\\program\\\\Anaconda3\\\\envs\\\\ML\\\\lib\\\\site-packages\\\\Pythonwin',\n",
       " 'D:\\\\program\\\\Anaconda3\\\\envs\\\\ML\\\\lib\\\\site-packages\\\\IPython\\\\extensions',\n",
       " 'C:\\\\Users\\\\金任任\\\\.ipython']"
      ]
     },
     "execution_count": 75,
     "metadata": {},
     "output_type": "execute_result"
    }
   ],
   "source": [
    "sys.path"
   ]
  },
  {
   "cell_type": "code",
   "execution_count": 76,
   "metadata": {},
   "outputs": [
    {
     "data": {
      "text/plain": [
       "'__main__'"
      ]
     },
     "execution_count": 76,
     "metadata": {},
     "output_type": "execute_result"
    }
   ],
   "source": [
    "__name__"
   ]
  },
  {
   "cell_type": "code",
   "execution_count": 77,
   "metadata": {},
   "outputs": [],
   "source": [
    "s='nihao'"
   ]
  },
  {
   "cell_type": "code",
   "execution_count": 78,
   "metadata": {},
   "outputs": [
    {
     "data": {
      "text/plain": [
       "'NIHAO'"
      ]
     },
     "execution_count": 78,
     "metadata": {},
     "output_type": "execute_result"
    }
   ],
   "source": [
    "s.upper()"
   ]
  },
  {
   "cell_type": "code",
   "execution_count": 79,
   "metadata": {},
   "outputs": [
    {
     "data": {
      "text/plain": [
       "'nihao'"
      ]
     },
     "execution_count": 79,
     "metadata": {},
     "output_type": "execute_result"
    }
   ],
   "source": [
    "s"
   ]
  },
  {
   "cell_type": "markdown",
   "metadata": {},
   "source": [
    " Such features are provided by special methods—**these are like normal methods except that their names always begin and end with two underscores,and are predefined**. For example, if we want to create a class that supports concatenation using the `+` operator and also the `len()` function, we can do so by implementing the `__add__()` and `__len__()` special methods in our class"
   ]
  },
  {
   "cell_type": "markdown",
   "metadata": {},
   "source": [
    "Some object oriented languages have two features that Python does not provide. The first is overloading, that is, having methods with the same name but with different parameter lists in the same class. Thanks to Python’s versatile argument handling capabilities this is never a limitation in practice. The second is access control—there are no bulletproof mechanisms for enforcing data privacy. However, if we create attributes (instance variables or methods) that begin with two leading underscores, Python will prevent unintentional accesses so that they can be considered to be private."
   ]
  },
  {
   "cell_type": "code",
   "execution_count": 90,
   "metadata": {},
   "outputs": [],
   "source": [
    "import math\n",
    "\n",
    "class Point:\n",
    "    \n",
    "    def __init__(self,x=0,y=0):\n",
    "        self.x=x\n",
    "        self.y=y\n",
    "    \n",
    "    def distance_from_origin(self):\n",
    "        return  math.hypot(self.x,self.y)\n",
    "    \n",
    "    def __eq__(self,other):\n",
    "        return self.x==other.x and self.y==other.y\n",
    "    \n",
    "    def __repr__(self):\n",
    "        return 'Point({0.x},{0.y})'.format(self)\n",
    "    \n",
    "    def __str__(self):\n",
    "        return '({0.x},{0.y})'.format(self)\n",
    "        "
   ]
  },
  {
   "cell_type": "code",
   "execution_count": 91,
   "metadata": {},
   "outputs": [
    {
     "data": {
      "text/plain": [
       "Point(0,0)"
      ]
     },
     "execution_count": 91,
     "metadata": {},
     "output_type": "execute_result"
    }
   ],
   "source": [
    "Point()"
   ]
  },
  {
   "cell_type": "code",
   "execution_count": 92,
   "metadata": {},
   "outputs": [
    {
     "name": "stdout",
     "output_type": "stream",
     "text": [
      "(0,0)\n"
     ]
    }
   ],
   "source": [
    "print(Point())"
   ]
  },
  {
   "cell_type": "code",
   "execution_count": 93,
   "metadata": {},
   "outputs": [],
   "source": [
    "x=Point(3,4)"
   ]
  },
  {
   "cell_type": "code",
   "execution_count": 94,
   "metadata": {},
   "outputs": [
    {
     "data": {
      "text/plain": [
       "5.0"
      ]
     },
     "execution_count": 94,
     "metadata": {},
     "output_type": "execute_result"
    }
   ],
   "source": [
    "x.distance_from_origin()"
   ]
  },
  {
   "cell_type": "code",
   "execution_count": null,
   "metadata": {},
   "outputs": [],
   "source": []
  }
 ],
 "metadata": {
  "kernelspec": {
   "display_name": "Python 3",
   "language": "python",
   "name": "python3"
  },
  "language_info": {
   "codemirror_mode": {
    "name": "ipython",
    "version": 3
   },
   "file_extension": ".py",
   "mimetype": "text/x-python",
   "name": "python",
   "nbconvert_exporter": "python",
   "pygments_lexer": "ipython3",
   "version": "3.7.0"
  }
 },
 "nbformat": 4,
 "nbformat_minor": 2
}
