{
 "cells": [
  {
   "cell_type": "code",
   "execution_count": 1,
   "metadata": {},
   "outputs": [],
   "source": [
    "x=list(zip([1,3,1,3],('pram','dorie','kayak','canoe')))"
   ]
  },
  {
   "cell_type": "code",
   "execution_count": 2,
   "metadata": {},
   "outputs": [
    {
     "data": {
      "text/plain": [
       "[(1, 'pram'), (3, 'dorie'), (1, 'kayak'), (3, 'canoe')]"
      ]
     },
     "execution_count": 2,
     "metadata": {},
     "output_type": "execute_result"
    }
   ],
   "source": [
    "x"
   ]
  },
  {
   "cell_type": "code",
   "execution_count": 3,
   "metadata": {},
   "outputs": [
    {
     "data": {
      "text/plain": [
       "[(1, 'pram'), (3, 'dorie'), (1, 'kayak')]"
      ]
     },
     "execution_count": 3,
     "metadata": {},
     "output_type": "execute_result"
    }
   ],
   "source": [
    "list(zip([1,3,1,3],('pram','dorie','kayak')))"
   ]
  },
  {
   "cell_type": "code",
   "execution_count": 4,
   "metadata": {},
   "outputs": [
    {
     "data": {
      "text/plain": [
       "[(1, 'kayak'), (1, 'pram'), (3, 'canoe'), (3, 'dorie')]"
      ]
     },
     "execution_count": 4,
     "metadata": {},
     "output_type": "execute_result"
    }
   ],
   "source": [
    "sorted(x)"
   ]
  },
  {
   "cell_type": "code",
   "execution_count": 5,
   "metadata": {},
   "outputs": [],
   "source": [
    "def swap(t):\n",
    "    return t[1],t[0]"
   ]
  },
  {
   "cell_type": "code",
   "execution_count": 6,
   "metadata": {},
   "outputs": [
    {
     "data": {
      "text/plain": [
       "[(3, 'canoe'), (3, 'dorie'), (1, 'kayak'), (1, 'pram')]"
      ]
     },
     "execution_count": 6,
     "metadata": {},
     "output_type": "execute_result"
    }
   ],
   "source": [
    "sorted(x,key=swap)"
   ]
  },
  {
   "cell_type": "code",
   "execution_count": 10,
   "metadata": {},
   "outputs": [
    {
     "ename": "TypeError",
     "evalue": "'<' not supported between instances of 'float' and 'str'",
     "output_type": "error",
     "traceback": [
      "\u001b[1;31m---------------------------------------------------------------------------\u001b[0m",
      "\u001b[1;31mTypeError\u001b[0m                                 Traceback (most recent call last)",
      "\u001b[1;32m<ipython-input-10-4769d8255a67>\u001b[0m in \u001b[0;36m<module>\u001b[1;34m\u001b[0m\n\u001b[1;32m----> 1\u001b[1;33m \u001b[0msorted\u001b[0m\u001b[1;33m(\u001b[0m\u001b[1;33m[\u001b[0m\u001b[1;34m'1.3'\u001b[0m\u001b[1;33m,\u001b[0m\u001b[1;33m-\u001b[0m\u001b[1;36m7.5\u001b[0m\u001b[1;33m,\u001b[0m\u001b[1;34m'5'\u001b[0m\u001b[1;33m,\u001b[0m\u001b[1;34m'4'\u001b[0m\u001b[1;33m,\u001b[0m\u001b[1;33m-\u001b[0m\u001b[1;36m2.4\u001b[0m\u001b[1;33m,\u001b[0m\u001b[1;36m1\u001b[0m\u001b[1;33m]\u001b[0m\u001b[1;33m)\u001b[0m\u001b[1;33m\u001b[0m\u001b[0m\n\u001b[0m",
      "\u001b[1;31mTypeError\u001b[0m: '<' not supported between instances of 'float' and 'str'"
     ]
    }
   ],
   "source": [
    "sorted(['1.3',-7.5,'5','4',-2.4,1])"
   ]
  },
  {
   "cell_type": "code",
   "execution_count": null,
   "metadata": {},
   "outputs": [],
   "source": [
    "sorted(['1.3',-7.5,'5','4',-2.4,1],key=float)"
   ]
  },
  {
   "cell_type": "code",
   "execution_count": null,
   "metadata": {},
   "outputs": [],
   "source": [
    "In"
   ]
  },
  {
   "cell_type": "code",
   "execution_count": 11,
   "metadata": {},
   "outputs": [
    {
     "data": {
      "text/plain": [
       "{2: [(1, 'pram'), (3, 'dorie'), (1, 'kayak'), (3, 'canoe')],\n",
       " 3: [(1, 'pram'), (3, 'dorie'), (1, 'kayak')],\n",
       " 4: [(1, 'kayak'), (1, 'pram'), (3, 'canoe'), (3, 'dorie')],\n",
       " 6: [(3, 'canoe'), (3, 'dorie'), (1, 'kayak'), (1, 'pram')]}"
      ]
     },
     "execution_count": 11,
     "metadata": {},
     "output_type": "execute_result"
    }
   ],
   "source": [
    "Out"
   ]
  },
  {
   "cell_type": "code",
   "execution_count": 12,
   "metadata": {},
   "outputs": [],
   "source": [
    "songs=['Because','Boys','Carol']"
   ]
  },
  {
   "cell_type": "code",
   "execution_count": 13,
   "metadata": {},
   "outputs": [],
   "source": [
    "beatles=songs"
   ]
  },
  {
   "cell_type": "code",
   "execution_count": 14,
   "metadata": {},
   "outputs": [
    {
     "data": {
      "text/plain": [
       "['Because', 'Boys', 'Carol']"
      ]
     },
     "execution_count": 14,
     "metadata": {},
     "output_type": "execute_result"
    }
   ],
   "source": [
    "beatles"
   ]
  },
  {
   "cell_type": "code",
   "execution_count": 15,
   "metadata": {},
   "outputs": [
    {
     "data": {
      "text/plain": [
       "['Because', 'Boys', 'Carol']"
      ]
     },
     "execution_count": 15,
     "metadata": {},
     "output_type": "execute_result"
    }
   ],
   "source": [
    "songs"
   ]
  },
  {
   "cell_type": "code",
   "execution_count": 16,
   "metadata": {},
   "outputs": [
    {
     "data": {
      "text/plain": [
       "'Carol'"
      ]
     },
     "execution_count": 16,
     "metadata": {},
     "output_type": "execute_result"
    }
   ],
   "source": [
    "songs.pop()"
   ]
  },
  {
   "cell_type": "code",
   "execution_count": 17,
   "metadata": {},
   "outputs": [
    {
     "data": {
      "text/plain": [
       "['Because', 'Boys']"
      ]
     },
     "execution_count": 17,
     "metadata": {},
     "output_type": "execute_result"
    }
   ],
   "source": [
    "songs"
   ]
  },
  {
   "cell_type": "code",
   "execution_count": 18,
   "metadata": {},
   "outputs": [
    {
     "data": {
      "text/plain": [
       "['Because', 'Boys']"
      ]
     },
     "execution_count": 18,
     "metadata": {},
     "output_type": "execute_result"
    }
   ],
   "source": [
    "beatles"
   ]
  },
  {
   "cell_type": "code",
   "execution_count": 19,
   "metadata": {},
   "outputs": [],
   "source": [
    "beatles=songs[:]"
   ]
  },
  {
   "cell_type": "code",
   "execution_count": 20,
   "metadata": {},
   "outputs": [
    {
     "data": {
      "text/plain": [
       "['Because', 'Boys']"
      ]
     },
     "execution_count": 20,
     "metadata": {},
     "output_type": "execute_result"
    }
   ],
   "source": [
    "beatles"
   ]
  },
  {
   "cell_type": "code",
   "execution_count": 21,
   "metadata": {},
   "outputs": [
    {
     "data": {
      "text/plain": [
       "['Because', 'Boys']"
      ]
     },
     "execution_count": 21,
     "metadata": {},
     "output_type": "execute_result"
    }
   ],
   "source": [
    "songs"
   ]
  },
  {
   "cell_type": "code",
   "execution_count": 22,
   "metadata": {},
   "outputs": [],
   "source": [
    "beatles[1]=1"
   ]
  },
  {
   "cell_type": "code",
   "execution_count": 23,
   "metadata": {},
   "outputs": [
    {
     "data": {
      "text/plain": [
       "['Because', 1]"
      ]
     },
     "execution_count": 23,
     "metadata": {},
     "output_type": "execute_result"
    }
   ],
   "source": [
    "beatles"
   ]
  },
  {
   "cell_type": "code",
   "execution_count": 24,
   "metadata": {},
   "outputs": [
    {
     "data": {
      "text/plain": [
       "['Because', 'Boys']"
      ]
     },
     "execution_count": 24,
     "metadata": {},
     "output_type": "execute_result"
    }
   ],
   "source": [
    "songs"
   ]
  },
  {
   "cell_type": "markdown",
   "metadata": {},
   "source": [
    "For dictionaries and sets, copying can be achieved using `dict.copy()` and `set.copy()`. In addition, the copy module provides the `copy.copy()` function that returns a copy of the object it is given. Another way to copy the built-in collection types is to use the type as a function with the collection to be copied as its argument. Here are some examples:\n",
    "\n",
    "```python\n",
    "copy_of_dict_d = dict(d)\n",
    "copy_of_list_L = list(L)\n",
    "copy_of_set_s = set(s)\n",
    "```\n",
    "\n",
    "Note, though, that all of these copying techniques are shallow, that is, only object references are copied and not the objects themselves. For immutable data types like numbers and strings this has the same effect as copying (except that it is more efficient), but for mutable data types such as nested collections this means that the objects they refer to are referred to both by the original collection and by the copied collection. The following snippet illustrates this:"
   ]
  },
  {
   "cell_type": "code",
   "execution_count": 25,
   "metadata": {},
   "outputs": [],
   "source": [
    "x=[53,69,['A','B','C']]"
   ]
  },
  {
   "cell_type": "code",
   "execution_count": 26,
   "metadata": {},
   "outputs": [],
   "source": [
    "y=x[:]"
   ]
  },
  {
   "cell_type": "code",
   "execution_count": 27,
   "metadata": {},
   "outputs": [
    {
     "data": {
      "text/plain": [
       "([53, 69, ['A', 'B', 'C']], [53, 69, ['A', 'B', 'C']])"
      ]
     },
     "execution_count": 27,
     "metadata": {},
     "output_type": "execute_result"
    }
   ],
   "source": [
    "x,y"
   ]
  },
  {
   "cell_type": "code",
   "execution_count": 28,
   "metadata": {},
   "outputs": [],
   "source": [
    "y[1]=40"
   ]
  },
  {
   "cell_type": "code",
   "execution_count": 29,
   "metadata": {},
   "outputs": [
    {
     "data": {
      "text/plain": [
       "[53, 69, ['A', 'B', 'C']]"
      ]
     },
     "execution_count": 29,
     "metadata": {},
     "output_type": "execute_result"
    }
   ],
   "source": [
    "x"
   ]
  },
  {
   "cell_type": "code",
   "execution_count": 30,
   "metadata": {},
   "outputs": [
    {
     "data": {
      "text/plain": [
       "[53, 40, ['A', 'B', 'C']]"
      ]
     },
     "execution_count": 30,
     "metadata": {},
     "output_type": "execute_result"
    }
   ],
   "source": [
    "y"
   ]
  },
  {
   "cell_type": "code",
   "execution_count": 31,
   "metadata": {},
   "outputs": [],
   "source": [
    "x[2][0]='Q'"
   ]
  },
  {
   "cell_type": "code",
   "execution_count": 32,
   "metadata": {},
   "outputs": [
    {
     "data": {
      "text/plain": [
       "([53, 69, ['Q', 'B', 'C']], [53, 40, ['Q', 'B', 'C']])"
      ]
     },
     "execution_count": 32,
     "metadata": {},
     "output_type": "execute_result"
    }
   ],
   "source": [
    "x,y"
   ]
  },
  {
   "cell_type": "markdown",
   "metadata": {},
   "source": [
    "When list x is shallow-copied, the reference to the nested list [\"A\", \"B\", \"C\"] iscopied. This means that both x and y have as their third item an object reference that refers to this list, so any changes to the nested list are seen by both x and y. If we really need independent copies of arbitrarily nested collections,we can deep-copy:"
   ]
  },
  {
   "cell_type": "code",
   "execution_count": 33,
   "metadata": {},
   "outputs": [],
   "source": [
    "import copy"
   ]
  },
  {
   "cell_type": "code",
   "execution_count": 34,
   "metadata": {},
   "outputs": [],
   "source": [
    "y=copy.deepcopy(x)"
   ]
  },
  {
   "cell_type": "code",
   "execution_count": 35,
   "metadata": {},
   "outputs": [
    {
     "data": {
      "text/plain": [
       "([53, 69, ['Q', 'B', 'C']], [53, 69, ['Q', 'B', 'C']])"
      ]
     },
     "execution_count": 35,
     "metadata": {},
     "output_type": "execute_result"
    }
   ],
   "source": [
    "x,y"
   ]
  },
  {
   "cell_type": "code",
   "execution_count": 36,
   "metadata": {},
   "outputs": [],
   "source": [
    "x[2][0]='A'"
   ]
  },
  {
   "cell_type": "code",
   "execution_count": 37,
   "metadata": {},
   "outputs": [
    {
     "data": {
      "text/plain": [
       "([53, 69, ['A', 'B', 'C']], [53, 69, ['Q', 'B', 'C']])"
      ]
     },
     "execution_count": 37,
     "metadata": {},
     "output_type": "execute_result"
    }
   ],
   "source": [
    "x,y"
   ]
  },
  {
   "cell_type": "code",
   "execution_count": 38,
   "metadata": {},
   "outputs": [],
   "source": [
    "def exgcd(a,b):\n",
    "    if b==0:\n",
    "        x=1\n",
    "        y=0\n",
    "        return a,x,y\n",
    "    \n",
    "    ret=exgcd(b,a%b)\n",
    "    x,y=ret[2],ret[1]-a//b*ret[2]\n",
    "    return ret[0],x,y"
   ]
  },
  {
   "cell_type": "code",
   "execution_count": 39,
   "metadata": {},
   "outputs": [],
   "source": [
    "ans=exgcd(3,4)"
   ]
  },
  {
   "cell_type": "code",
   "execution_count": 40,
   "metadata": {},
   "outputs": [
    {
     "data": {
      "text/plain": [
       "(1, -1, 1)"
      ]
     },
     "execution_count": 40,
     "metadata": {},
     "output_type": "execute_result"
    }
   ],
   "source": [
    "ans"
   ]
  },
  {
   "cell_type": "code",
   "execution_count": 41,
   "metadata": {},
   "outputs": [
    {
     "name": "stdout",
     "output_type": "stream",
     "text": [
      "Wall time: 0 ns\n"
     ]
    },
    {
     "data": {
      "text/plain": [
       "(5,\n",
       " -2526053212881251134000000000009,\n",
       " 8079964488000990090496750888593606440625567)"
      ]
     },
     "execution_count": 41,
     "metadata": {},
     "output_type": "execute_result"
    }
   ],
   "source": [
    "%%time\n",
    "exgcd(95959555555555555555555555555555555555555555,30000001111111111110000000000000)"
   ]
  },
  {
   "cell_type": "code",
   "execution_count": 42,
   "metadata": {},
   "outputs": [],
   "source": [
    "import collections"
   ]
  },
  {
   "cell_type": "code",
   "execution_count": 43,
   "metadata": {},
   "outputs": [],
   "source": [
    "students=collections.namedtuple('User',['username','number','age'])"
   ]
  },
  {
   "cell_type": "code",
   "execution_count": 44,
   "metadata": {},
   "outputs": [
    {
     "data": {
      "text/plain": [
       "User(username='ni', number=121, age='dasd')"
      ]
     },
     "execution_count": 44,
     "metadata": {},
     "output_type": "execute_result"
    }
   ],
   "source": [
    "students('ni',121,'dasd')"
   ]
  },
  {
   "cell_type": "code",
   "execution_count": 45,
   "metadata": {},
   "outputs": [
    {
     "data": {
      "text/plain": [
       "User(username=1, number=2, age=3)"
      ]
     },
     "execution_count": 45,
     "metadata": {},
     "output_type": "execute_result"
    }
   ],
   "source": [
    "students(1,2,3)"
   ]
  },
  {
   "cell_type": "code",
   "execution_count": 46,
   "metadata": {},
   "outputs": [],
   "source": [
    "s='buct'"
   ]
  },
  {
   "cell_type": "code",
   "execution_count": 47,
   "metadata": {},
   "outputs": [
    {
     "data": {
      "text/plain": [
       "'buct'"
      ]
     },
     "execution_count": 47,
     "metadata": {},
     "output_type": "execute_result"
    }
   ],
   "source": [
    "s"
   ]
  },
  {
   "cell_type": "code",
   "execution_count": 48,
   "metadata": {},
   "outputs": [],
   "source": [
    "s_copy=s[:]"
   ]
  },
  {
   "cell_type": "code",
   "execution_count": 49,
   "metadata": {},
   "outputs": [
    {
     "data": {
      "text/plain": [
       "'auct'"
      ]
     },
     "execution_count": 49,
     "metadata": {},
     "output_type": "execute_result"
    }
   ],
   "source": [
    "s_copy.replace('b','a')"
   ]
  },
  {
   "cell_type": "code",
   "execution_count": 50,
   "metadata": {},
   "outputs": [
    {
     "data": {
      "text/plain": [
       "'buct'"
      ]
     },
     "execution_count": 50,
     "metadata": {},
     "output_type": "execute_result"
    }
   ],
   "source": [
    "s_copy"
   ]
  },
  {
   "cell_type": "markdown",
   "metadata": {},
   "source": [
    "当对一组数据输出的时候，我们有时需要输出以指定宽度，来使数据更清晰。这时我们可以用format来进行约束\n",
    "\n",
    "```python\n",
    "mat = \"{:20}\\t{:28}\\t{:32}\"\n",
    "print(mat.format(\"占4个长度\",\"占8个长度\", \"占12长度\"))\n",
    "#如果需要居中输出在宽度前面加一个^\n",
    "mat = \"{:^20}\\t{:^28}\\t{:^32}\"\n",
    "print(mat.format(\"占4个长度\",\"占8个长度\", \"占12长度\"))\n",
    "```"
   ]
  },
  {
   "cell_type": "code",
   "execution_count": 51,
   "metadata": {},
   "outputs": [
    {
     "data": {
      "text/plain": [
       "'01111111111111111111111111111,1'"
      ]
     },
     "execution_count": 51,
     "metadata": {},
     "output_type": "execute_result"
    }
   ],
   "source": [
    "'{0:10},{1}'.format('01111111111111111111111111111','1')"
   ]
  },
  {
   "cell_type": "code",
   "execution_count": 52,
   "metadata": {},
   "outputs": [
    {
     "data": {
      "text/plain": [
       "'01111111111111111111111111111,1'"
      ]
     },
     "execution_count": 52,
     "metadata": {},
     "output_type": "execute_result"
    }
   ],
   "source": [
    "'{0:<10},{1}'.format('01111111111111111111111111111','1')"
   ]
  },
  {
   "cell_type": "code",
   "execution_count": 53,
   "metadata": {},
   "outputs": [
    {
     "data": {
      "text/plain": [
       "{'__name__': '__main__',\n",
       " '__doc__': 'Automatically created module for IPython interactive environment',\n",
       " '__package__': None,\n",
       " '__loader__': None,\n",
       " '__spec__': None,\n",
       " '__builtin__': <module 'builtins' (built-in)>,\n",
       " '__builtins__': <module 'builtins' (built-in)>,\n",
       " '_ih': ['',\n",
       "  \"x=list(zip([1,3,1,3],('pram','dorie','kayak','canoe')))\",\n",
       "  'x',\n",
       "  \"list(zip([1,3,1,3],('pram','dorie','kayak')))\",\n",
       "  'sorted(x)',\n",
       "  'def swap(t):\\n    return t[1],t[0]',\n",
       "  'sorted(x,key=swap)',\n",
       "  \"sorted(['1.3',-7.5,'5','4',-2.4,1])\",\n",
       "  \"sorted(['1.3',-7.5,'5','4',-2.4,1])\",\n",
       "  'songs',\n",
       "  \"sorted(['1.3',-7.5,'5','4',-2.4,1])\",\n",
       "  'Out',\n",
       "  \"songs=['Because','Boys','Carol']\",\n",
       "  'beatles=songs',\n",
       "  'beatles',\n",
       "  'songs',\n",
       "  'songs.pop()',\n",
       "  'songs',\n",
       "  'beatles',\n",
       "  'beatles=songs[:]',\n",
       "  'beatles',\n",
       "  'songs',\n",
       "  'beatles[1]=1',\n",
       "  'beatles',\n",
       "  'songs',\n",
       "  \"x=[53,69,['A','B','C']]\",\n",
       "  'y=x[:]',\n",
       "  'x,y',\n",
       "  'y[1]=40',\n",
       "  'x',\n",
       "  'y',\n",
       "  \"x[2][0]='Q'\",\n",
       "  'x,y',\n",
       "  'import copy',\n",
       "  'y=copy.deepcopy(x)',\n",
       "  'x,y',\n",
       "  \"x[2][0]='A'\",\n",
       "  'x,y',\n",
       "  'def exgcd(a,b):\\n    if b==0:\\n        x=1\\n        y=0\\n        return a,x,y\\n    \\n    ret=exgcd(b,a%b)\\n    x,y=ret[2],ret[1]-a//b*ret[2]\\n    return ret[0],x,y',\n",
       "  'ans=exgcd(3,4)',\n",
       "  'ans',\n",
       "  \"get_ipython().run_cell_magic('time', '', 'exgcd(95959555555555555555555555555555555555555555,30000001111111111110000000000000)\\\\n')\",\n",
       "  'import collections',\n",
       "  \"students=collections.namedtuple('User',['username','number','age'])\",\n",
       "  \"students('ni',121,'dasd')\",\n",
       "  'students(1,2,3)',\n",
       "  \"s='buct'\",\n",
       "  's',\n",
       "  's_copy=s[:]',\n",
       "  \"s_copy.replace('b','a')\",\n",
       "  's_copy',\n",
       "  \"'{0:10},{1}'.format('01111111111111111111111111111','1')\",\n",
       "  \"'{0:<10},{1}'.format('01111111111111111111111111111','1')\",\n",
       "  'locals()'],\n",
       " '_oh': {2: [(1, 'pram'), (3, 'dorie'), (1, 'kayak'), (3, 'canoe')],\n",
       "  3: [(1, 'pram'), (3, 'dorie'), (1, 'kayak')],\n",
       "  4: [(1, 'kayak'), (1, 'pram'), (3, 'canoe'), (3, 'dorie')],\n",
       "  6: [(3, 'canoe'), (3, 'dorie'), (1, 'kayak'), (1, 'pram')],\n",
       "  14: ['Because', 'Boys'],\n",
       "  15: ['Because', 'Boys'],\n",
       "  16: 'Carol',\n",
       "  17: ['Because', 'Boys'],\n",
       "  18: ['Because', 'Boys'],\n",
       "  20: ['Because', 1],\n",
       "  21: ['Because', 'Boys'],\n",
       "  23: ['Because', 1],\n",
       "  24: ['Because', 'Boys'],\n",
       "  27: ([53, 69, ['A', 'B', 'C']], [53, 40, ['A', 'B', 'C']]),\n",
       "  29: [53, 69, ['A', 'B', 'C']],\n",
       "  30: [53, 40, ['A', 'B', 'C']],\n",
       "  32: ([53, 69, ['A', 'B', 'C']], [53, 40, ['A', 'B', 'C']]),\n",
       "  35: ([53, 69, ['A', 'B', 'C']], [53, 69, ['Q', 'B', 'C']]),\n",
       "  37: ([53, 69, ['A', 'B', 'C']], [53, 69, ['Q', 'B', 'C']]),\n",
       "  40: (1, -1, 1),\n",
       "  41: (5,\n",
       "   -2526053212881251134000000000009,\n",
       "   8079964488000990090496750888593606440625567),\n",
       "  44: User(username='ni', number=121, age='dasd'),\n",
       "  45: User(username=1, number=2, age=3),\n",
       "  47: 'buct',\n",
       "  49: 'auct',\n",
       "  50: 'buct',\n",
       "  51: '01111111111111111111111111111,1',\n",
       "  52: '01111111111111111111111111111,1'},\n",
       " '_dh': ['D:\\\\jinrenren\\\\JupyderWorkPlace\\\\NLTK'],\n",
       " 'In': ['',\n",
       "  \"x=list(zip([1,3,1,3],('pram','dorie','kayak','canoe')))\",\n",
       "  'x',\n",
       "  \"list(zip([1,3,1,3],('pram','dorie','kayak')))\",\n",
       "  'sorted(x)',\n",
       "  'def swap(t):\\n    return t[1],t[0]',\n",
       "  'sorted(x,key=swap)',\n",
       "  \"sorted(['1.3',-7.5,'5','4',-2.4,1])\",\n",
       "  \"sorted(['1.3',-7.5,'5','4',-2.4,1])\",\n",
       "  'songs',\n",
       "  \"sorted(['1.3',-7.5,'5','4',-2.4,1])\",\n",
       "  'Out',\n",
       "  \"songs=['Because','Boys','Carol']\",\n",
       "  'beatles=songs',\n",
       "  'beatles',\n",
       "  'songs',\n",
       "  'songs.pop()',\n",
       "  'songs',\n",
       "  'beatles',\n",
       "  'beatles=songs[:]',\n",
       "  'beatles',\n",
       "  'songs',\n",
       "  'beatles[1]=1',\n",
       "  'beatles',\n",
       "  'songs',\n",
       "  \"x=[53,69,['A','B','C']]\",\n",
       "  'y=x[:]',\n",
       "  'x,y',\n",
       "  'y[1]=40',\n",
       "  'x',\n",
       "  'y',\n",
       "  \"x[2][0]='Q'\",\n",
       "  'x,y',\n",
       "  'import copy',\n",
       "  'y=copy.deepcopy(x)',\n",
       "  'x,y',\n",
       "  \"x[2][0]='A'\",\n",
       "  'x,y',\n",
       "  'def exgcd(a,b):\\n    if b==0:\\n        x=1\\n        y=0\\n        return a,x,y\\n    \\n    ret=exgcd(b,a%b)\\n    x,y=ret[2],ret[1]-a//b*ret[2]\\n    return ret[0],x,y',\n",
       "  'ans=exgcd(3,4)',\n",
       "  'ans',\n",
       "  \"get_ipython().run_cell_magic('time', '', 'exgcd(95959555555555555555555555555555555555555555,30000001111111111110000000000000)\\\\n')\",\n",
       "  'import collections',\n",
       "  \"students=collections.namedtuple('User',['username','number','age'])\",\n",
       "  \"students('ni',121,'dasd')\",\n",
       "  'students(1,2,3)',\n",
       "  \"s='buct'\",\n",
       "  's',\n",
       "  's_copy=s[:]',\n",
       "  \"s_copy.replace('b','a')\",\n",
       "  's_copy',\n",
       "  \"'{0:10},{1}'.format('01111111111111111111111111111','1')\",\n",
       "  \"'{0:<10},{1}'.format('01111111111111111111111111111','1')\",\n",
       "  'locals()'],\n",
       " 'Out': {2: [(1, 'pram'), (3, 'dorie'), (1, 'kayak'), (3, 'canoe')],\n",
       "  3: [(1, 'pram'), (3, 'dorie'), (1, 'kayak')],\n",
       "  4: [(1, 'kayak'), (1, 'pram'), (3, 'canoe'), (3, 'dorie')],\n",
       "  6: [(3, 'canoe'), (3, 'dorie'), (1, 'kayak'), (1, 'pram')],\n",
       "  14: ['Because', 'Boys'],\n",
       "  15: ['Because', 'Boys'],\n",
       "  16: 'Carol',\n",
       "  17: ['Because', 'Boys'],\n",
       "  18: ['Because', 'Boys'],\n",
       "  20: ['Because', 1],\n",
       "  21: ['Because', 'Boys'],\n",
       "  23: ['Because', 1],\n",
       "  24: ['Because', 'Boys'],\n",
       "  27: ([53, 69, ['A', 'B', 'C']], [53, 40, ['A', 'B', 'C']]),\n",
       "  29: [53, 69, ['A', 'B', 'C']],\n",
       "  30: [53, 40, ['A', 'B', 'C']],\n",
       "  32: ([53, 69, ['A', 'B', 'C']], [53, 40, ['A', 'B', 'C']]),\n",
       "  35: ([53, 69, ['A', 'B', 'C']], [53, 69, ['Q', 'B', 'C']]),\n",
       "  37: ([53, 69, ['A', 'B', 'C']], [53, 69, ['Q', 'B', 'C']]),\n",
       "  40: (1, -1, 1),\n",
       "  41: (5,\n",
       "   -2526053212881251134000000000009,\n",
       "   8079964488000990090496750888593606440625567),\n",
       "  44: User(username='ni', number=121, age='dasd'),\n",
       "  45: User(username=1, number=2, age=3),\n",
       "  47: 'buct',\n",
       "  49: 'auct',\n",
       "  50: 'buct',\n",
       "  51: '01111111111111111111111111111,1',\n",
       "  52: '01111111111111111111111111111,1'},\n",
       " 'get_ipython': <bound method InteractiveShell.get_ipython of <ipykernel.zmqshell.ZMQInteractiveShell object at 0x000001ED59EDA898>>,\n",
       " 'exit': <IPython.core.autocall.ZMQExitAutocall at 0x1ed59f69940>,\n",
       " 'quit': <IPython.core.autocall.ZMQExitAutocall at 0x1ed59f69940>,\n",
       " '_': '01111111111111111111111111111,1',\n",
       " '__': '01111111111111111111111111111,1',\n",
       " '___': 'buct',\n",
       " '_i': \"'{0:<10},{1}'.format('01111111111111111111111111111','1')\",\n",
       " '_ii': \"'{0:10},{1}'.format('01111111111111111111111111111','1')\",\n",
       " '_iii': 's_copy',\n",
       " '_i1': \"x=list(zip([1,3,1,3],('pram','dorie','kayak','canoe')))\",\n",
       " 'x': [53, 69, ['A', 'B', 'C']],\n",
       " '_i2': 'x',\n",
       " '_2': [(1, 'pram'), (3, 'dorie'), (1, 'kayak'), (3, 'canoe')],\n",
       " '_i3': \"list(zip([1,3,1,3],('pram','dorie','kayak')))\",\n",
       " '_3': [(1, 'pram'), (3, 'dorie'), (1, 'kayak')],\n",
       " '_i4': 'sorted(x)',\n",
       " '_4': [(1, 'kayak'), (1, 'pram'), (3, 'canoe'), (3, 'dorie')],\n",
       " '_i5': 'def swap(t):\\n    return t[1],t[0]',\n",
       " 'swap': <function __main__.swap(t)>,\n",
       " '_i6': 'sorted(x,key=swap)',\n",
       " '_6': [(3, 'canoe'), (3, 'dorie'), (1, 'kayak'), (1, 'pram')],\n",
       " '_i7': \"sorted(['1.3',-7.5,'5','4',-2.4,1])\",\n",
       " '_i8': \"sorted(['1.3',-7.5,'5','4',-2.4,1])\",\n",
       " '_i9': 'songs',\n",
       " '_i10': \"sorted(['1.3',-7.5,'5','4',-2.4,1])\",\n",
       " '_i11': 'Out',\n",
       " '_i12': \"songs=['Because','Boys','Carol']\",\n",
       " 'songs': ['Because', 'Boys'],\n",
       " '_i13': 'beatles=songs',\n",
       " 'beatles': ['Because', 1],\n",
       " '_i14': 'beatles',\n",
       " '_14': ['Because', 'Boys'],\n",
       " '_i15': 'songs',\n",
       " '_15': ['Because', 'Boys'],\n",
       " '_i16': 'songs.pop()',\n",
       " '_16': 'Carol',\n",
       " '_i17': 'songs',\n",
       " '_17': ['Because', 'Boys'],\n",
       " '_i18': 'beatles',\n",
       " '_18': ['Because', 'Boys'],\n",
       " '_i19': 'beatles=songs[:]',\n",
       " '_i20': 'beatles',\n",
       " '_20': ['Because', 1],\n",
       " '_i21': 'songs',\n",
       " '_21': ['Because', 'Boys'],\n",
       " '_i22': 'beatles[1]=1',\n",
       " '_i23': 'beatles',\n",
       " '_23': ['Because', 1],\n",
       " '_i24': 'songs',\n",
       " '_24': ['Because', 'Boys'],\n",
       " '_i25': \"x=[53,69,['A','B','C']]\",\n",
       " '_i26': 'y=x[:]',\n",
       " 'y': [53, 69, ['Q', 'B', 'C']],\n",
       " '_i27': 'x,y',\n",
       " '_27': ([53, 69, ['A', 'B', 'C']], [53, 40, ['A', 'B', 'C']]),\n",
       " '_i28': 'y[1]=40',\n",
       " '_i29': 'x',\n",
       " '_29': [53, 69, ['A', 'B', 'C']],\n",
       " '_i30': 'y',\n",
       " '_30': [53, 40, ['A', 'B', 'C']],\n",
       " '_i31': \"x[2][0]='Q'\",\n",
       " '_i32': 'x,y',\n",
       " '_32': ([53, 69, ['A', 'B', 'C']], [53, 40, ['A', 'B', 'C']]),\n",
       " '_i33': 'import copy',\n",
       " 'copy': <module 'copy' from 'D:\\\\program\\\\Anaconda3\\\\envs\\\\ML\\\\lib\\\\copy.py'>,\n",
       " '_i34': 'y=copy.deepcopy(x)',\n",
       " '_i35': 'x,y',\n",
       " '_35': ([53, 69, ['A', 'B', 'C']], [53, 69, ['Q', 'B', 'C']]),\n",
       " '_i36': \"x[2][0]='A'\",\n",
       " '_i37': 'x,y',\n",
       " '_37': ([53, 69, ['A', 'B', 'C']], [53, 69, ['Q', 'B', 'C']]),\n",
       " '_i38': 'def exgcd(a,b):\\n    if b==0:\\n        x=1\\n        y=0\\n        return a,x,y\\n    \\n    ret=exgcd(b,a%b)\\n    x,y=ret[2],ret[1]-a//b*ret[2]\\n    return ret[0],x,y',\n",
       " 'exgcd': <function __main__.exgcd(a, b)>,\n",
       " '_i39': 'ans=exgcd(3,4)',\n",
       " 'ans': (1, -1, 1),\n",
       " '_i40': 'ans',\n",
       " '_40': (1, -1, 1),\n",
       " '_i41': '%%time\\nexgcd(95959555555555555555555555555555555555555555,30000001111111111110000000000000)',\n",
       " '_41': (5,\n",
       "  -2526053212881251134000000000009,\n",
       "  8079964488000990090496750888593606440625567),\n",
       " '_i42': 'import collections',\n",
       " 'collections': <module 'collections' from 'D:\\\\program\\\\Anaconda3\\\\envs\\\\ML\\\\lib\\\\collections\\\\__init__.py'>,\n",
       " '_i43': \"students=collections.namedtuple('User',['username','number','age'])\",\n",
       " 'students': __main__.User,\n",
       " '_i44': \"students('ni',121,'dasd')\",\n",
       " '_44': User(username='ni', number=121, age='dasd'),\n",
       " '_i45': 'students(1,2,3)',\n",
       " '_45': User(username=1, number=2, age=3),\n",
       " '_i46': \"s='buct'\",\n",
       " 's': 'buct',\n",
       " '_i47': 's',\n",
       " '_47': 'buct',\n",
       " '_i48': 's_copy=s[:]',\n",
       " 's_copy': 'buct',\n",
       " '_i49': \"s_copy.replace('b','a')\",\n",
       " '_49': 'auct',\n",
       " '_i50': 's_copy',\n",
       " '_50': 'buct',\n",
       " '_i51': \"'{0:10},{1}'.format('01111111111111111111111111111','1')\",\n",
       " '_51': '01111111111111111111111111111,1',\n",
       " '_i52': \"'{0:<10},{1}'.format('01111111111111111111111111111','1')\",\n",
       " '_52': '01111111111111111111111111111,1',\n",
       " '_i53': 'locals()'}"
      ]
     },
     "execution_count": 53,
     "metadata": {},
     "output_type": "execute_result"
    }
   ],
   "source": [
    "locals()"
   ]
  },
  {
   "cell_type": "code",
   "execution_count": 54,
   "metadata": {},
   "outputs": [
    {
     "name": "stdout",
     "output_type": "stream",
     "text": [
      "__main__\n"
     ]
    }
   ],
   "source": [
    "print('{__name__}'.format(**locals()))"
   ]
  },
  {
   "cell_type": "code",
   "execution_count": 55,
   "metadata": {},
   "outputs": [
    {
     "data": {
      "text/plain": [
       "1"
      ]
     },
     "execution_count": 55,
     "metadata": {},
     "output_type": "execute_result"
    }
   ],
   "source": [
    "students(1,2,3)[0]"
   ]
  },
  {
   "cell_type": "code",
   "execution_count": 56,
   "metadata": {},
   "outputs": [],
   "source": [
    "import sys\n",
    "offset=20 if sys.platform.startswith(\"win\") else 10"
   ]
  },
  {
   "cell_type": "code",
   "execution_count": 57,
   "metadata": {},
   "outputs": [
    {
     "data": {
      "text/plain": [
       "20"
      ]
     },
     "execution_count": 57,
     "metadata": {},
     "output_type": "execute_result"
    }
   ],
   "source": [
    "offset"
   ]
  },
  {
   "cell_type": "markdown",
   "metadata": {},
   "source": [
    "Exceptions are caught using `try... except` blocks, whose general syntax is:\n",
    "\n",
    "```python\n",
    "try:\n",
    "    try_suite\n",
    "except exception_group1 as variable1:\n",
    "    except_suite1\n",
    "...\n",
    "except exception_groupN as variableN:\n",
    "    except_suiteN\n",
    "else:\n",
    "    else_suite\n",
    "finally:\n",
    "    finally_suite\n",
    "```\n",
    "\n",
    "There must be at least one except block, but both the `else` and the `finally` blocks are optional. The `else` block’s suite is executed when the `try` block’s suite has finished normally—but it is not executed if an exception occurs. If there is a `finally` block, it is always executed at the end."
   ]
  },
  {
   "attachments": {
    "%E5%9B%BE%E7%89%87.png": {
     "image/png": "[encoded data removed]"
    }
   },
   "cell_type": "markdown",
   "metadata": {},
   "source": [
    "![%E5%9B%BE%E7%89%87.png](attachment:%E5%9B%BE%E7%89%87.png)"
   ]
  },
  {
   "cell_type": "markdown",
   "metadata": {},
   "source": [
    "It is also possible to write `except:`, that is, to have no exception group at all. An `except` block like this will catch any exception, including those that inherit `BaseException` but not `Exception` (these are not shown in Figure 4.1). This has the same problems as using except Exception, only worse, and should never normally be done."
   ]
  },
  {
   "attachments": {
    "%E5%9B%BE%E7%89%87.png": {
     "image/png": "[encoded data removed]"
    }
   },
   "cell_type": "markdown",
   "metadata": {},
   "source": [
    "![%E5%9B%BE%E7%89%87.png](attachment:%E5%9B%BE%E7%89%87.png)"
   ]
  },
  {
   "cell_type": "code",
   "execution_count": 64,
   "metadata": {},
   "outputs": [],
   "source": [
    "def list_find(lst,target):\n",
    "    try:\n",
    "        index=lst.index(target)\n",
    "    except ValueError:\n",
    "        index=-1\n",
    "    return index"
   ]
  },
  {
   "cell_type": "code",
   "execution_count": 65,
   "metadata": {},
   "outputs": [],
   "source": [
    "test_list=[1,3,5,7]"
   ]
  },
  {
   "cell_type": "code",
   "execution_count": 66,
   "metadata": {},
   "outputs": [
    {
     "data": {
      "text/plain": [
       "-1"
      ]
     },
     "execution_count": 66,
     "metadata": {},
     "output_type": "execute_result"
    }
   ],
   "source": [
    "list_find(test_list,2)"
   ]
  },
  {
   "cell_type": "code",
   "execution_count": 67,
   "metadata": {},
   "outputs": [
    {
     "ename": "ValueError",
     "evalue": "2 is not in list",
     "output_type": "error",
     "traceback": [
      "\u001b[1;31m---------------------------------------------------------------------------\u001b[0m",
      "\u001b[1;31mValueError\u001b[0m                                Traceback (most recent call last)",
      "\u001b[1;32m<ipython-input-67-0a42bfad7aa2>\u001b[0m in \u001b[0;36m<module>\u001b[1;34m\u001b[0m\n\u001b[1;32m----> 1\u001b[1;33m \u001b[0mtest_list\u001b[0m\u001b[1;33m.\u001b[0m\u001b[0mindex\u001b[0m\u001b[1;33m(\u001b[0m\u001b[1;36m2\u001b[0m\u001b[1;33m)\u001b[0m\u001b[1;33m\u001b[0m\u001b[0m\n\u001b[0m",
      "\u001b[1;31mValueError\u001b[0m: 2 is not in list"
     ]
    }
   ],
   "source": [
    "test_list.index(2)"
   ]
  },
  {
   "cell_type": "code",
   "execution_count": 68,
   "metadata": {},
   "outputs": [],
   "source": [
    "s='sdadsa'"
   ]
  },
  {
   "cell_type": "code",
   "execution_count": 69,
   "metadata": {},
   "outputs": [
    {
     "data": {
      "text/plain": [
       "'sdadsa'"
      ]
     },
     "execution_count": 69,
     "metadata": {},
     "output_type": "execute_result"
    }
   ],
   "source": [
    "s.strip()"
   ]
  },
  {
   "cell_type": "code",
   "execution_count": 154,
   "metadata": {},
   "outputs": [
    {
     "name": "stdout",
     "output_type": "stream",
     "text": [
      "140728378050576\n",
      "140728378050576\n",
      "ok\n",
      "elsef\n",
      "[Errno 2] No such file or directory: 'a.md'\n",
      "140728378050576\n",
      "end\n"
     ]
    },
    {
     "data": {
      "text/plain": [
       "1"
      ]
     },
     "execution_count": 154,
     "metadata": {},
     "output_type": "execute_result"
    }
   ],
   "source": [
    "def Test():\n",
    "    f=None\n",
    "    print(id(f))\n",
    "    try:\n",
    "        print(id(f))\n",
    "        f=open('a.md')\n",
    "        print(id(f))\n",
    "#         for line in f:\n",
    "#             print(line)\n",
    "\n",
    "    except (IOError,OSError) as err:\n",
    "        print('ok')\n",
    "        if f:\n",
    "            print('f')\n",
    "        else:\n",
    "            print('elsef')\n",
    "        print(err)\n",
    "    finally:\n",
    "        print(id(f))\n",
    "        print('end')\n",
    "        return 1\n",
    "Test()"
   ]
  },
  {
   "cell_type": "code",
   "execution_count": 149,
   "metadata": {},
   "outputs": [
    {
     "name": "stdout",
     "output_type": "stream",
     "text": [
      "end\n"
     ]
    },
    {
     "ename": "UnboundLocalError",
     "evalue": "local variable 'f' referenced before assignment",
     "output_type": "error",
     "traceback": [
      "\u001b[1;31m---------------------------------------------------------------------------\u001b[0m",
      "\u001b[1;31mFileNotFoundError\u001b[0m                         Traceback (most recent call last)",
      "\u001b[1;32m<ipython-input-149-c34973330f85>\u001b[0m in \u001b[0;36mTest2\u001b[1;34m()\u001b[0m\n\u001b[0;32m      2\u001b[0m     \u001b[1;32mtry\u001b[0m\u001b[1;33m:\u001b[0m\u001b[1;33m\u001b[0m\u001b[0m\n\u001b[1;32m----> 3\u001b[1;33m         \u001b[0mf\u001b[0m\u001b[1;33m=\u001b[0m\u001b[0mopen\u001b[0m\u001b[1;33m(\u001b[0m\u001b[1;34m'a.md'\u001b[0m\u001b[1;33m)\u001b[0m\u001b[1;33m\u001b[0m\u001b[0m\n\u001b[0m\u001b[0;32m      4\u001b[0m \u001b[1;33m\u001b[0m\u001b[0m\n",
      "\u001b[1;31mFileNotFoundError\u001b[0m: [Errno 2] No such file or directory: 'a.md'",
      "\nDuring handling of the above exception, another exception occurred:\n",
      "\u001b[1;31mUnboundLocalError\u001b[0m                         Traceback (most recent call last)",
      "\u001b[1;32m<ipython-input-149-c34973330f85>\u001b[0m in \u001b[0;36m<module>\u001b[1;34m\u001b[0m\n\u001b[0;32m     15\u001b[0m     \u001b[1;32mfinally\u001b[0m\u001b[1;33m:\u001b[0m\u001b[1;33m\u001b[0m\u001b[0m\n\u001b[0;32m     16\u001b[0m         \u001b[0mprint\u001b[0m\u001b[1;33m(\u001b[0m\u001b[1;34m'end'\u001b[0m\u001b[1;33m)\u001b[0m\u001b[1;33m\u001b[0m\u001b[0m\n\u001b[1;32m---> 17\u001b[1;33m \u001b[0mTest2\u001b[0m\u001b[1;33m(\u001b[0m\u001b[1;33m)\u001b[0m\u001b[1;33m\u001b[0m\u001b[0m\n\u001b[0m",
      "\u001b[1;32m<ipython-input-149-c34973330f85>\u001b[0m in \u001b[0;36mTest2\u001b[1;34m()\u001b[0m\n\u001b[0;32m      8\u001b[0m     \u001b[1;32mexcept\u001b[0m \u001b[1;33m(\u001b[0m\u001b[0mIOError\u001b[0m\u001b[1;33m,\u001b[0m\u001b[0mOSError\u001b[0m\u001b[1;33m)\u001b[0m \u001b[1;32mas\u001b[0m \u001b[0merr\u001b[0m\u001b[1;33m:\u001b[0m\u001b[1;33m\u001b[0m\u001b[0m\n\u001b[0;32m      9\u001b[0m \u001b[1;33m\u001b[0m\u001b[0m\n\u001b[1;32m---> 10\u001b[1;33m         \u001b[1;32mif\u001b[0m \u001b[0mf\u001b[0m\u001b[1;33m:\u001b[0m\u001b[1;33m\u001b[0m\u001b[0m\n\u001b[0m\u001b[0;32m     11\u001b[0m             \u001b[0mprint\u001b[0m\u001b[1;33m(\u001b[0m\u001b[1;34m'f'\u001b[0m\u001b[1;33m)\u001b[0m\u001b[1;33m\u001b[0m\u001b[0m\n\u001b[0;32m     12\u001b[0m         \u001b[1;32melse\u001b[0m\u001b[1;33m:\u001b[0m\u001b[1;33m\u001b[0m\u001b[0m\n",
      "\u001b[1;31mUnboundLocalError\u001b[0m: local variable 'f' referenced before assignment"
     ]
    }
   ],
   "source": [
    "def Test2():\n",
    "    try:\n",
    "        f=open('a.md')\n",
    "        \n",
    "        for line in f:\n",
    "            print(line)\n",
    "        \n",
    "    except (IOError,OSError) as err:\n",
    "        \n",
    "        if f:\n",
    "            print('f')\n",
    "        else:\n",
    "            print('elsef')\n",
    "        print(err)\n",
    "    finally:\n",
    "        print('end')\n",
    "Test2()"
   ]
  },
  {
   "cell_type": "code",
   "execution_count": 157,
   "metadata": {},
   "outputs": [],
   "source": [
    "if frozenset():\n",
    "    print('ok')"
   ]
  },
  {
   "cell_type": "markdown",
   "metadata": {},
   "source": [
    "When default values are given they are created at the time the `def` statementis executed (i.e., when the function is created), not when the function is called. For immutable arguments like numbers and strings this doesn’t make any difference, but for mutable argumentsa subtle trap is lurking.\n",
    "\n",
    "```python\n",
    "def append_if_even(x,lst=[]): #WRONG\n",
    "\n",
    "    if x%2==0:\n",
    "        lst.append(x)\n",
    "    return lst\n",
    "\n",
    "```\n",
    "When this function is created the lst parameter is set to refer to a new list. And whenever this function is called with just the first parameter, the default list will be the one that was created at the same time as the function itself—so no new list is created. Normally, this is not the behavior we want—we expect a new empty list to be created each time the function is called with no second argument. Here is a new version of the function, this time using the correct idiom for default mutable arguments:"
   ]
  },
  {
   "cell_type": "code",
   "execution_count": 165,
   "metadata": {},
   "outputs": [],
   "source": [
    "def append_if_even(x,lst=[]):\n",
    "    lst.append(100)\n",
    "    for item in lst:\n",
    "        print(item)\n",
    "    if x%2==0:\n",
    "        lst.append(x)\n",
    "    return lst"
   ]
  },
  {
   "cell_type": "code",
   "execution_count": 166,
   "metadata": {},
   "outputs": [
    {
     "name": "stdout",
     "output_type": "stream",
     "text": [
      "100\n"
     ]
    },
    {
     "data": {
      "text/plain": [
       "[100, 2]"
      ]
     },
     "execution_count": 166,
     "metadata": {},
     "output_type": "execute_result"
    }
   ],
   "source": [
    "append_if_even(2)"
   ]
  },
  {
   "cell_type": "code",
   "execution_count": 167,
   "metadata": {},
   "outputs": [
    {
     "name": "stdout",
     "output_type": "stream",
     "text": [
      "100\n",
      "2\n",
      "100\n"
     ]
    },
    {
     "data": {
      "text/plain": [
       "[100, 2, 100]"
      ]
     },
     "execution_count": 167,
     "metadata": {},
     "output_type": "execute_result"
    }
   ],
   "source": [
    "append_if_even(1)"
   ]
  },
  {
   "cell_type": "code",
   "execution_count": 174,
   "metadata": {},
   "outputs": [],
   "source": [
    "def change_if_even(x,lst='a'):\n",
    "    print(lst)\n",
    "    lst='b'\n",
    "    return lst"
   ]
  },
  {
   "cell_type": "code",
   "execution_count": 175,
   "metadata": {},
   "outputs": [
    {
     "name": "stdout",
     "output_type": "stream",
     "text": [
      "a\n"
     ]
    },
    {
     "data": {
      "text/plain": [
       "'b'"
      ]
     },
     "execution_count": 175,
     "metadata": {},
     "output_type": "execute_result"
    }
   ],
   "source": [
    "change_if_even(2)"
   ]
  },
  {
   "cell_type": "code",
   "execution_count": 176,
   "metadata": {},
   "outputs": [
    {
     "name": "stdout",
     "output_type": "stream",
     "text": [
      "a\n"
     ]
    },
    {
     "data": {
      "text/plain": [
       "'b'"
      ]
     },
     "execution_count": 176,
     "metadata": {},
     "output_type": "execute_result"
    }
   ],
   "source": [
    "change_if_even(1)"
   ]
  },
  {
   "cell_type": "code",
   "execution_count": null,
   "metadata": {},
   "outputs": [],
   "source": []
  }
 ],
 "metadata": {
  "kernelspec": {
   "display_name": "Python 3",
   "language": "python",
   "name": "python3"
  },
  "language_info": {
   "codemirror_mode": {
    "name": "ipython",
    "version": 3
   },
   "file_extension": ".py",
   "mimetype": "text/x-python",
   "name": "python",
   "nbconvert_exporter": "python",
   "pygments_lexer": "ipython3",
   "version": "3.7.0"
  }
 },
 "nbformat": 4,
 "nbformat_minor": 2
}
