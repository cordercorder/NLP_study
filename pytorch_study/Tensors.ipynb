{
 "cells": [
  {
   "cell_type": "code",
   "execution_count": 1,
   "metadata": {},
   "outputs": [],
   "source": [
    "import torch"
   ]
  },
  {
   "cell_type": "code",
   "execution_count": 2,
   "metadata": {},
   "outputs": [],
   "source": [
    "tmp = torch.randn(size=(2, 3))"
   ]
  },
  {
   "cell_type": "code",
   "execution_count": 3,
   "metadata": {},
   "outputs": [
    {
     "data": {
      "text/plain": [
       "device(type='cpu')"
      ]
     },
     "execution_count": 3,
     "metadata": {},
     "output_type": "execute_result"
    }
   ],
   "source": [
    "tmp.device"
   ]
  },
  {
   "cell_type": "code",
   "execution_count": 4,
   "metadata": {},
   "outputs": [],
   "source": [
    "N, D_in, H, D_out = 64, 1000, 100, 10"
   ]
  },
  {
   "cell_type": "code",
   "execution_count": 24,
   "metadata": {},
   "outputs": [],
   "source": [
    "x = torch.randn(size=(N, D_in))"
   ]
  },
  {
   "cell_type": "code",
   "execution_count": 25,
   "metadata": {},
   "outputs": [],
   "source": [
    "y = torch.randn(size=(N, D_out))"
   ]
  },
  {
   "cell_type": "code",
   "execution_count": 26,
   "metadata": {},
   "outputs": [],
   "source": [
    "w1 = torch.randn(size=(D_in, H))\n",
    "w2 = torch.randn(size=(H, D_out))"
   ]
  },
  {
   "cell_type": "code",
   "execution_count": 27,
   "metadata": {},
   "outputs": [],
   "source": [
    "lr = 0.0001"
   ]
  },
  {
   "cell_type": "code",
   "execution_count": 29,
   "metadata": {},
   "outputs": [
    {
     "name": "stdout",
     "output_type": "stream",
     "text": [
      "epoch:0, loss:34934628.0\n",
      "epoch:100, loss:33564656.0\n",
      "epoch:200, loss:32248402.0\n",
      "epoch:300, loss:30983766.0\n",
      "epoch:400, loss:29768724.0\n",
      "epoch:500, loss:28601324.0\n",
      "epoch:600, loss:27479704.0\n",
      "epoch:700, loss:26402070.0\n",
      "epoch:800, loss:25366696.0\n",
      "epoch:900, loss:24371922.0\n",
      "epoch:1000, loss:23416158.0\n",
      "epoch:1100, loss:22497876.0\n",
      "epoch:1200, loss:21615600.0\n",
      "epoch:1300, loss:20767924.0\n",
      "epoch:1400, loss:19953490.0\n",
      "epoch:1500, loss:19170992.0\n",
      "epoch:1600, loss:18419180.0\n",
      "epoch:1700, loss:17696854.0\n",
      "epoch:1800, loss:17002850.0\n",
      "epoch:1900, loss:16336064.0\n",
      "epoch:2000, loss:15695425.0\n",
      "epoch:2100, loss:15079908.0\n",
      "epoch:2200, loss:14488530.0\n",
      "epoch:2300, loss:13920341.0\n",
      "epoch:2400, loss:13374436.0\n",
      "epoch:2500, loss:12849936.0\n",
      "epoch:2600, loss:12346009.0\n",
      "epoch:2700, loss:11861839.0\n",
      "epoch:2800, loss:11396660.0\n",
      "epoch:2900, loss:10949722.0\n",
      "epoch:3000, loss:10520310.0\n",
      "epoch:3100, loss:10107738.0\n",
      "epoch:3200, loss:9711346.0\n",
      "epoch:3300, loss:9330498.0\n",
      "epoch:3400, loss:8964586.0\n",
      "epoch:3500, loss:8613023.0\n",
      "epoch:3600, loss:8275248.0\n",
      "epoch:3700, loss:7950718.0\n",
      "epoch:3800, loss:7638916.0\n",
      "epoch:3900, loss:7339341.0\n",
      "epoch:4000, loss:7051514.5\n",
      "epoch:4100, loss:6774976.5\n",
      "epoch:4200, loss:6509282.0\n",
      "epoch:4300, loss:6254007.0\n",
      "epoch:4400, loss:6008744.0\n",
      "epoch:4500, loss:5773098.5\n",
      "epoch:4600, loss:5546695.5\n",
      "epoch:4700, loss:5329170.5\n",
      "epoch:4800, loss:5120176.5\n",
      "epoch:4900, loss:4919378.5\n"
     ]
    }
   ],
   "source": [
    "for epoch in range(5000):\n",
    "    h1 = torch.matmul(x, w1)\n",
    "    h_relu = torch.clamp(h1, min=0)\n",
    "    y_out = torch.matmul(h_relu, w2)\n",
    "    \n",
    "    loss = (y_out - y)\n",
    "    \n",
    "    loss = torch.sum(torch.mul(loss, loss))\n",
    "    \n",
    "    if epoch % 100 == 0:\n",
    "        print(\"epoch:{}, loss:{}\".format(epoch, loss))\n",
    "    \n",
    "    grad_y_out = (y_out - y) * 2.0\n",
    "    grad_w2 = h_relu.t().matmul(grad_y_out)\n",
    "    \n",
    "    grad_h_relu = grad_y_out.matmul(w2.t())\n",
    "    grad_h1 = grad_h_relu.clone()\n",
    "    \n",
    "    grad_h1[grad_h1 < 0] = 0\n",
    "    grad_w1 = x.t().matmul(grad_h1)\n",
    "    \n",
    "    w1 -= lr * w1\n",
    "    w2 -= lr * w2"
   ]
  },
  {
   "cell_type": "code",
   "execution_count": null,
   "metadata": {},
   "outputs": [],
   "source": []
  }
 ],
 "metadata": {
  "kernelspec": {
   "display_name": "Python 3",
   "language": "python",
   "name": "python3"
  },
  "language_info": {
   "codemirror_mode": {
    "name": "ipython",
    "version": 3
   },
   "file_extension": ".py",
   "mimetype": "text/x-python",
   "name": "python",
   "nbconvert_exporter": "python",
   "pygments_lexer": "ipython3",
   "version": "3.7.7"
  }
 },
 "nbformat": 4,
 "nbformat_minor": 4
}
