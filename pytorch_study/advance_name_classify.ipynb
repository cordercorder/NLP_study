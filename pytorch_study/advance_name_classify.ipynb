{
 "cells": [
  {
   "cell_type": "code",
   "execution_count": 184,
   "metadata": {},
   "outputs": [],
   "source": [
    "from __future__ import unicode_literals, print_function, division\n",
    "import sys\n",
    "import glob\n",
    "import os\n",
    "import torch\n",
    "import torch.nn as nn\n",
    "import random\n",
    "import time\n",
    "import numpy as np"
   ]
  },
  {
   "cell_type": "code",
   "execution_count": 185,
   "metadata": {},
   "outputs": [],
   "source": [
    "gpu_id = \"2\"\n",
    "device = torch.device(\"cuda:\" + gpu_id if torch.cuda.is_available() else \"cpu\")"
   ]
  },
  {
   "cell_type": "code",
   "execution_count": 186,
   "metadata": {},
   "outputs": [
    {
     "data": {
      "text/plain": [
       "device(type='cuda', index=2)"
      ]
     },
     "execution_count": 186,
     "metadata": {},
     "output_type": "execute_result"
    }
   ],
   "source": [
    "device"
   ]
  },
  {
   "cell_type": "code",
   "execution_count": 187,
   "metadata": {},
   "outputs": [],
   "source": [
    "def findFiles(path):\n",
    "    \n",
    "    return glob.glob(path)"
   ]
  },
  {
   "cell_type": "code",
   "execution_count": 188,
   "metadata": {},
   "outputs": [
    {
     "data": {
      "text/plain": [
       "['../data/names/Vietnamese.txt',\n",
       " '../data/names/Spanish.txt',\n",
       " '../data/names/Scottish.txt',\n",
       " '../data/names/Russian.txt',\n",
       " '../data/names/Portuguese.txt',\n",
       " '../data/names/Polish.txt',\n",
       " '../data/names/Korean.txt',\n",
       " '../data/names/Japanese.txt',\n",
       " '../data/names/Italian.txt',\n",
       " '../data/names/Irish.txt',\n",
       " '../data/names/Greek.txt',\n",
       " '../data/names/German.txt',\n",
       " '../data/names/French.txt',\n",
       " '../data/names/English.txt',\n",
       " '../data/names/Dutch.txt',\n",
       " '../data/names/Czech.txt',\n",
       " '../data/names/Chinese.txt',\n",
       " '../data/names/Arabic.txt']"
      ]
     },
     "execution_count": 188,
     "metadata": {},
     "output_type": "execute_result"
    }
   ],
   "source": [
    "findFiles(\"../data/names/*.txt\")"
   ]
  },
  {
   "cell_type": "code",
   "execution_count": 189,
   "metadata": {},
   "outputs": [],
   "source": [
    "import unicodedata\n",
    "import string"
   ]
  },
  {
   "cell_type": "code",
   "execution_count": 190,
   "metadata": {},
   "outputs": [],
   "source": [
    "all_letters = string.ascii_letters + \".,;'\""
   ]
  },
  {
   "cell_type": "code",
   "execution_count": 191,
   "metadata": {},
   "outputs": [
    {
     "data": {
      "text/plain": [
       "\"abcdefghijklmnopqrstuvwxyzABCDEFGHIJKLMNOPQRSTUVWXYZ.,;'\""
      ]
     },
     "execution_count": 191,
     "metadata": {},
     "output_type": "execute_result"
    }
   ],
   "source": [
    "all_letters"
   ]
  },
  {
   "cell_type": "code",
   "execution_count": 192,
   "metadata": {},
   "outputs": [],
   "source": [
    "n_letters = len(all_letters)"
   ]
  },
  {
   "cell_type": "code",
   "execution_count": 193,
   "metadata": {},
   "outputs": [],
   "source": [
    "def unicodeToAscii(s):\n",
    "    \n",
    "    return \"\".join([c for c in unicodedata.normalize(\"NFD\", s) if unicodedata.category(c) != \"Mn\" and c in all_letters])"
   ]
  },
  {
   "cell_type": "code",
   "execution_count": 194,
   "metadata": {},
   "outputs": [
    {
     "data": {
      "text/plain": [
       "'Slusarski'"
      ]
     },
     "execution_count": 194,
     "metadata": {},
     "output_type": "execute_result"
    }
   ],
   "source": [
    "unicodeToAscii(\"Ślusàrski  \")"
   ]
  },
  {
   "cell_type": "code",
   "execution_count": 195,
   "metadata": {},
   "outputs": [],
   "source": [
    "def readlines(path):\n",
    "    \n",
    "    with open(path) as f:\n",
    "        \n",
    "        data = f.read().split(\"\\n\")\n",
    "        \n",
    "        return [unicodeToAscii(line) for line in data if len(line) > 0]"
   ]
  },
  {
   "cell_type": "code",
   "execution_count": 196,
   "metadata": {},
   "outputs": [],
   "source": [
    "from collections import defaultdict"
   ]
  },
  {
   "cell_type": "code",
   "execution_count": 305,
   "metadata": {},
   "outputs": [],
   "source": [
    "all_categorys = set()\n",
    "category_lines = defaultdict(lambda : list())"
   ]
  },
  {
   "cell_type": "code",
   "execution_count": 306,
   "metadata": {},
   "outputs": [],
   "source": [
    "for filename in findFiles(\"../data/names/*.txt\"):\n",
    "    category = os.path.splitext(os.path.basename(filename))[0]\n",
    "    all_categorys.add(category)\n",
    "    lines = readlines(filename)\n",
    "    \n",
    "    for line in lines:\n",
    "        category_lines[category].append(line)"
   ]
  },
  {
   "cell_type": "code",
   "execution_count": 307,
   "metadata": {},
   "outputs": [],
   "source": [
    "n_categorys = len(all_categorys)"
   ]
  },
  {
   "cell_type": "code",
   "execution_count": 308,
   "metadata": {},
   "outputs": [
    {
     "data": {
      "text/plain": [
       "18"
      ]
     },
     "execution_count": 308,
     "metadata": {},
     "output_type": "execute_result"
    }
   ],
   "source": [
    "n_categorys"
   ]
  },
  {
   "cell_type": "code",
   "execution_count": 309,
   "metadata": {},
   "outputs": [
    {
     "data": {
      "text/plain": [
       "['Abandonato', 'Abatangelo', 'Abatantuono', 'Abate', 'Abategiovanni']"
      ]
     },
     "execution_count": 309,
     "metadata": {},
     "output_type": "execute_result"
    }
   ],
   "source": [
    "category_lines[\"Italian\"][:5]"
   ]
  },
  {
   "cell_type": "code",
   "execution_count": 310,
   "metadata": {},
   "outputs": [],
   "source": [
    "all_categorys = list(all_categorys)"
   ]
  },
  {
   "cell_type": "code",
   "execution_count": 311,
   "metadata": {},
   "outputs": [],
   "source": [
    "letter2index = defaultdict(lambda : len(letter2index))"
   ]
  },
  {
   "cell_type": "code",
   "execution_count": 312,
   "metadata": {},
   "outputs": [],
   "source": [
    "category2index = defaultdict(lambda : len(category2index))"
   ]
  },
  {
   "cell_type": "code",
   "execution_count": 313,
   "metadata": {},
   "outputs": [],
   "source": [
    "def lines2index(category_lines):\n",
    "    data = []\n",
    "    \n",
    "    for category, lines in category_lines.items():\n",
    "        \n",
    "        category_index = category2index[category]\n",
    "        \n",
    "        for line in lines:\n",
    "            \n",
    "            lines_index = [letter2index[letter] for letter in line]\n",
    "            data.append([lines_index, category_index])\n",
    "    \n",
    "    return data"
   ]
  },
  {
   "cell_type": "code",
   "execution_count": 314,
   "metadata": {},
   "outputs": [],
   "source": [
    "data = lines2index(category_lines) # (name_length, ), (1, )"
   ]
  },
  {
   "cell_type": "code",
   "execution_count": 315,
   "metadata": {},
   "outputs": [],
   "source": [
    "data = np.asarray(data)"
   ]
  },
  {
   "cell_type": "code",
   "execution_count": 316,
   "metadata": {},
   "outputs": [
    {
     "data": {
      "text/plain": [
       "array([[list([0, 1, 2, 3, 4, 5]), 0],\n",
       "       [list([6, 7, 8, 5]), 0],\n",
       "       [list([9, 4]), 0],\n",
       "       [list([10, 11, 12, 13]), 0],\n",
       "       [list([14, 2, 3, 5, 11]), 0]], dtype=object)"
      ]
     },
     "execution_count": 316,
     "metadata": {},
     "output_type": "execute_result"
    }
   ],
   "source": [
    "data[:5]"
   ]
  },
  {
   "cell_type": "code",
   "execution_count": 317,
   "metadata": {},
   "outputs": [],
   "source": [
    "pad_tok = \"#\"\n",
    "pad_tok_index = letter2index[pad_tok]"
   ]
  },
  {
   "cell_type": "code",
   "execution_count": 318,
   "metadata": {},
   "outputs": [
    {
     "data": {
      "text/plain": [
       "defaultdict(<function __main__.<lambda>()>,\n",
       "            {'N': 0,\n",
       "             'g': 1,\n",
       "             'u': 2,\n",
       "             'y': 3,\n",
       "             'e': 4,\n",
       "             'n': 5,\n",
       "             'T': 6,\n",
       "             'r': 7,\n",
       "             'o': 8,\n",
       "             'L': 9,\n",
       "             'P': 10,\n",
       "             'h': 11,\n",
       "             'a': 12,\n",
       "             'm': 13,\n",
       "             'H': 14,\n",
       "             'V': 15,\n",
       "             'D': 16,\n",
       "             'B': 17,\n",
       "             'i': 18,\n",
       "             'A': 19,\n",
       "             'c': 20,\n",
       "             'C': 21,\n",
       "             'p': 22,\n",
       "             'G': 23,\n",
       "             'K': 24,\n",
       "             'M': 25,\n",
       "             'Q': 26,\n",
       "             'S': 27,\n",
       "             'b': 28,\n",
       "             's': 29,\n",
       "             'l': 30,\n",
       "             'q': 31,\n",
       "             't': 32,\n",
       "             'z': 33,\n",
       "             'd': 34,\n",
       "             'f': 35,\n",
       "             'v': 36,\n",
       "             'j': 37,\n",
       "             'x': 38,\n",
       "             \"'\": 39,\n",
       "             'E': 40,\n",
       "             'F': 41,\n",
       "             'I': 42,\n",
       "             'J': 43,\n",
       "             'O': 44,\n",
       "             'R': 45,\n",
       "             'U': 46,\n",
       "             'Y': 47,\n",
       "             'Z': 48,\n",
       "             'w': 49,\n",
       "             'W': 50,\n",
       "             'k': 51,\n",
       "             ',': 52,\n",
       "             'X': 53,\n",
       "             '#': 54})"
      ]
     },
     "execution_count": 318,
     "metadata": {},
     "output_type": "execute_result"
    }
   ],
   "source": [
    "letter2index"
   ]
  },
  {
   "cell_type": "code",
   "execution_count": 319,
   "metadata": {},
   "outputs": [],
   "source": [
    "class SimpleRNN(nn.Module):\n",
    "    \n",
    "    def __init__(self, vocab_size, embedding_size, hidden_size, num_layers, output_size, bidirectional_=False):\n",
    "        \n",
    "        super(SimpleRNN, self).__init__()\n",
    "        \n",
    "        self.embedding = nn.Embedding(vocab_size, embedding_size) # (input_length, batch_size, embedding_size)\n",
    "        \n",
    "        self.num_layers = num_layers\n",
    "        self.hidden_size = hidden_size\n",
    "        self.bidirectional = bidirectional_\n",
    "        \"\"\"\n",
    "        Inputs input, h_0\n",
    "            input: (input_length, batch_size, embedding_size)\n",
    "            h_0: (num_layers * num_directions, batch_size, hidden_size)\n",
    "\n",
    "        Outputs: output, h_n\n",
    "        \n",
    "            output: (input_length, batch_size, num_directions * hidden_size)\n",
    "            h_n: (num_layers * num_directions, batch_size, hidden_size)\n",
    "        \"\"\"\n",
    "        \n",
    "        self.rnn_layer = nn.RNN(embedding_size, hidden_size, num_layers, bidirectional=self.bidirectional)\n",
    "        \n",
    "        self.linear = nn.Linear(2 * self.hidden_size if self.bidirectional is True else self.hidden_size, output_size)\n",
    "        \n",
    "        self.softmax = nn.Softmax(dim=1) # (batch_size, output_size)\n",
    "        \n",
    "    \n",
    "    def forward(self, inputs):\n",
    "        \n",
    "        # inputs: (input_length, batch_size)\n",
    "        \n",
    "        inputs = self.embedding(inputs) # (input_length, batch_size, embedding_size)\n",
    "        \n",
    "        outputs, hn = self.rnn_layer(inputs)\n",
    "        \n",
    "        outputs = self.linear(outputs) # (input_length, batch_size, output_size)\n",
    "        \n",
    "        outputs = self.softmax(outputs[-1]) # (batch_size, output_size)\n",
    "        \n",
    "        return outputs"
   ]
  },
  {
   "cell_type": "code",
   "execution_count": 320,
   "metadata": {},
   "outputs": [],
   "source": [
    "vocab_size = len(letter2index)\n",
    "embedding_size = 128\n",
    "hidden_size = 128\n",
    "num_layers = 2\n",
    "output_size = len(category2index)"
   ]
  },
  {
   "cell_type": "code",
   "execution_count": 321,
   "metadata": {},
   "outputs": [],
   "source": [
    "net = SimpleRNN(vocab_size, embedding_size, hidden_size, num_layers, output_size).to(device)"
   ]
  },
  {
   "cell_type": "code",
   "execution_count": 322,
   "metadata": {},
   "outputs": [
    {
     "data": {
      "text/plain": [
       "<bound method Module.modules of SimpleRNN(\n",
       "  (embedding): Embedding(55, 128)\n",
       "  (rnn_layer): RNN(128, 128, num_layers=2)\n",
       "  (linear): Linear(in_features=128, out_features=18, bias=True)\n",
       "  (softmax): Softmax()\n",
       ")>"
      ]
     },
     "execution_count": 322,
     "metadata": {},
     "output_type": "execute_result"
    }
   ],
   "source": [
    "net.modules"
   ]
  },
  {
   "cell_type": "code",
   "execution_count": 323,
   "metadata": {},
   "outputs": [
    {
     "name": "stdout",
     "output_type": "stream",
     "text": [
      "Parameter containing:\n",
      "tensor([[-0.7256, -0.3292,  1.6658,  ..., -1.8358,  0.9066, -0.4614],\n",
      "        [ 0.6432,  1.0925, -1.4965,  ..., -0.6656, -0.6227, -0.6685],\n",
      "        [-0.8342,  0.2171, -1.8185,  ...,  2.1386, -0.4259,  1.0365],\n",
      "        ...,\n",
      "        [ 0.7563, -0.5129,  0.7199,  ..., -1.9660,  0.0978, -0.2856],\n",
      "        [ 0.3793,  1.1402, -1.1903,  ..., -0.6307,  0.3732,  1.4228],\n",
      "        [ 0.7739,  0.0136,  0.0107,  ...,  0.2688,  0.9036, -0.2027]],\n",
      "       device='cuda:2', requires_grad=True)\n",
      "Parameter containing:\n",
      "tensor([[-0.0673,  0.0580,  0.0069,  ..., -0.0736,  0.0208,  0.0307],\n",
      "        [ 0.0270, -0.0217,  0.0202,  ...,  0.0832, -0.0324,  0.0402],\n",
      "        [ 0.0479, -0.0424,  0.0566,  ...,  0.0399, -0.0193,  0.0337],\n",
      "        ...,\n",
      "        [ 0.0773,  0.0219,  0.0190,  ...,  0.0607, -0.0868, -0.0544],\n",
      "        [-0.0208, -0.0708,  0.0392,  ..., -0.0402, -0.0737, -0.0437],\n",
      "        [ 0.0411,  0.0473, -0.0055,  ...,  0.0664, -0.0191, -0.0819]],\n",
      "       device='cuda:2', requires_grad=True)\n",
      "Parameter containing:\n",
      "tensor([[-0.0565,  0.0297, -0.0122,  ..., -0.0609,  0.0209,  0.0853],\n",
      "        [ 0.0624, -0.0614, -0.0708,  ...,  0.0721,  0.0607, -0.0105],\n",
      "        [-0.0289, -0.0289,  0.0273,  ..., -0.0725, -0.0559, -0.0223],\n",
      "        ...,\n",
      "        [-0.0405,  0.0058, -0.0321,  ..., -0.0628,  0.0470,  0.0401],\n",
      "        [ 0.0717,  0.0221,  0.0814,  ..., -0.0083, -0.0234, -0.0208],\n",
      "        [ 0.0589,  0.0075, -0.0309,  ..., -0.0446, -0.0144,  0.0857]],\n",
      "       device='cuda:2', requires_grad=True)\n",
      "Parameter containing:\n",
      "tensor([ 0.0006, -0.0812, -0.0577, -0.0540,  0.0621,  0.0559, -0.0452, -0.0670,\n",
      "         0.0185,  0.0306,  0.0017, -0.0652, -0.0621,  0.0867, -0.0723,  0.0836,\n",
      "         0.0196,  0.0084, -0.0112,  0.0410, -0.0221, -0.0840, -0.0320,  0.0176,\n",
      "         0.0171, -0.0007,  0.0483, -0.0057,  0.0084,  0.0814, -0.0666, -0.0233,\n",
      "         0.0186,  0.0412, -0.0384, -0.0275,  0.0418,  0.0064,  0.0139,  0.0153,\n",
      "        -0.0104, -0.0084, -0.0440, -0.0631, -0.0289, -0.0213,  0.0875, -0.0545,\n",
      "        -0.0452,  0.0224, -0.0415, -0.0322, -0.0083, -0.0671, -0.0756,  0.0594,\n",
      "        -0.0846,  0.0422,  0.0405, -0.0576,  0.0471,  0.0263, -0.0837, -0.0310,\n",
      "        -0.0816,  0.0334,  0.0507,  0.0867,  0.0220, -0.0330,  0.0588, -0.0532,\n",
      "        -0.0626, -0.0404, -0.0328, -0.0611,  0.0824,  0.0462,  0.0136, -0.0322,\n",
      "        -0.0733,  0.0373,  0.0153, -0.0031, -0.0085,  0.0703,  0.0308,  0.0519,\n",
      "         0.0119, -0.0785,  0.0536, -0.0367, -0.0400,  0.0374, -0.0721,  0.0357,\n",
      "         0.0254,  0.0177, -0.0510, -0.0394, -0.0471, -0.0617,  0.0552,  0.0249,\n",
      "        -0.0306,  0.0798, -0.0147, -0.0159,  0.0200,  0.0548,  0.0509, -0.0780,\n",
      "         0.0095, -0.0331, -0.0530,  0.0648,  0.0194,  0.0395,  0.0600, -0.0352,\n",
      "         0.0537,  0.0017,  0.0609,  0.0524, -0.0194, -0.0532, -0.0487,  0.0252],\n",
      "       device='cuda:2', requires_grad=True)\n",
      "Parameter containing:\n",
      "tensor([ 0.0243,  0.0262,  0.0778, -0.0624,  0.0588,  0.0543, -0.0446,  0.0286,\n",
      "         0.0618, -0.0165,  0.0649, -0.0333, -0.0247, -0.0014,  0.0713,  0.0842,\n",
      "        -0.0509, -0.0270, -0.0674,  0.0679,  0.0410, -0.0366, -0.0804, -0.0630,\n",
      "        -0.0809,  0.0794,  0.0841, -0.0571, -0.0261,  0.0571, -0.0219, -0.0327,\n",
      "         0.0129, -0.0362,  0.0575,  0.0615,  0.0146,  0.0569, -0.0800, -0.0019,\n",
      "         0.0100, -0.0156,  0.0661, -0.0863, -0.0121, -0.0475, -0.0255, -0.0419,\n",
      "        -0.0014,  0.0180,  0.0142, -0.0202, -0.0558, -0.0350,  0.0211,  0.0178,\n",
      "         0.0594, -0.0666, -0.0275, -0.0125, -0.0576,  0.0631, -0.0817,  0.0587,\n",
      "         0.0111,  0.0719,  0.0420, -0.0349,  0.0228, -0.0250,  0.0404,  0.0439,\n",
      "        -0.0801,  0.0863,  0.0857,  0.0322,  0.0203,  0.0845,  0.0776,  0.0492,\n",
      "        -0.0494, -0.0853,  0.0595, -0.0616,  0.0430, -0.0507,  0.0628, -0.0438,\n",
      "        -0.0859,  0.0185, -0.0294,  0.0338,  0.0766, -0.0650,  0.0540, -0.0572,\n",
      "        -0.0468, -0.0652, -0.0107,  0.0842, -0.0749,  0.0220,  0.0397, -0.0479,\n",
      "         0.0220,  0.0426, -0.0148, -0.0844, -0.0521, -0.0158,  0.0145, -0.0681,\n",
      "         0.0204, -0.0426, -0.0291,  0.0647,  0.0627, -0.0334,  0.0259,  0.0556,\n",
      "        -0.0293, -0.0021, -0.0641, -0.0460,  0.0283, -0.0493,  0.0021, -0.0086],\n",
      "       device='cuda:2', requires_grad=True)\n",
      "Parameter containing:\n",
      "tensor([[ 0.0800,  0.0798,  0.0560,  ..., -0.0744, -0.0358, -0.0852],\n",
      "        [-0.0873,  0.0513, -0.0142,  ...,  0.0145,  0.0072, -0.0834],\n",
      "        [-0.0554,  0.0412,  0.0011,  ..., -0.0376, -0.0611,  0.0330],\n",
      "        ...,\n",
      "        [ 0.0416, -0.0621,  0.0018,  ...,  0.0580, -0.0496,  0.0154],\n",
      "        [-0.0817,  0.0728, -0.0540,  ..., -0.0679, -0.0358,  0.0109],\n",
      "        [ 0.0354,  0.0143,  0.0759,  ...,  0.0658, -0.0008, -0.0758]],\n",
      "       device='cuda:2', requires_grad=True)\n",
      "Parameter containing:\n",
      "tensor([[-0.0036,  0.0133, -0.0258,  ...,  0.0040, -0.0462, -0.0207],\n",
      "        [ 0.0535,  0.0860, -0.0362,  ...,  0.0693, -0.0262,  0.0859],\n",
      "        [-0.0442,  0.0442,  0.0778,  ..., -0.0750,  0.0109, -0.0165],\n",
      "        ...,\n",
      "        [ 0.0462,  0.0533,  0.0788,  ...,  0.0211,  0.0098, -0.0140],\n",
      "        [ 0.0198, -0.0798, -0.0203,  ...,  0.0507,  0.0449,  0.0716],\n",
      "        [-0.0014,  0.0614,  0.0204,  ...,  0.0041,  0.0373,  0.0459]],\n",
      "       device='cuda:2', requires_grad=True)\n",
      "Parameter containing:\n",
      "tensor([-0.0637, -0.0212,  0.0678, -0.0278, -0.0516, -0.0178,  0.0166,  0.0359,\n",
      "        -0.0583, -0.0126, -0.0486,  0.0538,  0.0160, -0.0060,  0.0316, -0.0632,\n",
      "        -0.0079,  0.0001,  0.0463, -0.0548,  0.0070, -0.0811,  0.0717,  0.0102,\n",
      "        -0.0509, -0.0633, -0.0883, -0.0205,  0.0851, -0.0628,  0.0115,  0.0064,\n",
      "        -0.0813, -0.0882,  0.0307, -0.0875, -0.0820, -0.0731,  0.0150, -0.0820,\n",
      "        -0.0619, -0.0648,  0.0842,  0.0213,  0.0051, -0.0360,  0.0262,  0.0118,\n",
      "        -0.0880,  0.0438, -0.0106,  0.0406,  0.0530, -0.0758,  0.0607, -0.0141,\n",
      "         0.0127,  0.0388, -0.0201,  0.0255,  0.0595, -0.0705, -0.0091, -0.0101,\n",
      "         0.0626,  0.0507, -0.0193, -0.0104, -0.0474, -0.0561,  0.0302,  0.0599,\n",
      "        -0.0202,  0.0179,  0.0706, -0.0648, -0.0495,  0.0239, -0.0399,  0.0700,\n",
      "         0.0605,  0.0383, -0.0056, -0.0010,  0.0163,  0.0086, -0.0109,  0.0558,\n",
      "        -0.0707,  0.0267,  0.0815,  0.0650, -0.0283, -0.0354,  0.0083,  0.0553,\n",
      "        -0.0531, -0.0764, -0.0166, -0.0452, -0.0283,  0.0345, -0.0539,  0.0841,\n",
      "         0.0268, -0.0306, -0.0510, -0.0300,  0.0056,  0.0433,  0.0449,  0.0549,\n",
      "         0.0460,  0.0875,  0.0266, -0.0385, -0.0529,  0.0040,  0.0285, -0.0539,\n",
      "         0.0051, -0.0708,  0.0877, -0.0212, -0.0862,  0.0849,  0.0077,  0.0608],\n",
      "       device='cuda:2', requires_grad=True)\n",
      "Parameter containing:\n",
      "tensor([-0.0304,  0.0637,  0.0718, -0.0101, -0.0821, -0.0195, -0.0526, -0.0880,\n",
      "        -0.0573,  0.0868,  0.0639, -0.0340,  0.0199,  0.0238,  0.0369, -0.0463,\n",
      "         0.0702, -0.0574,  0.0843, -0.0079,  0.0880, -0.0633,  0.0484, -0.0603,\n",
      "        -0.0323,  0.0100,  0.0704, -0.0297, -0.0213, -0.0353, -0.0218,  0.0058,\n",
      "         0.0633,  0.0579, -0.0560, -0.0872, -0.0187,  0.0856,  0.0809,  0.0554,\n",
      "        -0.0451, -0.0868,  0.0078,  0.0024, -0.0705, -0.0855,  0.0281,  0.0691,\n",
      "         0.0278, -0.0166, -0.0851, -0.0118, -0.0661, -0.0569, -0.0743,  0.0059,\n",
      "         0.0045, -0.0003, -0.0328,  0.0600, -0.0194, -0.0591, -0.0498, -0.0569,\n",
      "         0.0684, -0.0396, -0.0735,  0.0520,  0.0403,  0.0520, -0.0071,  0.0833,\n",
      "         0.0372,  0.0487, -0.0875,  0.0429,  0.0849, -0.0233,  0.0364, -0.0261,\n",
      "        -0.0415, -0.0377, -0.0341,  0.0503,  0.0619, -0.0555, -0.0555, -0.0359,\n",
      "         0.0822,  0.0286, -0.0332, -0.0457, -0.0788, -0.0513,  0.0241, -0.0385,\n",
      "         0.0112, -0.0591, -0.0057,  0.0585, -0.0547,  0.0560, -0.0016, -0.0179,\n",
      "         0.0284,  0.0876,  0.0881, -0.0521,  0.0388, -0.0630,  0.0182,  0.0806,\n",
      "         0.0263,  0.0005,  0.0649, -0.0692, -0.0032,  0.0375, -0.0164, -0.0290,\n",
      "        -0.0140, -0.0281,  0.0764,  0.0860,  0.0093,  0.0344,  0.0356, -0.0843],\n",
      "       device='cuda:2', requires_grad=True)\n",
      "Parameter containing:\n",
      "tensor([[ 0.0775, -0.0462,  0.0049,  ...,  0.0855, -0.0328,  0.0575],\n",
      "        [-0.0134,  0.0267, -0.0268,  ...,  0.0415, -0.0213,  0.0832],\n",
      "        [-0.0655, -0.0304, -0.0453,  ...,  0.0763, -0.0277, -0.0445],\n",
      "        ...,\n",
      "        [-0.0836, -0.0350,  0.0879,  ..., -0.0035, -0.0844, -0.0151],\n",
      "        [-0.0855, -0.0441,  0.0159,  ..., -0.0302, -0.0741, -0.0489],\n",
      "        [ 0.0702, -0.0313, -0.0406,  ..., -0.0619,  0.0481, -0.0334]],\n",
      "       device='cuda:2', requires_grad=True)\n",
      "Parameter containing:\n",
      "tensor([ 0.0820,  0.0127, -0.0224,  0.0122, -0.0788,  0.0028, -0.0641,  0.0083,\n",
      "        -0.0879,  0.0283, -0.0405,  0.0515, -0.0354,  0.0658, -0.0308,  0.0775,\n",
      "        -0.0151,  0.0454], device='cuda:2', requires_grad=True)\n"
     ]
    }
   ],
   "source": [
    "for para in net.parameters():\n",
    "    \n",
    "    print(para)"
   ]
  },
  {
   "cell_type": "code",
   "execution_count": 324,
   "metadata": {},
   "outputs": [],
   "source": [
    "criterion = nn.NLLLoss()\n",
    "optimizer = torch.optim.Adam(net.parameters())"
   ]
  },
  {
   "cell_type": "code",
   "execution_count": 325,
   "metadata": {},
   "outputs": [],
   "source": [
    "batch_size = 8\n",
    "train_order = [x for x in range(0, len(data), batch_size)]"
   ]
  },
  {
   "cell_type": "code",
   "execution_count": 326,
   "metadata": {},
   "outputs": [],
   "source": [
    "def train_one_step(batch_name, batch_category):\n",
    "    \n",
    "    # batch_name: (batch_size, input_length)\n",
    "    # batch_category: (batch_size)\n",
    "    \n",
    "    max_length = max(len(name) for name in batch_name)\n",
    "    \n",
    "    pad_name_tensor = [] # (max_length, batch_size)\n",
    "    \n",
    "    for j in range(max_length):\n",
    "        \n",
    "        pad_name_tensor.append([name[j] if len(name) > j else pad_tok_index for name in batch_name])\n",
    "    \n",
    "    pad_name_tensor = torch.tensor(pad_name_tensor).to(device)\n",
    "    \n",
    "    batch_category_tensor = torch.tensor([category for category in batch_category]).to(device)\n",
    "    \n",
    "    outputs = net(pad_name_tensor) # (batch_size, output_size)\n",
    "    \n",
    "    pred = torch.argmax(outputs, dim=1) # (batch_size, )\n",
    "    \n",
    "    outputs = torch.log(outputs) # (batch_size, output_size)\n",
    "    \n",
    "    loss = criterion(outputs, batch_category_tensor)\n",
    "    \n",
    "    optimizer.zero_grad()\n",
    "    \n",
    "    loss_value = loss.item()\n",
    "    \n",
    "    loss.backward()\n",
    "    optimizer.step()\n",
    "        \n",
    "    return loss_value, torch.sum(pred == batch_category_tensor).item()"
   ]
  },
  {
   "cell_type": "code",
   "execution_count": 327,
   "metadata": {},
   "outputs": [],
   "source": [
    "loss_trace = []\n",
    "acc_trace = []"
   ]
  },
  {
   "cell_type": "code",
   "execution_count": 328,
   "metadata": {},
   "outputs": [
    {
     "name": "stdout",
     "output_type": "stream",
     "text": [
      "Epoch: 0, time: 12.598566055297852 seconds, loss: 0.18255216086945283, acc: 0.566205041347016\n",
      "Epoch: 1, time: 11.36025094985962 seconds, loss: 0.15096149361433767, acc: 0.66085483710272\n",
      "Epoch: 2, time: 12.711695432662964 seconds, loss: 0.13599097160888782, acc: 0.6934342931154728\n",
      "Epoch: 3, time: 12.189517498016357 seconds, loss: 0.12652774611123324, acc: 0.7187406595596294\n",
      "Epoch: 4, time: 11.965976238250732 seconds, loss: 0.1182830375641966, acc: 0.7334362857427518\n",
      "Epoch: 5, time: 11.688711881637573 seconds, loss: 0.11461083317447193, acc: 0.7434990535020425\n",
      "Epoch: 6, time: 10.331897974014282 seconds, loss: 0.11012483463891996, acc: 0.749925276477035\n",
      "Epoch: 7, time: 11.231618642807007 seconds, loss: 0.10577470491493385, acc: 0.7600378599183023\n",
      "Epoch: 8, time: 12.042330503463745 seconds, loss: 0.10437949865668028, acc: 0.7634751419746937\n",
      "Epoch: 9, time: 10.560599327087402 seconds, loss: 0.10059259366012105, acc: 0.7704493374514297\n",
      "Epoch: 10, time: 12.978882789611816 seconds, loss: 0.09958932596775004, acc: 0.7712962040450334\n",
      "Epoch: 11, time: 7.276341915130615 seconds, loss: 0.0987034610982402, acc: 0.773587725415961\n",
      "Epoch: 12, time: 8.252657651901245 seconds, loss: 0.09576919406240096, acc: 0.7802630268008369\n",
      "Epoch: 13, time: 7.335335969924927 seconds, loss: 0.09555848452616199, acc: 0.7785692936136296\n",
      "Epoch: 14, time: 7.292065143585205 seconds, loss: 0.09517765069416405, acc: 0.7828534422636246\n",
      "Epoch: 15, time: 11.3329918384552 seconds, loss: 0.09397400901892268, acc: 0.7838497559031583\n",
      "Epoch: 16, time: 11.819286823272705 seconds, loss: 0.09339886639629826, acc: 0.781508418850254\n",
      "Epoch: 17, time: 10.87769079208374 seconds, loss: 0.0919224895427687, acc: 0.7860416459101325\n",
      "Epoch: 18, time: 12.913870334625244 seconds, loss: 0.09158553189360577, acc: 0.7886818770548969\n",
      "Epoch: 19, time: 12.771121263504028 seconds, loss: 0.09059092498524898, acc: 0.7934641825246588\n",
      "Epoch: 20, time: 12.734179735183716 seconds, loss: 0.0896549419846918, acc: 0.7930656570688452\n",
      "Epoch: 21, time: 10.360234260559082 seconds, loss: 0.08982946947798774, acc: 0.7893294809205939\n",
      "Epoch: 22, time: 11.470615148544312 seconds, loss: 0.08703531872988861, acc: 0.7976985154926771\n",
      "Epoch: 23, time: 12.188891887664795 seconds, loss: 0.09025863885192971, acc: 0.7857427518182724\n",
      "Epoch: 24, time: 12.454046487808228 seconds, loss: 0.08978508260973807, acc: 0.7884826143269902\n",
      "Epoch: 25, time: 12.611022233963013 seconds, loss: 0.08805658222869546, acc: 0.7934143668426821\n",
      "Epoch: 26, time: 11.3356614112854 seconds, loss: 0.08734558283378294, acc: 0.7959549666234931\n",
      "Epoch: 27, time: 10.302823305130005 seconds, loss: 0.08763689876632773, acc: 0.7902759788781508\n",
      "Epoch: 28, time: 9.882058143615723 seconds, loss: 0.08703188392448698, acc: 0.7937132609345422\n",
      "Epoch: 29, time: 9.865148305892944 seconds, loss: 0.08883272526630125, acc: 0.7918700807014049\n",
      "Epoch: 30, time: 9.819295167922974 seconds, loss: 0.08837057812298246, acc: 0.7942612334362857\n",
      "Epoch: 31, time: 11.17344617843628 seconds, loss: 0.08821940558355777, acc: 0.7930656570688452\n",
      "Epoch: 32, time: 11.321928262710571 seconds, loss: 0.08844012564926511, acc: 0.7920195277473349\n",
      "Epoch: 33, time: 9.091541290283203 seconds, loss: 0.086632915400501, acc: 0.7958553352595397\n",
      "Epoch: 34, time: 9.312609672546387 seconds, loss: 0.08694912524511543, acc: 0.795506625485703\n",
      "Epoch: 35, time: 9.45128846168518 seconds, loss: 0.08811509160919616, acc: 0.7923682375211717\n",
      "Epoch: 36, time: 9.657843351364136 seconds, loss: 0.08841458668821923, acc: 0.7931652884327987\n",
      "Epoch: 37, time: 9.184410333633423 seconds, loss: 0.08801300636632967, acc: 0.795008468665936\n",
      "Epoch: 38, time: 9.621474742889404 seconds, loss: 0.09041299814366659, acc: 0.7897280063764073\n",
      "Epoch: 39, time: 9.164152145385742 seconds, loss: 0.08771988230985583, acc: 0.7937132609345422\n",
      "Epoch: 40, time: 10.344318866729736 seconds, loss: 0.08963617023893279, acc: 0.7920693434293116\n",
      "Epoch: 41, time: 10.133877277374268 seconds, loss: 0.0903493924871322, acc: 0.7871375909136196\n",
      "Epoch: 42, time: 11.054868698120117 seconds, loss: 0.08857384006021148, acc: 0.7866394340938527\n",
      "Epoch: 43, time: 12.481470823287964 seconds, loss: 0.09026653879615602, acc: 0.787237222277573\n",
      "Epoch: 44, time: 12.304238557815552 seconds, loss: 0.09064521118782329, acc: 0.7892796652386171\n",
      "Epoch: 45, time: 8.939886331558228 seconds, loss: 0.09099643048222562, acc: 0.7879346418252466\n",
      "Epoch: 46, time: 10.375491380691528 seconds, loss: 0.09186407566614115, acc: 0.7867390654578061\n",
      "Epoch: 47, time: 8.910296201705933 seconds, loss: 0.09014805451037726, acc: 0.7847464381787387\n",
      "Epoch: 48, time: 11.822030782699585 seconds, loss: 0.09065025114181807, acc: 0.7850951479525755\n",
      "Epoch: 49, time: 12.072964191436768 seconds, loss: 0.09208416797617287, acc: 0.7822058383979277\n"
     ]
    }
   ],
   "source": [
    "EPOCH = 50\n",
    "\n",
    "for epoch in range(EPOCH):\n",
    "    \n",
    "    np.random.shuffle(data)\n",
    "    \n",
    "    train_loss = 0\n",
    "    correct = 0\n",
    "    start_time = time.time()\n",
    "    \n",
    "    for order in train_order:\n",
    "        \n",
    "        tmp_loss, is_correct = train_one_step(data[order : order+batch_size, 0], data[order : order+batch_size, 1])\n",
    "        train_loss += tmp_loss\n",
    "        correct += is_correct\n",
    "    \n",
    "    print(\"Epoch: {}, time: {} seconds, loss: {}, acc: {}\".\n",
    "          format(epoch, time.time() - start_time, train_loss / len(data), correct / len(data)))\n",
    "    \n",
    "    loss_trace.append(train_loss / len(data))\n",
    "    acc_trace.append(correct / len(data))"
   ]
  },
  {
   "cell_type": "code",
   "execution_count": 329,
   "metadata": {},
   "outputs": [],
   "source": [
    "index2category = {value:k for k, value in category2index.items()}"
   ]
  },
  {
   "cell_type": "code",
   "execution_count": 330,
   "metadata": {},
   "outputs": [
    {
     "data": {
      "text/plain": [
       "{0: 'Vietnamese',\n",
       " 1: 'Spanish',\n",
       " 2: 'Scottish',\n",
       " 3: 'Russian',\n",
       " 4: 'Portuguese',\n",
       " 5: 'Polish',\n",
       " 6: 'Korean',\n",
       " 7: 'Japanese',\n",
       " 8: 'Italian',\n",
       " 9: 'Irish',\n",
       " 10: 'Greek',\n",
       " 11: 'German',\n",
       " 12: 'French',\n",
       " 13: 'English',\n",
       " 14: 'Dutch',\n",
       " 15: 'Czech',\n",
       " 16: 'Chinese',\n",
       " 17: 'Arabic'}"
      ]
     },
     "execution_count": 330,
     "metadata": {},
     "output_type": "execute_result"
    }
   ],
   "source": [
    "index2category"
   ]
  },
  {
   "cell_type": "code",
   "execution_count": 331,
   "metadata": {},
   "outputs": [],
   "source": [
    "with torch.no_grad():\n",
    "    def evaluation(name):\n",
    "\n",
    "        # batch_name: (input_length, )\n",
    "\n",
    "        name_tensor = torch.tensor([letter2index[letter] for letter in name]).to(device) # (input_length, )\n",
    "\n",
    "        name_tensor = name_tensor.view(-1, 1) # (input_length, 1)\n",
    "\n",
    "        outputs = net(name_tensor) # (1, output_size)\n",
    "        \n",
    "        pred = torch.argmax(outputs, dim=1) # (1, )\n",
    "                \n",
    "        return index2category[pred[0].item()]"
   ]
  },
  {
   "cell_type": "code",
   "execution_count": 335,
   "metadata": {},
   "outputs": [
    {
     "name": "stdout",
     "output_type": "stream",
     "text": [
      "Russian\n",
      "Russian\n",
      "Russian\n",
      "Russian\n",
      "Russian\n",
      "Russian\n",
      "Russian\n",
      "Russian\n",
      "Russian\n",
      "Russian\n",
      "Russian\n",
      "Russian\n",
      "Russian\n",
      "Russian\n",
      "Russian\n",
      "Russian\n",
      "Russian\n",
      "Russian\n",
      "Russian\n",
      "Russian\n"
     ]
    }
   ],
   "source": [
    "for name in category_lines[\"Russian\"][:20]:\n",
    "    \n",
    "    print(evaluation(name))"
   ]
  },
  {
   "cell_type": "code",
   "execution_count": 336,
   "metadata": {},
   "outputs": [],
   "source": [
    "import matplotlib.pyplot as plt"
   ]
  },
  {
   "cell_type": "code",
   "execution_count": 337,
   "metadata": {},
   "outputs": [
    {
     "data": {
      "text/plain": [
       "<matplotlib.legend.Legend at 0x7fcd326927d0>"
      ]
     },
     "execution_count": 337,
     "metadata": {},
     "output_type": "execute_result"
    },
    {
     "data": {
      "image/png": "[encoded data removed]",
      "text/plain": [
       "<Figure size 432x288 with 1 Axes>"
      ]
     },
     "metadata": {
      "needs_background": "light"
     },
     "output_type": "display_data"
    }
   ],
   "source": [
    "plt.plot(loss_trace, label=\"loss trace\")\n",
    "plt.xlabel(\"epoch\")\n",
    "plt.ylabel(\"loss\")\n",
    "plt.grid()\n",
    "plt.legend()"
   ]
  },
  {
   "cell_type": "code",
   "execution_count": 338,
   "metadata": {},
   "outputs": [
    {
     "data": {
      "text/plain": [
       "<matplotlib.legend.Legend at 0x7fcd31005e10>"
      ]
     },
     "execution_count": 338,
     "metadata": {},
     "output_type": "execute_result"
    },
    {
     "data": {
      "image/png": "[encoded data removed]",
      "text/plain": [
       "<Figure size 432x288 with 1 Axes>"
      ]
     },
     "metadata": {
      "needs_background": "light"
     },
     "output_type": "display_data"
    }
   ],
   "source": [
    "plt.plot(acc_trace, label=\"acc trace\")\n",
    "plt.xlabel(\"epoch\")\n",
    "plt.ylabel(\"acc\")\n",
    "plt.grid()\n",
    "plt.legend()"
   ]
  },
  {
   "cell_type": "code",
   "execution_count": null,
   "metadata": {},
   "outputs": [],
   "source": []
  }
 ],
 "metadata": {
  "kernelspec": {
   "display_name": "Python 3",
   "language": "python",
   "name": "python3"
  },
  "language_info": {
   "codemirror_mode": {
    "name": "ipython",
    "version": 3
   },
   "file_extension": ".py",
   "mimetype": "text/x-python",
   "name": "python",
   "nbconvert_exporter": "python",
   "pygments_lexer": "ipython3",
   "version": "3.7.7"
  }
 },
 "nbformat": 4,
 "nbformat_minor": 4
}
