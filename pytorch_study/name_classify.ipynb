{
 "cells": [
  {
   "cell_type": "code",
   "execution_count": 1,
   "metadata": {},
   "outputs": [],
   "source": [
    "import sys"
   ]
  },
  {
   "cell_type": "code",
   "execution_count": 4,
   "metadata": {},
   "outputs": [],
   "source": [
    "from __future__ import unicode_literals, print_function, division"
   ]
  },
  {
   "cell_type": "code",
   "execution_count": 5,
   "metadata": {},
   "outputs": [],
   "source": [
    "import glob\n",
    "import os"
   ]
  },
  {
   "cell_type": "code",
   "execution_count": 6,
   "metadata": {},
   "outputs": [],
   "source": [
    "def findFiles(path):\n",
    "    \n",
    "    return glob.glob(path)"
   ]
  },
  {
   "cell_type": "code",
   "execution_count": 8,
   "metadata": {},
   "outputs": [
    {
     "data": {
      "text/plain": [
       "['data/names/Italian.txt',\n",
       " 'data/names/Chinese.txt',\n",
       " 'data/names/Greek.txt',\n",
       " 'data/names/Vietnamese.txt',\n",
       " 'data/names/Arabic.txt',\n",
       " 'data/names/French.txt',\n",
       " 'data/names/Scottish.txt',\n",
       " 'data/names/Korean.txt',\n",
       " 'data/names/Portuguese.txt',\n",
       " 'data/names/Irish.txt',\n",
       " 'data/names/Japanese.txt',\n",
       " 'data/names/Polish.txt',\n",
       " 'data/names/Dutch.txt',\n",
       " 'data/names/English.txt',\n",
       " 'data/names/German.txt',\n",
       " 'data/names/Russian.txt',\n",
       " 'data/names/Czech.txt',\n",
       " 'data/names/Spanish.txt']"
      ]
     },
     "execution_count": 8,
     "metadata": {},
     "output_type": "execute_result"
    }
   ],
   "source": [
    "findFiles(\"data/names/*.txt\")"
   ]
  },
  {
   "cell_type": "code",
   "execution_count": 9,
   "metadata": {},
   "outputs": [],
   "source": [
    "import unicodedata\n",
    "import string"
   ]
  },
  {
   "cell_type": "code",
   "execution_count": 10,
   "metadata": {},
   "outputs": [],
   "source": [
    "all_letters = string.ascii_letters + \".,;'\""
   ]
  },
  {
   "cell_type": "code",
   "execution_count": 11,
   "metadata": {},
   "outputs": [
    {
     "data": {
      "text/plain": [
       "\"abcdefghijklmnopqrstuvwxyzABCDEFGHIJKLMNOPQRSTUVWXYZ.,;'\""
      ]
     },
     "execution_count": 11,
     "metadata": {},
     "output_type": "execute_result"
    }
   ],
   "source": [
    "all_letters"
   ]
  },
  {
   "cell_type": "code",
   "execution_count": 14,
   "metadata": {},
   "outputs": [],
   "source": [
    "n_letters = len(all_letters)"
   ]
  },
  {
   "cell_type": "code",
   "execution_count": 21,
   "metadata": {},
   "outputs": [],
   "source": [
    "def unicodeToAscii(s):\n",
    "    \n",
    "    return \"\".join([c for c in unicodedata.normalize(\"NFD\", s) if unicodedata.category(c) != \"Mn\" and c in all_letters])"
   ]
  },
  {
   "cell_type": "code",
   "execution_count": 30,
   "metadata": {},
   "outputs": [
    {
     "data": {
      "text/plain": [
       "'Slusarski'"
      ]
     },
     "execution_count": 30,
     "metadata": {},
     "output_type": "execute_result"
    }
   ],
   "source": [
    "unicodeToAscii(\"Ślusàrski  \")"
   ]
  },
  {
   "cell_type": "code",
   "execution_count": 34,
   "metadata": {},
   "outputs": [],
   "source": [
    "def readlines(path):\n",
    "    \n",
    "    with open(path) as f:\n",
    "        \n",
    "        data = f.read().split(\"\\n\")\n",
    "        \n",
    "        return [unicodeToAscii(line) for line in data if len(line) > 0]"
   ]
  },
  {
   "cell_type": "code",
   "execution_count": 38,
   "metadata": {},
   "outputs": [],
   "source": [
    "from collections import defaultdict"
   ]
  },
  {
   "cell_type": "code",
   "execution_count": 63,
   "metadata": {},
   "outputs": [],
   "source": [
    "all_categorys = set()\n",
    "category_lines = defaultdict(lambda : list())"
   ]
  },
  {
   "cell_type": "code",
   "execution_count": 64,
   "metadata": {},
   "outputs": [],
   "source": [
    "for filename in findFiles(\"./data/names/*.txt\"):\n",
    "    category = os.path.splitext(os.path.basename(filename))[0]\n",
    "    all_categorys.add(category)\n",
    "    lines = readlines(filename)\n",
    "    \n",
    "    for line in lines:\n",
    "        category_lines[category].append(line)"
   ]
  },
  {
   "cell_type": "code",
   "execution_count": 65,
   "metadata": {},
   "outputs": [
    {
     "data": {
      "text/plain": [
       "dict_keys(['Italian', 'Chinese', 'Greek', 'Vietnamese', 'Arabic', 'French', 'Scottish', 'Korean', 'Portuguese', 'Irish', 'Japanese', 'Polish', 'Dutch', 'English', 'German', 'Russian', 'Czech', 'Spanish'])"
      ]
     },
     "execution_count": 65,
     "metadata": {},
     "output_type": "execute_result"
    }
   ],
   "source": [
    "category_lines.keys()"
   ]
  },
  {
   "cell_type": "code",
   "execution_count": 66,
   "metadata": {},
   "outputs": [],
   "source": [
    "n_categorys = len(all_categorys)"
   ]
  },
  {
   "cell_type": "code",
   "execution_count": 67,
   "metadata": {},
   "outputs": [
    {
     "data": {
      "text/plain": [
       "18"
      ]
     },
     "execution_count": 67,
     "metadata": {},
     "output_type": "execute_result"
    }
   ],
   "source": [
    "n_categorys"
   ]
  },
  {
   "cell_type": "code",
   "execution_count": 68,
   "metadata": {},
   "outputs": [
    {
     "data": {
      "text/plain": [
       "['Abandonato', 'Abatangelo', 'Abatantuono', 'Abate', 'Abategiovanni']"
      ]
     },
     "execution_count": 68,
     "metadata": {},
     "output_type": "execute_result"
    }
   ],
   "source": [
    "category_lines[\"Italian\"][:5]"
   ]
  },
  {
   "cell_type": "code",
   "execution_count": 69,
   "metadata": {},
   "outputs": [],
   "source": [
    "import torch\n",
    "import torch.nn as nn"
   ]
  },
  {
   "cell_type": "code",
   "execution_count": 86,
   "metadata": {},
   "outputs": [],
   "source": [
    "all_categorys = list(all_categorys)"
   ]
  },
  {
   "cell_type": "code",
   "execution_count": 110,
   "metadata": {},
   "outputs": [],
   "source": [
    "letter2index = defaultdict(lambda : len(letter2index))"
   ]
  },
  {
   "cell_type": "code",
   "execution_count": 111,
   "metadata": {},
   "outputs": [],
   "source": [
    "category2index = defaultdict(lambda : len(category2index))"
   ]
  },
  {
   "cell_type": "code",
   "execution_count": 112,
   "metadata": {},
   "outputs": [],
   "source": [
    "def lines2tensor(category_lines):\n",
    "    data = []\n",
    "    \n",
    "    for category, lines in category_lines.items():\n",
    "        \n",
    "        category_tensor = torch.tensor([category2index[category]])\n",
    "        \n",
    "        for line in lines:\n",
    "            \n",
    "            lines_tensor = torch.tensor([letter2index[letter] for letter in line])\n",
    "            data.append((lines_tensor, category_tensor))\n",
    "    \n",
    "    return data"
   ]
  },
  {
   "cell_type": "code",
   "execution_count": 113,
   "metadata": {},
   "outputs": [],
   "source": [
    "data = lines2tensor(category_lines) # (name_length, ), (1, )"
   ]
  },
  {
   "cell_type": "code",
   "execution_count": 114,
   "metadata": {},
   "outputs": [
    {
     "data": {
      "text/plain": [
       "defaultdict(<function __main__.<lambda>()>,\n",
       "            {'A': 0,\n",
       "             'b': 1,\n",
       "             'a': 2,\n",
       "             'n': 3,\n",
       "             'd': 4,\n",
       "             'o': 5,\n",
       "             't': 6,\n",
       "             'g': 7,\n",
       "             'e': 8,\n",
       "             'l': 9,\n",
       "             'u': 10,\n",
       "             'i': 11,\n",
       "             'v': 12,\n",
       "             's': 13,\n",
       "             'c': 14,\n",
       "             'h': 15,\n",
       "             'r': 16,\n",
       "             'm': 17,\n",
       "             'q': 18,\n",
       "             'f': 19,\n",
       "             'j': 20,\n",
       "             'p': 21,\n",
       "             'z': 22,\n",
       "             'B': 23,\n",
       "             'C': 24,\n",
       "             'D': 25,\n",
       "             \"'\": 26,\n",
       "             'E': 27,\n",
       "             'F': 28,\n",
       "             'G': 29,\n",
       "             'I': 30,\n",
       "             'L': 31,\n",
       "             'M': 32,\n",
       "             'N': 33,\n",
       "             'O': 34,\n",
       "             'P': 35,\n",
       "             'Q': 36,\n",
       "             'R': 37,\n",
       "             'S': 38,\n",
       "             'y': 39,\n",
       "             'T': 40,\n",
       "             'U': 41,\n",
       "             'V': 42,\n",
       "             'Z': 43,\n",
       "             'Y': 44,\n",
       "             'w': 45,\n",
       "             'k': 46,\n",
       "             'H': 47,\n",
       "             'J': 48,\n",
       "             'K': 49,\n",
       "             'W': 50,\n",
       "             'X': 51,\n",
       "             'x': 52,\n",
       "             ',': 53})"
      ]
     },
     "execution_count": 114,
     "metadata": {},
     "output_type": "execute_result"
    }
   ],
   "source": [
    "letter2index"
   ]
  },
  {
   "cell_type": "markdown",
   "metadata": {},
   "source": [
    "$h_i = g(W_h [x_i, h_{i-1}] + b_h)$\n",
    "\n",
    "$o_i = f(W_o h_i + o_h)$"
   ]
  },
  {
   "cell_type": "code",
   "execution_count": 120,
   "metadata": {},
   "outputs": [],
   "source": [
    "class RNN(nn.Module):\n",
    "    \n",
    "    def __init__(self, vocab_size, embedding_size, hidden_size, output_size):\n",
    "        \n",
    "        super(RNN, self).__init__()\n",
    "        \n",
    "        self.embedding = nn.Embedding(vocab_size, embedding_size) # (1, embedding_size)\n",
    "        \n",
    "        self.hidden_size = hidden_size\n",
    "        \n",
    "        self.hidden_layer = nn.Linear(embedding_size + hidden_size, hidden_size) # (1, hidden_size)\n",
    "        \n",
    "        self.activate = torch.tanh\n",
    "        \n",
    "        self.output_layer = nn.Linear(hidden_size, output_size) # (1, output_size)\n",
    "        \n",
    "        self.softmax = nn.Softmax(dim=1) # (1, output_size)\n",
    "        \n",
    "    \n",
    "    def forward(self, inputs, past_hidden_state):\n",
    "        \n",
    "        # inputs: (1,)\n",
    "        # hidden_state: (1, hidden_size) \n",
    "        \n",
    "        inputs = self.embedding(inputs) # (1, embedding_size)\n",
    "        \n",
    "        combined = torch.cat([inputs, past_hidden_state], dim=1) # (1, hidden_size + embeddin_size)\n",
    "        \n",
    "        new_hidden_state = self.hidden_layer(combined) # (1, hidden_size)\n",
    "        \n",
    "        new_hidden_state = self.activate(new_hidden_state) # (1, hidden_size)\n",
    "        \n",
    "        output = self.output_layer(new_hidden_state) # (1, output_size)\n",
    "        \n",
    "        output = self.softmax(output) # (1, output_size)\n",
    "        \n",
    "        return output, new_hidden_state\n",
    "    \n",
    "    def init_hidden_state(self):\n",
    "        \n",
    "        return torch.zeros(size=(1, self.hidden_size))"
   ]
  },
  {
   "cell_type": "code",
   "execution_count": 123,
   "metadata": {},
   "outputs": [
    {
     "data": {
      "text/plain": [
       "defaultdict(<function __main__.<lambda>()>,\n",
       "            {'Italian': 0,\n",
       "             'Chinese': 1,\n",
       "             'Greek': 2,\n",
       "             'Vietnamese': 3,\n",
       "             'Arabic': 4,\n",
       "             'French': 5,\n",
       "             'Scottish': 6,\n",
       "             'Korean': 7,\n",
       "             'Portuguese': 8,\n",
       "             'Irish': 9,\n",
       "             'Japanese': 10,\n",
       "             'Polish': 11,\n",
       "             'Dutch': 12,\n",
       "             'English': 13,\n",
       "             'German': 14,\n",
       "             'Russian': 15,\n",
       "             'Czech': 16,\n",
       "             'Spanish': 17})"
      ]
     },
     "execution_count": 123,
     "metadata": {},
     "output_type": "execute_result"
    }
   ],
   "source": [
    "category2index"
   ]
  },
  {
   "cell_type": "code",
   "execution_count": 122,
   "metadata": {},
   "outputs": [],
   "source": [
    "hidden_size = 128\n",
    "embedding_size = 128"
   ]
  },
  {
   "cell_type": "code",
   "execution_count": 124,
   "metadata": {},
   "outputs": [],
   "source": [
    "rnn = RNN(len(letter2index), embedding_size, hidden_size, len(category2index))"
   ]
  },
  {
   "cell_type": "code",
   "execution_count": 129,
   "metadata": {},
   "outputs": [
    {
     "data": {
      "text/plain": [
       "<bound method Module.modules of RNN(\n",
       "  (embedding): Embedding(54, 128)\n",
       "  (hidden_layer): Linear(in_features=256, out_features=128, bias=True)\n",
       "  (output_layer): Linear(in_features=128, out_features=18, bias=True)\n",
       "  (softmax): Softmax(dim=1)\n",
       ")>"
      ]
     },
     "execution_count": 129,
     "metadata": {},
     "output_type": "execute_result"
    }
   ],
   "source": [
    "rnn.modules"
   ]
  },
  {
   "cell_type": "code",
   "execution_count": 132,
   "metadata": {},
   "outputs": [
    {
     "name": "stdout",
     "output_type": "stream",
     "text": [
      "Parameter containing:\n",
      "tensor([[-0.7797, -1.2518,  0.4284,  ...,  0.7151, -0.7165,  0.9524],\n",
      "        [ 0.0936,  0.3631, -1.0419,  ...,  1.2990,  1.2439,  0.8844],\n",
      "        [ 0.0529, -1.0843, -0.6402,  ...,  0.0703, -2.8464,  0.2561],\n",
      "        ...,\n",
      "        [ 0.2985, -1.8349,  0.0696,  ...,  0.2422,  0.6331, -1.6247],\n",
      "        [-1.5148, -0.5425,  1.4021,  ..., -1.6464, -1.0933, -2.0241],\n",
      "        [ 0.0806, -0.1533,  1.1312,  ..., -0.6673,  0.4939,  0.0845]],\n",
      "       requires_grad=True)\n",
      "Parameter containing:\n",
      "tensor([[-0.0382,  0.0616,  0.0524,  ...,  0.0287,  0.0008,  0.0523],\n",
      "        [ 0.0150, -0.0151, -0.0108,  ..., -0.0115,  0.0099,  0.0160],\n",
      "        [ 0.0141, -0.0348,  0.0290,  ...,  0.0288,  0.0006, -0.0043],\n",
      "        ...,\n",
      "        [ 0.0566, -0.0546, -0.0021,  ...,  0.0351, -0.0302,  0.0585],\n",
      "        [-0.0404, -0.0350,  0.0249,  ..., -0.0093,  0.0143, -0.0027],\n",
      "        [ 0.0206,  0.0393, -0.0217,  ...,  0.0244, -0.0613,  0.0313]],\n",
      "       requires_grad=True)\n",
      "Parameter containing:\n",
      "tensor([ 0.0394,  0.0364, -0.0399,  0.0146,  0.0521, -0.0227,  0.0333,  0.0481,\n",
      "        -0.0045, -0.0057,  0.0038,  0.0127,  0.0525, -0.0561,  0.0045, -0.0168,\n",
      "         0.0506, -0.0374, -0.0488, -0.0569,  0.0597, -0.0113,  0.0184, -0.0332,\n",
      "        -0.0205,  0.0618,  0.0593,  0.0085,  0.0124, -0.0345, -0.0145,  0.0192,\n",
      "        -0.0369, -0.0177,  0.0333,  0.0562, -0.0426,  0.0510,  0.0243,  0.0271,\n",
      "        -0.0314, -0.0147,  0.0454, -0.0005,  0.0201, -0.0600,  0.0385, -0.0091,\n",
      "         0.0510,  0.0323, -0.0250, -0.0340,  0.0299,  0.0016,  0.0189,  0.0210,\n",
      "         0.0178, -0.0071, -0.0040,  0.0393, -0.0496, -0.0238, -0.0608,  0.0043,\n",
      "        -0.0018, -0.0151,  0.0268,  0.0070,  0.0367, -0.0099, -0.0191,  0.0088,\n",
      "         0.0513,  0.0594,  0.0062,  0.0423,  0.0148, -0.0491,  0.0236,  0.0427,\n",
      "         0.0143, -0.0238,  0.0252,  0.0183, -0.0113, -0.0359, -0.0549, -0.0593,\n",
      "         0.0212, -0.0471,  0.0349,  0.0098,  0.0024, -0.0013,  0.0147,  0.0140,\n",
      "        -0.0375, -0.0054,  0.0539, -0.0299, -0.0539, -0.0418,  0.0329,  0.0529,\n",
      "        -0.0433,  0.0022,  0.0095,  0.0141,  0.0604, -0.0576, -0.0507, -0.0173,\n",
      "         0.0008, -0.0233,  0.0389, -0.0092, -0.0487, -0.0592, -0.0025,  0.0093,\n",
      "         0.0146,  0.0594, -0.0284, -0.0064,  0.0152, -0.0100,  0.0409,  0.0345],\n",
      "       requires_grad=True)\n",
      "Parameter containing:\n",
      "tensor([[-0.0604, -0.0556, -0.0306,  ...,  0.0811, -0.0374, -0.0679],\n",
      "        [ 0.0262, -0.0745, -0.0337,  ..., -0.0334,  0.0549,  0.0335],\n",
      "        [ 0.0425,  0.0109,  0.0170,  ..., -0.0550, -0.0835,  0.0178],\n",
      "        ...,\n",
      "        [ 0.0432, -0.0593,  0.0808,  ..., -0.0061, -0.0230,  0.0019],\n",
      "        [-0.0802, -0.0254, -0.0591,  ...,  0.0280, -0.0384, -0.0453],\n",
      "        [-0.0117,  0.0631,  0.0747,  ..., -0.0290,  0.0762, -0.0858]],\n",
      "       requires_grad=True)\n",
      "Parameter containing:\n",
      "tensor([ 0.0483,  0.0437,  0.0478, -0.0876, -0.0676,  0.0814,  0.0835, -0.0236,\n",
      "        -0.0857,  0.0039,  0.0724,  0.0458,  0.0282, -0.0525,  0.0440, -0.0327,\n",
      "         0.0414, -0.0219], requires_grad=True)\n"
     ]
    }
   ],
   "source": [
    "for para in rnn.parameters():\n",
    "    \n",
    "    print(para)"
   ]
  },
  {
   "cell_type": "code",
   "execution_count": 139,
   "metadata": {},
   "outputs": [],
   "source": [
    "import random\n",
    "import time"
   ]
  },
  {
   "cell_type": "code",
   "execution_count": 140,
   "metadata": {},
   "outputs": [],
   "source": [
    "criterion = nn.NLLLoss()\n",
    "optimizer = torch.optim.Adam(rnn.parameters())"
   ]
  },
  {
   "cell_type": "code",
   "execution_count": 150,
   "metadata": {},
   "outputs": [],
   "source": [
    "def train_one_step(name_tensor, category_tensor):\n",
    "    \n",
    "    hidden_state = rnn.init_hidden_state()\n",
    "    \n",
    "    for letter_tensor in name_tensor:\n",
    "        \n",
    "        output, hidden_state = rnn(letter_tensor.view(-1), hidden_state)\n",
    "        \n",
    "    \n",
    "    pred = torch.argmax(output, dim=1) # (1, )\n",
    "    \n",
    "    output = torch.log(output) # (1, output_size)\n",
    "    \n",
    "    loss = criterion(output, category_tensor)\n",
    "    \n",
    "    optimizer.zero_grad()\n",
    "    \n",
    "    loss_value = loss.item()\n",
    "    \n",
    "    loss.backward()\n",
    "    optimizer.step()\n",
    "    \n",
    "    return loss_value, 1 if pred[0] == category_tensor[0] else 0"
   ]
  },
  {
   "cell_type": "code",
   "execution_count": 151,
   "metadata": {},
   "outputs": [],
   "source": [
    "loss_trace = []\n",
    "acc_trace = []"
   ]
  },
  {
   "cell_type": "code",
   "execution_count": 152,
   "metadata": {},
   "outputs": [
    {
     "name": "stdout",
     "output_type": "stream",
     "text": [
      "Epoch: 0, time: 123.33370923995972 seconds, loss: 0.9887915320416775, acc: 0.702600378599183\n",
      "Epoch: 1, time: 122.93417501449585 seconds, loss: 0.8063479875556765, acc: 0.756899471953771\n",
      "Epoch: 2, time: 123.50440907478333 seconds, loss: 0.7552931335030446, acc: 0.7722925176845671\n",
      "Epoch: 3, time: 122.76604223251343 seconds, loss: 0.7316025959505944, acc: 0.7808109993025805\n",
      "Epoch: 4, time: 122.70023345947266 seconds, loss: 0.7253832791290498, acc: 0.7765268506525854\n",
      "Epoch: 5, time: 123.26445841789246 seconds, loss: 0.7138102116023768, acc: 0.7816578658961841\n",
      "Epoch: 6, time: 121.79969096183777 seconds, loss: 0.7228516683235795, acc: 0.7824051011258344\n",
      "Epoch: 7, time: 122.95416784286499 seconds, loss: 0.7056687686283678, acc: 0.7849457009066454\n",
      "Epoch: 8, time: 123.4193856716156 seconds, loss: 0.7139133108799707, acc: 0.7798146856630467\n",
      "Epoch: 9, time: 122.5112669467926 seconds, loss: 0.7171285944807184, acc: 0.7813091561223473\n",
      "Epoch: 10, time: 122.78637623786926 seconds, loss: 0.7198287105411451, acc: 0.7774733486101425\n",
      "Epoch: 11, time: 121.94417977333069 seconds, loss: 0.7199906341425699, acc: 0.7808109993025805\n",
      "Epoch: 12, time: 123.27069807052612 seconds, loss: 0.7218407744606897, acc: 0.778170768157816\n",
      "Epoch: 13, time: 122.59538316726685 seconds, loss: 0.7269459255759879, acc: 0.7781209524758393\n",
      "Epoch: 14, time: 122.88252210617065 seconds, loss: 0.7291781306729967, acc: 0.7752316429211916\n",
      "Epoch: 15, time: 123.30559349060059 seconds, loss: 0.7337926667209989, acc: 0.772940121550264\n",
      "Epoch: 16, time: 122.49584579467773 seconds, loss: 0.7398092151676176, acc: 0.7721430706386371\n",
      "Epoch: 17, time: 123.5520486831665 seconds, loss: 0.7307522059007768, acc: 0.7779715054299093\n",
      "Epoch: 18, time: 122.50470209121704 seconds, loss: 0.7338572432531891, acc: 0.7739364351897977\n",
      "Epoch: 19, time: 122.73838829994202 seconds, loss: 0.7371451044578278, acc: 0.7740360665537511\n",
      "Epoch: 20, time: 122.72031259536743 seconds, loss: 0.739201553935061, acc: 0.7688054199461991\n",
      "Epoch: 21, time: 121.93965554237366 seconds, loss: 0.7377509083646786, acc: 0.7741356979177045\n",
      "Epoch: 22, time: 123.02780151367188 seconds, loss: 0.7440967055388679, acc: 0.7722427020025904\n",
      "Epoch: 23, time: 122.58979654312134 seconds, loss: 0.7464333482256127, acc: 0.77119657268108\n",
      "Epoch: 24, time: 122.45700860023499 seconds, loss: 0.7528182333864173, acc: 0.7698017335857328\n",
      "Epoch: 25, time: 122.76881170272827 seconds, loss: 0.7568067525590846, acc: 0.7668626083491084\n",
      "Epoch: 26, time: 122.53251051902771 seconds, loss: 0.7562132896855266, acc: 0.7690046826741058\n",
      "Epoch: 27, time: 123.90179252624512 seconds, loss: 0.7664623476057233, acc: 0.7675102122148052\n",
      "Epoch: 28, time: 122.5437536239624 seconds, loss: 0.764580091649951, acc: 0.7649696124339942\n",
      "Epoch: 29, time: 123.64461541175842 seconds, loss: 0.7683050735661612, acc: 0.7666135299392248\n",
      "Epoch: 30, time: 123.2965955734253 seconds, loss: 0.7647559779749584, acc: 0.7655175849357377\n",
      "Epoch: 31, time: 122.69715404510498 seconds, loss: 0.7682890155080837, acc: 0.7667131613031782\n",
      "Epoch: 32, time: 123.09695863723755 seconds, loss: 0.7707200160597868, acc: 0.7663146358473647\n",
      "Epoch: 33, time: 121.80484533309937 seconds, loss: 0.7761224590913944, acc: 0.7625286440171366\n",
      "Epoch: 34, time: 123.74007058143616 seconds, loss: 0.7694748738064954, acc: 0.7631264322008569\n",
      "Epoch: 35, time: 122.20164370536804 seconds, loss: 0.7743625000898714, acc: 0.7609843578758593\n",
      "Epoch: 36, time: 122.27120304107666 seconds, loss: 0.7831164585162304, acc: 0.7598385971903955\n",
      "Epoch: 37, time: 123.15433239936829 seconds, loss: 0.7792978962066868, acc: 0.7626780910630666\n",
      "Epoch: 38, time: 122.62513995170593 seconds, loss: 0.784608031773161, acc: 0.7603367540101624\n",
      "Epoch: 39, time: 122.43258666992188 seconds, loss: 0.7755216712388754, acc: 0.7603865696921391\n",
      "Epoch: 40, time: 121.52948927879333 seconds, loss: 0.766628097910683, acc: 0.7680581847165487\n",
      "Epoch: 41, time: 122.94532561302185 seconds, loss: 0.7777992734586616, acc: 0.7587426521869084\n",
      "Epoch: 42, time: 122.91787481307983 seconds, loss: 0.770309811980603, acc: 0.7623293812892299\n",
      "Epoch: 43, time: 123.05864834785461 seconds, loss: 0.7792598271202626, acc: 0.7616817774235329\n",
      "Epoch: 44, time: 123.24402976036072 seconds, loss: 0.7684272481068539, acc: 0.7664142672113181\n",
      "Epoch: 45, time: 122.613765001297 seconds, loss: 0.7727469459266612, acc: 0.7632758792467869\n",
      "Epoch: 46, time: 123.13441371917725 seconds, loss: 0.7824999064965699, acc: 0.7623293812892299\n",
      "Epoch: 47, time: 122.72932577133179 seconds, loss: 0.793048633416273, acc: 0.7571485503636545\n",
      "Epoch: 48, time: 122.32137537002563 seconds, loss: 0.7972647912121897, acc: 0.7570489189997011\n",
      "Epoch: 49, time: 123.49607515335083 seconds, loss: 0.7974956460566545, acc: 0.7573478130915612\n"
     ]
    }
   ],
   "source": [
    "EPOCH = 50\n",
    "\n",
    "for epoch in range(EPOCH):\n",
    "    \n",
    "    random.shuffle(data)\n",
    "    \n",
    "    train_loss = 0\n",
    "    correct = 0\n",
    "    start_time = time.time()\n",
    "    \n",
    "    for name_tensor, category_tensor in data:\n",
    "        \n",
    "        tmp_loss, is_correct = train_one_step(name_tensor, category_tensor)\n",
    "        train_loss += tmp_loss\n",
    "        correct += is_correct\n",
    "    \n",
    "    print(\"Epoch: {}, time: {} seconds, loss: {}, acc: {}\".\n",
    "          format(epoch, time.time() - start_time, train_loss / len(data), correct / len(data)))\n",
    "    \n",
    "    loss_trace.append(train_loss / len(data))\n",
    "    acc_trace.append(correct / len(data))"
   ]
  },
  {
   "cell_type": "code",
   "execution_count": 153,
   "metadata": {},
   "outputs": [],
   "source": [
    "import matplotlib.pyplot as plt"
   ]
  },
  {
   "cell_type": "code",
   "execution_count": 154,
   "metadata": {},
   "outputs": [
    {
     "data": {
      "text/plain": [
       "<matplotlib.legend.Legend at 0x7fe2918f7190>"
      ]
     },
     "execution_count": 154,
     "metadata": {},
     "output_type": "execute_result"
    },
    {
     "data": {
      "image/png": "[encoded data removed]",
      "text/plain": [
       "<Figure size 432x288 with 1 Axes>"
      ]
     },
     "metadata": {
      "needs_background": "light"
     },
     "output_type": "display_data"
    }
   ],
   "source": [
    "plt.plot(loss_trace, label=\"loss trace\")\n",
    "plt.xlabel(\"epoch\")\n",
    "plt.ylabel(\"loss\")\n",
    "plt.grid()\n",
    "plt.legend()"
   ]
  },
  {
   "cell_type": "code",
   "execution_count": 155,
   "metadata": {},
   "outputs": [
    {
     "data": {
      "text/plain": [
       "<matplotlib.legend.Legend at 0x7fe2553abc50>"
      ]
     },
     "execution_count": 155,
     "metadata": {},
     "output_type": "execute_result"
    },
    {
     "data": {
      "image/png": "[encoded data removed]",
      "text/plain": [
       "<Figure size 432x288 with 1 Axes>"
      ]
     },
     "metadata": {
      "needs_background": "light"
     },
     "output_type": "display_data"
    }
   ],
   "source": [
    "plt.plot(acc_trace, label=\"acc trace\")\n",
    "plt.xlabel(\"epoch\")\n",
    "plt.ylabel(\"acc\")\n",
    "plt.grid()\n",
    "plt.legend()"
   ]
  },
  {
   "cell_type": "code",
   "execution_count": null,
   "metadata": {},
   "outputs": [],
   "source": []
  }
 ],
 "metadata": {
  "kernelspec": {
   "display_name": "Python 3",
   "language": "python",
   "name": "python3"
  },
  "language_info": {
   "codemirror_mode": {
    "name": "ipython",
    "version": 3
   },
   "file_extension": ".py",
   "mimetype": "text/x-python",
   "name": "python",
   "nbconvert_exporter": "python",
   "pygments_lexer": "ipython3",
   "version": "3.7.7"
  }
 },
 "nbformat": 4,
 "nbformat_minor": 4
}
