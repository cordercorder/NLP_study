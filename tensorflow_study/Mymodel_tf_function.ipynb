{
 "cells": [
  {
   "cell_type": "code",
   "execution_count": 1,
   "metadata": {},
   "outputs": [],
   "source": [
    "import tensorflow as tf"
   ]
  },
  {
   "cell_type": "code",
   "execution_count": 2,
   "metadata": {},
   "outputs": [
    {
     "data": {
      "text/plain": [
       "<tf.Tensor: shape=(2, 2), dtype=float32, numpy=\n",
       "array([[ 0.03253768, -0.44846308],\n",
       "       [-0.00731776, -0.51301086]], dtype=float32)>"
      ]
     },
     "execution_count": 2,
     "metadata": {},
     "output_type": "execute_result"
    }
   ],
   "source": [
    "tf.matmul(tf.Variable(shape=(2, 3), initial_value=tf.random.normal(shape=(2, 3))),tf.Variable(shape=(3, 2), initial_value=tf.random.normal(shape=(3, 2))))"
   ]
  },
  {
   "cell_type": "code",
   "execution_count": 3,
   "metadata": {},
   "outputs": [],
   "source": [
    "class Mymodel(tf.keras.Model):\n",
    "    \n",
    "    def __init__(self, units):\n",
    "        \n",
    "        super(Mymodel, self).__init__()\n",
    "        \n",
    "        self.W_xh = tf.Variable(shape=(2, units), initial_value=tf.random.normal(shape=(2, units)))\n",
    "        self.b_h = tf.Variable(shape=(units, ), initial_value=tf.random.normal(shape=(units, )))\n",
    "        \n",
    "        self.W_hy = tf.Variable(shape=(units, 1), initial_value=tf.random.normal(shape=(units, 1)))\n",
    "        self.b_y = tf.Variable(shape=(1, ), initial_value=tf.random.normal(shape=(1, )))\n",
    "        \n",
    "    @tf.function\n",
    "    def call(self, x):\n",
    "        x = tf.expand_dims(x, axis=0)\n",
    "        # h_: (1, units)\n",
    "        h_ = tf.matmul(x, self.W_xh) + self.b_h\n",
    "        h = tf.nn.tanh(h_)\n",
    "        # y: (1, 1)\n",
    "        y = tf.matmul(h, self.W_hy) + self.b_y\n",
    "        y = tf.squeeze(y, axis=1)\n",
    "        return y"
   ]
  },
  {
   "cell_type": "code",
   "execution_count": 4,
   "metadata": {},
   "outputs": [],
   "source": [
    "optimizer = tf.keras.optimizers.Adam()"
   ]
  },
  {
   "cell_type": "code",
   "execution_count": 5,
   "metadata": {},
   "outputs": [],
   "source": [
    "model_ = Mymodel(20)"
   ]
  },
  {
   "cell_type": "code",
   "execution_count": 6,
   "metadata": {},
   "outputs": [],
   "source": [
    "@tf.function\n",
    "def train_one_step(x, y):\n",
    "    \n",
    "    with tf.GradientTape() as tape:\n",
    "        y_pre = model_(x)\n",
    "        loss = tf.square(y - y_pre)\n",
    "    \n",
    "    grads = tape.gradient(loss, model_.trainable_variables)\n",
    "    optimizer.apply_gradients(zip(grads, model_.trainable_variables))\n",
    "    return loss"
   ]
  },
  {
   "cell_type": "code",
   "execution_count": 7,
   "metadata": {},
   "outputs": [],
   "source": [
    "import numpy as np"
   ]
  },
  {
   "cell_type": "code",
   "execution_count": 8,
   "metadata": {},
   "outputs": [],
   "source": [
    "data_x = tf.constant([[1.0, 1.0], [-1.0, 1.0], [1.0, -1.0], [-1.0, -1.0]])\n",
    "data_y = tf.constant([1.0, -1.0, -1.0, 1.0])"
   ]
  },
  {
   "cell_type": "code",
   "execution_count": 9,
   "metadata": {},
   "outputs": [
    {
     "data": {
      "text/plain": [
       "<tf.Tensor: shape=(4,), dtype=float32, numpy=array([ 1., -1., -1.,  1.], dtype=float32)>"
      ]
     },
     "execution_count": 9,
     "metadata": {},
     "output_type": "execute_result"
    }
   ],
   "source": [
    "data_y"
   ]
  },
  {
   "cell_type": "code",
   "execution_count": 10,
   "metadata": {},
   "outputs": [
    {
     "data": {
      "text/plain": [
       "<tf.Tensor: shape=(4, 2), dtype=float32, numpy=\n",
       "array([[ 1.,  1.],\n",
       "       [-1.,  1.],\n",
       "       [ 1., -1.],\n",
       "       [-1., -1.]], dtype=float32)>"
      ]
     },
     "execution_count": 10,
     "metadata": {},
     "output_type": "execute_result"
    }
   ],
   "source": [
    "data_x"
   ]
  },
  {
   "cell_type": "code",
   "execution_count": 11,
   "metadata": {},
   "outputs": [],
   "source": [
    "data = tf.data.Dataset.from_tensor_slices((data_x, data_y))"
   ]
  },
  {
   "cell_type": "code",
   "execution_count": 12,
   "metadata": {},
   "outputs": [],
   "source": [
    "EPOCHS = 1000"
   ]
  },
  {
   "cell_type": "code",
   "execution_count": 13,
   "metadata": {},
   "outputs": [
    {
     "name": "stdout",
     "output_type": "stream",
     "text": [
      "epoch: 0, loss: [44.89444]\n",
      "epoch: 100, loss: [1.9321148]\n",
      "epoch: 200, loss: [0.05738813]\n",
      "epoch: 300, loss: [0.00357873]\n",
      "epoch: 400, loss: [9.631807e-05]\n",
      "epoch: 500, loss: [8.522823e-07]\n",
      "epoch: 600, loss: [2.657437e-09]\n",
      "epoch: 700, loss: [1.7895019e-10]\n",
      "epoch: 800, loss: [7.636203e-11]\n",
      "epoch: 900, loss: [3.91438e-11]\n",
      "CPU times: user 10.3 s, sys: 460 ms, total: 10.7 s\n",
      "Wall time: 9.22 s\n"
     ]
    }
   ],
   "source": [
    "%%time\n",
    "for epoch in range(EPOCHS):\n",
    "    \n",
    "    epoch_loss = 0\n",
    "    \n",
    "    for x, y in data:\n",
    "        tmp_loss = train_one_step(x, y)\n",
    "        epoch_loss += tmp_loss\n",
    "    \n",
    "    if epoch % 100 == 0:\n",
    "        print(\"epoch: {}, loss: {}\".format(epoch, epoch_loss))"
   ]
  },
  {
   "cell_type": "code",
   "execution_count": null,
   "metadata": {},
   "outputs": [],
   "source": []
  }
 ],
 "metadata": {
  "kernelspec": {
   "display_name": "Python 3",
   "language": "python",
   "name": "python3"
  },
  "language_info": {
   "codemirror_mode": {
    "name": "ipython",
    "version": 3
   },
   "file_extension": ".py",
   "mimetype": "text/x-python",
   "name": "python",
   "nbconvert_exporter": "python",
   "pygments_lexer": "ipython3",
   "version": "3.7.7"
  }
 },
 "nbformat": 4,
 "nbformat_minor": 4
}
