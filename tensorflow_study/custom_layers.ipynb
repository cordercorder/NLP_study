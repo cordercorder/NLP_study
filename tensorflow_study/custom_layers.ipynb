{
 "cells": [
  {
   "cell_type": "code",
   "execution_count": 1,
   "metadata": {},
   "outputs": [],
   "source": [
    "import tensorflow as tf"
   ]
  },
  {
   "cell_type": "code",
   "execution_count": 2,
   "metadata": {},
   "outputs": [
    {
     "data": {
      "text/plain": [
       "[LogicalDevice(name='/device:CPU:0', device_type='CPU'),\n",
       " LogicalDevice(name='/device:XLA_CPU:0', device_type='XLA_CPU'),\n",
       " LogicalDevice(name='/device:GPU:0', device_type='GPU'),\n",
       " LogicalDevice(name='/device:GPU:1', device_type='GPU'),\n",
       " LogicalDevice(name='/device:GPU:2', device_type='GPU'),\n",
       " LogicalDevice(name='/device:GPU:3', device_type='GPU'),\n",
       " LogicalDevice(name='/device:XLA_GPU:0', device_type='XLA_GPU'),\n",
       " LogicalDevice(name='/device:XLA_GPU:1', device_type='XLA_GPU'),\n",
       " LogicalDevice(name='/device:XLA_GPU:2', device_type='XLA_GPU'),\n",
       " LogicalDevice(name='/device:XLA_GPU:3', device_type='XLA_GPU')]"
      ]
     },
     "execution_count": 2,
     "metadata": {},
     "output_type": "execute_result"
    }
   ],
   "source": [
    "tf.config.list_logical_devices()"
   ]
  },
  {
   "cell_type": "code",
   "execution_count": 3,
   "metadata": {},
   "outputs": [
    {
     "data": {
      "text/plain": [
       "[PhysicalDevice(name='/physical_device:CPU:0', device_type='CPU'),\n",
       " PhysicalDevice(name='/physical_device:XLA_CPU:0', device_type='XLA_CPU'),\n",
       " PhysicalDevice(name='/physical_device:GPU:0', device_type='GPU'),\n",
       " PhysicalDevice(name='/physical_device:GPU:1', device_type='GPU'),\n",
       " PhysicalDevice(name='/physical_device:GPU:2', device_type='GPU'),\n",
       " PhysicalDevice(name='/physical_device:GPU:3', device_type='GPU'),\n",
       " PhysicalDevice(name='/physical_device:XLA_GPU:0', device_type='XLA_GPU'),\n",
       " PhysicalDevice(name='/physical_device:XLA_GPU:1', device_type='XLA_GPU'),\n",
       " PhysicalDevice(name='/physical_device:XLA_GPU:2', device_type='XLA_GPU'),\n",
       " PhysicalDevice(name='/physical_device:XLA_GPU:3', device_type='XLA_GPU')]"
      ]
     },
     "execution_count": 3,
     "metadata": {},
     "output_type": "execute_result"
    }
   ],
   "source": [
    "tf.config.list_physical_devices()"
   ]
  },
  {
   "cell_type": "markdown",
   "metadata": {},
   "source": [
    "In the tf.keras.layers package, layers are objects. To construct a layer, simply construct the object. Most layers take as a first argument the number of output dimensions / channels.\n",
    "\n",
    "The number of input dimensions is often unnecessary, as it can be inferred the first time the layer is used, but it can be provided if you want to specify it manually, which is useful in some complex models."
   ]
  },
  {
   "cell_type": "code",
   "execution_count": 15,
   "metadata": {},
   "outputs": [],
   "source": [
    "layer = tf.keras.layers.Dense(10, input_shape=(None, 5))"
   ]
  },
  {
   "cell_type": "code",
   "execution_count": 16,
   "metadata": {},
   "outputs": [
    {
     "data": {
      "text/plain": [
       "<tensorflow.python.keras.layers.core.Dense at 0x7f4484501450>"
      ]
     },
     "execution_count": 16,
     "metadata": {},
     "output_type": "execute_result"
    }
   ],
   "source": [
    "layer"
   ]
  },
  {
   "cell_type": "code",
   "execution_count": 17,
   "metadata": {},
   "outputs": [
    {
     "data": {
      "text/plain": [
       "[]"
      ]
     },
     "execution_count": 17,
     "metadata": {},
     "output_type": "execute_result"
    }
   ],
   "source": [
    "layer.variables"
   ]
  },
  {
   "cell_type": "code",
   "execution_count": 18,
   "metadata": {},
   "outputs": [
    {
     "data": {
      "text/plain": [
       "<tf.Tensor: shape=(10, 5), dtype=float32, numpy=\n",
       "array([[0., 0., 0., 0., 0.],\n",
       "       [0., 0., 0., 0., 0.],\n",
       "       [0., 0., 0., 0., 0.],\n",
       "       [0., 0., 0., 0., 0.],\n",
       "       [0., 0., 0., 0., 0.],\n",
       "       [0., 0., 0., 0., 0.],\n",
       "       [0., 0., 0., 0., 0.],\n",
       "       [0., 0., 0., 0., 0.],\n",
       "       [0., 0., 0., 0., 0.],\n",
       "       [0., 0., 0., 0., 0.]], dtype=float32)>"
      ]
     },
     "execution_count": 18,
     "metadata": {},
     "output_type": "execute_result"
    }
   ],
   "source": [
    "tf.zeros([10, 5])"
   ]
  },
  {
   "cell_type": "code",
   "execution_count": 19,
   "metadata": {},
   "outputs": [
    {
     "data": {
      "text/plain": [
       "<tf.Tensor: shape=(10, 10), dtype=float32, numpy=\n",
       "array([[0., 0., 0., 0., 0., 0., 0., 0., 0., 0.],\n",
       "       [0., 0., 0., 0., 0., 0., 0., 0., 0., 0.],\n",
       "       [0., 0., 0., 0., 0., 0., 0., 0., 0., 0.],\n",
       "       [0., 0., 0., 0., 0., 0., 0., 0., 0., 0.],\n",
       "       [0., 0., 0., 0., 0., 0., 0., 0., 0., 0.],\n",
       "       [0., 0., 0., 0., 0., 0., 0., 0., 0., 0.],\n",
       "       [0., 0., 0., 0., 0., 0., 0., 0., 0., 0.],\n",
       "       [0., 0., 0., 0., 0., 0., 0., 0., 0., 0.],\n",
       "       [0., 0., 0., 0., 0., 0., 0., 0., 0., 0.],\n",
       "       [0., 0., 0., 0., 0., 0., 0., 0., 0., 0.]], dtype=float32)>"
      ]
     },
     "execution_count": 19,
     "metadata": {},
     "output_type": "execute_result"
    }
   ],
   "source": [
    "layer(tf.zeros([10, 5]))"
   ]
  },
  {
   "cell_type": "code",
   "execution_count": 20,
   "metadata": {},
   "outputs": [
    {
     "data": {
      "text/plain": [
       "[<tf.Variable 'dense/kernel:0' shape=(5, 10) dtype=float32, numpy=\n",
       " array([[ 0.5015791 ,  0.39659506, -0.11210299,  0.5405106 , -0.4199321 ,\n",
       "          0.05797267,  0.5746862 ,  0.05491275, -0.61840606, -0.62446594],\n",
       "        [-0.34680614,  0.22168249, -0.3430794 , -0.0780251 ,  0.5919836 ,\n",
       "         -0.62368685, -0.41961876, -0.33990604,  0.13769233,  0.15179896],\n",
       "        [-0.398329  , -0.13863358,  0.17040664, -0.14238098, -0.3150391 ,\n",
       "          0.4017896 ,  0.5912011 ,  0.21510929,  0.05304492, -0.4806543 ],\n",
       "        [ 0.09752196,  0.35443562,  0.15490103,  0.44219607,  0.40868253,\n",
       "         -0.31777668, -0.10726643, -0.09264714, -0.3524051 , -0.04525316],\n",
       "        [-0.11131424, -0.23020935,  0.32984978,  0.25538903, -0.53957015,\n",
       "          0.20717359,  0.3167858 , -0.522952  ,  0.04439777,  0.2798909 ]],\n",
       "       dtype=float32)>,\n",
       " <tf.Variable 'dense/bias:0' shape=(10,) dtype=float32, numpy=array([0., 0., 0., 0., 0., 0., 0., 0., 0., 0.], dtype=float32)>]"
      ]
     },
     "execution_count": 20,
     "metadata": {},
     "output_type": "execute_result"
    }
   ],
   "source": [
    "layer.variables"
   ]
  },
  {
   "cell_type": "code",
   "execution_count": 21,
   "metadata": {},
   "outputs": [
    {
     "data": {
      "text/plain": [
       "<tf.Variable 'dense/kernel:0' shape=(5, 10) dtype=float32, numpy=\n",
       "array([[ 0.5015791 ,  0.39659506, -0.11210299,  0.5405106 , -0.4199321 ,\n",
       "         0.05797267,  0.5746862 ,  0.05491275, -0.61840606, -0.62446594],\n",
       "       [-0.34680614,  0.22168249, -0.3430794 , -0.0780251 ,  0.5919836 ,\n",
       "        -0.62368685, -0.41961876, -0.33990604,  0.13769233,  0.15179896],\n",
       "       [-0.398329  , -0.13863358,  0.17040664, -0.14238098, -0.3150391 ,\n",
       "         0.4017896 ,  0.5912011 ,  0.21510929,  0.05304492, -0.4806543 ],\n",
       "       [ 0.09752196,  0.35443562,  0.15490103,  0.44219607,  0.40868253,\n",
       "        -0.31777668, -0.10726643, -0.09264714, -0.3524051 , -0.04525316],\n",
       "       [-0.11131424, -0.23020935,  0.32984978,  0.25538903, -0.53957015,\n",
       "         0.20717359,  0.3167858 , -0.522952  ,  0.04439777,  0.2798909 ]],\n",
       "      dtype=float32)>"
      ]
     },
     "execution_count": 21,
     "metadata": {},
     "output_type": "execute_result"
    }
   ],
   "source": [
    "layer.kernel"
   ]
  },
  {
   "cell_type": "code",
   "execution_count": 22,
   "metadata": {},
   "outputs": [
    {
     "data": {
      "text/plain": [
       "<tf.Variable 'dense/bias:0' shape=(10,) dtype=float32, numpy=array([0., 0., 0., 0., 0., 0., 0., 0., 0., 0.], dtype=float32)>"
      ]
     },
     "execution_count": 22,
     "metadata": {},
     "output_type": "execute_result"
    }
   ],
   "source": [
    "layer.bias"
   ]
  },
  {
   "cell_type": "code",
   "execution_count": 32,
   "metadata": {},
   "outputs": [],
   "source": [
    "class MyDenseLayer(tf.keras.layers.Layer):\n",
    "    def __init__(self, num_outputs):\n",
    "        super(MyDenseLayer, self).__init__()\n",
    "        self.num_outputs = num_outputs\n",
    "    \n",
    "    def build(self, input_shape):\n",
    "        print(\"input_shape: {}\".format(input_shape))\n",
    "        self.kernel = self.add_weight(\"kernel\", shape=[int(input_shape[-1]), self.num_outputs])\n",
    "    \n",
    "    def call(self, input):\n",
    "        print(\"call\")\n",
    "        return tf.matmul(input, self.kernel)"
   ]
  },
  {
   "cell_type": "code",
   "execution_count": 33,
   "metadata": {},
   "outputs": [],
   "source": [
    "layer = MyDenseLayer(10)"
   ]
  },
  {
   "cell_type": "code",
   "execution_count": 34,
   "metadata": {},
   "outputs": [
    {
     "name": "stdout",
     "output_type": "stream",
     "text": [
      "input_shape: (10, 5)\n",
      "call\n"
     ]
    }
   ],
   "source": [
    "a = layer(tf.zeros([10, 5]))"
   ]
  },
  {
   "cell_type": "code",
   "execution_count": 35,
   "metadata": {},
   "outputs": [
    {
     "data": {
      "text/plain": [
       "[<tf.Variable 'my_dense_layer_2/kernel:0' shape=(5, 10) dtype=float32, numpy=\n",
       " array([[-3.27451617e-01,  3.61914337e-01, -3.37323159e-01,\n",
       "         -6.35721087e-02, -4.26254839e-01,  6.06413782e-01,\n",
       "         -6.24180675e-01, -6.28009677e-01, -4.96960461e-01,\n",
       "          5.43825090e-01],\n",
       "        [ 1.72869027e-01, -4.38249528e-01,  5.80462396e-01,\n",
       "          5.25549591e-01, -3.24966311e-01,  5.89348733e-01,\n",
       "         -4.37051475e-01, -3.83297741e-01, -2.97757387e-02,\n",
       "         -1.01536870e-01],\n",
       "        [ 2.27073073e-01,  1.52906239e-01, -4.76093054e-01,\n",
       "         -8.15764666e-02,  1.95330918e-01, -1.51260048e-01,\n",
       "         -5.45390785e-01, -6.32875562e-02,  3.34866643e-01,\n",
       "          1.65864289e-01],\n",
       "        [ 2.32721925e-01,  2.90500879e-01,  1.28492236e-01,\n",
       "          1.85966134e-01, -3.15647066e-01,  3.03999960e-01,\n",
       "         -6.45021796e-02,  1.88506067e-01,  4.71353531e-04,\n",
       "         -1.89095020e-01],\n",
       "        [ 4.62335944e-02,  5.55158794e-01, -1.57822251e-01,\n",
       "         -1.28471851e-03,  1.21151865e-01, -6.01579666e-01,\n",
       "         -2.16825604e-02, -1.86653882e-01, -4.45037127e-01,\n",
       "         -4.41330433e-01]], dtype=float32)>]"
      ]
     },
     "execution_count": 35,
     "metadata": {},
     "output_type": "execute_result"
    }
   ],
   "source": [
    "[item for item in layer.trainable_variables]"
   ]
  },
  {
   "cell_type": "code",
   "execution_count": 36,
   "metadata": {},
   "outputs": [
    {
     "data": {
      "text/plain": [
       "[TensorShape([5, 10])]"
      ]
     },
     "execution_count": 36,
     "metadata": {},
     "output_type": "execute_result"
    }
   ],
   "source": [
    "[item.shape for item in layer.trainable_variables]"
   ]
  },
  {
   "cell_type": "code",
   "execution_count": 37,
   "metadata": {},
   "outputs": [
    {
     "data": {
      "text/plain": [
       "[TensorShape([5, 10])]"
      ]
     },
     "execution_count": 37,
     "metadata": {},
     "output_type": "execute_result"
    }
   ],
   "source": [
    "[item.shape for item in layer.variables]"
   ]
  },
  {
   "cell_type": "code",
   "execution_count": null,
   "metadata": {},
   "outputs": [],
   "source": []
  }
 ],
 "metadata": {
  "kernelspec": {
   "display_name": "Python 3",
   "language": "python",
   "name": "python3"
  },
  "language_info": {
   "codemirror_mode": {
    "name": "ipython",
    "version": 3
   },
   "file_extension": ".py",
   "mimetype": "text/x-python",
   "name": "python",
   "nbconvert_exporter": "python",
   "pygments_lexer": "ipython3",
   "version": "3.7.7"
  }
 },
 "nbformat": 4,
 "nbformat_minor": 4
}
