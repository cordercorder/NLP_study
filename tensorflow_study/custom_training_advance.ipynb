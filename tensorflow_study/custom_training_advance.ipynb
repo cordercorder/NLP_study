{
 "cells": [
  {
   "cell_type": "code",
   "execution_count": 1,
   "metadata": {},
   "outputs": [],
   "source": [
    "import tensorflow as tf"
   ]
  },
  {
   "cell_type": "code",
   "execution_count": 2,
   "metadata": {},
   "outputs": [],
   "source": [
    "import os\n",
    "import matplotlib.pyplot as plt"
   ]
  },
  {
   "cell_type": "code",
   "execution_count": 3,
   "metadata": {},
   "outputs": [
    {
     "data": {
      "text/plain": [
       "[PhysicalDevice(name='/physical_device:GPU:0', device_type='GPU'),\n",
       " PhysicalDevice(name='/physical_device:GPU:1', device_type='GPU'),\n",
       " PhysicalDevice(name='/physical_device:GPU:2', device_type='GPU'),\n",
       " PhysicalDevice(name='/physical_device:GPU:3', device_type='GPU')]"
      ]
     },
     "execution_count": 3,
     "metadata": {},
     "output_type": "execute_result"
    }
   ],
   "source": [
    "tf.config.experimental.list_physical_devices(\"GPU\")"
   ]
  },
  {
   "cell_type": "code",
   "execution_count": 4,
   "metadata": {},
   "outputs": [],
   "source": [
    "gpus = tf.config.experimental.list_physical_devices(\"GPU\")"
   ]
  },
  {
   "cell_type": "code",
   "execution_count": 5,
   "metadata": {},
   "outputs": [
    {
     "name": "stdout",
     "output_type": "stream",
     "text": [
      "2\n"
     ]
    }
   ],
   "source": [
    "if gpus:\n",
    "    try:\n",
    "        tf.config.experimental.set_visible_devices([gpus[1], gpus[2]], \"GPU\")\n",
    "        logic_gpus = tf.config.experimental.list_logical_devices(\"GPU\")\n",
    "        print(len(logic_gpus))\n",
    "    except RuntimeError as e:\n",
    "        print(e)"
   ]
  },
  {
   "cell_type": "code",
   "execution_count": 6,
   "metadata": {},
   "outputs": [
    {
     "data": {
      "text/plain": [
       "True"
      ]
     },
     "execution_count": 6,
     "metadata": {},
     "output_type": "execute_result"
    }
   ],
   "source": [
    "tf.executing_eagerly()"
   ]
  },
  {
   "cell_type": "code",
   "execution_count": 7,
   "metadata": {},
   "outputs": [
    {
     "data": {
      "text/plain": [
       "<function posixpath.basename(p)>"
      ]
     },
     "execution_count": 7,
     "metadata": {},
     "output_type": "execute_result"
    }
   ],
   "source": [
    "os.path.basename"
   ]
  },
  {
   "cell_type": "code",
   "execution_count": 8,
   "metadata": {},
   "outputs": [],
   "source": [
    "url = \"https://storage.googleapis.com/download.tensorflow.org/data/iris_training.csv\""
   ]
  },
  {
   "cell_type": "code",
   "execution_count": 9,
   "metadata": {},
   "outputs": [],
   "source": [
    "train_data = tf.keras.utils.get_file(os.path.basename(url), origin=url)"
   ]
  },
  {
   "cell_type": "code",
   "execution_count": 10,
   "metadata": {},
   "outputs": [
    {
     "name": "stdout",
     "output_type": "stream",
     "text": [
      "/home/rrjin/.keras/datasets/iris_training.csv\n"
     ]
    }
   ],
   "source": [
    "print(train_data)"
   ]
  },
  {
   "cell_type": "markdown",
   "metadata": {},
   "source": [
    "```\n",
    "120,4,setosa,versicolor,virginica\n",
    "6.4,2.8,5.6,2.2,2\n",
    "5.0,2.3,3.3,1.0,1\n",
    "4.9,2.5,4.5,1.7,2\n",
    "4.9,3.1,1.5,0.1,0\n",
    "......\n",
    "```\n",
    "第一行是表头，其中包含数据集信息:\n",
    "- 共有 120 个样本。每个样本都有四个特征和一个标签名称，标签名称有三种可能\n",
    "- 后面的行是数据记录，每个样本各占一行，其中： \n",
    "    - 前四个字段是特征: 这四个字段代表的是样本的特点。在此数据集中，这些字段存储的是代表花卉测量值的浮点数。\n",
    "    - 最后一列是标签:即我们想要预测的值。对于此数据集，该值为 0、1 或 2 中的某个整数值（每个值分别对应一个花卉名称）。"
   ]
  },
  {
   "cell_type": "code",
   "execution_count": 11,
   "metadata": {},
   "outputs": [
    {
     "data": {
      "text/plain": [
       "'/home/rrjin/.keras/datasets/iris_training.csv'"
      ]
     },
     "execution_count": 11,
     "metadata": {},
     "output_type": "execute_result"
    }
   ],
   "source": [
    "train_data"
   ]
  },
  {
   "cell_type": "code",
   "execution_count": 12,
   "metadata": {},
   "outputs": [],
   "source": [
    "column_names = ['sepal_length', 'sepal_width', 'petal_length', 'petal_width', 'species']\n",
    "feature_names = column_names[:-1]\n",
    "label_names = column_names[-1]"
   ]
  },
  {
   "cell_type": "code",
   "execution_count": 13,
   "metadata": {},
   "outputs": [
    {
     "data": {
      "text/plain": [
       "(['sepal_length', 'sepal_width', 'petal_length', 'petal_width'], 'species')"
      ]
     },
     "execution_count": 13,
     "metadata": {},
     "output_type": "execute_result"
    }
   ],
   "source": [
    "feature_names, label_names"
   ]
  },
  {
   "cell_type": "code",
   "execution_count": 14,
   "metadata": {},
   "outputs": [],
   "source": [
    "tmp = tf.data.experimental.make_csv_dataset(train_data, 32)"
   ]
  },
  {
   "cell_type": "code",
   "execution_count": 15,
   "metadata": {},
   "outputs": [
    {
     "data": {
      "text/plain": [
       "<PrefetchDataset shapes: OrderedDict([(120, (32,)), (4, (32,)), (setosa, (32,)), (versicolor, (32,)), (virginica, (32,))]), types: OrderedDict([(120, tf.float32), (4, tf.float32), (setosa, tf.float32), (versicolor, tf.float32), (virginica, tf.int32)])>"
      ]
     },
     "execution_count": 15,
     "metadata": {},
     "output_type": "execute_result"
    }
   ],
   "source": [
    "tmp"
   ]
  },
  {
   "cell_type": "code",
   "execution_count": 16,
   "metadata": {},
   "outputs": [],
   "source": [
    "tmp = tf.data.experimental.make_csv_dataset(file_pattern=train_data, batch_size=32, column_names=column_names)"
   ]
  },
  {
   "cell_type": "code",
   "execution_count": 17,
   "metadata": {},
   "outputs": [
    {
     "data": {
      "text/plain": [
       "<PrefetchDataset shapes: OrderedDict([(sepal_length, (32,)), (sepal_width, (32,)), (petal_length, (32,)), (petal_width, (32,)), (species, (32,))]), types: OrderedDict([(sepal_length, tf.float32), (sepal_width, tf.float32), (petal_length, tf.float32), (petal_width, tf.float32), (species, tf.int32)])>"
      ]
     },
     "execution_count": 17,
     "metadata": {},
     "output_type": "execute_result"
    }
   ],
   "source": [
    "tmp"
   ]
  },
  {
   "cell_type": "code",
   "execution_count": 18,
   "metadata": {},
   "outputs": [],
   "source": [
    "train_dataset = tf.data.experimental.make_csv_dataset(file_pattern=train_data, batch_size=32, column_names=column_names, label_name=label_names, num_epochs=1)"
   ]
  },
  {
   "cell_type": "code",
   "execution_count": 19,
   "metadata": {},
   "outputs": [
    {
     "data": {
      "text/plain": [
       "<PrefetchDataset shapes: (OrderedDict([(sepal_length, (None,)), (sepal_width, (None,)), (petal_length, (None,)), (petal_width, (None,))]), (None,)), types: (OrderedDict([(sepal_length, tf.float32), (sepal_width, tf.float32), (petal_length, tf.float32), (petal_width, tf.float32)]), tf.int32)>"
      ]
     },
     "execution_count": 19,
     "metadata": {},
     "output_type": "execute_result"
    }
   ],
   "source": [
    "train_dataset"
   ]
  },
  {
   "cell_type": "code",
   "execution_count": 20,
   "metadata": {},
   "outputs": [
    {
     "data": {
      "text/plain": [
       "(OrderedDict([('sepal_length',\n",
       "               <tf.Tensor: shape=(32,), dtype=float32, numpy=\n",
       "               array([5.9, 6.8, 5.8, 5.7, 6.7, 6. , 5.5, 7.7, 4.8, 4.8, 6.5, 4.7, 7.9,\n",
       "                      6.5, 4.7, 5. , 6.1, 5.6, 6.6, 6.5, 6.1, 4.6, 6.9, 7.2, 6.3, 6.7,\n",
       "                      5. , 5.5, 6.2, 6. , 6.3, 6.5], dtype=float32)>),\n",
       "              ('sepal_width',\n",
       "               <tf.Tensor: shape=(32,), dtype=float32, numpy=\n",
       "               array([3. , 3.2, 2.8, 2.8, 3.1, 2.2, 2.4, 2.8, 3. , 3.4, 3. , 3.2, 3.8,\n",
       "                      3.2, 3.2, 3.4, 2.6, 2.9, 3. , 3. , 2.8, 3.2, 3.1, 3. , 3.4, 3. ,\n",
       "                      3.6, 3.5, 2.2, 2.9, 2.5, 2.8], dtype=float32)>),\n",
       "              ('petal_length',\n",
       "               <tf.Tensor: shape=(32,), dtype=float32, numpy=\n",
       "               array([5.1, 5.9, 5.1, 4.5, 5.6, 5. , 3.7, 6.7, 1.4, 1.6, 5.5, 1.3, 6.4,\n",
       "                      5.1, 1.6, 1.5, 5.6, 3.6, 4.4, 5.2, 4.7, 1.4, 4.9, 5.8, 5.6, 5.2,\n",
       "                      1.4, 1.3, 4.5, 4.5, 5. , 4.6], dtype=float32)>),\n",
       "              ('petal_width',\n",
       "               <tf.Tensor: shape=(32,), dtype=float32, numpy=\n",
       "               array([1.8, 2.3, 2.4, 1.3, 2.4, 1.5, 1. , 2. , 0.3, 0.2, 1.8, 0.2, 2. ,\n",
       "                      2. , 0.2, 0.2, 1.4, 1.3, 1.4, 2. , 1.2, 0.2, 1.5, 1.6, 2.4, 2.3,\n",
       "                      0.2, 0.2, 1.5, 1.5, 1.9, 1.5], dtype=float32)>)]),\n",
       " <tf.Tensor: shape=(32,), dtype=int32, numpy=\n",
       " array([2, 2, 2, 1, 2, 2, 1, 2, 0, 0, 2, 0, 2, 2, 0, 0, 2, 1, 1, 2, 1, 0,\n",
       "        1, 2, 2, 2, 0, 0, 1, 1, 2, 1], dtype=int32)>)"
      ]
     },
     "execution_count": 20,
     "metadata": {},
     "output_type": "execute_result"
    }
   ],
   "source": [
    "next(iter(train_dataset))"
   ]
  },
  {
   "cell_type": "code",
   "execution_count": 21,
   "metadata": {},
   "outputs": [],
   "source": [
    "featurs, labels = next(iter(train_dataset))"
   ]
  },
  {
   "cell_type": "code",
   "execution_count": 22,
   "metadata": {},
   "outputs": [],
   "source": [
    "%matplotlib inline"
   ]
  },
  {
   "cell_type": "code",
   "execution_count": 23,
   "metadata": {},
   "outputs": [
    {
     "data": {
      "text/plain": [
       "Text(0, 0.5, 'sepal_length')"
      ]
     },
     "execution_count": 23,
     "metadata": {},
     "output_type": "execute_result"
    },
    {
     "data": {
      "image/png": "[encoded data removed]",
      "text/plain": [
       "<Figure size 432x288 with 1 Axes>"
      ]
     },
     "metadata": {
      "needs_background": "light"
     },
     "output_type": "display_data"
    }
   ],
   "source": [
    "plt.scatter(featurs[\"petal_length\"], featurs[\"sepal_length\"], c=labels)\n",
    "plt.xlabel(\"petal_length\")\n",
    "plt.ylabel(\"sepal_length\")"
   ]
  },
  {
   "cell_type": "code",
   "execution_count": 24,
   "metadata": {},
   "outputs": [
    {
     "data": {
      "text/plain": [
       "collections.OrderedDict"
      ]
     },
     "execution_count": 24,
     "metadata": {},
     "output_type": "execute_result"
    }
   ],
   "source": [
    "type(featurs)"
   ]
  },
  {
   "cell_type": "code",
   "execution_count": 25,
   "metadata": {},
   "outputs": [
    {
     "data": {
      "text/plain": [
       "tensorflow.python.framework.ops.EagerTensor"
      ]
     },
     "execution_count": 25,
     "metadata": {},
     "output_type": "execute_result"
    }
   ],
   "source": [
    "type(featurs[\"petal_length\"])"
   ]
  },
  {
   "cell_type": "code",
   "execution_count": 26,
   "metadata": {},
   "outputs": [
    {
     "data": {
      "text/plain": [
       "odict_values([<tf.Tensor: shape=(32,), dtype=float32, numpy=\n",
       "array([7.2, 5.5, 5. , 6.3, 4.6, 6. , 6.4, 5.4, 4.6, 4.4, 5.7, 7. , 5.8,\n",
       "       5.5, 4.9, 6.4, 5.8, 5.8, 5. , 5.4, 6.2, 5.1, 7.7, 6.3, 6.1, 5.2,\n",
       "       5.5, 4.8, 5.4, 5.8, 6. , 4.9], dtype=float32)>, <tf.Tensor: shape=(32,), dtype=float32, numpy=\n",
       "array([3. , 3.5, 3.2, 2.3, 3.4, 2.7, 2.8, 3.9, 3.6, 3. , 2.9, 3.2, 2.7,\n",
       "       2.4, 3.1, 3.2, 2.6, 2.7, 3.4, 3.4, 2.2, 3.8, 2.8, 3.3, 2.6, 2.7,\n",
       "       2.6, 3. , 3.7, 2.7, 2.9, 3.1], dtype=float32)>, <tf.Tensor: shape=(32,), dtype=float32, numpy=\n",
       "array([5.8, 1.3, 1.2, 4.4, 1.4, 5.1, 5.6, 1.3, 1. , 1.3, 4.2, 4.7, 4.1,\n",
       "       3.7, 1.5, 5.3, 4. , 5.1, 1.6, 1.5, 4.5, 1.5, 6.7, 6. , 5.6, 3.9,\n",
       "       4.4, 1.4, 1.5, 5.1, 4.5, 1.5], dtype=float32)>, <tf.Tensor: shape=(32,), dtype=float32, numpy=\n",
       "array([1.6, 0.2, 0.2, 1.3, 0.3, 1.6, 2.2, 0.4, 0.2, 0.2, 1.3, 1.4, 1. ,\n",
       "       1. , 0.1, 2.3, 1.2, 1.9, 0.4, 0.4, 1.5, 0.3, 2. , 2.5, 1.4, 1.4,\n",
       "       1.2, 0.3, 0.2, 1.9, 1.5, 0.1], dtype=float32)>])"
      ]
     },
     "execution_count": 26,
     "metadata": {},
     "output_type": "execute_result"
    }
   ],
   "source": [
    "featurs.values()"
   ]
  },
  {
   "cell_type": "code",
   "execution_count": 27,
   "metadata": {},
   "outputs": [
    {
     "data": {
      "text/plain": [
       "[<tf.Tensor: shape=(32,), dtype=float32, numpy=\n",
       " array([7.2, 5.5, 5. , 6.3, 4.6, 6. , 6.4, 5.4, 4.6, 4.4, 5.7, 7. , 5.8,\n",
       "        5.5, 4.9, 6.4, 5.8, 5.8, 5. , 5.4, 6.2, 5.1, 7.7, 6.3, 6.1, 5.2,\n",
       "        5.5, 4.8, 5.4, 5.8, 6. , 4.9], dtype=float32)>,\n",
       " <tf.Tensor: shape=(32,), dtype=float32, numpy=\n",
       " array([3. , 3.5, 3.2, 2.3, 3.4, 2.7, 2.8, 3.9, 3.6, 3. , 2.9, 3.2, 2.7,\n",
       "        2.4, 3.1, 3.2, 2.6, 2.7, 3.4, 3.4, 2.2, 3.8, 2.8, 3.3, 2.6, 2.7,\n",
       "        2.6, 3. , 3.7, 2.7, 2.9, 3.1], dtype=float32)>,\n",
       " <tf.Tensor: shape=(32,), dtype=float32, numpy=\n",
       " array([5.8, 1.3, 1.2, 4.4, 1.4, 5.1, 5.6, 1.3, 1. , 1.3, 4.2, 4.7, 4.1,\n",
       "        3.7, 1.5, 5.3, 4. , 5.1, 1.6, 1.5, 4.5, 1.5, 6.7, 6. , 5.6, 3.9,\n",
       "        4.4, 1.4, 1.5, 5.1, 4.5, 1.5], dtype=float32)>,\n",
       " <tf.Tensor: shape=(32,), dtype=float32, numpy=\n",
       " array([1.6, 0.2, 0.2, 1.3, 0.3, 1.6, 2.2, 0.4, 0.2, 0.2, 1.3, 1.4, 1. ,\n",
       "        1. , 0.1, 2.3, 1.2, 1.9, 0.4, 0.4, 1.5, 0.3, 2. , 2.5, 1.4, 1.4,\n",
       "        1.2, 0.3, 0.2, 1.9, 1.5, 0.1], dtype=float32)>]"
      ]
     },
     "execution_count": 27,
     "metadata": {},
     "output_type": "execute_result"
    }
   ],
   "source": [
    "list(featurs.values())"
   ]
  },
  {
   "cell_type": "code",
   "execution_count": 28,
   "metadata": {},
   "outputs": [],
   "source": [
    "def pack_features_vector(features, labels):\n",
    "    features = tf.stack(list(features.values()), axis=1)\n",
    "    return features, labels"
   ]
  },
  {
   "cell_type": "code",
   "execution_count": 29,
   "metadata": {},
   "outputs": [],
   "source": [
    "train_dataset = train_dataset.map(pack_features_vector)"
   ]
  },
  {
   "cell_type": "code",
   "execution_count": 30,
   "metadata": {},
   "outputs": [],
   "source": [
    "featurs, labels = next(iter(train_dataset))"
   ]
  },
  {
   "cell_type": "code",
   "execution_count": 31,
   "metadata": {},
   "outputs": [
    {
     "data": {
      "text/plain": [
       "<tf.Tensor: shape=(32, 4), dtype=float32, numpy=\n",
       "array([[6.3, 3.3, 6. , 2.5],\n",
       "       [4.6, 3.1, 1.5, 0.2],\n",
       "       [4.9, 3.1, 1.5, 0.1],\n",
       "       [5.4, 3.9, 1.7, 0.4],\n",
       "       [4.4, 3.2, 1.3, 0.2],\n",
       "       [6.9, 3.1, 4.9, 1.5],\n",
       "       [4.8, 3.1, 1.6, 0.2],\n",
       "       [4.8, 3. , 1.4, 0.3],\n",
       "       [7.7, 2.8, 6.7, 2. ],\n",
       "       [6.8, 2.8, 4.8, 1.4],\n",
       "       [6. , 2.2, 5. , 1.5],\n",
       "       [5.2, 2.7, 3.9, 1.4],\n",
       "       [6.3, 2.7, 4.9, 1.8],\n",
       "       [6.1, 2.8, 4.7, 1.2],\n",
       "       [6.8, 3.2, 5.9, 2.3],\n",
       "       [5.4, 3.9, 1.3, 0.4],\n",
       "       [5.8, 2.7, 5.1, 1.9],\n",
       "       [4.9, 3. , 1.4, 0.2],\n",
       "       [5.1, 3.8, 1.5, 0.3],\n",
       "       [7.2, 3.6, 6.1, 2.5],\n",
       "       [6.4, 2.7, 5.3, 1.9],\n",
       "       [5. , 3.5, 1.3, 0.3],\n",
       "       [5.4, 3.7, 1.5, 0.2],\n",
       "       [5.7, 2.9, 4.2, 1.3],\n",
       "       [5.1, 2.5, 3. , 1.1],\n",
       "       [6.5, 3.2, 5.1, 2. ],\n",
       "       [6.4, 2.8, 5.6, 2.1],\n",
       "       [6.5, 2.8, 4.6, 1.5],\n",
       "       [5.6, 2.5, 3.9, 1.1],\n",
       "       [4.7, 3.2, 1.3, 0.2],\n",
       "       [7.4, 2.8, 6.1, 1.9],\n",
       "       [6.7, 3. , 5. , 1.7]], dtype=float32)>"
      ]
     },
     "execution_count": 31,
     "metadata": {},
     "output_type": "execute_result"
    }
   ],
   "source": [
    "featurs"
   ]
  },
  {
   "cell_type": "code",
   "execution_count": 32,
   "metadata": {},
   "outputs": [
    {
     "data": {
      "text/plain": [
       "<tf.Tensor: shape=(32,), dtype=int32, numpy=\n",
       "array([2, 0, 0, 0, 0, 1, 0, 0, 2, 1, 2, 1, 2, 1, 2, 0, 2, 0, 0, 2, 2, 0,\n",
       "       0, 1, 1, 2, 2, 1, 1, 0, 2, 1], dtype=int32)>"
      ]
     },
     "execution_count": 32,
     "metadata": {},
     "output_type": "execute_result"
    }
   ],
   "source": [
    "labels"
   ]
  },
  {
   "cell_type": "code",
   "execution_count": 253,
   "metadata": {},
   "outputs": [],
   "source": [
    "model = tf.keras.Sequential([\n",
    "    tf.keras.layers.Dense(10, activation=tf.nn.relu, input_shape=(4, )),\n",
    "    tf.keras.layers.Dense(20, activation=tf.nn.relu),\n",
    "    tf.keras.layers.Dense(3)\n",
    "])"
   ]
  },
  {
   "cell_type": "code",
   "execution_count": 254,
   "metadata": {},
   "outputs": [
    {
     "data": {
      "text/plain": [
       "<tensorflow.python.keras.engine.sequential.Sequential at 0x7f4fed5f19d0>"
      ]
     },
     "execution_count": 254,
     "metadata": {},
     "output_type": "execute_result"
    }
   ],
   "source": [
    "model"
   ]
  },
  {
   "cell_type": "code",
   "execution_count": 255,
   "metadata": {},
   "outputs": [
    {
     "data": {
      "text/plain": [
       "[<tf.Variable 'dense_6/kernel:0' shape=(4, 10) dtype=float32, numpy=\n",
       " array([[-0.48583364, -0.27963063,  0.4059832 ,  0.41009068, -0.38431302,\n",
       "          0.5740373 ,  0.32777888,  0.43467665, -0.00666279,  0.41317892],\n",
       "        [ 0.34318346, -0.08401531,  0.5129247 ,  0.5133873 , -0.07667369,\n",
       "          0.34674037, -0.30142072,  0.07836121, -0.33085677,  0.28947967],\n",
       "        [-0.6330599 ,  0.25135458, -0.06979781,  0.64380693,  0.13692975,\n",
       "          0.46354735, -0.5310525 , -0.6288253 , -0.2242209 , -0.01236618],\n",
       "        [-0.24690938, -0.09473622, -0.240405  , -0.02313018,  0.01540387,\n",
       "          0.45980525,  0.5946387 , -0.48374104, -0.5226523 ,  0.11662263]],\n",
       "       dtype=float32)>,\n",
       " <tf.Variable 'dense_6/bias:0' shape=(10,) dtype=float32, numpy=array([0., 0., 0., 0., 0., 0., 0., 0., 0., 0.], dtype=float32)>,\n",
       " <tf.Variable 'dense_7/kernel:0' shape=(10, 20) dtype=float32, numpy=\n",
       " array([[ 0.28517842, -0.18135211,  0.38630235,  0.21115619,  0.29159296,\n",
       "          0.06226248,  0.4232486 , -0.26900953, -0.2856393 , -0.20061545,\n",
       "         -0.23067789, -0.11123177, -0.26647466,  0.18993205,  0.3003164 ,\n",
       "         -0.3727929 , -0.36075547,  0.30948424,  0.40678877,  0.10457397],\n",
       "        [ 0.4197703 , -0.19889688,  0.16996211,  0.22446269,  0.43353575,\n",
       "         -0.37784314,  0.06599015, -0.4353858 , -0.09552896, -0.19681793,\n",
       "          0.41852033, -0.37792012, -0.26404148,  0.19045836, -0.3538587 ,\n",
       "          0.01538521,  0.06093138, -0.35588542, -0.0234544 ,  0.4166389 ],\n",
       "        [-0.42658088,  0.00283715,  0.37409347,  0.19243687, -0.07741332,\n",
       "         -0.13705644,  0.27691585, -0.23810862,  0.24868464,  0.26596713,\n",
       "          0.38431054,  0.43229616,  0.2584623 , -0.1296449 ,  0.43743443,\n",
       "          0.22898781,  0.3455606 ,  0.25051552, -0.13596728, -0.32933316],\n",
       "        [ 0.24712175, -0.12199059, -0.02101335,  0.30144042, -0.01137871,\n",
       "         -0.4010153 , -0.13749671, -0.14888287,  0.25363982,  0.44387424,\n",
       "         -0.33362126, -0.32148093, -0.06576645, -0.36471528, -0.25101343,\n",
       "          0.15799892, -0.01220834,  0.05211952, -0.26243573,  0.03701678],\n",
       "        [ 0.41734034, -0.3633024 ,  0.07189351,  0.12634319, -0.00929654,\n",
       "          0.41621017,  0.3964938 , -0.23106557,  0.05233619, -0.20663524,\n",
       "          0.14513981, -0.29896024,  0.23967057,  0.13714087, -0.17187944,\n",
       "         -0.0550181 , -0.26317465,  0.19168645, -0.04660931,  0.3892629 ],\n",
       "        [ 0.02876067, -0.14164129,  0.18126202,  0.35818148, -0.21663752,\n",
       "          0.06196702,  0.37291402,  0.36034238,  0.40820324,  0.22855693,\n",
       "         -0.28746787,  0.1823932 ,  0.16606802,  0.0272803 ,  0.30204093,\n",
       "         -0.37332132,  0.04895857,  0.12038213, -0.33363587, -0.39201647],\n",
       "        [ 0.39521348, -0.19694152,  0.20816207, -0.32277504, -0.2814899 ,\n",
       "          0.18028152,  0.22910947,  0.20565635, -0.09449747,  0.37462234,\n",
       "         -0.14586732, -0.13689074, -0.0281238 , -0.0080435 , -0.00914034,\n",
       "         -0.24171859,  0.29467088, -0.21375452, -0.04913843, -0.33347815],\n",
       "        [ 0.25482184,  0.25459325,  0.07475603,  0.04885086, -0.3383397 ,\n",
       "          0.21401918,  0.08641165, -0.07998306,  0.35977632,  0.13134462,\n",
       "         -0.04174501, -0.14674506,  0.22267723,  0.16083658, -0.26846385,\n",
       "          0.07332653,  0.3954621 , -0.0864383 , -0.16568512,  0.3636886 ],\n",
       "        [ 0.10569215, -0.37154284,  0.08594984, -0.19824179,  0.44503546,\n",
       "         -0.23433071,  0.01092726, -0.32986832,  0.3111093 , -0.3905424 ,\n",
       "          0.32996213,  0.0392175 , -0.1620245 , -0.14037022, -0.00610039,\n",
       "          0.05078885,  0.16731572, -0.32634276, -0.19188923,  0.1165278 ],\n",
       "        [ 0.16587907,  0.25982893, -0.11808622, -0.15483344, -0.1709536 ,\n",
       "          0.36734897, -0.3910156 , -0.41821536, -0.12389764, -0.13746855,\n",
       "         -0.2364165 , -0.22073796,  0.22508842,  0.06727082,  0.24163097,\n",
       "          0.08131552,  0.40051514,  0.42589784,  0.256199  ,  0.038973  ]],\n",
       "       dtype=float32)>,\n",
       " <tf.Variable 'dense_7/bias:0' shape=(20,) dtype=float32, numpy=\n",
       " array([0., 0., 0., 0., 0., 0., 0., 0., 0., 0., 0., 0., 0., 0., 0., 0., 0.,\n",
       "        0., 0., 0.], dtype=float32)>,\n",
       " <tf.Variable 'dense_8/kernel:0' shape=(20, 3) dtype=float32, numpy=\n",
       " array([[ 0.28443277, -0.39122754,  0.4050812 ],\n",
       "        [-0.32636976, -0.42643315,  0.2224099 ],\n",
       "        [ 0.18436527, -0.25905463,  0.19691008],\n",
       "        [ 0.20187092, -0.26465034, -0.2881856 ],\n",
       "        [ 0.25209588, -0.10887817,  0.18547219],\n",
       "        [ 0.2812937 , -0.3881664 ,  0.38621086],\n",
       "        [-0.4074553 ,  0.50690144, -0.15956151],\n",
       "        [-0.07631722,  0.44664228,  0.45585322],\n",
       "        [ 0.32280076,  0.2894144 , -0.37849262],\n",
       "        [ 0.2969334 ,  0.23907065, -0.20284668],\n",
       "        [-0.3037515 , -0.40507352,  0.2789989 ],\n",
       "        [ 0.501061  ,  0.16899347,  0.08284819],\n",
       "        [-0.1609798 ,  0.11829513,  0.28084898],\n",
       "        [-0.04373059,  0.37474823, -0.1086154 ],\n",
       "        [ 0.28451866,  0.2933823 ,  0.3201335 ],\n",
       "        [-0.31670865, -0.02428731, -0.3855953 ],\n",
       "        [-0.08713824, -0.03718138,  0.31608897],\n",
       "        [ 0.45365644,  0.08360863,  0.39524412],\n",
       "        [-0.19462103,  0.5102144 , -0.21873978],\n",
       "        [ 0.13199449,  0.14599329, -0.08641782]], dtype=float32)>,\n",
       " <tf.Variable 'dense_8/bias:0' shape=(3,) dtype=float32, numpy=array([0., 0., 0.], dtype=float32)>]"
      ]
     },
     "execution_count": 255,
     "metadata": {},
     "output_type": "execute_result"
    }
   ],
   "source": [
    "model.weights"
   ]
  },
  {
   "cell_type": "code",
   "execution_count": 256,
   "metadata": {},
   "outputs": [],
   "source": [
    "predictions = model(featurs)"
   ]
  },
  {
   "cell_type": "code",
   "execution_count": 257,
   "metadata": {},
   "outputs": [
    {
     "data": {
      "text/plain": [
       "<tf.Tensor: shape=(32, 3), dtype=float32, numpy=\n",
       "array([[ 6.9119105 ,  2.6698966 , -0.1354692 ],\n",
       "       [ 4.240418  ,  1.951775  ,  0.51075923],\n",
       "       [ 4.372317  ,  2.0205903 ,  0.5399184 ],\n",
       "       [ 5.1052637 ,  2.3597536 ,  0.6383884 ],\n",
       "       [ 4.118355  ,  1.918239  ,  0.52021706],\n",
       "       [ 6.642336  ,  2.717887  ,  0.16070318],\n",
       "       [ 4.3740497 ,  2.005193  ,  0.5214418 ],\n",
       "       [ 4.275879  ,  1.9779978 ,  0.5939832 ],\n",
       "       [ 7.5628004 ,  2.9232423 , -0.12908244],\n",
       "       [ 6.4116697 ,  2.6149309 ,  0.14579844],\n",
       "       [ 5.8203716 ,  2.273732  , -0.05226564],\n",
       "       [ 5.269702  ,  2.14813   ,  0.10531473],\n",
       "       [ 6.1929336 ,  2.4748008 ,  0.0513854 ],\n",
       "       [ 6.012376  ,  2.4253662 ,  0.06455517],\n",
       "       [ 7.0589223 ,  2.7674732 , -0.05211091],\n",
       "       [ 4.9653835 ,  2.3433526 ,  0.7471534 ],\n",
       "       [ 6.0243144 ,  2.354079  , -0.06204939],\n",
       "       [ 4.3087664 ,  1.9975226 ,  0.58788264],\n",
       "       [ 4.8247    ,  2.2484338 ,  0.61535966],\n",
       "       [ 7.527383  ,  2.9776268 , -0.00762224],\n",
       "       [ 6.388522  ,  2.5158637 , -0.01965237],\n",
       "       [ 4.5693035 ,  2.1433556 ,  0.6458949 ],\n",
       "       [ 4.9114714 ,  2.2931564 ,  0.64102983],\n",
       "       [ 5.70029   ,  2.33223   ,  0.12420964],\n",
       "       [ 4.7923155 ,  2.0386612 ,  0.2680347 ],\n",
       "       [ 6.608492  ,  2.6569228 ,  0.07423782],\n",
       "       [ 6.556377  ,  2.554161  , -0.07490945],\n",
       "       [ 6.2053967 ,  2.533393  ,  0.14771986],\n",
       "       [ 5.345766  ,  2.1966505 ,  0.14429975],\n",
       "       [ 4.2682805 ,  1.9920629 ,  0.5625757 ],\n",
       "       [ 7.200365  ,  2.824039  , -0.04325628],\n",
       "       [ 6.551792  ,  2.650462  ,  0.10632157]], dtype=float32)>"
      ]
     },
     "execution_count": 257,
     "metadata": {},
     "output_type": "execute_result"
    }
   ],
   "source": [
    "predictions"
   ]
  },
  {
   "cell_type": "code",
   "execution_count": 258,
   "metadata": {},
   "outputs": [
    {
     "data": {
      "text/plain": [
       "<tf.Tensor: shape=(32, 3), dtype=float32, numpy=\n",
       "array([[9.8498082e-01, 1.4162649e-02, 8.5662305e-04],\n",
       "       [8.8856906e-01, 9.0104438e-02, 2.1326570e-02],\n",
       "       [8.9536560e-01, 8.5242964e-02, 1.9391479e-02],\n",
       "       [9.2962831e-01, 5.9696577e-02, 1.0675056e-02],\n",
       "       [8.7860721e-01, 9.7341187e-02, 2.4051566e-02],\n",
       "       [9.7915924e-01, 1.9341350e-02, 1.4993948e-03],\n",
       "       [8.9701229e-01, 8.3949290e-02, 1.9038472e-02],\n",
       "       [8.8837820e-01, 8.9256696e-02, 2.2365101e-02],\n",
       "       [9.8998290e-01, 9.5651839e-03, 4.5194471e-04],\n",
       "       [9.7623456e-01, 2.1910457e-02, 1.8549019e-03],\n",
       "       [9.6933335e-01, 2.7937474e-02, 2.7290983e-03],\n",
       "       [9.5255846e-01, 4.1996215e-02, 5.4453621e-03],\n",
       "       [9.7424978e-01, 2.3654066e-02, 2.0961862e-03],\n",
       "       [9.7059816e-01, 2.6867110e-02, 2.5347420e-03],\n",
       "       [9.8570609e-01, 1.3489466e-02, 8.0438663e-04],\n",
       "       [9.1964179e-01, 6.6816710e-02, 1.3541431e-02],\n",
       "       [9.7300476e-01, 2.4782892e-02, 2.2122834e-03],\n",
       "       [8.9019412e-01, 8.8251948e-02, 2.1553876e-02],\n",
       "       [9.1666281e-01, 6.9719054e-02, 1.3618097e-02],\n",
       "       [9.8901808e-01, 1.0453706e-02, 5.2819354e-04],\n",
       "       [9.7804195e-01, 2.0346198e-02, 1.6118427e-03],\n",
       "       [9.0239036e-01, 7.9766147e-02, 1.7843489e-02],\n",
       "       [9.2004675e-01, 6.7094997e-02, 1.2858215e-02],\n",
       "       [9.6316493e-01, 3.3187214e-02, 3.6478734e-03],\n",
       "       [9.3063313e-01, 5.9276380e-02, 1.0090400e-02],\n",
       "       [9.7974157e-01, 1.8835055e-02, 1.4233806e-03],\n",
       "       [9.8078293e-01, 1.7923905e-02, 1.2931285e-03],\n",
       "       [9.7298479e-01, 2.4738599e-02, 2.2766194e-03],\n",
       "       [9.5383579e-01, 4.0910058e-02, 5.2541848e-03],\n",
       "       [8.8711095e-01, 9.1081306e-02, 2.1807749e-02],\n",
       "       [9.8688811e-01, 1.2406625e-02, 7.0534745e-04],\n",
       "       [9.7866243e-01, 1.9783664e-02, 1.5538193e-03]], dtype=float32)>"
      ]
     },
     "execution_count": 258,
     "metadata": {},
     "output_type": "execute_result"
    }
   ],
   "source": [
    "tf.nn.softmax(predictions)"
   ]
  },
  {
   "cell_type": "code",
   "execution_count": 259,
   "metadata": {},
   "outputs": [],
   "source": [
    "tmp = tf.constant([[2,20,30,3,6],[3,11,16,1,8],[14,45,23,5,27]])"
   ]
  },
  {
   "cell_type": "code",
   "execution_count": 260,
   "metadata": {},
   "outputs": [
    {
     "data": {
      "text/plain": [
       "<tf.Tensor: shape=(5,), dtype=int64, numpy=array([2, 2, 0, 2, 2])>"
      ]
     },
     "execution_count": 260,
     "metadata": {},
     "output_type": "execute_result"
    }
   ],
   "source": [
    "tf.math.argmax(tmp)"
   ]
  },
  {
   "cell_type": "code",
   "execution_count": 261,
   "metadata": {},
   "outputs": [
    {
     "data": {
      "text/plain": [
       "<tf.Tensor: shape=(3,), dtype=int64, numpy=array([2, 2, 1])>"
      ]
     },
     "execution_count": 261,
     "metadata": {},
     "output_type": "execute_result"
    }
   ],
   "source": [
    "tf.math.argmax(tmp, axis=1)"
   ]
  },
  {
   "cell_type": "code",
   "execution_count": 262,
   "metadata": {},
   "outputs": [
    {
     "data": {
      "text/plain": [
       "<tf.Tensor: shape=(5,), dtype=int64, numpy=array([2, 2, 0, 2, 2])>"
      ]
     },
     "execution_count": 262,
     "metadata": {},
     "output_type": "execute_result"
    }
   ],
   "source": [
    "tf.math.argmax(tmp, axis=0)"
   ]
  },
  {
   "cell_type": "code",
   "execution_count": 263,
   "metadata": {},
   "outputs": [
    {
     "name": "stdout",
     "output_type": "stream",
     "text": [
      "Prediction: [0 0 0 0 0 0 0 0 0 0 0 0 0 0 0 0 0 0 0 0 0 0 0 0 0 0 0 0 0 0 0 0]\n",
      "Lables: [2 0 0 0 0 1 0 0 2 1 2 1 2 1 2 0 2 0 0 2 2 0 0 1 1 2 2 1 1 0 2 1]\n"
     ]
    }
   ],
   "source": [
    "print(\"Prediction: {}\".format(tf.math.argmax(tf.nn.softmax(predictions), axis=1)))\n",
    "print(\"Lables: {}\".format(labels))"
   ]
  },
  {
   "cell_type": "code",
   "execution_count": 264,
   "metadata": {},
   "outputs": [
    {
     "data": {
      "text/plain": [
       "<tf.Tensor: shape=(3, 3), dtype=float32, numpy=\n",
       "array([[0.9 , 0.05, 0.05],\n",
       "       [0.5 , 0.89, 0.6 ],\n",
       "       [0.05, 0.01, 0.94]], dtype=float32)>"
      ]
     },
     "execution_count": 264,
     "metadata": {},
     "output_type": "execute_result"
    }
   ],
   "source": [
    "tf.convert_to_tensor([[.9, .05, .05], [.5, .89, .6], [.05, .01, .94]])"
   ]
  },
  {
   "cell_type": "code",
   "execution_count": 265,
   "metadata": {},
   "outputs": [
    {
     "data": {
      "text/plain": [
       "<tf.Tensor: shape=(3,), dtype=int32, numpy=array([0, 1, 2], dtype=int32)>"
      ]
     },
     "execution_count": 265,
     "metadata": {},
     "output_type": "execute_result"
    }
   ],
   "source": [
    "tf.convert_to_tensor([0, 1, 2])"
   ]
  },
  {
   "cell_type": "code",
   "execution_count": 266,
   "metadata": {},
   "outputs": [],
   "source": [
    "tmp = tf.keras.losses.SparseCategoricalCrossentropy()"
   ]
  },
  {
   "cell_type": "code",
   "execution_count": 267,
   "metadata": {},
   "outputs": [
    {
     "data": {
      "text/plain": [
       "<tensorflow.python.keras.losses.SparseCategoricalCrossentropy at 0x7f50647dc310>"
      ]
     },
     "execution_count": 267,
     "metadata": {},
     "output_type": "execute_result"
    }
   ],
   "source": [
    "tmp"
   ]
  },
  {
   "cell_type": "code",
   "execution_count": 268,
   "metadata": {},
   "outputs": [
    {
     "data": {
      "text/plain": [
       "<tensorflow.python.keras.losses.SparseCategoricalCrossentropy at 0x7f4fef6b82d0>"
      ]
     },
     "execution_count": 268,
     "metadata": {},
     "output_type": "execute_result"
    }
   ],
   "source": [
    "tf.keras.losses.SparseCategoricalCrossentropy()"
   ]
  },
  {
   "cell_type": "code",
   "execution_count": 269,
   "metadata": {},
   "outputs": [
    {
     "data": {
      "text/plain": [
       "<tf.Tensor: shape=(), dtype=float32, numpy=0.32396814>"
      ]
     },
     "execution_count": 269,
     "metadata": {},
     "output_type": "execute_result"
    }
   ],
   "source": [
    "tmp(tf.convert_to_tensor([0, 1, 2]), tf.convert_to_tensor([[.9, .05, .05], [.5, .89, .6], [.05, .01, .94]]))"
   ]
  },
  {
   "cell_type": "code",
   "execution_count": 270,
   "metadata": {},
   "outputs": [],
   "source": [
    "tmp = tf.keras.losses.SparseCategoricalCrossentropy(from_logits=True)"
   ]
  },
  {
   "cell_type": "code",
   "execution_count": 271,
   "metadata": {},
   "outputs": [
    {
     "data": {
      "text/plain": [
       "<tf.Tensor: shape=(), dtype=float32, numpy=0.6981444>"
      ]
     },
     "execution_count": 271,
     "metadata": {},
     "output_type": "execute_result"
    }
   ],
   "source": [
    "tmp(tf.convert_to_tensor([0, 1, 2]), tf.convert_to_tensor([[.9, .05, .05], [.5, .89, .6], [.05, .01, .94]]))"
   ]
  },
  {
   "cell_type": "code",
   "execution_count": 272,
   "metadata": {},
   "outputs": [
    {
     "data": {
      "text/plain": [
       "<tf.Tensor: shape=(3, 3), dtype=float32, numpy=\n",
       "array([[0.539133  , 0.23043351, 0.23043351],\n",
       "       [0.2791618 , 0.41231665, 0.30852154],\n",
       "       [0.22748373, 0.21856394, 0.55395234]], dtype=float32)>"
      ]
     },
     "execution_count": 272,
     "metadata": {},
     "output_type": "execute_result"
    }
   ],
   "source": [
    "tf.nn.softmax([[.9, .05, .05], [.5, .89, .6], [.05, .01, .94]], axis=1)"
   ]
  },
  {
   "cell_type": "code",
   "execution_count": 273,
   "metadata": {},
   "outputs": [
    {
     "data": {
      "text/plain": [
       "<tf.Tensor: shape=(3, 3), dtype=float32, numpy=\n",
       "array([[0.539133  , 0.23043351, 0.23043351],\n",
       "       [0.2791618 , 0.41231665, 0.30852154],\n",
       "       [0.22748373, 0.21856394, 0.55395234]], dtype=float32)>"
      ]
     },
     "execution_count": 273,
     "metadata": {},
     "output_type": "execute_result"
    }
   ],
   "source": [
    "tf.nn.softmax([[.9, .05, .05], [.5, .89, .6], [.05, .01, .94]])"
   ]
  },
  {
   "cell_type": "code",
   "execution_count": 274,
   "metadata": {},
   "outputs": [
    {
     "data": {
      "text/plain": [
       "<tf.Tensor: shape=(3, 3), dtype=float32, numpy=\n",
       "array([[0.47670466, 0.23380022, 0.19348414],\n",
       "       [0.31954467, 0.5415671 , 0.33535698],\n",
       "       [0.20375068, 0.22463277, 0.47115895]], dtype=float32)>"
      ]
     },
     "execution_count": 274,
     "metadata": {},
     "output_type": "execute_result"
    }
   ],
   "source": [
    "tf.nn.softmax([[.9, .05, .05], [.5, .89, .6], [.05, .01, .94]], axis=0)"
   ]
  },
  {
   "cell_type": "code",
   "execution_count": 275,
   "metadata": {},
   "outputs": [
    {
     "data": {
      "text/plain": [
       "<tf.Tensor: shape=(4,), dtype=float32, numpy=array([      -inf, -0.6931472,  0.       ,  1.609438 ], dtype=float32)>"
      ]
     },
     "execution_count": 275,
     "metadata": {},
     "output_type": "execute_result"
    }
   ],
   "source": [
    "tf.math.log(tf.constant([0, 0.5, 1, 5]))"
   ]
  },
  {
   "cell_type": "code",
   "execution_count": 276,
   "metadata": {},
   "outputs": [],
   "source": [
    "tmp2 = tf.keras.losses.SparseCategoricalCrossentropy()"
   ]
  },
  {
   "cell_type": "code",
   "execution_count": 277,
   "metadata": {},
   "outputs": [
    {
     "data": {
      "text/plain": [
       "<tf.Tensor: shape=(), dtype=float32, numpy=0.69814444>"
      ]
     },
     "execution_count": 277,
     "metadata": {},
     "output_type": "execute_result"
    }
   ],
   "source": [
    "tmp2(tf.convert_to_tensor([0, 1, 2]), tf.nn.softmax([[.9, .05, .05], [.5, .89, .6], [.05, .01, .94]], axis=1))"
   ]
  },
  {
   "cell_type": "code",
   "execution_count": 278,
   "metadata": {},
   "outputs": [],
   "source": [
    "loss_object = tf.keras.losses.SparseCategoricalCrossentropy(from_logits=True)"
   ]
  },
  {
   "cell_type": "code",
   "execution_count": 279,
   "metadata": {},
   "outputs": [],
   "source": [
    "def loss(model, data_in, label):\n",
    "    out = model(data_in)\n",
    "    return loss_object(y_true=label, y_pred=out)"
   ]
  },
  {
   "cell_type": "code",
   "execution_count": 280,
   "metadata": {},
   "outputs": [
    {
     "data": {
      "text/plain": [
       "<tf.Tensor: shape=(), dtype=float32, numpy=3.3552456>"
      ]
     },
     "execution_count": 280,
     "metadata": {},
     "output_type": "execute_result"
    }
   ],
   "source": [
    "loss(model, featurs, labels)"
   ]
  },
  {
   "cell_type": "code",
   "execution_count": 281,
   "metadata": {},
   "outputs": [],
   "source": [
    "def grad(model, inputs, targets):\n",
    "    with tf.GradientTape() as t:\n",
    "        loss_value = loss(model, inputs, targets)\n",
    "    return loss_value, t.gradient(loss_value, model.trainable_variables)"
   ]
  },
  {
   "cell_type": "code",
   "execution_count": 282,
   "metadata": {},
   "outputs": [],
   "source": [
    "optimizer = tf.keras.optimizers.Adam(learning_rate=0.01)"
   ]
  },
  {
   "cell_type": "code",
   "execution_count": 283,
   "metadata": {},
   "outputs": [],
   "source": [
    "loss_value, grads = grad(model, featurs, labels)"
   ]
  },
  {
   "cell_type": "code",
   "execution_count": 284,
   "metadata": {},
   "outputs": [
    {
     "data": {
      "text/plain": [
       "[<tf.Variable 'dense_6/kernel:0' shape=(4, 10) dtype=float32, numpy=\n",
       " array([[-0.48583364, -0.27963063,  0.4059832 ,  0.41009068, -0.38431302,\n",
       "          0.5740373 ,  0.32777888,  0.43467665, -0.00666279,  0.41317892],\n",
       "        [ 0.34318346, -0.08401531,  0.5129247 ,  0.5133873 , -0.07667369,\n",
       "          0.34674037, -0.30142072,  0.07836121, -0.33085677,  0.28947967],\n",
       "        [-0.6330599 ,  0.25135458, -0.06979781,  0.64380693,  0.13692975,\n",
       "          0.46354735, -0.5310525 , -0.6288253 , -0.2242209 , -0.01236618],\n",
       "        [-0.24690938, -0.09473622, -0.240405  , -0.02313018,  0.01540387,\n",
       "          0.45980525,  0.5946387 , -0.48374104, -0.5226523 ,  0.11662263]],\n",
       "       dtype=float32)>,\n",
       " <tf.Variable 'dense_6/bias:0' shape=(10,) dtype=float32, numpy=array([0., 0., 0., 0., 0., 0., 0., 0., 0., 0.], dtype=float32)>,\n",
       " <tf.Variable 'dense_7/kernel:0' shape=(10, 20) dtype=float32, numpy=\n",
       " array([[ 0.28517842, -0.18135211,  0.38630235,  0.21115619,  0.29159296,\n",
       "          0.06226248,  0.4232486 , -0.26900953, -0.2856393 , -0.20061545,\n",
       "         -0.23067789, -0.11123177, -0.26647466,  0.18993205,  0.3003164 ,\n",
       "         -0.3727929 , -0.36075547,  0.30948424,  0.40678877,  0.10457397],\n",
       "        [ 0.4197703 , -0.19889688,  0.16996211,  0.22446269,  0.43353575,\n",
       "         -0.37784314,  0.06599015, -0.4353858 , -0.09552896, -0.19681793,\n",
       "          0.41852033, -0.37792012, -0.26404148,  0.19045836, -0.3538587 ,\n",
       "          0.01538521,  0.06093138, -0.35588542, -0.0234544 ,  0.4166389 ],\n",
       "        [-0.42658088,  0.00283715,  0.37409347,  0.19243687, -0.07741332,\n",
       "         -0.13705644,  0.27691585, -0.23810862,  0.24868464,  0.26596713,\n",
       "          0.38431054,  0.43229616,  0.2584623 , -0.1296449 ,  0.43743443,\n",
       "          0.22898781,  0.3455606 ,  0.25051552, -0.13596728, -0.32933316],\n",
       "        [ 0.24712175, -0.12199059, -0.02101335,  0.30144042, -0.01137871,\n",
       "         -0.4010153 , -0.13749671, -0.14888287,  0.25363982,  0.44387424,\n",
       "         -0.33362126, -0.32148093, -0.06576645, -0.36471528, -0.25101343,\n",
       "          0.15799892, -0.01220834,  0.05211952, -0.26243573,  0.03701678],\n",
       "        [ 0.41734034, -0.3633024 ,  0.07189351,  0.12634319, -0.00929654,\n",
       "          0.41621017,  0.3964938 , -0.23106557,  0.05233619, -0.20663524,\n",
       "          0.14513981, -0.29896024,  0.23967057,  0.13714087, -0.17187944,\n",
       "         -0.0550181 , -0.26317465,  0.19168645, -0.04660931,  0.3892629 ],\n",
       "        [ 0.02876067, -0.14164129,  0.18126202,  0.35818148, -0.21663752,\n",
       "          0.06196702,  0.37291402,  0.36034238,  0.40820324,  0.22855693,\n",
       "         -0.28746787,  0.1823932 ,  0.16606802,  0.0272803 ,  0.30204093,\n",
       "         -0.37332132,  0.04895857,  0.12038213, -0.33363587, -0.39201647],\n",
       "        [ 0.39521348, -0.19694152,  0.20816207, -0.32277504, -0.2814899 ,\n",
       "          0.18028152,  0.22910947,  0.20565635, -0.09449747,  0.37462234,\n",
       "         -0.14586732, -0.13689074, -0.0281238 , -0.0080435 , -0.00914034,\n",
       "         -0.24171859,  0.29467088, -0.21375452, -0.04913843, -0.33347815],\n",
       "        [ 0.25482184,  0.25459325,  0.07475603,  0.04885086, -0.3383397 ,\n",
       "          0.21401918,  0.08641165, -0.07998306,  0.35977632,  0.13134462,\n",
       "         -0.04174501, -0.14674506,  0.22267723,  0.16083658, -0.26846385,\n",
       "          0.07332653,  0.3954621 , -0.0864383 , -0.16568512,  0.3636886 ],\n",
       "        [ 0.10569215, -0.37154284,  0.08594984, -0.19824179,  0.44503546,\n",
       "         -0.23433071,  0.01092726, -0.32986832,  0.3111093 , -0.3905424 ,\n",
       "          0.32996213,  0.0392175 , -0.1620245 , -0.14037022, -0.00610039,\n",
       "          0.05078885,  0.16731572, -0.32634276, -0.19188923,  0.1165278 ],\n",
       "        [ 0.16587907,  0.25982893, -0.11808622, -0.15483344, -0.1709536 ,\n",
       "          0.36734897, -0.3910156 , -0.41821536, -0.12389764, -0.13746855,\n",
       "         -0.2364165 , -0.22073796,  0.22508842,  0.06727082,  0.24163097,\n",
       "          0.08131552,  0.40051514,  0.42589784,  0.256199  ,  0.038973  ]],\n",
       "       dtype=float32)>,\n",
       " <tf.Variable 'dense_7/bias:0' shape=(20,) dtype=float32, numpy=\n",
       " array([0., 0., 0., 0., 0., 0., 0., 0., 0., 0., 0., 0., 0., 0., 0., 0., 0.,\n",
       "        0., 0., 0.], dtype=float32)>,\n",
       " <tf.Variable 'dense_8/kernel:0' shape=(20, 3) dtype=float32, numpy=\n",
       " array([[ 0.28443277, -0.39122754,  0.4050812 ],\n",
       "        [-0.32636976, -0.42643315,  0.2224099 ],\n",
       "        [ 0.18436527, -0.25905463,  0.19691008],\n",
       "        [ 0.20187092, -0.26465034, -0.2881856 ],\n",
       "        [ 0.25209588, -0.10887817,  0.18547219],\n",
       "        [ 0.2812937 , -0.3881664 ,  0.38621086],\n",
       "        [-0.4074553 ,  0.50690144, -0.15956151],\n",
       "        [-0.07631722,  0.44664228,  0.45585322],\n",
       "        [ 0.32280076,  0.2894144 , -0.37849262],\n",
       "        [ 0.2969334 ,  0.23907065, -0.20284668],\n",
       "        [-0.3037515 , -0.40507352,  0.2789989 ],\n",
       "        [ 0.501061  ,  0.16899347,  0.08284819],\n",
       "        [-0.1609798 ,  0.11829513,  0.28084898],\n",
       "        [-0.04373059,  0.37474823, -0.1086154 ],\n",
       "        [ 0.28451866,  0.2933823 ,  0.3201335 ],\n",
       "        [-0.31670865, -0.02428731, -0.3855953 ],\n",
       "        [-0.08713824, -0.03718138,  0.31608897],\n",
       "        [ 0.45365644,  0.08360863,  0.39524412],\n",
       "        [-0.19462103,  0.5102144 , -0.21873978],\n",
       "        [ 0.13199449,  0.14599329, -0.08641782]], dtype=float32)>,\n",
       " <tf.Variable 'dense_8/bias:0' shape=(3,) dtype=float32, numpy=array([0., 0., 0.], dtype=float32)>]"
      ]
     },
     "execution_count": 284,
     "metadata": {},
     "output_type": "execute_result"
    }
   ],
   "source": [
    "model.trainable_variables"
   ]
  },
  {
   "cell_type": "code",
   "execution_count": 285,
   "metadata": {},
   "outputs": [
    {
     "name": "stdout",
     "output_type": "stream",
     "text": [
      "Step 0, Initial Loss: 3.355245590209961\n"
     ]
    }
   ],
   "source": [
    "print(\"Step {}, Initial Loss: {}\".format(optimizer.iterations.numpy(), loss_value.numpy()))"
   ]
  },
  {
   "cell_type": "code",
   "execution_count": 286,
   "metadata": {},
   "outputs": [
    {
     "data": {
      "text/plain": [
       "<tf.Variable 'UnreadVariable' shape=() dtype=int64, numpy=1>"
      ]
     },
     "execution_count": 286,
     "metadata": {},
     "output_type": "execute_result"
    }
   ],
   "source": [
    "optimizer.apply_gradients(zip(grads, model.trainable_variables))"
   ]
  },
  {
   "cell_type": "code",
   "execution_count": 287,
   "metadata": {},
   "outputs": [
    {
     "name": "stdout",
     "output_type": "stream",
     "text": [
      "Step 1, Initial Loss: 2.536689519882202\n"
     ]
    }
   ],
   "source": [
    "print(\"Step {}, Initial Loss: {}\".format(optimizer.iterations.numpy(), loss(model, featurs, labels)))"
   ]
  },
  {
   "cell_type": "code",
   "execution_count": 288,
   "metadata": {},
   "outputs": [],
   "source": [
    "def cal_accuracy(y_true, y_pre):\n",
    "    return tf.reduce_mean(tf.cast(y_true == y_pre, dtype=tf.float32))"
   ]
  },
  {
   "cell_type": "code",
   "execution_count": 289,
   "metadata": {},
   "outputs": [],
   "source": [
    "test_y_pre = model(featurs)"
   ]
  },
  {
   "cell_type": "code",
   "execution_count": 290,
   "metadata": {},
   "outputs": [],
   "source": [
    "test_y_pre = tf.math.argmax(tf.nn.softmax(test_y_pre, axis=1), axis=1)"
   ]
  },
  {
   "cell_type": "code",
   "execution_count": 291,
   "metadata": {},
   "outputs": [
    {
     "data": {
      "text/plain": [
       "<tf.Tensor: shape=(32,), dtype=int64, numpy=\n",
       "array([0, 0, 0, 0, 0, 0, 0, 0, 0, 0, 0, 0, 0, 0, 0, 0, 0, 0, 0, 0, 0, 0,\n",
       "       0, 0, 0, 0, 0, 0, 0, 0, 0, 0])>"
      ]
     },
     "execution_count": 291,
     "metadata": {},
     "output_type": "execute_result"
    }
   ],
   "source": [
    "test_y_pre"
   ]
  },
  {
   "cell_type": "code",
   "execution_count": 292,
   "metadata": {},
   "outputs": [],
   "source": [
    "test_y_pre = tf.cast(test_y_pre, dtype=tf.int32)"
   ]
  },
  {
   "cell_type": "code",
   "execution_count": 293,
   "metadata": {},
   "outputs": [
    {
     "data": {
      "text/plain": [
       "<tf.Tensor: shape=(32,), dtype=bool, numpy=\n",
       "array([False,  True,  True,  True,  True, False,  True,  True, False,\n",
       "       False, False, False, False, False, False,  True, False,  True,\n",
       "        True, False, False,  True,  True, False, False, False, False,\n",
       "       False, False,  True, False, False])>"
      ]
     },
     "execution_count": 293,
     "metadata": {},
     "output_type": "execute_result"
    }
   ],
   "source": [
    "test_y_pre == labels"
   ]
  },
  {
   "cell_type": "code",
   "execution_count": 294,
   "metadata": {},
   "outputs": [
    {
     "data": {
      "text/plain": [
       "<tf.Tensor: shape=(), dtype=int32, numpy=12>"
      ]
     },
     "execution_count": 294,
     "metadata": {},
     "output_type": "execute_result"
    }
   ],
   "source": [
    "tf.reduce_sum(tf.cast(test_y_pre == labels, dtype=tf.int32))"
   ]
  },
  {
   "cell_type": "code",
   "execution_count": 295,
   "metadata": {},
   "outputs": [
    {
     "data": {
      "text/plain": [
       "<tf.Tensor: shape=(), dtype=float32, numpy=0.375>"
      ]
     },
     "execution_count": 295,
     "metadata": {},
     "output_type": "execute_result"
    }
   ],
   "source": [
    "cal_accuracy(labels, test_y_pre)"
   ]
  },
  {
   "cell_type": "code",
   "execution_count": 296,
   "metadata": {},
   "outputs": [
    {
     "data": {
      "text/plain": [
       "0.375"
      ]
     },
     "execution_count": 296,
     "metadata": {},
     "output_type": "execute_result"
    }
   ],
   "source": [
    "cal_accuracy(labels, test_y_pre).numpy()"
   ]
  },
  {
   "cell_type": "code",
   "execution_count": 297,
   "metadata": {},
   "outputs": [
    {
     "data": {
      "text/plain": [
       "0.375"
      ]
     },
     "execution_count": 297,
     "metadata": {},
     "output_type": "execute_result"
    }
   ],
   "source": [
    "0 + cal_accuracy(labels, test_y_pre).numpy()"
   ]
  },
  {
   "cell_type": "code",
   "execution_count": 298,
   "metadata": {},
   "outputs": [],
   "source": [
    "train_loss_result1 = []\n",
    "train_loss_result2 = []\n",
    "\n",
    "train_accuracy_result1 = []\n",
    "train_accuracy_result2 = []"
   ]
  },
  {
   "cell_type": "code",
   "execution_count": 299,
   "metadata": {},
   "outputs": [],
   "source": [
    "epochs = 201"
   ]
  },
  {
   "cell_type": "code",
   "execution_count": 300,
   "metadata": {},
   "outputs": [
    {
     "name": "stdout",
     "output_type": "stream",
     "text": [
      "Epoch: 0, Loss: 1.9915419816970825, Accuracy:0.28333333134651184\n",
      "Epoch: 10, Loss: 0.48162907361984253, Accuracy:0.7083333134651184\n",
      "Epoch: 20, Loss: 0.2931211590766907, Accuracy:0.9666666388511658\n",
      "Epoch: 30, Loss: 0.19199475646018982, Accuracy:0.9666666388511658\n",
      "Epoch: 40, Loss: 0.11572553217411041, Accuracy:0.9750000238418579\n",
      "Epoch: 50, Loss: 0.1001109704375267, Accuracy:0.9750000238418579\n",
      "Epoch: 60, Loss: 0.07867152988910675, Accuracy:0.9750000238418579\n",
      "Epoch: 70, Loss: 0.07197143137454987, Accuracy:0.9916666746139526\n",
      "Epoch: 80, Loss: 0.07168988883495331, Accuracy:0.9833333492279053\n",
      "Epoch: 90, Loss: 0.07051253318786621, Accuracy:0.9750000238418579\n",
      "Epoch: 100, Loss: 0.05417397990822792, Accuracy:0.9833333492279053\n",
      "Epoch: 110, Loss: 0.06697042286396027, Accuracy:0.9833333492279053\n",
      "Epoch: 120, Loss: 0.0774005800485611, Accuracy:0.9666666388511658\n",
      "Epoch: 130, Loss: 0.04918685182929039, Accuracy:0.9833333492279053\n",
      "Epoch: 140, Loss: 0.048978909850120544, Accuracy:0.9833333492279053\n",
      "Epoch: 150, Loss: 0.06431697309017181, Accuracy:0.9750000238418579\n",
      "Epoch: 160, Loss: 0.06252288818359375, Accuracy:0.9750000238418579\n",
      "Epoch: 170, Loss: 0.054333072155714035, Accuracy:0.9833333492279053\n",
      "Epoch: 180, Loss: 0.04531596973538399, Accuracy:0.9833333492279053\n",
      "Epoch: 190, Loss: 0.07089299708604813, Accuracy:0.9666666388511658\n",
      "Epoch: 200, Loss: 0.04750898852944374, Accuracy:0.9833333492279053\n"
     ]
    }
   ],
   "source": [
    "for epoch in range(epochs):\n",
    "    epoch_loss_avg_value = 0.0\n",
    "    epoch_accuracy_value = 0.0\n",
    "    epoch_loss_avg = tf.keras.metrics.Mean()\n",
    "    epoch_accuracy = tf.keras.metrics.SparseCategoricalAccuracy()\n",
    "    \n",
    "    cnt = 0\n",
    "    for x, y in train_dataset:\n",
    "        loss_value, grads = grad(model, x, y)\n",
    "        optimizer.apply_gradients(zip(grads, model.trainable_weights))\n",
    "        \n",
    "        epoch_loss_avg(loss_value)\n",
    "        epoch_loss_avg_value += loss_value.numpy()\n",
    "        \n",
    "        out = model(x)\n",
    "        epoch_accuracy(y, out)\n",
    "#         print(\"Temp accuracy:{}\".format(epoch_accuracy(y, out)))\n",
    "        \n",
    "        out = tf.nn.softmax(out, axis=1)\n",
    "        \n",
    "        out = tf.math.argmax(out, axis=1)\n",
    "        \n",
    "        out = tf.cast(out, dtype=tf.int32)\n",
    "        cnt += 1\n",
    "\n",
    "        epoch_accuracy_value += cal_accuracy(y, out).numpy()\n",
    "#         print(\"My accuracy:{}\".format(epoch_accuracy_value/cnt))\n",
    "        \n",
    "    epoch_loss_avg_value /= cnt\n",
    "    epoch_accuracy_value /= cnt\n",
    "    \n",
    "    train_loss_result1.append(epoch_loss_avg_value)\n",
    "    train_accuracy_result1.append(epoch_accuracy_value)\n",
    "    \n",
    "    train_loss_result2.append(epoch_loss_avg.result())\n",
    "    train_accuracy_result2.append(epoch_accuracy.result())\n",
    "    \n",
    "    if epoch % 10 == 0 :\n",
    "        print(\"Epoch: {}, Loss: {}, Accuracy:{}\".format(epoch, epoch_loss_avg.result(), epoch_accuracy.result()))"
   ]
  },
  {
   "cell_type": "code",
   "execution_count": 301,
   "metadata": {},
   "outputs": [
    {
     "data": {
      "text/plain": [
       "[0.28125,\n",
       " 0.34375,\n",
       " 0.3489583358168602,\n",
       " 0.5885416716337204,\n",
       " 0.4348958358168602,\n",
       " 0.7109375,\n",
       " 0.7005208283662796,\n",
       " 0.703125,\n",
       " 0.8723958283662796,\n",
       " 0.703125]"
      ]
     },
     "execution_count": 301,
     "metadata": {},
     "output_type": "execute_result"
    }
   ],
   "source": [
    "train_accuracy_result1[:10]"
   ]
  },
  {
   "cell_type": "code",
   "execution_count": 302,
   "metadata": {},
   "outputs": [
    {
     "data": {
      "text/plain": [
       "[<tf.Tensor: shape=(), dtype=float32, numpy=0.28333333>,\n",
       " <tf.Tensor: shape=(), dtype=float32, numpy=0.35>,\n",
       " <tf.Tensor: shape=(), dtype=float32, numpy=0.35>,\n",
       " <tf.Tensor: shape=(), dtype=float32, numpy=0.59166664>,\n",
       " <tf.Tensor: shape=(), dtype=float32, numpy=0.43333334>,\n",
       " <tf.Tensor: shape=(), dtype=float32, numpy=0.7083333>,\n",
       " <tf.Tensor: shape=(), dtype=float32, numpy=0.7>,\n",
       " <tf.Tensor: shape=(), dtype=float32, numpy=0.7083333>,\n",
       " <tf.Tensor: shape=(), dtype=float32, numpy=0.875>,\n",
       " <tf.Tensor: shape=(), dtype=float32, numpy=0.7>]"
      ]
     },
     "execution_count": 302,
     "metadata": {},
     "output_type": "execute_result"
    }
   ],
   "source": [
    "train_accuracy_result2[:10]"
   ]
  },
  {
   "cell_type": "code",
   "execution_count": 303,
   "metadata": {},
   "outputs": [],
   "source": [
    "out = model(featurs)"
   ]
  },
  {
   "cell_type": "code",
   "execution_count": 305,
   "metadata": {},
   "outputs": [],
   "source": [
    "tmp = tf.keras.metrics.SparseCategoricalAccuracy()"
   ]
  },
  {
   "cell_type": "code",
   "execution_count": 306,
   "metadata": {},
   "outputs": [
    {
     "data": {
      "text/plain": [
       "<tf.Tensor: shape=(), dtype=float32, numpy=1.0>"
      ]
     },
     "execution_count": 306,
     "metadata": {},
     "output_type": "execute_result"
    }
   ],
   "source": [
    "tmp(labels, out)"
   ]
  },
  {
   "cell_type": "code",
   "execution_count": 307,
   "metadata": {},
   "outputs": [
    {
     "data": {
      "text/plain": [
       "(<tf.Tensor: shape=(), dtype=float32, numpy=0.640625>,\n",
       " <tf.Tensor: shape=(), dtype=float32, numpy=0.5208333>)"
      ]
     },
     "execution_count": 307,
     "metadata": {},
     "output_type": "execute_result"
    }
   ],
   "source": [
    "tmp(labels, out[:, ::-1]),tmp(labels, out[:, ::-1])"
   ]
  },
  {
   "cell_type": "code",
   "execution_count": 308,
   "metadata": {},
   "outputs": [],
   "source": [
    "tmp_out = out[:, ::-1]"
   ]
  },
  {
   "cell_type": "code",
   "execution_count": 309,
   "metadata": {},
   "outputs": [],
   "source": [
    "tmp_out = tf.nn.softmax(tmp_out, axis=1)\n",
    "tmp_out = tf.math.argmax(tmp_out, axis=1)"
   ]
  },
  {
   "cell_type": "code",
   "execution_count": 310,
   "metadata": {},
   "outputs": [
    {
     "data": {
      "text/plain": [
       "<tf.Tensor: shape=(32,), dtype=int64, numpy=\n",
       "array([0, 2, 2, 2, 2, 1, 2, 2, 0, 1, 0, 1, 0, 1, 0, 2, 0, 2, 2, 0, 0, 2,\n",
       "       2, 1, 1, 0, 0, 1, 1, 2, 0, 1])>"
      ]
     },
     "execution_count": 310,
     "metadata": {},
     "output_type": "execute_result"
    }
   ],
   "source": [
    "tmp_out"
   ]
  },
  {
   "cell_type": "code",
   "execution_count": 311,
   "metadata": {},
   "outputs": [
    {
     "data": {
      "text/plain": [
       "<tf.Tensor: shape=(), dtype=float32, numpy=0.28125>"
      ]
     },
     "execution_count": 311,
     "metadata": {},
     "output_type": "execute_result"
    }
   ],
   "source": [
    "cal_accuracy(labels, tf.cast(tmp_out, dtype=tf.int32))"
   ]
  },
  {
   "cell_type": "code",
   "execution_count": 314,
   "metadata": {},
   "outputs": [
    {
     "data": {
      "image/png": "[encoded data removed]",
      "text/plain": [
       "<Figure size 432x288 with 2 Axes>"
      ]
     },
     "metadata": {
      "needs_background": "light"
     },
     "output_type": "display_data"
    }
   ],
   "source": [
    "fig, axes = plt.subplots(2, sharex=True)\n",
    "fig.suptitle(\"Training Metrics\")\n",
    "axes[0].set_ylabel(\"Loss\", fontsize=14)\n",
    "axes[0].plot(train_loss_result2)\n",
    "\n",
    "axes[1].set_ylabel(\"Accuracy\", fontsize=14)\n",
    "axes[1].set_xlabel(\"Epoch\", fontsize=14)\n",
    "axes[1].plot(train_accuracy_result2)\n",
    "plt.show()"
   ]
  },
  {
   "cell_type": "code",
   "execution_count": 315,
   "metadata": {},
   "outputs": [],
   "source": [
    "test_url = \"https://storage.googleapis.com/download.tensorflow.org/data/iris_test.csv\""
   ]
  },
  {
   "cell_type": "code",
   "execution_count": 317,
   "metadata": {},
   "outputs": [],
   "source": [
    "test_fp = tf.keras.utils.get_file(fname=os.path.basename(test_url), origin=test_url)"
   ]
  },
  {
   "cell_type": "code",
   "execution_count": 318,
   "metadata": {},
   "outputs": [
    {
     "data": {
      "text/plain": [
       "'/home/rrjin/.keras/datasets/iris_test.csv'"
      ]
     },
     "execution_count": 318,
     "metadata": {},
     "output_type": "execute_result"
    }
   ],
   "source": [
    "test_fp"
   ]
  },
  {
   "cell_type": "code",
   "execution_count": 324,
   "metadata": {},
   "outputs": [],
   "source": [
    "test_dataset = tf.data.experimental.make_csv_dataset(file_pattern=test_fp, batch_size=32, column_names=column_names, label_name=\"species\", num_epochs=1, shuffle=False)"
   ]
  },
  {
   "cell_type": "code",
   "execution_count": 325,
   "metadata": {},
   "outputs": [
    {
     "data": {
      "text/plain": [
       "(OrderedDict([('sepal_length',\n",
       "               <tf.Tensor: shape=(30,), dtype=float32, numpy=\n",
       "               array([5.9, 6.9, 5.1, 6. , 5.5, 6.2, 5.5, 6.3, 5.6, 6.7, 7.1, 4.3, 5.6,\n",
       "                      5.5, 6. , 5.1, 5.7, 4.8, 5.1, 5.7, 5.4, 5.6, 6.3, 6.3, 5.8, 6.1,\n",
       "                      5.2, 6.7, 6.7, 6.4], dtype=float32)>),\n",
       "              ('sepal_width',\n",
       "               <tf.Tensor: shape=(30,), dtype=float32, numpy=\n",
       "               array([3. , 3.1, 3.3, 3.4, 2.5, 2.9, 4.2, 2.8, 3. , 2.5, 3. , 3. , 2.8,\n",
       "                      2.3, 2.2, 3.5, 2.6, 3.4, 3.4, 2.5, 3.4, 3. , 2.9, 2.5, 2.7, 3. ,\n",
       "                      4.1, 3.1, 3.3, 2.9], dtype=float32)>),\n",
       "              ('petal_length',\n",
       "               <tf.Tensor: shape=(30,), dtype=float32, numpy=\n",
       "               array([4.2, 5.4, 1.7, 4.5, 4. , 4.3, 1.4, 5.1, 4.1, 5.8, 5.9, 1.1, 4.9,\n",
       "                      4. , 4. , 1.4, 3.5, 1.9, 1.5, 5. , 1.7, 4.5, 5.6, 4.9, 3.9, 4.6,\n",
       "                      1.5, 4.7, 5.7, 4.3], dtype=float32)>),\n",
       "              ('petal_width',\n",
       "               <tf.Tensor: shape=(30,), dtype=float32, numpy=\n",
       "               array([1.5, 2.1, 0.5, 1.6, 1.3, 1.3, 0.2, 1.5, 1.3, 1.8, 2.1, 0.1, 2. ,\n",
       "                      1.3, 1. , 0.2, 1. , 0.2, 0.2, 2. , 0.2, 1.5, 1.8, 1.5, 1.2, 1.4,\n",
       "                      0.1, 1.5, 2.5, 1.3], dtype=float32)>)]),\n",
       " <tf.Tensor: shape=(30,), dtype=int32, numpy=\n",
       " array([1, 2, 0, 1, 1, 1, 0, 2, 1, 2, 2, 0, 2, 1, 1, 0, 1, 0, 0, 2, 0, 1,\n",
       "        2, 1, 1, 1, 0, 1, 2, 1], dtype=int32)>)"
      ]
     },
     "execution_count": 325,
     "metadata": {},
     "output_type": "execute_result"
    }
   ],
   "source": [
    "next(iter(test_dataset))"
   ]
  },
  {
   "cell_type": "code",
   "execution_count": 326,
   "metadata": {},
   "outputs": [],
   "source": [
    "test_dataset = test_dataset.map(pack_features_vector)"
   ]
  },
  {
   "cell_type": "code",
   "execution_count": 327,
   "metadata": {},
   "outputs": [
    {
     "data": {
      "text/plain": [
       "(<tf.Tensor: shape=(30, 4), dtype=float32, numpy=\n",
       " array([[5.9, 3. , 4.2, 1.5],\n",
       "        [6.9, 3.1, 5.4, 2.1],\n",
       "        [5.1, 3.3, 1.7, 0.5],\n",
       "        [6. , 3.4, 4.5, 1.6],\n",
       "        [5.5, 2.5, 4. , 1.3],\n",
       "        [6.2, 2.9, 4.3, 1.3],\n",
       "        [5.5, 4.2, 1.4, 0.2],\n",
       "        [6.3, 2.8, 5.1, 1.5],\n",
       "        [5.6, 3. , 4.1, 1.3],\n",
       "        [6.7, 2.5, 5.8, 1.8],\n",
       "        [7.1, 3. , 5.9, 2.1],\n",
       "        [4.3, 3. , 1.1, 0.1],\n",
       "        [5.6, 2.8, 4.9, 2. ],\n",
       "        [5.5, 2.3, 4. , 1.3],\n",
       "        [6. , 2.2, 4. , 1. ],\n",
       "        [5.1, 3.5, 1.4, 0.2],\n",
       "        [5.7, 2.6, 3.5, 1. ],\n",
       "        [4.8, 3.4, 1.9, 0.2],\n",
       "        [5.1, 3.4, 1.5, 0.2],\n",
       "        [5.7, 2.5, 5. , 2. ],\n",
       "        [5.4, 3.4, 1.7, 0.2],\n",
       "        [5.6, 3. , 4.5, 1.5],\n",
       "        [6.3, 2.9, 5.6, 1.8],\n",
       "        [6.3, 2.5, 4.9, 1.5],\n",
       "        [5.8, 2.7, 3.9, 1.2],\n",
       "        [6.1, 3. , 4.6, 1.4],\n",
       "        [5.2, 4.1, 1.5, 0.1],\n",
       "        [6.7, 3.1, 4.7, 1.5],\n",
       "        [6.7, 3.3, 5.7, 2.5],\n",
       "        [6.4, 2.9, 4.3, 1.3]], dtype=float32)>,\n",
       " <tf.Tensor: shape=(30,), dtype=int32, numpy=\n",
       " array([1, 2, 0, 1, 1, 1, 0, 2, 1, 2, 2, 0, 2, 1, 1, 0, 1, 0, 0, 2, 0, 1,\n",
       "        2, 1, 1, 1, 0, 1, 2, 1], dtype=int32)>)"
      ]
     },
     "execution_count": 327,
     "metadata": {},
     "output_type": "execute_result"
    }
   ],
   "source": [
    "next(iter(test_dataset))"
   ]
  },
  {
   "cell_type": "code",
   "execution_count": 328,
   "metadata": {},
   "outputs": [
    {
     "name": "stdout",
     "output_type": "stream",
     "text": [
      "Accuracy: 0.9666666388511658\n"
     ]
    }
   ],
   "source": [
    "acc = tf.metrics.SparseCategoricalAccuracy()\n",
    "for x, y in test_dataset:\n",
    "    out = model(x)\n",
    "    acc(y, out)\n",
    "    print(\"Accuracy: {}\".format(acc.result()))"
   ]
  },
  {
   "cell_type": "code",
   "execution_count": 333,
   "metadata": {},
   "outputs": [],
   "source": [
    "predict = tf.math.argmax(out, axis=1, output_type=tf.int32)"
   ]
  },
  {
   "cell_type": "code",
   "execution_count": 334,
   "metadata": {},
   "outputs": [
    {
     "data": {
      "text/plain": [
       "<tf.Tensor: shape=(30,), dtype=int32, numpy=\n",
       "array([1, 2, 0, 1, 1, 1, 0, 1, 1, 2, 2, 0, 2, 1, 1, 0, 1, 0, 0, 2, 0, 1,\n",
       "       2, 1, 1, 1, 0, 1, 2, 1], dtype=int32)>"
      ]
     },
     "execution_count": 334,
     "metadata": {},
     "output_type": "execute_result"
    }
   ],
   "source": [
    "predict"
   ]
  },
  {
   "cell_type": "code",
   "execution_count": 335,
   "metadata": {},
   "outputs": [
    {
     "data": {
      "text/plain": [
       "<tf.Tensor: shape=(30, 2), dtype=int32, numpy=\n",
       "array([[1, 1],\n",
       "       [2, 2],\n",
       "       [0, 0],\n",
       "       [1, 1],\n",
       "       [1, 1],\n",
       "       [1, 1],\n",
       "       [0, 0],\n",
       "       [2, 1],\n",
       "       [1, 1],\n",
       "       [2, 2],\n",
       "       [2, 2],\n",
       "       [0, 0],\n",
       "       [2, 2],\n",
       "       [1, 1],\n",
       "       [1, 1],\n",
       "       [0, 0],\n",
       "       [1, 1],\n",
       "       [0, 0],\n",
       "       [0, 0],\n",
       "       [2, 2],\n",
       "       [0, 0],\n",
       "       [1, 1],\n",
       "       [2, 2],\n",
       "       [1, 1],\n",
       "       [1, 1],\n",
       "       [1, 1],\n",
       "       [0, 0],\n",
       "       [1, 1],\n",
       "       [2, 2],\n",
       "       [1, 1]], dtype=int32)>"
      ]
     },
     "execution_count": 335,
     "metadata": {},
     "output_type": "execute_result"
    }
   ],
   "source": [
    "tf.stack([y, predict], axis=1)"
   ]
  },
  {
   "cell_type": "code",
   "execution_count": 336,
   "metadata": {},
   "outputs": [],
   "source": [
    "predict_dataset = tf.convert_to_tensor([\n",
    "    [5.1, 3.3, 1.7, 0.5,],\n",
    "    [5.9, 3.0, 4.2, 1.5,],\n",
    "    [6.9, 3.1, 5.4, 2.1]\n",
    "])"
   ]
  },
  {
   "cell_type": "code",
   "execution_count": 337,
   "metadata": {},
   "outputs": [],
   "source": [
    "predict = model(predict_dataset)"
   ]
  },
  {
   "cell_type": "code",
   "execution_count": 338,
   "metadata": {},
   "outputs": [
    {
     "data": {
      "text/plain": [
       "<tf.Tensor: shape=(3, 3), dtype=float32, numpy=\n",
       "array([[13.518888 ,  5.193158 , -5.66352  ],\n",
       "       [-0.628271 ,  8.444022 ,  2.476973 ],\n",
       "       [-0.7647066,  2.3614452,  7.730166 ]], dtype=float32)>"
      ]
     },
     "execution_count": 338,
     "metadata": {},
     "output_type": "execute_result"
    }
   ],
   "source": [
    "predict"
   ]
  },
  {
   "cell_type": "code",
   "execution_count": 339,
   "metadata": {},
   "outputs": [
    {
     "name": "stdout",
     "output_type": "stream",
     "text": [
      "Example 0 prediction 0.9997578263282776.\n",
      "Example 1 prediction 0.9973305463790894.\n",
      "Example 2 prediction 0.9951589703559875.\n"
     ]
    }
   ],
   "source": [
    "for i, logits in enumerate(predict):\n",
    "    idx = tf.math.argmax(logits).numpy()\n",
    "    prob = tf.nn.softmax(logits)\n",
    "    print(\"Example {} prediction {}.\".format(i, prob[idx]))"
   ]
  },
  {
   "cell_type": "code",
   "execution_count": null,
   "metadata": {},
   "outputs": [],
   "source": []
  }
 ],
 "metadata": {
  "kernelspec": {
   "display_name": "Python 3",
   "language": "python",
   "name": "python3"
  },
  "language_info": {
   "codemirror_mode": {
    "name": "ipython",
    "version": 3
   },
   "file_extension": ".py",
   "mimetype": "text/x-python",
   "name": "python",
   "nbconvert_exporter": "python",
   "pygments_lexer": "ipython3",
   "version": "3.7.7"
  }
 },
 "nbformat": 4,
 "nbformat_minor": 4
}
