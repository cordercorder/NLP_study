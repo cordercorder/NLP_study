{
 "cells": [
  {
   "cell_type": "code",
   "execution_count": 2,
   "metadata": {},
   "outputs": [],
   "source": [
    "from __future__ import absolute_import, division, print_function, unicode_literals\n",
    "\n",
    "from sklearn.model_selection import train_test_split\n",
    "\n",
    "import tensorflow as tf\n",
    "\n",
    "import matplotlib.pyplot as plt\n",
    "import matplotlib.ticker as ticker\n",
    "\n",
    "import unicodedata\n",
    "import re\n",
    "import numpy as np\n",
    "import os\n",
    "import io\n",
    "import time"
   ]
  },
  {
   "cell_type": "code",
   "execution_count": 3,
   "metadata": {},
   "outputs": [
    {
     "data": {
      "text/plain": [
       "[PhysicalDevice(name='/physical_device:CPU:0', device_type='CPU'),\n",
       " PhysicalDevice(name='/physical_device:XLA_CPU:0', device_type='XLA_CPU'),\n",
       " PhysicalDevice(name='/physical_device:GPU:0', device_type='GPU'),\n",
       " PhysicalDevice(name='/physical_device:GPU:1', device_type='GPU'),\n",
       " PhysicalDevice(name='/physical_device:GPU:2', device_type='GPU'),\n",
       " PhysicalDevice(name='/physical_device:GPU:3', device_type='GPU'),\n",
       " PhysicalDevice(name='/physical_device:XLA_GPU:0', device_type='XLA_GPU'),\n",
       " PhysicalDevice(name='/physical_device:XLA_GPU:1', device_type='XLA_GPU'),\n",
       " PhysicalDevice(name='/physical_device:XLA_GPU:2', device_type='XLA_GPU'),\n",
       " PhysicalDevice(name='/physical_device:XLA_GPU:3', device_type='XLA_GPU')]"
      ]
     },
     "execution_count": 3,
     "metadata": {},
     "output_type": "execute_result"
    }
   ],
   "source": [
    "tf.config.experimental.list_physical_devices()"
   ]
  },
  {
   "cell_type": "code",
   "execution_count": 4,
   "metadata": {},
   "outputs": [],
   "source": [
    "gpus = tf.config.experimental.list_physical_devices(\"GPU\")"
   ]
  },
  {
   "cell_type": "code",
   "execution_count": 5,
   "metadata": {},
   "outputs": [
    {
     "data": {
      "text/plain": [
       "[PhysicalDevice(name='/physical_device:GPU:0', device_type='GPU'),\n",
       " PhysicalDevice(name='/physical_device:GPU:1', device_type='GPU'),\n",
       " PhysicalDevice(name='/physical_device:GPU:2', device_type='GPU'),\n",
       " PhysicalDevice(name='/physical_device:GPU:3', device_type='GPU')]"
      ]
     },
     "execution_count": 5,
     "metadata": {},
     "output_type": "execute_result"
    }
   ],
   "source": [
    "gpus"
   ]
  },
  {
   "cell_type": "code",
   "execution_count": 6,
   "metadata": {},
   "outputs": [
    {
     "name": "stdout",
     "output_type": "stream",
     "text": [
      "[LogicalDevice(name='/device:GPU:0', device_type='GPU')]\n"
     ]
    }
   ],
   "source": [
    "if gpus:\n",
    "    try:\n",
    "        tf.config.experimental.set_visible_devices(gpus[2], \"GPU\")\n",
    "        logical_gpus = tf.config.experimental.list_logical_devices(\"GPU\")\n",
    "        print(logical_gpus)\n",
    "    except Exception as e:\n",
    "        print(e)"
   ]
  },
  {
   "cell_type": "code",
   "execution_count": 7,
   "metadata": {},
   "outputs": [
    {
     "name": "stdout",
     "output_type": "stream",
     "text": [
      "Downloading data from http://storage.googleapis.com/download.tensorflow.org/data/spa-eng.zip\n",
      "2646016/2638744 [==============================] - 1s 0us/step\n"
     ]
    }
   ],
   "source": [
    "path_to_zip = tf.keras.utils.get_file(\"/data/rrjin/corpus_data/spa-eng.zip\", origin=\"http://storage.googleapis.com/download.tensorflow.org/data/spa-eng.zip\", extract=True)"
   ]
  },
  {
   "cell_type": "code",
   "execution_count": 8,
   "metadata": {},
   "outputs": [
    {
     "data": {
      "text/plain": [
       "'/data/rrjin/corpus_data/spa-eng.zip'"
      ]
     },
     "execution_count": 8,
     "metadata": {},
     "output_type": "execute_result"
    }
   ],
   "source": [
    "path_to_zip"
   ]
  },
  {
   "cell_type": "code",
   "execution_count": 29,
   "metadata": {},
   "outputs": [],
   "source": [
    "path_to_file = os.path.dirname(path_to_zip) + \"/spa-eng/spa.txt\""
   ]
  },
  {
   "cell_type": "code",
   "execution_count": 30,
   "metadata": {},
   "outputs": [
    {
     "data": {
      "text/plain": [
       "'/data/rrjin/corpus_data/spa-eng/spa.txt'"
      ]
     },
     "execution_count": 30,
     "metadata": {},
     "output_type": "execute_result"
    }
   ],
   "source": [
    "path_to_file"
   ]
  },
  {
   "cell_type": "code",
   "execution_count": 31,
   "metadata": {},
   "outputs": [],
   "source": [
    "def unicode_to_ascii(s):\n",
    "    return \"\".join(c for c in unicodedata.normalize(\"NFD\", s) if unicodedata.category(c) != \"Mn\")"
   ]
  },
  {
   "cell_type": "code",
   "execution_count": 32,
   "metadata": {},
   "outputs": [],
   "source": [
    "def preprocess_sentence(w):\n",
    "    w = unicode_to_ascii(w.lower().strip())\n",
    "\n",
    "    # 在单词与跟在其后的标点符号之间插入一个空格\n",
    "    # 例如： \"he is a boy.\" => \"he is a boy .\"\n",
    "    # 参考：https://stackoverflow.com/questions/3645931/python-padding-punctuation-with-white-spaces-keeping-punctuation\n",
    "    w = re.sub(r\"([?.!,¿])\", r\" \\1 \", w)\n",
    "    w = re.sub(r'[\" \"]+', \" \", w)\n",
    "    \n",
    "    # 除了 (a-z, A-Z, \".\", \"?\", \"!\", \",\")，将所有字符替换为空格\n",
    "    w = re.sub(r\"[^a-zA-Z?.!,¿]+\", \" \", w)\n",
    "    \n",
    "    w = w.rstrip().strip()\n",
    "\n",
    "    # 给句子加上开始和结束标记\n",
    "    # 以便模型知道何时开始和结束预测\n",
    "    w = '<start> ' + w + ' <end>'\n",
    "    return w"
   ]
  },
  {
   "cell_type": "code",
   "execution_count": 33,
   "metadata": {},
   "outputs": [],
   "source": [
    "en_sentence = u\"May I borrow this book?\""
   ]
  },
  {
   "cell_type": "code",
   "execution_count": 34,
   "metadata": {},
   "outputs": [
    {
     "name": "stdout",
     "output_type": "stream",
     "text": [
      "<start> may i borrow this book ? <end>\n"
     ]
    }
   ],
   "source": [
    "print(preprocess_sentence(en_sentence))"
   ]
  },
  {
   "cell_type": "code",
   "execution_count": 35,
   "metadata": {},
   "outputs": [],
   "source": [
    "sp_sentence = u\"¿Puedo tomar prestado este libro?\""
   ]
  },
  {
   "cell_type": "code",
   "execution_count": 36,
   "metadata": {},
   "outputs": [
    {
     "name": "stdout",
     "output_type": "stream",
     "text": [
      "<start> ¿ puedo tomar prestado este libro ? <end>\n"
     ]
    }
   ],
   "source": [
    "print(preprocess_sentence(sp_sentence))"
   ]
  },
  {
   "cell_type": "code",
   "execution_count": 37,
   "metadata": {},
   "outputs": [
    {
     "name": "stdout",
     "output_type": "stream",
     "text": [
      "b'<start> \\xc2\\xbf puedo tomar prestado este libro ? <end>'\n"
     ]
    }
   ],
   "source": [
    "print(preprocess_sentence(sp_sentence).encode(\"utf-8\"))"
   ]
  },
  {
   "cell_type": "code",
   "execution_count": 40,
   "metadata": {},
   "outputs": [],
   "source": [
    "def create_dataset(path, num_examples):\n",
    "    lines = io.open(path, encoding=\"utf-8\").read().strip().split(\"\\n\")\n",
    "    word_pairs = [[preprocess_sentence(w) for w in l.split(\"\\t\")] for l in lines[:num_examples]]\n",
    "    return zip(*word_pairs) # src, tgt"
   ]
  },
  {
   "cell_type": "code",
   "execution_count": 41,
   "metadata": {},
   "outputs": [
    {
     "data": {
      "text/plain": [
       "<zip at 0x7f8edc7caeb0>"
      ]
     },
     "execution_count": 41,
     "metadata": {},
     "output_type": "execute_result"
    }
   ],
   "source": [
    "create_dataset(path_to_file, None)"
   ]
  },
  {
   "cell_type": "code",
   "execution_count": 42,
   "metadata": {},
   "outputs": [],
   "source": [
    "en, sp = create_dataset(path_to_file, None)"
   ]
  },
  {
   "cell_type": "code",
   "execution_count": 166,
   "metadata": {},
   "outputs": [
    {
     "data": {
      "text/plain": [
       "'<start> vete . <end>'"
      ]
     },
     "execution_count": 166,
     "metadata": {},
     "output_type": "execute_result"
    }
   ],
   "source": [
    "sp[1]"
   ]
  },
  {
   "cell_type": "code",
   "execution_count": 44,
   "metadata": {},
   "outputs": [],
   "source": [
    "def max_length(tensor):\n",
    "    return max(len(t) for t in tensor)"
   ]
  },
  {
   "cell_type": "code",
   "execution_count": 45,
   "metadata": {},
   "outputs": [],
   "source": [
    "def tokenize(lang):\n",
    "    lang_tokenizer = tf.keras.preprocessing.text.Tokenizer(filters=\"\")\n",
    "    lang_tokenizer.fit_on_texts(lang)\n",
    "    \n",
    "    tensor = lang_tokenizer.texts_to_sequences(lang)\n",
    "    tensor = tf.keras.preprocessing.sequence.pad_sequences(tensor, padding=\"post\")\n",
    "    return tensor, lang_tokenizer"
   ]
  },
  {
   "cell_type": "code",
   "execution_count": 78,
   "metadata": {},
   "outputs": [],
   "source": [
    "def load_dataset(path, num_examples=None):\n",
    "    tgt_lang, src_lang = create_dataset(path, num_examples)\n",
    "    \n",
    "    src_tensor, src_lang_tokenizer = tokenize(src_lang)\n",
    "    tgt_tensor, tgt_lang_tokenizer = tokenize(tgt_lang)\n",
    "    \n",
    "    return src_tensor, tgt_tensor, src_lang_tokenizer, tgt_lang_tokenizer"
   ]
  },
  {
   "cell_type": "code",
   "execution_count": 79,
   "metadata": {},
   "outputs": [],
   "source": [
    "num_examples = 30000\n",
    "src_tensor, tgt_tensor, src_lang_tokenizer, tgt_lang_tokenizer = load_dataset(path_to_file, num_examples)"
   ]
  },
  {
   "cell_type": "code",
   "execution_count": 189,
   "metadata": {},
   "outputs": [],
   "source": [
    "max_length_src, max_length_tgt = max_length(src_tensor), max_length(tgt_tensor)"
   ]
  },
  {
   "cell_type": "code",
   "execution_count": 81,
   "metadata": {},
   "outputs": [],
   "source": [
    "src_tensor_train, src_tensor_val, tgt_tensor_train, tgt_tensor_val = train_test_split(src_tensor, tgt_tensor, test_size=0.2)"
   ]
  },
  {
   "cell_type": "code",
   "execution_count": 82,
   "metadata": {},
   "outputs": [
    {
     "name": "stdout",
     "output_type": "stream",
     "text": [
      "24000 6000 24000 6000\n"
     ]
    }
   ],
   "source": [
    "print(len(src_tensor_train), len(src_tensor_val), len(tgt_tensor_train), len(tgt_tensor_val))"
   ]
  },
  {
   "cell_type": "code",
   "execution_count": 83,
   "metadata": {},
   "outputs": [],
   "source": [
    "buffer_size = len(src_tensor_train)"
   ]
  },
  {
   "cell_type": "code",
   "execution_count": 84,
   "metadata": {},
   "outputs": [],
   "source": [
    "batch_size = 64"
   ]
  },
  {
   "cell_type": "code",
   "execution_count": 85,
   "metadata": {},
   "outputs": [],
   "source": [
    "steps_per_epoch = len(src_tensor_train) // batch_size"
   ]
  },
  {
   "cell_type": "code",
   "execution_count": 86,
   "metadata": {},
   "outputs": [],
   "source": [
    "embedding_dim = 256"
   ]
  },
  {
   "cell_type": "code",
   "execution_count": 87,
   "metadata": {},
   "outputs": [],
   "source": [
    "units = 1024"
   ]
  },
  {
   "cell_type": "code",
   "execution_count": 90,
   "metadata": {},
   "outputs": [],
   "source": [
    "src_vocab_size = len(src_lang_tokenizer.word_index) + 1"
   ]
  },
  {
   "cell_type": "code",
   "execution_count": 91,
   "metadata": {},
   "outputs": [],
   "source": [
    "tgt_vocab_size = len(tgt_lang_tokenizer.word_index) + 1"
   ]
  },
  {
   "cell_type": "code",
   "execution_count": 94,
   "metadata": {},
   "outputs": [
    {
     "data": {
      "text/plain": [
       "(30000, 16)"
      ]
     },
     "execution_count": 94,
     "metadata": {},
     "output_type": "execute_result"
    }
   ],
   "source": [
    "src_tensor.shape"
   ]
  },
  {
   "cell_type": "code",
   "execution_count": 96,
   "metadata": {},
   "outputs": [],
   "source": [
    "dataset = tf.data.Dataset.from_tensor_slices((src_tensor_train, tgt_tensor_train)).shuffle(buffer_size)"
   ]
  },
  {
   "cell_type": "code",
   "execution_count": 97,
   "metadata": {},
   "outputs": [],
   "source": [
    "dataset = dataset.batch(batch_size, drop_remainder=True)"
   ]
  },
  {
   "cell_type": "code",
   "execution_count": 154,
   "metadata": {},
   "outputs": [],
   "source": [
    "class Encoder(tf.keras.Model):\n",
    "    \n",
    "    def __init__(self, vocab_size, embedding_dim, enc_units, batch_size):\n",
    "        \n",
    "        super(Encoder, self).__init__()\n",
    "        self.batch_size = batch_size\n",
    "        self.enc_units = enc_units\n",
    "        self.embedding = tf.keras.layers.Embedding(vocab_size, embedding_dim)\n",
    "        \n",
    "        # input is :(batch_size, timesteps, input_dim)\n",
    "        # if return_sequence is true: output is: (batch_size, timesteps, units)\n",
    "        # else output is: (batch_size, units)\n",
    "        self.gru = tf.keras.layers.GRU(self.enc_units, return_sequences=True, return_state=True, recurrent_initializer=\"glorot_uniform\")\n",
    "    \n",
    "    def call(self, x, hidden):\n",
    "        \"\"\"\n",
    "        Args:\n",
    "            x: 2D tensor with shape: (batch_size, input_length)\n",
    "            output_shape of x: 3D tensor with shape: (batch_size, input_length, embedding_dim)\n",
    "        \"\"\"\n",
    "        x = self.embedding(x)\n",
    "        output, state = self.gru(x, initial_state=hidden)\n",
    "        return output, state\n",
    "        \n",
    "    def initialize_hidden_state(self):\n",
    "        return tf.zeros((self.batch_size, self.enc_units))"
   ]
  },
  {
   "cell_type": "code",
   "execution_count": 155,
   "metadata": {},
   "outputs": [],
   "source": [
    "example_src_batch, example_tgt_batch = next(iter(dataset))"
   ]
  },
  {
   "cell_type": "code",
   "execution_count": 156,
   "metadata": {},
   "outputs": [
    {
     "data": {
      "text/plain": [
       "(TensorShape([64, 16]), TensorShape([64, 11]))"
      ]
     },
     "execution_count": 156,
     "metadata": {},
     "output_type": "execute_result"
    }
   ],
   "source": [
    "example_src_batch.shape, example_tgt_batch.shape"
   ]
  },
  {
   "cell_type": "code",
   "execution_count": 157,
   "metadata": {},
   "outputs": [
    {
     "name": "stdout",
     "output_type": "stream",
     "text": [
      "Encoder output shape :(batch_size, input_length, units) (64, 16, 1024)\n",
      "Encoder hidden shape :(batch_size units) (64, 1024)\n"
     ]
    }
   ],
   "source": [
    "encoder = Encoder(src_vocab_size, embedding_dim, units, batch_size)\n",
    "\n",
    "sample_hidden = encoder.initialize_hidden_state()\n",
    "sample_output, sample_hidden = encoder(example_src_batch, sample_hidden)\n",
    "print(\"Encoder output shape :(batch_size, input_length, units) {}\".format(sample_output.shape))\n",
    "print(\"Encoder hidden shape :(batch_size units) {}\".format(sample_hidden.shape))"
   ]
  },
  {
   "cell_type": "code",
   "execution_count": 158,
   "metadata": {},
   "outputs": [
    {
     "data": {
      "text/plain": [
       "<BatchDataset shapes: ((64, 16), (64, 11)), types: (tf.int32, tf.int32)>"
      ]
     },
     "execution_count": 158,
     "metadata": {},
     "output_type": "execute_result"
    }
   ],
   "source": [
    "dataset"
   ]
  },
  {
   "cell_type": "code",
   "execution_count": 159,
   "metadata": {},
   "outputs": [],
   "source": [
    "class BahdanauAttention(tf.keras.layers.Layer):\n",
    "    \n",
    "    def __init__(self, units):\n",
    "        \n",
    "        super(BahdanauAttention, self).__init__()\n",
    "        self.W1 = tf.keras.layers.Dense(units)\n",
    "        self.W2 = tf.keras.layers.Dense(units)\n",
    "        self.V = tf.keras.layers.Dense(1)\n",
    "    \n",
    "    \n",
    "    def call(self, hs, ht):\n",
    "        \n",
    "        \"\"\"\n",
    "        Args:\n",
    "            ht: (batch, input_length, units_of_encoder) output sequence\n",
    "            hs: (batch, units_of_encoder) last hidden states\n",
    "        \"\"\"\n",
    "        hs = tf.expand_dims(hs, axis=1)  # (batch, 1, units_of_encoder)\n",
    "        \n",
    "        # (batch, input_length, 1)\n",
    "        score = self.V(tf.nn.tanh(self.W1(ht) + self.W2(hs)))  # broadcasting will hapen\n",
    "        \n",
    "        # (batch, input_length, 1)\n",
    "        attention_weights = tf.nn.softmax(score, axis=1)\n",
    "        \n",
    "        # context_vector (batch, input_length, units_of_encoder)\n",
    "        context_vector = attention_weights * ht # broadcasting will hapen\n",
    "        \n",
    "        # context_vecor (batch, units_of_encoder)\n",
    "        context_vector = tf.math.reduce_sum(context_vector, axis=1)\n",
    "        \n",
    "        return context_vector, attention_weights"
   ]
  },
  {
   "cell_type": "code",
   "execution_count": 160,
   "metadata": {},
   "outputs": [
    {
     "name": "stdout",
     "output_type": "stream",
     "text": [
      "Attention result shape:(batch, units_of_encoder) (64, 1024)\n",
      "Attention weight shape:(batch, input_length, 1) (64, 16, 1)\n"
     ]
    }
   ],
   "source": [
    "attention_layer = BahdanauAttention(10)\n",
    "attention_result, attention_weights = attention_layer(sample_hidden, sample_output)\n",
    "print(\"Attention result shape:(batch, units_of_encoder) {}\".format(attention_result.shape))\n",
    "print(\"Attention weight shape:(batch, input_length, 1) {}\".format(attention_weights.shape))"
   ]
  },
  {
   "cell_type": "code",
   "execution_count": 161,
   "metadata": {},
   "outputs": [],
   "source": [
    "class Decoder(tf.keras.Model):\n",
    "    \n",
    "    def __init__(self, vocab_size, embedding_dim, dec_units, batch_size):\n",
    "        \n",
    "        super(Decoder, self).__init__()\n",
    "        self.batch_size = batch_size\n",
    "        self.dec_units = dec_units\n",
    "        self.embedding = tf.keras.layers.Embedding(vocab_size, embedding_dim)\n",
    "        self.gru = tf.keras.layers.GRU(self.dec_units, return_sequences=True, return_state=True, recurrent_initializer=\"glorot_uniform\")\n",
    "        \n",
    "        self.fc = tf.keras.layers.Dense(vocab_size)\n",
    "        \n",
    "        self.attention = BahdanauAttention(self.dec_units)\n",
    "        \n",
    "        \n",
    "    def call(self, x, hidden, enc_output):\n",
    "        \n",
    "        \"\"\"\n",
    "        Args:\n",
    "            x: (batch_size, 1)\n",
    "        \"\"\"\n",
    "        \n",
    "        context_vector, attention_weights = self.attention(hidden, enc_output)\n",
    "        \n",
    "        # (batch_size, 1, embedding_dim)\n",
    "        x = self.embedding(x)\n",
    "        \n",
    "        # (batch_size, 1, units_of_encoder + embedding_dim)\n",
    "        x = tf.concat([tf.expand_dims(context_vector, axis=1), x], axis=-1)\n",
    "        \n",
    "        # output: (batch_size, 1, dec_units)\n",
    "        # state: (batch_size, dec_units)\n",
    "        output, state = self.gru(x)\n",
    "        \n",
    "        output = tf.reshape(output, [-1, output.shape[2]])\n",
    "        \n",
    "        # (batch_size, vocab)\n",
    "        x = self.fc(output)\n",
    "        return x, state, attention_weights"
   ]
  },
  {
   "cell_type": "code",
   "execution_count": 162,
   "metadata": {},
   "outputs": [
    {
     "name": "stdout",
     "output_type": "stream",
     "text": [
      "Decoder output shape (bathch_size, vocab) (64, 4935)\n"
     ]
    }
   ],
   "source": [
    "decoder = Decoder(tgt_vocab_size, embedding_dim, units, batch_size)\n",
    "sample_decoder_output, _, _ = decoder(tf.random.uniform((64, 1)), sample_hidden, sample_output)\n",
    "print(\"Decoder output shape (bathch_size, vocab) {}\".format(sample_decoder_output.shape))"
   ]
  },
  {
   "cell_type": "code",
   "execution_count": 163,
   "metadata": {},
   "outputs": [],
   "source": [
    "optimizer = tf.keras.optimizers.Adam()\n",
    "loss_object = tf.keras.losses.SparseCategoricalCrossentropy(from_logits=True, reduction=tf.keras.losses.Reduction.NONE)"
   ]
  },
  {
   "cell_type": "code",
   "execution_count": 164,
   "metadata": {},
   "outputs": [],
   "source": [
    "def loss_function(real, pred):\n",
    "    mask = tf.math.logical_not(tf.math.equal(real, 0))\n",
    "    loss_ = loss_object(real, pred)\n",
    "    \n",
    "    mask = tf.cast(mask, dtype=loss_.dtype)\n",
    "    \n",
    "    loss_ *= mask\n",
    "    \n",
    "    return tf.reduce_mean(loss_)"
   ]
  },
  {
   "cell_type": "code",
   "execution_count": 165,
   "metadata": {},
   "outputs": [],
   "source": [
    "checkpoint_dir = \"./training_check_points\"\n",
    "checkpoint_prefix = os.path.join(checkpoint_dir, \"ckpt\")\n",
    "checkpoint = tf.train.Checkpoint(optimizer = optimizer, encoder = encoder, decoder = decoder)"
   ]
  },
  {
   "cell_type": "code",
   "execution_count": 177,
   "metadata": {},
   "outputs": [],
   "source": [
    "@tf.function\n",
    "def train_step(src, tgt, enc_hidden):\n",
    "    loss = 0\n",
    "    \n",
    "    with tf.GradientTape() as tape:\n",
    "        \n",
    "        enc_output, enc_hidden = encoder(src, enc_hidden)\n",
    "        \n",
    "        dec_hidden = enc_hidden\n",
    "        dec_input = tf.expand_dims([tgt_lang_tokenizer.word_index[\"<start>\"]] * batch_size, axis=1)\n",
    "        \n",
    "        for t in range(1, tgt.shape[1]):\n",
    "            predictions, dec_hidden, _ = decoder(dec_input, dec_hidden, enc_output)\n",
    "            \n",
    "            loss += loss_function(tgt[:, t], predictions)\n",
    "            \n",
    "            # teacher forcing\n",
    "            dec_input = tf.expand_dims(tgt[:, t], axis=1)\n",
    "    \n",
    "    batch_loss = (loss / tgt.shape[1])\n",
    "    \n",
    "    variables = encoder.trainable_variables + decoder.trainable_variables\n",
    "    gradients = tape.gradient(loss, variables)\n",
    "    \n",
    "    optimizer.apply_gradients(zip(gradients, variables))\n",
    "    \n",
    "    return batch_loss"
   ]
  },
  {
   "cell_type": "code",
   "execution_count": 179,
   "metadata": {},
   "outputs": [
    {
     "name": "stdout",
     "output_type": "stream",
     "text": [
      "0 (64, 16) (64, 11)\n",
      "1 (64, 16) (64, 11)\n",
      "2 (64, 16) (64, 11)\n",
      "3 (64, 16) (64, 11)\n",
      "4 (64, 16) (64, 11)\n",
      "5 (64, 16) (64, 11)\n",
      "6 (64, 16) (64, 11)\n",
      "7 (64, 16) (64, 11)\n",
      "8 (64, 16) (64, 11)\n",
      "9 (64, 16) (64, 11)\n",
      "10 (64, 16) (64, 11)\n",
      "11 (64, 16) (64, 11)\n",
      "12 (64, 16) (64, 11)\n",
      "13 (64, 16) (64, 11)\n",
      "14 (64, 16) (64, 11)\n",
      "15 (64, 16) (64, 11)\n",
      "16 (64, 16) (64, 11)\n",
      "17 (64, 16) (64, 11)\n",
      "18 (64, 16) (64, 11)\n",
      "19 (64, 16) (64, 11)\n",
      "20 (64, 16) (64, 11)\n",
      "21 (64, 16) (64, 11)\n",
      "22 (64, 16) (64, 11)\n",
      "23 (64, 16) (64, 11)\n",
      "24 (64, 16) (64, 11)\n",
      "25 (64, 16) (64, 11)\n",
      "26 (64, 16) (64, 11)\n",
      "27 (64, 16) (64, 11)\n",
      "28 (64, 16) (64, 11)\n",
      "29 (64, 16) (64, 11)\n",
      "30 (64, 16) (64, 11)\n",
      "31 (64, 16) (64, 11)\n",
      "32 (64, 16) (64, 11)\n",
      "33 (64, 16) (64, 11)\n",
      "34 (64, 16) (64, 11)\n",
      "35 (64, 16) (64, 11)\n",
      "36 (64, 16) (64, 11)\n",
      "37 (64, 16) (64, 11)\n",
      "38 (64, 16) (64, 11)\n",
      "39 (64, 16) (64, 11)\n",
      "40 (64, 16) (64, 11)\n",
      "41 (64, 16) (64, 11)\n",
      "42 (64, 16) (64, 11)\n",
      "43 (64, 16) (64, 11)\n",
      "44 (64, 16) (64, 11)\n",
      "45 (64, 16) (64, 11)\n",
      "46 (64, 16) (64, 11)\n",
      "47 (64, 16) (64, 11)\n",
      "48 (64, 16) (64, 11)\n",
      "49 (64, 16) (64, 11)\n",
      "50 (64, 16) (64, 11)\n"
     ]
    }
   ],
   "source": [
    "for i, (x, y) in enumerate(dataset.as_numpy_iterator()):\n",
    "    print(i, x.shape, y.shape)\n",
    "    if i == 50:\n",
    "        break"
   ]
  },
  {
   "cell_type": "code",
   "execution_count": 180,
   "metadata": {},
   "outputs": [
    {
     "name": "stdout",
     "output_type": "stream",
     "text": [
      "Epoch 0 Batch 0 Loss 4.6630\n",
      "Epoch 0 Batch 100 Loss 2.1399\n",
      "Epoch 0 Batch 200 Loss 1.8757\n",
      "Epoch 0 Batch 300 Loss 1.7250\n",
      "Time taken for 1 epoch 40.050865650177 sec \n",
      "\n",
      "Epoch 1 Batch 0 Loss 1.5574\n",
      "Epoch 1 Batch 100 Loss 1.3636\n",
      "Epoch 1 Batch 200 Loss 1.4104\n",
      "Epoch 1 Batch 300 Loss 1.2972\n",
      "Time taken for 1 epoch 31.20362663269043 sec \n",
      "\n",
      "Epoch 2 Batch 0 Loss 1.0315\n",
      "Epoch 2 Batch 100 Loss 1.0685\n",
      "Epoch 2 Batch 200 Loss 1.0386\n",
      "Epoch 2 Batch 300 Loss 0.9027\n",
      "Time taken for 1 epoch 30.90855097770691 sec \n",
      "\n",
      "Epoch 3 Batch 0 Loss 0.7472\n",
      "Epoch 3 Batch 100 Loss 0.6549\n",
      "Epoch 3 Batch 200 Loss 0.7085\n",
      "Epoch 3 Batch 300 Loss 0.6825\n",
      "Time taken for 1 epoch 31.21520733833313 sec \n",
      "\n",
      "Epoch 4 Batch 0 Loss 0.4659\n",
      "Epoch 4 Batch 100 Loss 0.3772\n",
      "Epoch 4 Batch 200 Loss 0.4765\n",
      "Epoch 4 Batch 300 Loss 0.4158\n",
      "Time taken for 1 epoch 30.909621477127075 sec \n",
      "\n",
      "Epoch 5 Batch 0 Loss 0.3094\n",
      "Epoch 5 Batch 100 Loss 0.3266\n",
      "Epoch 5 Batch 200 Loss 0.3426\n",
      "Epoch 5 Batch 300 Loss 0.3026\n",
      "Time taken for 1 epoch 31.094359636306763 sec \n",
      "\n",
      "Epoch 6 Batch 0 Loss 0.2309\n",
      "Epoch 6 Batch 100 Loss 0.2367\n",
      "Epoch 6 Batch 200 Loss 0.1818\n",
      "Epoch 6 Batch 300 Loss 0.1881\n",
      "Time taken for 1 epoch 30.923243522644043 sec \n",
      "\n",
      "Epoch 7 Batch 0 Loss 0.1522\n",
      "Epoch 7 Batch 100 Loss 0.2083\n",
      "Epoch 7 Batch 200 Loss 0.0951\n",
      "Epoch 7 Batch 300 Loss 0.1747\n",
      "Time taken for 1 epoch 31.081210374832153 sec \n",
      "\n",
      "Epoch 8 Batch 0 Loss 0.0850\n",
      "Epoch 8 Batch 100 Loss 0.0758\n",
      "Epoch 8 Batch 200 Loss 0.1269\n",
      "Epoch 8 Batch 300 Loss 0.0909\n",
      "Time taken for 1 epoch 30.868971586227417 sec \n",
      "\n",
      "Epoch 9 Batch 0 Loss 0.0793\n",
      "Epoch 9 Batch 100 Loss 0.0827\n",
      "Epoch 9 Batch 200 Loss 0.0982\n",
      "Epoch 9 Batch 300 Loss 0.1354\n",
      "Time taken for 1 epoch 31.18552803993225 sec \n",
      "\n"
     ]
    }
   ],
   "source": [
    "EPOCHS = 10\n",
    "\n",
    "for epoch in range(EPOCHS):\n",
    "    start = time.time()\n",
    "    \n",
    "    enc_hidden = encoder.initialize_hidden_state()\n",
    "    total_loss = 10\n",
    "    \n",
    "    for batch, (src, tgt) in enumerate(dataset.as_numpy_iterator()):\n",
    "        batch_loss = train_step(src, tgt, enc_hidden)\n",
    "        total_loss += batch_loss\n",
    "        \n",
    "        if batch % 100 == 0:\n",
    "            print(\"Epoch {} Batch {} Loss {:.4f}\".format(epoch, batch, batch_loss.numpy()))\n",
    "    \n",
    "    if (epoch + 1) % 2 == 0:\n",
    "        checkpoint.save(file_prefix=checkpoint_prefix)\n",
    "    \n",
    "    print(\"Time taken for 1 epoch {} sec \\n\".format(time.time() - start))"
   ]
  },
  {
   "cell_type": "code",
   "execution_count": 183,
   "metadata": {},
   "outputs": [
    {
     "data": {
      "text/plain": [
       "dict"
      ]
     },
     "execution_count": 183,
     "metadata": {},
     "output_type": "execute_result"
    }
   ],
   "source": [
    "type(src_lang_tokenizer.word_index)"
   ]
  },
  {
   "cell_type": "code",
   "execution_count": 243,
   "metadata": {},
   "outputs": [],
   "source": [
    "def evaluate(sentence):\n",
    "    attention_plot = np.zeros((max_length_tgt, max_length_src))\n",
    "    sentence = preprocess_sentence(sentence)\n",
    "    \n",
    "    input_tensor = [src_lang_tokenizer.word_index.get(word, 0) for word in sentence.split()]\n",
    "    input_tensor = tf.keras.preprocessing.sequence.pad_sequences([input_tensor], maxlen=max_length_src, padding=\"post\")\n",
    "    \n",
    "    input_tensor = tf.convert_to_tensor(input_tensor)\n",
    "    \n",
    "    result = \"\"\n",
    "    \n",
    "    hidden = tf.zeros((1, units))\n",
    "    enc_out, enc_hidden = encoder(input_tensor, hidden)\n",
    "    \n",
    "    dec_hidden = enc_hidden\n",
    "    dec_input = tf.expand_dims([tgt_lang_tokenizer.word_index[\"<start>\"]], 0)\n",
    "    \n",
    "    for t in range(max_length_tgt):\n",
    "        \n",
    "        predictions, dec_hidden, attention_weights = decoder(dec_input, dec_hidden, enc_out)\n",
    "        \n",
    "        attention_weights = tf.reshape(attention_weights, (-1,))\n",
    "        attention_plot[t] = attention_weights\n",
    "        \n",
    "        predicted_id = tf.argmax(predictions[0]).numpy()\n",
    "        \n",
    "#         print(predicted_id)\n",
    "        \n",
    "        result += tgt_lang_tokenizer.index_word[predicted_id] + \" \"\n",
    "#         print(result)\n",
    "        \n",
    "        if tgt_lang_tokenizer.index_word[predicted_id] == \"<end>\":\n",
    "            return result, sentence, attention_plot\n",
    "        \n",
    "        dec_input = tf.expand_dims([predicted_id], 0)\n",
    "#         print(dec_input.shape)\n",
    "        \n",
    "    return result, sentence, attention_plot"
   ]
  },
  {
   "cell_type": "code",
   "execution_count": 247,
   "metadata": {},
   "outputs": [],
   "source": [
    "def plot_attention(attention, sentence, predicted_sentence):\n",
    "    fig = plt.figure(figsize=(10, 10))\n",
    "    \n",
    "    ax = fig.add_subplot(1, 1, 1)\n",
    "    ax.matshow(attention, cmap=\"viridis\")\n",
    "    \n",
    "    fontdict = {\"fontsize\":14}\n",
    "    \n",
    "    ax.set_xticklabels([\"\"]+sentence, fontdict=fontdict, rotation=90)\n",
    "    ax.set_yticklabels([\"\"]+predicted_sentence, fontdict=fontdict)\n",
    "\n",
    "    ax.xaxis.set_major_locator(ticker.MultipleLocator(1))\n",
    "    ax.yaxis.set_major_locator(ticker.MultipleLocator(1))\n",
    "\n",
    "    plt.show()"
   ]
  },
  {
   "cell_type": "code",
   "execution_count": 248,
   "metadata": {},
   "outputs": [],
   "source": [
    "def translate(sentence):\n",
    "    \n",
    "    result, sentence, attention_plot = evaluate(sentence)\n",
    "    \n",
    "    print(\"Input: {}\".format(sentence))\n",
    "    print(\"Predicted translation: {}\".format(result))\n",
    "    \n",
    "    attention_plot = attention_plot[:len(result.split()), :len(sentence.split())]\n",
    "    plot_attention(attention_plot, sentence.split(), result.split())"
   ]
  },
  {
   "cell_type": "code",
   "execution_count": 249,
   "metadata": {},
   "outputs": [
    {
     "name": "stdout",
     "output_type": "stream",
     "text": [
      "Input: <start> hace mucho frio aqui . <end>\n",
      "Predicted translation: it s very cold here . <end> \n"
     ]
    },
    {
     "data": {
      "image/png": "[encoded data removed]",
      "text/plain": [
       "<Figure size 720x720 with 1 Axes>"
      ]
     },
     "metadata": {
      "needs_background": "light"
     },
     "output_type": "display_data"
    }
   ],
   "source": [
    "translate(u'hace mucho frio aqui.')"
   ]
  },
  {
   "cell_type": "code",
   "execution_count": null,
   "metadata": {},
   "outputs": [],
   "source": []
  }
 ],
 "metadata": {
  "kernelspec": {
   "display_name": "Python 3",
   "language": "python",
   "name": "python3"
  },
  "language_info": {
   "codemirror_mode": {
    "name": "ipython",
    "version": 3
   },
   "file_extension": ".py",
   "mimetype": "text/x-python",
   "name": "python",
   "nbconvert_exporter": "python",
   "pygments_lexer": "ipython3",
   "version": "3.7.7"
  }
 },
 "nbformat": 4,
 "nbformat_minor": 4
}
